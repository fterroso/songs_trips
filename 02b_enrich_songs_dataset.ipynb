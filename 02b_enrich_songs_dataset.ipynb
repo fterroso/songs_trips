{
 "cells": [
  {
   "cell_type": "code",
   "execution_count": 1,
   "id": "3ab8c102",
   "metadata": {},
   "outputs": [],
   "source": [
    "import pandas as pd\n",
    "import os\n",
    "from tqdm.notebook import tqdm\n",
    "import numpy as np\n",
    "import json\n",
    "import datetime\n",
    "\n",
    "import matplotlib.pyplot as plt\n"
   ]
  },
  {
   "cell_type": "markdown",
   "id": "c15ed5bb",
   "metadata": {},
   "source": [
    "Dataset generated in notebook 01"
   ]
  },
  {
   "cell_type": "code",
   "execution_count": 2,
   "id": "16b5c9ea",
   "metadata": {},
   "outputs": [
    {
     "name": "stderr",
     "output_type": "stream",
     "text": [
      "/home/fterroso/.local/lib/python3.8/site-packages/numpy/lib/arraysetops.py:580: FutureWarning: elementwise comparison failed; returning scalar instead, but in the future will perform elementwise comparison\n",
      "  mask |= (ar1 == a)\n"
     ]
    },
    {
     "data": {
      "text/html": [
       "<div>\n",
       "<style scoped>\n",
       "    .dataframe tbody tr th:only-of-type {\n",
       "        vertical-align: middle;\n",
       "    }\n",
       "\n",
       "    .dataframe tbody tr th {\n",
       "        vertical-align: top;\n",
       "    }\n",
       "\n",
       "    .dataframe thead th {\n",
       "        text-align: right;\n",
       "    }\n",
       "</style>\n",
       "<table border=\"1\" class=\"dataframe\">\n",
       "  <thead>\n",
       "    <tr style=\"text-align: right;\">\n",
       "      <th></th>\n",
       "      <th>song_id</th>\n",
       "      <th>num_day</th>\n",
       "      <th>total_countries</th>\n",
       "      <th>current_countries</th>\n",
       "      <th>inc</th>\n",
       "      <th>dec</th>\n",
       "    </tr>\n",
       "  </thead>\n",
       "  <tbody>\n",
       "    <tr>\n",
       "      <th>0</th>\n",
       "      <td>6m2LNopVJKsvBB9l7Z1rwn</td>\n",
       "      <td>1</td>\n",
       "      <td>1</td>\n",
       "      <td>1</td>\n",
       "      <td>1</td>\n",
       "      <td>0</td>\n",
       "    </tr>\n",
       "    <tr>\n",
       "      <th>1</th>\n",
       "      <td>6m2LNopVJKsvBB9l7Z1rwn</td>\n",
       "      <td>2</td>\n",
       "      <td>1</td>\n",
       "      <td>1</td>\n",
       "      <td>0</td>\n",
       "      <td>0</td>\n",
       "    </tr>\n",
       "    <tr>\n",
       "      <th>2</th>\n",
       "      <td>6m2LNopVJKsvBB9l7Z1rwn</td>\n",
       "      <td>3</td>\n",
       "      <td>1</td>\n",
       "      <td>1</td>\n",
       "      <td>0</td>\n",
       "      <td>0</td>\n",
       "    </tr>\n",
       "    <tr>\n",
       "      <th>3</th>\n",
       "      <td>6m2LNopVJKsvBB9l7Z1rwn</td>\n",
       "      <td>4</td>\n",
       "      <td>1</td>\n",
       "      <td>1</td>\n",
       "      <td>0</td>\n",
       "      <td>0</td>\n",
       "    </tr>\n",
       "    <tr>\n",
       "      <th>4</th>\n",
       "      <td>6m2LNopVJKsvBB9l7Z1rwn</td>\n",
       "      <td>5</td>\n",
       "      <td>1</td>\n",
       "      <td>1</td>\n",
       "      <td>0</td>\n",
       "      <td>0</td>\n",
       "    </tr>\n",
       "  </tbody>\n",
       "</table>\n",
       "</div>"
      ],
      "text/plain": [
       "                  song_id  num_day  total_countries  current_countries  inc  \\\n",
       "0  6m2LNopVJKsvBB9l7Z1rwn        1                1                  1    1   \n",
       "1  6m2LNopVJKsvBB9l7Z1rwn        2                1                  1    0   \n",
       "2  6m2LNopVJKsvBB9l7Z1rwn        3                1                  1    0   \n",
       "3  6m2LNopVJKsvBB9l7Z1rwn        4                1                  1    0   \n",
       "4  6m2LNopVJKsvBB9l7Z1rwn        5                1                  1    0   \n",
       "\n",
       "   dec  \n",
       "0    0  \n",
       "1    0  \n",
       "2    0  \n",
       "3    0  \n",
       "4    0  "
      ]
     },
     "execution_count": 2,
     "metadata": {},
     "output_type": "execute_result"
    }
   ],
   "source": [
    "songs_clean_ts= pd.read_csv(os.path.join('data', 'songs_timeseries_2017_2022.csv'), index_col=0)\n",
    "songs_clean_ts.head()"
   ]
  },
  {
   "cell_type": "code",
   "execution_count": 3,
   "id": "926369c1",
   "metadata": {},
   "outputs": [
    {
     "name": "stdout",
     "output_type": "stream",
     "text": [
      "Number of songs under consideration: 8467\n"
     ]
    }
   ],
   "source": [
    "songs_to_keep = songs_clean_ts['song_id'].unique().tolist()\n",
    "\n",
    "print(f'Number of songs under consideration: {len(songs_to_keep)}')"
   ]
  },
  {
   "cell_type": "markdown",
   "id": "159aa7c2",
   "metadata": {},
   "source": [
    "Dataset generated in notebook 01"
   ]
  },
  {
   "cell_type": "code",
   "execution_count": 4,
   "id": "861fda56",
   "metadata": {},
   "outputs": [
    {
     "name": "stderr",
     "output_type": "stream",
     "text": [
      "/home/fterroso/.local/lib/python3.8/site-packages/numpy/lib/arraysetops.py:580: FutureWarning: elementwise comparison failed; returning scalar instead, but in the future will perform elementwise comparison\n",
      "  mask |= (ar1 == a)\n"
     ]
    },
    {
     "data": {
      "text/html": [
       "<div>\n",
       "<style scoped>\n",
       "    .dataframe tbody tr th:only-of-type {\n",
       "        vertical-align: middle;\n",
       "    }\n",
       "\n",
       "    .dataframe tbody tr th {\n",
       "        vertical-align: top;\n",
       "    }\n",
       "\n",
       "    .dataframe thead th {\n",
       "        text-align: right;\n",
       "    }\n",
       "</style>\n",
       "<table border=\"1\" class=\"dataframe\">\n",
       "  <thead>\n",
       "    <tr style=\"text-align: right;\">\n",
       "      <th></th>\n",
       "      <th>Position</th>\n",
       "      <th>Track Name</th>\n",
       "      <th>Artist</th>\n",
       "      <th>Streams</th>\n",
       "      <th>Date</th>\n",
       "      <th>Region</th>\n",
       "      <th>song_id</th>\n",
       "      <th>release_date</th>\n",
       "    </tr>\n",
       "  </thead>\n",
       "  <tbody>\n",
       "    <tr>\n",
       "      <th>16</th>\n",
       "      <td>17</td>\n",
       "      <td>Olha a Explosão</td>\n",
       "      <td>MC Kevinho</td>\n",
       "      <td>12388</td>\n",
       "      <td>2018-01-01</td>\n",
       "      <td>Ecuador</td>\n",
       "      <td>6m2LNopVJKsvBB9l7Z1rwn</td>\n",
       "      <td>2017-01-01</td>\n",
       "    </tr>\n",
       "    <tr>\n",
       "      <th>19</th>\n",
       "      <td>20</td>\n",
       "      <td>Besame</td>\n",
       "      <td>Valentino, Manuel Turizo</td>\n",
       "      <td>11127</td>\n",
       "      <td>2018-01-01</td>\n",
       "      <td>Ecuador</td>\n",
       "      <td>7Ckhk1XW5NV2k4jpqtQNlz</td>\n",
       "      <td>2017-06-03</td>\n",
       "    </tr>\n",
       "    <tr>\n",
       "      <th>22</th>\n",
       "      <td>23</td>\n",
       "      <td>Una Lady Como Tú</td>\n",
       "      <td>Manuel Turizo</td>\n",
       "      <td>10766</td>\n",
       "      <td>2018-01-01</td>\n",
       "      <td>Ecuador</td>\n",
       "      <td>7MHN1aCFtLXjownGhvEQlF</td>\n",
       "      <td>2017-04-12</td>\n",
       "    </tr>\n",
       "    <tr>\n",
       "      <th>25</th>\n",
       "      <td>26</td>\n",
       "      <td>Scooby Doo Pa Pa</td>\n",
       "      <td>Dj Kass</td>\n",
       "      <td>9879</td>\n",
       "      <td>2018-01-01</td>\n",
       "      <td>Ecuador</td>\n",
       "      <td>1xndOD8CreR5ctkOv5G1LN</td>\n",
       "      <td>2017-12-08</td>\n",
       "    </tr>\n",
       "    <tr>\n",
       "      <th>28</th>\n",
       "      <td>29</td>\n",
       "      <td>Déjate Llevar</td>\n",
       "      <td>Juan Magán, Belinda, Manuel Turizo, Snova, B-Case</td>\n",
       "      <td>8995</td>\n",
       "      <td>2018-01-01</td>\n",
       "      <td>Ecuador</td>\n",
       "      <td>3xWEI23MLJrD0dpDcDUTW6</td>\n",
       "      <td>2017-11-28</td>\n",
       "    </tr>\n",
       "  </tbody>\n",
       "</table>\n",
       "</div>"
      ],
      "text/plain": [
       "    Position        Track Name  \\\n",
       "16        17   Olha a Explosão   \n",
       "19        20            Besame   \n",
       "22        23  Una Lady Como Tú   \n",
       "25        26  Scooby Doo Pa Pa   \n",
       "28        29     Déjate Llevar   \n",
       "\n",
       "                                               Artist  Streams       Date  \\\n",
       "16                                         MC Kevinho    12388 2018-01-01   \n",
       "19                           Valentino, Manuel Turizo    11127 2018-01-01   \n",
       "22                                      Manuel Turizo    10766 2018-01-01   \n",
       "25                                            Dj Kass     9879 2018-01-01   \n",
       "28  Juan Magán, Belinda, Manuel Turizo, Snova, B-Case     8995 2018-01-01   \n",
       "\n",
       "     Region                 song_id release_date  \n",
       "16  Ecuador  6m2LNopVJKsvBB9l7Z1rwn   2017-01-01  \n",
       "19  Ecuador  7Ckhk1XW5NV2k4jpqtQNlz   2017-06-03  \n",
       "22  Ecuador  7MHN1aCFtLXjownGhvEQlF   2017-04-12  \n",
       "25  Ecuador  1xndOD8CreR5ctkOv5G1LN   2017-12-08  \n",
       "28  Ecuador  3xWEI23MLJrD0dpDcDUTW6   2017-11-28  "
      ]
     },
     "execution_count": 4,
     "metadata": {},
     "output_type": "execute_result"
    }
   ],
   "source": [
    "ranking_df= pd.read_csv(os.path.join('data', 'clean_ranking_2017_2022.csv'), index_col=0, parse_dates=['Date', 'release_date'])\n",
    "clean_ranking_df= ranking_df[ranking_df['song_id'].isin(songs_to_keep)]\n",
    "clean_ranking_df.head()"
   ]
  },
  {
   "cell_type": "code",
   "execution_count": 5,
   "id": "23f8b7ea",
   "metadata": {},
   "outputs": [],
   "source": [
    "clean_ranking_df = clean_ranking_df[clean_ranking_df['Region']!='World']"
   ]
  },
  {
   "cell_type": "code",
   "execution_count": 6,
   "id": "28245e01",
   "metadata": {},
   "outputs": [
    {
     "data": {
      "text/plain": [
       "array(['Ecuador', 'Portugal', 'Panama', 'Italy', 'Germany', 'Finland',\n",
       "       'Estonia', 'Hungary', 'Spain', 'Peru', 'Slovakia', 'Ireland',\n",
       "       'Indonesia', 'Iceland', 'Brazil', 'Canada', 'Belgium', 'Uruguay',\n",
       "       'CostaRica', 'Malaysia', 'Mexico', 'France', 'Argentina', 'Norway',\n",
       "       'Lithuania', 'Philippines', 'Taiwan', 'NewZealand', 'Turkey',\n",
       "       'USA', 'ElSalvador', 'Chile', 'Japan', 'Honduras', 'Guatemala',\n",
       "       'Switzerland', 'Denmark', 'Bolivia', 'Poland', 'Austria', 'Sweden',\n",
       "       'CzechRepublic', 'Netherlands', 'Columbia', 'Singapore',\n",
       "       'DominicanRepublic', 'Luxemborg', 'UnitedKingdom', 'Paraguay',\n",
       "       'Australia', 'Latvia', 'Greece', 'HongKong', 'Russia',\n",
       "       'UnitedArabEmirates', 'Belarus', 'India', 'SouthAfrica', 'Romania',\n",
       "       'Ukraine', 'Egypt', 'Nigeria', 'Korea', 'Kazakhstan',\n",
       "       'SaudiArabia', 'Nicaragua', 'Marocco', 'Israel', 'Bulgaria',\n",
       "       'Vietnam'], dtype=object)"
      ]
     },
     "execution_count": 6,
     "metadata": {},
     "output_type": "execute_result"
    }
   ],
   "source": [
    "clean_ranking_df['Region'].unique()"
   ]
  },
  {
   "cell_type": "code",
   "execution_count": 7,
   "id": "85d0b040",
   "metadata": {},
   "outputs": [
    {
     "name": "stdout",
     "output_type": "stream",
     "text": [
      "<class 'pandas.core.frame.DataFrame'>\n",
      "Int64Index: 2749683 entries, 16 to 22869852\n",
      "Data columns (total 8 columns):\n",
      " #   Column        Dtype         \n",
      "---  ------        -----         \n",
      " 0   Position      int64         \n",
      " 1   Track Name    object        \n",
      " 2   Artist        object        \n",
      " 3   Streams       int64         \n",
      " 4   Date          datetime64[ns]\n",
      " 5   Region        object        \n",
      " 6   song_id       object        \n",
      " 7   release_date  datetime64[ns]\n",
      "dtypes: datetime64[ns](2), int64(2), object(4)\n",
      "memory usage: 188.8+ MB\n"
     ]
    }
   ],
   "source": [
    "clean_ranking_df.info()"
   ]
  },
  {
   "cell_type": "code",
   "execution_count": 8,
   "id": "5002bedd",
   "metadata": {},
   "outputs": [],
   "source": [
    "initial_date= datetime.datetime(2017, 1, 1)\n",
    "def get_day_of_study_fn(d):\n",
    "    return (d-initial_date).days "
   ]
  },
  {
   "cell_type": "code",
   "execution_count": 9,
   "id": "26dfec60",
   "metadata": {},
   "outputs": [],
   "source": [
    "clean_ranking_df['day_of_study'] = clean_ranking_df['Date'].apply(get_day_of_study_fn)\n",
    "clean_ranking_df['release_month'] = clean_ranking_df['release_date'].dt.month"
   ]
  },
  {
   "cell_type": "code",
   "execution_count": 10,
   "id": "cb70f1e1",
   "metadata": {},
   "outputs": [
    {
     "data": {
      "text/html": [
       "<div>\n",
       "<style scoped>\n",
       "    .dataframe tbody tr th:only-of-type {\n",
       "        vertical-align: middle;\n",
       "    }\n",
       "\n",
       "    .dataframe tbody tr th {\n",
       "        vertical-align: top;\n",
       "    }\n",
       "\n",
       "    .dataframe thead th {\n",
       "        text-align: right;\n",
       "    }\n",
       "</style>\n",
       "<table border=\"1\" class=\"dataframe\">\n",
       "  <thead>\n",
       "    <tr style=\"text-align: right;\">\n",
       "      <th></th>\n",
       "      <th>Position</th>\n",
       "      <th>Track Name</th>\n",
       "      <th>Artist</th>\n",
       "      <th>Streams</th>\n",
       "      <th>Date</th>\n",
       "      <th>Region</th>\n",
       "      <th>song_id</th>\n",
       "      <th>release_date</th>\n",
       "      <th>day_of_study</th>\n",
       "      <th>release_month</th>\n",
       "    </tr>\n",
       "  </thead>\n",
       "  <tbody>\n",
       "    <tr>\n",
       "      <th>16</th>\n",
       "      <td>17</td>\n",
       "      <td>Olha a Explosão</td>\n",
       "      <td>MC Kevinho</td>\n",
       "      <td>12388</td>\n",
       "      <td>2018-01-01</td>\n",
       "      <td>Ecuador</td>\n",
       "      <td>6m2LNopVJKsvBB9l7Z1rwn</td>\n",
       "      <td>2017-01-01</td>\n",
       "      <td>365</td>\n",
       "      <td>1</td>\n",
       "    </tr>\n",
       "    <tr>\n",
       "      <th>19</th>\n",
       "      <td>20</td>\n",
       "      <td>Besame</td>\n",
       "      <td>Valentino, Manuel Turizo</td>\n",
       "      <td>11127</td>\n",
       "      <td>2018-01-01</td>\n",
       "      <td>Ecuador</td>\n",
       "      <td>7Ckhk1XW5NV2k4jpqtQNlz</td>\n",
       "      <td>2017-06-03</td>\n",
       "      <td>365</td>\n",
       "      <td>6</td>\n",
       "    </tr>\n",
       "    <tr>\n",
       "      <th>22</th>\n",
       "      <td>23</td>\n",
       "      <td>Una Lady Como Tú</td>\n",
       "      <td>Manuel Turizo</td>\n",
       "      <td>10766</td>\n",
       "      <td>2018-01-01</td>\n",
       "      <td>Ecuador</td>\n",
       "      <td>7MHN1aCFtLXjownGhvEQlF</td>\n",
       "      <td>2017-04-12</td>\n",
       "      <td>365</td>\n",
       "      <td>4</td>\n",
       "    </tr>\n",
       "    <tr>\n",
       "      <th>25</th>\n",
       "      <td>26</td>\n",
       "      <td>Scooby Doo Pa Pa</td>\n",
       "      <td>Dj Kass</td>\n",
       "      <td>9879</td>\n",
       "      <td>2018-01-01</td>\n",
       "      <td>Ecuador</td>\n",
       "      <td>1xndOD8CreR5ctkOv5G1LN</td>\n",
       "      <td>2017-12-08</td>\n",
       "      <td>365</td>\n",
       "      <td>12</td>\n",
       "    </tr>\n",
       "    <tr>\n",
       "      <th>28</th>\n",
       "      <td>29</td>\n",
       "      <td>Déjate Llevar</td>\n",
       "      <td>Juan Magán, Belinda, Manuel Turizo, Snova, B-Case</td>\n",
       "      <td>8995</td>\n",
       "      <td>2018-01-01</td>\n",
       "      <td>Ecuador</td>\n",
       "      <td>3xWEI23MLJrD0dpDcDUTW6</td>\n",
       "      <td>2017-11-28</td>\n",
       "      <td>365</td>\n",
       "      <td>11</td>\n",
       "    </tr>\n",
       "  </tbody>\n",
       "</table>\n",
       "</div>"
      ],
      "text/plain": [
       "    Position        Track Name  \\\n",
       "16        17   Olha a Explosão   \n",
       "19        20            Besame   \n",
       "22        23  Una Lady Como Tú   \n",
       "25        26  Scooby Doo Pa Pa   \n",
       "28        29     Déjate Llevar   \n",
       "\n",
       "                                               Artist  Streams       Date  \\\n",
       "16                                         MC Kevinho    12388 2018-01-01   \n",
       "19                           Valentino, Manuel Turizo    11127 2018-01-01   \n",
       "22                                      Manuel Turizo    10766 2018-01-01   \n",
       "25                                            Dj Kass     9879 2018-01-01   \n",
       "28  Juan Magán, Belinda, Manuel Turizo, Snova, B-Case     8995 2018-01-01   \n",
       "\n",
       "     Region                 song_id release_date  day_of_study  release_month  \n",
       "16  Ecuador  6m2LNopVJKsvBB9l7Z1rwn   2017-01-01           365              1  \n",
       "19  Ecuador  7Ckhk1XW5NV2k4jpqtQNlz   2017-06-03           365              6  \n",
       "22  Ecuador  7MHN1aCFtLXjownGhvEQlF   2017-04-12           365              4  \n",
       "25  Ecuador  1xndOD8CreR5ctkOv5G1LN   2017-12-08           365             12  \n",
       "28  Ecuador  3xWEI23MLJrD0dpDcDUTW6   2017-11-28           365             11  "
      ]
     },
     "execution_count": 10,
     "metadata": {},
     "output_type": "execute_result"
    }
   ],
   "source": [
    "clean_ranking_df.head()"
   ]
  },
  {
   "cell_type": "code",
   "execution_count": 11,
   "id": "c69752f4",
   "metadata": {},
   "outputs": [],
   "source": [
    "clean_ranking_df.to_csv(os.path.join('data','clean_ranking_2017_2022_v2.csv'))"
   ]
  },
  {
   "cell_type": "code",
   "execution_count": 12,
   "id": "64f5fd4c",
   "metadata": {
    "scrolled": true
   },
   "outputs": [
    {
     "data": {
      "text/plain": [
       "song_id                 Region       \n",
       "007d7JT41sSc1HqWTs4uw7  Australia       2017-03-08\n",
       "                        Ireland         2017-04-19\n",
       "                        Malaysia        2017-03-08\n",
       "                        Philippines     2017-02-14\n",
       "                        Singapore       2017-03-08\n",
       "                                           ...    \n",
       "7zxd3J5hMPeLN71VS8vnE4  Latvia          2017-12-24\n",
       "                        NewZealand      2017-12-24\n",
       "                        Poland          2017-12-24\n",
       "                        Taiwan          2017-12-25\n",
       "                        UnitedKingdom   2017-12-25\n",
       "Name: Date, Length: 38649, dtype: datetime64[ns]"
      ]
     },
     "execution_count": 12,
     "metadata": {},
     "output_type": "execute_result"
    }
   ],
   "source": [
    "clean_ranking_df.groupby(['song_id','Region'])['Date'].max()"
   ]
  },
  {
   "cell_type": "code",
   "execution_count": 13,
   "id": "87af27e3",
   "metadata": {},
   "outputs": [
    {
     "data": {
      "text/html": [
       "<div>\n",
       "<style scoped>\n",
       "    .dataframe tbody tr th:only-of-type {\n",
       "        vertical-align: middle;\n",
       "    }\n",
       "\n",
       "    .dataframe tbody tr th {\n",
       "        vertical-align: top;\n",
       "    }\n",
       "\n",
       "    .dataframe thead th {\n",
       "        text-align: right;\n",
       "    }\n",
       "</style>\n",
       "<table border=\"1\" class=\"dataframe\">\n",
       "  <thead>\n",
       "    <tr style=\"text-align: right;\">\n",
       "      <th></th>\n",
       "      <th></th>\n",
       "      <th>max_date</th>\n",
       "    </tr>\n",
       "    <tr>\n",
       "      <th>song_id</th>\n",
       "      <th>Region</th>\n",
       "      <th></th>\n",
       "    </tr>\n",
       "  </thead>\n",
       "  <tbody>\n",
       "    <tr>\n",
       "      <th rowspan=\"5\" valign=\"top\">007d7JT41sSc1HqWTs4uw7</th>\n",
       "      <th>Australia</th>\n",
       "      <td>2017-03-08</td>\n",
       "    </tr>\n",
       "    <tr>\n",
       "      <th>Ireland</th>\n",
       "      <td>2017-04-19</td>\n",
       "    </tr>\n",
       "    <tr>\n",
       "      <th>Malaysia</th>\n",
       "      <td>2017-03-08</td>\n",
       "    </tr>\n",
       "    <tr>\n",
       "      <th>Philippines</th>\n",
       "      <td>2017-02-14</td>\n",
       "    </tr>\n",
       "    <tr>\n",
       "      <th>Singapore</th>\n",
       "      <td>2017-03-08</td>\n",
       "    </tr>\n",
       "  </tbody>\n",
       "</table>\n",
       "</div>"
      ],
      "text/plain": [
       "                                     max_date\n",
       "song_id                Region                \n",
       "007d7JT41sSc1HqWTs4uw7 Australia   2017-03-08\n",
       "                       Ireland     2017-04-19\n",
       "                       Malaysia    2017-03-08\n",
       "                       Philippines 2017-02-14\n",
       "                       Singapore   2017-03-08"
      ]
     },
     "execution_count": 13,
     "metadata": {},
     "output_type": "execute_result"
    }
   ],
   "source": [
    "song_max_dates_df =clean_ranking_df.groupby(['song_id','Region'])['Date'].max().to_frame()\n",
    "song_max_dates_df.columns = ['max_date']\n",
    "song_max_dates_df.head()"
   ]
  },
  {
   "cell_type": "code",
   "execution_count": 14,
   "id": "09f0c9ac",
   "metadata": {
    "scrolled": true
   },
   "outputs": [
    {
     "data": {
      "text/html": [
       "<div>\n",
       "<style scoped>\n",
       "    .dataframe tbody tr th:only-of-type {\n",
       "        vertical-align: middle;\n",
       "    }\n",
       "\n",
       "    .dataframe tbody tr th {\n",
       "        vertical-align: top;\n",
       "    }\n",
       "\n",
       "    .dataframe thead th {\n",
       "        text-align: right;\n",
       "    }\n",
       "</style>\n",
       "<table border=\"1\" class=\"dataframe\">\n",
       "  <thead>\n",
       "    <tr style=\"text-align: right;\">\n",
       "      <th></th>\n",
       "      <th></th>\n",
       "      <th>min_date</th>\n",
       "      <th>max_date</th>\n",
       "      <th>num_days_in_list</th>\n",
       "    </tr>\n",
       "    <tr>\n",
       "      <th>song_id</th>\n",
       "      <th>Region</th>\n",
       "      <th></th>\n",
       "      <th></th>\n",
       "      <th></th>\n",
       "    </tr>\n",
       "  </thead>\n",
       "  <tbody>\n",
       "    <tr>\n",
       "      <th rowspan=\"5\" valign=\"top\">007d7JT41sSc1HqWTs4uw7</th>\n",
       "      <th>Australia</th>\n",
       "      <td>2017-03-08</td>\n",
       "      <td>2017-03-08</td>\n",
       "      <td>0</td>\n",
       "    </tr>\n",
       "    <tr>\n",
       "      <th>Ireland</th>\n",
       "      <td>2017-02-07</td>\n",
       "      <td>2017-04-19</td>\n",
       "      <td>71</td>\n",
       "    </tr>\n",
       "    <tr>\n",
       "      <th>Malaysia</th>\n",
       "      <td>2017-03-08</td>\n",
       "      <td>2017-03-08</td>\n",
       "      <td>0</td>\n",
       "    </tr>\n",
       "    <tr>\n",
       "      <th>Philippines</th>\n",
       "      <td>2017-02-14</td>\n",
       "      <td>2017-02-14</td>\n",
       "      <td>0</td>\n",
       "    </tr>\n",
       "    <tr>\n",
       "      <th>Singapore</th>\n",
       "      <td>2017-03-08</td>\n",
       "      <td>2017-03-08</td>\n",
       "      <td>0</td>\n",
       "    </tr>\n",
       "  </tbody>\n",
       "</table>\n",
       "</div>"
      ],
      "text/plain": [
       "                                     min_date   max_date  num_days_in_list\n",
       "song_id                Region                                             \n",
       "007d7JT41sSc1HqWTs4uw7 Australia   2017-03-08 2017-03-08                 0\n",
       "                       Ireland     2017-02-07 2017-04-19                71\n",
       "                       Malaysia    2017-03-08 2017-03-08                 0\n",
       "                       Philippines 2017-02-14 2017-02-14                 0\n",
       "                       Singapore   2017-03-08 2017-03-08                 0"
      ]
     },
     "execution_count": 14,
     "metadata": {},
     "output_type": "execute_result"
    }
   ],
   "source": [
    "song_dates_df =clean_ranking_df.groupby(['song_id','Region'])['Date'].min().to_frame()\n",
    "song_dates_df.columns = ['min_date']\n",
    "song_dates_df['max_date'] = song_max_dates_df['max_date']\n",
    "song_dates_df['num_days_in_list'] = (song_dates_df['max_date']-song_dates_df['min_date']).dt.days\n",
    "\n",
    "song_dates_df.head()"
   ]
  },
  {
   "cell_type": "code",
   "execution_count": 15,
   "id": "55e5f176",
   "metadata": {},
   "outputs": [
    {
     "name": "stdout",
     "output_type": "stream",
     "text": [
      "<class 'pandas.core.frame.DataFrame'>\n",
      "MultiIndex: 38649 entries, ('007d7JT41sSc1HqWTs4uw7', 'Australia') to ('7zxd3J5hMPeLN71VS8vnE4', 'UnitedKingdom')\n",
      "Data columns (total 3 columns):\n",
      " #   Column            Non-Null Count  Dtype         \n",
      "---  ------            --------------  -----         \n",
      " 0   min_date          38649 non-null  datetime64[ns]\n",
      " 1   max_date          38649 non-null  datetime64[ns]\n",
      " 2   num_days_in_list  38649 non-null  int64         \n",
      "dtypes: datetime64[ns](2), int64(1)\n",
      "memory usage: 1.1+ MB\n"
     ]
    }
   ],
   "source": [
    "song_dates_df.info()"
   ]
  },
  {
   "cell_type": "code",
   "execution_count": 16,
   "id": "6500df2c",
   "metadata": {},
   "outputs": [
    {
     "data": {
      "text/plain": [
       "count    38649.000000\n",
       "mean       203.796761\n",
       "std        381.052382\n",
       "min          0.000000\n",
       "25%          4.000000\n",
       "50%         40.000000\n",
       "75%        199.000000\n",
       "max       1982.000000\n",
       "Name: num_days_in_list, dtype: float64"
      ]
     },
     "execution_count": 16,
     "metadata": {},
     "output_type": "execute_result"
    }
   ],
   "source": [
    "song_dates_df['num_days_in_list'].describe()"
   ]
  },
  {
   "cell_type": "code",
   "execution_count": 17,
   "id": "e5d82260",
   "metadata": {},
   "outputs": [
    {
     "data": {
      "image/png": "[encoded data removed]",
      "text/plain": [
       "<Figure size 432x288 with 1 Axes>"
      ]
     },
     "metadata": {
      "needs_background": "light"
     },
     "output_type": "display_data"
    }
   ],
   "source": [
    "song_dates_df['num_days_in_list'].plot.kde(grid=True);"
   ]
  },
  {
   "cell_type": "code",
   "execution_count": 18,
   "id": "db365c99",
   "metadata": {},
   "outputs": [
    {
     "data": {
      "image/png": "[encoded data removed]",
      "text/plain": [
       "<Figure size 432x288 with 1 Axes>"
      ]
     },
     "metadata": {
      "needs_background": "light"
     },
     "output_type": "display_data"
    }
   ],
   "source": [
    "song_dates_df['num_days_in_list'].value_counts(bins=20, normalize=True).plot(kind='bar', grid=True);"
   ]
  },
  {
   "cell_type": "code",
   "execution_count": 19,
   "id": "6d30b363",
   "metadata": {},
   "outputs": [],
   "source": [
    "song_dates_df.to_csv(os.path.join('data', 'songs_dates_2017_2022.csv'))"
   ]
  },
  {
   "cell_type": "code",
   "execution_count": 20,
   "id": "f4bf6a61",
   "metadata": {},
   "outputs": [],
   "source": [
    "song_dates_df['num_weeks_in_list'] = song_dates_df['num_days_in_list']/7\n"
   ]
  },
  {
   "cell_type": "code",
   "execution_count": 22,
   "id": "f23ac209",
   "metadata": {},
   "outputs": [
    {
     "data": {
      "text/html": [
       "<div>\n",
       "<style scoped>\n",
       "    .dataframe tbody tr th:only-of-type {\n",
       "        vertical-align: middle;\n",
       "    }\n",
       "\n",
       "    .dataframe tbody tr th {\n",
       "        vertical-align: top;\n",
       "    }\n",
       "\n",
       "    .dataframe thead th {\n",
       "        text-align: right;\n",
       "    }\n",
       "</style>\n",
       "<table border=\"1\" class=\"dataframe\">\n",
       "  <thead>\n",
       "    <tr style=\"text-align: right;\">\n",
       "      <th></th>\n",
       "      <th>num_days_in_list</th>\n",
       "      <th>num_weeks_in_list</th>\n",
       "    </tr>\n",
       "  </thead>\n",
       "  <tbody>\n",
       "    <tr>\n",
       "      <th>count</th>\n",
       "      <td>38649.000000</td>\n",
       "      <td>38649.000000</td>\n",
       "    </tr>\n",
       "    <tr>\n",
       "      <th>mean</th>\n",
       "      <td>203.796761</td>\n",
       "      <td>29.113823</td>\n",
       "    </tr>\n",
       "    <tr>\n",
       "      <th>std</th>\n",
       "      <td>381.052382</td>\n",
       "      <td>54.436055</td>\n",
       "    </tr>\n",
       "    <tr>\n",
       "      <th>min</th>\n",
       "      <td>0.000000</td>\n",
       "      <td>0.000000</td>\n",
       "    </tr>\n",
       "    <tr>\n",
       "      <th>25%</th>\n",
       "      <td>4.000000</td>\n",
       "      <td>0.571429</td>\n",
       "    </tr>\n",
       "    <tr>\n",
       "      <th>50%</th>\n",
       "      <td>40.000000</td>\n",
       "      <td>5.714286</td>\n",
       "    </tr>\n",
       "    <tr>\n",
       "      <th>75%</th>\n",
       "      <td>199.000000</td>\n",
       "      <td>28.428571</td>\n",
       "    </tr>\n",
       "    <tr>\n",
       "      <th>max</th>\n",
       "      <td>1982.000000</td>\n",
       "      <td>283.142857</td>\n",
       "    </tr>\n",
       "  </tbody>\n",
       "</table>\n",
       "</div>"
      ],
      "text/plain": [
       "       num_days_in_list  num_weeks_in_list\n",
       "count      38649.000000       38649.000000\n",
       "mean         203.796761          29.113823\n",
       "std          381.052382          54.436055\n",
       "min            0.000000           0.000000\n",
       "25%            4.000000           0.571429\n",
       "50%           40.000000           5.714286\n",
       "75%          199.000000          28.428571\n",
       "max         1982.000000         283.142857"
      ]
     },
     "execution_count": 22,
     "metadata": {},
     "output_type": "execute_result"
    }
   ],
   "source": [
    "song_dates_df.describe()"
   ]
  },
  {
   "cell_type": "code",
   "execution_count": 23,
   "id": "c4ed5e73",
   "metadata": {},
   "outputs": [
    {
     "name": "stderr",
     "output_type": "stream",
     "text": [
      "/tmp/ipykernel_3300353/1133952881.py:1: FutureWarning: DataFrame.mean and DataFrame.median with numeric_only=None will include datetime64 and datetime64tz columns in a future version.\n",
      "  song_dates_df.median()\n"
     ]
    },
    {
     "data": {
      "text/plain": [
       "num_days_in_list     40.000000\n",
       "num_weeks_in_list     5.714286\n",
       "dtype: float64"
      ]
     },
     "execution_count": 23,
     "metadata": {},
     "output_type": "execute_result"
    }
   ],
   "source": [
    "song_dates_df.median()"
   ]
  }
 ],
 "metadata": {
  "kernelspec": {
   "display_name": "Python 3 (ipykernel)",
   "language": "python",
   "name": "python3"
  },
  "language_info": {
   "codemirror_mode": {
    "name": "ipython",
    "version": 3
   },
   "file_extension": ".py",
   "mimetype": "text/x-python",
   "name": "python",
   "nbconvert_exporter": "python",
   "pygments_lexer": "ipython3",
   "version": "3.8.10"
  }
 },
 "nbformat": 4,
 "nbformat_minor": 5
}
