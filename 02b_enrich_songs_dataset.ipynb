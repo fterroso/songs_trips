{
 "cells": [
  {
   "cell_type": "code",
   "execution_count": 5,
   "id": "3ab8c102",
   "metadata": {},
   "outputs": [],
   "source": [
    "import pandas as pd\n",
    "import os\n",
    "from tqdm.notebook import tqdm\n",
    "import numpy as np\n",
    "import json\n",
    "import datetime\n",
    "\n",
    "import matplotlib.pyplot as plt\n"
   ]
  },
  {
   "cell_type": "code",
   "execution_count": 6,
   "id": "16b5c9ea",
   "metadata": {},
   "outputs": [
    {
     "data": {
      "text/html": [
       "<div>\n",
       "<style scoped>\n",
       "    .dataframe tbody tr th:only-of-type {\n",
       "        vertical-align: middle;\n",
       "    }\n",
       "\n",
       "    .dataframe tbody tr th {\n",
       "        vertical-align: top;\n",
       "    }\n",
       "\n",
       "    .dataframe thead th {\n",
       "        text-align: right;\n",
       "    }\n",
       "</style>\n",
       "<table border=\"1\" class=\"dataframe\">\n",
       "  <thead>\n",
       "    <tr style=\"text-align: right;\">\n",
       "      <th></th>\n",
       "      <th>song_id</th>\n",
       "      <th>num_day</th>\n",
       "      <th>total_countries</th>\n",
       "      <th>current_countries</th>\n",
       "      <th>inc</th>\n",
       "      <th>dec</th>\n",
       "    </tr>\n",
       "  </thead>\n",
       "  <tbody>\n",
       "    <tr>\n",
       "      <th>0</th>\n",
       "      <td>4O4Z8VFczL8MxIOmqVWc1b</td>\n",
       "      <td>1</td>\n",
       "      <td>1</td>\n",
       "      <td>1</td>\n",
       "      <td>1</td>\n",
       "      <td>0</td>\n",
       "    </tr>\n",
       "    <tr>\n",
       "      <th>1</th>\n",
       "      <td>4O4Z8VFczL8MxIOmqVWc1b</td>\n",
       "      <td>2</td>\n",
       "      <td>2</td>\n",
       "      <td>1</td>\n",
       "      <td>1</td>\n",
       "      <td>1</td>\n",
       "    </tr>\n",
       "    <tr>\n",
       "      <th>2</th>\n",
       "      <td>4O4Z8VFczL8MxIOmqVWc1b</td>\n",
       "      <td>3</td>\n",
       "      <td>2</td>\n",
       "      <td>1</td>\n",
       "      <td>0</td>\n",
       "      <td>1</td>\n",
       "    </tr>\n",
       "    <tr>\n",
       "      <th>3</th>\n",
       "      <td>4O4Z8VFczL8MxIOmqVWc1b</td>\n",
       "      <td>4</td>\n",
       "      <td>2</td>\n",
       "      <td>1</td>\n",
       "      <td>0</td>\n",
       "      <td>1</td>\n",
       "    </tr>\n",
       "    <tr>\n",
       "      <th>4</th>\n",
       "      <td>4O4Z8VFczL8MxIOmqVWc1b</td>\n",
       "      <td>5</td>\n",
       "      <td>2</td>\n",
       "      <td>1</td>\n",
       "      <td>0</td>\n",
       "      <td>1</td>\n",
       "    </tr>\n",
       "  </tbody>\n",
       "</table>\n",
       "</div>"
      ],
      "text/plain": [
       "                  song_id  num_day  total_countries  current_countries  inc  \\\n",
       "0  4O4Z8VFczL8MxIOmqVWc1b        1                1                  1    1   \n",
       "1  4O4Z8VFczL8MxIOmqVWc1b        2                2                  1    1   \n",
       "2  4O4Z8VFczL8MxIOmqVWc1b        3                2                  1    0   \n",
       "3  4O4Z8VFczL8MxIOmqVWc1b        4                2                  1    0   \n",
       "4  4O4Z8VFczL8MxIOmqVWc1b        5                2                  1    0   \n",
       "\n",
       "   dec  \n",
       "0    0  \n",
       "1    1  \n",
       "2    1  \n",
       "3    1  \n",
       "4    1  "
      ]
     },
     "execution_count": 6,
     "metadata": {},
     "output_type": "execute_result"
    }
   ],
   "source": [
    "songs_clean_ts= pd.read_csv(os.path.join('data', 'songs_timeseries_2017_2021.csv'), index_col=0)\n",
    "songs_clean_ts.head()"
   ]
  },
  {
   "cell_type": "code",
   "execution_count": 7,
   "id": "926369c1",
   "metadata": {},
   "outputs": [
    {
     "name": "stdout",
     "output_type": "stream",
     "text": [
      "Number of songs under consideration: 4363\n"
     ]
    }
   ],
   "source": [
    "songs_to_keep = songs_clean_ts['song_id'].unique().tolist()\n",
    "\n",
    "print(f'Number of songs under consideration: {len(songs_to_keep)}')"
   ]
  },
  {
   "cell_type": "markdown",
   "id": "159aa7c2",
   "metadata": {},
   "source": [
    "Dataset generated in notebook 01"
   ]
  },
  {
   "cell_type": "code",
   "execution_count": 8,
   "id": "861fda56",
   "metadata": {},
   "outputs": [
    {
     "data": {
      "text/html": [
       "<div>\n",
       "<style scoped>\n",
       "    .dataframe tbody tr th:only-of-type {\n",
       "        vertical-align: middle;\n",
       "    }\n",
       "\n",
       "    .dataframe tbody tr th {\n",
       "        vertical-align: top;\n",
       "    }\n",
       "\n",
       "    .dataframe thead th {\n",
       "        text-align: right;\n",
       "    }\n",
       "</style>\n",
       "<table border=\"1\" class=\"dataframe\">\n",
       "  <thead>\n",
       "    <tr style=\"text-align: right;\">\n",
       "      <th></th>\n",
       "      <th>Position</th>\n",
       "      <th>Track Name</th>\n",
       "      <th>Artist</th>\n",
       "      <th>Streams</th>\n",
       "      <th>URL</th>\n",
       "      <th>Date</th>\n",
       "      <th>Region</th>\n",
       "      <th>song_id</th>\n",
       "      <th>release_date</th>\n",
       "    </tr>\n",
       "  </thead>\n",
       "  <tbody>\n",
       "    <tr>\n",
       "      <th>2176</th>\n",
       "      <td>177</td>\n",
       "      <td>Footloose</td>\n",
       "      <td>Kenny Loggins</td>\n",
       "      <td>24993</td>\n",
       "      <td>4O4Z8VFczL8MxIOmqVWc1b</td>\n",
       "      <td>2018-01-11</td>\n",
       "      <td>Canada</td>\n",
       "      <td>4O4Z8VFczL8MxIOmqVWc1b</td>\n",
       "      <td>2018-01-11</td>\n",
       "    </tr>\n",
       "    <tr>\n",
       "      <th>3392</th>\n",
       "      <td>193</td>\n",
       "      <td>Tequila</td>\n",
       "      <td>Dan + Shay</td>\n",
       "      <td>23917</td>\n",
       "      <td>7Il2yWQmsqKgSkLQvHTPUI</td>\n",
       "      <td>2018-01-17</td>\n",
       "      <td>Canada</td>\n",
       "      <td>7Il2yWQmsqKgSkLQvHTPUI</td>\n",
       "      <td>2018-01-17</td>\n",
       "    </tr>\n",
       "    <tr>\n",
       "      <th>3594</th>\n",
       "      <td>195</td>\n",
       "      <td>Mine</td>\n",
       "      <td>Bazzi</td>\n",
       "      <td>23780</td>\n",
       "      <td>6tHWl8ows5JOZq9Yfaqn3M</td>\n",
       "      <td>2018-01-18</td>\n",
       "      <td>Canada</td>\n",
       "      <td>6tHWl8ows5JOZq9Yfaqn3M</td>\n",
       "      <td>2018-01-15</td>\n",
       "    </tr>\n",
       "    <tr>\n",
       "      <th>3772</th>\n",
       "      <td>173</td>\n",
       "      <td>Mine</td>\n",
       "      <td>Bazzi</td>\n",
       "      <td>26500</td>\n",
       "      <td>6tHWl8ows5JOZq9Yfaqn3M</td>\n",
       "      <td>2018-01-19</td>\n",
       "      <td>Canada</td>\n",
       "      <td>6tHWl8ows5JOZq9Yfaqn3M</td>\n",
       "      <td>2018-01-15</td>\n",
       "    </tr>\n",
       "    <tr>\n",
       "      <th>3978</th>\n",
       "      <td>179</td>\n",
       "      <td>Mine</td>\n",
       "      <td>Bazzi</td>\n",
       "      <td>24577</td>\n",
       "      <td>6tHWl8ows5JOZq9Yfaqn3M</td>\n",
       "      <td>2018-01-20</td>\n",
       "      <td>Canada</td>\n",
       "      <td>6tHWl8ows5JOZq9Yfaqn3M</td>\n",
       "      <td>2018-01-15</td>\n",
       "    </tr>\n",
       "  </tbody>\n",
       "</table>\n",
       "</div>"
      ],
      "text/plain": [
       "      Position Track Name         Artist  Streams                     URL  \\\n",
       "2176       177  Footloose  Kenny Loggins    24993  4O4Z8VFczL8MxIOmqVWc1b   \n",
       "3392       193    Tequila     Dan + Shay    23917  7Il2yWQmsqKgSkLQvHTPUI   \n",
       "3594       195       Mine          Bazzi    23780  6tHWl8ows5JOZq9Yfaqn3M   \n",
       "3772       173       Mine          Bazzi    26500  6tHWl8ows5JOZq9Yfaqn3M   \n",
       "3978       179       Mine          Bazzi    24577  6tHWl8ows5JOZq9Yfaqn3M   \n",
       "\n",
       "           Date  Region                 song_id release_date  \n",
       "2176 2018-01-11  Canada  4O4Z8VFczL8MxIOmqVWc1b   2018-01-11  \n",
       "3392 2018-01-17  Canada  7Il2yWQmsqKgSkLQvHTPUI   2018-01-17  \n",
       "3594 2018-01-18  Canada  6tHWl8ows5JOZq9Yfaqn3M   2018-01-15  \n",
       "3772 2018-01-19  Canada  6tHWl8ows5JOZq9Yfaqn3M   2018-01-15  \n",
       "3978 2018-01-20  Canada  6tHWl8ows5JOZq9Yfaqn3M   2018-01-15  "
      ]
     },
     "execution_count": 8,
     "metadata": {},
     "output_type": "execute_result"
    }
   ],
   "source": [
    "ranking_df= pd.read_csv(os.path.join('data', 'clean_ranking_2017_2021.csv'), index_col=0, parse_dates=['Date', 'release_date'])\n",
    "clean_ranking_df= ranking_df[ranking_df['song_id'].isin(songs_to_keep)]\n",
    "clean_ranking_df.head()"
   ]
  },
  {
   "cell_type": "code",
   "execution_count": 9,
   "id": "23f8b7ea",
   "metadata": {},
   "outputs": [],
   "source": [
    "clean_ranking_df = clean_ranking_df[clean_ranking_df['Region']!='World']"
   ]
  },
  {
   "cell_type": "code",
   "execution_count": 10,
   "id": "28245e01",
   "metadata": {},
   "outputs": [
    {
     "data": {
      "text/plain": [
       "array(['Canada', 'Switzerland', 'Chile', 'Columbia', 'CostaRica',\n",
       "       'CzechRepublic', 'Germany', 'Denmark', 'DominicanRepublic',\n",
       "       'Ecuador', 'Estonia', 'Spain', 'Finland', 'France',\n",
       "       'UnitedKingdom', 'Greece', 'Guatemala', 'HongKong', 'Honduras',\n",
       "       'Hungary', 'Indonesia', 'Ireland', 'Iceland', 'Italy', 'Japan',\n",
       "       'Lithuania', 'Luxemborg', 'Latvia', 'Mexico', 'Malaysia',\n",
       "       'Netherlands', 'Norway', 'NewZealand', 'Panama', 'Peru',\n",
       "       'Philippines', 'Poland', 'Portugal', 'Paraguay', 'Sweden',\n",
       "       'Singapore', 'Slovakia', 'ElSalvador', 'Turkey', 'Taiwan', 'USA',\n",
       "       'Uruguay', 'Argentina', 'Austria', 'Australia', 'Belgium',\n",
       "       'Bolivia', 'Brazil'], dtype=object)"
      ]
     },
     "execution_count": 10,
     "metadata": {},
     "output_type": "execute_result"
    }
   ],
   "source": [
    "clean_ranking_df['Region'].unique()"
   ]
  },
  {
   "cell_type": "code",
   "execution_count": 11,
   "id": "85d0b040",
   "metadata": {},
   "outputs": [
    {
     "name": "stdout",
     "output_type": "stream",
     "text": [
      "<class 'pandas.core.frame.DataFrame'>\n",
      "Int64Index: 1359484 entries, 2176 to 34397\n",
      "Data columns (total 9 columns):\n",
      " #   Column        Non-Null Count    Dtype         \n",
      "---  ------        --------------    -----         \n",
      " 0   Position      1359484 non-null  int64         \n",
      " 1   Track Name    1359484 non-null  object        \n",
      " 2   Artist        1359484 non-null  object        \n",
      " 3   Streams       1359484 non-null  int64         \n",
      " 4   URL           1359484 non-null  object        \n",
      " 5   Date          1359484 non-null  datetime64[ns]\n",
      " 6   Region        1359484 non-null  object        \n",
      " 7   song_id       1359484 non-null  object        \n",
      " 8   release_date  1359484 non-null  datetime64[ns]\n",
      "dtypes: datetime64[ns](2), int64(2), object(5)\n",
      "memory usage: 103.7+ MB\n"
     ]
    }
   ],
   "source": [
    "clean_ranking_df.info()"
   ]
  },
  {
   "cell_type": "code",
   "execution_count": 12,
   "id": "5002bedd",
   "metadata": {},
   "outputs": [],
   "source": [
    "initial_date= datetime.datetime(2017, 1, 1)\n",
    "def get_day_of_study_fn(d):\n",
    "    return (d-initial_date).days "
   ]
  },
  {
   "cell_type": "code",
   "execution_count": 13,
   "id": "26dfec60",
   "metadata": {},
   "outputs": [],
   "source": [
    "clean_ranking_df['day_of_study'] = clean_ranking_df['Date'].apply(get_day_of_study_fn)\n",
    "clean_ranking_df['release_month'] = clean_ranking_df['release_date'].dt.month"
   ]
  },
  {
   "cell_type": "code",
   "execution_count": 14,
   "id": "cb70f1e1",
   "metadata": {},
   "outputs": [
    {
     "data": {
      "text/html": [
       "<div>\n",
       "<style scoped>\n",
       "    .dataframe tbody tr th:only-of-type {\n",
       "        vertical-align: middle;\n",
       "    }\n",
       "\n",
       "    .dataframe tbody tr th {\n",
       "        vertical-align: top;\n",
       "    }\n",
       "\n",
       "    .dataframe thead th {\n",
       "        text-align: right;\n",
       "    }\n",
       "</style>\n",
       "<table border=\"1\" class=\"dataframe\">\n",
       "  <thead>\n",
       "    <tr style=\"text-align: right;\">\n",
       "      <th></th>\n",
       "      <th>Position</th>\n",
       "      <th>Track Name</th>\n",
       "      <th>Artist</th>\n",
       "      <th>Streams</th>\n",
       "      <th>URL</th>\n",
       "      <th>Date</th>\n",
       "      <th>Region</th>\n",
       "      <th>song_id</th>\n",
       "      <th>release_date</th>\n",
       "      <th>day_of_study</th>\n",
       "      <th>release_month</th>\n",
       "    </tr>\n",
       "  </thead>\n",
       "  <tbody>\n",
       "    <tr>\n",
       "      <th>2176</th>\n",
       "      <td>177</td>\n",
       "      <td>Footloose</td>\n",
       "      <td>Kenny Loggins</td>\n",
       "      <td>24993</td>\n",
       "      <td>4O4Z8VFczL8MxIOmqVWc1b</td>\n",
       "      <td>2018-01-11</td>\n",
       "      <td>Canada</td>\n",
       "      <td>4O4Z8VFczL8MxIOmqVWc1b</td>\n",
       "      <td>2018-01-11</td>\n",
       "      <td>375</td>\n",
       "      <td>1</td>\n",
       "    </tr>\n",
       "    <tr>\n",
       "      <th>3392</th>\n",
       "      <td>193</td>\n",
       "      <td>Tequila</td>\n",
       "      <td>Dan + Shay</td>\n",
       "      <td>23917</td>\n",
       "      <td>7Il2yWQmsqKgSkLQvHTPUI</td>\n",
       "      <td>2018-01-17</td>\n",
       "      <td>Canada</td>\n",
       "      <td>7Il2yWQmsqKgSkLQvHTPUI</td>\n",
       "      <td>2018-01-17</td>\n",
       "      <td>381</td>\n",
       "      <td>1</td>\n",
       "    </tr>\n",
       "    <tr>\n",
       "      <th>3594</th>\n",
       "      <td>195</td>\n",
       "      <td>Mine</td>\n",
       "      <td>Bazzi</td>\n",
       "      <td>23780</td>\n",
       "      <td>6tHWl8ows5JOZq9Yfaqn3M</td>\n",
       "      <td>2018-01-18</td>\n",
       "      <td>Canada</td>\n",
       "      <td>6tHWl8ows5JOZq9Yfaqn3M</td>\n",
       "      <td>2018-01-15</td>\n",
       "      <td>382</td>\n",
       "      <td>1</td>\n",
       "    </tr>\n",
       "    <tr>\n",
       "      <th>3772</th>\n",
       "      <td>173</td>\n",
       "      <td>Mine</td>\n",
       "      <td>Bazzi</td>\n",
       "      <td>26500</td>\n",
       "      <td>6tHWl8ows5JOZq9Yfaqn3M</td>\n",
       "      <td>2018-01-19</td>\n",
       "      <td>Canada</td>\n",
       "      <td>6tHWl8ows5JOZq9Yfaqn3M</td>\n",
       "      <td>2018-01-15</td>\n",
       "      <td>383</td>\n",
       "      <td>1</td>\n",
       "    </tr>\n",
       "    <tr>\n",
       "      <th>3978</th>\n",
       "      <td>179</td>\n",
       "      <td>Mine</td>\n",
       "      <td>Bazzi</td>\n",
       "      <td>24577</td>\n",
       "      <td>6tHWl8ows5JOZq9Yfaqn3M</td>\n",
       "      <td>2018-01-20</td>\n",
       "      <td>Canada</td>\n",
       "      <td>6tHWl8ows5JOZq9Yfaqn3M</td>\n",
       "      <td>2018-01-15</td>\n",
       "      <td>384</td>\n",
       "      <td>1</td>\n",
       "    </tr>\n",
       "  </tbody>\n",
       "</table>\n",
       "</div>"
      ],
      "text/plain": [
       "      Position Track Name         Artist  Streams                     URL  \\\n",
       "2176       177  Footloose  Kenny Loggins    24993  4O4Z8VFczL8MxIOmqVWc1b   \n",
       "3392       193    Tequila     Dan + Shay    23917  7Il2yWQmsqKgSkLQvHTPUI   \n",
       "3594       195       Mine          Bazzi    23780  6tHWl8ows5JOZq9Yfaqn3M   \n",
       "3772       173       Mine          Bazzi    26500  6tHWl8ows5JOZq9Yfaqn3M   \n",
       "3978       179       Mine          Bazzi    24577  6tHWl8ows5JOZq9Yfaqn3M   \n",
       "\n",
       "           Date  Region                 song_id release_date  day_of_study  \\\n",
       "2176 2018-01-11  Canada  4O4Z8VFczL8MxIOmqVWc1b   2018-01-11           375   \n",
       "3392 2018-01-17  Canada  7Il2yWQmsqKgSkLQvHTPUI   2018-01-17           381   \n",
       "3594 2018-01-18  Canada  6tHWl8ows5JOZq9Yfaqn3M   2018-01-15           382   \n",
       "3772 2018-01-19  Canada  6tHWl8ows5JOZq9Yfaqn3M   2018-01-15           383   \n",
       "3978 2018-01-20  Canada  6tHWl8ows5JOZq9Yfaqn3M   2018-01-15           384   \n",
       "\n",
       "      release_month  \n",
       "2176              1  \n",
       "3392              1  \n",
       "3594              1  \n",
       "3772              1  \n",
       "3978              1  "
      ]
     },
     "execution_count": 14,
     "metadata": {},
     "output_type": "execute_result"
    }
   ],
   "source": [
    "clean_ranking_df.head()"
   ]
  },
  {
   "cell_type": "code",
   "execution_count": 15,
   "id": "c69752f4",
   "metadata": {},
   "outputs": [],
   "source": [
    "clean_ranking_df.to_csv(os.path.join('data','clean_ranking_2017_2021_v2.csv'))"
   ]
  },
  {
   "cell_type": "code",
   "execution_count": 16,
   "id": "64f5fd4c",
   "metadata": {
    "scrolled": true
   },
   "outputs": [
    {
     "data": {
      "text/plain": [
       "song_id                 Region           \n",
       "007ogFejDqJKzEXDUDF8Nf  Chile               2018-03-04\n",
       "                        Paraguay            2018-06-11\n",
       "00NpdPvXFERf1USRAcHkT3  CzechRepublic       2019-09-23\n",
       "                        Slovakia            2019-12-05\n",
       "00WvmRXTkPBZNhhRK3xfdy  Chile               2019-03-04\n",
       "                                               ...    \n",
       "7ztlf9mCrjoLXAYYf0LCYx  Malaysia            2019-03-27\n",
       "                        Singapore           2019-03-15\n",
       "                        Taiwan              2019-03-13\n",
       "7zuM6FYdo5XhiocMPDkc0Q  Columbia            2020-08-20\n",
       "                        DominicanRepublic   2020-08-14\n",
       "Name: Date, Length: 19867, dtype: datetime64[ns]"
      ]
     },
     "execution_count": 16,
     "metadata": {},
     "output_type": "execute_result"
    }
   ],
   "source": [
    "clean_ranking_df.groupby(['song_id','Region'])['Date'].max()"
   ]
  },
  {
   "cell_type": "code",
   "execution_count": 17,
   "id": "87af27e3",
   "metadata": {},
   "outputs": [
    {
     "data": {
      "text/html": [
       "<div>\n",
       "<style scoped>\n",
       "    .dataframe tbody tr th:only-of-type {\n",
       "        vertical-align: middle;\n",
       "    }\n",
       "\n",
       "    .dataframe tbody tr th {\n",
       "        vertical-align: top;\n",
       "    }\n",
       "\n",
       "    .dataframe thead th {\n",
       "        text-align: right;\n",
       "    }\n",
       "</style>\n",
       "<table border=\"1\" class=\"dataframe\">\n",
       "  <thead>\n",
       "    <tr style=\"text-align: right;\">\n",
       "      <th></th>\n",
       "      <th></th>\n",
       "      <th>max_date</th>\n",
       "    </tr>\n",
       "    <tr>\n",
       "      <th>song_id</th>\n",
       "      <th>Region</th>\n",
       "      <th></th>\n",
       "    </tr>\n",
       "  </thead>\n",
       "  <tbody>\n",
       "    <tr>\n",
       "      <th rowspan=\"2\" valign=\"top\">007ogFejDqJKzEXDUDF8Nf</th>\n",
       "      <th>Chile</th>\n",
       "      <td>2018-03-04</td>\n",
       "    </tr>\n",
       "    <tr>\n",
       "      <th>Paraguay</th>\n",
       "      <td>2018-06-11</td>\n",
       "    </tr>\n",
       "    <tr>\n",
       "      <th rowspan=\"2\" valign=\"top\">00NpdPvXFERf1USRAcHkT3</th>\n",
       "      <th>CzechRepublic</th>\n",
       "      <td>2019-09-23</td>\n",
       "    </tr>\n",
       "    <tr>\n",
       "      <th>Slovakia</th>\n",
       "      <td>2019-12-05</td>\n",
       "    </tr>\n",
       "    <tr>\n",
       "      <th>00WvmRXTkPBZNhhRK3xfdy</th>\n",
       "      <th>Chile</th>\n",
       "      <td>2019-03-04</td>\n",
       "    </tr>\n",
       "  </tbody>\n",
       "</table>\n",
       "</div>"
      ],
      "text/plain": [
       "                                       max_date\n",
       "song_id                Region                  \n",
       "007ogFejDqJKzEXDUDF8Nf Chile         2018-03-04\n",
       "                       Paraguay      2018-06-11\n",
       "00NpdPvXFERf1USRAcHkT3 CzechRepublic 2019-09-23\n",
       "                       Slovakia      2019-12-05\n",
       "00WvmRXTkPBZNhhRK3xfdy Chile         2019-03-04"
      ]
     },
     "execution_count": 17,
     "metadata": {},
     "output_type": "execute_result"
    }
   ],
   "source": [
    "song_max_dates_df =clean_ranking_df.groupby(['song_id','Region'])['Date'].max().to_frame()\n",
    "song_max_dates_df.columns = ['max_date']\n",
    "song_max_dates_df.head()"
   ]
  },
  {
   "cell_type": "code",
   "execution_count": 18,
   "id": "09f0c9ac",
   "metadata": {
    "scrolled": true
   },
   "outputs": [
    {
     "data": {
      "text/html": [
       "<div>\n",
       "<style scoped>\n",
       "    .dataframe tbody tr th:only-of-type {\n",
       "        vertical-align: middle;\n",
       "    }\n",
       "\n",
       "    .dataframe tbody tr th {\n",
       "        vertical-align: top;\n",
       "    }\n",
       "\n",
       "    .dataframe thead th {\n",
       "        text-align: right;\n",
       "    }\n",
       "</style>\n",
       "<table border=\"1\" class=\"dataframe\">\n",
       "  <thead>\n",
       "    <tr style=\"text-align: right;\">\n",
       "      <th></th>\n",
       "      <th></th>\n",
       "      <th>min_date</th>\n",
       "      <th>max_date</th>\n",
       "      <th>num_days_in_list</th>\n",
       "    </tr>\n",
       "    <tr>\n",
       "      <th>song_id</th>\n",
       "      <th>Region</th>\n",
       "      <th></th>\n",
       "      <th></th>\n",
       "      <th></th>\n",
       "    </tr>\n",
       "  </thead>\n",
       "  <tbody>\n",
       "    <tr>\n",
       "      <th rowspan=\"2\" valign=\"top\">007ogFejDqJKzEXDUDF8Nf</th>\n",
       "      <th>Chile</th>\n",
       "      <td>2018-02-26</td>\n",
       "      <td>2018-03-04</td>\n",
       "      <td>6</td>\n",
       "    </tr>\n",
       "    <tr>\n",
       "      <th>Paraguay</th>\n",
       "      <td>2018-06-09</td>\n",
       "      <td>2018-06-11</td>\n",
       "      <td>2</td>\n",
       "    </tr>\n",
       "    <tr>\n",
       "      <th rowspan=\"2\" valign=\"top\">00NpdPvXFERf1USRAcHkT3</th>\n",
       "      <th>CzechRepublic</th>\n",
       "      <td>2019-09-01</td>\n",
       "      <td>2019-09-23</td>\n",
       "      <td>22</td>\n",
       "    </tr>\n",
       "    <tr>\n",
       "      <th>Slovakia</th>\n",
       "      <td>2019-08-31</td>\n",
       "      <td>2019-12-05</td>\n",
       "      <td>96</td>\n",
       "    </tr>\n",
       "    <tr>\n",
       "      <th>00WvmRXTkPBZNhhRK3xfdy</th>\n",
       "      <th>Chile</th>\n",
       "      <td>2019-02-28</td>\n",
       "      <td>2019-03-04</td>\n",
       "      <td>4</td>\n",
       "    </tr>\n",
       "  </tbody>\n",
       "</table>\n",
       "</div>"
      ],
      "text/plain": [
       "                                       min_date   max_date  num_days_in_list\n",
       "song_id                Region                                               \n",
       "007ogFejDqJKzEXDUDF8Nf Chile         2018-02-26 2018-03-04                 6\n",
       "                       Paraguay      2018-06-09 2018-06-11                 2\n",
       "00NpdPvXFERf1USRAcHkT3 CzechRepublic 2019-09-01 2019-09-23                22\n",
       "                       Slovakia      2019-08-31 2019-12-05                96\n",
       "00WvmRXTkPBZNhhRK3xfdy Chile         2019-02-28 2019-03-04                 4"
      ]
     },
     "execution_count": 18,
     "metadata": {},
     "output_type": "execute_result"
    }
   ],
   "source": [
    "song_dates_df =clean_ranking_df.groupby(['song_id','Region'])['Date'].min().to_frame()\n",
    "song_dates_df.columns = ['min_date']\n",
    "song_dates_df['max_date'] = song_max_dates_df['max_date']\n",
    "song_dates_df['num_days_in_list'] = (song_dates_df['max_date']-song_dates_df['min_date']).dt.days\n",
    "\n",
    "song_dates_df.head()"
   ]
  },
  {
   "cell_type": "code",
   "execution_count": 19,
   "id": "55e5f176",
   "metadata": {},
   "outputs": [
    {
     "name": "stdout",
     "output_type": "stream",
     "text": [
      "<class 'pandas.core.frame.DataFrame'>\n",
      "MultiIndex: 19867 entries, ('007ogFejDqJKzEXDUDF8Nf', 'Chile') to ('7zuM6FYdo5XhiocMPDkc0Q', 'DominicanRepublic')\n",
      "Data columns (total 3 columns):\n",
      " #   Column            Non-Null Count  Dtype         \n",
      "---  ------            --------------  -----         \n",
      " 0   min_date          19867 non-null  datetime64[ns]\n",
      " 1   max_date          19867 non-null  datetime64[ns]\n",
      " 2   num_days_in_list  19867 non-null  int64         \n",
      "dtypes: datetime64[ns](2), int64(1)\n",
      "memory usage: 558.4+ KB\n"
     ]
    }
   ],
   "source": [
    "song_dates_df.info()"
   ]
  },
  {
   "cell_type": "code",
   "execution_count": 20,
   "id": "6500df2c",
   "metadata": {},
   "outputs": [
    {
     "data": {
      "text/plain": [
       "count    19867.000000\n",
       "mean       122.842352\n",
       "std        203.336394\n",
       "min          0.000000\n",
       "25%          4.000000\n",
       "50%         36.000000\n",
       "75%        140.000000\n",
       "max       1406.000000\n",
       "Name: num_days_in_list, dtype: float64"
      ]
     },
     "execution_count": 20,
     "metadata": {},
     "output_type": "execute_result"
    }
   ],
   "source": [
    "song_dates_df['num_days_in_list'].describe()"
   ]
  },
  {
   "cell_type": "code",
   "execution_count": 21,
   "id": "e5d82260",
   "metadata": {},
   "outputs": [],
   "source": [
    "song_dates_df['num_days_in_list'].plot.kde(grid=True);"
   ]
  },
  {
   "cell_type": "code",
   "execution_count": 22,
   "id": "db365c99",
   "metadata": {},
   "outputs": [],
   "source": [
    "song_dates_df['num_days_in_list'].value_counts(bins=20, normalize=True).plot(kind='bar', grid=True);"
   ]
  },
  {
   "cell_type": "code",
   "execution_count": 23,
   "id": "6d30b363",
   "metadata": {},
   "outputs": [],
   "source": [
    "song_dates_df.to_csv(os.path.join('data', 'songs_dates_2017_2021.csv'))"
   ]
  },
  {
   "cell_type": "code",
   "execution_count": 24,
   "id": "f4bf6a61",
   "metadata": {},
   "outputs": [],
   "source": [
    "song_dates_df['num_weeks_in_list'] = song_dates_df['num_days_in_list']/7\n"
   ]
  },
  {
   "cell_type": "code",
   "execution_count": 25,
   "id": "f23ac209",
   "metadata": {},
   "outputs": [
    {
     "data": {
      "text/html": [
       "<div>\n",
       "<style scoped>\n",
       "    .dataframe tbody tr th:only-of-type {\n",
       "        vertical-align: middle;\n",
       "    }\n",
       "\n",
       "    .dataframe tbody tr th {\n",
       "        vertical-align: top;\n",
       "    }\n",
       "\n",
       "    .dataframe thead th {\n",
       "        text-align: right;\n",
       "    }\n",
       "</style>\n",
       "<table border=\"1\" class=\"dataframe\">\n",
       "  <thead>\n",
       "    <tr style=\"text-align: right;\">\n",
       "      <th></th>\n",
       "      <th>num_days_in_list</th>\n",
       "      <th>num_weeks_in_list</th>\n",
       "    </tr>\n",
       "  </thead>\n",
       "  <tbody>\n",
       "    <tr>\n",
       "      <th>count</th>\n",
       "      <td>19867.000000</td>\n",
       "      <td>19867.000000</td>\n",
       "    </tr>\n",
       "    <tr>\n",
       "      <th>mean</th>\n",
       "      <td>122.842352</td>\n",
       "      <td>17.548907</td>\n",
       "    </tr>\n",
       "    <tr>\n",
       "      <th>std</th>\n",
       "      <td>203.336394</td>\n",
       "      <td>29.048056</td>\n",
       "    </tr>\n",
       "    <tr>\n",
       "      <th>min</th>\n",
       "      <td>0.000000</td>\n",
       "      <td>0.000000</td>\n",
       "    </tr>\n",
       "    <tr>\n",
       "      <th>25%</th>\n",
       "      <td>4.000000</td>\n",
       "      <td>0.571429</td>\n",
       "    </tr>\n",
       "    <tr>\n",
       "      <th>50%</th>\n",
       "      <td>36.000000</td>\n",
       "      <td>5.142857</td>\n",
       "    </tr>\n",
       "    <tr>\n",
       "      <th>75%</th>\n",
       "      <td>140.000000</td>\n",
       "      <td>20.000000</td>\n",
       "    </tr>\n",
       "    <tr>\n",
       "      <th>max</th>\n",
       "      <td>1406.000000</td>\n",
       "      <td>200.857143</td>\n",
       "    </tr>\n",
       "  </tbody>\n",
       "</table>\n",
       "</div>"
      ],
      "text/plain": [
       "       num_days_in_list  num_weeks_in_list\n",
       "count      19867.000000       19867.000000\n",
       "mean         122.842352          17.548907\n",
       "std          203.336394          29.048056\n",
       "min            0.000000           0.000000\n",
       "25%            4.000000           0.571429\n",
       "50%           36.000000           5.142857\n",
       "75%          140.000000          20.000000\n",
       "max         1406.000000         200.857143"
      ]
     },
     "execution_count": 25,
     "metadata": {},
     "output_type": "execute_result"
    }
   ],
   "source": [
    "song_dates_df.describe()"
   ]
  }
 ],
 "metadata": {
  "kernelspec": {
   "display_name": "Python 3",
   "language": "python",
   "name": "python3"
  },
  "language_info": {
   "codemirror_mode": {
    "name": "ipython",
    "version": 3
   },
   "file_extension": ".py",
   "mimetype": "text/x-python",
   "name": "python",
   "nbconvert_exporter": "python",
   "pygments_lexer": "ipython3",
   "version": "3.8.10"
  }
 },
 "nbformat": 4,
 "nbformat_minor": 5
}
