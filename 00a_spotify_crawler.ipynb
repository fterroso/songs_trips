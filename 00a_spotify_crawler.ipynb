{
 "cells": [
  {
   "cell_type": "code",
   "execution_count": 10,
   "id": "1cd576a8",
   "metadata": {
    "scrolled": true
   },
   "outputs": [],
   "source": [
    "#import spotifycharts as sc\n",
    "#from spotifycharts import settings\n",
    "#from spotifycharts import classes\n",
    "import requests\n",
    "from datetime import date, timedelta\n",
    "from time import sleep\n",
    "from bs4 import BeautifulSoup\n",
    "from tqdm.notebook import tqdm\n",
    "import pandas as pd"
   ]
  },
  {
   "cell_type": "code",
   "execution_count": 11,
   "id": "d260a0ee",
   "metadata": {},
   "outputs": [],
   "source": [
    "countries = {'ar':'Argentina', 'at':'Austria', 'au':'Australia', 'be':'Belgium',\n",
    "       'bo':'Bolivia', 'br':'Brazil', 'ca':'Canada', 'ch':'Switzerland', \n",
    "       'cl':'Chile', 'co':'Columbia', 'cr':'CostaRica', 'cz':'CzechRepublic',\n",
    "       'de':'Germany', 'dk':'Denmark', 'do':'DominicanRepublic', 'ec':'Ecuador', \n",
    "       'ee':'Estonia', 'es':'Spain', 'fi':'Finland', 'fr':'France', \n",
    "       'gb':'UnitedKingdom', 'global':'World', 'gr':'Greece', 'gt':'Guatemala',\n",
    "       'hk':'HongKong', 'hn':'Honduras', 'hu':'Hungary', 'id':'Indonesia', \n",
    "       'ie':'Ireland', 'is':'Iceland', 'it':'Italy', 'jp':'Japan', \n",
    "       'lt':'Lithuania', 'lu':'Luxemborg', 'lv':'Latvia', 'mx':'Mexico', \n",
    "       'my':'Malaysia', 'nl':'Netherlands', 'no':'Norway', 'nz':'NewZealand', \n",
    "       'pa':'Panama', 'pe':'Peru', 'ph':'Philippines', 'pl':'Poland', \n",
    "       'pt':'Portugal', 'py':'Paraguay', 'se':'Sweden', 'sg':'Singapore', \n",
    "       'sk':'Slovakia', 'sv':'ElSalvador', 'tr':'Turkey', 'tw':'Taiwan', 'us':'USA', 'uy':'Uruguay',} "
   ]
  },
  {
   "cell_type": "code",
   "execution_count": 12,
   "id": "f1e89489",
   "metadata": {},
   "outputs": [],
   "source": [
    "country_codes=list(countries.keys())"
   ]
  },
  {
   "cell_type": "code",
   "execution_count": 13,
   "id": "a5112db5",
   "metadata": {
    "scrolled": true
   },
   "outputs": [
    {
     "data": {
      "text/plain": [
       "['ar',\n",
       " 'at',\n",
       " 'au',\n",
       " 'be',\n",
       " 'bo',\n",
       " 'br',\n",
       " 'ca',\n",
       " 'ch',\n",
       " 'cl',\n",
       " 'co',\n",
       " 'cr',\n",
       " 'cz',\n",
       " 'de',\n",
       " 'dk',\n",
       " 'do',\n",
       " 'ec',\n",
       " 'ee',\n",
       " 'es',\n",
       " 'fi',\n",
       " 'fr',\n",
       " 'gb',\n",
       " 'global',\n",
       " 'gr',\n",
       " 'gt',\n",
       " 'hk',\n",
       " 'hn',\n",
       " 'hu',\n",
       " 'id',\n",
       " 'ie',\n",
       " 'is',\n",
       " 'it',\n",
       " 'jp',\n",
       " 'lt',\n",
       " 'lu',\n",
       " 'lv',\n",
       " 'mx',\n",
       " 'my',\n",
       " 'nl',\n",
       " 'no',\n",
       " 'nz',\n",
       " 'pa',\n",
       " 'pe',\n",
       " 'ph',\n",
       " 'pl',\n",
       " 'pt',\n",
       " 'py',\n",
       " 'se',\n",
       " 'sg',\n",
       " 'sk',\n",
       " 'sv',\n",
       " 'tr',\n",
       " 'tw',\n",
       " 'us',\n",
       " 'uy']"
      ]
     },
     "execution_count": 13,
     "metadata": {},
     "output_type": "execute_result"
    }
   ],
   "source": [
    "country_codes"
   ]
  },
  {
   "cell_type": "code",
   "execution_count": 14,
   "id": "877b3697",
   "metadata": {},
   "outputs": [
    {
     "data": {
      "text/plain": [
       "[]"
      ]
     },
     "execution_count": 14,
     "metadata": {},
     "output_type": "execute_result"
    }
   ],
   "source": [
    "processed_countries = []\n",
    "processed_countries"
   ]
  },
  {
   "cell_type": "code",
   "execution_count": 15,
   "id": "db724e4d",
   "metadata": {},
   "outputs": [],
   "source": [
    "country_codes = [x for x in country_codes if x not in processed_countries]"
   ]
  },
  {
   "cell_type": "code",
   "execution_count": 16,
   "id": "f02cab76",
   "metadata": {
    "scrolled": false
   },
   "outputs": [
    {
     "data": {
      "text/plain": [
       "['ar',\n",
       " 'at',\n",
       " 'au',\n",
       " 'be',\n",
       " 'bo',\n",
       " 'br',\n",
       " 'ca',\n",
       " 'ch',\n",
       " 'cl',\n",
       " 'co',\n",
       " 'cr',\n",
       " 'cz',\n",
       " 'de',\n",
       " 'dk',\n",
       " 'do',\n",
       " 'ec',\n",
       " 'ee',\n",
       " 'es',\n",
       " 'fi',\n",
       " 'fr',\n",
       " 'gb',\n",
       " 'global',\n",
       " 'gr',\n",
       " 'gt',\n",
       " 'hk',\n",
       " 'hn',\n",
       " 'hu',\n",
       " 'id',\n",
       " 'ie',\n",
       " 'is',\n",
       " 'it',\n",
       " 'jp',\n",
       " 'lt',\n",
       " 'lu',\n",
       " 'lv',\n",
       " 'mx',\n",
       " 'my',\n",
       " 'nl',\n",
       " 'no',\n",
       " 'nz',\n",
       " 'pa',\n",
       " 'pe',\n",
       " 'ph',\n",
       " 'pl',\n",
       " 'pt',\n",
       " 'py',\n",
       " 'se',\n",
       " 'sg',\n",
       " 'sk',\n",
       " 'sv',\n",
       " 'tr',\n",
       " 'tw',\n",
       " 'us',\n",
       " 'uy']"
      ]
     },
     "execution_count": 16,
     "metadata": {},
     "output_type": "execute_result"
    }
   ],
   "source": [
    "country_codes"
   ]
  },
  {
   "cell_type": "code",
   "execution_count": 17,
   "id": "ead47865",
   "metadata": {},
   "outputs": [],
   "source": [
    "def add_url(dates, base_url):\n",
    "    url_list=[]\n",
    "    for date in dates:\n",
    "        c_string = base_url+date\n",
    "        url_list.append(c_string)\n",
    "    return url_list\n",
    "\n",
    "def song_scrape(x,songs,country):\n",
    "    pg = x\n",
    "    pos=1\n",
    "    song_lst = []\n",
    "    for tr in songs.find(\"tbody\").findAll(\"tr\"):\n",
    "        artist= tr.find(\"td\", {\"class\": \"chart-table-track\"}).find(\"span\").text\n",
    "        artist= artist.replace(\"by \",\"\").strip()\n",
    "  \n",
    "        title= tr.find(\"td\", {\"class\": \"chart-table-track\"}).find(\"strong\").text\n",
    "    \n",
    "        streams = tr.find(\"td\", {\"class\": \"chart-table-streams\"}).text\n",
    "        streams = int(streams.replace(',',''))\n",
    " \n",
    "        songid= tr.find(\"td\", {\"class\": \"chart-table-image\"}).find(\"a\").get(\"href\")\n",
    "        #songid= songid.split(\"track/\")[1]\n",
    "        songid_lst = songid.split(\"track/\")\n",
    "        songid = ''\n",
    "        if len(songid_lst)>=2:\n",
    "            songid = songid_lst[1]\n",
    "    \n",
    "        url_date= x.split(\"daily/\")[1]\n",
    "        song_lst.append([pos, title, artist, streams, songid, url_date, country])\n",
    "        pos+=1\n",
    "    return song_lst\n",
    "\t\n",
    "#loop through urls to create array of all of our song info\n",
    "\n",
    "\n",
    "def get_songs(countries, start_date, end_date):\n",
    "    \n",
    "    for country in tqdm(countries):\n",
    "        final = []\n",
    "\n",
    "        url = f\"https://spotifycharts.com/regional/{country}/daily/\"\n",
    "\n",
    "        delta= end_date-start_date\n",
    "        dates_=[]\n",
    "\n",
    "        for i in range(delta.days+1):\n",
    "            day = start_date+timedelta(days=i)\n",
    "            day_string= day.strftime(\"%Y-%m-%d\")\n",
    "            dates_.append(day_string)\n",
    "\n",
    "        url_list_=add_url(dates_,url)\n",
    "\n",
    "        for u in tqdm(url_list_, leave=False):\n",
    "            #print(u)\n",
    "\n",
    "            headers = {'User-Agent': 'Mozilla/5.0 (Macintosh; Intel Mac OS X 10_10_1) AppleWebKit/537.36 (KHTML, like Gecko) Chrome/39.0.2171.95 Safari/537.36'}\n",
    "            read_pg= requests.get(u,headers=headers)\n",
    "            sleep(2)\n",
    "            #print(read_pg.text)\n",
    "            soup= BeautifulSoup(read_pg.text, \"html.parser\")\n",
    "            songs_= soup.find(\"table\", {\"class\":\"chart-table\"})\n",
    "            #print(songs)\n",
    "            if songs_ is not None:\n",
    "                song_lst= song_scrape(u,songs_,country)\n",
    "                #print(song_lst)\n",
    "                final= final + song_lst\n",
    "            else:\n",
    "                print(f\"No chart for {u}\")\n",
    "\n",
    "        #convert to data frame with pandas for easier data manipulation\n",
    "\n",
    "        final_df = pd.DataFrame(final, columns= [\"Position\", \"Track Name\", \"Artist\", \"Streams\", \"URL\", \"Date\", \"Region\"])\n",
    "\n",
    "        #write to csv\n",
    "\n",
    "        with open(f'sp_data_{country}.csv', 'w', encoding=\"utf-8\") as f:\n",
    "                final_df.to_csv(f, header= True, index=False)"
   ]
  },
  {
   "cell_type": "code",
   "execution_count": 18,
   "id": "ca65ce24",
   "metadata": {
    "scrolled": true
   },
   "outputs": [
    {
     "data": {
      "application/vnd.jupyter.widget-view+json": {
       "model_id": "8a0b4b736e604c82a884b597717cb5bd",
       "version_major": 2,
       "version_minor": 0
      },
      "text/plain": [
       "  0%|          | 0/54 [00:00<?, ?it/s]"
      ]
     },
     "metadata": {},
     "output_type": "display_data"
    },
    {
     "data": {
      "application/vnd.jupyter.widget-view+json": {
       "model_id": "",
       "version_major": 2,
       "version_minor": 0
      },
      "text/plain": [
       "  0%|          | 0/172 [00:00<?, ?it/s]"
      ]
     },
     "metadata": {},
     "output_type": "display_data"
    },
    {
     "data": {
      "application/vnd.jupyter.widget-view+json": {
       "model_id": "",
       "version_major": 2,
       "version_minor": 0
      },
      "text/plain": [
       "  0%|          | 0/172 [00:00<?, ?it/s]"
      ]
     },
     "metadata": {},
     "output_type": "display_data"
    },
    {
     "data": {
      "application/vnd.jupyter.widget-view+json": {
       "model_id": "",
       "version_major": 2,
       "version_minor": 0
      },
      "text/plain": [
       "  0%|          | 0/172 [00:00<?, ?it/s]"
      ]
     },
     "metadata": {},
     "output_type": "display_data"
    },
    {
     "data": {
      "application/vnd.jupyter.widget-view+json": {
       "model_id": "",
       "version_major": 2,
       "version_minor": 0
      },
      "text/plain": [
       "  0%|          | 0/172 [00:00<?, ?it/s]"
      ]
     },
     "metadata": {},
     "output_type": "display_data"
    },
    {
     "data": {
      "application/vnd.jupyter.widget-view+json": {
       "model_id": "",
       "version_major": 2,
       "version_minor": 0
      },
      "text/plain": [
       "  0%|          | 0/172 [00:00<?, ?it/s]"
      ]
     },
     "metadata": {},
     "output_type": "display_data"
    },
    {
     "data": {
      "application/vnd.jupyter.widget-view+json": {
       "model_id": "",
       "version_major": 2,
       "version_minor": 0
      },
      "text/plain": [
       "  0%|          | 0/172 [00:00<?, ?it/s]"
      ]
     },
     "metadata": {},
     "output_type": "display_data"
    },
    {
     "data": {
      "application/vnd.jupyter.widget-view+json": {
       "model_id": "",
       "version_major": 2,
       "version_minor": 0
      },
      "text/plain": [
       "  0%|          | 0/172 [00:00<?, ?it/s]"
      ]
     },
     "metadata": {},
     "output_type": "display_data"
    },
    {
     "data": {
      "application/vnd.jupyter.widget-view+json": {
       "model_id": "",
       "version_major": 2,
       "version_minor": 0
      },
      "text/plain": [
       "  0%|          | 0/172 [00:00<?, ?it/s]"
      ]
     },
     "metadata": {},
     "output_type": "display_data"
    },
    {
     "data": {
      "application/vnd.jupyter.widget-view+json": {
       "model_id": "",
       "version_major": 2,
       "version_minor": 0
      },
      "text/plain": [
       "  0%|          | 0/172 [00:00<?, ?it/s]"
      ]
     },
     "metadata": {},
     "output_type": "display_data"
    },
    {
     "data": {
      "application/vnd.jupyter.widget-view+json": {
       "model_id": "",
       "version_major": 2,
       "version_minor": 0
      },
      "text/plain": [
       "  0%|          | 0/172 [00:00<?, ?it/s]"
      ]
     },
     "metadata": {},
     "output_type": "display_data"
    },
    {
     "data": {
      "application/vnd.jupyter.widget-view+json": {
       "model_id": "",
       "version_major": 2,
       "version_minor": 0
      },
      "text/plain": [
       "  0%|          | 0/172 [00:00<?, ?it/s]"
      ]
     },
     "metadata": {},
     "output_type": "display_data"
    },
    {
     "data": {
      "application/vnd.jupyter.widget-view+json": {
       "model_id": "",
       "version_major": 2,
       "version_minor": 0
      },
      "text/plain": [
       "  0%|          | 0/172 [00:00<?, ?it/s]"
      ]
     },
     "metadata": {},
     "output_type": "display_data"
    },
    {
     "data": {
      "application/vnd.jupyter.widget-view+json": {
       "model_id": "",
       "version_major": 2,
       "version_minor": 0
      },
      "text/plain": [
       "  0%|          | 0/172 [00:00<?, ?it/s]"
      ]
     },
     "metadata": {},
     "output_type": "display_data"
    },
    {
     "data": {
      "application/vnd.jupyter.widget-view+json": {
       "model_id": "",
       "version_major": 2,
       "version_minor": 0
      },
      "text/plain": [
       "  0%|          | 0/172 [00:00<?, ?it/s]"
      ]
     },
     "metadata": {},
     "output_type": "display_data"
    },
    {
     "data": {
      "application/vnd.jupyter.widget-view+json": {
       "model_id": "",
       "version_major": 2,
       "version_minor": 0
      },
      "text/plain": [
       "  0%|          | 0/172 [00:00<?, ?it/s]"
      ]
     },
     "metadata": {},
     "output_type": "display_data"
    },
    {
     "data": {
      "application/vnd.jupyter.widget-view+json": {
       "model_id": "",
       "version_major": 2,
       "version_minor": 0
      },
      "text/plain": [
       "  0%|          | 0/172 [00:00<?, ?it/s]"
      ]
     },
     "metadata": {},
     "output_type": "display_data"
    },
    {
     "data": {
      "application/vnd.jupyter.widget-view+json": {
       "model_id": "",
       "version_major": 2,
       "version_minor": 0
      },
      "text/plain": [
       "  0%|          | 0/172 [00:00<?, ?it/s]"
      ]
     },
     "metadata": {},
     "output_type": "display_data"
    },
    {
     "data": {
      "application/vnd.jupyter.widget-view+json": {
       "model_id": "",
       "version_major": 2,
       "version_minor": 0
      },
      "text/plain": [
       "  0%|          | 0/172 [00:00<?, ?it/s]"
      ]
     },
     "metadata": {},
     "output_type": "display_data"
    },
    {
     "data": {
      "application/vnd.jupyter.widget-view+json": {
       "model_id": "",
       "version_major": 2,
       "version_minor": 0
      },
      "text/plain": [
       "  0%|          | 0/172 [00:00<?, ?it/s]"
      ]
     },
     "metadata": {},
     "output_type": "display_data"
    },
    {
     "data": {
      "application/vnd.jupyter.widget-view+json": {
       "model_id": "",
       "version_major": 2,
       "version_minor": 0
      },
      "text/plain": [
       "  0%|          | 0/172 [00:00<?, ?it/s]"
      ]
     },
     "metadata": {},
     "output_type": "display_data"
    },
    {
     "data": {
      "application/vnd.jupyter.widget-view+json": {
       "model_id": "",
       "version_major": 2,
       "version_minor": 0
      },
      "text/plain": [
       "  0%|          | 0/172 [00:00<?, ?it/s]"
      ]
     },
     "metadata": {},
     "output_type": "display_data"
    },
    {
     "data": {
      "application/vnd.jupyter.widget-view+json": {
       "model_id": "",
       "version_major": 2,
       "version_minor": 0
      },
      "text/plain": [
       "  0%|          | 0/172 [00:00<?, ?it/s]"
      ]
     },
     "metadata": {},
     "output_type": "display_data"
    },
    {
     "data": {
      "application/vnd.jupyter.widget-view+json": {
       "model_id": "",
       "version_major": 2,
       "version_minor": 0
      },
      "text/plain": [
       "  0%|          | 0/172 [00:00<?, ?it/s]"
      ]
     },
     "metadata": {},
     "output_type": "display_data"
    },
    {
     "data": {
      "application/vnd.jupyter.widget-view+json": {
       "model_id": "",
       "version_major": 2,
       "version_minor": 0
      },
      "text/plain": [
       "  0%|          | 0/172 [00:00<?, ?it/s]"
      ]
     },
     "metadata": {},
     "output_type": "display_data"
    },
    {
     "data": {
      "application/vnd.jupyter.widget-view+json": {
       "model_id": "",
       "version_major": 2,
       "version_minor": 0
      },
      "text/plain": [
       "  0%|          | 0/172 [00:00<?, ?it/s]"
      ]
     },
     "metadata": {},
     "output_type": "display_data"
    },
    {
     "data": {
      "application/vnd.jupyter.widget-view+json": {
       "model_id": "",
       "version_major": 2,
       "version_minor": 0
      },
      "text/plain": [
       "  0%|          | 0/172 [00:00<?, ?it/s]"
      ]
     },
     "metadata": {},
     "output_type": "display_data"
    },
    {
     "data": {
      "application/vnd.jupyter.widget-view+json": {
       "model_id": "",
       "version_major": 2,
       "version_minor": 0
      },
      "text/plain": [
       "  0%|          | 0/172 [00:00<?, ?it/s]"
      ]
     },
     "metadata": {},
     "output_type": "display_data"
    },
    {
     "data": {
      "application/vnd.jupyter.widget-view+json": {
       "model_id": "",
       "version_major": 2,
       "version_minor": 0
      },
      "text/plain": [
       "  0%|          | 0/172 [00:00<?, ?it/s]"
      ]
     },
     "metadata": {},
     "output_type": "display_data"
    },
    {
     "data": {
      "application/vnd.jupyter.widget-view+json": {
       "model_id": "",
       "version_major": 2,
       "version_minor": 0
      },
      "text/plain": [
       "  0%|          | 0/172 [00:00<?, ?it/s]"
      ]
     },
     "metadata": {},
     "output_type": "display_data"
    },
    {
     "data": {
      "application/vnd.jupyter.widget-view+json": {
       "model_id": "",
       "version_major": 2,
       "version_minor": 0
      },
      "text/plain": [
       "  0%|          | 0/172 [00:00<?, ?it/s]"
      ]
     },
     "metadata": {},
     "output_type": "display_data"
    },
    {
     "data": {
      "application/vnd.jupyter.widget-view+json": {
       "model_id": "",
       "version_major": 2,
       "version_minor": 0
      },
      "text/plain": [
       "  0%|          | 0/172 [00:00<?, ?it/s]"
      ]
     },
     "metadata": {},
     "output_type": "display_data"
    },
    {
     "data": {
      "application/vnd.jupyter.widget-view+json": {
       "model_id": "",
       "version_major": 2,
       "version_minor": 0
      },
      "text/plain": [
       "  0%|          | 0/172 [00:00<?, ?it/s]"
      ]
     },
     "metadata": {},
     "output_type": "display_data"
    },
    {
     "data": {
      "application/vnd.jupyter.widget-view+json": {
       "model_id": "",
       "version_major": 2,
       "version_minor": 0
      },
      "text/plain": [
       "  0%|          | 0/172 [00:00<?, ?it/s]"
      ]
     },
     "metadata": {},
     "output_type": "display_data"
    },
    {
     "data": {
      "application/vnd.jupyter.widget-view+json": {
       "model_id": "",
       "version_major": 2,
       "version_minor": 0
      },
      "text/plain": [
       "  0%|          | 0/172 [00:00<?, ?it/s]"
      ]
     },
     "metadata": {},
     "output_type": "display_data"
    },
    {
     "name": "stdout",
     "output_type": "stream",
     "text": [
      "No chart for https://spotifycharts.com/regional/lu/daily/2021-06-06\n",
      "No chart for https://spotifycharts.com/regional/lu/daily/2021-06-07\n",
      "No chart for https://spotifycharts.com/regional/lu/daily/2021-06-08\n",
      "No chart for https://spotifycharts.com/regional/lu/daily/2021-06-09\n",
      "No chart for https://spotifycharts.com/regional/lu/daily/2021-06-13\n",
      "No chart for https://spotifycharts.com/regional/lu/daily/2021-06-14\n",
      "No chart for https://spotifycharts.com/regional/lu/daily/2021-06-15\n",
      "No chart for https://spotifycharts.com/regional/lu/daily/2021-06-16\n",
      "No chart for https://spotifycharts.com/regional/lu/daily/2021-06-17\n",
      "No chart for https://spotifycharts.com/regional/lu/daily/2021-06-19\n",
      "No chart for https://spotifycharts.com/regional/lu/daily/2021-06-20\n",
      "No chart for https://spotifycharts.com/regional/lu/daily/2021-06-21\n",
      "No chart for https://spotifycharts.com/regional/lu/daily/2021-06-22\n",
      "No chart for https://spotifycharts.com/regional/lu/daily/2021-06-23\n",
      "No chart for https://spotifycharts.com/regional/lu/daily/2021-06-24\n",
      "No chart for https://spotifycharts.com/regional/lu/daily/2021-06-26\n",
      "No chart for https://spotifycharts.com/regional/lu/daily/2021-06-27\n",
      "No chart for https://spotifycharts.com/regional/lu/daily/2021-06-28\n",
      "No chart for https://spotifycharts.com/regional/lu/daily/2021-06-29\n",
      "No chart for https://spotifycharts.com/regional/lu/daily/2021-06-30\n",
      "No chart for https://spotifycharts.com/regional/lu/daily/2021-07-01\n",
      "No chart for https://spotifycharts.com/regional/lu/daily/2021-07-03\n",
      "No chart for https://spotifycharts.com/regional/lu/daily/2021-07-04\n",
      "No chart for https://spotifycharts.com/regional/lu/daily/2021-07-05\n",
      "No chart for https://spotifycharts.com/regional/lu/daily/2021-07-06\n",
      "No chart for https://spotifycharts.com/regional/lu/daily/2021-07-07\n",
      "No chart for https://spotifycharts.com/regional/lu/daily/2021-07-08\n",
      "No chart for https://spotifycharts.com/regional/lu/daily/2021-07-10\n",
      "No chart for https://spotifycharts.com/regional/lu/daily/2021-07-11\n",
      "No chart for https://spotifycharts.com/regional/lu/daily/2021-07-12\n",
      "No chart for https://spotifycharts.com/regional/lu/daily/2021-07-13\n",
      "No chart for https://spotifycharts.com/regional/lu/daily/2021-07-14\n",
      "No chart for https://spotifycharts.com/regional/lu/daily/2021-07-15\n",
      "No chart for https://spotifycharts.com/regional/lu/daily/2021-07-17\n",
      "No chart for https://spotifycharts.com/regional/lu/daily/2021-07-18\n",
      "No chart for https://spotifycharts.com/regional/lu/daily/2021-07-19\n",
      "No chart for https://spotifycharts.com/regional/lu/daily/2021-07-20\n",
      "No chart for https://spotifycharts.com/regional/lu/daily/2021-07-21\n",
      "No chart for https://spotifycharts.com/regional/lu/daily/2021-07-22\n",
      "No chart for https://spotifycharts.com/regional/lu/daily/2021-07-23\n",
      "No chart for https://spotifycharts.com/regional/lu/daily/2021-07-24\n",
      "No chart for https://spotifycharts.com/regional/lu/daily/2021-07-25\n",
      "No chart for https://spotifycharts.com/regional/lu/daily/2021-07-26\n",
      "No chart for https://spotifycharts.com/regional/lu/daily/2021-07-27\n",
      "No chart for https://spotifycharts.com/regional/lu/daily/2021-07-28\n",
      "No chart for https://spotifycharts.com/regional/lu/daily/2021-07-29\n",
      "No chart for https://spotifycharts.com/regional/lu/daily/2021-07-30\n",
      "No chart for https://spotifycharts.com/regional/lu/daily/2021-07-31\n",
      "No chart for https://spotifycharts.com/regional/lu/daily/2021-08-01\n",
      "No chart for https://spotifycharts.com/regional/lu/daily/2021-08-02\n",
      "No chart for https://spotifycharts.com/regional/lu/daily/2021-08-03\n",
      "No chart for https://spotifycharts.com/regional/lu/daily/2021-08-04\n",
      "No chart for https://spotifycharts.com/regional/lu/daily/2021-08-05\n",
      "No chart for https://spotifycharts.com/regional/lu/daily/2021-08-06\n",
      "No chart for https://spotifycharts.com/regional/lu/daily/2021-08-07\n",
      "No chart for https://spotifycharts.com/regional/lu/daily/2021-08-08\n",
      "No chart for https://spotifycharts.com/regional/lu/daily/2021-08-09\n",
      "No chart for https://spotifycharts.com/regional/lu/daily/2021-08-10\n",
      "No chart for https://spotifycharts.com/regional/lu/daily/2021-08-11\n",
      "No chart for https://spotifycharts.com/regional/lu/daily/2021-08-12\n",
      "No chart for https://spotifycharts.com/regional/lu/daily/2021-08-13\n",
      "No chart for https://spotifycharts.com/regional/lu/daily/2021-08-14\n",
      "No chart for https://spotifycharts.com/regional/lu/daily/2021-08-15\n",
      "No chart for https://spotifycharts.com/regional/lu/daily/2021-08-16\n",
      "No chart for https://spotifycharts.com/regional/lu/daily/2021-08-17\n",
      "No chart for https://spotifycharts.com/regional/lu/daily/2021-08-18\n",
      "No chart for https://spotifycharts.com/regional/lu/daily/2021-08-19\n",
      "No chart for https://spotifycharts.com/regional/lu/daily/2021-08-20\n",
      "No chart for https://spotifycharts.com/regional/lu/daily/2021-08-21\n",
      "No chart for https://spotifycharts.com/regional/lu/daily/2021-08-22\n",
      "No chart for https://spotifycharts.com/regional/lu/daily/2021-08-23\n",
      "No chart for https://spotifycharts.com/regional/lu/daily/2021-08-24\n",
      "No chart for https://spotifycharts.com/regional/lu/daily/2021-08-25\n",
      "No chart for https://spotifycharts.com/regional/lu/daily/2021-08-26\n",
      "No chart for https://spotifycharts.com/regional/lu/daily/2021-08-27\n",
      "No chart for https://spotifycharts.com/regional/lu/daily/2021-08-28\n",
      "No chart for https://spotifycharts.com/regional/lu/daily/2021-08-29\n",
      "No chart for https://spotifycharts.com/regional/lu/daily/2021-08-30\n",
      "No chart for https://spotifycharts.com/regional/lu/daily/2021-08-31\n",
      "No chart for https://spotifycharts.com/regional/lu/daily/2021-09-01\n",
      "No chart for https://spotifycharts.com/regional/lu/daily/2021-09-02\n",
      "No chart for https://spotifycharts.com/regional/lu/daily/2021-09-05\n",
      "No chart for https://spotifycharts.com/regional/lu/daily/2021-09-06\n",
      "No chart for https://spotifycharts.com/regional/lu/daily/2021-09-07\n",
      "No chart for https://spotifycharts.com/regional/lu/daily/2021-09-08\n",
      "No chart for https://spotifycharts.com/regional/lu/daily/2021-09-09\n",
      "No chart for https://spotifycharts.com/regional/lu/daily/2021-09-10\n",
      "No chart for https://spotifycharts.com/regional/lu/daily/2021-09-11\n",
      "No chart for https://spotifycharts.com/regional/lu/daily/2021-09-12\n",
      "No chart for https://spotifycharts.com/regional/lu/daily/2021-09-13\n",
      "No chart for https://spotifycharts.com/regional/lu/daily/2021-09-14\n",
      "No chart for https://spotifycharts.com/regional/lu/daily/2021-09-15\n",
      "No chart for https://spotifycharts.com/regional/lu/daily/2021-09-16\n",
      "No chart for https://spotifycharts.com/regional/lu/daily/2021-09-18\n",
      "No chart for https://spotifycharts.com/regional/lu/daily/2021-09-19\n",
      "No chart for https://spotifycharts.com/regional/lu/daily/2021-09-20\n",
      "No chart for https://spotifycharts.com/regional/lu/daily/2021-09-21\n",
      "No chart for https://spotifycharts.com/regional/lu/daily/2021-09-22\n",
      "No chart for https://spotifycharts.com/regional/lu/daily/2021-09-23\n",
      "No chart for https://spotifycharts.com/regional/lu/daily/2021-09-25\n",
      "No chart for https://spotifycharts.com/regional/lu/daily/2021-09-26\n",
      "No chart for https://spotifycharts.com/regional/lu/daily/2021-09-27\n",
      "No chart for https://spotifycharts.com/regional/lu/daily/2021-09-28\n",
      "No chart for https://spotifycharts.com/regional/lu/daily/2021-09-29\n",
      "No chart for https://spotifycharts.com/regional/lu/daily/2021-09-30\n",
      "No chart for https://spotifycharts.com/regional/lu/daily/2021-10-01\n",
      "No chart for https://spotifycharts.com/regional/lu/daily/2021-10-02\n",
      "No chart for https://spotifycharts.com/regional/lu/daily/2021-10-03\n",
      "No chart for https://spotifycharts.com/regional/lu/daily/2021-10-04\n",
      "No chart for https://spotifycharts.com/regional/lu/daily/2021-10-05\n",
      "No chart for https://spotifycharts.com/regional/lu/daily/2021-10-06\n",
      "No chart for https://spotifycharts.com/regional/lu/daily/2021-10-07\n",
      "No chart for https://spotifycharts.com/regional/lu/daily/2021-10-08\n",
      "No chart for https://spotifycharts.com/regional/lu/daily/2021-10-09\n",
      "No chart for https://spotifycharts.com/regional/lu/daily/2021-10-10\n",
      "No chart for https://spotifycharts.com/regional/lu/daily/2021-10-11\n",
      "No chart for https://spotifycharts.com/regional/lu/daily/2021-10-12\n",
      "No chart for https://spotifycharts.com/regional/lu/daily/2021-10-13\n",
      "No chart for https://spotifycharts.com/regional/lu/daily/2021-10-14\n",
      "No chart for https://spotifycharts.com/regional/lu/daily/2021-10-15\n",
      "No chart for https://spotifycharts.com/regional/lu/daily/2021-10-16\n"
     ]
    },
    {
     "name": "stdout",
     "output_type": "stream",
     "text": [
      "No chart for https://spotifycharts.com/regional/lu/daily/2021-10-17\n",
      "No chart for https://spotifycharts.com/regional/lu/daily/2021-10-18\n",
      "No chart for https://spotifycharts.com/regional/lu/daily/2021-10-19\n",
      "No chart for https://spotifycharts.com/regional/lu/daily/2021-10-20\n",
      "No chart for https://spotifycharts.com/regional/lu/daily/2021-10-21\n",
      "No chart for https://spotifycharts.com/regional/lu/daily/2021-10-23\n",
      "No chart for https://spotifycharts.com/regional/lu/daily/2021-10-24\n",
      "No chart for https://spotifycharts.com/regional/lu/daily/2021-10-25\n",
      "No chart for https://spotifycharts.com/regional/lu/daily/2021-10-26\n",
      "No chart for https://spotifycharts.com/regional/lu/daily/2021-10-27\n",
      "No chart for https://spotifycharts.com/regional/lu/daily/2021-10-28\n",
      "No chart for https://spotifycharts.com/regional/lu/daily/2021-10-29\n",
      "No chart for https://spotifycharts.com/regional/lu/daily/2021-10-30\n",
      "No chart for https://spotifycharts.com/regional/lu/daily/2021-10-31\n",
      "No chart for https://spotifycharts.com/regional/lu/daily/2021-11-01\n",
      "No chart for https://spotifycharts.com/regional/lu/daily/2021-11-02\n",
      "No chart for https://spotifycharts.com/regional/lu/daily/2021-11-03\n",
      "No chart for https://spotifycharts.com/regional/lu/daily/2021-11-04\n",
      "No chart for https://spotifycharts.com/regional/lu/daily/2021-11-05\n",
      "No chart for https://spotifycharts.com/regional/lu/daily/2021-11-06\n",
      "No chart for https://spotifycharts.com/regional/lu/daily/2021-11-07\n",
      "No chart for https://spotifycharts.com/regional/lu/daily/2021-11-08\n",
      "No chart for https://spotifycharts.com/regional/lu/daily/2021-11-09\n",
      "No chart for https://spotifycharts.com/regional/lu/daily/2021-11-10\n",
      "No chart for https://spotifycharts.com/regional/lu/daily/2021-11-11\n",
      "No chart for https://spotifycharts.com/regional/lu/daily/2021-11-12\n",
      "No chart for https://spotifycharts.com/regional/lu/daily/2021-11-13\n",
      "No chart for https://spotifycharts.com/regional/lu/daily/2021-11-14\n",
      "No chart for https://spotifycharts.com/regional/lu/daily/2021-11-15\n",
      "No chart for https://spotifycharts.com/regional/lu/daily/2021-11-16\n",
      "No chart for https://spotifycharts.com/regional/lu/daily/2021-11-17\n",
      "No chart for https://spotifycharts.com/regional/lu/daily/2021-11-18\n",
      "No chart for https://spotifycharts.com/regional/lu/daily/2021-11-21\n",
      "No chart for https://spotifycharts.com/regional/lu/daily/2021-11-22\n",
      "No chart for https://spotifycharts.com/regional/lu/daily/2021-11-23\n",
      "No chart for https://spotifycharts.com/regional/lu/daily/2021-11-24\n"
     ]
    },
    {
     "data": {
      "application/vnd.jupyter.widget-view+json": {
       "model_id": "",
       "version_major": 2,
       "version_minor": 0
      },
      "text/plain": [
       "  0%|          | 0/172 [00:00<?, ?it/s]"
      ]
     },
     "metadata": {},
     "output_type": "display_data"
    },
    {
     "data": {
      "application/vnd.jupyter.widget-view+json": {
       "model_id": "",
       "version_major": 2,
       "version_minor": 0
      },
      "text/plain": [
       "  0%|          | 0/172 [00:00<?, ?it/s]"
      ]
     },
     "metadata": {},
     "output_type": "display_data"
    },
    {
     "data": {
      "application/vnd.jupyter.widget-view+json": {
       "model_id": "",
       "version_major": 2,
       "version_minor": 0
      },
      "text/plain": [
       "  0%|          | 0/172 [00:00<?, ?it/s]"
      ]
     },
     "metadata": {},
     "output_type": "display_data"
    },
    {
     "data": {
      "application/vnd.jupyter.widget-view+json": {
       "model_id": "",
       "version_major": 2,
       "version_minor": 0
      },
      "text/plain": [
       "  0%|          | 0/172 [00:00<?, ?it/s]"
      ]
     },
     "metadata": {},
     "output_type": "display_data"
    },
    {
     "data": {
      "application/vnd.jupyter.widget-view+json": {
       "model_id": "",
       "version_major": 2,
       "version_minor": 0
      },
      "text/plain": [
       "  0%|          | 0/172 [00:00<?, ?it/s]"
      ]
     },
     "metadata": {},
     "output_type": "display_data"
    },
    {
     "data": {
      "application/vnd.jupyter.widget-view+json": {
       "model_id": "",
       "version_major": 2,
       "version_minor": 0
      },
      "text/plain": [
       "  0%|          | 0/172 [00:00<?, ?it/s]"
      ]
     },
     "metadata": {},
     "output_type": "display_data"
    },
    {
     "name": "stdout",
     "output_type": "stream",
     "text": [
      "No chart for https://spotifycharts.com/regional/nz/daily/2021-09-03\n"
     ]
    },
    {
     "data": {
      "application/vnd.jupyter.widget-view+json": {
       "model_id": "",
       "version_major": 2,
       "version_minor": 0
      },
      "text/plain": [
       "  0%|          | 0/172 [00:00<?, ?it/s]"
      ]
     },
     "metadata": {},
     "output_type": "display_data"
    },
    {
     "data": {
      "application/vnd.jupyter.widget-view+json": {
       "model_id": "",
       "version_major": 2,
       "version_minor": 0
      },
      "text/plain": [
       "  0%|          | 0/172 [00:00<?, ?it/s]"
      ]
     },
     "metadata": {},
     "output_type": "display_data"
    },
    {
     "data": {
      "application/vnd.jupyter.widget-view+json": {
       "model_id": "",
       "version_major": 2,
       "version_minor": 0
      },
      "text/plain": [
       "  0%|          | 0/172 [00:00<?, ?it/s]"
      ]
     },
     "metadata": {},
     "output_type": "display_data"
    },
    {
     "data": {
      "application/vnd.jupyter.widget-view+json": {
       "model_id": "",
       "version_major": 2,
       "version_minor": 0
      },
      "text/plain": [
       "  0%|          | 0/172 [00:00<?, ?it/s]"
      ]
     },
     "metadata": {},
     "output_type": "display_data"
    },
    {
     "data": {
      "application/vnd.jupyter.widget-view+json": {
       "model_id": "",
       "version_major": 2,
       "version_minor": 0
      },
      "text/plain": [
       "  0%|          | 0/172 [00:00<?, ?it/s]"
      ]
     },
     "metadata": {},
     "output_type": "display_data"
    },
    {
     "data": {
      "application/vnd.jupyter.widget-view+json": {
       "model_id": "",
       "version_major": 2,
       "version_minor": 0
      },
      "text/plain": [
       "  0%|          | 0/172 [00:00<?, ?it/s]"
      ]
     },
     "metadata": {},
     "output_type": "display_data"
    },
    {
     "data": {
      "application/vnd.jupyter.widget-view+json": {
       "model_id": "",
       "version_major": 2,
       "version_minor": 0
      },
      "text/plain": [
       "  0%|          | 0/172 [00:00<?, ?it/s]"
      ]
     },
     "metadata": {},
     "output_type": "display_data"
    },
    {
     "data": {
      "application/vnd.jupyter.widget-view+json": {
       "model_id": "",
       "version_major": 2,
       "version_minor": 0
      },
      "text/plain": [
       "  0%|          | 0/172 [00:00<?, ?it/s]"
      ]
     },
     "metadata": {},
     "output_type": "display_data"
    },
    {
     "data": {
      "application/vnd.jupyter.widget-view+json": {
       "model_id": "",
       "version_major": 2,
       "version_minor": 0
      },
      "text/plain": [
       "  0%|          | 0/172 [00:00<?, ?it/s]"
      ]
     },
     "metadata": {},
     "output_type": "display_data"
    },
    {
     "data": {
      "application/vnd.jupyter.widget-view+json": {
       "model_id": "",
       "version_major": 2,
       "version_minor": 0
      },
      "text/plain": [
       "  0%|          | 0/172 [00:00<?, ?it/s]"
      ]
     },
     "metadata": {},
     "output_type": "display_data"
    },
    {
     "data": {
      "application/vnd.jupyter.widget-view+json": {
       "model_id": "",
       "version_major": 2,
       "version_minor": 0
      },
      "text/plain": [
       "  0%|          | 0/172 [00:00<?, ?it/s]"
      ]
     },
     "metadata": {},
     "output_type": "display_data"
    },
    {
     "name": "stdout",
     "output_type": "stream",
     "text": [
      "No chart for https://spotifycharts.com/regional/tr/daily/2021-06-28\n"
     ]
    },
    {
     "data": {
      "application/vnd.jupyter.widget-view+json": {
       "model_id": "",
       "version_major": 2,
       "version_minor": 0
      },
      "text/plain": [
       "  0%|          | 0/172 [00:00<?, ?it/s]"
      ]
     },
     "metadata": {},
     "output_type": "display_data"
    },
    {
     "data": {
      "application/vnd.jupyter.widget-view+json": {
       "model_id": "",
       "version_major": 2,
       "version_minor": 0
      },
      "text/plain": [
       "  0%|          | 0/172 [00:00<?, ?it/s]"
      ]
     },
     "metadata": {},
     "output_type": "display_data"
    },
    {
     "data": {
      "application/vnd.jupyter.widget-view+json": {
       "model_id": "",
       "version_major": 2,
       "version_minor": 0
      },
      "text/plain": [
       "  0%|          | 0/172 [00:00<?, ?it/s]"
      ]
     },
     "metadata": {},
     "output_type": "display_data"
    }
   ],
   "source": [
    "start_date= date(2021, 6, 6)\n",
    "end_date= date(2021, 11, 24)\n",
    "get_songs(country_codes, start_date, end_date)"
   ]
  },
  {
   "cell_type": "code",
   "execution_count": 19,
   "id": "2de38555",
   "metadata": {},
   "outputs": [
    {
     "name": "stdout",
     "output_type": "stream",
     "text": [
      "That's all folks!!\n"
     ]
    }
   ],
   "source": [
    "print(\"That's all folks!!\")"
   ]
  },
  {
   "cell_type": "code",
   "execution_count": null,
   "id": "1f83128c",
   "metadata": {},
   "outputs": [],
   "source": []
  },
  {
   "cell_type": "code",
   "execution_count": null,
   "id": "dff8c991",
   "metadata": {},
   "outputs": [],
   "source": [
    "name = classes.Name('top200')\n",
    "name_code = settings.NAME_CODES[name]\n",
    "name_code"
   ]
  },
  {
   "cell_type": "code",
   "execution_count": null,
   "id": "1db678cd",
   "metadata": {},
   "outputs": [],
   "source": [
    "url = f'{settings.SPOTIFY_CHARTS_URL}/{name_code}/'\n",
    "url"
   ]
  },
  {
   "cell_type": "code",
   "execution_count": null,
   "id": "4ae73d6d",
   "metadata": {},
   "outputs": [],
   "source": [
    "with requests.Session() as session:\n",
    "    response = session.get(url)"
   ]
  },
  {
   "cell_type": "code",
   "execution_count": null,
   "id": "c3021098",
   "metadata": {},
   "outputs": [],
   "source": [
    "response"
   ]
  },
  {
   "cell_type": "code",
   "execution_count": null,
   "id": "cdd09b9d",
   "metadata": {},
   "outputs": [],
   "source": [
    "regions={}\n",
    "if response.status_code != requests.codes.OK:\n",
    "    print(f'{settings.LOG_REGIONS_DOWNLOAD_WARNING} of {name} charts')\n",
    "    print(regions)\n",
    "parser = bs4.BeautifulSoup(response.text,'html.parser')"
   ]
  },
  {
   "cell_type": "code",
   "execution_count": null,
   "id": "03046068",
   "metadata": {
    "scrolled": true
   },
   "outputs": [],
   "source": [
    "regions = sc.download_regions('r')\n",
    "regions"
   ]
  },
  {
   "cell_type": "code",
   "execution_count": null,
   "id": "a6701561",
   "metadata": {},
   "outputs": [],
   "source": [
    "chart_downloader = sc.ChartDownloader(name='viral50',\n",
    "                                      periodicity='weekly',\n",
    "                                      region_names=['germany', 'france'],\n",
    "                                      begin_date='2019-12-30',\n",
    "                                      end_date='2020-01-05',\n",
    "                                      cpu_count=2,\n",
    "                                      directory_path='data')\n",
    "\n",
    "charts = {}\n",
    "for region_name in chart_downloader.region_names:\n",
    "    charts[region_name] = chart_downloader[region_name]"
   ]
  }
 ],
 "metadata": {
  "kernelspec": {
   "display_name": "Python 3",
   "language": "python",
   "name": "python3"
  },
  "language_info": {
   "codemirror_mode": {
    "name": "ipython",
    "version": 3
   },
   "file_extension": ".py",
   "mimetype": "text/x-python",
   "name": "python",
   "nbconvert_exporter": "python",
   "pygments_lexer": "ipython3",
   "version": "3.8.10"
  }
 },
 "nbformat": 4,
 "nbformat_minor": 5
}
