{
 "cells": [
  {
   "cell_type": "markdown",
   "metadata": {},
   "source": [
    "# Generate propagation raw sequences from songs graphs with and without time metadata  (with date order)\n"
   ]
  },
  {
   "cell_type": "markdown",
   "metadata": {},
   "source": [
    "### Import required libraries"
   ]
  },
  {
   "cell_type": "code",
   "execution_count": 1,
   "metadata": {},
   "outputs": [],
   "source": [
    "import pandas as pd\n",
    "import os\n",
    "import numpy as np\n",
    "\n",
    "from tqdm.notebook import tqdm\n",
    "import json\n",
    "import networkx as nx\n",
    "\n",
    "import matplotlib.pyplot as plt\n",
    "\n",
    "import math"
   ]
  },
  {
   "cell_type": "markdown",
   "metadata": {},
   "source": [
    "### Load datasets"
   ]
  },
  {
   "cell_type": "code",
   "execution_count": 2,
   "metadata": {},
   "outputs": [
    {
     "data": {
      "text/html": [
       "<div>\n",
       "<style scoped>\n",
       "    .dataframe tbody tr th:only-of-type {\n",
       "        vertical-align: middle;\n",
       "    }\n",
       "\n",
       "    .dataframe tbody tr th {\n",
       "        vertical-align: top;\n",
       "    }\n",
       "\n",
       "    .dataframe thead th {\n",
       "        text-align: right;\n",
       "    }\n",
       "</style>\n",
       "<table border=\"1\" class=\"dataframe\">\n",
       "  <thead>\n",
       "    <tr style=\"text-align: right;\">\n",
       "      <th></th>\n",
       "      <th>Position</th>\n",
       "      <th>Track Name</th>\n",
       "      <th>Artist</th>\n",
       "      <th>Streams</th>\n",
       "      <th>URL</th>\n",
       "      <th>Date</th>\n",
       "      <th>Region</th>\n",
       "      <th>song_id</th>\n",
       "      <th>release_date</th>\n",
       "      <th>day_of_study</th>\n",
       "      <th>release_month</th>\n",
       "    </tr>\n",
       "  </thead>\n",
       "  <tbody>\n",
       "    <tr>\n",
       "      <th>2176</th>\n",
       "      <td>177</td>\n",
       "      <td>Footloose</td>\n",
       "      <td>Kenny Loggins</td>\n",
       "      <td>24993</td>\n",
       "      <td>4O4Z8VFczL8MxIOmqVWc1b</td>\n",
       "      <td>2018-01-11</td>\n",
       "      <td>Canada</td>\n",
       "      <td>4O4Z8VFczL8MxIOmqVWc1b</td>\n",
       "      <td>2018-01-11</td>\n",
       "      <td>375</td>\n",
       "      <td>1</td>\n",
       "    </tr>\n",
       "    <tr>\n",
       "      <th>3392</th>\n",
       "      <td>193</td>\n",
       "      <td>Tequila</td>\n",
       "      <td>Dan + Shay</td>\n",
       "      <td>23917</td>\n",
       "      <td>7Il2yWQmsqKgSkLQvHTPUI</td>\n",
       "      <td>2018-01-17</td>\n",
       "      <td>Canada</td>\n",
       "      <td>7Il2yWQmsqKgSkLQvHTPUI</td>\n",
       "      <td>2018-01-17</td>\n",
       "      <td>381</td>\n",
       "      <td>1</td>\n",
       "    </tr>\n",
       "    <tr>\n",
       "      <th>3594</th>\n",
       "      <td>195</td>\n",
       "      <td>Mine</td>\n",
       "      <td>Bazzi</td>\n",
       "      <td>23780</td>\n",
       "      <td>6tHWl8ows5JOZq9Yfaqn3M</td>\n",
       "      <td>2018-01-18</td>\n",
       "      <td>Canada</td>\n",
       "      <td>6tHWl8ows5JOZq9Yfaqn3M</td>\n",
       "      <td>2018-01-15</td>\n",
       "      <td>382</td>\n",
       "      <td>1</td>\n",
       "    </tr>\n",
       "    <tr>\n",
       "      <th>3772</th>\n",
       "      <td>173</td>\n",
       "      <td>Mine</td>\n",
       "      <td>Bazzi</td>\n",
       "      <td>26500</td>\n",
       "      <td>6tHWl8ows5JOZq9Yfaqn3M</td>\n",
       "      <td>2018-01-19</td>\n",
       "      <td>Canada</td>\n",
       "      <td>6tHWl8ows5JOZq9Yfaqn3M</td>\n",
       "      <td>2018-01-15</td>\n",
       "      <td>383</td>\n",
       "      <td>1</td>\n",
       "    </tr>\n",
       "    <tr>\n",
       "      <th>3978</th>\n",
       "      <td>179</td>\n",
       "      <td>Mine</td>\n",
       "      <td>Bazzi</td>\n",
       "      <td>24577</td>\n",
       "      <td>6tHWl8ows5JOZq9Yfaqn3M</td>\n",
       "      <td>2018-01-20</td>\n",
       "      <td>Canada</td>\n",
       "      <td>6tHWl8ows5JOZq9Yfaqn3M</td>\n",
       "      <td>2018-01-15</td>\n",
       "      <td>384</td>\n",
       "      <td>1</td>\n",
       "    </tr>\n",
       "  </tbody>\n",
       "</table>\n",
       "</div>"
      ],
      "text/plain": [
       "      Position Track Name         Artist  Streams                     URL  \\\n",
       "2176       177  Footloose  Kenny Loggins    24993  4O4Z8VFczL8MxIOmqVWc1b   \n",
       "3392       193    Tequila     Dan + Shay    23917  7Il2yWQmsqKgSkLQvHTPUI   \n",
       "3594       195       Mine          Bazzi    23780  6tHWl8ows5JOZq9Yfaqn3M   \n",
       "3772       173       Mine          Bazzi    26500  6tHWl8ows5JOZq9Yfaqn3M   \n",
       "3978       179       Mine          Bazzi    24577  6tHWl8ows5JOZq9Yfaqn3M   \n",
       "\n",
       "           Date  Region                 song_id release_date  day_of_study  \\\n",
       "2176 2018-01-11  Canada  4O4Z8VFczL8MxIOmqVWc1b   2018-01-11           375   \n",
       "3392 2018-01-17  Canada  7Il2yWQmsqKgSkLQvHTPUI   2018-01-17           381   \n",
       "3594 2018-01-18  Canada  6tHWl8ows5JOZq9Yfaqn3M   2018-01-15           382   \n",
       "3772 2018-01-19  Canada  6tHWl8ows5JOZq9Yfaqn3M   2018-01-15           383   \n",
       "3978 2018-01-20  Canada  6tHWl8ows5JOZq9Yfaqn3M   2018-01-15           384   \n",
       "\n",
       "      release_month  \n",
       "2176              1  \n",
       "3392              1  \n",
       "3594              1  \n",
       "3772              1  \n",
       "3978              1  "
      ]
     },
     "execution_count": 2,
     "metadata": {},
     "output_type": "execute_result"
    }
   ],
   "source": [
    "ranking_df= pd.read_csv(os.path.join('data', 'clean_ranking_2017_2021_v2.csv'), index_col=0, parse_dates=['Date', 'release_date'])\n",
    "ranking_df.head()"
   ]
  },
  {
   "cell_type": "code",
   "execution_count": 3,
   "metadata": {},
   "outputs": [],
   "source": [
    "ranking_df['week_of_study']= ranking_df['day_of_study'].apply(lambda x : int(x/7))"
   ]
  },
  {
   "cell_type": "code",
   "execution_count": 4,
   "metadata": {},
   "outputs": [],
   "source": [
    "ranking_df = ranking_df[ranking_df['Region']!='World']"
   ]
  },
  {
   "cell_type": "code",
   "execution_count": 5,
   "metadata": {},
   "outputs": [
    {
     "data": {
      "text/plain": [
       "array(['Canada', 'Switzerland', 'Chile', 'Columbia', 'CostaRica',\n",
       "       'CzechRepublic', 'Germany', 'Denmark', 'DominicanRepublic',\n",
       "       'Ecuador', 'Estonia', 'Spain', 'Finland', 'France',\n",
       "       'UnitedKingdom', 'Greece', 'Guatemala', 'HongKong', 'Honduras',\n",
       "       'Hungary', 'Indonesia', 'Ireland', 'Iceland', 'Italy', 'Japan',\n",
       "       'Lithuania', 'Luxemborg', 'Latvia', 'Mexico', 'Malaysia',\n",
       "       'Netherlands', 'Norway', 'NewZealand', 'Panama', 'Peru',\n",
       "       'Philippines', 'Poland', 'Portugal', 'Paraguay', 'Sweden',\n",
       "       'Singapore', 'Slovakia', 'ElSalvador', 'Turkey', 'Taiwan', 'USA',\n",
       "       'Uruguay', 'Argentina', 'Austria', 'Australia', 'Belgium',\n",
       "       'Bolivia', 'Brazil'], dtype=object)"
      ]
     },
     "execution_count": 5,
     "metadata": {},
     "output_type": "execute_result"
    }
   ],
   "source": [
    "ranking_df['Region'].unique()"
   ]
  },
  {
   "cell_type": "code",
   "execution_count": 6,
   "metadata": {},
   "outputs": [],
   "source": [
    "codes_to_country = {'ar':'Argentina', 'at':'Austria', 'au':'Australia', 'be':'Belgium',\n",
    "       'bo':'Bolivia', 'br':'Brazil', 'ca':'Canada', 'ch':'Switzerland', \n",
    "       'cl':'Chile', 'co':'Columbia', 'cr':'CostaRica', 'cz':'CzechRepublic',\n",
    "       'de':'Germany', 'dk':'Denmark', 'do':'DominicanRepublic', 'ec':'Ecuador', \n",
    "       'ee':'Estonia', 'es':'Spain', 'fi':'Finland', 'fr':'France', \n",
    "       'gb':'UnitedKingdom', 'global':'World', 'gr':'Greece', 'gt':'Guatemala',\n",
    "       'hk':'HongKong', 'hn':'Honduras', 'hu':'Hungary', 'id':'Indonesia', \n",
    "       'ie':'Ireland', 'is':'Iceland', 'it':'Italy', 'jp':'Japan', \n",
    "       'lt':'Lithuania', 'lu':'Luxemborg', 'lv':'Latvia', 'mx':'Mexico', \n",
    "       'my':'Malaysia', 'nl':'Netherlands', 'no':'Norway', 'nz':'NewZealand', \n",
    "       'pa':'Panama', 'pe':'Peru', 'ph':'Philippines', 'pl':'Poland', \n",
    "       'pt':'Portugal', 'py':'Paraguay', 'se':'Sweden', 'sg':'Singapore', \n",
    "       'sk':'Slovakia', 'sv':'ElSalvador', 'tr':'Turkey', 'tw':'Taiwan', 'us':'USA', 'uy':'Uruguay',} "
   ]
  },
  {
   "cell_type": "code",
   "execution_count": 7,
   "metadata": {
    "scrolled": true
   },
   "outputs": [
    {
     "data": {
      "text/plain": [
       "{'Argentina': 'ar',\n",
       " 'Austria': 'at',\n",
       " 'Australia': 'au',\n",
       " 'Belgium': 'be',\n",
       " 'Bolivia': 'bo',\n",
       " 'Brazil': 'br',\n",
       " 'Canada': 'ca',\n",
       " 'Switzerland': 'ch',\n",
       " 'Chile': 'cl',\n",
       " 'Columbia': 'co',\n",
       " 'CostaRica': 'cr',\n",
       " 'CzechRepublic': 'cz',\n",
       " 'Germany': 'de',\n",
       " 'Denmark': 'dk',\n",
       " 'DominicanRepublic': 'do',\n",
       " 'Ecuador': 'ec',\n",
       " 'Estonia': 'ee',\n",
       " 'Spain': 'es',\n",
       " 'Finland': 'fi',\n",
       " 'France': 'fr',\n",
       " 'UnitedKingdom': 'gb',\n",
       " 'World': 'global',\n",
       " 'Greece': 'gr',\n",
       " 'Guatemala': 'gt',\n",
       " 'HongKong': 'hk',\n",
       " 'Honduras': 'hn',\n",
       " 'Hungary': 'hu',\n",
       " 'Indonesia': 'id',\n",
       " 'Ireland': 'ie',\n",
       " 'Iceland': 'is',\n",
       " 'Italy': 'it',\n",
       " 'Japan': 'jp',\n",
       " 'Lithuania': 'lt',\n",
       " 'Luxemborg': 'lu',\n",
       " 'Latvia': 'lv',\n",
       " 'Mexico': 'mx',\n",
       " 'Malaysia': 'my',\n",
       " 'Netherlands': 'nl',\n",
       " 'Norway': 'no',\n",
       " 'NewZealand': 'nz',\n",
       " 'Panama': 'pa',\n",
       " 'Peru': 'pe',\n",
       " 'Philippines': 'ph',\n",
       " 'Poland': 'pl',\n",
       " 'Portugal': 'pt',\n",
       " 'Paraguay': 'py',\n",
       " 'Sweden': 'se',\n",
       " 'Singapore': 'sg',\n",
       " 'Slovakia': 'sk',\n",
       " 'ElSalvador': 'sv',\n",
       " 'Turkey': 'tr',\n",
       " 'Taiwan': 'tw',\n",
       " 'USA': 'us',\n",
       " 'Uruguay': 'uy'}"
      ]
     },
     "execution_count": 7,
     "metadata": {},
     "output_type": "execute_result"
    }
   ],
   "source": [
    "country_to_code = {v: k for k, v in codes_to_country.items()}\n",
    "country_to_code"
   ]
  },
  {
   "cell_type": "markdown",
   "metadata": {},
   "source": [
    "We are going to use the country codes for the sequences generation instead the verbose ones"
   ]
  },
  {
   "cell_type": "code",
   "execution_count": 8,
   "metadata": {},
   "outputs": [],
   "source": [
    "ranking_df['Region_code'] = ranking_df['Region'].apply(lambda r: country_to_code[r])"
   ]
  },
  {
   "cell_type": "code",
   "execution_count": 9,
   "metadata": {
    "scrolled": true
   },
   "outputs": [
    {
     "data": {
      "text/html": [
       "<div>\n",
       "<style scoped>\n",
       "    .dataframe tbody tr th:only-of-type {\n",
       "        vertical-align: middle;\n",
       "    }\n",
       "\n",
       "    .dataframe tbody tr th {\n",
       "        vertical-align: top;\n",
       "    }\n",
       "\n",
       "    .dataframe thead th {\n",
       "        text-align: right;\n",
       "    }\n",
       "</style>\n",
       "<table border=\"1\" class=\"dataframe\">\n",
       "  <thead>\n",
       "    <tr style=\"text-align: right;\">\n",
       "      <th></th>\n",
       "      <th>Position</th>\n",
       "      <th>Track Name</th>\n",
       "      <th>Artist</th>\n",
       "      <th>Streams</th>\n",
       "      <th>URL</th>\n",
       "      <th>Date</th>\n",
       "      <th>Region</th>\n",
       "      <th>song_id</th>\n",
       "      <th>release_date</th>\n",
       "      <th>day_of_study</th>\n",
       "      <th>release_month</th>\n",
       "      <th>week_of_study</th>\n",
       "      <th>Region_code</th>\n",
       "    </tr>\n",
       "  </thead>\n",
       "  <tbody>\n",
       "    <tr>\n",
       "      <th>158365</th>\n",
       "      <td>166</td>\n",
       "      <td>Supalonely</td>\n",
       "      <td>BENEE, Gus Dapperton</td>\n",
       "      <td>34940</td>\n",
       "      <td>4nK5YrxbMGZstTLbvj6Gxw</td>\n",
       "      <td>2020-03-03</td>\n",
       "      <td>Canada</td>\n",
       "      <td>4nK5YrxbMGZstTLbvj6Gxw</td>\n",
       "      <td>2019-11-15</td>\n",
       "      <td>1157</td>\n",
       "      <td>11</td>\n",
       "      <td>165</td>\n",
       "      <td>ca</td>\n",
       "    </tr>\n",
       "    <tr>\n",
       "      <th>158510</th>\n",
       "      <td>111</td>\n",
       "      <td>Supalonely</td>\n",
       "      <td>BENEE, Gus Dapperton</td>\n",
       "      <td>43783</td>\n",
       "      <td>4nK5YrxbMGZstTLbvj6Gxw</td>\n",
       "      <td>2020-03-04</td>\n",
       "      <td>Canada</td>\n",
       "      <td>4nK5YrxbMGZstTLbvj6Gxw</td>\n",
       "      <td>2019-11-15</td>\n",
       "      <td>1158</td>\n",
       "      <td>11</td>\n",
       "      <td>165</td>\n",
       "      <td>ca</td>\n",
       "    </tr>\n",
       "    <tr>\n",
       "      <th>158671</th>\n",
       "      <td>72</td>\n",
       "      <td>Supalonely</td>\n",
       "      <td>BENEE, Gus Dapperton</td>\n",
       "      <td>54370</td>\n",
       "      <td>4nK5YrxbMGZstTLbvj6Gxw</td>\n",
       "      <td>2020-03-05</td>\n",
       "      <td>Canada</td>\n",
       "      <td>4nK5YrxbMGZstTLbvj6Gxw</td>\n",
       "      <td>2019-11-15</td>\n",
       "      <td>1159</td>\n",
       "      <td>11</td>\n",
       "      <td>165</td>\n",
       "      <td>ca</td>\n",
       "    </tr>\n",
       "    <tr>\n",
       "      <th>158876</th>\n",
       "      <td>77</td>\n",
       "      <td>Supalonely</td>\n",
       "      <td>BENEE, Gus Dapperton</td>\n",
       "      <td>64138</td>\n",
       "      <td>4nK5YrxbMGZstTLbvj6Gxw</td>\n",
       "      <td>2020-03-06</td>\n",
       "      <td>Canada</td>\n",
       "      <td>4nK5YrxbMGZstTLbvj6Gxw</td>\n",
       "      <td>2019-11-15</td>\n",
       "      <td>1160</td>\n",
       "      <td>11</td>\n",
       "      <td>165</td>\n",
       "      <td>ca</td>\n",
       "    </tr>\n",
       "    <tr>\n",
       "      <th>159064</th>\n",
       "      <td>65</td>\n",
       "      <td>Supalonely</td>\n",
       "      <td>BENEE, Gus Dapperton</td>\n",
       "      <td>68269</td>\n",
       "      <td>4nK5YrxbMGZstTLbvj6Gxw</td>\n",
       "      <td>2020-03-07</td>\n",
       "      <td>Canada</td>\n",
       "      <td>4nK5YrxbMGZstTLbvj6Gxw</td>\n",
       "      <td>2019-11-15</td>\n",
       "      <td>1161</td>\n",
       "      <td>11</td>\n",
       "      <td>165</td>\n",
       "      <td>ca</td>\n",
       "    </tr>\n",
       "    <tr>\n",
       "      <th>...</th>\n",
       "      <td>...</td>\n",
       "      <td>...</td>\n",
       "      <td>...</td>\n",
       "      <td>...</td>\n",
       "      <td>...</td>\n",
       "      <td>...</td>\n",
       "      <td>...</td>\n",
       "      <td>...</td>\n",
       "      <td>...</td>\n",
       "      <td>...</td>\n",
       "      <td>...</td>\n",
       "      <td>...</td>\n",
       "      <td>...</td>\n",
       "    </tr>\n",
       "    <tr>\n",
       "      <th>179893</th>\n",
       "      <td>198</td>\n",
       "      <td>Supalonely</td>\n",
       "      <td>BENEE, Gus Dapperton</td>\n",
       "      <td>1581</td>\n",
       "      <td>4nK5YrxbMGZstTLbvj6Gxw</td>\n",
       "      <td>2020-06-22</td>\n",
       "      <td>Uruguay</td>\n",
       "      <td>4nK5YrxbMGZstTLbvj6Gxw</td>\n",
       "      <td>2019-11-15</td>\n",
       "      <td>1268</td>\n",
       "      <td>11</td>\n",
       "      <td>181</td>\n",
       "      <td>uy</td>\n",
       "    </tr>\n",
       "    <tr>\n",
       "      <th>180089</th>\n",
       "      <td>194</td>\n",
       "      <td>Supalonely</td>\n",
       "      <td>BENEE, Gus Dapperton</td>\n",
       "      <td>1532</td>\n",
       "      <td>4nK5YrxbMGZstTLbvj6Gxw</td>\n",
       "      <td>2020-06-23</td>\n",
       "      <td>Uruguay</td>\n",
       "      <td>4nK5YrxbMGZstTLbvj6Gxw</td>\n",
       "      <td>2019-11-15</td>\n",
       "      <td>1269</td>\n",
       "      <td>11</td>\n",
       "      <td>181</td>\n",
       "      <td>uy</td>\n",
       "    </tr>\n",
       "    <tr>\n",
       "      <th>181284</th>\n",
       "      <td>189</td>\n",
       "      <td>Supalonely</td>\n",
       "      <td>BENEE, Gus Dapperton</td>\n",
       "      <td>1570</td>\n",
       "      <td>4nK5YrxbMGZstTLbvj6Gxw</td>\n",
       "      <td>2020-06-29</td>\n",
       "      <td>Uruguay</td>\n",
       "      <td>4nK5YrxbMGZstTLbvj6Gxw</td>\n",
       "      <td>2019-11-15</td>\n",
       "      <td>1275</td>\n",
       "      <td>11</td>\n",
       "      <td>182</td>\n",
       "      <td>uy</td>\n",
       "    </tr>\n",
       "    <tr>\n",
       "      <th>181491</th>\n",
       "      <td>196</td>\n",
       "      <td>Supalonely</td>\n",
       "      <td>BENEE, Gus Dapperton</td>\n",
       "      <td>1390</td>\n",
       "      <td>4nK5YrxbMGZstTLbvj6Gxw</td>\n",
       "      <td>2020-06-30</td>\n",
       "      <td>Uruguay</td>\n",
       "      <td>4nK5YrxbMGZstTLbvj6Gxw</td>\n",
       "      <td>2019-11-15</td>\n",
       "      <td>1276</td>\n",
       "      <td>11</td>\n",
       "      <td>182</td>\n",
       "      <td>uy</td>\n",
       "    </tr>\n",
       "    <tr>\n",
       "      <th>181689</th>\n",
       "      <td>194</td>\n",
       "      <td>Supalonely</td>\n",
       "      <td>BENEE, Gus Dapperton</td>\n",
       "      <td>1542</td>\n",
       "      <td>4nK5YrxbMGZstTLbvj6Gxw</td>\n",
       "      <td>2020-07-01</td>\n",
       "      <td>Uruguay</td>\n",
       "      <td>4nK5YrxbMGZstTLbvj6Gxw</td>\n",
       "      <td>2019-11-15</td>\n",
       "      <td>1277</td>\n",
       "      <td>11</td>\n",
       "      <td>182</td>\n",
       "      <td>uy</td>\n",
       "    </tr>\n",
       "  </tbody>\n",
       "</table>\n",
       "<p>7049 rows × 13 columns</p>\n",
       "</div>"
      ],
      "text/plain": [
       "        Position  Track Name                Artist  Streams  \\\n",
       "158365       166  Supalonely  BENEE, Gus Dapperton    34940   \n",
       "158510       111  Supalonely  BENEE, Gus Dapperton    43783   \n",
       "158671        72  Supalonely  BENEE, Gus Dapperton    54370   \n",
       "158876        77  Supalonely  BENEE, Gus Dapperton    64138   \n",
       "159064        65  Supalonely  BENEE, Gus Dapperton    68269   \n",
       "...          ...         ...                   ...      ...   \n",
       "179893       198  Supalonely  BENEE, Gus Dapperton     1581   \n",
       "180089       194  Supalonely  BENEE, Gus Dapperton     1532   \n",
       "181284       189  Supalonely  BENEE, Gus Dapperton     1570   \n",
       "181491       196  Supalonely  BENEE, Gus Dapperton     1390   \n",
       "181689       194  Supalonely  BENEE, Gus Dapperton     1542   \n",
       "\n",
       "                           URL       Date   Region                 song_id  \\\n",
       "158365  4nK5YrxbMGZstTLbvj6Gxw 2020-03-03   Canada  4nK5YrxbMGZstTLbvj6Gxw   \n",
       "158510  4nK5YrxbMGZstTLbvj6Gxw 2020-03-04   Canada  4nK5YrxbMGZstTLbvj6Gxw   \n",
       "158671  4nK5YrxbMGZstTLbvj6Gxw 2020-03-05   Canada  4nK5YrxbMGZstTLbvj6Gxw   \n",
       "158876  4nK5YrxbMGZstTLbvj6Gxw 2020-03-06   Canada  4nK5YrxbMGZstTLbvj6Gxw   \n",
       "159064  4nK5YrxbMGZstTLbvj6Gxw 2020-03-07   Canada  4nK5YrxbMGZstTLbvj6Gxw   \n",
       "...                        ...        ...      ...                     ...   \n",
       "179893  4nK5YrxbMGZstTLbvj6Gxw 2020-06-22  Uruguay  4nK5YrxbMGZstTLbvj6Gxw   \n",
       "180089  4nK5YrxbMGZstTLbvj6Gxw 2020-06-23  Uruguay  4nK5YrxbMGZstTLbvj6Gxw   \n",
       "181284  4nK5YrxbMGZstTLbvj6Gxw 2020-06-29  Uruguay  4nK5YrxbMGZstTLbvj6Gxw   \n",
       "181491  4nK5YrxbMGZstTLbvj6Gxw 2020-06-30  Uruguay  4nK5YrxbMGZstTLbvj6Gxw   \n",
       "181689  4nK5YrxbMGZstTLbvj6Gxw 2020-07-01  Uruguay  4nK5YrxbMGZstTLbvj6Gxw   \n",
       "\n",
       "       release_date  day_of_study  release_month  week_of_study Region_code  \n",
       "158365   2019-11-15          1157             11            165          ca  \n",
       "158510   2019-11-15          1158             11            165          ca  \n",
       "158671   2019-11-15          1159             11            165          ca  \n",
       "158876   2019-11-15          1160             11            165          ca  \n",
       "159064   2019-11-15          1161             11            165          ca  \n",
       "...             ...           ...            ...            ...         ...  \n",
       "179893   2019-11-15          1268             11            181          uy  \n",
       "180089   2019-11-15          1269             11            181          uy  \n",
       "181284   2019-11-15          1275             11            182          uy  \n",
       "181491   2019-11-15          1276             11            182          uy  \n",
       "181689   2019-11-15          1277             11            182          uy  \n",
       "\n",
       "[7049 rows x 13 columns]"
      ]
     },
     "execution_count": 9,
     "metadata": {},
     "output_type": "execute_result"
    }
   ],
   "source": [
    "ranking_df[ranking_df['song_id']=='4nK5YrxbMGZstTLbvj6Gxw']"
   ]
  },
  {
   "cell_type": "code",
   "execution_count": 10,
   "metadata": {},
   "outputs": [
    {
     "name": "stdout",
     "output_type": "stream",
     "text": [
      "<class 'pandas.core.frame.DataFrame'>\n",
      "Int64Index: 1359484 entries, 2176 to 34397\n",
      "Data columns (total 13 columns):\n",
      " #   Column         Non-Null Count    Dtype         \n",
      "---  ------         --------------    -----         \n",
      " 0   Position       1359484 non-null  int64         \n",
      " 1   Track Name     1359484 non-null  object        \n",
      " 2   Artist         1359484 non-null  object        \n",
      " 3   Streams        1359484 non-null  int64         \n",
      " 4   URL            1359484 non-null  object        \n",
      " 5   Date           1359484 non-null  datetime64[ns]\n",
      " 6   Region         1359484 non-null  object        \n",
      " 7   song_id        1359484 non-null  object        \n",
      " 8   release_date   1359484 non-null  datetime64[ns]\n",
      " 9   day_of_study   1359484 non-null  int64         \n",
      " 10  release_month  1359484 non-null  int64         \n",
      " 11  week_of_study  1359484 non-null  int64         \n",
      " 12  Region_code    1359484 non-null  object        \n",
      "dtypes: datetime64[ns](2), int64(5), object(6)\n",
      "memory usage: 145.2+ MB\n"
     ]
    }
   ],
   "source": [
    "ranking_df.info()"
   ]
  },
  {
   "cell_type": "code",
   "execution_count": 11,
   "metadata": {},
   "outputs": [
    {
     "name": "stdout",
     "output_type": "stream",
     "text": [
      "The number of total songs is 4363\n"
     ]
    }
   ],
   "source": [
    "total_songs = ranking_df['song_id'].nunique()\n",
    "print(f'The number of total songs is {total_songs}')"
   ]
  },
  {
   "cell_type": "markdown",
   "metadata": {},
   "source": [
    "### Auxiliary functions"
   ]
  },
  {
   "cell_type": "code",
   "execution_count": 12,
   "metadata": {},
   "outputs": [],
   "source": [
    "from datetime import date, timedelta\n",
    "\n",
    "def daterange(start_date, end_date):\n",
    "    for n in range(int((end_date - start_date).days)):\n",
    "        yield start_date + timedelta(n)"
   ]
  },
  {
   "cell_type": "code",
   "execution_count": 13,
   "metadata": {},
   "outputs": [],
   "source": [
    "def get_paths_from_graph(df, cutoff_=10):\n",
    "    \n",
    "    G = nx.from_pandas_edgelist(df, 'source', 'target', ['weight'], create_using=nx.DiGraph())\n",
    "\n",
    "    roots = []\n",
    "    leaves = []\n",
    "    for node in G.nodes:\n",
    "        if G.in_degree(node) == 0 : # it's a root\n",
    "            roots.append(node)\n",
    "        elif G.out_degree(node) == 0 : # it's a leaf\n",
    "                leaves.append(node)\n",
    "    \n",
    "    paths = []\n",
    "    for root in roots :\n",
    "        for leaf in leaves :\n",
    "            for path in nx.all_simple_paths(G, root, leaf, cutoff= cutoff_):\n",
    "                paths.append(path)\n",
    "\n",
    "    return paths"
   ]
  },
  {
   "cell_type": "markdown",
   "metadata": {},
   "source": [
    "### Generate sequences from graph"
   ]
  },
  {
   "cell_type": "markdown",
   "metadata": {},
   "source": [
    "We calculate the maximum value between two countries"
   ]
  },
  {
   "cell_type": "code",
   "execution_count": 14,
   "metadata": {},
   "outputs": [],
   "source": [
    "def generate_sequences_fn(min_link_val, n_day_lags_):\n",
    "    \n",
    "    all_paths= []\n",
    "    all_paths_dates_= {}\n",
    "    weight_coeff_= int(n_day_lags_/2)\n",
    "    \n",
    "    days_difference_dict = {}\n",
    "    days_difference_with_seq_dict = {}\n",
    "\n",
    "    for s in tqdm(ranking_df['song_id'].unique()):\n",
    "         #print('-------------',s)\n",
    "\n",
    "        country_songs = set()\n",
    "        all_countries = set()\n",
    "        prev_origins = set()\n",
    "\n",
    "        song_ranking= ranking_df[ranking_df['song_id']==s]\n",
    "        dates=song_ranking.groupby('Region_code')['Date'].min().to_frame()\n",
    "        dates_sort=dates.sort_values('Date')\n",
    "        dates_sort= dates_sort.reset_index().set_index('Date')\n",
    "\n",
    "        dates_lst=dates_sort.index.unique()\n",
    "\n",
    "        src_lst = []\n",
    "        target_lst = []\n",
    "        weight_lst = []\n",
    "\n",
    "        num_countries_at_d = -1\n",
    "\n",
    "        prev_day = None\n",
    "        prev_day_seq = None\n",
    "        for d in dates_lst:\n",
    "            \n",
    "            if prev_day is None:\n",
    "                prev_day = d\n",
    "            else:\n",
    "                d_diff_ = (d-prev_day).days\n",
    "                v = days_difference_dict.get(d_diff_, 0)\n",
    "                v += 1\n",
    "                days_difference_dict[d_diff_] =v\n",
    "                \n",
    "                \n",
    "\n",
    "            countries_at_d = set(song_ranking[song_ranking['Date']==d]['Region_code'].unique())\n",
    "\n",
    "            num_countries_at_d = len(countries_at_d)\n",
    "\n",
    "            # We only use as origins countries that have not act as origin so far.\n",
    "            o_countries = list((country_songs.intersection(countries_at_d))-prev_origins)\n",
    "            d_countries = countries_at_d-country_songs\n",
    "\n",
    "            #print(f'date: {d.strftime(\"%d-%m-%Y\")}')\n",
    "\n",
    "            link_values =[]\n",
    "            for oc in o_countries:\n",
    "                init_week = song_ranking[song_ranking['Region_code']==oc]['week_of_study'].min()\n",
    "                init_date = song_ranking[song_ranking['Region_code']==oc]['Date'].min()\n",
    "\n",
    "                curr_week = song_ranking[(song_ranking['Region_code']==oc) & \n",
    "                                         (song_ranking['Date']==d)]['week_of_study'].values[0]\n",
    "\n",
    "                week_diff = (curr_week-init_week)+1\n",
    "\n",
    "                init_day = d - timedelta(n_day_lags_)\n",
    "\n",
    "                days_diff = (d-init_date).days\n",
    "                if  days_diff < n_day_lags_:\n",
    "                    init_day = d - timedelta(days_diff)\n",
    "\n",
    "                country_values = []\n",
    "                weights = []  \n",
    "                first_date = True\n",
    "                #print(f'{oc}, week_diff: {week_diff}')\n",
    "                for d_curr in daterange(init_day, d+timedelta(1)):\n",
    "                    rank =song_ranking[(song_ranking['Region_code']==oc) & (song_ranking['Date']==d_curr)]['Position']\n",
    "                    if not rank.empty:\n",
    "                        rank_value = rank.values[0]\n",
    "\n",
    "                        diff_ = (d_curr-d).days\n",
    "                        weight = math.exp((diff_/weight_coeff_))\n",
    "\n",
    "                        value_ = weight * (float(rank_value)**-1)\n",
    "                        country_values.append(value_)\n",
    "                        #print(f'{d_curr.strftime(\"%d-%m-%Y\")}, rank: {rank_value},'+ \n",
    "                        #      f'country_values: {country_values}, '+\n",
    "                        #      f'diff_ {diff_}, weight: {weight}')\n",
    "                \n",
    "                link_value = ((float(week_diff)**-1) * sum(country_values))\n",
    "                \n",
    "                if link_value >= min_link_val:\n",
    "                    for dc in d_countries:\n",
    "                        if dc not in all_countries:\n",
    "                            src_lst.append(oc)\n",
    "                            target_lst.append(dc)\n",
    "                            weight_lst.append(link_value)\n",
    "\n",
    "\n",
    "            country_songs = countries_at_d\n",
    "            all_countries = all_countries.union(countries_at_d)\n",
    "            prev_origins = prev_origins.union(o_countries)\n",
    "\n",
    "            graph_df= pd.DataFrame({\"source\": src_lst, \"target\": target_lst, 'weight': weight_lst}) \n",
    "            #if not graph_df.empty:\n",
    "            #    print(graph_df)\n",
    "            song_paths =  get_paths_from_graph(graph_df, cutoff_=5)\n",
    "            \n",
    " \n",
    "            if len(song_paths)>0:\n",
    "                if prev_day_seq is None:\n",
    "                    prev_day_seq = d\n",
    "                else:\n",
    "                    d_diff_ = (d-prev_day_seq).days\n",
    "                    v = days_difference_with_seq_dict.get(d_diff_, 0)\n",
    "                    v += 1\n",
    "                    days_difference_with_seq_dict[d_diff_] =v\n",
    "        \n",
    "                song_path_lst = []\n",
    "                for p in song_paths:\n",
    "                    song_path_lst.append(p)\n",
    "\n",
    "                date_paths = all_paths_dates_.get(d,{})\n",
    "                date_paths[s] = song_path_lst\n",
    "                all_paths_dates_[d] = date_paths\n",
    "\n",
    "        graph_df= pd.DataFrame({\"source\": src_lst, \"target\": target_lst, 'weight': weight_lst})\n",
    "\n",
    "        song_paths =  get_paths_from_graph(graph_df, cutoff_=5)\n",
    "        for p in song_paths:\n",
    "            all_paths.append(p)\n",
    "        #print(all_paths)\n",
    "    return all_paths_dates_, all_paths, days_difference_dict, days_difference_with_seq_dict"
   ]
  },
  {
   "cell_type": "code",
   "execution_count": 15,
   "metadata": {},
   "outputs": [
    {
     "data": {
      "application/vnd.jupyter.widget-view+json": {
       "model_id": "dcc3500a232042b98ef4fca1c2fb2c74",
       "version_major": 2,
       "version_minor": 0
      },
      "text/plain": [
       "  0%|          | 0/4363 [00:00<?, ?it/s]"
      ]
     },
     "metadata": {},
     "output_type": "display_data"
    }
   ],
   "source": [
    "all_paths_dates, all_paths, days_difference_dict, days_difference_with_seq_dict = generate_sequences_fn(0.01, 14)"
   ]
  },
  {
   "cell_type": "code",
   "execution_count": 16,
   "metadata": {},
   "outputs": [],
   "source": [
    "def convert_dict_to_df(dict_):\n",
    "    data_items = dict_.items()\n",
    "    data_list = list(data_items)\n",
    "\n",
    "    df = pd.DataFrame(data_list, columns='diff occurences'.split()).set_index('diff')\n",
    "    df = df.sort_index()\n",
    "    df['occurences_rate']= df['occurences']/df.sum().values[0]\n",
    "    return df"
   ]
  },
  {
   "cell_type": "code",
   "execution_count": 17,
   "metadata": {},
   "outputs": [],
   "source": [
    "days_difference_df= convert_dict_to_df(days_difference_dict)"
   ]
  },
  {
   "cell_type": "code",
   "execution_count": 18,
   "metadata": {},
   "outputs": [
    {
     "data": {
      "text/html": [
       "<div>\n",
       "<style scoped>\n",
       "    .dataframe tbody tr th:only-of-type {\n",
       "        vertical-align: middle;\n",
       "    }\n",
       "\n",
       "    .dataframe tbody tr th {\n",
       "        vertical-align: top;\n",
       "    }\n",
       "\n",
       "    .dataframe thead th {\n",
       "        text-align: right;\n",
       "    }\n",
       "</style>\n",
       "<table border=\"1\" class=\"dataframe\">\n",
       "  <thead>\n",
       "    <tr style=\"text-align: right;\">\n",
       "      <th></th>\n",
       "      <th>occurences</th>\n",
       "      <th>occurences_rate</th>\n",
       "    </tr>\n",
       "    <tr>\n",
       "      <th>diff</th>\n",
       "      <th></th>\n",
       "      <th></th>\n",
       "    </tr>\n",
       "  </thead>\n",
       "  <tbody>\n",
       "    <tr>\n",
       "      <th>1</th>\n",
       "      <td>1355</td>\n",
       "      <td>0.127758</td>\n",
       "    </tr>\n",
       "    <tr>\n",
       "      <th>2</th>\n",
       "      <td>406</td>\n",
       "      <td>0.038280</td>\n",
       "    </tr>\n",
       "    <tr>\n",
       "      <th>3</th>\n",
       "      <td>352</td>\n",
       "      <td>0.033189</td>\n",
       "    </tr>\n",
       "    <tr>\n",
       "      <th>4</th>\n",
       "      <td>278</td>\n",
       "      <td>0.026212</td>\n",
       "    </tr>\n",
       "    <tr>\n",
       "      <th>5</th>\n",
       "      <td>254</td>\n",
       "      <td>0.023949</td>\n",
       "    </tr>\n",
       "  </tbody>\n",
       "</table>\n",
       "</div>"
      ],
      "text/plain": [
       "      occurences  occurences_rate\n",
       "diff                             \n",
       "1           1355         0.127758\n",
       "2            406         0.038280\n",
       "3            352         0.033189\n",
       "4            278         0.026212\n",
       "5            254         0.023949"
      ]
     },
     "execution_count": 18,
     "metadata": {},
     "output_type": "execute_result"
    }
   ],
   "source": [
    "days_difference_df.head()"
   ]
  },
  {
   "cell_type": "code",
   "execution_count": 22,
   "metadata": {},
   "outputs": [
    {
     "data": {
      "image/png": "[encoded data removed]",
      "text/plain": [
       "<Figure size 1000x300 with 1 Axes>"
      ]
     },
     "metadata": {},
     "output_type": "display_data"
    }
   ],
   "source": [
    "ax= days_difference_df['occurences_rate'].loc[:60].plot(kind='bar', grid=True, figsize=(10,3))\n",
    "ax.set_xlabel('Difference in days', fontsize=14)\n",
    "ax.set_ylabel('Rate', fontsize=14)\n",
    "\n",
    "plt.tight_layout()\n",
    "plt.show()"
   ]
  },
  {
   "cell_type": "code",
   "execution_count": 26,
   "metadata": {},
   "outputs": [
    {
     "data": {
      "text/plain": [
       "0.3848764850084857"
      ]
     },
     "execution_count": 26,
     "metadata": {},
     "output_type": "execute_result"
    }
   ],
   "source": [
    "days_difference_df['occurences_rate'].loc[:14].sum()"
   ]
  },
  {
   "cell_type": "code",
   "execution_count": 27,
   "metadata": {},
   "outputs": [],
   "source": [
    "seq_days_difference_df= convert_dict_to_df(days_difference_with_seq_dict)"
   ]
  },
  {
   "cell_type": "code",
   "execution_count": 28,
   "metadata": {},
   "outputs": [
    {
     "data": {
      "text/html": [
       "<div>\n",
       "<style scoped>\n",
       "    .dataframe tbody tr th:only-of-type {\n",
       "        vertical-align: middle;\n",
       "    }\n",
       "\n",
       "    .dataframe tbody tr th {\n",
       "        vertical-align: top;\n",
       "    }\n",
       "\n",
       "    .dataframe thead th {\n",
       "        text-align: right;\n",
       "    }\n",
       "</style>\n",
       "<table border=\"1\" class=\"dataframe\">\n",
       "  <thead>\n",
       "    <tr style=\"text-align: right;\">\n",
       "      <th></th>\n",
       "      <th>occurences</th>\n",
       "      <th>occurences_rate</th>\n",
       "    </tr>\n",
       "    <tr>\n",
       "      <th>diff</th>\n",
       "      <th></th>\n",
       "      <th></th>\n",
       "    </tr>\n",
       "  </thead>\n",
       "  <tbody>\n",
       "    <tr>\n",
       "      <th>1</th>\n",
       "      <td>337</td>\n",
       "      <td>0.067657</td>\n",
       "    </tr>\n",
       "    <tr>\n",
       "      <th>2</th>\n",
       "      <td>211</td>\n",
       "      <td>0.042361</td>\n",
       "    </tr>\n",
       "    <tr>\n",
       "      <th>3</th>\n",
       "      <td>184</td>\n",
       "      <td>0.036940</td>\n",
       "    </tr>\n",
       "    <tr>\n",
       "      <th>4</th>\n",
       "      <td>179</td>\n",
       "      <td>0.035937</td>\n",
       "    </tr>\n",
       "    <tr>\n",
       "      <th>5</th>\n",
       "      <td>135</td>\n",
       "      <td>0.027103</td>\n",
       "    </tr>\n",
       "  </tbody>\n",
       "</table>\n",
       "</div>"
      ],
      "text/plain": [
       "      occurences  occurences_rate\n",
       "diff                             \n",
       "1            337         0.067657\n",
       "2            211         0.042361\n",
       "3            184         0.036940\n",
       "4            179         0.035937\n",
       "5            135         0.027103"
      ]
     },
     "execution_count": 28,
     "metadata": {},
     "output_type": "execute_result"
    }
   ],
   "source": [
    "seq_days_difference_df.head()"
   ]
  },
  {
   "cell_type": "code",
   "execution_count": 29,
   "metadata": {},
   "outputs": [
    {
     "data": {
      "text/html": [
       "<div>\n",
       "<style scoped>\n",
       "    .dataframe tbody tr th:only-of-type {\n",
       "        vertical-align: middle;\n",
       "    }\n",
       "\n",
       "    .dataframe tbody tr th {\n",
       "        vertical-align: top;\n",
       "    }\n",
       "\n",
       "    .dataframe thead th {\n",
       "        text-align: right;\n",
       "    }\n",
       "</style>\n",
       "<table border=\"1\" class=\"dataframe\">\n",
       "  <thead>\n",
       "    <tr style=\"text-align: right;\">\n",
       "      <th></th>\n",
       "      <th>occurences</th>\n",
       "      <th>occurences_rate</th>\n",
       "    </tr>\n",
       "    <tr>\n",
       "      <th>diff</th>\n",
       "      <th></th>\n",
       "      <th></th>\n",
       "    </tr>\n",
       "  </thead>\n",
       "  <tbody>\n",
       "    <tr>\n",
       "      <th>1100</th>\n",
       "      <td>1</td>\n",
       "      <td>0.000201</td>\n",
       "    </tr>\n",
       "    <tr>\n",
       "      <th>1111</th>\n",
       "      <td>1</td>\n",
       "      <td>0.000201</td>\n",
       "    </tr>\n",
       "    <tr>\n",
       "      <th>1112</th>\n",
       "      <td>1</td>\n",
       "      <td>0.000201</td>\n",
       "    </tr>\n",
       "    <tr>\n",
       "      <th>1119</th>\n",
       "      <td>1</td>\n",
       "      <td>0.000201</td>\n",
       "    </tr>\n",
       "    <tr>\n",
       "      <th>1198</th>\n",
       "      <td>1</td>\n",
       "      <td>0.000201</td>\n",
       "    </tr>\n",
       "  </tbody>\n",
       "</table>\n",
       "</div>"
      ],
      "text/plain": [
       "      occurences  occurences_rate\n",
       "diff                             \n",
       "1100           1         0.000201\n",
       "1111           1         0.000201\n",
       "1112           1         0.000201\n",
       "1119           1         0.000201\n",
       "1198           1         0.000201"
      ]
     },
     "execution_count": 29,
     "metadata": {},
     "output_type": "execute_result"
    }
   ],
   "source": [
    "seq_days_difference_df.tail()"
   ]
  },
  {
   "cell_type": "code",
   "execution_count": 32,
   "metadata": {},
   "outputs": [
    {
     "data": {
      "image/png": "[encoded data removed]",
      "text/plain": [
       "<Figure size 1200x300 with 1 Axes>"
      ]
     },
     "metadata": {},
     "output_type": "display_data"
    }
   ],
   "source": [
    "ax= seq_days_difference_df['occurences_rate'].loc[:100].plot(kind='bar', grid=True, figsize=(12,3))\n",
    "ax.set_xlabel('Number of days', fontsize=15)\n",
    "ax.set_ylabel('Rate', fontsize=15)\n",
    "\n",
    "plt.tight_layout()\n",
    "plt.savefig(os.path.join('figs', 'days_diff.png'))\n",
    "plt.show()"
   ]
  },
  {
   "cell_type": "code",
   "execution_count": 33,
   "metadata": {},
   "outputs": [
    {
     "data": {
      "text/plain": [
       "0.4328358208955224"
      ]
     },
     "execution_count": 33,
     "metadata": {},
     "output_type": "execute_result"
    }
   ],
   "source": [
    "seq_days_difference_df['occurences_rate'].loc[:14].sum()"
   ]
  },
  {
   "cell_type": "code",
   "execution_count": 24,
   "metadata": {},
   "outputs": [
    {
     "name": "stdout",
     "output_type": "stream",
     "text": [
      "That's all folks!\n"
     ]
    }
   ],
   "source": [
    "print(\"That's all folks!\")"
   ]
  }
 ],
 "metadata": {
  "kernelspec": {
   "display_name": "Python 3",
   "language": "python",
   "name": "python3"
  },
  "language_info": {
   "codemirror_mode": {
    "name": "ipython",
    "version": 3
   },
   "file_extension": ".py",
   "mimetype": "text/x-python",
   "name": "python",
   "nbconvert_exporter": "python",
   "pygments_lexer": "ipython3",
   "version": "3.8.10"
  }
 },
 "nbformat": 4,
 "nbformat_minor": 4
}
