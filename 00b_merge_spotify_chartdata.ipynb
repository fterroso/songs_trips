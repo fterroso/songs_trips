{
 "cells": [
  {
   "cell_type": "code",
   "execution_count": 1,
   "metadata": {},
   "outputs": [],
   "source": [
    "import pandas as pd\n",
    "import os \n",
    "from tqdm.notebook import tqdm\n"
   ]
  },
  {
   "cell_type": "code",
   "execution_count": 2,
   "metadata": {},
   "outputs": [],
   "source": [
    "country_charts = []\n",
    "\n",
    "for (dirpath, dirnames, filenames) in os.walk(os.path.join('data','chart_data')):\n",
    "    country_charts.extend(filenames)\n",
    "    break\n",
    "country_charts.append('data.csv')\n",
    "\n",
    "country_charts2 = []\n",
    "\n",
    "for (dirpath, dirnames, filenames) in os.walk(os.path.join('data','chart_data','data_202106_202111')):\n",
    "    country_charts2.extend(filenames)\n",
    "    break"
   ]
  },
  {
   "cell_type": "code",
   "execution_count": 3,
   "metadata": {},
   "outputs": [
    {
     "data": {
      "application/vnd.jupyter.widget-view+json": {
       "model_id": "dd731d916ccd4e00bda78b114100b7d4",
       "version_major": 2,
       "version_minor": 0
      },
      "text/plain": [
       "  0%|          | 0/50 [00:00<?, ?it/s]"
      ]
     },
     "metadata": {},
     "output_type": "display_data"
    },
    {
     "data": {
      "application/vnd.jupyter.widget-view+json": {
       "model_id": "e97f25dc7eb646bba2cdd2033c758f3a",
       "version_major": 2,
       "version_minor": 0
      },
      "text/plain": [
       "  0%|          | 0/54 [00:00<?, ?it/s]"
      ]
     },
     "metadata": {},
     "output_type": "display_data"
    }
   ],
   "source": [
    "dfs = []\n",
    "for chart in tqdm(country_charts):\n",
    "    df_ = pd.read_csv(os.path.join('data','chart_data',chart), parse_dates=['Date'])\n",
    "    dfs.append(df_)\n",
    "\n",
    "for chart in tqdm(country_charts2):\n",
    "    df_ = pd.read_csv(os.path.join('data','chart_data', 'data_202106_202111', chart), \n",
    "                      parse_dates=['Date'])\n",
    "    dfs.append(df_)\n",
    "\n",
    "ranking_df = pd.concat(dfs,axis=0)    "
   ]
  },
  {
   "cell_type": "code",
   "execution_count": 4,
   "metadata": {},
   "outputs": [
    {
     "data": {
      "text/html": [
       "<div>\n",
       "<style scoped>\n",
       "    .dataframe tbody tr th:only-of-type {\n",
       "        vertical-align: middle;\n",
       "    }\n",
       "\n",
       "    .dataframe tbody tr th {\n",
       "        vertical-align: top;\n",
       "    }\n",
       "\n",
       "    .dataframe thead th {\n",
       "        text-align: right;\n",
       "    }\n",
       "</style>\n",
       "<table border=\"1\" class=\"dataframe\">\n",
       "  <thead>\n",
       "    <tr style=\"text-align: right;\">\n",
       "      <th></th>\n",
       "      <th>Position</th>\n",
       "      <th>Track Name</th>\n",
       "      <th>Artist</th>\n",
       "      <th>Streams</th>\n",
       "      <th>URL</th>\n",
       "      <th>Date</th>\n",
       "      <th>Region</th>\n",
       "    </tr>\n",
       "  </thead>\n",
       "  <tbody>\n",
       "    <tr>\n",
       "      <th>0</th>\n",
       "      <td>1</td>\n",
       "      <td>Échame La Culpa</td>\n",
       "      <td>Luis Fonsi, Demi Lovato</td>\n",
       "      <td>26459</td>\n",
       "      <td>1zsG4eaZmkA1dvjDDsAGLK</td>\n",
       "      <td>2018-01-01</td>\n",
       "      <td>ec</td>\n",
       "    </tr>\n",
       "    <tr>\n",
       "      <th>1</th>\n",
       "      <td>2</td>\n",
       "      <td>Corazón</td>\n",
       "      <td>Maluma, Nego do Borel</td>\n",
       "      <td>25743</td>\n",
       "      <td>4lESS6vuruP6a79KWRaQou</td>\n",
       "      <td>2018-01-01</td>\n",
       "      <td>ec</td>\n",
       "    </tr>\n",
       "    <tr>\n",
       "      <th>2</th>\n",
       "      <td>3</td>\n",
       "      <td>Déjala Que Vuelva (feat. Manuel Turizo)</td>\n",
       "      <td>Piso 21</td>\n",
       "      <td>24315</td>\n",
       "      <td>33bnxcjePIkcmNjEFTJX0l</td>\n",
       "      <td>2018-01-01</td>\n",
       "      <td>ec</td>\n",
       "    </tr>\n",
       "    <tr>\n",
       "      <th>3</th>\n",
       "      <td>4</td>\n",
       "      <td>Criminal</td>\n",
       "      <td>Natti Natasha, Ozuna</td>\n",
       "      <td>22060</td>\n",
       "      <td>6Za3190Sbw39BBC77WSS1C</td>\n",
       "      <td>2018-01-01</td>\n",
       "      <td>ec</td>\n",
       "    </tr>\n",
       "    <tr>\n",
       "      <th>4</th>\n",
       "      <td>5</td>\n",
       "      <td>Mayores</td>\n",
       "      <td>Becky G, Bad Bunny</td>\n",
       "      <td>18587</td>\n",
       "      <td>7JNh1cfm0eXjqFVOzKLyau</td>\n",
       "      <td>2018-01-01</td>\n",
       "      <td>ec</td>\n",
       "    </tr>\n",
       "  </tbody>\n",
       "</table>\n",
       "</div>"
      ],
      "text/plain": [
       "   Position                               Track Name                   Artist  \\\n",
       "0         1                          Échame La Culpa  Luis Fonsi, Demi Lovato   \n",
       "1         2                                  Corazón    Maluma, Nego do Borel   \n",
       "2         3  Déjala Que Vuelva (feat. Manuel Turizo)                  Piso 21   \n",
       "3         4                                 Criminal     Natti Natasha, Ozuna   \n",
       "4         5                                  Mayores       Becky G, Bad Bunny   \n",
       "\n",
       "   Streams                     URL       Date Region  \n",
       "0    26459  1zsG4eaZmkA1dvjDDsAGLK 2018-01-01     ec  \n",
       "1    25743  4lESS6vuruP6a79KWRaQou 2018-01-01     ec  \n",
       "2    24315  33bnxcjePIkcmNjEFTJX0l 2018-01-01     ec  \n",
       "3    22060  6Za3190Sbw39BBC77WSS1C 2018-01-01     ec  \n",
       "4    18587  7JNh1cfm0eXjqFVOzKLyau 2018-01-01     ec  "
      ]
     },
     "execution_count": 4,
     "metadata": {},
     "output_type": "execute_result"
    }
   ],
   "source": [
    "ranking_df.head()"
   ]
  },
  {
   "cell_type": "code",
   "execution_count": 5,
   "metadata": {},
   "outputs": [
    {
     "data": {
      "text/html": [
       "<div>\n",
       "<style scoped>\n",
       "    .dataframe tbody tr th:only-of-type {\n",
       "        vertical-align: middle;\n",
       "    }\n",
       "\n",
       "    .dataframe tbody tr th {\n",
       "        vertical-align: top;\n",
       "    }\n",
       "\n",
       "    .dataframe thead th {\n",
       "        text-align: right;\n",
       "    }\n",
       "</style>\n",
       "<table border=\"1\" class=\"dataframe\">\n",
       "  <thead>\n",
       "    <tr style=\"text-align: right;\">\n",
       "      <th></th>\n",
       "      <th>Position</th>\n",
       "      <th>Track Name</th>\n",
       "      <th>Artist</th>\n",
       "      <th>Streams</th>\n",
       "      <th>URL</th>\n",
       "      <th>Date</th>\n",
       "      <th>Region</th>\n",
       "    </tr>\n",
       "  </thead>\n",
       "  <tbody>\n",
       "    <tr>\n",
       "      <th>34395</th>\n",
       "      <td>196</td>\n",
       "      <td>Som Fluer</td>\n",
       "      <td>The Minds Of 99</td>\n",
       "      <td>8247</td>\n",
       "      <td>4diMl3ee8zco6asVZNKjti</td>\n",
       "      <td>2021-11-24</td>\n",
       "      <td>dk</td>\n",
       "    </tr>\n",
       "    <tr>\n",
       "      <th>34396</th>\n",
       "      <td>197</td>\n",
       "      <td>Lost in the Fire (feat. The Weeknd)</td>\n",
       "      <td>Gesaffelstein</td>\n",
       "      <td>8201</td>\n",
       "      <td>2vXKRlJBXyOcvZYTdNeckS</td>\n",
       "      <td>2021-11-24</td>\n",
       "      <td>dk</td>\n",
       "    </tr>\n",
       "    <tr>\n",
       "      <th>34397</th>\n",
       "      <td>198</td>\n",
       "      <td>Øde Ø</td>\n",
       "      <td>Rasmus Seebach</td>\n",
       "      <td>8180</td>\n",
       "      <td>7j4sUNVVbPZ6mV4YwP9Yuu</td>\n",
       "      <td>2021-11-24</td>\n",
       "      <td>dk</td>\n",
       "    </tr>\n",
       "    <tr>\n",
       "      <th>34398</th>\n",
       "      <td>199</td>\n",
       "      <td>Shallow</td>\n",
       "      <td>Lady Gaga, Bradley Cooper</td>\n",
       "      <td>8177</td>\n",
       "      <td>2VxeLyX666F8uXCJ0dZF8B</td>\n",
       "      <td>2021-11-24</td>\n",
       "      <td>dk</td>\n",
       "    </tr>\n",
       "    <tr>\n",
       "      <th>34399</th>\n",
       "      <td>200</td>\n",
       "      <td>What A Life</td>\n",
       "      <td>Scarlet Pleasure</td>\n",
       "      <td>8123</td>\n",
       "      <td>3VEvsFY82950YaqNz2vvyr</td>\n",
       "      <td>2021-11-24</td>\n",
       "      <td>dk</td>\n",
       "    </tr>\n",
       "  </tbody>\n",
       "</table>\n",
       "</div>"
      ],
      "text/plain": [
       "       Position                           Track Name  \\\n",
       "34395       196                            Som Fluer   \n",
       "34396       197  Lost in the Fire (feat. The Weeknd)   \n",
       "34397       198                                Øde Ø   \n",
       "34398       199                              Shallow   \n",
       "34399       200                          What A Life   \n",
       "\n",
       "                          Artist  Streams                     URL       Date  \\\n",
       "34395            The Minds Of 99     8247  4diMl3ee8zco6asVZNKjti 2021-11-24   \n",
       "34396              Gesaffelstein     8201  2vXKRlJBXyOcvZYTdNeckS 2021-11-24   \n",
       "34397             Rasmus Seebach     8180  7j4sUNVVbPZ6mV4YwP9Yuu 2021-11-24   \n",
       "34398  Lady Gaga, Bradley Cooper     8177  2VxeLyX666F8uXCJ0dZF8B 2021-11-24   \n",
       "34399           Scarlet Pleasure     8123  3VEvsFY82950YaqNz2vvyr 2021-11-24   \n",
       "\n",
       "      Region  \n",
       "34395     dk  \n",
       "34396     dk  \n",
       "34397     dk  \n",
       "34398     dk  \n",
       "34399     dk  "
      ]
     },
     "execution_count": 5,
     "metadata": {},
     "output_type": "execute_result"
    }
   ],
   "source": [
    "ranking_df.tail()"
   ]
  },
  {
   "cell_type": "code",
   "execution_count": 6,
   "metadata": {},
   "outputs": [
    {
     "name": "stdout",
     "output_type": "stream",
     "text": [
      "<class 'pandas.core.frame.DataFrame'>\n",
      "Int64Index: 19724940 entries, 0 to 34399\n",
      "Data columns (total 7 columns):\n",
      " #   Column      Dtype         \n",
      "---  ------      -----         \n",
      " 0   Position    int64         \n",
      " 1   Track Name  object        \n",
      " 2   Artist      object        \n",
      " 3   Streams     int64         \n",
      " 4   URL         object        \n",
      " 5   Date        datetime64[ns]\n",
      " 6   Region      object        \n",
      "dtypes: datetime64[ns](1), int64(2), object(4)\n",
      "memory usage: 1.2+ GB\n"
     ]
    }
   ],
   "source": [
    "ranking_df.info()"
   ]
  },
  {
   "cell_type": "code",
   "execution_count": 7,
   "metadata": {},
   "outputs": [
    {
     "data": {
      "text/plain": [
       "(19724940, 7)"
      ]
     },
     "execution_count": 7,
     "metadata": {},
     "output_type": "execute_result"
    }
   ],
   "source": [
    "ranking_df.shape"
   ]
  },
  {
   "cell_type": "code",
   "execution_count": 8,
   "metadata": {},
   "outputs": [
    {
     "data": {
      "text/plain": [
       "106299"
      ]
     },
     "execution_count": 8,
     "metadata": {},
     "output_type": "execute_result"
    }
   ],
   "source": [
    "ranking_df['URL'].nunique()"
   ]
  },
  {
   "cell_type": "markdown",
   "metadata": {},
   "source": [
    "### Enrich dataset"
   ]
  },
  {
   "cell_type": "code",
   "execution_count": 13,
   "metadata": {},
   "outputs": [],
   "source": [
    "country_dict = {'ar':'Argentina', 'at':'Austria', 'au':'Australia', 'be':'Belgium',\n",
    "       'bo':'Bolivia', 'br':'Brazil', 'ca':'Canada', 'ch':'Switzerland', \n",
    "       'cl':'Chile', 'co':'Columbia', 'cr':'CostaRica', 'cz':'CzechRepublic',\n",
    "       'de':'Germany', 'dk':'Denmark', 'do':'DominicanRepublic', 'ec':'Ecuador', \n",
    "       'ee':'Estonia', 'es':'Spain', 'fi':'Finland', 'fr':'France', \n",
    "       'gb':'UnitedKingdom', 'global':'World', 'gr':'Greece', 'gt':'Guatemala',\n",
    "       'hk':'HongKong', 'hn':'Honduras', 'hu':'Hungary', 'id':'Indonesia', \n",
    "       'ie':'Ireland', 'is':'Iceland', 'it':'Italy', 'jp':'Japan', \n",
    "       'lt':'Lithuania', 'lu':'Luxemborg', 'lv':'Latvia', 'mx':'Mexico', \n",
    "       'my':'Malaysia', 'nl':'Netherlands', 'no':'Norway', 'nz':'NewZealand', \n",
    "       'pa':'Panama', 'pe':'Peru', 'ph':'Philippines', 'pl':'Poland', \n",
    "       'pt':'Portugal', 'py':'Paraguay', 'se':'Sweden', 'sg':'Singapore', \n",
    "       'sk':'Slovakia', 'sv':'ElSalvador', 'tr':'Turkey', 'tw':'Taiwan', 'us':'USA', 'uy':'Uruguay',} "
   ]
  },
  {
   "cell_type": "code",
   "execution_count": 14,
   "metadata": {},
   "outputs": [],
   "source": [
    "def get_song_id(url):\n",
    "    \n",
    "    if type(url)== float:\n",
    "        return \"no id\"\n",
    "    else:\n",
    "        return url.split('/')[-1]"
   ]
  },
  {
   "cell_type": "code",
   "execution_count": 15,
   "metadata": {},
   "outputs": [],
   "source": [
    "ranking_df['song_id']= ranking_df['URL'].apply(get_song_id)\n",
    "ranking_df['Region']= ranking_df['Region'].apply(lambda x: country_dict[x])\n",
    "ranking_df['release_date']=ranking_df.groupby('song_id')['Date'].transform('min')"
   ]
  },
  {
   "cell_type": "code",
   "execution_count": 16,
   "metadata": {},
   "outputs": [
    {
     "data": {
      "text/html": [
       "<div>\n",
       "<style scoped>\n",
       "    .dataframe tbody tr th:only-of-type {\n",
       "        vertical-align: middle;\n",
       "    }\n",
       "\n",
       "    .dataframe tbody tr th {\n",
       "        vertical-align: top;\n",
       "    }\n",
       "\n",
       "    .dataframe thead th {\n",
       "        text-align: right;\n",
       "    }\n",
       "</style>\n",
       "<table border=\"1\" class=\"dataframe\">\n",
       "  <thead>\n",
       "    <tr style=\"text-align: right;\">\n",
       "      <th></th>\n",
       "      <th>Position</th>\n",
       "      <th>Track Name</th>\n",
       "      <th>Artist</th>\n",
       "      <th>Streams</th>\n",
       "      <th>URL</th>\n",
       "      <th>Date</th>\n",
       "      <th>Region</th>\n",
       "      <th>song_id</th>\n",
       "      <th>release_date</th>\n",
       "    </tr>\n",
       "  </thead>\n",
       "  <tbody>\n",
       "    <tr>\n",
       "      <th>0</th>\n",
       "      <td>1</td>\n",
       "      <td>Reggaetón Lento (Bailemos)</td>\n",
       "      <td>CNCO</td>\n",
       "      <td>19272</td>\n",
       "      <td>https://open.spotify.com/track/3AEZUABDXNtecAO...</td>\n",
       "      <td>2017-01-01</td>\n",
       "      <td>Ecuador</td>\n",
       "      <td>3AEZUABDXNtecAOSC1qTfo</td>\n",
       "      <td>2017-01-01</td>\n",
       "    </tr>\n",
       "    <tr>\n",
       "      <th>1</th>\n",
       "      <td>2</td>\n",
       "      <td>Chantaje</td>\n",
       "      <td>Shakira</td>\n",
       "      <td>19270</td>\n",
       "      <td>https://open.spotify.com/track/6mICuAdrwEjh6Y6...</td>\n",
       "      <td>2017-01-01</td>\n",
       "      <td>Ecuador</td>\n",
       "      <td>6mICuAdrwEjh6Y6lroV2Kg</td>\n",
       "      <td>2017-01-01</td>\n",
       "    </tr>\n",
       "    <tr>\n",
       "      <th>2</th>\n",
       "      <td>3</td>\n",
       "      <td>Otra Vez (feat. J Balvin)</td>\n",
       "      <td>Zion &amp; Lennox</td>\n",
       "      <td>15761</td>\n",
       "      <td>https://open.spotify.com/track/3QwBODjSEzelZyV...</td>\n",
       "      <td>2017-01-01</td>\n",
       "      <td>Ecuador</td>\n",
       "      <td>3QwBODjSEzelZyVjxPOHdq</td>\n",
       "      <td>2017-01-01</td>\n",
       "    </tr>\n",
       "    <tr>\n",
       "      <th>3</th>\n",
       "      <td>4</td>\n",
       "      <td>Vente Pa' Ca</td>\n",
       "      <td>Ricky Martin</td>\n",
       "      <td>14954</td>\n",
       "      <td>https://open.spotify.com/track/7DM4BPaS7uofFul...</td>\n",
       "      <td>2017-01-01</td>\n",
       "      <td>Ecuador</td>\n",
       "      <td>7DM4BPaS7uofFul3ywMe46</td>\n",
       "      <td>2017-01-01</td>\n",
       "    </tr>\n",
       "    <tr>\n",
       "      <th>4</th>\n",
       "      <td>5</td>\n",
       "      <td>Safari</td>\n",
       "      <td>J Balvin</td>\n",
       "      <td>14269</td>\n",
       "      <td>https://open.spotify.com/track/6rQSrBHf7HlZjtc...</td>\n",
       "      <td>2017-01-01</td>\n",
       "      <td>Ecuador</td>\n",
       "      <td>6rQSrBHf7HlZjtcMZ4S4bO</td>\n",
       "      <td>2017-01-01</td>\n",
       "    </tr>\n",
       "  </tbody>\n",
       "</table>\n",
       "</div>"
      ],
      "text/plain": [
       "   Position                  Track Name         Artist  Streams  \\\n",
       "0         1  Reggaetón Lento (Bailemos)           CNCO    19272   \n",
       "1         2                    Chantaje        Shakira    19270   \n",
       "2         3   Otra Vez (feat. J Balvin)  Zion & Lennox    15761   \n",
       "3         4                Vente Pa' Ca   Ricky Martin    14954   \n",
       "4         5                      Safari       J Balvin    14269   \n",
       "\n",
       "                                                 URL       Date   Region  \\\n",
       "0  https://open.spotify.com/track/3AEZUABDXNtecAO... 2017-01-01  Ecuador   \n",
       "1  https://open.spotify.com/track/6mICuAdrwEjh6Y6... 2017-01-01  Ecuador   \n",
       "2  https://open.spotify.com/track/3QwBODjSEzelZyV... 2017-01-01  Ecuador   \n",
       "3  https://open.spotify.com/track/7DM4BPaS7uofFul... 2017-01-01  Ecuador   \n",
       "4  https://open.spotify.com/track/6rQSrBHf7HlZjtc... 2017-01-01  Ecuador   \n",
       "\n",
       "                  song_id release_date  \n",
       "0  3AEZUABDXNtecAOSC1qTfo   2017-01-01  \n",
       "1  6mICuAdrwEjh6Y6lroV2Kg   2017-01-01  \n",
       "2  3QwBODjSEzelZyVjxPOHdq   2017-01-01  \n",
       "3  7DM4BPaS7uofFul3ywMe46   2017-01-01  \n",
       "4  6rQSrBHf7HlZjtcMZ4S4bO   2017-01-01  "
      ]
     },
     "execution_count": 16,
     "metadata": {},
     "output_type": "execute_result"
    }
   ],
   "source": [
    "ranking_df.head()"
   ]
  },
  {
   "cell_type": "code",
   "execution_count": 17,
   "metadata": {},
   "outputs": [
    {
     "data": {
      "text/plain": [
       "(Timestamp('2017-01-01 00:00:00'), Timestamp('2021-11-24 00:00:00'))"
      ]
     },
     "execution_count": 17,
     "metadata": {},
     "output_type": "execute_result"
    }
   ],
   "source": [
    "ranking_df['Date'].min(), ranking_df['Date'].max()"
   ]
  },
  {
   "cell_type": "code",
   "execution_count": 18,
   "metadata": {},
   "outputs": [],
   "source": [
    "ranking_df = ranking_df[(ranking_df['song_id']!= 'no id') & (ranking_df['Region']!= 'global') ]"
   ]
  },
  {
   "cell_type": "code",
   "execution_count": null,
   "metadata": {},
   "outputs": [],
   "source": []
  },
  {
   "cell_type": "code",
   "execution_count": 19,
   "metadata": {},
   "outputs": [],
   "source": [
    "ranking_df.to_csv(os.path.join('data','ranking_all_2017_2021.csv'))"
   ]
  },
  {
   "cell_type": "code",
   "execution_count": 20,
   "metadata": {
    "scrolled": true
   },
   "outputs": [
    {
     "name": "stdout",
     "output_type": "stream",
     "text": [
      "That's all folks!!\n"
     ]
    }
   ],
   "source": [
    "print(\"That's all folks!!\")"
   ]
  }
 ],
 "metadata": {
  "kernelspec": {
   "display_name": "Python 3",
   "language": "python",
   "name": "python3"
  },
  "language_info": {
   "codemirror_mode": {
    "name": "ipython",
    "version": 3
   },
   "file_extension": ".py",
   "mimetype": "text/x-python",
   "name": "python",
   "nbconvert_exporter": "python",
   "pygments_lexer": "ipython3",
   "version": "3.8.10"
  }
 },
 "nbformat": 4,
 "nbformat_minor": 4
}
