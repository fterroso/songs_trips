{
 "cells": [
  {
   "cell_type": "code",
   "execution_count": 1,
   "metadata": {},
   "outputs": [],
   "source": [
    "import pandas as pd\n",
    "import numpy as np\n",
    "import os\n",
    "\n",
    "from tqdm.notebook import tqdm\n",
    "\n",
    "import seaborn as sns\n",
    "\n",
    "import json"
   ]
  },
  {
   "cell_type": "code",
   "execution_count": 2,
   "metadata": {},
   "outputs": [],
   "source": [
    "ranking_df = pd.read_csv(os.path.join('data','data.csv'), parse_dates=['Date'])"
   ]
  },
  {
   "cell_type": "code",
   "execution_count": 3,
   "metadata": {},
   "outputs": [],
   "source": [
    "def get_song_id(url):\n",
    "    \n",
    "    if type(url)== float:\n",
    "        return \"no id\"\n",
    "    else:\n",
    "        return url.split('/')[-1]"
   ]
  },
  {
   "cell_type": "code",
   "execution_count": 4,
   "metadata": {},
   "outputs": [],
   "source": [
    "ranking_df['song_id']= ranking_df['URL'].apply(get_song_id)"
   ]
  },
  {
   "cell_type": "code",
   "execution_count": 5,
   "metadata": {},
   "outputs": [
    {
     "data": {
      "text/html": [
       "<div>\n",
       "<style scoped>\n",
       "    .dataframe tbody tr th:only-of-type {\n",
       "        vertical-align: middle;\n",
       "    }\n",
       "\n",
       "    .dataframe tbody tr th {\n",
       "        vertical-align: top;\n",
       "    }\n",
       "\n",
       "    .dataframe thead th {\n",
       "        text-align: right;\n",
       "    }\n",
       "</style>\n",
       "<table border=\"1\" class=\"dataframe\">\n",
       "  <thead>\n",
       "    <tr style=\"text-align: right;\">\n",
       "      <th></th>\n",
       "      <th>Position</th>\n",
       "      <th>Track Name</th>\n",
       "      <th>Artist</th>\n",
       "      <th>Streams</th>\n",
       "      <th>URL</th>\n",
       "      <th>Date</th>\n",
       "      <th>Region</th>\n",
       "      <th>song_id</th>\n",
       "    </tr>\n",
       "  </thead>\n",
       "  <tbody>\n",
       "    <tr>\n",
       "      <th>0</th>\n",
       "      <td>1</td>\n",
       "      <td>Reggaetón Lento (Bailemos)</td>\n",
       "      <td>CNCO</td>\n",
       "      <td>19272</td>\n",
       "      <td>https://open.spotify.com/track/3AEZUABDXNtecAO...</td>\n",
       "      <td>2017-01-01</td>\n",
       "      <td>ec</td>\n",
       "      <td>3AEZUABDXNtecAOSC1qTfo</td>\n",
       "    </tr>\n",
       "    <tr>\n",
       "      <th>1</th>\n",
       "      <td>2</td>\n",
       "      <td>Chantaje</td>\n",
       "      <td>Shakira</td>\n",
       "      <td>19270</td>\n",
       "      <td>https://open.spotify.com/track/6mICuAdrwEjh6Y6...</td>\n",
       "      <td>2017-01-01</td>\n",
       "      <td>ec</td>\n",
       "      <td>6mICuAdrwEjh6Y6lroV2Kg</td>\n",
       "    </tr>\n",
       "    <tr>\n",
       "      <th>2</th>\n",
       "      <td>3</td>\n",
       "      <td>Otra Vez (feat. J Balvin)</td>\n",
       "      <td>Zion &amp; Lennox</td>\n",
       "      <td>15761</td>\n",
       "      <td>https://open.spotify.com/track/3QwBODjSEzelZyV...</td>\n",
       "      <td>2017-01-01</td>\n",
       "      <td>ec</td>\n",
       "      <td>3QwBODjSEzelZyVjxPOHdq</td>\n",
       "    </tr>\n",
       "    <tr>\n",
       "      <th>3</th>\n",
       "      <td>4</td>\n",
       "      <td>Vente Pa' Ca</td>\n",
       "      <td>Ricky Martin</td>\n",
       "      <td>14954</td>\n",
       "      <td>https://open.spotify.com/track/7DM4BPaS7uofFul...</td>\n",
       "      <td>2017-01-01</td>\n",
       "      <td>ec</td>\n",
       "      <td>7DM4BPaS7uofFul3ywMe46</td>\n",
       "    </tr>\n",
       "    <tr>\n",
       "      <th>4</th>\n",
       "      <td>5</td>\n",
       "      <td>Safari</td>\n",
       "      <td>J Balvin</td>\n",
       "      <td>14269</td>\n",
       "      <td>https://open.spotify.com/track/6rQSrBHf7HlZjtc...</td>\n",
       "      <td>2017-01-01</td>\n",
       "      <td>ec</td>\n",
       "      <td>6rQSrBHf7HlZjtcMZ4S4bO</td>\n",
       "    </tr>\n",
       "  </tbody>\n",
       "</table>\n",
       "</div>"
      ],
      "text/plain": [
       "   Position                  Track Name         Artist  Streams  \\\n",
       "0         1  Reggaetón Lento (Bailemos)           CNCO    19272   \n",
       "1         2                    Chantaje        Shakira    19270   \n",
       "2         3   Otra Vez (feat. J Balvin)  Zion & Lennox    15761   \n",
       "3         4                Vente Pa' Ca   Ricky Martin    14954   \n",
       "4         5                      Safari       J Balvin    14269   \n",
       "\n",
       "                                                 URL       Date Region  \\\n",
       "0  https://open.spotify.com/track/3AEZUABDXNtecAO... 2017-01-01     ec   \n",
       "1  https://open.spotify.com/track/6mICuAdrwEjh6Y6... 2017-01-01     ec   \n",
       "2  https://open.spotify.com/track/3QwBODjSEzelZyV... 2017-01-01     ec   \n",
       "3  https://open.spotify.com/track/7DM4BPaS7uofFul... 2017-01-01     ec   \n",
       "4  https://open.spotify.com/track/6rQSrBHf7HlZjtc... 2017-01-01     ec   \n",
       "\n",
       "                  song_id  \n",
       "0  3AEZUABDXNtecAOSC1qTfo  \n",
       "1  6mICuAdrwEjh6Y6lroV2Kg  \n",
       "2  3QwBODjSEzelZyVjxPOHdq  \n",
       "3  7DM4BPaS7uofFul3ywMe46  \n",
       "4  6rQSrBHf7HlZjtcMZ4S4bO  "
      ]
     },
     "execution_count": 5,
     "metadata": {},
     "output_type": "execute_result"
    }
   ],
   "source": [
    "ranking_df.head()"
   ]
  },
  {
   "cell_type": "code",
   "execution_count": 6,
   "metadata": {},
   "outputs": [
    {
     "name": "stdout",
     "output_type": "stream",
     "text": [
      "<class 'pandas.core.frame.DataFrame'>\n",
      "RangeIndex: 3441197 entries, 0 to 3441196\n",
      "Data columns (total 8 columns):\n",
      " #   Column      Dtype         \n",
      "---  ------      -----         \n",
      " 0   Position    int64         \n",
      " 1   Track Name  object        \n",
      " 2   Artist      object        \n",
      " 3   Streams     int64         \n",
      " 4   URL         object        \n",
      " 5   Date        datetime64[ns]\n",
      " 6   Region      object        \n",
      " 7   song_id     object        \n",
      "dtypes: datetime64[ns](1), int64(2), object(5)\n",
      "memory usage: 210.0+ MB\n"
     ]
    }
   ],
   "source": [
    "ranking_df.info()"
   ]
  },
  {
   "cell_type": "code",
   "execution_count": 7,
   "metadata": {},
   "outputs": [
    {
     "data": {
      "text/plain": [
       "(3441197, 8)"
      ]
     },
     "execution_count": 7,
     "metadata": {},
     "output_type": "execute_result"
    }
   ],
   "source": [
    "ranking_df.shape"
   ]
  },
  {
   "cell_type": "code",
   "execution_count": 8,
   "metadata": {},
   "outputs": [],
   "source": [
    "ranking_df = ranking_df[(ranking_df['song_id']!= 'no id') & (ranking_df['Region']!= 'global') ]"
   ]
  },
  {
   "cell_type": "code",
   "execution_count": 9,
   "metadata": {},
   "outputs": [
    {
     "data": {
      "text/plain": [
       "(3367389, 8)"
      ]
     },
     "execution_count": 9,
     "metadata": {},
     "output_type": "execute_result"
    }
   ],
   "source": [
    "ranking_df.shape"
   ]
  },
  {
   "cell_type": "code",
   "execution_count": 10,
   "metadata": {},
   "outputs": [
    {
     "data": {
      "text/plain": [
       "53"
      ]
     },
     "execution_count": 10,
     "metadata": {},
     "output_type": "execute_result"
    }
   ],
   "source": [
    "ranking_df['Region'].nunique()"
   ]
  },
  {
   "cell_type": "code",
   "execution_count": 11,
   "metadata": {},
   "outputs": [],
   "source": [
    "s=ranking_df.groupby(['song_id','Region'])['Date'].min().to_frame()"
   ]
  },
  {
   "cell_type": "code",
   "execution_count": 12,
   "metadata": {},
   "outputs": [
    {
     "data": {
      "text/html": [
       "<div>\n",
       "<style scoped>\n",
       "    .dataframe tbody tr th:only-of-type {\n",
       "        vertical-align: middle;\n",
       "    }\n",
       "\n",
       "    .dataframe tbody tr th {\n",
       "        vertical-align: top;\n",
       "    }\n",
       "\n",
       "    .dataframe thead th {\n",
       "        text-align: right;\n",
       "    }\n",
       "</style>\n",
       "<table border=\"1\" class=\"dataframe\">\n",
       "  <thead>\n",
       "    <tr style=\"text-align: right;\">\n",
       "      <th></th>\n",
       "      <th></th>\n",
       "      <th>Date</th>\n",
       "    </tr>\n",
       "    <tr>\n",
       "      <th>song_id</th>\n",
       "      <th>Region</th>\n",
       "      <th></th>\n",
       "    </tr>\n",
       "  </thead>\n",
       "  <tbody>\n",
       "    <tr>\n",
       "      <th rowspan=\"5\" valign=\"top\">000xQL6tZNLJzIrtIgxqSl</th>\n",
       "      <th>ar</th>\n",
       "      <td>2017-04-08</td>\n",
       "    </tr>\n",
       "    <tr>\n",
       "      <th>at</th>\n",
       "      <td>2017-03-24</td>\n",
       "    </tr>\n",
       "    <tr>\n",
       "      <th>au</th>\n",
       "      <td>2017-03-24</td>\n",
       "    </tr>\n",
       "    <tr>\n",
       "      <th>be</th>\n",
       "      <td>2017-03-24</td>\n",
       "    </tr>\n",
       "    <tr>\n",
       "      <th>bo</th>\n",
       "      <td>2017-04-25</td>\n",
       "    </tr>\n",
       "  </tbody>\n",
       "</table>\n",
       "</div>"
      ],
      "text/plain": [
       "                                    Date\n",
       "song_id                Region           \n",
       "000xQL6tZNLJzIrtIgxqSl ar     2017-04-08\n",
       "                       at     2017-03-24\n",
       "                       au     2017-03-24\n",
       "                       be     2017-03-24\n",
       "                       bo     2017-04-25"
      ]
     },
     "execution_count": 12,
     "metadata": {},
     "output_type": "execute_result"
    }
   ],
   "source": [
    "s.head()"
   ]
  },
  {
   "cell_type": "code",
   "execution_count": 13,
   "metadata": {},
   "outputs": [
    {
     "data": {
      "image/png": "[encoded data removed]",
      "text/plain": [
       "<Figure size 432x288 with 1 Axes>"
      ]
     },
     "metadata": {
      "needs_background": "light"
     },
     "output_type": "display_data"
    }
   ],
   "source": [
    "days_per_song= s.groupby(['song_id'])['Date'].nunique()\n",
    "days_per_song.plot(grid=True);"
   ]
  },
  {
   "cell_type": "code",
   "execution_count": 14,
   "metadata": {},
   "outputs": [
    {
     "data": {
      "image/png": "[encoded data removed]",
      "text/plain": [
       "<Figure size 360x360 with 1 Axes>"
      ]
     },
     "metadata": {
      "needs_background": "light"
     },
     "output_type": "display_data"
    }
   ],
   "source": [
    "sns.displot(days_per_song);"
   ]
  },
  {
   "cell_type": "code",
   "execution_count": 15,
   "metadata": {},
   "outputs": [],
   "source": [
    "def generate_song_sequences_fn(song_ranking):\n",
    "    dates=song_ranking.groupby('Region')['Date'].min().to_frame()\n",
    "    dates_sort=dates.sort_values('Date')\n",
    "    dates_sort= dates_sort.reset_index().set_index('Date')\n",
    "    \n",
    "    dates_lst=dates_sort.index.unique().values\n",
    "    l=None\n",
    "    if len(dates_lst)>= 2:\n",
    "        l=dates_sort.loc[dates_lst[0]].values\n",
    "        l=np.array(l).flatten()\n",
    "\n",
    "        len_=1\n",
    "        for d in range(1,len(dates_lst)):\n",
    "            l2=dates_sort.loc[dates_lst[d]].values\n",
    "            l2=np.array(l2).flatten()\n",
    "            \n",
    "            if len_ < 2:\n",
    "                l=[[a,b] for a in l for b in l2]\n",
    "            else:\n",
    "                l=[a+[b] for a in l for b in l2]            \n",
    "            len_+=1\n",
    "    \n",
    "            \"\"\"\n",
    "            if len_ < 2:\n",
    "                l=[(a,)+(b,) for a in l for b in l2]\n",
    "            else:\n",
    "                l=[a+(b,) for a in l for b in l2]\n",
    "            len_+=1\n",
    "            \"\"\"\n",
    "    return l"
   ]
  },
  {
   "cell_type": "code",
   "execution_count": 16,
   "metadata": {},
   "outputs": [
    {
     "data": {
      "application/vnd.jupyter.widget-view+json": {
       "model_id": "4b1fb2db7d354f51ab6149cb282f5402",
       "version_major": 2,
       "version_minor": 0
      },
      "text/plain": [
       "HBox(children=(HTML(value=''), FloatProgress(value=0.0, max=21746.0), HTML(value='')))"
      ]
     },
     "metadata": {},
     "output_type": "display_data"
    },
    {
     "name": "stdout",
     "output_type": "stream",
     "text": [
      "\n"
     ]
    }
   ],
   "source": [
    "seq={}\n",
    "for s in tqdm(ranking_df['song_id'].unique()):\n",
    "    song_ranking= ranking_df[ranking_df['song_id']==s]\n",
    "    song_seq= generate_song_sequences_fn(song_ranking)\n",
    "    if song_seq is not None:\n",
    "        #print(s,song_seq)\n",
    "        seq[s]=song_seq"
   ]
  },
  {
   "cell_type": "code",
   "execution_count": 17,
   "metadata": {},
   "outputs": [],
   "source": [
    "with open(os.path.join('data','song_sequence.json'), 'w') as json_file:\n",
    "    json.dump(seq, json_file)"
   ]
  },
  {
   "cell_type": "markdown",
   "metadata": {},
   "source": [
    "print(\"That's all folks\")"
   ]
  },
  {
   "cell_type": "markdown",
   "metadata": {},
   "source": [
    "----------------------------------------------------------------------------"
   ]
  },
  {
   "cell_type": "markdown",
   "metadata": {},
   "source": [
    "Test code"
   ]
  },
  {
   "cell_type": "code",
   "execution_count": 21,
   "metadata": {},
   "outputs": [],
   "source": [
    "song_ranking= ranking_df[ranking_df['song_id']=='3AEZUABDXNtecAOSC1qTfo']"
   ]
  },
  {
   "cell_type": "code",
   "execution_count": 22,
   "metadata": {
    "scrolled": true
   },
   "outputs": [],
   "source": [
    "dates=song_ranking.groupby('Region')['Date'].min().to_frame()"
   ]
  },
  {
   "cell_type": "code",
   "execution_count": 23,
   "metadata": {
    "scrolled": true
   },
   "outputs": [],
   "source": [
    "dates_sort=dates.sort_values('Date')"
   ]
  },
  {
   "cell_type": "code",
   "execution_count": 24,
   "metadata": {},
   "outputs": [],
   "source": [
    "dates_sort= dates_sort.reset_index().set_index('Date')"
   ]
  },
  {
   "cell_type": "code",
   "execution_count": 25,
   "metadata": {},
   "outputs": [
    {
     "data": {
      "text/html": [
       "<div>\n",
       "<style scoped>\n",
       "    .dataframe tbody tr th:only-of-type {\n",
       "        vertical-align: middle;\n",
       "    }\n",
       "\n",
       "    .dataframe tbody tr th {\n",
       "        vertical-align: top;\n",
       "    }\n",
       "\n",
       "    .dataframe thead th {\n",
       "        text-align: right;\n",
       "    }\n",
       "</style>\n",
       "<table border=\"1\" class=\"dataframe\">\n",
       "  <thead>\n",
       "    <tr style=\"text-align: right;\">\n",
       "      <th></th>\n",
       "      <th>Region</th>\n",
       "    </tr>\n",
       "    <tr>\n",
       "      <th>Date</th>\n",
       "      <th></th>\n",
       "    </tr>\n",
       "  </thead>\n",
       "  <tbody>\n",
       "    <tr>\n",
       "      <th>2017-01-01</th>\n",
       "      <td>ar</td>\n",
       "    </tr>\n",
       "    <tr>\n",
       "      <th>2017-01-01</th>\n",
       "      <td>py</td>\n",
       "    </tr>\n",
       "    <tr>\n",
       "      <th>2017-01-01</th>\n",
       "      <td>pt</td>\n",
       "    </tr>\n",
       "    <tr>\n",
       "      <th>2017-01-01</th>\n",
       "      <td>pe</td>\n",
       "    </tr>\n",
       "    <tr>\n",
       "      <th>2017-01-01</th>\n",
       "      <td>pa</td>\n",
       "    </tr>\n",
       "  </tbody>\n",
       "</table>\n",
       "</div>"
      ],
      "text/plain": [
       "           Region\n",
       "Date             \n",
       "2017-01-01     ar\n",
       "2017-01-01     py\n",
       "2017-01-01     pt\n",
       "2017-01-01     pe\n",
       "2017-01-01     pa"
      ]
     },
     "execution_count": 25,
     "metadata": {},
     "output_type": "execute_result"
    }
   ],
   "source": [
    "dates_sort.head()"
   ]
  },
  {
   "cell_type": "code",
   "execution_count": 39,
   "metadata": {},
   "outputs": [
    {
     "data": {
      "text/plain": [
       "array(['2017-01-01T00:00:00.000000000', '2017-01-02T00:00:00.000000000',\n",
       "       '2017-01-06T00:00:00.000000000', '2017-01-18T00:00:00.000000000',\n",
       "       '2017-01-22T00:00:00.000000000', '2017-01-23T00:00:00.000000000',\n",
       "       '2017-01-24T00:00:00.000000000', '2017-01-27T00:00:00.000000000'],\n",
       "      dtype='datetime64[ns]')"
      ]
     },
     "execution_count": 39,
     "metadata": {},
     "output_type": "execute_result"
    }
   ],
   "source": [
    "dates_lst=dates_sort.index.unique().values\n",
    "dates_lst"
   ]
  },
  {
   "cell_type": "code",
   "execution_count": 41,
   "metadata": {},
   "outputs": [
    {
     "data": {
      "text/plain": [
       "array(['2017-01-02T00:00:00.000000000', '2017-01-06T00:00:00.000000000',\n",
       "       '2017-01-18T00:00:00.000000000', '2017-01-22T00:00:00.000000000',\n",
       "       '2017-01-23T00:00:00.000000000', '2017-01-24T00:00:00.000000000',\n",
       "       '2017-01-27T00:00:00.000000000'], dtype='datetime64[ns]')"
      ]
     },
     "execution_count": 41,
     "metadata": {},
     "output_type": "execute_result"
    }
   ],
   "source": [
    "dates_lst[1:]"
   ]
  },
  {
   "cell_type": "code",
   "execution_count": 46,
   "metadata": {},
   "outputs": [
    {
     "name": "stdout",
     "output_type": "stream",
     "text": [
      "1 nanoseconds\n",
      "5 nanoseconds\n",
      "17 nanoseconds\n",
      "21 nanoseconds\n",
      "22 nanoseconds\n",
      "23 nanoseconds\n",
      "26 nanoseconds\n"
     ]
    }
   ],
   "source": [
    "if len(dates_lst)>= 2:\n",
    "    do =dates_lst[0]\n",
    "    l=dates_sort.loc[d_o].values\n",
    "    l=np.array(l).flatten()\n",
    "    \n",
    "    for de in dates_lst[1:]:\n",
    "        \n",
    "        print((de-do)/86400000000000)"
   ]
  },
  {
   "cell_type": "code",
   "execution_count": 31,
   "metadata": {
    "scrolled": false
   },
   "outputs": [
    {
     "data": {
      "application/vnd.jupyter.widget-view+json": {
       "model_id": "bbc7d92c5aba4a648e65cf65ca61b43c",
       "version_major": 2,
       "version_minor": 0
      },
      "text/plain": [
       "HBox(children=(HTML(value=''), FloatProgress(value=0.0, max=7.0), HTML(value='')))"
      ]
     },
     "metadata": {},
     "output_type": "display_data"
    },
    {
     "name": "stdout",
     "output_type": "stream",
     "text": [
      "[['ar', 'pl'], ['py', 'pl'], ['pt', 'pl'], ['pe', 'pl'], ['pa', 'pl'], ['mx', 'pl'], ['jp', 'pl'], ['it', 'pl'], ['sv', 'pl'], ['gt', 'pl'], ['es', 'pl'], ['hn', 'pl'], ['do', 'pl'], ['cr', 'pl'], ['co', 'pl'], ['cl', 'pl'], ['ch', 'pl'], ['bo', 'pl'], ['ec', 'pl'], ['uy', 'pl']]\n",
      "[['ar', 'pl', 'hu'], ['py', 'pl', 'hu'], ['pt', 'pl', 'hu'], ['pe', 'pl', 'hu'], ['pa', 'pl', 'hu'], ['mx', 'pl', 'hu'], ['jp', 'pl', 'hu'], ['it', 'pl', 'hu'], ['sv', 'pl', 'hu'], ['gt', 'pl', 'hu'], ['es', 'pl', 'hu'], ['hn', 'pl', 'hu'], ['do', 'pl', 'hu'], ['cr', 'pl', 'hu'], ['co', 'pl', 'hu'], ['cl', 'pl', 'hu'], ['ch', 'pl', 'hu'], ['bo', 'pl', 'hu'], ['ec', 'pl', 'hu'], ['uy', 'pl', 'hu']]\n",
      "[['ar', 'pl', 'hu', 'cz'], ['py', 'pl', 'hu', 'cz'], ['pt', 'pl', 'hu', 'cz'], ['pe', 'pl', 'hu', 'cz'], ['pa', 'pl', 'hu', 'cz'], ['mx', 'pl', 'hu', 'cz'], ['jp', 'pl', 'hu', 'cz'], ['it', 'pl', 'hu', 'cz'], ['sv', 'pl', 'hu', 'cz'], ['gt', 'pl', 'hu', 'cz'], ['es', 'pl', 'hu', 'cz'], ['hn', 'pl', 'hu', 'cz'], ['do', 'pl', 'hu', 'cz'], ['cr', 'pl', 'hu', 'cz'], ['co', 'pl', 'hu', 'cz'], ['cl', 'pl', 'hu', 'cz'], ['ch', 'pl', 'hu', 'cz'], ['bo', 'pl', 'hu', 'cz'], ['ec', 'pl', 'hu', 'cz'], ['uy', 'pl', 'hu', 'cz']]\n",
      "[['ar', 'pl', 'hu', 'cz', 'be'], ['py', 'pl', 'hu', 'cz', 'be'], ['pt', 'pl', 'hu', 'cz', 'be'], ['pe', 'pl', 'hu', 'cz', 'be'], ['pa', 'pl', 'hu', 'cz', 'be'], ['mx', 'pl', 'hu', 'cz', 'be'], ['jp', 'pl', 'hu', 'cz', 'be'], ['it', 'pl', 'hu', 'cz', 'be'], ['sv', 'pl', 'hu', 'cz', 'be'], ['gt', 'pl', 'hu', 'cz', 'be'], ['es', 'pl', 'hu', 'cz', 'be'], ['hn', 'pl', 'hu', 'cz', 'be'], ['do', 'pl', 'hu', 'cz', 'be'], ['cr', 'pl', 'hu', 'cz', 'be'], ['co', 'pl', 'hu', 'cz', 'be'], ['cl', 'pl', 'hu', 'cz', 'be'], ['ch', 'pl', 'hu', 'cz', 'be'], ['bo', 'pl', 'hu', 'cz', 'be'], ['ec', 'pl', 'hu', 'cz', 'be'], ['uy', 'pl', 'hu', 'cz', 'be']]\n",
      "[['ar', 'pl', 'hu', 'cz', 'be', 'at'], ['py', 'pl', 'hu', 'cz', 'be', 'at'], ['pt', 'pl', 'hu', 'cz', 'be', 'at'], ['pe', 'pl', 'hu', 'cz', 'be', 'at'], ['pa', 'pl', 'hu', 'cz', 'be', 'at'], ['mx', 'pl', 'hu', 'cz', 'be', 'at'], ['jp', 'pl', 'hu', 'cz', 'be', 'at'], ['it', 'pl', 'hu', 'cz', 'be', 'at'], ['sv', 'pl', 'hu', 'cz', 'be', 'at'], ['gt', 'pl', 'hu', 'cz', 'be', 'at'], ['es', 'pl', 'hu', 'cz', 'be', 'at'], ['hn', 'pl', 'hu', 'cz', 'be', 'at'], ['do', 'pl', 'hu', 'cz', 'be', 'at'], ['cr', 'pl', 'hu', 'cz', 'be', 'at'], ['co', 'pl', 'hu', 'cz', 'be', 'at'], ['cl', 'pl', 'hu', 'cz', 'be', 'at'], ['ch', 'pl', 'hu', 'cz', 'be', 'at'], ['bo', 'pl', 'hu', 'cz', 'be', 'at'], ['ec', 'pl', 'hu', 'cz', 'be', 'at'], ['uy', 'pl', 'hu', 'cz', 'be', 'at']]\n",
      "[['ar', 'pl', 'hu', 'cz', 'be', 'at', 'nl'], ['py', 'pl', 'hu', 'cz', 'be', 'at', 'nl'], ['pt', 'pl', 'hu', 'cz', 'be', 'at', 'nl'], ['pe', 'pl', 'hu', 'cz', 'be', 'at', 'nl'], ['pa', 'pl', 'hu', 'cz', 'be', 'at', 'nl'], ['mx', 'pl', 'hu', 'cz', 'be', 'at', 'nl'], ['jp', 'pl', 'hu', 'cz', 'be', 'at', 'nl'], ['it', 'pl', 'hu', 'cz', 'be', 'at', 'nl'], ['sv', 'pl', 'hu', 'cz', 'be', 'at', 'nl'], ['gt', 'pl', 'hu', 'cz', 'be', 'at', 'nl'], ['es', 'pl', 'hu', 'cz', 'be', 'at', 'nl'], ['hn', 'pl', 'hu', 'cz', 'be', 'at', 'nl'], ['do', 'pl', 'hu', 'cz', 'be', 'at', 'nl'], ['cr', 'pl', 'hu', 'cz', 'be', 'at', 'nl'], ['co', 'pl', 'hu', 'cz', 'be', 'at', 'nl'], ['cl', 'pl', 'hu', 'cz', 'be', 'at', 'nl'], ['ch', 'pl', 'hu', 'cz', 'be', 'at', 'nl'], ['bo', 'pl', 'hu', 'cz', 'be', 'at', 'nl'], ['ec', 'pl', 'hu', 'cz', 'be', 'at', 'nl'], ['uy', 'pl', 'hu', 'cz', 'be', 'at', 'nl']]\n",
      "[['ar', 'pl', 'hu', 'cz', 'be', 'at', 'nl', 'sg'], ['py', 'pl', 'hu', 'cz', 'be', 'at', 'nl', 'sg'], ['pt', 'pl', 'hu', 'cz', 'be', 'at', 'nl', 'sg'], ['pe', 'pl', 'hu', 'cz', 'be', 'at', 'nl', 'sg'], ['pa', 'pl', 'hu', 'cz', 'be', 'at', 'nl', 'sg'], ['mx', 'pl', 'hu', 'cz', 'be', 'at', 'nl', 'sg'], ['jp', 'pl', 'hu', 'cz', 'be', 'at', 'nl', 'sg'], ['it', 'pl', 'hu', 'cz', 'be', 'at', 'nl', 'sg'], ['sv', 'pl', 'hu', 'cz', 'be', 'at', 'nl', 'sg'], ['gt', 'pl', 'hu', 'cz', 'be', 'at', 'nl', 'sg'], ['es', 'pl', 'hu', 'cz', 'be', 'at', 'nl', 'sg'], ['hn', 'pl', 'hu', 'cz', 'be', 'at', 'nl', 'sg'], ['do', 'pl', 'hu', 'cz', 'be', 'at', 'nl', 'sg'], ['cr', 'pl', 'hu', 'cz', 'be', 'at', 'nl', 'sg'], ['co', 'pl', 'hu', 'cz', 'be', 'at', 'nl', 'sg'], ['cl', 'pl', 'hu', 'cz', 'be', 'at', 'nl', 'sg'], ['ch', 'pl', 'hu', 'cz', 'be', 'at', 'nl', 'sg'], ['bo', 'pl', 'hu', 'cz', 'be', 'at', 'nl', 'sg'], ['ec', 'pl', 'hu', 'cz', 'be', 'at', 'nl', 'sg'], ['uy', 'pl', 'hu', 'cz', 'be', 'at', 'nl', 'sg']]\n",
      "\n"
     ]
    },
    {
     "data": {
      "text/plain": [
       "[['ar', 'pl', 'hu', 'cz', 'be', 'at', 'nl', 'sg'],\n",
       " ['py', 'pl', 'hu', 'cz', 'be', 'at', 'nl', 'sg'],\n",
       " ['pt', 'pl', 'hu', 'cz', 'be', 'at', 'nl', 'sg'],\n",
       " ['pe', 'pl', 'hu', 'cz', 'be', 'at', 'nl', 'sg'],\n",
       " ['pa', 'pl', 'hu', 'cz', 'be', 'at', 'nl', 'sg'],\n",
       " ['mx', 'pl', 'hu', 'cz', 'be', 'at', 'nl', 'sg'],\n",
       " ['jp', 'pl', 'hu', 'cz', 'be', 'at', 'nl', 'sg'],\n",
       " ['it', 'pl', 'hu', 'cz', 'be', 'at', 'nl', 'sg'],\n",
       " ['sv', 'pl', 'hu', 'cz', 'be', 'at', 'nl', 'sg'],\n",
       " ['gt', 'pl', 'hu', 'cz', 'be', 'at', 'nl', 'sg'],\n",
       " ['es', 'pl', 'hu', 'cz', 'be', 'at', 'nl', 'sg'],\n",
       " ['hn', 'pl', 'hu', 'cz', 'be', 'at', 'nl', 'sg'],\n",
       " ['do', 'pl', 'hu', 'cz', 'be', 'at', 'nl', 'sg'],\n",
       " ['cr', 'pl', 'hu', 'cz', 'be', 'at', 'nl', 'sg'],\n",
       " ['co', 'pl', 'hu', 'cz', 'be', 'at', 'nl', 'sg'],\n",
       " ['cl', 'pl', 'hu', 'cz', 'be', 'at', 'nl', 'sg'],\n",
       " ['ch', 'pl', 'hu', 'cz', 'be', 'at', 'nl', 'sg'],\n",
       " ['bo', 'pl', 'hu', 'cz', 'be', 'at', 'nl', 'sg'],\n",
       " ['ec', 'pl', 'hu', 'cz', 'be', 'at', 'nl', 'sg'],\n",
       " ['uy', 'pl', 'hu', 'cz', 'be', 'at', 'nl', 'sg']]"
      ]
     },
     "execution_count": 31,
     "metadata": {},
     "output_type": "execute_result"
    }
   ],
   "source": [
    "if len(dates_lst)>= 2:\n",
    "    l=dates_sort.loc[dates_lst[0]].values\n",
    "    l=np.array(l).flatten()\n",
    "\n",
    "    len_=1\n",
    "    for d in tqdm(range(1,len(dates_lst))):\n",
    "        l2=dates_sort.loc[dates_lst[d]].values\n",
    "        l2=np.array(l2).flatten()\n",
    "        \n",
    "        if len_ < 2:\n",
    "            l=[[a,b] for a in l for b in l2]\n",
    "        else:\n",
    "            l=[a+[b] for a in l for b in l2]\n",
    "        len_+=1\n",
    "        \n",
    "l    "
   ]
  },
  {
   "cell_type": "code",
   "execution_count": 175,
   "metadata": {
    "scrolled": true
   },
   "outputs": [
    {
     "ename": "KeyError",
     "evalue": "'2017-02-16'",
     "output_type": "error",
     "traceback": [
      "\u001b[1;31m---------------------------------------------------------------------------\u001b[0m",
      "\u001b[1;31mKeyError\u001b[0m                                  Traceback (most recent call last)",
      "\u001b[1;32m~\\anaconda3\\lib\\site-packages\\pandas\\core\\indexes\\base.py\u001b[0m in \u001b[0;36mget_loc\u001b[1;34m(self, key, method, tolerance)\u001b[0m\n\u001b[0;32m   2894\u001b[0m             \u001b[1;32mtry\u001b[0m\u001b[1;33m:\u001b[0m\u001b[1;33m\u001b[0m\u001b[1;33m\u001b[0m\u001b[0m\n\u001b[1;32m-> 2895\u001b[1;33m                 \u001b[1;32mreturn\u001b[0m \u001b[0mself\u001b[0m\u001b[1;33m.\u001b[0m\u001b[0m_engine\u001b[0m\u001b[1;33m.\u001b[0m\u001b[0mget_loc\u001b[0m\u001b[1;33m(\u001b[0m\u001b[0mcasted_key\u001b[0m\u001b[1;33m)\u001b[0m\u001b[1;33m\u001b[0m\u001b[1;33m\u001b[0m\u001b[0m\n\u001b[0m\u001b[0;32m   2896\u001b[0m             \u001b[1;32mexcept\u001b[0m \u001b[0mKeyError\u001b[0m \u001b[1;32mas\u001b[0m \u001b[0merr\u001b[0m\u001b[1;33m:\u001b[0m\u001b[1;33m\u001b[0m\u001b[1;33m\u001b[0m\u001b[0m\n",
      "\u001b[1;32mpandas\\_libs\\index.pyx\u001b[0m in \u001b[0;36mpandas._libs.index.DatetimeEngine.get_loc\u001b[1;34m()\u001b[0m\n",
      "\u001b[1;32mpandas\\_libs\\index.pyx\u001b[0m in \u001b[0;36mpandas._libs.index.DatetimeEngine.get_loc\u001b[1;34m()\u001b[0m\n",
      "\u001b[1;32mpandas\\_libs\\index.pyx\u001b[0m in \u001b[0;36mpandas._libs.index.IndexEngine._get_loc_duplicates\u001b[1;34m()\u001b[0m\n",
      "\u001b[1;31mKeyError\u001b[0m: 1487203200000000000",
      "\nThe above exception was the direct cause of the following exception:\n",
      "\u001b[1;31mKeyError\u001b[0m                                  Traceback (most recent call last)",
      "\u001b[1;32m~\\anaconda3\\lib\\site-packages\\pandas\\core\\indexes\\datetimes.py\u001b[0m in \u001b[0;36mget_loc\u001b[1;34m(self, key, method, tolerance)\u001b[0m\n\u001b[0;32m    624\u001b[0m         \u001b[1;32mtry\u001b[0m\u001b[1;33m:\u001b[0m\u001b[1;33m\u001b[0m\u001b[1;33m\u001b[0m\u001b[0m\n\u001b[1;32m--> 625\u001b[1;33m             \u001b[1;32mreturn\u001b[0m \u001b[0mIndex\u001b[0m\u001b[1;33m.\u001b[0m\u001b[0mget_loc\u001b[0m\u001b[1;33m(\u001b[0m\u001b[0mself\u001b[0m\u001b[1;33m,\u001b[0m \u001b[0mkey\u001b[0m\u001b[1;33m,\u001b[0m \u001b[0mmethod\u001b[0m\u001b[1;33m,\u001b[0m \u001b[0mtolerance\u001b[0m\u001b[1;33m)\u001b[0m\u001b[1;33m\u001b[0m\u001b[1;33m\u001b[0m\u001b[0m\n\u001b[0m\u001b[0;32m    626\u001b[0m         \u001b[1;32mexcept\u001b[0m \u001b[0mKeyError\u001b[0m \u001b[1;32mas\u001b[0m \u001b[0merr\u001b[0m\u001b[1;33m:\u001b[0m\u001b[1;33m\u001b[0m\u001b[1;33m\u001b[0m\u001b[0m\n",
      "\u001b[1;32m~\\anaconda3\\lib\\site-packages\\pandas\\core\\indexes\\base.py\u001b[0m in \u001b[0;36mget_loc\u001b[1;34m(self, key, method, tolerance)\u001b[0m\n\u001b[0;32m   2896\u001b[0m             \u001b[1;32mexcept\u001b[0m \u001b[0mKeyError\u001b[0m \u001b[1;32mas\u001b[0m \u001b[0merr\u001b[0m\u001b[1;33m:\u001b[0m\u001b[1;33m\u001b[0m\u001b[1;33m\u001b[0m\u001b[0m\n\u001b[1;32m-> 2897\u001b[1;33m                 \u001b[1;32mraise\u001b[0m \u001b[0mKeyError\u001b[0m\u001b[1;33m(\u001b[0m\u001b[0mkey\u001b[0m\u001b[1;33m)\u001b[0m \u001b[1;32mfrom\u001b[0m \u001b[0merr\u001b[0m\u001b[1;33m\u001b[0m\u001b[1;33m\u001b[0m\u001b[0m\n\u001b[0m\u001b[0;32m   2898\u001b[0m \u001b[1;33m\u001b[0m\u001b[0m\n",
      "\u001b[1;31mKeyError\u001b[0m: Timestamp('2017-02-16 00:00:00')",
      "\nThe above exception was the direct cause of the following exception:\n",
      "\u001b[1;31mKeyError\u001b[0m                                  Traceback (most recent call last)",
      "\u001b[1;32m<ipython-input-175-747bce5d941a>\u001b[0m in \u001b[0;36m<module>\u001b[1;34m\u001b[0m\n\u001b[1;32m----> 1\u001b[1;33m \u001b[0ml1\u001b[0m\u001b[1;33m=\u001b[0m\u001b[0mdates_sort\u001b[0m\u001b[1;33m.\u001b[0m\u001b[0mloc\u001b[0m\u001b[1;33m[\u001b[0m\u001b[1;34m'2017-02-16'\u001b[0m\u001b[1;33m]\u001b[0m\u001b[1;33m.\u001b[0m\u001b[0mvalues\u001b[0m\u001b[1;33m\u001b[0m\u001b[1;33m\u001b[0m\u001b[0m\n\u001b[0m\u001b[0;32m      2\u001b[0m \u001b[0ml1\u001b[0m\u001b[1;33m=\u001b[0m\u001b[0mnp\u001b[0m\u001b[1;33m.\u001b[0m\u001b[0marray\u001b[0m\u001b[1;33m(\u001b[0m\u001b[0ml1\u001b[0m\u001b[1;33m)\u001b[0m\u001b[1;33m.\u001b[0m\u001b[0mflatten\u001b[0m\u001b[1;33m(\u001b[0m\u001b[1;33m)\u001b[0m\u001b[1;33m\u001b[0m\u001b[1;33m\u001b[0m\u001b[0m\n\u001b[0;32m      3\u001b[0m \u001b[0ml1\u001b[0m\u001b[1;33m\u001b[0m\u001b[1;33m\u001b[0m\u001b[0m\n",
      "\u001b[1;32m~\\anaconda3\\lib\\site-packages\\pandas\\core\\indexing.py\u001b[0m in \u001b[0;36m__getitem__\u001b[1;34m(self, key)\u001b[0m\n\u001b[0;32m    877\u001b[0m \u001b[1;33m\u001b[0m\u001b[0m\n\u001b[0;32m    878\u001b[0m             \u001b[0mmaybe_callable\u001b[0m \u001b[1;33m=\u001b[0m \u001b[0mcom\u001b[0m\u001b[1;33m.\u001b[0m\u001b[0mapply_if_callable\u001b[0m\u001b[1;33m(\u001b[0m\u001b[0mkey\u001b[0m\u001b[1;33m,\u001b[0m \u001b[0mself\u001b[0m\u001b[1;33m.\u001b[0m\u001b[0mobj\u001b[0m\u001b[1;33m)\u001b[0m\u001b[1;33m\u001b[0m\u001b[1;33m\u001b[0m\u001b[0m\n\u001b[1;32m--> 879\u001b[1;33m             \u001b[1;32mreturn\u001b[0m \u001b[0mself\u001b[0m\u001b[1;33m.\u001b[0m\u001b[0m_getitem_axis\u001b[0m\u001b[1;33m(\u001b[0m\u001b[0mmaybe_callable\u001b[0m\u001b[1;33m,\u001b[0m \u001b[0maxis\u001b[0m\u001b[1;33m=\u001b[0m\u001b[0maxis\u001b[0m\u001b[1;33m)\u001b[0m\u001b[1;33m\u001b[0m\u001b[1;33m\u001b[0m\u001b[0m\n\u001b[0m\u001b[0;32m    880\u001b[0m \u001b[1;33m\u001b[0m\u001b[0m\n\u001b[0;32m    881\u001b[0m     \u001b[1;32mdef\u001b[0m \u001b[0m_is_scalar_access\u001b[0m\u001b[1;33m(\u001b[0m\u001b[0mself\u001b[0m\u001b[1;33m,\u001b[0m \u001b[0mkey\u001b[0m\u001b[1;33m:\u001b[0m \u001b[0mTuple\u001b[0m\u001b[1;33m)\u001b[0m\u001b[1;33m:\u001b[0m\u001b[1;33m\u001b[0m\u001b[1;33m\u001b[0m\u001b[0m\n",
      "\u001b[1;32m~\\anaconda3\\lib\\site-packages\\pandas\\core\\indexing.py\u001b[0m in \u001b[0;36m_getitem_axis\u001b[1;34m(self, key, axis)\u001b[0m\n\u001b[0;32m   1108\u001b[0m         \u001b[1;31m# fall thru to straight lookup\u001b[0m\u001b[1;33m\u001b[0m\u001b[1;33m\u001b[0m\u001b[1;33m\u001b[0m\u001b[0m\n\u001b[0;32m   1109\u001b[0m         \u001b[0mself\u001b[0m\u001b[1;33m.\u001b[0m\u001b[0m_validate_key\u001b[0m\u001b[1;33m(\u001b[0m\u001b[0mkey\u001b[0m\u001b[1;33m,\u001b[0m \u001b[0maxis\u001b[0m\u001b[1;33m)\u001b[0m\u001b[1;33m\u001b[0m\u001b[1;33m\u001b[0m\u001b[0m\n\u001b[1;32m-> 1110\u001b[1;33m         \u001b[1;32mreturn\u001b[0m \u001b[0mself\u001b[0m\u001b[1;33m.\u001b[0m\u001b[0m_get_label\u001b[0m\u001b[1;33m(\u001b[0m\u001b[0mkey\u001b[0m\u001b[1;33m,\u001b[0m \u001b[0maxis\u001b[0m\u001b[1;33m=\u001b[0m\u001b[0maxis\u001b[0m\u001b[1;33m)\u001b[0m\u001b[1;33m\u001b[0m\u001b[1;33m\u001b[0m\u001b[0m\n\u001b[0m\u001b[0;32m   1111\u001b[0m \u001b[1;33m\u001b[0m\u001b[0m\n\u001b[0;32m   1112\u001b[0m     \u001b[1;32mdef\u001b[0m \u001b[0m_get_slice_axis\u001b[0m\u001b[1;33m(\u001b[0m\u001b[0mself\u001b[0m\u001b[1;33m,\u001b[0m \u001b[0mslice_obj\u001b[0m\u001b[1;33m:\u001b[0m \u001b[0mslice\u001b[0m\u001b[1;33m,\u001b[0m \u001b[0maxis\u001b[0m\u001b[1;33m:\u001b[0m \u001b[0mint\u001b[0m\u001b[1;33m)\u001b[0m\u001b[1;33m:\u001b[0m\u001b[1;33m\u001b[0m\u001b[1;33m\u001b[0m\u001b[0m\n",
      "\u001b[1;32m~\\anaconda3\\lib\\site-packages\\pandas\\core\\indexing.py\u001b[0m in \u001b[0;36m_get_label\u001b[1;34m(self, label, axis)\u001b[0m\n\u001b[0;32m   1057\u001b[0m     \u001b[1;32mdef\u001b[0m \u001b[0m_get_label\u001b[0m\u001b[1;33m(\u001b[0m\u001b[0mself\u001b[0m\u001b[1;33m,\u001b[0m \u001b[0mlabel\u001b[0m\u001b[1;33m,\u001b[0m \u001b[0maxis\u001b[0m\u001b[1;33m:\u001b[0m \u001b[0mint\u001b[0m\u001b[1;33m)\u001b[0m\u001b[1;33m:\u001b[0m\u001b[1;33m\u001b[0m\u001b[1;33m\u001b[0m\u001b[0m\n\u001b[0;32m   1058\u001b[0m         \u001b[1;31m# GH#5667 this will fail if the label is not present in the axis.\u001b[0m\u001b[1;33m\u001b[0m\u001b[1;33m\u001b[0m\u001b[1;33m\u001b[0m\u001b[0m\n\u001b[1;32m-> 1059\u001b[1;33m         \u001b[1;32mreturn\u001b[0m \u001b[0mself\u001b[0m\u001b[1;33m.\u001b[0m\u001b[0mobj\u001b[0m\u001b[1;33m.\u001b[0m\u001b[0mxs\u001b[0m\u001b[1;33m(\u001b[0m\u001b[0mlabel\u001b[0m\u001b[1;33m,\u001b[0m \u001b[0maxis\u001b[0m\u001b[1;33m=\u001b[0m\u001b[0maxis\u001b[0m\u001b[1;33m)\u001b[0m\u001b[1;33m\u001b[0m\u001b[1;33m\u001b[0m\u001b[0m\n\u001b[0m\u001b[0;32m   1060\u001b[0m \u001b[1;33m\u001b[0m\u001b[0m\n\u001b[0;32m   1061\u001b[0m     \u001b[1;32mdef\u001b[0m \u001b[0m_handle_lowerdim_multi_index_axis0\u001b[0m\u001b[1;33m(\u001b[0m\u001b[0mself\u001b[0m\u001b[1;33m,\u001b[0m \u001b[0mtup\u001b[0m\u001b[1;33m:\u001b[0m \u001b[0mTuple\u001b[0m\u001b[1;33m)\u001b[0m\u001b[1;33m:\u001b[0m\u001b[1;33m\u001b[0m\u001b[1;33m\u001b[0m\u001b[0m\n",
      "\u001b[1;32m~\\anaconda3\\lib\\site-packages\\pandas\\core\\generic.py\u001b[0m in \u001b[0;36mxs\u001b[1;34m(self, key, axis, level, drop_level)\u001b[0m\n\u001b[0;32m   3489\u001b[0m             \u001b[0mloc\u001b[0m\u001b[1;33m,\u001b[0m \u001b[0mnew_index\u001b[0m \u001b[1;33m=\u001b[0m \u001b[0mself\u001b[0m\u001b[1;33m.\u001b[0m\u001b[0mindex\u001b[0m\u001b[1;33m.\u001b[0m\u001b[0mget_loc_level\u001b[0m\u001b[1;33m(\u001b[0m\u001b[0mkey\u001b[0m\u001b[1;33m,\u001b[0m \u001b[0mdrop_level\u001b[0m\u001b[1;33m=\u001b[0m\u001b[0mdrop_level\u001b[0m\u001b[1;33m)\u001b[0m\u001b[1;33m\u001b[0m\u001b[1;33m\u001b[0m\u001b[0m\n\u001b[0;32m   3490\u001b[0m         \u001b[1;32melse\u001b[0m\u001b[1;33m:\u001b[0m\u001b[1;33m\u001b[0m\u001b[1;33m\u001b[0m\u001b[0m\n\u001b[1;32m-> 3491\u001b[1;33m             \u001b[0mloc\u001b[0m \u001b[1;33m=\u001b[0m \u001b[0mself\u001b[0m\u001b[1;33m.\u001b[0m\u001b[0mindex\u001b[0m\u001b[1;33m.\u001b[0m\u001b[0mget_loc\u001b[0m\u001b[1;33m(\u001b[0m\u001b[0mkey\u001b[0m\u001b[1;33m)\u001b[0m\u001b[1;33m\u001b[0m\u001b[1;33m\u001b[0m\u001b[0m\n\u001b[0m\u001b[0;32m   3492\u001b[0m \u001b[1;33m\u001b[0m\u001b[0m\n\u001b[0;32m   3493\u001b[0m             \u001b[1;32mif\u001b[0m \u001b[0misinstance\u001b[0m\u001b[1;33m(\u001b[0m\u001b[0mloc\u001b[0m\u001b[1;33m,\u001b[0m \u001b[0mnp\u001b[0m\u001b[1;33m.\u001b[0m\u001b[0mndarray\u001b[0m\u001b[1;33m)\u001b[0m\u001b[1;33m:\u001b[0m\u001b[1;33m\u001b[0m\u001b[1;33m\u001b[0m\u001b[0m\n",
      "\u001b[1;32m~\\anaconda3\\lib\\site-packages\\pandas\\core\\indexes\\datetimes.py\u001b[0m in \u001b[0;36mget_loc\u001b[1;34m(self, key, method, tolerance)\u001b[0m\n\u001b[0;32m    625\u001b[0m             \u001b[1;32mreturn\u001b[0m \u001b[0mIndex\u001b[0m\u001b[1;33m.\u001b[0m\u001b[0mget_loc\u001b[0m\u001b[1;33m(\u001b[0m\u001b[0mself\u001b[0m\u001b[1;33m,\u001b[0m \u001b[0mkey\u001b[0m\u001b[1;33m,\u001b[0m \u001b[0mmethod\u001b[0m\u001b[1;33m,\u001b[0m \u001b[0mtolerance\u001b[0m\u001b[1;33m)\u001b[0m\u001b[1;33m\u001b[0m\u001b[1;33m\u001b[0m\u001b[0m\n\u001b[0;32m    626\u001b[0m         \u001b[1;32mexcept\u001b[0m \u001b[0mKeyError\u001b[0m \u001b[1;32mas\u001b[0m \u001b[0merr\u001b[0m\u001b[1;33m:\u001b[0m\u001b[1;33m\u001b[0m\u001b[1;33m\u001b[0m\u001b[0m\n\u001b[1;32m--> 627\u001b[1;33m             \u001b[1;32mraise\u001b[0m \u001b[0mKeyError\u001b[0m\u001b[1;33m(\u001b[0m\u001b[0morig_key\u001b[0m\u001b[1;33m)\u001b[0m \u001b[1;32mfrom\u001b[0m \u001b[0merr\u001b[0m\u001b[1;33m\u001b[0m\u001b[1;33m\u001b[0m\u001b[0m\n\u001b[0m\u001b[0;32m    628\u001b[0m \u001b[1;33m\u001b[0m\u001b[0m\n\u001b[0;32m    629\u001b[0m     \u001b[1;32mdef\u001b[0m \u001b[0m_maybe_cast_for_get_loc\u001b[0m\u001b[1;33m(\u001b[0m\u001b[0mself\u001b[0m\u001b[1;33m,\u001b[0m \u001b[0mkey\u001b[0m\u001b[1;33m)\u001b[0m \u001b[1;33m->\u001b[0m \u001b[0mTimestamp\u001b[0m\u001b[1;33m:\u001b[0m\u001b[1;33m\u001b[0m\u001b[1;33m\u001b[0m\u001b[0m\n",
      "\u001b[1;31mKeyError\u001b[0m: '2017-02-16'"
     ]
    }
   ],
   "source": [
    "l1=dates_sort.loc['2017-02-16'].values\n",
    "l1=np.array(l1).flatten()\n",
    "l1"
   ]
  },
  {
   "cell_type": "code",
   "execution_count": null,
   "metadata": {},
   "outputs": [],
   "source": [
    "l2=dates_sort.loc['2017-02-17'].values\n",
    "l2=np.array(l2).flatten()\n",
    "l2"
   ]
  },
  {
   "cell_type": "code",
   "execution_count": null,
   "metadata": {},
   "outputs": [],
   "source": [
    "l3=[(a,)+(b,) for a in l1 for b in l2]"
   ]
  },
  {
   "cell_type": "code",
   "execution_count": null,
   "metadata": {
    "scrolled": true
   },
   "outputs": [],
   "source": [
    "l3"
   ]
  },
  {
   "cell_type": "code",
   "execution_count": null,
   "metadata": {},
   "outputs": [],
   "source": [
    "l4=dates_sort.loc['2017-02-18'].values\n",
    "l4=np.array(l4).flatten()\n",
    "l4"
   ]
  },
  {
   "cell_type": "code",
   "execution_count": null,
   "metadata": {},
   "outputs": [],
   "source": [
    "l5=[a+(b,) for a in l3 for b in l4]"
   ]
  },
  {
   "cell_type": "code",
   "execution_count": null,
   "metadata": {},
   "outputs": [],
   "source": [
    "l5"
   ]
  },
  {
   "cell_type": "code",
   "execution_count": null,
   "metadata": {},
   "outputs": [],
   "source": [
    "len(dates)"
   ]
  },
  {
   "cell_type": "code",
   "execution_count": null,
   "metadata": {},
   "outputs": [],
   "source": [
    "dates.iloc[0]"
   ]
  },
  {
   "cell_type": "code",
   "execution_count": null,
   "metadata": {},
   "outputs": [],
   "source": [
    "for i in range(len(dates)):\n",
    "    c2,d1 = dates.iloc[i]\n",
    "    for j in range(i,len(dates)):\n",
    "        c2,d2= dates.iloc[]"
   ]
  },
  {
   "cell_type": "code",
   "execution_count": null,
   "metadata": {},
   "outputs": [],
   "source": [
    "song_ranking"
   ]
  },
  {
   "cell_type": "code",
   "execution_count": null,
   "metadata": {},
   "outputs": [],
   "source": [
    "from tqdm.notebook import tqdm"
   ]
  },
  {
   "cell_type": "code",
   "execution_count": null,
   "metadata": {
    "scrolled": true
   },
   "outputs": [],
   "source": [
    "white_list= []\n",
    "for song in tqdm(ranking_df['song_id'].unique()):\n",
    "    song_ranking= ranking_df[ranking_df['song_id']==song]\n",
    "    num_dates = song_ranking.groupby('Region')['Date'].min().nunique()\n",
    "    if num_dates >= 3:\n",
    "        white_list.append(song)\n",
    "    #print(song,song_ranking.groupby('Region')['Date'].min().nunique())"
   ]
  },
  {
   "cell_type": "code",
   "execution_count": null,
   "metadata": {},
   "outputs": [],
   "source": [
    "clean_ranking_df = ranking_df[ranking_df['song_id'].isin(white_list)]"
   ]
  },
  {
   "cell_type": "code",
   "execution_count": null,
   "metadata": {},
   "outputs": [],
   "source": [
    "clean_ranking_df.shape"
   ]
  },
  {
   "cell_type": "code",
   "execution_count": null,
   "metadata": {},
   "outputs": [],
   "source": [
    "clean_ranking_df.head()"
   ]
  }
 ],
 "metadata": {
  "kernelspec": {
   "display_name": "Python 3",
   "language": "python",
   "name": "python3"
  },
  "language_info": {
   "codemirror_mode": {
    "name": "ipython",
    "version": 3
   },
   "file_extension": ".py",
   "mimetype": "text/x-python",
   "name": "python",
   "nbconvert_exporter": "python",
   "pygments_lexer": "ipython3",
   "version": "3.8.5"
  }
 },
 "nbformat": 4,
 "nbformat_minor": 4
}
