{
 "cells": [
  {
   "cell_type": "markdown",
   "metadata": {},
   "source": [
    "# Generate frequent sequences of countries\n"
   ]
  },
  {
   "cell_type": "markdown",
   "metadata": {},
   "source": [
    "### Import required libraries"
   ]
  },
  {
   "cell_type": "code",
   "execution_count": 1,
   "metadata": {},
   "outputs": [],
   "source": [
    "import pandas as pd\n",
    "import os\n",
    "import numpy as np\n",
    "\n",
    "from tqdm.notebook import tqdm\n",
    "import json\n",
    "import networkx as nx\n",
    "\n",
    "import matplotlib.pyplot as plt\n",
    "\n",
    "import math\n",
    "\n",
    "import itertools"
   ]
  },
  {
   "cell_type": "markdown",
   "metadata": {},
   "source": [
    "### Load datasets"
   ]
  },
  {
   "cell_type": "code",
   "execution_count": 2,
   "metadata": {},
   "outputs": [
    {
     "name": "stderr",
     "output_type": "stream",
     "text": [
      "/home/fterroso/.local/lib/python3.8/site-packages/numpy/lib/arraysetops.py:580: FutureWarning: elementwise comparison failed; returning scalar instead, but in the future will perform elementwise comparison\n",
      "  mask |= (ar1 == a)\n"
     ]
    },
    {
     "data": {
      "text/html": [
       "<div>\n",
       "<style scoped>\n",
       "    .dataframe tbody tr th:only-of-type {\n",
       "        vertical-align: middle;\n",
       "    }\n",
       "\n",
       "    .dataframe tbody tr th {\n",
       "        vertical-align: top;\n",
       "    }\n",
       "\n",
       "    .dataframe thead th {\n",
       "        text-align: right;\n",
       "    }\n",
       "</style>\n",
       "<table border=\"1\" class=\"dataframe\">\n",
       "  <thead>\n",
       "    <tr style=\"text-align: right;\">\n",
       "      <th></th>\n",
       "      <th>song_id</th>\n",
       "      <th>Date</th>\n",
       "      <th>Streams</th>\n",
       "      <th>Region</th>\n",
       "      <th>release_date</th>\n",
       "      <th>day_of_study</th>\n",
       "      <th>Position</th>\n",
       "    </tr>\n",
       "  </thead>\n",
       "  <tbody>\n",
       "    <tr>\n",
       "      <th>18</th>\n",
       "      <td>991</td>\n",
       "      <td>2016-12-22</td>\n",
       "      <td>11</td>\n",
       "      <td>Belarus</td>\n",
       "      <td>2016-12-22</td>\n",
       "      <td>4325</td>\n",
       "      <td>1.0</td>\n",
       "    </tr>\n",
       "    <tr>\n",
       "      <th>19</th>\n",
       "      <td>991</td>\n",
       "      <td>2017-01-23</td>\n",
       "      <td>22</td>\n",
       "      <td>Belarus</td>\n",
       "      <td>2016-12-22</td>\n",
       "      <td>4357</td>\n",
       "      <td>4.0</td>\n",
       "    </tr>\n",
       "    <tr>\n",
       "      <th>20</th>\n",
       "      <td>991</td>\n",
       "      <td>2017-01-24</td>\n",
       "      <td>27</td>\n",
       "      <td>Belarus</td>\n",
       "      <td>2016-12-22</td>\n",
       "      <td>4358</td>\n",
       "      <td>13.0</td>\n",
       "    </tr>\n",
       "    <tr>\n",
       "      <th>21</th>\n",
       "      <td>991</td>\n",
       "      <td>2016-12-29</td>\n",
       "      <td>11</td>\n",
       "      <td>Russia</td>\n",
       "      <td>2016-12-22</td>\n",
       "      <td>4332</td>\n",
       "      <td>1.0</td>\n",
       "    </tr>\n",
       "    <tr>\n",
       "      <th>86</th>\n",
       "      <td>4774</td>\n",
       "      <td>2012-08-22</td>\n",
       "      <td>11</td>\n",
       "      <td>Brazil</td>\n",
       "      <td>2012-06-13</td>\n",
       "      <td>2742</td>\n",
       "      <td>1.0</td>\n",
       "    </tr>\n",
       "  </tbody>\n",
       "</table>\n",
       "</div>"
      ],
      "text/plain": [
       "    song_id       Date  Streams   Region release_date  day_of_study  Position\n",
       "18      991 2016-12-22       11  Belarus   2016-12-22          4325       1.0\n",
       "19      991 2017-01-23       22  Belarus   2016-12-22          4357       4.0\n",
       "20      991 2017-01-24       27  Belarus   2016-12-22          4358      13.0\n",
       "21      991 2016-12-29       11   Russia   2016-12-22          4332       1.0\n",
       "86     4774 2012-08-22       11   Brazil   2012-06-13          2742       1.0"
      ]
     },
     "execution_count": 2,
     "metadata": {},
     "output_type": "execute_result"
    }
   ],
   "source": [
    "source= 'lfm' # 'lfm' or 'spotify'\n",
    "\n",
    "ranking_df= pd.read_csv(os.path.join('data', 'clean_ranking_2017_2022_v2.csv'), index_col=0, parse_dates=['Date', 'release_date'])\n",
    "\n",
    "if source== 'lfm':\n",
    "    ranking_df= pd.read_csv(os.path.join('data', 'LMF-2b', 'clean_ranking_2005_2020_lfm.csv'), index_col=0, parse_dates=['Date', 'release_date'])\n",
    "    \n",
    "ranking_df.head()"
   ]
  },
  {
   "cell_type": "code",
   "execution_count": 3,
   "metadata": {},
   "outputs": [],
   "source": [
    "ranking_df['week_of_study']= ranking_df['day_of_study'].apply(lambda x : int(x/7))"
   ]
  },
  {
   "cell_type": "code",
   "execution_count": 4,
   "metadata": {},
   "outputs": [],
   "source": [
    "ranking_df = ranking_df[ranking_df['Region']!='World']"
   ]
  },
  {
   "cell_type": "code",
   "execution_count": 5,
   "metadata": {},
   "outputs": [
    {
     "data": {
      "text/plain": [
       "array(['Belarus', 'Russia', 'Brazil', 'Germany', 'Finland', 'Norway',\n",
       "       'USA', 'Turkey', 'Ukraine', 'Australia', 'Sweden', 'Poland',\n",
       "       'Belgium', 'Bulgaria', 'Chile', 'Egypt', 'Italy', 'Japan',\n",
       "       'Kazakhstan', 'Lithuania', 'Latvia', 'Netherlands', 'Romania',\n",
       "       'Slovakia', 'Canada', 'Indonesia', 'Marocco', 'Spain',\n",
       "       'Switzerland', 'HongKong', 'France', 'Iceland', 'Estonia',\n",
       "       'NewZealand', 'CzechRepublic', 'Denmark', 'Argentina', 'Hungary',\n",
       "       'Austria', 'Malaysia', 'Portugal', 'Columbia', 'Greece', 'Mexico',\n",
       "       'Vietnam', 'Ecuador', 'Philippines', 'Ireland', 'Uruguay', 'Peru',\n",
       "       'CostaRica', 'Singapore', 'India', 'Guatemala', 'ElSalvador',\n",
       "       'SouthAfrica', 'Luxemborg', 'SaudiArabia', 'Korea', 'Bolivia',\n",
       "       'Honduras', 'Paraguay', 'Israel', 'Nicaragua', 'DominicanRepublic',\n",
       "       'UnitedArabEmirates', 'Panama'], dtype=object)"
      ]
     },
     "execution_count": 5,
     "metadata": {},
     "output_type": "execute_result"
    }
   ],
   "source": [
    "ranking_df['Region'].unique()"
   ]
  },
  {
   "cell_type": "code",
   "execution_count": 6,
   "metadata": {
    "scrolled": true
   },
   "outputs": [
    {
     "data": {
      "text/html": [
       "<div>\n",
       "<style scoped>\n",
       "    .dataframe tbody tr th:only-of-type {\n",
       "        vertical-align: middle;\n",
       "    }\n",
       "\n",
       "    .dataframe tbody tr th {\n",
       "        vertical-align: top;\n",
       "    }\n",
       "\n",
       "    .dataframe thead th {\n",
       "        text-align: right;\n",
       "    }\n",
       "</style>\n",
       "<table border=\"1\" class=\"dataframe\">\n",
       "  <thead>\n",
       "    <tr style=\"text-align: right;\">\n",
       "      <th></th>\n",
       "      <th>song_id</th>\n",
       "      <th>Date</th>\n",
       "      <th>Streams</th>\n",
       "      <th>Region</th>\n",
       "      <th>release_date</th>\n",
       "      <th>day_of_study</th>\n",
       "      <th>Position</th>\n",
       "      <th>week_of_study</th>\n",
       "    </tr>\n",
       "  </thead>\n",
       "  <tbody>\n",
       "  </tbody>\n",
       "</table>\n",
       "</div>"
      ],
      "text/plain": [
       "Empty DataFrame\n",
       "Columns: [song_id, Date, Streams, Region, release_date, day_of_study, Position, week_of_study]\n",
       "Index: []"
      ]
     },
     "execution_count": 6,
     "metadata": {},
     "output_type": "execute_result"
    }
   ],
   "source": [
    "ranking_df[ranking_df['song_id']=='4nK5YrxbMGZstTLbvj6Gxw']"
   ]
  },
  {
   "cell_type": "code",
   "execution_count": 7,
   "metadata": {},
   "outputs": [
    {
     "name": "stdout",
     "output_type": "stream",
     "text": [
      "<class 'pandas.core.frame.DataFrame'>\n",
      "Int64Index: 1522605 entries, 18 to 3020060\n",
      "Data columns (total 8 columns):\n",
      " #   Column         Non-Null Count    Dtype         \n",
      "---  ------         --------------    -----         \n",
      " 0   song_id        1522605 non-null  int64         \n",
      " 1   Date           1522605 non-null  datetime64[ns]\n",
      " 2   Streams        1522605 non-null  int64         \n",
      " 3   Region         1522605 non-null  object        \n",
      " 4   release_date   1522605 non-null  datetime64[ns]\n",
      " 5   day_of_study   1522605 non-null  int64         \n",
      " 6   Position       1522605 non-null  float64       \n",
      " 7   week_of_study  1522605 non-null  int64         \n",
      "dtypes: datetime64[ns](2), float64(1), int64(4), object(1)\n",
      "memory usage: 104.5+ MB\n"
     ]
    }
   ],
   "source": [
    "ranking_df.info()"
   ]
  },
  {
   "cell_type": "code",
   "execution_count": 8,
   "metadata": {},
   "outputs": [
    {
     "name": "stdout",
     "output_type": "stream",
     "text": [
      "The number of total songs is 171493\n"
     ]
    }
   ],
   "source": [
    "total_songs = ranking_df['song_id'].nunique()\n",
    "print(f'The number of total songs is {total_songs}')"
   ]
  },
  {
   "cell_type": "markdown",
   "metadata": {},
   "source": [
    "### Read songs genres"
   ]
  },
  {
   "cell_type": "code",
   "execution_count": 9,
   "metadata": {},
   "outputs": [
    {
     "data": {
      "text/html": [
       "<div>\n",
       "<style scoped>\n",
       "    .dataframe tbody tr th:only-of-type {\n",
       "        vertical-align: middle;\n",
       "    }\n",
       "\n",
       "    .dataframe tbody tr th {\n",
       "        vertical-align: top;\n",
       "    }\n",
       "\n",
       "    .dataframe thead th {\n",
       "        text-align: right;\n",
       "    }\n",
       "</style>\n",
       "<table border=\"1\" class=\"dataframe\">\n",
       "  <thead>\n",
       "    <tr style=\"text-align: right;\">\n",
       "      <th></th>\n",
       "      <th>0</th>\n",
       "      <th>1</th>\n",
       "      <th>2</th>\n",
       "      <th>3</th>\n",
       "      <th>4</th>\n",
       "      <th>5</th>\n",
       "      <th>6</th>\n",
       "    </tr>\n",
       "  </thead>\n",
       "  <tbody>\n",
       "    <tr>\n",
       "      <th>6m2LNopVJKsvBB9l7Z1rwn</th>\n",
       "      <td>funk</td>\n",
       "      <td>pop</td>\n",
       "      <td>NaN</td>\n",
       "      <td>NaN</td>\n",
       "      <td>NaN</td>\n",
       "      <td>NaN</td>\n",
       "      <td>NaN</td>\n",
       "    </tr>\n",
       "    <tr>\n",
       "      <th>7Ckhk1XW5NV2k4jpqtQNlz</th>\n",
       "      <td>reggaeton</td>\n",
       "      <td>latin</td>\n",
       "      <td>NaN</td>\n",
       "      <td>NaN</td>\n",
       "      <td>NaN</td>\n",
       "      <td>NaN</td>\n",
       "      <td>NaN</td>\n",
       "    </tr>\n",
       "    <tr>\n",
       "      <th>7MHN1aCFtLXjownGhvEQlF</th>\n",
       "      <td>reggaeton</td>\n",
       "      <td>latin</td>\n",
       "      <td>NaN</td>\n",
       "      <td>NaN</td>\n",
       "      <td>NaN</td>\n",
       "      <td>NaN</td>\n",
       "      <td>NaN</td>\n",
       "    </tr>\n",
       "    <tr>\n",
       "      <th>1xndOD8CreR5ctkOv5G1LN</th>\n",
       "      <td>hardcore</td>\n",
       "      <td>NaN</td>\n",
       "      <td>NaN</td>\n",
       "      <td>NaN</td>\n",
       "      <td>NaN</td>\n",
       "      <td>NaN</td>\n",
       "      <td>NaN</td>\n",
       "    </tr>\n",
       "    <tr>\n",
       "      <th>3xWEI23MLJrD0dpDcDUTW6</th>\n",
       "      <td>reggaeton</td>\n",
       "      <td>latin</td>\n",
       "      <td>pop</td>\n",
       "      <td>NaN</td>\n",
       "      <td>NaN</td>\n",
       "      <td>NaN</td>\n",
       "      <td>NaN</td>\n",
       "    </tr>\n",
       "  </tbody>\n",
       "</table>\n",
       "</div>"
      ],
      "text/plain": [
       "                                0      1    2    3    4    5    6\n",
       "6m2LNopVJKsvBB9l7Z1rwn       funk    pop  NaN  NaN  NaN  NaN  NaN\n",
       "7Ckhk1XW5NV2k4jpqtQNlz  reggaeton  latin  NaN  NaN  NaN  NaN  NaN\n",
       "7MHN1aCFtLXjownGhvEQlF  reggaeton  latin  NaN  NaN  NaN  NaN  NaN\n",
       "1xndOD8CreR5ctkOv5G1LN   hardcore    NaN  NaN  NaN  NaN  NaN  NaN\n",
       "3xWEI23MLJrD0dpDcDUTW6  reggaeton  latin  pop  NaN  NaN  NaN  NaN"
      ]
     },
     "execution_count": 9,
     "metadata": {},
     "output_type": "execute_result"
    }
   ],
   "source": [
    "song_genres_df = pd.read_csv(os.path.join('data', 'songs_genres_2017_2022.csv'), index_col=0)\n",
    "song_genres_df.head()"
   ]
  },
  {
   "cell_type": "markdown",
   "metadata": {},
   "source": [
    "### Read songs genre groups"
   ]
  },
  {
   "cell_type": "code",
   "execution_count": 10,
   "metadata": {
    "scrolled": true
   },
   "outputs": [
    {
     "data": {
      "text/plain": [
       "{'pop rock': 'pop',\n",
       " 'pop': 'pop',\n",
       " 'british': 'pop',\n",
       " 'j-pop': 'pop',\n",
       " 'k-pop': 'pop',\n",
       " 'mandopop': 'pop',\n",
       " 'cantopop': 'pop',\n",
       " 'hip-hop': 'hip-hop',\n",
       " 'funk': 'hip-hop',\n",
       " 'trap': 'hip-hop',\n",
       " 'rap': 'hip-hop',\n",
       " 'rock': 'rock',\n",
       " 'rockabilly': 'rock',\n",
       " 'metal': 'rock',\n",
       " 'punk': 'rock',\n",
       " 'metalcore': 'rock',\n",
       " 'hardcore': 'rock',\n",
       " 'j-rock': 'rock',\n",
       " 'grunge': 'rock',\n",
       " 'trance': 'electronic',\n",
       " 'chill': 'electronic',\n",
       " 'dance': 'electronic',\n",
       " 'edm': 'electronic',\n",
       " 'house': 'electronic',\n",
       " 'dubstep': 'electronic',\n",
       " 'dancehall': 'electronic',\n",
       " 'electro': 'electronic',\n",
       " 'techno': 'electronic',\n",
       " 'electronic': 'electronic',\n",
       " 'club': 'electronic',\n",
       " 'latin': 'latin',\n",
       " 'reggaeton': 'latin',\n",
       " 'spanish': 'latin',\n",
       " 'pagode': 'latin',\n",
       " 'cumbia': 'latin',\n",
       " 'salsa': 'latin',\n",
       " 'latino': 'latin',\n",
       " 'sertanejo': 'latin',\n",
       " 'mpb': 'latin',\n",
       " 'anime': 'indie',\n",
       " 'indie': 'indie',\n",
       " 'alternative': 'indie',\n",
       " 'emo': 'indie',\n",
       " 'soundtracks': 'classical and ost',\n",
       " 'classical': 'classical and ost',\n",
       " 'piano': 'classical and ost',\n",
       " 'ambient': 'classical and ost',\n",
       " 'folk': 'folk/traditional',\n",
       " 'country': 'folk/traditional',\n",
       " 'singer-songwriter': 'folk/traditional',\n",
       " 'german': 'folk/traditional',\n",
       " 'corrido': 'folk/traditional',\n",
       " 'forro': 'folk/traditional',\n",
       " 'swedish': 'folk/traditional',\n",
       " 'turkish': 'folk/traditional',\n",
       " 'french': 'folk/traditional',\n",
       " 'malay': 'folk/traditional',\n",
       " 'ranchera': 'folk/traditional',\n",
       " 'blues': 'rythm and blues',\n",
       " 'disco': 'rythm and blues',\n",
       " 'gospel': 'rythm and blues',\n",
       " 'ska': 'rythm and blues',\n",
       " 'groove': 'rythm and blues',\n",
       " 'r-n-b': 'rythm and blues',\n",
       " 'jazz': 'rythm and blues',\n",
       " 'soul': 'rythm and blues',\n",
       " 'reggae': 'rythm and blues',\n",
       " 'acoustic': 'miscellaneous',\n",
       " 'happy': 'miscellaneous',\n",
       " 'comedy': 'miscellaneous',\n",
       " 'sad': 'miscellaneous'}"
      ]
     },
     "execution_count": 10,
     "metadata": {},
     "output_type": "execute_result"
    }
   ],
   "source": [
    "import json\n",
    "\n",
    "# Opening JSON file\n",
    "f = open(os.path.join('data','music_styles_unique.json'))\n",
    " \n",
    "# returns JSON object as\n",
    "# a dictionary\n",
    "music_styles = json.load(f)\n",
    "\n",
    "sub_gender_to_gender = {}\n",
    "for gender, sub_genders in music_styles.items():\n",
    "    for sb in sub_genders:\n",
    "        sub_gender_to_gender[sb]=gender\n",
    "sub_gender_to_gender"
   ]
  },
  {
   "cell_type": "markdown",
   "metadata": {},
   "source": [
    "### Auxiliary functions"
   ]
  },
  {
   "cell_type": "code",
   "execution_count": 11,
   "metadata": {},
   "outputs": [],
   "source": [
    "from datetime import date, timedelta\n",
    "\n",
    "def daterange(start_date, end_date):\n",
    "    for n in range(int((end_date - start_date).days)):\n",
    "        yield start_date + timedelta(n)\n",
    "\n",
    "def compute_weight_fn(target_country, song_ranking_, init_day, d, week_diff, weight_coeff_):\n",
    "    \n",
    "    country_values = []\n",
    "    weights = []  \n",
    "    for d_curr in daterange(init_day, d+timedelta(1)):\n",
    "        rank =song_ranking_[(song_ranking_['Region']==target_country) & \n",
    "                                    (song_ranking_['Date']==d_curr)]['Position']\n",
    "        if not rank.empty:\n",
    "            rank_value = rank.values[0]\n",
    "\n",
    "            diff_ = (d_curr-d).days\n",
    "            weight = math.exp((diff_/weight_coeff_))\n",
    "\n",
    "            value_ = weight * (float(rank_value)**-1)\n",
    "            country_values.append(value_)\n",
    "                \n",
    "    link_value = ((float(week_diff)**-1) * sum(country_values))\n",
    "        \n",
    "    return link_value\n",
    "\n",
    "def compute_ranking_weight_fn(target_country, song_ranking_, init_day, d):\n",
    "    country_values = []\n",
    "    rank_lst = []  \n",
    "    for d_curr in daterange(init_day, d+timedelta(1)):\n",
    "        rank =song_ranking_[(song_ranking_['Region']==target_country) & \n",
    "                                    (song_ranking_['Date']==d_curr)]['Position']\n",
    "        if not rank.empty:\n",
    "            rank_value = rank.values[0]\n",
    "            rank_lst.append(rank_value)\n",
    "        #else:\n",
    "        #    rank_lst.append(300)\n",
    "    rank_series = pd.Series(rank_lst)\n",
    "    return rank_series.ewm(alpha=0.1, adjust=False).mean().mean()\n",
    "\n",
    "def get_paths_from_graph(G, cutoff_=100):\n",
    "    \n",
    "    roots = []\n",
    "    leaves = []\n",
    "    for node in G.nodes:\n",
    "        if G.in_degree(node) == 0 : # it's a root\n",
    "            roots.append(node)\n",
    "        elif G.out_degree(node) == 0 : # it's a leaf\n",
    "                leaves.append(node)\n",
    "    \n",
    "    paths = []\n",
    "    for root in roots :\n",
    "        for leaf in leaves :\n",
    "            for path in nx.all_simple_paths(G, root, leaf, cutoff= cutoff_):\n",
    "                paths.append(path)\n",
    "\n",
    "    return paths\n",
    "\n",
    "def update_graph(G, df, song_id):\n",
    "    for i, v in df.iterrows():\n",
    "        origin = v['source']\n",
    "        dest = v['target']\n",
    "        \n",
    "        if G.has_edge(origin,dest):\n",
    "            edge_songs = G[origin][dest]['songs']\n",
    "            edge_songs.add(str(song_id))\n",
    "            G[origin][dest]['songs'] = edge_songs\n",
    "            G[origin][dest]['size']= len(edge_songs)\n",
    "        else:\n",
    "            songs_= set()\n",
    "            songs_.add(song_id)\n",
    "            G.add_edge(origin, dest, songs=songs_, size=1)\n",
    "    \n",
    "    return G\n"
   ]
  },
  {
   "cell_type": "markdown",
   "metadata": {},
   "source": [
    "### Generate sequences from graph"
   ]
  },
  {
   "cell_type": "markdown",
   "metadata": {},
   "source": [
    "We calculate the maximum value between two countries"
   ]
  },
  {
   "cell_type": "code",
   "execution_count": 12,
   "metadata": {},
   "outputs": [],
   "source": [
    "def generate_graphs_fn(min_link_val, n_day_lags_):\n",
    "    \n",
    "    G_global= nx.empty_graph(1,create_using=nx.DiGraph())\n",
    "    G_genres = {}\n",
    "    songs_in_graph = set()\n",
    "    songs_in_graph_genre = {}\n",
    "\n",
    "    weight_coeff_= int(n_day_lags_/2)\n",
    "\n",
    "    for s in tqdm(ranking_df['song_id'].unique()):\n",
    "\n",
    "        country_at_prev_d = set()\n",
    "        all_countries = set()\n",
    "        prev_origins = set()\n",
    "        prev_destinations = set()\n",
    "        \n",
    "        song_ranking= ranking_df[ranking_df['song_id']==s]\n",
    "        dates=song_ranking.groupby('Region')['Date'].min().to_frame()\n",
    "        dates_sort=dates.sort_values('Date')\n",
    "        dates_sort= dates_sort.reset_index().set_index('Date')\n",
    "\n",
    "        dates_lst=dates_sort.index.unique()\n",
    "\n",
    "        src_lst = []\n",
    "        target_lst = []\n",
    "        weight_lst = []\n",
    "\n",
    "        num_countries_at_d = -1\n",
    "\n",
    "        for d in dates_lst:\n",
    "\n",
    "            countries_at_d = set(song_ranking[song_ranking['Date']==d]['Region'].unique())\n",
    "\n",
    "            num_countries_at_d = len(countries_at_d)\n",
    "\n",
    "            # We only use as origins countries that have not act as origin so far.\n",
    "            o_countries = list((country_at_prev_d.intersection(countries_at_d))-prev_origins)\n",
    "            d_countries = countries_at_d-country_at_prev_d-prev_destinations\n",
    "\n",
    "\n",
    "            for oc in o_countries:\n",
    "                init_week = song_ranking[song_ranking['Region']==oc]['week_of_study'].min()\n",
    "                init_date = song_ranking[song_ranking['Region']==oc]['Date'].min()\n",
    "\n",
    "                curr_week = song_ranking[(song_ranking['Region']==oc) & \n",
    "                                         (song_ranking['Date']==d)]['week_of_study'].values[0]\n",
    "\n",
    "                week_diff = (curr_week-init_week)+1\n",
    "\n",
    "                init_day = d - timedelta(n_day_lags_)\n",
    "\n",
    "                days_diff = (d-init_date).days\n",
    "                if  days_diff < n_day_lags_:\n",
    "                    init_day = d - timedelta(days_diff)\n",
    "\n",
    "                #link_value = compute_ranking_weight_fn(oc, song_ranking, init_day, d)\n",
    "                link_value = compute_weight_fn(oc, song_ranking, init_day, d, week_diff, weight_coeff_)\n",
    "                \n",
    "                if link_value >= min_link_val:\n",
    "                    for dc in d_countries:\n",
    "                        if dc not in all_countries:\n",
    "                            src_lst.append(oc)\n",
    "                            target_lst.append(dc)\n",
    "                            weight_lst.append(link_value)\n",
    "\n",
    "\n",
    "            country_at_prev_d = countries_at_d\n",
    "            all_countries = all_countries.union(countries_at_d)\n",
    "            prev_origins = prev_origins.union(o_countries)\n",
    "            prev_destinations =  prev_destinations.union(d_countries)\n",
    "                \n",
    "        graph_df= pd.DataFrame({\"source\": src_lst, \"target\": target_lst, 'weight': weight_lst})\n",
    "\n",
    "        if not graph_df.empty:\n",
    "            songs_in_graph.add(s)\n",
    "            G_global= update_graph(G_global, graph_df, s)\n",
    "\n",
    "            if s in song_genres_df.index:\n",
    "                genres_ = song_genres_df.loc[s].values\n",
    "                for g in genres_:\n",
    "                    if g in sub_gender_to_gender:\n",
    "                        g_clus = sub_gender_to_gender[g]\n",
    "                        G_ = G_genres.get(g_clus, nx.empty_graph(1,create_using=nx.DiGraph()))\n",
    "                        G_= update_graph(G_, graph_df, s)\n",
    "                        G_genres[g_clus]= G_\n",
    "                        \n",
    "                        song_set = songs_in_graph_genre.get(g_clus, set())\n",
    "                        song_set.add(s)\n",
    "                        songs_in_graph_genre[g_clus]= song_set\n",
    "        \n",
    "    return G_global, G_genres, songs_in_graph, songs_in_graph_genre"
   ]
  },
  {
   "cell_type": "code",
   "execution_count": 13,
   "metadata": {
    "scrolled": true
   },
   "outputs": [
    {
     "data": {
      "application/vnd.jupyter.widget-view+json": {
       "model_id": "d19cbb67cb1442fcb9f8b44575c37a68",
       "version_major": 2,
       "version_minor": 0
      },
      "text/plain": [
       "  0%|          | 0/171493 [00:00<?, ?it/s]"
      ]
     },
     "metadata": {},
     "output_type": "display_data"
    }
   ],
   "source": [
    "n_day_lags = 40\n",
    "min_link_val = 0.01\n",
    "G_global, G_genres, songs_in_graph, songs_in_graph_genre =generate_graphs_fn(min_link_val, n_day_lags)"
   ]
  },
  {
   "cell_type": "code",
   "execution_count": 14,
   "metadata": {
    "scrolled": true
   },
   "outputs": [],
   "source": [
    "def plot_graph(G, to_file=False, file_name=None):\n",
    "    \n",
    "    G.remove_nodes_from(list(nx.isolates(G)))\n",
    "\n",
    "    pos = nx.spring_layout(G, k=20/math.sqrt(G.order()));\n",
    "    plt.figure(3,figsize=(10,10)) \n",
    "    nx.draw_networkx_nodes(G, pos);\n",
    "    nx.draw_networkx_edges(G, pos, width=2, arrowsize=30);#, alpha=0.3);\n",
    "    nx.draw_networkx_labels(G, pos, font_size=15, font_color='red', font_weight='bold')\n",
    "\n",
    "    plt.axis(\"off\")\n",
    "    \n",
    "    if to_file:\n",
    "        plt.savefig(os.path.join('figs',f'07_MMP_{file_name}.png'), bbox_inches='tight')\n",
    "    \n",
    "    plt.show()\n"
   ]
  },
  {
   "cell_type": "code",
   "execution_count": 15,
   "metadata": {},
   "outputs": [],
   "source": [
    "nx.write_gpickle(G_global,os.path.join('data', 'graphs', f'G_global_07_{source}.gpickle'))\n",
    "nx.write_gpickle(G_genres,os.path.join('data', 'graphs', f'G_genres_07_{source}.gpickle'))"
   ]
  },
  {
   "cell_type": "code",
   "execution_count": 16,
   "metadata": {
    "scrolled": false
   },
   "outputs": [
    {
     "data": {
      "image/png": "[encoded data removed]",
      "text/plain": [
       "<Figure size 720x720 with 1 Axes>"
      ]
     },
     "metadata": {},
     "output_type": "display_data"
    }
   ],
   "source": [
    "plot_graph(G_global)"
   ]
  },
  {
   "cell_type": "markdown",
   "metadata": {},
   "source": [
    "## Extract patterns from graph"
   ]
  },
  {
   "cell_type": "code",
   "execution_count": 17,
   "metadata": {},
   "outputs": [],
   "source": [
    "G_global = nx.read_gpickle(os.path.join('data', 'graphs', f'G_global_07_{source}.gpickle'))\n",
    "G_genres = nx.read_gpickle(os.path.join('data', 'graphs', f'G_genres_07_{source}.gpickle'))"
   ]
  },
  {
   "cell_type": "code",
   "execution_count": 18,
   "metadata": {},
   "outputs": [],
   "source": [
    "import sys\n",
    "def merge_paths(G, paths):\n",
    "    if len(paths) > 4:\n",
    "        print(paths)\n",
    "        print([c for c in nx.weakly_connected_components(G)])\n",
    "        C = max(nx.strongly_connected_components(G), key=len)\n",
    "        S = G.subgraph(C)\n",
    "        nx.draw(S)\n",
    "        print('-'*8)\n",
    "        sys.exit()\n",
    "    \n",
    "def extract_patterns_from_graph(G, min_size, min_length):\n",
    "    final_paths= {}\n",
    "    visited_songs= set()\n",
    "\n",
    "    edges_to_remove = [(u,v) for u,v,e in G.edges(data=True) if e['size'] < min_size]\n",
    "\n",
    "    G.remove_edges_from(edges_to_remove)\n",
    "\n",
    "    for u_target, v_target, data_target in tqdm(G.edges(data=True)):\n",
    "        songs_to_visit = set()\n",
    "\n",
    "        for i in range(min_size, len(data_target['songs'])):\n",
    "            song_to_add = set()\n",
    "            G_target = G.copy()\n",
    "            edges_to_remove = []\n",
    "            for u,v,d in G_target.edges(data=True):\n",
    "                overlapped_songs= d['songs'].intersection(data_target['songs'])\n",
    "                overlapped_songs_lngth= len(overlapped_songs)\n",
    "                #print(overlapped_songs, overlapped_songs_lngth)\n",
    "                if (overlapped_songs_lngth != i) or (overlapped_songs in visited_songs):\n",
    "                    edges_to_remove.append((u,v))\n",
    "                else:\n",
    "                    songs_to_visit= songs_to_visit.union(overlapped_songs)\n",
    "                    song_to_add= song_to_add.union(overlapped_songs)\n",
    "\n",
    "\n",
    "            G_target.remove_edges_from(edges_to_remove)\n",
    "            G_target.remove_nodes_from(list(nx.isolates(G_target)))\n",
    "\n",
    "            paths= get_paths_from_graph(G_target) #[c for c in nx.weakly_connected_components(G_target)] #get_paths_from_graph(G_target)\n",
    "            for p in paths:\n",
    "                #G_p = G.subgraph(p)\n",
    "                path_length = len(p) #G_p.number_of_nodes()#len(p)\n",
    "                if path_length >= min_length:\n",
    "                    #graph_hash = nx.weisfeiler_lehman_graph_hash(G_p)\n",
    "                    #final_paths_hash[graph_hash]=G_p\n",
    "                    paths_with_length = final_paths.get(path_length, {})     \n",
    "                    t = paths_with_length.get(tuple(p),set())#paths_with_length.get(graph_hash,set())\n",
    "                    t = t.union(song_to_add) \n",
    "                    paths_with_length[tuple(p)]=t\n",
    "                    final_paths[path_length]=paths_with_length\n",
    "        visited_songs = visited_songs.union(songs_to_visit) \n",
    "    records = []\n",
    "    for l, paths in final_paths.items():\n",
    "        for p, songs in paths.items():\n",
    "            records.append((l, p, songs, len(songs)))\n",
    "    paths_df= pd.DataFrame.from_records(records, columns='path_length path songs repetitions'.split())\n",
    "    return paths_df"
   ]
  },
  {
   "cell_type": "code",
   "execution_count": 19,
   "metadata": {
    "scrolled": false
   },
   "outputs": [
    {
     "data": {
      "application/vnd.jupyter.widget-view+json": {
       "model_id": "91087437398f487c96650a7f0fed0b1c",
       "version_major": 2,
       "version_minor": 0
      },
      "text/plain": [
       "  0%|          | 0/316 [00:00<?, ?it/s]"
      ]
     },
     "metadata": {},
     "output_type": "display_data"
    }
   ],
   "source": [
    "min_weight = 5\n",
    "min_length= 3\n",
    "paths_df =extract_patterns_from_graph(G_global, min_weight, min_length)"
   ]
  },
  {
   "cell_type": "code",
   "execution_count": 20,
   "metadata": {},
   "outputs": [
    {
     "data": {
      "text/html": [
       "<div>\n",
       "<style scoped>\n",
       "    .dataframe tbody tr th:only-of-type {\n",
       "        vertical-align: middle;\n",
       "    }\n",
       "\n",
       "    .dataframe tbody tr th {\n",
       "        vertical-align: top;\n",
       "    }\n",
       "\n",
       "    .dataframe thead th {\n",
       "        text-align: right;\n",
       "    }\n",
       "</style>\n",
       "<table border=\"1\" class=\"dataframe\">\n",
       "  <thead>\n",
       "    <tr style=\"text-align: right;\">\n",
       "      <th></th>\n",
       "      <th>path_length</th>\n",
       "      <th>path</th>\n",
       "      <th>songs</th>\n",
       "      <th>repetitions</th>\n",
       "    </tr>\n",
       "  </thead>\n",
       "  <tbody>\n",
       "    <tr>\n",
       "      <th>0</th>\n",
       "      <td>3</td>\n",
       "      <td>(USA, Russia, Latvia)</td>\n",
       "      <td>{17378243, 41031833, 44778314, 46010318, 40216...</td>\n",
       "      <td>12</td>\n",
       "    </tr>\n",
       "    <tr>\n",
       "      <th>1</th>\n",
       "      <td>3</td>\n",
       "      <td>(USA, Poland, Russia)</td>\n",
       "      <td>{26922195, 41420697, 28391220, 44062558, 34835...</td>\n",
       "      <td>21</td>\n",
       "    </tr>\n",
       "    <tr>\n",
       "      <th>2</th>\n",
       "      <td>3</td>\n",
       "      <td>(USA, Brazil, Canada)</td>\n",
       "      <td>{33327050, 24796465, 30953802, 34686785, 20737...</td>\n",
       "      <td>11</td>\n",
       "    </tr>\n",
       "    <tr>\n",
       "      <th>3</th>\n",
       "      <td>3</td>\n",
       "      <td>(Brazil, Germany, Poland)</td>\n",
       "      <td>{25196320, 34686785, 28386559, 8913696, 207371...</td>\n",
       "      <td>26</td>\n",
       "    </tr>\n",
       "    <tr>\n",
       "      <th>4</th>\n",
       "      <td>3</td>\n",
       "      <td>(Brazil, USA, Ukraine)</td>\n",
       "      <td>{19572275, 43957066, 35842059, 40202032, 37678...</td>\n",
       "      <td>12</td>\n",
       "    </tr>\n",
       "  </tbody>\n",
       "</table>\n",
       "</div>"
      ],
      "text/plain": [
       "   path_length                       path  \\\n",
       "0            3      (USA, Russia, Latvia)   \n",
       "1            3      (USA, Poland, Russia)   \n",
       "2            3      (USA, Brazil, Canada)   \n",
       "3            3  (Brazil, Germany, Poland)   \n",
       "4            3     (Brazil, USA, Ukraine)   \n",
       "\n",
       "                                               songs  repetitions  \n",
       "0  {17378243, 41031833, 44778314, 46010318, 40216...           12  \n",
       "1  {26922195, 41420697, 28391220, 44062558, 34835...           21  \n",
       "2  {33327050, 24796465, 30953802, 34686785, 20737...           11  \n",
       "3  {25196320, 34686785, 28386559, 8913696, 207371...           26  \n",
       "4  {19572275, 43957066, 35842059, 40202032, 37678...           12  "
      ]
     },
     "execution_count": 20,
     "metadata": {},
     "output_type": "execute_result"
    }
   ],
   "source": [
    "paths_df.head()"
   ]
  },
  {
   "cell_type": "code",
   "execution_count": 21,
   "metadata": {},
   "outputs": [
    {
     "name": "stdout",
     "output_type": "stream",
     "text": [
      "<class 'pandas.core.frame.DataFrame'>\n",
      "RangeIndex: 8 entries, 0 to 7\n",
      "Data columns (total 4 columns):\n",
      " #   Column       Non-Null Count  Dtype \n",
      "---  ------       --------------  ----- \n",
      " 0   path_length  8 non-null      int64 \n",
      " 1   path         8 non-null      object\n",
      " 2   songs        8 non-null      object\n",
      " 3   repetitions  8 non-null      int64 \n",
      "dtypes: int64(2), object(2)\n",
      "memory usage: 384.0+ bytes\n"
     ]
    }
   ],
   "source": [
    "paths_df.info()"
   ]
  },
  {
   "cell_type": "code",
   "execution_count": 22,
   "metadata": {},
   "outputs": [
    {
     "data": {
      "text/plain": [
       "array([3])"
      ]
     },
     "execution_count": 22,
     "metadata": {},
     "output_type": "execute_result"
    }
   ],
   "source": [
    "paths_df['path_length'].unique()"
   ]
  },
  {
   "cell_type": "code",
   "execution_count": 23,
   "metadata": {},
   "outputs": [],
   "source": [
    "paths_df.to_csv(os.path.join('data', 'patterns', f'paths_{min_length}_{min_weight}_07.csv'))"
   ]
  },
  {
   "cell_type": "markdown",
   "metadata": {},
   "source": [
    "### Find overlapping paths"
   ]
  },
  {
   "cell_type": "code",
   "execution_count": 24,
   "metadata": {},
   "outputs": [
    {
     "data": {
      "text/html": [
       "<div>\n",
       "<style scoped>\n",
       "    .dataframe tbody tr th:only-of-type {\n",
       "        vertical-align: middle;\n",
       "    }\n",
       "\n",
       "    .dataframe tbody tr th {\n",
       "        vertical-align: top;\n",
       "    }\n",
       "\n",
       "    .dataframe thead th {\n",
       "        text-align: right;\n",
       "    }\n",
       "</style>\n",
       "<table border=\"1\" class=\"dataframe\">\n",
       "  <thead>\n",
       "    <tr style=\"text-align: right;\">\n",
       "      <th></th>\n",
       "      <th>path_length</th>\n",
       "      <th>path</th>\n",
       "      <th>songs</th>\n",
       "      <th>repetitions</th>\n",
       "    </tr>\n",
       "  </thead>\n",
       "  <tbody>\n",
       "    <tr>\n",
       "      <th>0</th>\n",
       "      <td>3</td>\n",
       "      <td>(USA, Russia, Latvia)</td>\n",
       "      <td>{17378243, 41031833, 44778314, 46010318, 40216...</td>\n",
       "      <td>12</td>\n",
       "    </tr>\n",
       "    <tr>\n",
       "      <th>1</th>\n",
       "      <td>3</td>\n",
       "      <td>(USA, Poland, Russia)</td>\n",
       "      <td>{28391220, 44062558, 34835066, 19628331, 39317...</td>\n",
       "      <td>21</td>\n",
       "    </tr>\n",
       "    <tr>\n",
       "      <th>2</th>\n",
       "      <td>3</td>\n",
       "      <td>(USA, Brazil, Canada)</td>\n",
       "      <td>{33327050, 10880579, 24796465, 34686785, 20737...</td>\n",
       "      <td>11</td>\n",
       "    </tr>\n",
       "    <tr>\n",
       "      <th>3</th>\n",
       "      <td>3</td>\n",
       "      <td>(Brazil, Germany, Poland)</td>\n",
       "      <td>{28386559, 17791905, 41424480, 15059225, 33286...</td>\n",
       "      <td>26</td>\n",
       "    </tr>\n",
       "    <tr>\n",
       "      <th>4</th>\n",
       "      <td>3</td>\n",
       "      <td>(Brazil, USA, Ukraine)</td>\n",
       "      <td>{19572275, 35842059, 40202032, 37678317, 39918...</td>\n",
       "      <td>12</td>\n",
       "    </tr>\n",
       "  </tbody>\n",
       "</table>\n",
       "</div>"
      ],
      "text/plain": [
       "   path_length                       path  \\\n",
       "0            3      (USA, Russia, Latvia)   \n",
       "1            3      (USA, Poland, Russia)   \n",
       "2            3      (USA, Brazil, Canada)   \n",
       "3            3  (Brazil, Germany, Poland)   \n",
       "4            3     (Brazil, USA, Ukraine)   \n",
       "\n",
       "                                               songs  repetitions  \n",
       "0  {17378243, 41031833, 44778314, 46010318, 40216...           12  \n",
       "1  {28391220, 44062558, 34835066, 19628331, 39317...           21  \n",
       "2  {33327050, 10880579, 24796465, 34686785, 20737...           11  \n",
       "3  {28386559, 17791905, 41424480, 15059225, 33286...           26  \n",
       "4  {19572275, 35842059, 40202032, 37678317, 39918...           12  "
      ]
     },
     "execution_count": 24,
     "metadata": {},
     "output_type": "execute_result"
    }
   ],
   "source": [
    "import ast\n",
    "paths_df= pd.read_csv(os.path.join('data', 'patterns', f'paths_{min_length}_{min_weight}_07.csv'),  converters={\"path\": ast.literal_eval, \"songs\": ast.literal_eval},index_col=0)\n",
    "paths_df.head()"
   ]
  },
  {
   "cell_type": "code",
   "execution_count": 25,
   "metadata": {},
   "outputs": [
    {
     "data": {
      "text/html": [
       "<div>\n",
       "<style scoped>\n",
       "    .dataframe tbody tr th:only-of-type {\n",
       "        vertical-align: middle;\n",
       "    }\n",
       "\n",
       "    .dataframe tbody tr th {\n",
       "        vertical-align: top;\n",
       "    }\n",
       "\n",
       "    .dataframe thead th {\n",
       "        text-align: right;\n",
       "    }\n",
       "</style>\n",
       "<table border=\"1\" class=\"dataframe\">\n",
       "  <thead>\n",
       "    <tr style=\"text-align: right;\">\n",
       "      <th></th>\n",
       "      <th>path_length</th>\n",
       "      <th>path</th>\n",
       "      <th>songs</th>\n",
       "      <th>repetitions</th>\n",
       "    </tr>\n",
       "  </thead>\n",
       "  <tbody>\n",
       "    <tr>\n",
       "      <th>0</th>\n",
       "      <td>3</td>\n",
       "      <td>(USA, Russia, Latvia)</td>\n",
       "      <td>{17378243, 41031833, 44778314, 46010318, 40216...</td>\n",
       "      <td>12</td>\n",
       "    </tr>\n",
       "    <tr>\n",
       "      <th>1</th>\n",
       "      <td>3</td>\n",
       "      <td>(USA, Poland, Russia)</td>\n",
       "      <td>{28391220, 44062558, 34835066, 19628331, 39317...</td>\n",
       "      <td>21</td>\n",
       "    </tr>\n",
       "    <tr>\n",
       "      <th>2</th>\n",
       "      <td>3</td>\n",
       "      <td>(USA, Brazil, Canada)</td>\n",
       "      <td>{33327050, 10880579, 24796465, 34686785, 20737...</td>\n",
       "      <td>11</td>\n",
       "    </tr>\n",
       "    <tr>\n",
       "      <th>3</th>\n",
       "      <td>3</td>\n",
       "      <td>(Brazil, Germany, Poland)</td>\n",
       "      <td>{28386559, 17791905, 41424480, 15059225, 33286...</td>\n",
       "      <td>26</td>\n",
       "    </tr>\n",
       "    <tr>\n",
       "      <th>4</th>\n",
       "      <td>3</td>\n",
       "      <td>(Brazil, USA, Ukraine)</td>\n",
       "      <td>{19572275, 35842059, 40202032, 37678317, 39918...</td>\n",
       "      <td>12</td>\n",
       "    </tr>\n",
       "    <tr>\n",
       "      <th>5</th>\n",
       "      <td>3</td>\n",
       "      <td>(Brazil, USA, Italy)</td>\n",
       "      <td>{5823048, 41420697, 25553428, 39317192, 172611...</td>\n",
       "      <td>12</td>\n",
       "    </tr>\n",
       "    <tr>\n",
       "      <th>6</th>\n",
       "      <td>3</td>\n",
       "      <td>(Brazil, USA, Russia)</td>\n",
       "      <td>{41507970, 4290381, 26922195, 35076409, 187001...</td>\n",
       "      <td>11</td>\n",
       "    </tr>\n",
       "    <tr>\n",
       "      <th>7</th>\n",
       "      <td>3</td>\n",
       "      <td>(Sweden, USA, Brazil)</td>\n",
       "      <td>{8340252, 30701197, 16697814, 16542822, 234490...</td>\n",
       "      <td>20</td>\n",
       "    </tr>\n",
       "  </tbody>\n",
       "</table>\n",
       "</div>"
      ],
      "text/plain": [
       "   path_length                       path  \\\n",
       "0            3      (USA, Russia, Latvia)   \n",
       "1            3      (USA, Poland, Russia)   \n",
       "2            3      (USA, Brazil, Canada)   \n",
       "3            3  (Brazil, Germany, Poland)   \n",
       "4            3     (Brazil, USA, Ukraine)   \n",
       "5            3       (Brazil, USA, Italy)   \n",
       "6            3      (Brazil, USA, Russia)   \n",
       "7            3      (Sweden, USA, Brazil)   \n",
       "\n",
       "                                               songs  repetitions  \n",
       "0  {17378243, 41031833, 44778314, 46010318, 40216...           12  \n",
       "1  {28391220, 44062558, 34835066, 19628331, 39317...           21  \n",
       "2  {33327050, 10880579, 24796465, 34686785, 20737...           11  \n",
       "3  {28386559, 17791905, 41424480, 15059225, 33286...           26  \n",
       "4  {19572275, 35842059, 40202032, 37678317, 39918...           12  \n",
       "5  {5823048, 41420697, 25553428, 39317192, 172611...           12  \n",
       "6  {41507970, 4290381, 26922195, 35076409, 187001...           11  \n",
       "7  {8340252, 30701197, 16697814, 16542822, 234490...           20  "
      ]
     },
     "execution_count": 25,
     "metadata": {},
     "output_type": "execute_result"
    }
   ],
   "source": [
    "paths_df"
   ]
  },
  {
   "cell_type": "code",
   "execution_count": 26,
   "metadata": {
    "scrolled": false
   },
   "outputs": [
    {
     "data": {
      "application/vnd.jupyter.widget-view+json": {
       "model_id": "177c1ee792a6445f89ca398dee09556d",
       "version_major": 2,
       "version_minor": 0
      },
      "text/plain": [
       "  0%|          | 0/8 [00:00<?, ?it/s]"
      ]
     },
     "metadata": {},
     "output_type": "display_data"
    }
   ],
   "source": [
    "def update_pattern_graph(G, df):\n",
    "    for i, v in df.iterrows():\n",
    "        origin = v['source']\n",
    "        dest = v['target']\n",
    "        \n",
    "        if not G.has_edge(origin,dest):\n",
    "            G.add_edge(origin, dest)\n",
    "    \n",
    "    return G\n",
    "\n",
    "graph_patterns =[]\n",
    "merged_paths_lst=[]\n",
    "for i in tqdm(range(paths_df.shape[0])):\n",
    "    if i not in merged_paths_lst:\n",
    "        G_path= nx.empty_graph(1,create_using=nx.DiGraph())\n",
    "\n",
    "        p1= paths_df.iloc[i]\n",
    "        path = p1['path']\n",
    "\n",
    "        src_lst=[]\n",
    "        dest_lst=[]\n",
    "        songs=p1['songs']\n",
    "        \n",
    "        merged= False\n",
    "\n",
    "        for k in range(len(path)-1):\n",
    "            src_lst.append(path[k])\n",
    "            dest_lst.append(path[k+1])\n",
    "\n",
    "        for j in range(i+1,paths_df.shape[0]):\n",
    "            p2= paths_df.iloc[j]\n",
    "            songs2= p2['songs']\n",
    "            path2 = p2['path']\n",
    "\n",
    "            if songs == songs2:\n",
    "                merged=True\n",
    "                merged_paths_lst.append(j)\n",
    "                for k in range(len(path2)-1):\n",
    "                    try:\n",
    "                        src_lst.append(path2[k])\n",
    "                        dest_lst.append(path2[k+1])\n",
    "                    except:\n",
    "                        print(path2)\n",
    "\n",
    "        graph_df= pd.DataFrame({\"source\": src_lst, \"target\": dest_lst})\n",
    "        G_path= update_pattern_graph(G_path, graph_df)\n",
    "        G_path.remove_nodes_from(list(nx.isolates(G_path)))\n",
    "\n",
    "        n_nodes = G_path.number_of_nodes()\n",
    "        graph_patterns.append((songs, len(songs), G_path, n_nodes, merged))        \n"
   ]
  },
  {
   "cell_type": "code",
   "execution_count": 27,
   "metadata": {},
   "outputs": [],
   "source": [
    "graph_patterns_df= pd.DataFrame.from_records(graph_patterns, columns='songs repetitions graph path_length is_merged_path'.split())"
   ]
  },
  {
   "cell_type": "code",
   "execution_count": 38,
   "metadata": {},
   "outputs": [
    {
     "data": {
      "text/html": [
       "<div>\n",
       "<style scoped>\n",
       "    .dataframe tbody tr th:only-of-type {\n",
       "        vertical-align: middle;\n",
       "    }\n",
       "\n",
       "    .dataframe tbody tr th {\n",
       "        vertical-align: top;\n",
       "    }\n",
       "\n",
       "    .dataframe thead th {\n",
       "        text-align: right;\n",
       "    }\n",
       "</style>\n",
       "<table border=\"1\" class=\"dataframe\">\n",
       "  <thead>\n",
       "    <tr style=\"text-align: right;\">\n",
       "      <th></th>\n",
       "      <th>songs</th>\n",
       "      <th>repetitions</th>\n",
       "      <th>graph</th>\n",
       "      <th>path_length</th>\n",
       "      <th>is_merged_path</th>\n",
       "    </tr>\n",
       "  </thead>\n",
       "  <tbody>\n",
       "    <tr>\n",
       "      <th>0</th>\n",
       "      <td>{17378243, 41031833, 44778314, 46010318, 40216...</td>\n",
       "      <td>12</td>\n",
       "      <td>(USA, Russia, Latvia)</td>\n",
       "      <td>3</td>\n",
       "      <td>False</td>\n",
       "    </tr>\n",
       "    <tr>\n",
       "      <th>1</th>\n",
       "      <td>{28391220, 44062558, 34835066, 19628331, 39317...</td>\n",
       "      <td>21</td>\n",
       "      <td>(USA, Poland, Russia)</td>\n",
       "      <td>3</td>\n",
       "      <td>False</td>\n",
       "    </tr>\n",
       "    <tr>\n",
       "      <th>2</th>\n",
       "      <td>{33327050, 10880579, 24796465, 34686785, 20737...</td>\n",
       "      <td>11</td>\n",
       "      <td>(USA, Brazil, Canada)</td>\n",
       "      <td>3</td>\n",
       "      <td>False</td>\n",
       "    </tr>\n",
       "    <tr>\n",
       "      <th>3</th>\n",
       "      <td>{28386559, 17791905, 41424480, 15059225, 33286...</td>\n",
       "      <td>26</td>\n",
       "      <td>(Brazil, Germany, Poland)</td>\n",
       "      <td>3</td>\n",
       "      <td>False</td>\n",
       "    </tr>\n",
       "    <tr>\n",
       "      <th>4</th>\n",
       "      <td>{19572275, 35842059, 40202032, 37678317, 39918...</td>\n",
       "      <td>12</td>\n",
       "      <td>(Brazil, USA, Ukraine)</td>\n",
       "      <td>3</td>\n",
       "      <td>False</td>\n",
       "    </tr>\n",
       "    <tr>\n",
       "      <th>5</th>\n",
       "      <td>{5823048, 41420697, 25553428, 39317192, 172611...</td>\n",
       "      <td>12</td>\n",
       "      <td>(Brazil, USA, Italy)</td>\n",
       "      <td>3</td>\n",
       "      <td>False</td>\n",
       "    </tr>\n",
       "    <tr>\n",
       "      <th>6</th>\n",
       "      <td>{41507970, 4290381, 26922195, 35076409, 187001...</td>\n",
       "      <td>11</td>\n",
       "      <td>(Brazil, USA, Russia)</td>\n",
       "      <td>3</td>\n",
       "      <td>False</td>\n",
       "    </tr>\n",
       "    <tr>\n",
       "      <th>7</th>\n",
       "      <td>{8340252, 30701197, 16697814, 16542822, 234490...</td>\n",
       "      <td>20</td>\n",
       "      <td>(Sweden, USA, Brazil)</td>\n",
       "      <td>3</td>\n",
       "      <td>False</td>\n",
       "    </tr>\n",
       "  </tbody>\n",
       "</table>\n",
       "</div>"
      ],
      "text/plain": [
       "                                               songs  repetitions  \\\n",
       "0  {17378243, 41031833, 44778314, 46010318, 40216...           12   \n",
       "1  {28391220, 44062558, 34835066, 19628331, 39317...           21   \n",
       "2  {33327050, 10880579, 24796465, 34686785, 20737...           11   \n",
       "3  {28386559, 17791905, 41424480, 15059225, 33286...           26   \n",
       "4  {19572275, 35842059, 40202032, 37678317, 39918...           12   \n",
       "5  {5823048, 41420697, 25553428, 39317192, 172611...           12   \n",
       "6  {41507970, 4290381, 26922195, 35076409, 187001...           11   \n",
       "7  {8340252, 30701197, 16697814, 16542822, 234490...           20   \n",
       "\n",
       "                       graph  path_length  is_merged_path  \n",
       "0      (USA, Russia, Latvia)            3           False  \n",
       "1      (USA, Poland, Russia)            3           False  \n",
       "2      (USA, Brazil, Canada)            3           False  \n",
       "3  (Brazil, Germany, Poland)            3           False  \n",
       "4     (Brazil, USA, Ukraine)            3           False  \n",
       "5       (Brazil, USA, Italy)            3           False  \n",
       "6      (Brazil, USA, Russia)            3           False  \n",
       "7      (Sweden, USA, Brazil)            3           False  "
      ]
     },
     "execution_count": 38,
     "metadata": {},
     "output_type": "execute_result"
    }
   ],
   "source": [
    "graph_patterns_df"
   ]
  },
  {
   "cell_type": "code",
   "execution_count": 29,
   "metadata": {},
   "outputs": [
    {
     "name": "stdout",
     "output_type": "stream",
     "text": [
      "<class 'pandas.core.frame.DataFrame'>\n",
      "RangeIndex: 8 entries, 0 to 7\n",
      "Data columns (total 5 columns):\n",
      " #   Column          Non-Null Count  Dtype \n",
      "---  ------          --------------  ----- \n",
      " 0   songs           8 non-null      object\n",
      " 1   repetitions     8 non-null      int64 \n",
      " 2   graph           8 non-null      object\n",
      " 3   path_length     8 non-null      int64 \n",
      " 4   is_merged_path  8 non-null      bool  \n",
      "dtypes: bool(1), int64(2), object(2)\n",
      "memory usage: 392.0+ bytes\n"
     ]
    }
   ],
   "source": [
    "graph_patterns_df.info()"
   ]
  },
  {
   "cell_type": "code",
   "execution_count": 32,
   "metadata": {
    "scrolled": true
   },
   "outputs": [
    {
     "data": {
      "text/html": [
       "<div>\n",
       "<style scoped>\n",
       "    .dataframe tbody tr th:only-of-type {\n",
       "        vertical-align: middle;\n",
       "    }\n",
       "\n",
       "    .dataframe tbody tr th {\n",
       "        vertical-align: top;\n",
       "    }\n",
       "\n",
       "    .dataframe thead th {\n",
       "        text-align: right;\n",
       "    }\n",
       "</style>\n",
       "<table border=\"1\" class=\"dataframe\">\n",
       "  <thead>\n",
       "    <tr style=\"text-align: right;\">\n",
       "      <th></th>\n",
       "      <th>repetitions</th>\n",
       "      <th>graph</th>\n",
       "      <th>path_length</th>\n",
       "      <th>is_merged_path</th>\n",
       "    </tr>\n",
       "  </thead>\n",
       "  <tbody>\n",
       "  </tbody>\n",
       "</table>\n",
       "</div>"
      ],
      "text/plain": [
       "Empty DataFrame\n",
       "Columns: [repetitions, graph, path_length, is_merged_path]\n",
       "Index: []"
      ]
     },
     "execution_count": 32,
     "metadata": {},
     "output_type": "execute_result"
    }
   ],
   "source": [
    "graph_patterns_df[(graph_patterns_df['path_length']==3) & graph_patterns_df['is_merged_path']==True].sort_values('repetitions', ascending=False).drop(columns='songs').head(15)"
   ]
  },
  {
   "cell_type": "code",
   "execution_count": 31,
   "metadata": {},
   "outputs": [
    {
     "ename": "IndexError",
     "evalue": "single positional indexer is out-of-bounds",
     "output_type": "error",
     "traceback": [
      "\u001b[0;31m---------------------------------------------------------------------------\u001b[0m",
      "\u001b[0;31mIndexError\u001b[0m                                Traceback (most recent call last)",
      "\u001b[0;32m/tmp/ipykernel_3874748/837043299.py\u001b[0m in \u001b[0;36m<module>\u001b[0;34m\u001b[0m\n\u001b[0;32m----> 1\u001b[0;31m \u001b[0mplot_graph\u001b[0m\u001b[0;34m(\u001b[0m\u001b[0mgraph_patterns_df\u001b[0m\u001b[0;34m.\u001b[0m\u001b[0miloc\u001b[0m\u001b[0;34m[\u001b[0m\u001b[0;36m361\u001b[0m\u001b[0;34m]\u001b[0m\u001b[0;34m[\u001b[0m\u001b[0;34m'graph'\u001b[0m\u001b[0;34m]\u001b[0m\u001b[0;34m,\u001b[0m \u001b[0mto_file\u001b[0m\u001b[0;34m=\u001b[0m\u001b[0;32mTrue\u001b[0m\u001b[0;34m,\u001b[0m \u001b[0mfile_name\u001b[0m\u001b[0;34m=\u001b[0m\u001b[0;34m'example_1'\u001b[0m\u001b[0;34m)\u001b[0m\u001b[0;34m;\u001b[0m\u001b[0;34m\u001b[0m\u001b[0;34m\u001b[0m\u001b[0m\n\u001b[0m",
      "\u001b[0;32m~/.local/lib/python3.8/site-packages/pandas/core/indexing.py\u001b[0m in \u001b[0;36m__getitem__\u001b[0;34m(self, key)\u001b[0m\n\u001b[1;32m    893\u001b[0m \u001b[0;34m\u001b[0m\u001b[0m\n\u001b[1;32m    894\u001b[0m             \u001b[0mmaybe_callable\u001b[0m \u001b[0;34m=\u001b[0m \u001b[0mcom\u001b[0m\u001b[0;34m.\u001b[0m\u001b[0mapply_if_callable\u001b[0m\u001b[0;34m(\u001b[0m\u001b[0mkey\u001b[0m\u001b[0;34m,\u001b[0m \u001b[0mself\u001b[0m\u001b[0;34m.\u001b[0m\u001b[0mobj\u001b[0m\u001b[0;34m)\u001b[0m\u001b[0;34m\u001b[0m\u001b[0;34m\u001b[0m\u001b[0m\n\u001b[0;32m--> 895\u001b[0;31m             \u001b[0;32mreturn\u001b[0m \u001b[0mself\u001b[0m\u001b[0;34m.\u001b[0m\u001b[0m_getitem_axis\u001b[0m\u001b[0;34m(\u001b[0m\u001b[0mmaybe_callable\u001b[0m\u001b[0;34m,\u001b[0m \u001b[0maxis\u001b[0m\u001b[0;34m=\u001b[0m\u001b[0maxis\u001b[0m\u001b[0;34m)\u001b[0m\u001b[0;34m\u001b[0m\u001b[0;34m\u001b[0m\u001b[0m\n\u001b[0m\u001b[1;32m    896\u001b[0m \u001b[0;34m\u001b[0m\u001b[0m\n\u001b[1;32m    897\u001b[0m     \u001b[0;32mdef\u001b[0m \u001b[0m_is_scalar_access\u001b[0m\u001b[0;34m(\u001b[0m\u001b[0mself\u001b[0m\u001b[0;34m,\u001b[0m \u001b[0mkey\u001b[0m\u001b[0;34m:\u001b[0m \u001b[0mTuple\u001b[0m\u001b[0;34m)\u001b[0m\u001b[0;34m:\u001b[0m\u001b[0;34m\u001b[0m\u001b[0;34m\u001b[0m\u001b[0m\n",
      "\u001b[0;32m~/.local/lib/python3.8/site-packages/pandas/core/indexing.py\u001b[0m in \u001b[0;36m_getitem_axis\u001b[0;34m(self, key, axis)\u001b[0m\n\u001b[1;32m   1499\u001b[0m \u001b[0;34m\u001b[0m\u001b[0m\n\u001b[1;32m   1500\u001b[0m             \u001b[0;31m# validate the location\u001b[0m\u001b[0;34m\u001b[0m\u001b[0;34m\u001b[0m\u001b[0;34m\u001b[0m\u001b[0m\n\u001b[0;32m-> 1501\u001b[0;31m             \u001b[0mself\u001b[0m\u001b[0;34m.\u001b[0m\u001b[0m_validate_integer\u001b[0m\u001b[0;34m(\u001b[0m\u001b[0mkey\u001b[0m\u001b[0;34m,\u001b[0m \u001b[0maxis\u001b[0m\u001b[0;34m)\u001b[0m\u001b[0;34m\u001b[0m\u001b[0;34m\u001b[0m\u001b[0m\n\u001b[0m\u001b[1;32m   1502\u001b[0m \u001b[0;34m\u001b[0m\u001b[0m\n\u001b[1;32m   1503\u001b[0m             \u001b[0;32mreturn\u001b[0m \u001b[0mself\u001b[0m\u001b[0;34m.\u001b[0m\u001b[0mobj\u001b[0m\u001b[0;34m.\u001b[0m\u001b[0m_ixs\u001b[0m\u001b[0;34m(\u001b[0m\u001b[0mkey\u001b[0m\u001b[0;34m,\u001b[0m \u001b[0maxis\u001b[0m\u001b[0;34m=\u001b[0m\u001b[0maxis\u001b[0m\u001b[0;34m)\u001b[0m\u001b[0;34m\u001b[0m\u001b[0;34m\u001b[0m\u001b[0m\n",
      "\u001b[0;32m~/.local/lib/python3.8/site-packages/pandas/core/indexing.py\u001b[0m in \u001b[0;36m_validate_integer\u001b[0;34m(self, key, axis)\u001b[0m\n\u001b[1;32m   1442\u001b[0m         \u001b[0mlen_axis\u001b[0m \u001b[0;34m=\u001b[0m \u001b[0mlen\u001b[0m\u001b[0;34m(\u001b[0m\u001b[0mself\u001b[0m\u001b[0;34m.\u001b[0m\u001b[0mobj\u001b[0m\u001b[0;34m.\u001b[0m\u001b[0m_get_axis\u001b[0m\u001b[0;34m(\u001b[0m\u001b[0maxis\u001b[0m\u001b[0;34m)\u001b[0m\u001b[0;34m)\u001b[0m\u001b[0;34m\u001b[0m\u001b[0;34m\u001b[0m\u001b[0m\n\u001b[1;32m   1443\u001b[0m         \u001b[0;32mif\u001b[0m \u001b[0mkey\u001b[0m \u001b[0;34m>=\u001b[0m \u001b[0mlen_axis\u001b[0m \u001b[0;32mor\u001b[0m \u001b[0mkey\u001b[0m \u001b[0;34m<\u001b[0m \u001b[0;34m-\u001b[0m\u001b[0mlen_axis\u001b[0m\u001b[0;34m:\u001b[0m\u001b[0;34m\u001b[0m\u001b[0;34m\u001b[0m\u001b[0m\n\u001b[0;32m-> 1444\u001b[0;31m             \u001b[0;32mraise\u001b[0m \u001b[0mIndexError\u001b[0m\u001b[0;34m(\u001b[0m\u001b[0;34m\"single positional indexer is out-of-bounds\"\u001b[0m\u001b[0;34m)\u001b[0m\u001b[0;34m\u001b[0m\u001b[0;34m\u001b[0m\u001b[0m\n\u001b[0m\u001b[1;32m   1445\u001b[0m \u001b[0;34m\u001b[0m\u001b[0m\n\u001b[1;32m   1446\u001b[0m     \u001b[0;31m# -------------------------------------------------------------------\u001b[0m\u001b[0;34m\u001b[0m\u001b[0;34m\u001b[0m\u001b[0;34m\u001b[0m\u001b[0m\n",
      "\u001b[0;31mIndexError\u001b[0m: single positional indexer is out-of-bounds"
     ]
    }
   ],
   "source": [
    "plot_graph(graph_patterns_df.iloc[361]['graph'], to_file=True, file_name=f'example_1_{source}');"
   ]
  },
  {
   "cell_type": "code",
   "execution_count": null,
   "metadata": {},
   "outputs": [],
   "source": [
    "plot_graph(graph_patterns_df.iloc[105]['graph'], to_file=True, file_name=f'example_2_{source}');"
   ]
  },
  {
   "cell_type": "markdown",
   "metadata": {},
   "source": [
    "### Frequent sequential patterns"
   ]
  },
  {
   "cell_type": "code",
   "execution_count": 33,
   "metadata": {
    "scrolled": true
   },
   "outputs": [
    {
     "data": {
      "text/plain": [
       "array([[3, ('Brazil', 'Germany', 'Poland'), 26],\n",
       "       [3, ('USA', 'Poland', 'Russia'), 21],\n",
       "       [3, ('Sweden', 'USA', 'Brazil'), 20],\n",
       "       [3, ('USA', 'Russia', 'Latvia'), 12],\n",
       "       [3, ('Brazil', 'USA', 'Ukraine'), 12],\n",
       "       [3, ('Brazil', 'USA', 'Italy'), 12],\n",
       "       [3, ('USA', 'Brazil', 'Canada'), 11],\n",
       "       [3, ('Brazil', 'USA', 'Russia'), 11]], dtype=object)"
      ]
     },
     "execution_count": 33,
     "metadata": {},
     "output_type": "execute_result"
    }
   ],
   "source": [
    "paths_df[paths_df['path_length']==3].sort_values('repetitions', ascending=False).drop(columns='songs').head(5).values"
   ]
  },
  {
   "cell_type": "code",
   "execution_count": 34,
   "metadata": {
    "scrolled": true
   },
   "outputs": [
    {
     "data": {
      "text/plain": [
       "array([], shape=(0, 3), dtype=object)"
      ]
     },
     "execution_count": 34,
     "metadata": {},
     "output_type": "execute_result"
    }
   ],
   "source": [
    "paths_df[paths_df['path_length']==4].sort_values('repetitions', ascending=False).drop(columns='songs').head(15).values"
   ]
  },
  {
   "cell_type": "code",
   "execution_count": 35,
   "metadata": {},
   "outputs": [
    {
     "data": {
      "text/plain": [
       "array([], shape=(0, 3), dtype=object)"
      ]
     },
     "execution_count": 35,
     "metadata": {},
     "output_type": "execute_result"
    }
   ],
   "source": [
    "paths_df[paths_df['path_length']==5].sort_values('repetitions', ascending=False).drop(columns='songs').head(15).values"
   ]
  },
  {
   "cell_type": "code",
   "execution_count": 36,
   "metadata": {},
   "outputs": [
    {
     "data": {
      "text/plain": [
       "array([], shape=(0, 3), dtype=object)"
      ]
     },
     "execution_count": 36,
     "metadata": {},
     "output_type": "execute_result"
    }
   ],
   "source": [
    "paths_df[paths_df['path_length']==6].sort_values('repetitions', ascending=False).drop(columns='songs').head(15).values"
   ]
  },
  {
   "cell_type": "code",
   "execution_count": 37,
   "metadata": {},
   "outputs": [
    {
     "data": {
      "text/plain": [
       "array([], shape=(0, 4), dtype=object)"
      ]
     },
     "execution_count": 37,
     "metadata": {},
     "output_type": "execute_result"
    }
   ],
   "source": [
    "paths_df[paths_df['path_length']==7].sort_values('repetitions', ascending=False).head(10).values"
   ]
  },
  {
   "cell_type": "markdown",
   "metadata": {},
   "source": [
    "### Patterns by gender"
   ]
  },
  {
   "cell_type": "code",
   "execution_count": null,
   "metadata": {
    "scrolled": true
   },
   "outputs": [],
   "source": [
    "min_size = 2\n",
    "min_length= 3\n",
    "for g, G_g in G_genres.items():\n",
    "    path_df =extract_patterns_from_graph(G_g, min_size, min_length)\n",
    "    print(g, 3, path_df[path_df['path_length']==3].sort_values('repetitions', ascending=False).head(10).values)\n",
    "    print(g, 4, path_df[path_df['path_length']==4].sort_values('repetitions', ascending=False).head(10).values)"
   ]
  },
  {
   "cell_type": "code",
   "execution_count": null,
   "metadata": {
    "scrolled": true
   },
   "outputs": [],
   "source": [
    "plot_graph(G_genres['folk/traditional'])"
   ]
  },
  {
   "cell_type": "code",
   "execution_count": null,
   "metadata": {},
   "outputs": [],
   "source": [
    "plot_graph(G_genres['rock'])"
   ]
  },
  {
   "cell_type": "code",
   "execution_count": null,
   "metadata": {},
   "outputs": [],
   "source": [
    "plot_graph(G_genres['indie'])"
   ]
  },
  {
   "cell_type": "code",
   "execution_count": null,
   "metadata": {
    "scrolled": true
   },
   "outputs": [],
   "source": [
    "print(\"That's all folks!\")"
   ]
  }
 ],
 "metadata": {
  "kernelspec": {
   "display_name": "Python 3 (ipykernel)",
   "language": "python",
   "name": "python3"
  },
  "language_info": {
   "codemirror_mode": {
    "name": "ipython",
    "version": 3
   },
   "file_extension": ".py",
   "mimetype": "text/x-python",
   "name": "python",
   "nbconvert_exporter": "python",
   "pygments_lexer": "ipython3",
   "version": "3.8.10"
  }
 },
 "nbformat": 4,
 "nbformat_minor": 4
}
