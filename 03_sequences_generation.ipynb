{
 "cells": [
  {
   "cell_type": "code",
   "execution_count": 1,
   "metadata": {},
   "outputs": [],
   "source": [
    "import pandas as pd\n",
    "import os\n",
    "from tqdm.notebook import tqdm\n",
    "import numpy as np\n",
    "import json"
   ]
  },
  {
   "cell_type": "code",
   "execution_count": 2,
   "metadata": {},
   "outputs": [
    {
     "name": "stderr",
     "output_type": "stream",
     "text": [
      "/Users/Fer/anaconda3/envs/spotify_env/lib/python3.9/site-packages/numpy/lib/arraysetops.py:583: FutureWarning: elementwise comparison failed; returning scalar instead, but in the future will perform elementwise comparison\n",
      "  mask |= (ar1 == a)\n"
     ]
    }
   ],
   "source": [
    "clean_ranking_df = pd.read_csv(os.path.join('data','clean_ranking_v2.csv'), index_col=0)"
   ]
  },
  {
   "cell_type": "code",
   "execution_count": 3,
   "metadata": {},
   "outputs": [
    {
     "data": {
      "text/html": [
       "<div>\n",
       "<style scoped>\n",
       "    .dataframe tbody tr th:only-of-type {\n",
       "        vertical-align: middle;\n",
       "    }\n",
       "\n",
       "    .dataframe tbody tr th {\n",
       "        vertical-align: top;\n",
       "    }\n",
       "\n",
       "    .dataframe thead th {\n",
       "        text-align: right;\n",
       "    }\n",
       "</style>\n",
       "<table border=\"1\" class=\"dataframe\">\n",
       "  <thead>\n",
       "    <tr style=\"text-align: right;\">\n",
       "      <th></th>\n",
       "      <th>Position</th>\n",
       "      <th>Track Name</th>\n",
       "      <th>Artist</th>\n",
       "      <th>Streams</th>\n",
       "      <th>URL</th>\n",
       "      <th>Date</th>\n",
       "      <th>Region</th>\n",
       "      <th>song_id</th>\n",
       "      <th>release_date</th>\n",
       "    </tr>\n",
       "  </thead>\n",
       "  <tbody>\n",
       "    <tr>\n",
       "      <th>2176</th>\n",
       "      <td>177</td>\n",
       "      <td>Footloose</td>\n",
       "      <td>Kenny Loggins</td>\n",
       "      <td>24993</td>\n",
       "      <td>4O4Z8VFczL8MxIOmqVWc1b</td>\n",
       "      <td>2018-01-11</td>\n",
       "      <td>Canada</td>\n",
       "      <td>4O4Z8VFczL8MxIOmqVWc1b</td>\n",
       "      <td>2018-01-11</td>\n",
       "    </tr>\n",
       "    <tr>\n",
       "      <th>3392</th>\n",
       "      <td>193</td>\n",
       "      <td>Tequila</td>\n",
       "      <td>Dan + Shay</td>\n",
       "      <td>23917</td>\n",
       "      <td>7Il2yWQmsqKgSkLQvHTPUI</td>\n",
       "      <td>2018-01-17</td>\n",
       "      <td>Canada</td>\n",
       "      <td>7Il2yWQmsqKgSkLQvHTPUI</td>\n",
       "      <td>2018-01-17</td>\n",
       "    </tr>\n",
       "    <tr>\n",
       "      <th>3594</th>\n",
       "      <td>195</td>\n",
       "      <td>Mine</td>\n",
       "      <td>Bazzi</td>\n",
       "      <td>23780</td>\n",
       "      <td>6tHWl8ows5JOZq9Yfaqn3M</td>\n",
       "      <td>2018-01-18</td>\n",
       "      <td>Canada</td>\n",
       "      <td>6tHWl8ows5JOZq9Yfaqn3M</td>\n",
       "      <td>2018-01-15</td>\n",
       "    </tr>\n",
       "    <tr>\n",
       "      <th>3772</th>\n",
       "      <td>173</td>\n",
       "      <td>Mine</td>\n",
       "      <td>Bazzi</td>\n",
       "      <td>26500</td>\n",
       "      <td>6tHWl8ows5JOZq9Yfaqn3M</td>\n",
       "      <td>2018-01-19</td>\n",
       "      <td>Canada</td>\n",
       "      <td>6tHWl8ows5JOZq9Yfaqn3M</td>\n",
       "      <td>2018-01-15</td>\n",
       "    </tr>\n",
       "    <tr>\n",
       "      <th>3978</th>\n",
       "      <td>179</td>\n",
       "      <td>Mine</td>\n",
       "      <td>Bazzi</td>\n",
       "      <td>24577</td>\n",
       "      <td>6tHWl8ows5JOZq9Yfaqn3M</td>\n",
       "      <td>2018-01-20</td>\n",
       "      <td>Canada</td>\n",
       "      <td>6tHWl8ows5JOZq9Yfaqn3M</td>\n",
       "      <td>2018-01-15</td>\n",
       "    </tr>\n",
       "  </tbody>\n",
       "</table>\n",
       "</div>"
      ],
      "text/plain": [
       "      Position Track Name         Artist  Streams                     URL  \\\n",
       "2176       177  Footloose  Kenny Loggins    24993  4O4Z8VFczL8MxIOmqVWc1b   \n",
       "3392       193    Tequila     Dan + Shay    23917  7Il2yWQmsqKgSkLQvHTPUI   \n",
       "3594       195       Mine          Bazzi    23780  6tHWl8ows5JOZq9Yfaqn3M   \n",
       "3772       173       Mine          Bazzi    26500  6tHWl8ows5JOZq9Yfaqn3M   \n",
       "3978       179       Mine          Bazzi    24577  6tHWl8ows5JOZq9Yfaqn3M   \n",
       "\n",
       "            Date  Region                 song_id release_date  \n",
       "2176  2018-01-11  Canada  4O4Z8VFczL8MxIOmqVWc1b   2018-01-11  \n",
       "3392  2018-01-17  Canada  7Il2yWQmsqKgSkLQvHTPUI   2018-01-17  \n",
       "3594  2018-01-18  Canada  6tHWl8ows5JOZq9Yfaqn3M   2018-01-15  \n",
       "3772  2018-01-19  Canada  6tHWl8ows5JOZq9Yfaqn3M   2018-01-15  \n",
       "3978  2018-01-20  Canada  6tHWl8ows5JOZq9Yfaqn3M   2018-01-15  "
      ]
     },
     "execution_count": 3,
     "metadata": {},
     "output_type": "execute_result"
    }
   ],
   "source": [
    "clean_ranking_df.head()"
   ]
  },
  {
   "cell_type": "code",
   "execution_count": 24,
   "metadata": {},
   "outputs": [],
   "source": [
    "def generate_song_sequences_fn(song_ranking):\n",
    "    dates=song_ranking.groupby('Region')['Date'].min().to_frame()\n",
    "    dates_sort=dates.sort_values('Date')\n",
    "    dates_sort= dates_sort.reset_index().set_index('Date')\n",
    "    \n",
    "    dates_lst=dates_sort.index.unique().values\n",
    "    l=None\n",
    "    if len(dates_lst)>= 2:\n",
    "        l=dates_sort.loc[dates_lst[0]].values\n",
    "        l=np.array(l).flatten()\n",
    "        \n",
    "        print(l)\n",
    "\n",
    "        len_=1\n",
    "        for d in range(1,len(dates_lst)):\n",
    "            l2=dates_sort.loc[dates_lst[d]].values\n",
    "            l2=np.array(l2).flatten()\n",
    "            \n",
    "            if len_ < 2:\n",
    "                l=[[a,b] for a in l for b in l2]\n",
    "            else:\n",
    "                l=[a+[b] for a in l for b in l2]            \n",
    "            len_+=1\n",
    "    \n",
    "            \"\"\"\n",
    "            if len_ < 2:\n",
    "                l=[(a,)+(b,) for a in l for b in l2]\n",
    "            else:\n",
    "                l=[a+(b,) for a in l for b in l2]\n",
    "            len_+=1\n",
    "            \"\"\"\n",
    "    return l"
   ]
  },
  {
   "cell_type": "code",
   "execution_count": null,
   "metadata": {},
   "outputs": [],
   "source": [
    "def generate_song_direct_sequences_fn(song_ranking, influence_threshold = 3, min_threshold=1):\n",
    "    \n",
    "    dates=song_ranking.groupby('Region')['Date'].min().to_frame()\n",
    "    dates_sort=dates.sort_values('Date')\n",
    "    dates_sort= dates_sort.reset_index().set_index('Date')\n",
    "    \n",
    "    dates_lst=dates_sort.index.unique().values\n",
    "    \n",
    "    i_start = 0\n",
    "    list_ = []\n",
    "    if len(dates_lst)>= 2:\n",
    "        for i_start in range(0,len(dates_lst)):\n",
    "            do =dates_lst[i_start]\n",
    "            lo=dates_sort.loc[do].values\n",
    "            lo=np.array(lo).flatten()\n",
    "\n",
    "            for i_end in range(i_start+1,len(dates_lst)):\n",
    "                de =dates_lst[i_end]\n",
    "                dif = int((de-do)/86400000000000)\n",
    "\n",
    "                if (dif <= influence_threshold) and (dif> min_threshold):\n",
    "                    if dif>0:\n",
    "                        #print(\"comparamos\", dif, dates_lst[i_start], dates_lst[i_end])\n",
    "\n",
    "                        le=dates_sort.loc[de].values\n",
    "                        le=np.array(le).flatten()\n",
    "\n",
    "                        l =[[a,b] for a in lo for b in le]\n",
    "                        #print(l)\n",
    "                        list_ = list_+l\n",
    "    return list_"
   ]
  },
  {
   "cell_type": "code",
   "execution_count": null,
   "metadata": {},
   "outputs": [],
   "source": [
    "seq={}\n",
    "influence_threshold = 3 #days\n",
    "min_threshold=1 #days\n",
    "for s in tqdm(clean_ranking_df['song_id'].unique()):\n",
    "    song_ranking= clean_ranking_df[clean_ranking_df['song_id']==s]\n",
    "    song_seq = generate_song_direct_sequences_fn(song_ranking, influence_threshold, min_threshold)\n",
    "    if (song_seq is not None) and len(song_seq)>1:\n",
    "        seq[s]=song_seq"
   ]
  },
  {
   "cell_type": "code",
   "execution_count": 32,
   "metadata": {},
   "outputs": [],
   "source": [
    "with open(os.path.join('data',f'clean_song_sequence_direct_{min_threshold}_{influence_threshold}.json'), 'w') as json_file:\n",
    "    json.dump(seq, json_file)"
   ]
  },
  {
   "cell_type": "markdown",
   "metadata": {},
   "source": [
    "Generate ranking with consequtive secuences"
   ]
  },
  {
   "cell_type": "code",
   "execution_count": 33,
   "metadata": {},
   "outputs": [
    {
     "data": {
      "application/vnd.jupyter.widget-view+json": {
       "model_id": "fc3c0af0179c4ef5b931c7c6589428c0",
       "version_major": 2,
       "version_minor": 0
      },
      "text/plain": [
       "HBox(children=(HTML(value=''), FloatProgress(value=0.0, max=526.0), HTML(value='')))"
      ]
     },
     "metadata": {},
     "output_type": "display_data"
    },
    {
     "name": "stdout",
     "output_type": "stream",
     "text": [
      "\n"
     ]
    }
   ],
   "source": [
    "seq={}\n",
    "influence_threshold = 5 #days\n",
    "min_threshold=0 #days\n",
    "max_pos=4\n",
    "ranking_lite_df = clean_ranking_df[clean_ranking_df['Position']<=max_pos]\n",
    "for s in tqdm(ranking_lite_df['song_id'].unique()):\n",
    "    song_ranking= ranking_lite_df[ranking_lite_df['song_id']==s]\n",
    "    song_seq = generate_song_direct_sequences_fn(song_ranking, influence_threshold, min_threshold)\n",
    "    if (song_seq is not None) and len(song_seq)>1:\n",
    "        seq[s]=song_seq\n",
    "        \n",
    "with open(os.path.join('data',f'clean_song_sequence_direct_{min_threshold}_{influence_threshold}_{max_pos}.json'), 'w') as json_file:\n",
    "    json.dump(seq, json_file)    "
   ]
  },
  {
   "cell_type": "code",
   "execution_count": null,
   "metadata": {},
   "outputs": [],
   "source": [
    "print(\"That's all folks!\")"
   ]
  }
 ],
 "metadata": {
  "kernelspec": {
   "display_name": "Python 3",
   "language": "python",
   "name": "python3"
  },
  "language_info": {
   "codemirror_mode": {
    "name": "ipython",
    "version": 3
   },
   "file_extension": ".py",
   "mimetype": "text/x-python",
   "name": "python",
   "nbconvert_exporter": "python",
   "pygments_lexer": "ipython3",
   "version": "3.8.10"
  }
 },
 "nbformat": 4,
 "nbformat_minor": 4
}
