{
 "cells": [
  {
   "cell_type": "code",
   "execution_count": 1,
   "id": "622463e5",
   "metadata": {},
   "outputs": [],
   "source": [
    "import pandas as pd\n",
    "import os\n",
    "\n",
    "import dask\n",
    "import dask.dataframe as dd\n",
    "\n",
    "from tqdm.notebook import tqdm\n",
    "\n",
    "\n",
    "#import warnings\n",
    "#warnings.filterwarnings('ignore')"
   ]
  },
  {
   "cell_type": "code",
   "execution_count": null,
   "id": "70ef537d",
   "metadata": {
    "scrolled": false
   },
   "outputs": [],
   "source": [
    "#from dask.distributed import Client, progress\n",
    "#client = Client(threads_per_worker=5, n_workers=20)\n",
    "#client\n",
    "from dask.distributed import Client, LocalCluster\n",
    "cluster = LocalCluster()\n",
    "client = Client(cluster)\n",
    "client"
   ]
  },
  {
   "cell_type": "code",
   "execution_count": null,
   "id": "5a4bc0a0",
   "metadata": {},
   "outputs": [],
   "source": [
    "users_df = dd.read_csv(os.path.join('data', 'LMF-2b','users.tsv'), sep='\\t')\n",
    "users_df= users_df.dropna()\n",
    "users_df=users_df['user_id country'.split()]\n",
    "users_df.head()"
   ]
  },
  {
   "cell_type": "code",
   "execution_count": null,
   "id": "493f0f00",
   "metadata": {},
   "outputs": [],
   "source": [
    "listening_df = dd.read_csv(os.path.join('data', 'LMF-2b','listening-events.tsv'), sep='\\t', parse_dates=['timestamp'])\n",
    "listening_df['date']=listening_df['timestamp'].dt.date\n",
    "listening_df = listening_df.drop(columns='album_id')"
   ]
  },
  {
   "cell_type": "code",
   "execution_count": null,
   "id": "566e5d3d",
   "metadata": {},
   "outputs": [],
   "source": [
    "listening_df.head()"
   ]
  },
  {
   "cell_type": "code",
   "execution_count": null,
   "id": "086cabcc",
   "metadata": {},
   "outputs": [],
   "source": [
    "listening_w_country= listening_df.merge(users_df, on='user_id')\n",
    "#listening_w_country['date']=listening_w_country['timestamp'].dt.date\n",
    "listening_w_country = listening_w_country.drop(columns='user_id timestamp'.split())\n",
    "listening_w_country.head()"
   ]
  },
  {
   "cell_type": "code",
   "execution_count": null,
   "id": "2c99a7f5",
   "metadata": {},
   "outputs": [],
   "source": [
    "listening_w_country.to_csv(os.path.join('data', 'LMF-2b','n_listenings_per_country_aux-*.csv'))"
   ]
  },
  {
   "cell_type": "markdown",
   "id": "60e91c3d",
   "metadata": {},
   "source": [
    "### Now we count the number of songs per day an country"
   ]
  },
  {
   "cell_type": "code",
   "execution_count": 20,
   "id": "b7489f68",
   "metadata": {
    "scrolled": true
   },
   "outputs": [
    {
     "data": {
      "application/vnd.jupyter.widget-view+json": {
       "model_id": "5bc2560338114295a814430ce0d4ed40",
       "version_major": 2,
       "version_minor": 0
      },
      "text/plain": [
       "  0%|          | 0/1360 [00:00<?, ?it/s]"
      ]
     },
     "metadata": {},
     "output_type": "display_data"
    }
   ],
   "source": [
    "sum_df=None\n",
    "for i in tqdm(range(1, 1361)):\n",
    "    p = str(i).zfill(4)\n",
    "    listening_w_country = pd.read_csv(os.path.join('data', 'LMF-2b',f'n_listenings_per_country_aux-{p}.csv'))\n",
    "    n_listenings_per_country= listening_w_country.groupby(['track_id','country', 'date']).size().to_frame()\n",
    "    #n_listenings_per_country.to_csv(os.path.join('data', 'LMF-2b',f'n_listenings_per_country-{p}.csv'))\n",
    "     \n",
    "    n_listenings_per_country= n_listenings_per_country[n_listenings_per_country[0]>10]   \n",
    "    if sum_df is None:\n",
    "        sum_df= n_listenings_per_country.copy()\n",
    "    else:\n",
    "        df= pd.concat([sum_df, n_listenings_per_country])\n",
    "        sum_df= df.groupby('track_id country date'.split()).sum('0')\n",
    "        "
   ]
  },
  {
   "cell_type": "code",
   "execution_count": 25,
   "id": "72164b4b",
   "metadata": {},
   "outputs": [
    {
     "data": {
      "text/html": [
       "<div>\n",
       "<style scoped>\n",
       "    .dataframe tbody tr th:only-of-type {\n",
       "        vertical-align: middle;\n",
       "    }\n",
       "\n",
       "    .dataframe tbody tr th {\n",
       "        vertical-align: top;\n",
       "    }\n",
       "\n",
       "    .dataframe thead th {\n",
       "        text-align: right;\n",
       "    }\n",
       "</style>\n",
       "<table border=\"1\" class=\"dataframe\">\n",
       "  <thead>\n",
       "    <tr style=\"text-align: right;\">\n",
       "      <th></th>\n",
       "      <th></th>\n",
       "      <th></th>\n",
       "      <th>0</th>\n",
       "    </tr>\n",
       "    <tr>\n",
       "      <th>track_id</th>\n",
       "      <th>country</th>\n",
       "      <th>date</th>\n",
       "      <th></th>\n",
       "    </tr>\n",
       "  </thead>\n",
       "  <tbody>\n",
       "    <tr>\n",
       "      <th>159</th>\n",
       "      <th>UA</th>\n",
       "      <th>2019-01-23</th>\n",
       "      <td>13</td>\n",
       "    </tr>\n",
       "    <tr>\n",
       "      <th>257</th>\n",
       "      <th>RU</th>\n",
       "      <th>2010-12-06</th>\n",
       "      <td>28</td>\n",
       "    </tr>\n",
       "    <tr>\n",
       "      <th>338</th>\n",
       "      <th>RU</th>\n",
       "      <th>2016-03-20</th>\n",
       "      <td>14</td>\n",
       "    </tr>\n",
       "    <tr>\n",
       "      <th rowspan=\"2\" valign=\"top\">345</th>\n",
       "      <th rowspan=\"2\" valign=\"top\">AU</th>\n",
       "      <th>2013-10-25</th>\n",
       "      <td>12</td>\n",
       "    </tr>\n",
       "    <tr>\n",
       "      <th>2015-02-06</th>\n",
       "      <td>14</td>\n",
       "    </tr>\n",
       "  </tbody>\n",
       "</table>\n",
       "</div>"
      ],
      "text/plain": [
       "                              0\n",
       "track_id country date          \n",
       "159      UA      2019-01-23  13\n",
       "257      RU      2010-12-06  28\n",
       "338      RU      2016-03-20  14\n",
       "345      AU      2013-10-25  12\n",
       "                 2015-02-06  14"
      ]
     },
     "execution_count": 25,
     "metadata": {},
     "output_type": "execute_result"
    }
   ],
   "source": [
    "sum_df.head()"
   ]
  },
  {
   "cell_type": "code",
   "execution_count": 29,
   "id": "35536501",
   "metadata": {},
   "outputs": [],
   "source": [
    "sum_df= sum_df.reset_index()\n"
   ]
  },
  {
   "cell_type": "code",
   "execution_count": 30,
   "id": "10cc5cc1",
   "metadata": {},
   "outputs": [
    {
     "data": {
      "text/html": [
       "<div>\n",
       "<style scoped>\n",
       "    .dataframe tbody tr th:only-of-type {\n",
       "        vertical-align: middle;\n",
       "    }\n",
       "\n",
       "    .dataframe tbody tr th {\n",
       "        vertical-align: top;\n",
       "    }\n",
       "\n",
       "    .dataframe thead th {\n",
       "        text-align: right;\n",
       "    }\n",
       "</style>\n",
       "<table border=\"1\" class=\"dataframe\">\n",
       "  <thead>\n",
       "    <tr style=\"text-align: right;\">\n",
       "      <th></th>\n",
       "      <th>track_id</th>\n",
       "      <th>country</th>\n",
       "      <th>date</th>\n",
       "      <th>0</th>\n",
       "    </tr>\n",
       "  </thead>\n",
       "  <tbody>\n",
       "    <tr>\n",
       "      <th>0</th>\n",
       "      <td>159</td>\n",
       "      <td>UA</td>\n",
       "      <td>2019-01-23</td>\n",
       "      <td>13</td>\n",
       "    </tr>\n",
       "    <tr>\n",
       "      <th>1</th>\n",
       "      <td>257</td>\n",
       "      <td>RU</td>\n",
       "      <td>2010-12-06</td>\n",
       "      <td>28</td>\n",
       "    </tr>\n",
       "    <tr>\n",
       "      <th>2</th>\n",
       "      <td>338</td>\n",
       "      <td>RU</td>\n",
       "      <td>2016-03-20</td>\n",
       "      <td>14</td>\n",
       "    </tr>\n",
       "    <tr>\n",
       "      <th>3</th>\n",
       "      <td>345</td>\n",
       "      <td>AU</td>\n",
       "      <td>2013-10-25</td>\n",
       "      <td>12</td>\n",
       "    </tr>\n",
       "    <tr>\n",
       "      <th>4</th>\n",
       "      <td>345</td>\n",
       "      <td>AU</td>\n",
       "      <td>2015-02-06</td>\n",
       "      <td>14</td>\n",
       "    </tr>\n",
       "    <tr>\n",
       "      <th>...</th>\n",
       "      <td>...</td>\n",
       "      <td>...</td>\n",
       "      <td>...</td>\n",
       "      <td>...</td>\n",
       "    </tr>\n",
       "    <tr>\n",
       "      <th>3020389</th>\n",
       "      <td>50811861</td>\n",
       "      <td>RU</td>\n",
       "      <td>2014-01-29</td>\n",
       "      <td>15</td>\n",
       "    </tr>\n",
       "    <tr>\n",
       "      <th>3020390</th>\n",
       "      <td>50811908</td>\n",
       "      <td>US</td>\n",
       "      <td>2014-06-12</td>\n",
       "      <td>18</td>\n",
       "    </tr>\n",
       "    <tr>\n",
       "      <th>3020391</th>\n",
       "      <td>50812183</td>\n",
       "      <td>JP</td>\n",
       "      <td>2014-08-23</td>\n",
       "      <td>18</td>\n",
       "    </tr>\n",
       "    <tr>\n",
       "      <th>3020392</th>\n",
       "      <td>50812245</td>\n",
       "      <td>CA</td>\n",
       "      <td>2013-12-09</td>\n",
       "      <td>14</td>\n",
       "    </tr>\n",
       "    <tr>\n",
       "      <th>3020393</th>\n",
       "      <td>50812245</td>\n",
       "      <td>CA</td>\n",
       "      <td>2014-09-23</td>\n",
       "      <td>12</td>\n",
       "    </tr>\n",
       "  </tbody>\n",
       "</table>\n",
       "<p>3020394 rows × 4 columns</p>\n",
       "</div>"
      ],
      "text/plain": [
       "         track_id country        date   0\n",
       "0             159      UA  2019-01-23  13\n",
       "1             257      RU  2010-12-06  28\n",
       "2             338      RU  2016-03-20  14\n",
       "3             345      AU  2013-10-25  12\n",
       "4             345      AU  2015-02-06  14\n",
       "...           ...     ...         ...  ..\n",
       "3020389  50811861      RU  2014-01-29  15\n",
       "3020390  50811908      US  2014-06-12  18\n",
       "3020391  50812183      JP  2014-08-23  18\n",
       "3020392  50812245      CA  2013-12-09  14\n",
       "3020393  50812245      CA  2014-09-23  12\n",
       "\n",
       "[3020394 rows x 4 columns]"
      ]
     },
     "execution_count": 30,
     "metadata": {},
     "output_type": "execute_result"
    }
   ],
   "source": [
    "sum_df"
   ]
  },
  {
   "cell_type": "code",
   "execution_count": 34,
   "id": "f604d570",
   "metadata": {},
   "outputs": [
    {
     "data": {
      "text/html": [
       "<div>\n",
       "<style scoped>\n",
       "    .dataframe tbody tr th:only-of-type {\n",
       "        vertical-align: middle;\n",
       "    }\n",
       "\n",
       "    .dataframe tbody tr th {\n",
       "        vertical-align: top;\n",
       "    }\n",
       "\n",
       "    .dataframe thead th {\n",
       "        text-align: right;\n",
       "    }\n",
       "</style>\n",
       "<table border=\"1\" class=\"dataframe\">\n",
       "  <thead>\n",
       "    <tr style=\"text-align: right;\">\n",
       "      <th></th>\n",
       "      <th>track_id</th>\n",
       "      <th>country</th>\n",
       "      <th>date</th>\n",
       "      <th>0</th>\n",
       "    </tr>\n",
       "  </thead>\n",
       "  <tbody>\n",
       "    <tr>\n",
       "      <th>3020391</th>\n",
       "      <td>50812183</td>\n",
       "      <td>JP</td>\n",
       "      <td>2014-08-23</td>\n",
       "      <td>18</td>\n",
       "    </tr>\n",
       "  </tbody>\n",
       "</table>\n",
       "</div>"
      ],
      "text/plain": [
       "         track_id country        date   0\n",
       "3020391  50812183      JP  2014-08-23  18"
      ]
     },
     "execution_count": 34,
     "metadata": {},
     "output_type": "execute_result"
    }
   ],
   "source": [
    "sum_df[sum_df['track_id']==50812183]"
   ]
  },
  {
   "cell_type": "code",
   "execution_count": 26,
   "id": "8d060a82",
   "metadata": {},
   "outputs": [
    {
     "name": "stdout",
     "output_type": "stream",
     "text": [
      "<class 'pandas.core.frame.DataFrame'>\n",
      "MultiIndex: 3020394 entries, (159, 'UA', '2019-01-23') to (50812245, 'CA', '2014-09-23')\n",
      "Data columns (total 1 columns):\n",
      " #   Column  Dtype\n",
      "---  ------  -----\n",
      " 0   0       int64\n",
      "dtypes: int64(1)\n",
      "memory usage: 85.5+ MB\n"
     ]
    }
   ],
   "source": [
    "sum_df.info()"
   ]
  },
  {
   "cell_type": "code",
   "execution_count": 27,
   "id": "9ca94bf9",
   "metadata": {},
   "outputs": [],
   "source": [
    "sum_df.to_csv(os.path.join('data', 'LMF-2b','n_listenings_per_country.csv'))"
   ]
  },
  {
   "cell_type": "code",
   "execution_count": 5,
   "id": "deb4875d",
   "metadata": {},
   "outputs": [
    {
     "data": {
      "text/html": [
       "<div>\n",
       "<style scoped>\n",
       "    .dataframe tbody tr th:only-of-type {\n",
       "        vertical-align: middle;\n",
       "    }\n",
       "\n",
       "    .dataframe tbody tr th {\n",
       "        vertical-align: top;\n",
       "    }\n",
       "\n",
       "    .dataframe thead th {\n",
       "        text-align: right;\n",
       "    }\n",
       "</style>\n",
       "<table border=\"1\" class=\"dataframe\">\n",
       "  <thead>\n",
       "    <tr style=\"text-align: right;\">\n",
       "      <th></th>\n",
       "      <th>track_id</th>\n",
       "      <th>country</th>\n",
       "      <th>date</th>\n",
       "      <th>0</th>\n",
       "    </tr>\n",
       "  </thead>\n",
       "  <tbody>\n",
       "    <tr>\n",
       "      <th>0</th>\n",
       "      <td>159</td>\n",
       "      <td>UA</td>\n",
       "      <td>2019-01-23</td>\n",
       "      <td>13</td>\n",
       "    </tr>\n",
       "    <tr>\n",
       "      <th>1</th>\n",
       "      <td>257</td>\n",
       "      <td>RU</td>\n",
       "      <td>2010-12-06</td>\n",
       "      <td>28</td>\n",
       "    </tr>\n",
       "    <tr>\n",
       "      <th>2</th>\n",
       "      <td>338</td>\n",
       "      <td>RU</td>\n",
       "      <td>2016-03-20</td>\n",
       "      <td>14</td>\n",
       "    </tr>\n",
       "    <tr>\n",
       "      <th>3</th>\n",
       "      <td>345</td>\n",
       "      <td>AU</td>\n",
       "      <td>2013-10-25</td>\n",
       "      <td>12</td>\n",
       "    </tr>\n",
       "    <tr>\n",
       "      <th>4</th>\n",
       "      <td>345</td>\n",
       "      <td>AU</td>\n",
       "      <td>2015-02-06</td>\n",
       "      <td>14</td>\n",
       "    </tr>\n",
       "    <tr>\n",
       "      <th>...</th>\n",
       "      <td>...</td>\n",
       "      <td>...</td>\n",
       "      <td>...</td>\n",
       "      <td>...</td>\n",
       "    </tr>\n",
       "    <tr>\n",
       "      <th>3020389</th>\n",
       "      <td>50811861</td>\n",
       "      <td>RU</td>\n",
       "      <td>2014-01-29</td>\n",
       "      <td>15</td>\n",
       "    </tr>\n",
       "    <tr>\n",
       "      <th>3020390</th>\n",
       "      <td>50811908</td>\n",
       "      <td>US</td>\n",
       "      <td>2014-06-12</td>\n",
       "      <td>18</td>\n",
       "    </tr>\n",
       "    <tr>\n",
       "      <th>3020391</th>\n",
       "      <td>50812183</td>\n",
       "      <td>JP</td>\n",
       "      <td>2014-08-23</td>\n",
       "      <td>18</td>\n",
       "    </tr>\n",
       "    <tr>\n",
       "      <th>3020392</th>\n",
       "      <td>50812245</td>\n",
       "      <td>CA</td>\n",
       "      <td>2013-12-09</td>\n",
       "      <td>14</td>\n",
       "    </tr>\n",
       "    <tr>\n",
       "      <th>3020393</th>\n",
       "      <td>50812245</td>\n",
       "      <td>CA</td>\n",
       "      <td>2014-09-23</td>\n",
       "      <td>12</td>\n",
       "    </tr>\n",
       "  </tbody>\n",
       "</table>\n",
       "<p>3020394 rows × 4 columns</p>\n",
       "</div>"
      ],
      "text/plain": [
       "         track_id country        date   0\n",
       "0             159      UA  2019-01-23  13\n",
       "1             257      RU  2010-12-06  28\n",
       "2             338      RU  2016-03-20  14\n",
       "3             345      AU  2013-10-25  12\n",
       "4             345      AU  2015-02-06  14\n",
       "...           ...     ...         ...  ..\n",
       "3020389  50811861      RU  2014-01-29  15\n",
       "3020390  50811908      US  2014-06-12  18\n",
       "3020391  50812183      JP  2014-08-23  18\n",
       "3020392  50812245      CA  2013-12-09  14\n",
       "3020393  50812245      CA  2014-09-23  12\n",
       "\n",
       "[3020394 rows x 4 columns]"
      ]
     },
     "execution_count": 5,
     "metadata": {},
     "output_type": "execute_result"
    }
   ],
   "source": []
  },
  {
   "cell_type": "code",
   "execution_count": 10,
   "id": "7c96f418",
   "metadata": {
    "scrolled": true
   },
   "outputs": [
    {
     "data": {
      "text/plain": [
       "track_id\n",
       "159         1\n",
       "257         1\n",
       "338         1\n",
       "345         1\n",
       "354         2\n",
       "           ..\n",
       "50811762    2\n",
       "50811861    1\n",
       "50811908    1\n",
       "50812183    1\n",
       "50812245    1\n",
       "Name: country, Length: 921802, dtype: int64"
      ]
     },
     "execution_count": 10,
     "metadata": {},
     "output_type": "execute_result"
    }
   ],
   "source": [
    "countries_per_song= lmf2b_df.groupby('track_id')['country'].nunique()\n",
    "countries_per_song"
   ]
  },
  {
   "cell_type": "code",
   "execution_count": 11,
   "id": "bda328e0",
   "metadata": {},
   "outputs": [
    {
     "data": {
      "text/plain": [
       "1     728825\n",
       "2      96814\n",
       "3      36757\n",
       "4      19108\n",
       "5      11372\n",
       "6       7547\n",
       "7       5065\n",
       "8       3609\n",
       "9       2553\n",
       "10      2105\n",
       "11      1646\n",
       "12      1175\n",
       "13       924\n",
       "14       724\n",
       "15       657\n",
       "16       488\n",
       "17       415\n",
       "18       300\n",
       "19       289\n",
       "20       237\n",
       "21       185\n",
       "22       154\n",
       "23       127\n",
       "24       107\n",
       "25        94\n",
       "26        85\n",
       "27        63\n",
       "30        57\n",
       "28        49\n",
       "29        47\n",
       "31        42\n",
       "33        28\n",
       "32        24\n",
       "34        21\n",
       "35        17\n",
       "37        14\n",
       "40        12\n",
       "36        11\n",
       "38        11\n",
       "39         8\n",
       "43         5\n",
       "49         5\n",
       "41         4\n",
       "46         4\n",
       "45         3\n",
       "48         3\n",
       "51         2\n",
       "55         2\n",
       "42         2\n",
       "50         2\n",
       "53         1\n",
       "44         1\n",
       "57         1\n",
       "59         1\n",
       "Name: country, dtype: int64"
      ]
     },
     "execution_count": 11,
     "metadata": {},
     "output_type": "execute_result"
    }
   ],
   "source": [
    "countries_per_song.value_counts()"
   ]
  },
  {
   "cell_type": "code",
   "execution_count": null,
   "id": "cc219b5c",
   "metadata": {},
   "outputs": [],
   "source": [
    "print(\"That's all folks!\")"
   ]
  }
 ],
 "metadata": {
  "kernelspec": {
   "display_name": "Python 3 (ipykernel)",
   "language": "python",
   "name": "python3"
  },
  "language_info": {
   "codemirror_mode": {
    "name": "ipython",
    "version": 3
   },
   "file_extension": ".py",
   "mimetype": "text/x-python",
   "name": "python",
   "nbconvert_exporter": "python",
   "pygments_lexer": "ipython3",
   "version": "3.8.10"
  }
 },
 "nbformat": 4,
 "nbformat_minor": 5
}
