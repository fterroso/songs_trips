{
 "cells": [
  {
   "cell_type": "code",
   "execution_count": 35,
   "id": "4e73bc93",
   "metadata": {},
   "outputs": [],
   "source": [
    "import pandas as pd\n",
    "import os\n",
    "import numpy as np\n",
    "\n",
    "from tqdm.notebook import tqdm\n",
    "\n",
    "import matplotlib.pyplot as plt"
   ]
  },
  {
   "cell_type": "code",
   "execution_count": 36,
   "id": "8b1a6405",
   "metadata": {},
   "outputs": [],
   "source": [
    "countries= ['Ecuador', 'Portugal', 'Panama', 'Italy', 'Germany', 'Finland',\n",
    "            'Estonia', 'Hungary', 'Spain', 'Peru', 'Slovakia', 'Ireland',\n",
    "            'Indonesia', 'Iceland', 'Brazil', 'Canada', 'Belgium', 'Uruguay',\n",
    "            'Costa Rica', 'Malaysia', 'Mexico', 'France', 'Argentina', 'Norway',\n",
    "            'Lithuania', 'Philippines', 'Taiwan', 'New Zealand', 'Turkey',\n",
    "            'United States of America', 'El Salvador', 'Chile', 'Japan', 'Honduras', 'Guatemala',\n",
    "            'Switzerland', 'Denmark', 'Bolivia (Plurinational State of)', 'Poland', 'Austria', 'Sweden',\n",
    "            'Czechia', 'Netherlands', 'Colombia', 'Singapore',\n",
    "            'Dominican Republic', 'Luxembourg', 'United Kingdom of Great Britain and Northern Ireland', 'Paraguay',\n",
    "            'Australia', 'Latvia', 'Greece', 'Hong Kong', 'Russian Federation',\n",
    "            'United Arab Emirates', 'Belarus', 'India', 'South Africa', 'Romania',\n",
    "            'Ukraine', 'Egypt', 'Nigeria', 'Korea, Republic of', 'Kazakhstan',\n",
    "            'Saudi Arabia', 'Nicaragua', 'Morocco', 'Israel', 'Bulgaria', 'Viet Nam']"
   ]
  },
  {
   "cell_type": "code",
   "execution_count": 37,
   "id": "1cdc47fe",
   "metadata": {},
   "outputs": [],
   "source": [
    "spotify_countries= ['Ecuador', 'Portugal', 'Panama', 'Italy', 'Germany', 'Finland',\n",
    "               'Estonia', 'Hungary', 'Spain', 'Peru', 'Slovakia', 'Ireland',\n",
    "               'Indonesia', 'Iceland', 'Brazil', 'Canada', 'Belgium', 'Uruguay',\n",
    "               'CostaRica', 'Malaysia', 'Mexico', 'France', 'Argentina', 'Norway',\n",
    "               'Lithuania', 'Philippines', 'Taiwan', 'NewZealand', 'Turkey',\n",
    "               'USA', 'ElSalvador', 'Chile', 'Japan', 'Honduras', 'Guatemala',\n",
    "               'Switzerland', 'Denmark', 'Bolivia', 'Poland', 'Austria', 'Sweden',\n",
    "               'CzechRepublic', 'Netherlands', 'Columbia', 'Singapore',\n",
    "               'DominicanRepublic', 'Luxemborg', 'UnitedKingdom', 'Paraguay',\n",
    "               'Australia', 'Latvia', 'Greece', 'HongKong', 'Russia',\n",
    "               'UnitedArabEmirates', 'Belarus', 'India', 'SouthAfrica', 'Romania',\n",
    "               'Ukraine', 'Egypt', 'Nigeria', 'Korea', 'Kazakhstan',\n",
    "               'SaudiArabia', 'Nicaragua', 'Marocco', 'Israel', 'Bulgaria',\n",
    "               'Vietnam']"
   ]
  },
  {
   "cell_type": "code",
   "execution_count": 38,
   "id": "8fe55296",
   "metadata": {
    "scrolled": true
   },
   "outputs": [
    {
     "data": {
      "text/plain": [
       "{'Ecuador': 'Ecuador',\n",
       " 'Portugal': 'Portugal',\n",
       " 'Panama': 'Panama',\n",
       " 'Italy': 'Italy',\n",
       " 'Germany': 'Germany',\n",
       " 'Finland': 'Finland',\n",
       " 'Estonia': 'Estonia',\n",
       " 'Hungary': 'Hungary',\n",
       " 'Spain': 'Spain',\n",
       " 'Peru': 'Peru',\n",
       " 'Slovakia': 'Slovakia',\n",
       " 'Ireland': 'Ireland',\n",
       " 'Indonesia': 'Indonesia',\n",
       " 'Iceland': 'Iceland',\n",
       " 'Brazil': 'Brazil',\n",
       " 'Canada': 'Canada',\n",
       " 'Belgium': 'Belgium',\n",
       " 'Uruguay': 'Uruguay',\n",
       " 'Costa Rica': 'CostaRica',\n",
       " 'Malaysia': 'Malaysia',\n",
       " 'Mexico': 'Mexico',\n",
       " 'France': 'France',\n",
       " 'Argentina': 'Argentina',\n",
       " 'Norway': 'Norway',\n",
       " 'Lithuania': 'Lithuania',\n",
       " 'Philippines': 'Philippines',\n",
       " 'Taiwan': 'Taiwan',\n",
       " 'New Zealand': 'NewZealand',\n",
       " 'Turkey': 'Turkey',\n",
       " 'United States of America': 'USA',\n",
       " 'El Salvador': 'ElSalvador',\n",
       " 'Chile': 'Chile',\n",
       " 'Japan': 'Japan',\n",
       " 'Honduras': 'Honduras',\n",
       " 'Guatemala': 'Guatemala',\n",
       " 'Switzerland': 'Switzerland',\n",
       " 'Denmark': 'Denmark',\n",
       " 'Bolivia (Plurinational State of)': 'Bolivia',\n",
       " 'Poland': 'Poland',\n",
       " 'Austria': 'Austria',\n",
       " 'Sweden': 'Sweden',\n",
       " 'Czechia': 'CzechRepublic',\n",
       " 'Netherlands': 'Netherlands',\n",
       " 'Colombia': 'Columbia',\n",
       " 'Singapore': 'Singapore',\n",
       " 'Dominican Republic': 'DominicanRepublic',\n",
       " 'Luxembourg': 'Luxemborg',\n",
       " 'United Kingdom of Great Britain and Northern Ireland': 'UnitedKingdom',\n",
       " 'Paraguay': 'Paraguay',\n",
       " 'Australia': 'Australia',\n",
       " 'Latvia': 'Latvia',\n",
       " 'Greece': 'Greece',\n",
       " 'Hong Kong': 'HongKong',\n",
       " 'Russian Federation': 'Russia',\n",
       " 'United Arab Emirates': 'UnitedArabEmirates',\n",
       " 'Belarus': 'Belarus',\n",
       " 'India': 'India',\n",
       " 'South Africa': 'SouthAfrica',\n",
       " 'Romania': 'Romania',\n",
       " 'Ukraine': 'Ukraine',\n",
       " 'Egypt': 'Egypt',\n",
       " 'Nigeria': 'Nigeria',\n",
       " 'Korea, Republic of': 'Korea',\n",
       " 'Kazakhstan': 'Kazakhstan',\n",
       " 'Saudi Arabia': 'SaudiArabia',\n",
       " 'Nicaragua': 'Nicaragua',\n",
       " 'Morocco': 'Marocco',\n",
       " 'Israel': 'Israel',\n",
       " 'Bulgaria': 'Bulgaria',\n",
       " 'Viet Nam': 'Vietnam'}"
      ]
     },
     "execution_count": 38,
     "metadata": {},
     "output_type": "execute_result"
    }
   ],
   "source": [
    "raw_to_spotify_country_name = {r:s for r,s in zip(countries, spotify_countries)}\n",
    "raw_to_spotify_country_name"
   ]
  },
  {
   "cell_type": "code",
   "execution_count": 39,
   "id": "c449882b",
   "metadata": {},
   "outputs": [],
   "source": [
    "country_alpha2_df = pd.read_csv(os.path.join('data', 'country_codes_alpha2.csv'))\n",
    "country_alpha2_df= country_alpha2_df['name alpha-2'.split()]"
   ]
  },
  {
   "cell_type": "code",
   "execution_count": 40,
   "id": "6c040108",
   "metadata": {},
   "outputs": [
    {
     "data": {
      "text/html": [
       "<div>\n",
       "<style scoped>\n",
       "    .dataframe tbody tr th:only-of-type {\n",
       "        vertical-align: middle;\n",
       "    }\n",
       "\n",
       "    .dataframe tbody tr th {\n",
       "        vertical-align: top;\n",
       "    }\n",
       "\n",
       "    .dataframe thead th {\n",
       "        text-align: right;\n",
       "    }\n",
       "</style>\n",
       "<table border=\"1\" class=\"dataframe\">\n",
       "  <thead>\n",
       "    <tr style=\"text-align: right;\">\n",
       "      <th></th>\n",
       "      <th>name</th>\n",
       "      <th>alpha-2</th>\n",
       "      <th>name_spotify</th>\n",
       "    </tr>\n",
       "  </thead>\n",
       "  <tbody>\n",
       "    <tr>\n",
       "      <th>233</th>\n",
       "      <td>United Arab Emirates</td>\n",
       "      <td>AE</td>\n",
       "      <td>UnitedArabEmirates</td>\n",
       "    </tr>\n",
       "    <tr>\n",
       "      <th>234</th>\n",
       "      <td>United Kingdom of Great Britain and Northern I...</td>\n",
       "      <td>GB</td>\n",
       "      <td>UnitedKingdom</td>\n",
       "    </tr>\n",
       "    <tr>\n",
       "      <th>235</th>\n",
       "      <td>United States of America</td>\n",
       "      <td>US</td>\n",
       "      <td>USA</td>\n",
       "    </tr>\n",
       "    <tr>\n",
       "      <th>237</th>\n",
       "      <td>Uruguay</td>\n",
       "      <td>UY</td>\n",
       "      <td>Uruguay</td>\n",
       "    </tr>\n",
       "    <tr>\n",
       "      <th>241</th>\n",
       "      <td>Viet Nam</td>\n",
       "      <td>VN</td>\n",
       "      <td>Vietnam</td>\n",
       "    </tr>\n",
       "  </tbody>\n",
       "</table>\n",
       "</div>"
      ],
      "text/plain": [
       "                                                  name alpha-2  \\\n",
       "233                               United Arab Emirates      AE   \n",
       "234  United Kingdom of Great Britain and Northern I...      GB   \n",
       "235                           United States of America      US   \n",
       "237                                            Uruguay      UY   \n",
       "241                                           Viet Nam      VN   \n",
       "\n",
       "           name_spotify  \n",
       "233  UnitedArabEmirates  \n",
       "234       UnitedKingdom  \n",
       "235                 USA  \n",
       "237             Uruguay  \n",
       "241             Vietnam  "
      ]
     },
     "execution_count": 40,
     "metadata": {},
     "output_type": "execute_result"
    }
   ],
   "source": [
    "target_country_alpha2= country_alpha2_df[country_alpha2_df['name'].isin(countries)].copy()\n",
    "target_country_alpha2['name_spotify']= target_country_alpha2['name'].apply(lambda c: raw_to_spotify_country_name[c])\n",
    "target_country_alpha2.tail()"
   ]
  },
  {
   "cell_type": "code",
   "execution_count": 41,
   "id": "8aa1e088",
   "metadata": {},
   "outputs": [
    {
     "name": "stdout",
     "output_type": "stream",
     "text": [
      "<class 'pandas.core.frame.DataFrame'>\n",
      "Int64Index: 69 entries, 10 to 241\n",
      "Data columns (total 3 columns):\n",
      " #   Column        Non-Null Count  Dtype \n",
      "---  ------        --------------  ----- \n",
      " 0   name          69 non-null     object\n",
      " 1   alpha-2       69 non-null     object\n",
      " 2   name_spotify  69 non-null     object\n",
      "dtypes: object(3)\n",
      "memory usage: 2.2+ KB\n"
     ]
    }
   ],
   "source": [
    "target_country_alpha2.info()"
   ]
  },
  {
   "cell_type": "code",
   "execution_count": 42,
   "id": "c99d8aaa",
   "metadata": {},
   "outputs": [
    {
     "data": {
      "text/html": [
       "<div>\n",
       "<style scoped>\n",
       "    .dataframe tbody tr th:only-of-type {\n",
       "        vertical-align: middle;\n",
       "    }\n",
       "\n",
       "    .dataframe tbody tr th {\n",
       "        vertical-align: top;\n",
       "    }\n",
       "\n",
       "    .dataframe thead th {\n",
       "        text-align: right;\n",
       "    }\n",
       "</style>\n",
       "<table border=\"1\" class=\"dataframe\">\n",
       "  <thead>\n",
       "    <tr style=\"text-align: right;\">\n",
       "      <th></th>\n",
       "      <th>song_id</th>\n",
       "      <th>Region_lfm</th>\n",
       "      <th>Date</th>\n",
       "      <th>Streams</th>\n",
       "    </tr>\n",
       "  </thead>\n",
       "  <tbody>\n",
       "    <tr>\n",
       "      <th>0</th>\n",
       "      <td>159</td>\n",
       "      <td>UA</td>\n",
       "      <td>2019-01-23</td>\n",
       "      <td>13</td>\n",
       "    </tr>\n",
       "    <tr>\n",
       "      <th>1</th>\n",
       "      <td>257</td>\n",
       "      <td>RU</td>\n",
       "      <td>2010-12-06</td>\n",
       "      <td>28</td>\n",
       "    </tr>\n",
       "    <tr>\n",
       "      <th>2</th>\n",
       "      <td>338</td>\n",
       "      <td>RU</td>\n",
       "      <td>2016-03-20</td>\n",
       "      <td>14</td>\n",
       "    </tr>\n",
       "    <tr>\n",
       "      <th>3</th>\n",
       "      <td>345</td>\n",
       "      <td>AU</td>\n",
       "      <td>2013-10-25</td>\n",
       "      <td>12</td>\n",
       "    </tr>\n",
       "    <tr>\n",
       "      <th>4</th>\n",
       "      <td>345</td>\n",
       "      <td>AU</td>\n",
       "      <td>2015-02-06</td>\n",
       "      <td>14</td>\n",
       "    </tr>\n",
       "  </tbody>\n",
       "</table>\n",
       "</div>"
      ],
      "text/plain": [
       "   song_id Region_lfm       Date  Streams\n",
       "0      159         UA 2019-01-23       13\n",
       "1      257         RU 2010-12-06       28\n",
       "2      338         RU 2016-03-20       14\n",
       "3      345         AU 2013-10-25       12\n",
       "4      345         AU 2015-02-06       14"
      ]
     },
     "execution_count": 42,
     "metadata": {},
     "output_type": "execute_result"
    }
   ],
   "source": [
    "lmf2b_df= pd.read_csv(os.path.join('data', 'LMF-2b','n_listenings_per_country.csv'))\n",
    "target_lmf2b_df = lmf2b_df[lmf2b_df['country'].isin(target_country_alpha2['alpha-2'])]\n",
    "target_lmf2b_df= target_lmf2b_df.rename(columns={'track_id':'song_id', \n",
    "                                                 'country': 'Region_lfm', \n",
    "                                                 '0':'Streams', 'date':'Date'})\n",
    "target_lmf2b_df['Date']= pd.to_datetime(target_lmf2b_df['Date'])\n",
    "target_lmf2b_df.head()"
   ]
  },
  {
   "cell_type": "markdown",
   "id": "2b96908e",
   "metadata": {},
   "source": [
    "Total number of countries in the dataset"
   ]
  },
  {
   "cell_type": "code",
   "execution_count": 45,
   "id": "25a7be29",
   "metadata": {},
   "outputs": [
    {
     "data": {
      "text/plain": [
       "196"
      ]
     },
     "execution_count": 45,
     "metadata": {},
     "output_type": "execute_result"
    }
   ],
   "source": [
    "lmf2b_df['country'].nunique()"
   ]
  },
  {
   "cell_type": "markdown",
   "id": "c4930fd2",
   "metadata": {},
   "source": [
    "Change the names of the countries to the Spotify acronyms"
   ]
  },
  {
   "cell_type": "code",
   "execution_count": 9,
   "id": "9d6a9944",
   "metadata": {},
   "outputs": [],
   "source": [
    "target_country_alpha2= target_country_alpha2.set_index('alpha-2',drop=True)\n",
    "target_lmf2b_df['Region']=target_lmf2b_df['Region_lfm'].apply(lambda c: target_country_alpha2.loc[c,'name_spotify'])\n",
    "target_lmf2b_df= target_lmf2b_df.drop(columns='Region_lfm')"
   ]
  },
  {
   "cell_type": "code",
   "execution_count": 10,
   "id": "66f0b26e",
   "metadata": {},
   "outputs": [
    {
     "data": {
      "text/html": [
       "<div>\n",
       "<style scoped>\n",
       "    .dataframe tbody tr th:only-of-type {\n",
       "        vertical-align: middle;\n",
       "    }\n",
       "\n",
       "    .dataframe tbody tr th {\n",
       "        vertical-align: top;\n",
       "    }\n",
       "\n",
       "    .dataframe thead th {\n",
       "        text-align: right;\n",
       "    }\n",
       "</style>\n",
       "<table border=\"1\" class=\"dataframe\">\n",
       "  <thead>\n",
       "    <tr style=\"text-align: right;\">\n",
       "      <th></th>\n",
       "      <th>song_id</th>\n",
       "      <th>Date</th>\n",
       "      <th>Streams</th>\n",
       "      <th>Region</th>\n",
       "    </tr>\n",
       "  </thead>\n",
       "  <tbody>\n",
       "    <tr>\n",
       "      <th>0</th>\n",
       "      <td>159</td>\n",
       "      <td>2019-01-23</td>\n",
       "      <td>13</td>\n",
       "      <td>Ukraine</td>\n",
       "    </tr>\n",
       "    <tr>\n",
       "      <th>1</th>\n",
       "      <td>257</td>\n",
       "      <td>2010-12-06</td>\n",
       "      <td>28</td>\n",
       "      <td>Russia</td>\n",
       "    </tr>\n",
       "    <tr>\n",
       "      <th>2</th>\n",
       "      <td>338</td>\n",
       "      <td>2016-03-20</td>\n",
       "      <td>14</td>\n",
       "      <td>Russia</td>\n",
       "    </tr>\n",
       "    <tr>\n",
       "      <th>3</th>\n",
       "      <td>345</td>\n",
       "      <td>2013-10-25</td>\n",
       "      <td>12</td>\n",
       "      <td>Australia</td>\n",
       "    </tr>\n",
       "    <tr>\n",
       "      <th>4</th>\n",
       "      <td>345</td>\n",
       "      <td>2015-02-06</td>\n",
       "      <td>14</td>\n",
       "      <td>Australia</td>\n",
       "    </tr>\n",
       "  </tbody>\n",
       "</table>\n",
       "</div>"
      ],
      "text/plain": [
       "   song_id       Date  Streams     Region\n",
       "0      159 2019-01-23       13    Ukraine\n",
       "1      257 2010-12-06       28     Russia\n",
       "2      338 2016-03-20       14     Russia\n",
       "3      345 2013-10-25       12  Australia\n",
       "4      345 2015-02-06       14  Australia"
      ]
     },
     "execution_count": 10,
     "metadata": {},
     "output_type": "execute_result"
    }
   ],
   "source": [
    "target_lmf2b_df.head()"
   ]
  },
  {
   "cell_type": "code",
   "execution_count": 11,
   "id": "313cf40f",
   "metadata": {},
   "outputs": [
    {
     "name": "stdout",
     "output_type": "stream",
     "text": [
      "The number of total songs is 850998\n"
     ]
    }
   ],
   "source": [
    "n_total_songs= target_lmf2b_df['song_id'].nunique()\n",
    "print(f'The number of total songs is {n_total_songs}')"
   ]
  },
  {
   "cell_type": "markdown",
   "id": "d378e4ca",
   "metadata": {},
   "source": [
    "### We remove songs in only one country"
   ]
  },
  {
   "cell_type": "code",
   "execution_count": 12,
   "id": "26bab1b8",
   "metadata": {},
   "outputs": [
    {
     "data": {
      "text/plain": [
       "song_id\n",
       "159         1\n",
       "257         1\n",
       "338         1\n",
       "345         1\n",
       "354         1\n",
       "           ..\n",
       "50811762    1\n",
       "50811861    1\n",
       "50811908    1\n",
       "50812183    1\n",
       "50812245    1\n",
       "Name: Region, Length: 850998, dtype: int64"
      ]
     },
     "execution_count": 12,
     "metadata": {},
     "output_type": "execute_result"
    }
   ],
   "source": [
    "countries_per_song= target_lmf2b_df.groupby('song_id')['Region'].nunique()\n",
    "countries_per_song"
   ]
  },
  {
   "cell_type": "code",
   "execution_count": 13,
   "id": "431d8f12",
   "metadata": {},
   "outputs": [],
   "source": [
    "traveller_songs= countries_per_song[countries_per_song>1].index.tolist()"
   ]
  },
  {
   "cell_type": "code",
   "execution_count": 14,
   "id": "ea588097",
   "metadata": {},
   "outputs": [],
   "source": [
    "target_lmf2b_df= target_lmf2b_df[target_lmf2b_df['song_id'].isin(traveller_songs)]"
   ]
  },
  {
   "cell_type": "code",
   "execution_count": 15,
   "id": "cad06523",
   "metadata": {},
   "outputs": [
    {
     "data": {
      "text/plain": [
       "(Timestamp('2005-02-18 00:00:00'), Timestamp('2020-03-20 00:00:00'))"
      ]
     },
     "execution_count": 15,
     "metadata": {},
     "output_type": "execute_result"
    }
   ],
   "source": [
    "target_lmf2b_df['Date'].min(), target_lmf2b_df['Date'].max()"
   ]
  },
  {
   "cell_type": "code",
   "execution_count": 16,
   "id": "ae3ff2e4",
   "metadata": {},
   "outputs": [
    {
     "data": {
      "text/plain": [
       "array(['Belarus', 'Russia', 'Brazil', 'Germany', 'Finland', 'Norway',\n",
       "       'USA', 'Turkey', 'Ukraine', 'Australia', 'Sweden', 'Poland',\n",
       "       'Belgium', 'Bulgaria', 'Chile', 'Egypt', 'Italy', 'Japan',\n",
       "       'Kazakhstan', 'Lithuania', 'Latvia', 'Netherlands', 'Romania',\n",
       "       'Slovakia', 'Canada', 'Indonesia', 'Marocco', 'Spain',\n",
       "       'Switzerland', 'HongKong', 'France', 'Iceland', 'Estonia',\n",
       "       'NewZealand', 'CzechRepublic', 'Denmark', 'Argentina', 'Hungary',\n",
       "       'Austria', 'Malaysia', 'Portugal', 'Columbia', 'Greece', 'Mexico',\n",
       "       'Vietnam', 'Ecuador', 'Philippines', 'Ireland', 'Uruguay', 'Peru',\n",
       "       'CostaRica', 'Singapore', 'India', 'Guatemala', 'ElSalvador',\n",
       "       'SouthAfrica', 'Luxemborg', 'SaudiArabia', 'Korea', 'Bolivia',\n",
       "       'Honduras', 'Paraguay', 'Israel', 'Nicaragua', 'DominicanRepublic',\n",
       "       'UnitedArabEmirates', 'Panama'], dtype=object)"
      ]
     },
     "execution_count": 16,
     "metadata": {},
     "output_type": "execute_result"
    }
   ],
   "source": [
    "target_lmf2b_df['Region'].unique()"
   ]
  },
  {
   "cell_type": "code",
   "execution_count": 17,
   "id": "b42907ed",
   "metadata": {},
   "outputs": [],
   "source": [
    "def generate_songs_timeseries_fn(clean_ranking_df_):\n",
    "    num_countries_lst = []\n",
    "    total_countries_per_song = {}\n",
    "    songs_ids = clean_ranking_df_['song_id'].unique()\n",
    "    \n",
    "    \n",
    "    for song_id in tqdm(clean_ranking_df_['song_id'].unique()):\n",
    "        song_df =clean_ranking_df_[clean_ranking_df_['song_id']==song_id]\n",
    "        song_dates = song_df['Date'].unique()\n",
    "        song_dates.sort()\n",
    "        num_day = 1\n",
    "        for d in song_dates:\n",
    "            song_date_df = song_df[song_df['Date']==d]\n",
    "            \n",
    "            current_countries = set(song_date_df['Region'].unique())\n",
    "            total_countries =total_countries_per_song.get(song_id,set())\n",
    "            \n",
    "            in_countries = current_countries - total_countries\n",
    "            out_countries = total_countries- current_countries\n",
    "\n",
    "\n",
    "            total_countries=total_countries.union(current_countries)\n",
    "            total_countries_per_song[song_id]= total_countries\n",
    "\n",
    "\n",
    "            num_countries_lst.append((song_id,num_day,len(total_countries), len(current_countries), len(in_countries), len(out_countries)))\n",
    "            \n",
    "            #print(d, num_countries)\n",
    "            #num_countries_lst.append((song_id,num_day,num_countries))\n",
    "            num_day +=1\n",
    "    num_countries_df_ = pd.DataFrame.from_records(num_countries_lst, columns='song_id num_day total_countries current_countries inc dec'.split())\n",
    "    num_countries_df_.to_csv(os.path.join('data', 'raw_songs_timeseries_lfm.csv'))\n",
    "    return num_countries_df_"
   ]
  },
  {
   "cell_type": "code",
   "execution_count": 18,
   "id": "47611f9e",
   "metadata": {},
   "outputs": [
    {
     "data": {
      "application/vnd.jupyter.widget-view+json": {
       "model_id": "3d6c51d295d64667a2a7348cd8f4baa5",
       "version_major": 2,
       "version_minor": 0
      },
      "text/plain": [
       "  0%|          | 0/171502 [00:00<?, ?it/s]"
      ]
     },
     "metadata": {},
     "output_type": "display_data"
    }
   ],
   "source": [
    "songs_ts =generate_songs_timeseries_fn(target_lmf2b_df)"
   ]
  },
  {
   "cell_type": "code",
   "execution_count": 19,
   "id": "2768b988",
   "metadata": {},
   "outputs": [
    {
     "data": {
      "text/plain": [
       "(-0.018000000000000002, 3.4]    1483129\n",
       "(3.4, 6.8]                          277\n",
       "(6.8, 10.2]                          30\n",
       "(10.2, 13.6]                          6\n",
       "(13.6, 17.0]                          3\n",
       "Name: inc, dtype: int64"
      ]
     },
     "execution_count": 19,
     "metadata": {},
     "output_type": "execute_result"
    }
   ],
   "source": [
    "songs_ts['inc'].value_counts(bins=5)"
   ]
  },
  {
   "cell_type": "markdown",
   "id": "6752af3d",
   "metadata": {},
   "source": [
    "### Remove songs that propagates to more than 10 countries in a single day"
   ]
  },
  {
   "cell_type": "code",
   "execution_count": 20,
   "id": "f86d3fc0",
   "metadata": {},
   "outputs": [
    {
     "data": {
      "text/plain": [
       "array([12261938, 16466500, 18138539, 18551625, 24623773, 30823152,\n",
       "       44463635, 45393854, 47837664])"
      ]
     },
     "execution_count": 20,
     "metadata": {},
     "output_type": "execute_result"
    }
   ],
   "source": [
    "songs_to_remove= songs_ts[songs_ts['inc']>10]['song_id'].unique()\n",
    "songs_to_remove"
   ]
  },
  {
   "cell_type": "markdown",
   "id": "8ae6cb5e",
   "metadata": {},
   "source": [
    "### Enrich the dataset with new features and save for further processing"
   ]
  },
  {
   "cell_type": "code",
   "execution_count": 21,
   "id": "d9a9b9aa",
   "metadata": {},
   "outputs": [],
   "source": [
    "import datetime\n",
    "initial_date= datetime.datetime(2005, 2, 18)\n",
    "def get_day_of_study_fn(d):\n",
    "    return (d-initial_date).days"
   ]
  },
  {
   "cell_type": "code",
   "execution_count": 22,
   "id": "f6e28758",
   "metadata": {},
   "outputs": [
    {
     "name": "stderr",
     "output_type": "stream",
     "text": [
      "/tmp/ipykernel_3820507/1254436448.py:4: SettingWithCopyWarning: \n",
      "A value is trying to be set on a copy of a slice from a DataFrame.\n",
      "Try using .loc[row_indexer,col_indexer] = value instead\n",
      "\n",
      "See the caveats in the documentation: https://pandas.pydata.org/pandas-docs/stable/user_guide/indexing.html#returning-a-view-versus-a-copy\n",
      "  clean_lmf2b_df['release_date']=clean_lmf2b_df.groupby('song_id')['Date'].transform('min')\n",
      "/tmp/ipykernel_3820507/1254436448.py:5: SettingWithCopyWarning: \n",
      "A value is trying to be set on a copy of a slice from a DataFrame.\n",
      "Try using .loc[row_indexer,col_indexer] = value instead\n",
      "\n",
      "See the caveats in the documentation: https://pandas.pydata.org/pandas-docs/stable/user_guide/indexing.html#returning-a-view-versus-a-copy\n",
      "  clean_lmf2b_df['day_of_study'] = clean_lmf2b_df['Date'].apply(get_day_of_study_fn)\n"
     ]
    }
   ],
   "source": [
    "songs_clean_ts= songs_ts[~songs_ts['song_id'].isin(songs_to_remove)]\n",
    "clean_lmf2b_df= target_lmf2b_df[~target_lmf2b_df['song_id'].isin(songs_to_remove)]\n",
    "\n",
    "clean_lmf2b_df['release_date']=clean_lmf2b_df.groupby('song_id')['Date'].transform('min')\n",
    "clean_lmf2b_df['day_of_study'] = clean_lmf2b_df['Date'].apply(get_day_of_study_fn)"
   ]
  },
  {
   "cell_type": "code",
   "execution_count": 23,
   "id": "5a8d64d2",
   "metadata": {},
   "outputs": [
    {
     "data": {
      "text/html": [
       "<div>\n",
       "<style scoped>\n",
       "    .dataframe tbody tr th:only-of-type {\n",
       "        vertical-align: middle;\n",
       "    }\n",
       "\n",
       "    .dataframe tbody tr th {\n",
       "        vertical-align: top;\n",
       "    }\n",
       "\n",
       "    .dataframe thead th {\n",
       "        text-align: right;\n",
       "    }\n",
       "</style>\n",
       "<table border=\"1\" class=\"dataframe\">\n",
       "  <thead>\n",
       "    <tr style=\"text-align: right;\">\n",
       "      <th></th>\n",
       "      <th>song_id</th>\n",
       "      <th>Date</th>\n",
       "      <th>Streams</th>\n",
       "      <th>Region</th>\n",
       "      <th>release_date</th>\n",
       "      <th>day_of_study</th>\n",
       "    </tr>\n",
       "  </thead>\n",
       "  <tbody>\n",
       "    <tr>\n",
       "      <th>18</th>\n",
       "      <td>991</td>\n",
       "      <td>2016-12-22</td>\n",
       "      <td>11</td>\n",
       "      <td>Belarus</td>\n",
       "      <td>2016-12-22</td>\n",
       "      <td>4325</td>\n",
       "    </tr>\n",
       "    <tr>\n",
       "      <th>19</th>\n",
       "      <td>991</td>\n",
       "      <td>2017-01-23</td>\n",
       "      <td>22</td>\n",
       "      <td>Belarus</td>\n",
       "      <td>2016-12-22</td>\n",
       "      <td>4357</td>\n",
       "    </tr>\n",
       "    <tr>\n",
       "      <th>20</th>\n",
       "      <td>991</td>\n",
       "      <td>2017-01-24</td>\n",
       "      <td>27</td>\n",
       "      <td>Belarus</td>\n",
       "      <td>2016-12-22</td>\n",
       "      <td>4358</td>\n",
       "    </tr>\n",
       "    <tr>\n",
       "      <th>21</th>\n",
       "      <td>991</td>\n",
       "      <td>2016-12-29</td>\n",
       "      <td>11</td>\n",
       "      <td>Russia</td>\n",
       "      <td>2016-12-22</td>\n",
       "      <td>4332</td>\n",
       "    </tr>\n",
       "    <tr>\n",
       "      <th>86</th>\n",
       "      <td>4774</td>\n",
       "      <td>2012-08-22</td>\n",
       "      <td>11</td>\n",
       "      <td>Brazil</td>\n",
       "      <td>2012-06-13</td>\n",
       "      <td>2742</td>\n",
       "    </tr>\n",
       "  </tbody>\n",
       "</table>\n",
       "</div>"
      ],
      "text/plain": [
       "    song_id       Date  Streams   Region release_date  day_of_study\n",
       "18      991 2016-12-22       11  Belarus   2016-12-22          4325\n",
       "19      991 2017-01-23       22  Belarus   2016-12-22          4357\n",
       "20      991 2017-01-24       27  Belarus   2016-12-22          4358\n",
       "21      991 2016-12-29       11   Russia   2016-12-22          4332\n",
       "86     4774 2012-08-22       11   Brazil   2012-06-13          2742"
      ]
     },
     "execution_count": 23,
     "metadata": {},
     "output_type": "execute_result"
    }
   ],
   "source": [
    "clean_lmf2b_df.head()"
   ]
  },
  {
   "cell_type": "code",
   "execution_count": 24,
   "id": "1c75cbf5",
   "metadata": {},
   "outputs": [
    {
     "name": "stderr",
     "output_type": "stream",
     "text": [
      "/tmp/ipykernel_3820507/2896674645.py:1: SettingWithCopyWarning: \n",
      "A value is trying to be set on a copy of a slice from a DataFrame.\n",
      "Try using .loc[row_indexer,col_indexer] = value instead\n",
      "\n",
      "See the caveats in the documentation: https://pandas.pydata.org/pandas-docs/stable/user_guide/indexing.html#returning-a-view-versus-a-copy\n",
      "  clean_lmf2b_df['Position']=clean_lmf2b_df.groupby('Region Date'.split())['Streams'].rank(method='min')\n"
     ]
    }
   ],
   "source": [
    "clean_lmf2b_df['Position']=clean_lmf2b_df.groupby('Region Date'.split())['Streams'].rank(method='min')"
   ]
  },
  {
   "cell_type": "code",
   "execution_count": 25,
   "id": "1dfa79ee",
   "metadata": {
    "scrolled": true
   },
   "outputs": [
    {
     "data": {
      "text/html": [
       "<div>\n",
       "<style scoped>\n",
       "    .dataframe tbody tr th:only-of-type {\n",
       "        vertical-align: middle;\n",
       "    }\n",
       "\n",
       "    .dataframe tbody tr th {\n",
       "        vertical-align: top;\n",
       "    }\n",
       "\n",
       "    .dataframe thead th {\n",
       "        text-align: right;\n",
       "    }\n",
       "</style>\n",
       "<table border=\"1\" class=\"dataframe\">\n",
       "  <thead>\n",
       "    <tr style=\"text-align: right;\">\n",
       "      <th></th>\n",
       "      <th>song_id</th>\n",
       "      <th>Date</th>\n",
       "      <th>Streams</th>\n",
       "      <th>Region</th>\n",
       "      <th>release_date</th>\n",
       "      <th>day_of_study</th>\n",
       "      <th>Position</th>\n",
       "    </tr>\n",
       "  </thead>\n",
       "  <tbody>\n",
       "    <tr>\n",
       "      <th>18</th>\n",
       "      <td>991</td>\n",
       "      <td>2016-12-22</td>\n",
       "      <td>11</td>\n",
       "      <td>Belarus</td>\n",
       "      <td>2016-12-22</td>\n",
       "      <td>4325</td>\n",
       "      <td>1.0</td>\n",
       "    </tr>\n",
       "    <tr>\n",
       "      <th>65823</th>\n",
       "      <td>3308946</td>\n",
       "      <td>2016-12-22</td>\n",
       "      <td>11</td>\n",
       "      <td>Belarus</td>\n",
       "      <td>2016-03-06</td>\n",
       "      <td>4325</td>\n",
       "      <td>1.0</td>\n",
       "    </tr>\n",
       "    <tr>\n",
       "      <th>122216</th>\n",
       "      <td>4310797</td>\n",
       "      <td>2016-12-22</td>\n",
       "      <td>11</td>\n",
       "      <td>Belarus</td>\n",
       "      <td>2016-05-23</td>\n",
       "      <td>4325</td>\n",
       "      <td>1.0</td>\n",
       "    </tr>\n",
       "    <tr>\n",
       "      <th>661313</th>\n",
       "      <td>12691668</td>\n",
       "      <td>2016-12-22</td>\n",
       "      <td>11</td>\n",
       "      <td>Belarus</td>\n",
       "      <td>2016-05-23</td>\n",
       "      <td>4325</td>\n",
       "      <td>1.0</td>\n",
       "    </tr>\n",
       "    <tr>\n",
       "      <th>869460</th>\n",
       "      <td>15921294</td>\n",
       "      <td>2016-12-22</td>\n",
       "      <td>11</td>\n",
       "      <td>Belarus</td>\n",
       "      <td>2016-05-23</td>\n",
       "      <td>4325</td>\n",
       "      <td>1.0</td>\n",
       "    </tr>\n",
       "    <tr>\n",
       "      <th>938880</th>\n",
       "      <td>16998863</td>\n",
       "      <td>2016-12-22</td>\n",
       "      <td>11</td>\n",
       "      <td>Belarus</td>\n",
       "      <td>2016-04-11</td>\n",
       "      <td>4325</td>\n",
       "      <td>1.0</td>\n",
       "    </tr>\n",
       "    <tr>\n",
       "      <th>954642</th>\n",
       "      <td>17219098</td>\n",
       "      <td>2016-12-22</td>\n",
       "      <td>11</td>\n",
       "      <td>Belarus</td>\n",
       "      <td>2016-05-23</td>\n",
       "      <td>4325</td>\n",
       "      <td>1.0</td>\n",
       "    </tr>\n",
       "    <tr>\n",
       "      <th>1823922</th>\n",
       "      <td>30908690</td>\n",
       "      <td>2016-12-22</td>\n",
       "      <td>11</td>\n",
       "      <td>Belarus</td>\n",
       "      <td>2016-05-23</td>\n",
       "      <td>4325</td>\n",
       "      <td>1.0</td>\n",
       "    </tr>\n",
       "    <tr>\n",
       "      <th>2375794</th>\n",
       "      <td>39676265</td>\n",
       "      <td>2016-12-22</td>\n",
       "      <td>11</td>\n",
       "      <td>Belarus</td>\n",
       "      <td>2016-05-23</td>\n",
       "      <td>4325</td>\n",
       "      <td>1.0</td>\n",
       "    </tr>\n",
       "    <tr>\n",
       "      <th>2914259</th>\n",
       "      <td>48605468</td>\n",
       "      <td>2016-12-22</td>\n",
       "      <td>11</td>\n",
       "      <td>Belarus</td>\n",
       "      <td>2016-12-22</td>\n",
       "      <td>4325</td>\n",
       "      <td>1.0</td>\n",
       "    </tr>\n",
       "    <tr>\n",
       "      <th>2918610</th>\n",
       "      <td>48698476</td>\n",
       "      <td>2016-12-22</td>\n",
       "      <td>11</td>\n",
       "      <td>Belarus</td>\n",
       "      <td>2016-12-22</td>\n",
       "      <td>4325</td>\n",
       "      <td>1.0</td>\n",
       "    </tr>\n",
       "    <tr>\n",
       "      <th>335661</th>\n",
       "      <td>7527441</td>\n",
       "      <td>2016-12-22</td>\n",
       "      <td>15</td>\n",
       "      <td>Belarus</td>\n",
       "      <td>2016-12-22</td>\n",
       "      <td>4325</td>\n",
       "      <td>12.0</td>\n",
       "    </tr>\n",
       "    <tr>\n",
       "      <th>1521379</th>\n",
       "      <td>26180559</td>\n",
       "      <td>2016-12-22</td>\n",
       "      <td>22</td>\n",
       "      <td>Belarus</td>\n",
       "      <td>2016-05-23</td>\n",
       "      <td>4325</td>\n",
       "      <td>13.0</td>\n",
       "    </tr>\n",
       "    <tr>\n",
       "      <th>2503152</th>\n",
       "      <td>41333324</td>\n",
       "      <td>2016-12-22</td>\n",
       "      <td>22</td>\n",
       "      <td>Belarus</td>\n",
       "      <td>2016-12-22</td>\n",
       "      <td>4325</td>\n",
       "      <td>13.0</td>\n",
       "    </tr>\n",
       "    <tr>\n",
       "      <th>2242464</th>\n",
       "      <td>37471910</td>\n",
       "      <td>2016-12-22</td>\n",
       "      <td>26</td>\n",
       "      <td>Belarus</td>\n",
       "      <td>2010-08-07</td>\n",
       "      <td>4325</td>\n",
       "      <td>15.0</td>\n",
       "    </tr>\n",
       "    <tr>\n",
       "      <th>2116978</th>\n",
       "      <td>35651259</td>\n",
       "      <td>2016-12-22</td>\n",
       "      <td>44</td>\n",
       "      <td>Belarus</td>\n",
       "      <td>2013-05-23</td>\n",
       "      <td>4325</td>\n",
       "      <td>16.0</td>\n",
       "    </tr>\n",
       "  </tbody>\n",
       "</table>\n",
       "</div>"
      ],
      "text/plain": [
       "          song_id       Date  Streams   Region release_date  day_of_study  \\\n",
       "18            991 2016-12-22       11  Belarus   2016-12-22          4325   \n",
       "65823     3308946 2016-12-22       11  Belarus   2016-03-06          4325   \n",
       "122216    4310797 2016-12-22       11  Belarus   2016-05-23          4325   \n",
       "661313   12691668 2016-12-22       11  Belarus   2016-05-23          4325   \n",
       "869460   15921294 2016-12-22       11  Belarus   2016-05-23          4325   \n",
       "938880   16998863 2016-12-22       11  Belarus   2016-04-11          4325   \n",
       "954642   17219098 2016-12-22       11  Belarus   2016-05-23          4325   \n",
       "1823922  30908690 2016-12-22       11  Belarus   2016-05-23          4325   \n",
       "2375794  39676265 2016-12-22       11  Belarus   2016-05-23          4325   \n",
       "2914259  48605468 2016-12-22       11  Belarus   2016-12-22          4325   \n",
       "2918610  48698476 2016-12-22       11  Belarus   2016-12-22          4325   \n",
       "335661    7527441 2016-12-22       15  Belarus   2016-12-22          4325   \n",
       "1521379  26180559 2016-12-22       22  Belarus   2016-05-23          4325   \n",
       "2503152  41333324 2016-12-22       22  Belarus   2016-12-22          4325   \n",
       "2242464  37471910 2016-12-22       26  Belarus   2010-08-07          4325   \n",
       "2116978  35651259 2016-12-22       44  Belarus   2013-05-23          4325   \n",
       "\n",
       "         Position  \n",
       "18            1.0  \n",
       "65823         1.0  \n",
       "122216        1.0  \n",
       "661313        1.0  \n",
       "869460        1.0  \n",
       "938880        1.0  \n",
       "954642        1.0  \n",
       "1823922       1.0  \n",
       "2375794       1.0  \n",
       "2914259       1.0  \n",
       "2918610       1.0  \n",
       "335661       12.0  \n",
       "1521379      13.0  \n",
       "2503152      13.0  \n",
       "2242464      15.0  \n",
       "2116978      16.0  "
      ]
     },
     "execution_count": 25,
     "metadata": {},
     "output_type": "execute_result"
    }
   ],
   "source": [
    "clean_lmf2b_df[(clean_lmf2b_df['Date']=='2016-12-22') &\n",
    "              (clean_lmf2b_df['Region']=='Belarus')].sort_values('Streams')"
   ]
  },
  {
   "cell_type": "code",
   "execution_count": 26,
   "id": "609ccfa8",
   "metadata": {},
   "outputs": [
    {
     "name": "stdout",
     "output_type": "stream",
     "text": [
      "<class 'pandas.core.frame.DataFrame'>\n",
      "Int64Index: 1522605 entries, 18 to 3020060\n",
      "Data columns (total 7 columns):\n",
      " #   Column        Non-Null Count    Dtype         \n",
      "---  ------        --------------    -----         \n",
      " 0   song_id       1522605 non-null  int64         \n",
      " 1   Date          1522605 non-null  datetime64[ns]\n",
      " 2   Streams       1522605 non-null  int64         \n",
      " 3   Region        1522605 non-null  object        \n",
      " 4   release_date  1522605 non-null  datetime64[ns]\n",
      " 5   day_of_study  1522605 non-null  int64         \n",
      " 6   Position      1522605 non-null  float64       \n",
      "dtypes: datetime64[ns](2), float64(1), int64(3), object(1)\n",
      "memory usage: 92.9+ MB\n"
     ]
    }
   ],
   "source": [
    "clean_lmf2b_df.info()"
   ]
  },
  {
   "cell_type": "code",
   "execution_count": 27,
   "id": "f6a4c5ef",
   "metadata": {},
   "outputs": [],
   "source": [
    "clean_lmf2b_df.to_csv(os.path.join('data', 'LMF-2b','clean_ranking_2005_2020_lfm.csv'))"
   ]
  },
  {
   "cell_type": "markdown",
   "id": "29b0e24d",
   "metadata": {},
   "source": [
    "### Show some of the features of the dataset"
   ]
  },
  {
   "cell_type": "code",
   "execution_count": 28,
   "id": "fc18f642",
   "metadata": {},
   "outputs": [
    {
     "name": "stdout",
     "output_type": "stream",
     "text": [
      "Num of songs: 171493, (0.202 %)\n",
      "Max. total number of countries for a song: 47\n",
      "Min. total number of countries for a song: 1\n",
      "Max. current number of countries for a song: 17\n",
      "Max. increment for a song: 10\n",
      "Max. decrement for a song: 46\n"
     ]
    }
   ],
   "source": [
    "print(f'Num of songs: {songs_clean_ts.song_id.nunique()}, ({round(songs_clean_ts.song_id.nunique()/n_total_songs,3)} %)')\n",
    "print(f'Max. total number of countries for a song: {songs_clean_ts.total_countries.max()}')\n",
    "print(f'Min. total number of countries for a song: {songs_clean_ts.total_countries.min()}')\n",
    "print(f'Max. current number of countries for a song: {songs_clean_ts.current_countries.max()}')\n",
    "print(f'Max. increment for a song: {songs_clean_ts.inc.max()}')\n",
    "print(f'Max. decrement for a song: {songs_clean_ts.dec.max()}')"
   ]
  },
  {
   "cell_type": "code",
   "execution_count": 29,
   "id": "c266b377",
   "metadata": {},
   "outputs": [],
   "source": [
    "def plot_all_songs_evol_fn(songs_ts_, col_name):\n",
    "    ax= None\n",
    "    song_ids=songs_ts_['song_id'].sample(50)\n",
    "    for song_id in song_ids:\n",
    "        if ax is None:\n",
    "            ax=songs_ts_[songs_ts_['song_id']==song_id].plot(x='num_day',y=col_name, legend=False)\n",
    "        else:\n",
    "            songs_ts_[songs_ts_['song_id']==song_id].plot(ax=ax,x='num_day',y=col_name, legend=False)"
   ]
  },
  {
   "cell_type": "code",
   "execution_count": 30,
   "id": "e9e634a4",
   "metadata": {},
   "outputs": [
    {
     "data": {
      "image/png": "[encoded data removed]",
      "text/plain": [
       "<Figure size 432x288 with 1 Axes>"
      ]
     },
     "metadata": {
      "needs_background": "light"
     },
     "output_type": "display_data"
    }
   ],
   "source": [
    "plot_all_songs_evol_fn(songs_clean_ts, 'current_countries')"
   ]
  },
  {
   "cell_type": "code",
   "execution_count": 31,
   "id": "e6b08152",
   "metadata": {},
   "outputs": [
    {
     "data": {
      "text/html": [
       "<div>\n",
       "<style scoped>\n",
       "    .dataframe tbody tr th:only-of-type {\n",
       "        vertical-align: middle;\n",
       "    }\n",
       "\n",
       "    .dataframe tbody tr th {\n",
       "        vertical-align: top;\n",
       "    }\n",
       "\n",
       "    .dataframe thead th {\n",
       "        text-align: right;\n",
       "    }\n",
       "</style>\n",
       "<table border=\"1\" class=\"dataframe\">\n",
       "  <thead>\n",
       "    <tr style=\"text-align: right;\">\n",
       "      <th></th>\n",
       "      <th>song_id</th>\n",
       "      <th>total_countries</th>\n",
       "      <th>num_day</th>\n",
       "    </tr>\n",
       "  </thead>\n",
       "  <tbody>\n",
       "    <tr>\n",
       "      <th>0</th>\n",
       "      <td>991</td>\n",
       "      <td>1</td>\n",
       "      <td>1</td>\n",
       "    </tr>\n",
       "    <tr>\n",
       "      <th>1</th>\n",
       "      <td>991</td>\n",
       "      <td>2</td>\n",
       "      <td>2</td>\n",
       "    </tr>\n",
       "    <tr>\n",
       "      <th>2</th>\n",
       "      <td>4774</td>\n",
       "      <td>1</td>\n",
       "      <td>1</td>\n",
       "    </tr>\n",
       "    <tr>\n",
       "      <th>3</th>\n",
       "      <td>4774</td>\n",
       "      <td>2</td>\n",
       "      <td>2</td>\n",
       "    </tr>\n",
       "    <tr>\n",
       "      <th>4</th>\n",
       "      <td>4774</td>\n",
       "      <td>3</td>\n",
       "      <td>4</td>\n",
       "    </tr>\n",
       "  </tbody>\n",
       "</table>\n",
       "</div>"
      ],
      "text/plain": [
       "   song_id  total_countries  num_day\n",
       "0      991                1        1\n",
       "1      991                2        2\n",
       "2     4774                1        1\n",
       "3     4774                2        2\n",
       "4     4774                3        4"
      ]
     },
     "execution_count": 31,
     "metadata": {},
     "output_type": "execute_result"
    }
   ],
   "source": [
    "min_day_df = songs_clean_ts.groupby('song_id total_countries'.split()).agg({'num_day':min})\n",
    "min_day_df = min_day_df.reset_index()\n",
    "min_day_df.head()"
   ]
  },
  {
   "cell_type": "markdown",
   "id": "23cff66b",
   "metadata": {},
   "source": [
    "### Plot propagation evolution"
   ]
  },
  {
   "cell_type": "code",
   "execution_count": 32,
   "id": "a2d44d98",
   "metadata": {},
   "outputs": [],
   "source": [
    "total_days_range = min_day_df['num_day'].unique()\n",
    "\n",
    "dict_={}\n",
    "for d in total_days_range:\n",
    "    days_= min_day_df[min_day_df['num_day']==d]['total_countries'].values\n",
    "    dict_[d]= days_\n",
    "    \n",
    "days_df= pd.DataFrame.from_dict(dict_,orient='index').sort_index().T"
   ]
  },
  {
   "cell_type": "code",
   "execution_count": 33,
   "id": "1c3271e1",
   "metadata": {},
   "outputs": [
    {
     "data": {
      "image/png": "[encoded data removed]",
      "text/plain": [
       "<Figure size 1080x360 with 1 Axes>"
      ]
     },
     "metadata": {
      "needs_background": "light"
     },
     "output_type": "display_data"
    }
   ],
   "source": [
    "days_to_show= 31\n",
    "countries_to_show=40\n",
    "ax=days_df[np.arange(1,days_to_show)].boxplot(figsize=(15,5), grid=True, showfliers=False);\n",
    "days_df[np.arange(1,days_to_show)].median(axis=0).plot(ax=ax, color='red', grid=True);\n",
    "ax.set_xlabel('Number of days', fontsize=14)\n",
    "ax.set_ylabel('Number of total countries', fontsize=14)\n",
    "ax.set_yticks(np.arange(0,countries_to_show+1,5))\n",
    "plt.tight_layout()\n",
    "plt.savefig(os.path.join('figs', 'songs_evolution_lfm.png'))"
   ]
  },
  {
   "cell_type": "code",
   "execution_count": 34,
   "id": "0fa29a7a",
   "metadata": {},
   "outputs": [
    {
     "name": "stdout",
     "output_type": "stream",
     "text": [
      "That's all folks!\n"
     ]
    }
   ],
   "source": [
    "print(\"That's all folks!\")"
   ]
  }
 ],
 "metadata": {
  "kernelspec": {
   "display_name": "Python 3 (ipykernel)",
   "language": "python",
   "name": "python3"
  },
  "language_info": {
   "codemirror_mode": {
    "name": "ipython",
    "version": 3
   },
   "file_extension": ".py",
   "mimetype": "text/x-python",
   "name": "python",
   "nbconvert_exporter": "python",
   "pygments_lexer": "ipython3",
   "version": "3.8.10"
  }
 },
 "nbformat": 4,
 "nbformat_minor": 5
}
