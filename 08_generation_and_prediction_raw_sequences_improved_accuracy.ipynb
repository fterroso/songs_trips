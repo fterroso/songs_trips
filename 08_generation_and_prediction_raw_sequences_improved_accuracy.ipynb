{
 "cells": [
  {
   "cell_type": "markdown",
   "metadata": {},
   "source": [
    "# Generate propagation raw sequences from songs graphs with and without time metadata  (with date order)"
   ]
  },
  {
   "cell_type": "code",
   "execution_count": 172,
   "metadata": {},
   "outputs": [],
   "source": [
    "#!pip install subseq"
   ]
  },
  {
   "cell_type": "code",
   "execution_count": null,
   "metadata": {},
   "outputs": [],
   "source": []
  },
  {
   "cell_type": "markdown",
   "metadata": {},
   "source": [
    "### Import required libraries"
   ]
  },
  {
   "cell_type": "code",
   "execution_count": 173,
   "metadata": {},
   "outputs": [],
   "source": [
    "import pandas as pd\n",
    "import os\n",
    "import numpy as np\n",
    "\n",
    "from tqdm.notebook import tqdm\n",
    "import json\n",
    "import networkx as nx\n",
    "\n",
    "import matplotlib.pyplot as plt\n",
    "\n",
    "import math\n",
    "\n",
    "from subseq.subseq import Subseq"
   ]
  },
  {
   "cell_type": "markdown",
   "metadata": {},
   "source": [
    "### Load datasets"
   ]
  },
  {
   "cell_type": "markdown",
   "metadata": {},
   "source": [
    "Dataset generated in notebook 02b"
   ]
  },
  {
   "cell_type": "code",
   "execution_count": 174,
   "metadata": {},
   "outputs": [
    {
     "name": "stderr",
     "output_type": "stream",
     "text": [
      "/home/fterroso/.local/lib/python3.8/site-packages/numpy/lib/arraysetops.py:580: FutureWarning: elementwise comparison failed; returning scalar instead, but in the future will perform elementwise comparison\n",
      "  mask |= (ar1 == a)\n"
     ]
    },
    {
     "data": {
      "text/html": [
       "<div>\n",
       "<style scoped>\n",
       "    .dataframe tbody tr th:only-of-type {\n",
       "        vertical-align: middle;\n",
       "    }\n",
       "\n",
       "    .dataframe tbody tr th {\n",
       "        vertical-align: top;\n",
       "    }\n",
       "\n",
       "    .dataframe thead th {\n",
       "        text-align: right;\n",
       "    }\n",
       "</style>\n",
       "<table border=\"1\" class=\"dataframe\">\n",
       "  <thead>\n",
       "    <tr style=\"text-align: right;\">\n",
       "      <th></th>\n",
       "      <th>Position</th>\n",
       "      <th>Track Name</th>\n",
       "      <th>Artist</th>\n",
       "      <th>Streams</th>\n",
       "      <th>Date</th>\n",
       "      <th>Region</th>\n",
       "      <th>song_id</th>\n",
       "      <th>release_date</th>\n",
       "      <th>day_of_study</th>\n",
       "      <th>release_month</th>\n",
       "    </tr>\n",
       "  </thead>\n",
       "  <tbody>\n",
       "    <tr>\n",
       "      <th>16</th>\n",
       "      <td>17</td>\n",
       "      <td>Olha a Explosão</td>\n",
       "      <td>MC Kevinho</td>\n",
       "      <td>12388</td>\n",
       "      <td>2018-01-01</td>\n",
       "      <td>Ecuador</td>\n",
       "      <td>6m2LNopVJKsvBB9l7Z1rwn</td>\n",
       "      <td>2017-01-01</td>\n",
       "      <td>365</td>\n",
       "      <td>1</td>\n",
       "    </tr>\n",
       "    <tr>\n",
       "      <th>19</th>\n",
       "      <td>20</td>\n",
       "      <td>Besame</td>\n",
       "      <td>Valentino, Manuel Turizo</td>\n",
       "      <td>11127</td>\n",
       "      <td>2018-01-01</td>\n",
       "      <td>Ecuador</td>\n",
       "      <td>7Ckhk1XW5NV2k4jpqtQNlz</td>\n",
       "      <td>2017-06-03</td>\n",
       "      <td>365</td>\n",
       "      <td>6</td>\n",
       "    </tr>\n",
       "    <tr>\n",
       "      <th>22</th>\n",
       "      <td>23</td>\n",
       "      <td>Una Lady Como Tú</td>\n",
       "      <td>Manuel Turizo</td>\n",
       "      <td>10766</td>\n",
       "      <td>2018-01-01</td>\n",
       "      <td>Ecuador</td>\n",
       "      <td>7MHN1aCFtLXjownGhvEQlF</td>\n",
       "      <td>2017-04-12</td>\n",
       "      <td>365</td>\n",
       "      <td>4</td>\n",
       "    </tr>\n",
       "    <tr>\n",
       "      <th>25</th>\n",
       "      <td>26</td>\n",
       "      <td>Scooby Doo Pa Pa</td>\n",
       "      <td>Dj Kass</td>\n",
       "      <td>9879</td>\n",
       "      <td>2018-01-01</td>\n",
       "      <td>Ecuador</td>\n",
       "      <td>1xndOD8CreR5ctkOv5G1LN</td>\n",
       "      <td>2017-12-08</td>\n",
       "      <td>365</td>\n",
       "      <td>12</td>\n",
       "    </tr>\n",
       "    <tr>\n",
       "      <th>28</th>\n",
       "      <td>29</td>\n",
       "      <td>Déjate Llevar</td>\n",
       "      <td>Juan Magán, Belinda, Manuel Turizo, Snova, B-Case</td>\n",
       "      <td>8995</td>\n",
       "      <td>2018-01-01</td>\n",
       "      <td>Ecuador</td>\n",
       "      <td>3xWEI23MLJrD0dpDcDUTW6</td>\n",
       "      <td>2017-11-28</td>\n",
       "      <td>365</td>\n",
       "      <td>11</td>\n",
       "    </tr>\n",
       "  </tbody>\n",
       "</table>\n",
       "</div>"
      ],
      "text/plain": [
       "    Position        Track Name  \\\n",
       "16        17   Olha a Explosão   \n",
       "19        20            Besame   \n",
       "22        23  Una Lady Como Tú   \n",
       "25        26  Scooby Doo Pa Pa   \n",
       "28        29     Déjate Llevar   \n",
       "\n",
       "                                               Artist  Streams       Date  \\\n",
       "16                                         MC Kevinho    12388 2018-01-01   \n",
       "19                           Valentino, Manuel Turizo    11127 2018-01-01   \n",
       "22                                      Manuel Turizo    10766 2018-01-01   \n",
       "25                                            Dj Kass     9879 2018-01-01   \n",
       "28  Juan Magán, Belinda, Manuel Turizo, Snova, B-Case     8995 2018-01-01   \n",
       "\n",
       "     Region                 song_id release_date  day_of_study  release_month  \n",
       "16  Ecuador  6m2LNopVJKsvBB9l7Z1rwn   2017-01-01           365              1  \n",
       "19  Ecuador  7Ckhk1XW5NV2k4jpqtQNlz   2017-06-03           365              6  \n",
       "22  Ecuador  7MHN1aCFtLXjownGhvEQlF   2017-04-12           365              4  \n",
       "25  Ecuador  1xndOD8CreR5ctkOv5G1LN   2017-12-08           365             12  \n",
       "28  Ecuador  3xWEI23MLJrD0dpDcDUTW6   2017-11-28           365             11  "
      ]
     },
     "execution_count": 174,
     "metadata": {},
     "output_type": "execute_result"
    }
   ],
   "source": [
    "source= 'spotify'\n",
    "ranking_df= pd.read_csv(os.path.join('data', 'clean_ranking_2017_2022_v2.csv'), index_col=0, parse_dates=['Date', 'release_date'])\n",
    "\n",
    "if source== 'lfm':\n",
    "    ranking_df= pd.read_csv(os.path.join('data', 'LMF-2b', 'clean_ranking_2005_2020_lfm.csv'), index_col=0, parse_dates=['Date', 'release_date'])\n",
    "    \n",
    "ranking_df.head()\n",
    "\n",
    "#ranking_df= pd.read_csv(os.path.join('data', 'clean_ranking_2017_2021_v2.csv'), index_col=0, parse_dates=['Date', 'release_date'])\n",
    "#ranking_df.head()"
   ]
  },
  {
   "cell_type": "code",
   "execution_count": 175,
   "metadata": {},
   "outputs": [],
   "source": [
    "ranking_df['week_of_study']= ranking_df['day_of_study'].apply(lambda x : int(x/7))"
   ]
  },
  {
   "cell_type": "code",
   "execution_count": 176,
   "metadata": {},
   "outputs": [],
   "source": [
    "ranking_df = ranking_df[ranking_df['Region']!='World']"
   ]
  },
  {
   "cell_type": "code",
   "execution_count": 177,
   "metadata": {},
   "outputs": [
    {
     "data": {
      "text/plain": [
       "array(['Ecuador', 'Portugal', 'Panama', 'Italy', 'Germany', 'Finland',\n",
       "       'Estonia', 'Hungary', 'Spain', 'Peru', 'Slovakia', 'Ireland',\n",
       "       'Indonesia', 'Iceland', 'Brazil', 'Canada', 'Belgium', 'Uruguay',\n",
       "       'CostaRica', 'Malaysia', 'Mexico', 'France', 'Argentina', 'Norway',\n",
       "       'Lithuania', 'Philippines', 'Taiwan', 'NewZealand', 'Turkey',\n",
       "       'USA', 'ElSalvador', 'Chile', 'Japan', 'Honduras', 'Guatemala',\n",
       "       'Switzerland', 'Denmark', 'Bolivia', 'Poland', 'Austria', 'Sweden',\n",
       "       'CzechRepublic', 'Netherlands', 'Columbia', 'Singapore',\n",
       "       'DominicanRepublic', 'Luxemborg', 'UnitedKingdom', 'Paraguay',\n",
       "       'Australia', 'Latvia', 'Greece', 'HongKong', 'Russia',\n",
       "       'UnitedArabEmirates', 'Belarus', 'India', 'SouthAfrica', 'Romania',\n",
       "       'Ukraine', 'Egypt', 'Nigeria', 'Korea', 'Kazakhstan',\n",
       "       'SaudiArabia', 'Nicaragua', 'Marocco', 'Israel', 'Bulgaria',\n",
       "       'Vietnam'], dtype=object)"
      ]
     },
     "execution_count": 177,
     "metadata": {},
     "output_type": "execute_result"
    }
   ],
   "source": [
    "ranking_df['Region'].unique()"
   ]
  },
  {
   "cell_type": "code",
   "execution_count": 178,
   "metadata": {},
   "outputs": [],
   "source": [
    "codes_to_country = {'ar':'Argentina', 'at':'Austria', 'au':'Australia', 'be':'Belgium','bl':'Belarus', 'bu':'Bulgaria',\n",
    "       'bo':'Bolivia', 'br':'Brazil', 'ca':'Canada', 'ch':'Switzerland', \n",
    "       'cl':'Chile', 'co':'Columbia', 'cr':'CostaRica', 'cz':'CzechRepublic',\n",
    "       'de':'Germany', 'dk':'Denmark', 'do':'DominicanRepublic', 'ec':'Ecuador', \n",
    "       'ee':'Estonia', 'es':'Spain', 'eg': 'Egypt', 'fi':'Finland', 'fr':'France', \n",
    "       'gb':'UnitedKingdom', 'global':'World', 'gr':'Greece', 'gt':'Guatemala',\n",
    "       'hk':'HongKong', 'hn':'Honduras', 'hu':'Hungary', 'id':'Indonesia', \n",
    "       'ie':'Ireland', 'in': 'India', 'is':'Iceland', 'ir': 'Israel', 'it':'Italy', 'jp':'Japan', \n",
    "       'lt':'Lithuania', 'lu':'Luxemborg', 'lv':'Latvia', 'ma':'Marocco', 'mx':'Mexico', \n",
    "       'my':'Malaysia', 'ni': 'Nicaragua', 'ng': 'Nigeria', 'nl':'Netherlands', 'no':'Norway', 'nz':'NewZealand', \n",
    "       'pa':'Panama', 'pe':'Peru', 'ph':'Philippines', 'pl':'Poland', \n",
    "       'pt':'Portugal', 'py':'Paraguay', 'kz': 'Kazakhstan', 'se':'Sweden', 'sg':'Singapore', \n",
    "       'sk':'Slovakia', 'sv':'ElSalvador', 'tr':'Turkey', 'tw':'Taiwan', 'ua': 'UnitedArabEmirates', 'uk':'Ukraine', 'us':'USA', 'uy':'Uruguay',\n",
    "        'ro':'Romania', 'ru': 'Russia', 'sa': 'SouthAfrica', 'sd': 'SaudiArabia', 'ko':'Korea', 'vt': 'Vietnam' } "
   ]
  },
  {
   "cell_type": "code",
   "execution_count": 179,
   "metadata": {
    "scrolled": true
   },
   "outputs": [
    {
     "data": {
      "text/plain": [
       "{'Argentina': 'ar',\n",
       " 'Austria': 'at',\n",
       " 'Australia': 'au',\n",
       " 'Belgium': 'be',\n",
       " 'Belarus': 'bl',\n",
       " 'Bulgaria': 'bu',\n",
       " 'Bolivia': 'bo',\n",
       " 'Brazil': 'br',\n",
       " 'Canada': 'ca',\n",
       " 'Switzerland': 'ch',\n",
       " 'Chile': 'cl',\n",
       " 'Columbia': 'co',\n",
       " 'CostaRica': 'cr',\n",
       " 'CzechRepublic': 'cz',\n",
       " 'Germany': 'de',\n",
       " 'Denmark': 'dk',\n",
       " 'DominicanRepublic': 'do',\n",
       " 'Ecuador': 'ec',\n",
       " 'Estonia': 'ee',\n",
       " 'Spain': 'es',\n",
       " 'Egypt': 'eg',\n",
       " 'Finland': 'fi',\n",
       " 'France': 'fr',\n",
       " 'UnitedKingdom': 'gb',\n",
       " 'World': 'global',\n",
       " 'Greece': 'gr',\n",
       " 'Guatemala': 'gt',\n",
       " 'HongKong': 'hk',\n",
       " 'Honduras': 'hn',\n",
       " 'Hungary': 'hu',\n",
       " 'Indonesia': 'id',\n",
       " 'Ireland': 'ie',\n",
       " 'India': 'in',\n",
       " 'Iceland': 'is',\n",
       " 'Israel': 'ir',\n",
       " 'Italy': 'it',\n",
       " 'Japan': 'jp',\n",
       " 'Lithuania': 'lt',\n",
       " 'Luxemborg': 'lu',\n",
       " 'Latvia': 'lv',\n",
       " 'Marocco': 'ma',\n",
       " 'Mexico': 'mx',\n",
       " 'Malaysia': 'my',\n",
       " 'Nicaragua': 'ni',\n",
       " 'Nigeria': 'ng',\n",
       " 'Netherlands': 'nl',\n",
       " 'Norway': 'no',\n",
       " 'NewZealand': 'nz',\n",
       " 'Panama': 'pa',\n",
       " 'Peru': 'pe',\n",
       " 'Philippines': 'ph',\n",
       " 'Poland': 'pl',\n",
       " 'Portugal': 'pt',\n",
       " 'Paraguay': 'py',\n",
       " 'Kazakhstan': 'kz',\n",
       " 'Sweden': 'se',\n",
       " 'Singapore': 'sg',\n",
       " 'Slovakia': 'sk',\n",
       " 'ElSalvador': 'sv',\n",
       " 'Turkey': 'tr',\n",
       " 'Taiwan': 'tw',\n",
       " 'UnitedArabEmirates': 'ua',\n",
       " 'Ukraine': 'uk',\n",
       " 'USA': 'us',\n",
       " 'Uruguay': 'uy',\n",
       " 'Romania': 'ro',\n",
       " 'Russia': 'ru',\n",
       " 'SouthAfrica': 'sa',\n",
       " 'SaudiArabia': 'sd',\n",
       " 'Korea': 'ko',\n",
       " 'Vietnam': 'vt'}"
      ]
     },
     "execution_count": 179,
     "metadata": {},
     "output_type": "execute_result"
    }
   ],
   "source": [
    "country_to_code = {v: k for k, v in codes_to_country.items()}\n",
    "country_to_code"
   ]
  },
  {
   "cell_type": "markdown",
   "metadata": {},
   "source": [
    "We are going to use the country codes for the sequences generation instead the verbose ones"
   ]
  },
  {
   "cell_type": "code",
   "execution_count": 180,
   "metadata": {
    "scrolled": true
   },
   "outputs": [],
   "source": [
    "ranking_df['Region_code'] = ranking_df['Region'].apply(lambda r: country_to_code[r])"
   ]
  },
  {
   "cell_type": "code",
   "execution_count": 181,
   "metadata": {
    "scrolled": true
   },
   "outputs": [
    {
     "data": {
      "text/html": [
       "<div>\n",
       "<style scoped>\n",
       "    .dataframe tbody tr th:only-of-type {\n",
       "        vertical-align: middle;\n",
       "    }\n",
       "\n",
       "    .dataframe tbody tr th {\n",
       "        vertical-align: top;\n",
       "    }\n",
       "\n",
       "    .dataframe thead th {\n",
       "        text-align: right;\n",
       "    }\n",
       "</style>\n",
       "<table border=\"1\" class=\"dataframe\">\n",
       "  <thead>\n",
       "    <tr style=\"text-align: right;\">\n",
       "      <th></th>\n",
       "      <th>Position</th>\n",
       "      <th>Track Name</th>\n",
       "      <th>Artist</th>\n",
       "      <th>Streams</th>\n",
       "      <th>Date</th>\n",
       "      <th>Region</th>\n",
       "      <th>song_id</th>\n",
       "      <th>release_date</th>\n",
       "      <th>day_of_study</th>\n",
       "      <th>release_month</th>\n",
       "      <th>week_of_study</th>\n",
       "      <th>Region_code</th>\n",
       "    </tr>\n",
       "  </thead>\n",
       "  <tbody>\n",
       "    <tr>\n",
       "      <th>161779</th>\n",
       "      <td>180</td>\n",
       "      <td>Supalonely</td>\n",
       "      <td>BENEE, Gus Dapperton</td>\n",
       "      <td>3961</td>\n",
       "      <td>2020-03-19</td>\n",
       "      <td>Ecuador</td>\n",
       "      <td>4nK5YrxbMGZstTLbvj6Gxw</td>\n",
       "      <td>2019-11-15</td>\n",
       "      <td>1173</td>\n",
       "      <td>11</td>\n",
       "      <td>167</td>\n",
       "      <td>ec</td>\n",
       "    </tr>\n",
       "    <tr>\n",
       "      <th>162569</th>\n",
       "      <td>170</td>\n",
       "      <td>Supalonely</td>\n",
       "      <td>BENEE, Gus Dapperton</td>\n",
       "      <td>4057</td>\n",
       "      <td>2020-03-23</td>\n",
       "      <td>Ecuador</td>\n",
       "      <td>4nK5YrxbMGZstTLbvj6Gxw</td>\n",
       "      <td>2019-11-15</td>\n",
       "      <td>1177</td>\n",
       "      <td>11</td>\n",
       "      <td>168</td>\n",
       "      <td>ec</td>\n",
       "    </tr>\n",
       "    <tr>\n",
       "      <th>162756</th>\n",
       "      <td>157</td>\n",
       "      <td>Supalonely</td>\n",
       "      <td>BENEE, Gus Dapperton</td>\n",
       "      <td>4163</td>\n",
       "      <td>2020-03-24</td>\n",
       "      <td>Ecuador</td>\n",
       "      <td>4nK5YrxbMGZstTLbvj6Gxw</td>\n",
       "      <td>2019-11-15</td>\n",
       "      <td>1178</td>\n",
       "      <td>11</td>\n",
       "      <td>168</td>\n",
       "      <td>ec</td>\n",
       "    </tr>\n",
       "    <tr>\n",
       "      <th>162945</th>\n",
       "      <td>146</td>\n",
       "      <td>Supalonely</td>\n",
       "      <td>BENEE, Gus Dapperton</td>\n",
       "      <td>4365</td>\n",
       "      <td>2020-03-25</td>\n",
       "      <td>Ecuador</td>\n",
       "      <td>4nK5YrxbMGZstTLbvj6Gxw</td>\n",
       "      <td>2019-11-15</td>\n",
       "      <td>1179</td>\n",
       "      <td>11</td>\n",
       "      <td>168</td>\n",
       "      <td>ec</td>\n",
       "    </tr>\n",
       "    <tr>\n",
       "      <th>163136</th>\n",
       "      <td>137</td>\n",
       "      <td>Supalonely</td>\n",
       "      <td>BENEE, Gus Dapperton</td>\n",
       "      <td>4641</td>\n",
       "      <td>2020-03-26</td>\n",
       "      <td>Ecuador</td>\n",
       "      <td>4nK5YrxbMGZstTLbvj6Gxw</td>\n",
       "      <td>2019-11-15</td>\n",
       "      <td>1180</td>\n",
       "      <td>11</td>\n",
       "      <td>168</td>\n",
       "      <td>ec</td>\n",
       "    </tr>\n",
       "    <tr>\n",
       "      <th>...</th>\n",
       "      <td>...</td>\n",
       "      <td>...</td>\n",
       "      <td>...</td>\n",
       "      <td>...</td>\n",
       "      <td>...</td>\n",
       "      <td>...</td>\n",
       "      <td>...</td>\n",
       "      <td>...</td>\n",
       "      <td>...</td>\n",
       "      <td>...</td>\n",
       "      <td>...</td>\n",
       "      <td>...</td>\n",
       "    </tr>\n",
       "    <tr>\n",
       "      <th>21180147</th>\n",
       "      <td>176</td>\n",
       "      <td>Supalonely</td>\n",
       "      <td>BENEE, Gus Dapperton</td>\n",
       "      <td>2982</td>\n",
       "      <td>2020-07-19</td>\n",
       "      <td>Vietnam</td>\n",
       "      <td>4nK5YrxbMGZstTLbvj6Gxw</td>\n",
       "      <td>2019-11-15</td>\n",
       "      <td>1295</td>\n",
       "      <td>11</td>\n",
       "      <td>185</td>\n",
       "      <td>vt</td>\n",
       "    </tr>\n",
       "    <tr>\n",
       "      <th>21180355</th>\n",
       "      <td>184</td>\n",
       "      <td>Supalonely</td>\n",
       "      <td>BENEE, Gus Dapperton</td>\n",
       "      <td>2966</td>\n",
       "      <td>2020-07-20</td>\n",
       "      <td>Vietnam</td>\n",
       "      <td>4nK5YrxbMGZstTLbvj6Gxw</td>\n",
       "      <td>2019-11-15</td>\n",
       "      <td>1296</td>\n",
       "      <td>11</td>\n",
       "      <td>185</td>\n",
       "      <td>vt</td>\n",
       "    </tr>\n",
       "    <tr>\n",
       "      <th>21180547</th>\n",
       "      <td>176</td>\n",
       "      <td>Supalonely</td>\n",
       "      <td>BENEE, Gus Dapperton</td>\n",
       "      <td>3182</td>\n",
       "      <td>2020-07-21</td>\n",
       "      <td>Vietnam</td>\n",
       "      <td>4nK5YrxbMGZstTLbvj6Gxw</td>\n",
       "      <td>2019-11-15</td>\n",
       "      <td>1297</td>\n",
       "      <td>11</td>\n",
       "      <td>185</td>\n",
       "      <td>vt</td>\n",
       "    </tr>\n",
       "    <tr>\n",
       "      <th>21180763</th>\n",
       "      <td>192</td>\n",
       "      <td>Supalonely</td>\n",
       "      <td>BENEE, Gus Dapperton</td>\n",
       "      <td>3033</td>\n",
       "      <td>2020-07-22</td>\n",
       "      <td>Vietnam</td>\n",
       "      <td>4nK5YrxbMGZstTLbvj6Gxw</td>\n",
       "      <td>2019-11-15</td>\n",
       "      <td>1298</td>\n",
       "      <td>11</td>\n",
       "      <td>185</td>\n",
       "      <td>vt</td>\n",
       "    </tr>\n",
       "    <tr>\n",
       "      <th>21180962</th>\n",
       "      <td>191</td>\n",
       "      <td>Supalonely</td>\n",
       "      <td>BENEE, Gus Dapperton</td>\n",
       "      <td>3073</td>\n",
       "      <td>2020-07-23</td>\n",
       "      <td>Vietnam</td>\n",
       "      <td>4nK5YrxbMGZstTLbvj6Gxw</td>\n",
       "      <td>2019-11-15</td>\n",
       "      <td>1299</td>\n",
       "      <td>11</td>\n",
       "      <td>185</td>\n",
       "      <td>vt</td>\n",
       "    </tr>\n",
       "  </tbody>\n",
       "</table>\n",
       "<p>9671 rows × 12 columns</p>\n",
       "</div>"
      ],
      "text/plain": [
       "          Position  Track Name                Artist  Streams       Date  \\\n",
       "161779         180  Supalonely  BENEE, Gus Dapperton     3961 2020-03-19   \n",
       "162569         170  Supalonely  BENEE, Gus Dapperton     4057 2020-03-23   \n",
       "162756         157  Supalonely  BENEE, Gus Dapperton     4163 2020-03-24   \n",
       "162945         146  Supalonely  BENEE, Gus Dapperton     4365 2020-03-25   \n",
       "163136         137  Supalonely  BENEE, Gus Dapperton     4641 2020-03-26   \n",
       "...            ...         ...                   ...      ...        ...   \n",
       "21180147       176  Supalonely  BENEE, Gus Dapperton     2982 2020-07-19   \n",
       "21180355       184  Supalonely  BENEE, Gus Dapperton     2966 2020-07-20   \n",
       "21180547       176  Supalonely  BENEE, Gus Dapperton     3182 2020-07-21   \n",
       "21180763       192  Supalonely  BENEE, Gus Dapperton     3033 2020-07-22   \n",
       "21180962       191  Supalonely  BENEE, Gus Dapperton     3073 2020-07-23   \n",
       "\n",
       "           Region                 song_id release_date  day_of_study  \\\n",
       "161779    Ecuador  4nK5YrxbMGZstTLbvj6Gxw   2019-11-15          1173   \n",
       "162569    Ecuador  4nK5YrxbMGZstTLbvj6Gxw   2019-11-15          1177   \n",
       "162756    Ecuador  4nK5YrxbMGZstTLbvj6Gxw   2019-11-15          1178   \n",
       "162945    Ecuador  4nK5YrxbMGZstTLbvj6Gxw   2019-11-15          1179   \n",
       "163136    Ecuador  4nK5YrxbMGZstTLbvj6Gxw   2019-11-15          1180   \n",
       "...           ...                     ...          ...           ...   \n",
       "21180147  Vietnam  4nK5YrxbMGZstTLbvj6Gxw   2019-11-15          1295   \n",
       "21180355  Vietnam  4nK5YrxbMGZstTLbvj6Gxw   2019-11-15          1296   \n",
       "21180547  Vietnam  4nK5YrxbMGZstTLbvj6Gxw   2019-11-15          1297   \n",
       "21180763  Vietnam  4nK5YrxbMGZstTLbvj6Gxw   2019-11-15          1298   \n",
       "21180962  Vietnam  4nK5YrxbMGZstTLbvj6Gxw   2019-11-15          1299   \n",
       "\n",
       "          release_month  week_of_study Region_code  \n",
       "161779               11            167          ec  \n",
       "162569               11            168          ec  \n",
       "162756               11            168          ec  \n",
       "162945               11            168          ec  \n",
       "163136               11            168          ec  \n",
       "...                 ...            ...         ...  \n",
       "21180147             11            185          vt  \n",
       "21180355             11            185          vt  \n",
       "21180547             11            185          vt  \n",
       "21180763             11            185          vt  \n",
       "21180962             11            185          vt  \n",
       "\n",
       "[9671 rows x 12 columns]"
      ]
     },
     "execution_count": 181,
     "metadata": {},
     "output_type": "execute_result"
    }
   ],
   "source": [
    "ranking_df[ranking_df['song_id']=='4nK5YrxbMGZstTLbvj6Gxw']"
   ]
  },
  {
   "cell_type": "code",
   "execution_count": 182,
   "metadata": {},
   "outputs": [
    {
     "name": "stdout",
     "output_type": "stream",
     "text": [
      "<class 'pandas.core.frame.DataFrame'>\n",
      "Int64Index: 2749683 entries, 16 to 22869852\n",
      "Data columns (total 12 columns):\n",
      " #   Column         Dtype         \n",
      "---  ------         -----         \n",
      " 0   Position       int64         \n",
      " 1   Track Name     object        \n",
      " 2   Artist         object        \n",
      " 3   Streams        int64         \n",
      " 4   Date           datetime64[ns]\n",
      " 5   Region         object        \n",
      " 6   song_id        object        \n",
      " 7   release_date   datetime64[ns]\n",
      " 8   day_of_study   int64         \n",
      " 9   release_month  int64         \n",
      " 10  week_of_study  int64         \n",
      " 11  Region_code    object        \n",
      "dtypes: datetime64[ns](2), int64(5), object(5)\n",
      "memory usage: 272.7+ MB\n"
     ]
    }
   ],
   "source": [
    "ranking_df.info()"
   ]
  },
  {
   "cell_type": "code",
   "execution_count": 183,
   "metadata": {},
   "outputs": [
    {
     "name": "stdout",
     "output_type": "stream",
     "text": [
      "The number of total songs is 8467\n"
     ]
    }
   ],
   "source": [
    "total_songs = ranking_df['song_id'].nunique()\n",
    "print(f'The number of total songs is {total_songs}')"
   ]
  },
  {
   "cell_type": "markdown",
   "metadata": {},
   "source": [
    "### Read songs genres"
   ]
  },
  {
   "cell_type": "code",
   "execution_count": 184,
   "metadata": {},
   "outputs": [
    {
     "data": {
      "text/html": [
       "<div>\n",
       "<style scoped>\n",
       "    .dataframe tbody tr th:only-of-type {\n",
       "        vertical-align: middle;\n",
       "    }\n",
       "\n",
       "    .dataframe tbody tr th {\n",
       "        vertical-align: top;\n",
       "    }\n",
       "\n",
       "    .dataframe thead th {\n",
       "        text-align: right;\n",
       "    }\n",
       "</style>\n",
       "<table border=\"1\" class=\"dataframe\">\n",
       "  <thead>\n",
       "    <tr style=\"text-align: right;\">\n",
       "      <th></th>\n",
       "      <th>0</th>\n",
       "      <th>1</th>\n",
       "      <th>2</th>\n",
       "      <th>3</th>\n",
       "      <th>4</th>\n",
       "      <th>5</th>\n",
       "      <th>6</th>\n",
       "    </tr>\n",
       "  </thead>\n",
       "  <tbody>\n",
       "    <tr>\n",
       "      <th>6m2LNopVJKsvBB9l7Z1rwn</th>\n",
       "      <td>funk</td>\n",
       "      <td>pop</td>\n",
       "      <td>NaN</td>\n",
       "      <td>NaN</td>\n",
       "      <td>NaN</td>\n",
       "      <td>NaN</td>\n",
       "      <td>NaN</td>\n",
       "    </tr>\n",
       "    <tr>\n",
       "      <th>7Ckhk1XW5NV2k4jpqtQNlz</th>\n",
       "      <td>reggaeton</td>\n",
       "      <td>latin</td>\n",
       "      <td>NaN</td>\n",
       "      <td>NaN</td>\n",
       "      <td>NaN</td>\n",
       "      <td>NaN</td>\n",
       "      <td>NaN</td>\n",
       "    </tr>\n",
       "    <tr>\n",
       "      <th>7MHN1aCFtLXjownGhvEQlF</th>\n",
       "      <td>reggaeton</td>\n",
       "      <td>latin</td>\n",
       "      <td>NaN</td>\n",
       "      <td>NaN</td>\n",
       "      <td>NaN</td>\n",
       "      <td>NaN</td>\n",
       "      <td>NaN</td>\n",
       "    </tr>\n",
       "    <tr>\n",
       "      <th>1xndOD8CreR5ctkOv5G1LN</th>\n",
       "      <td>hardcore</td>\n",
       "      <td>NaN</td>\n",
       "      <td>NaN</td>\n",
       "      <td>NaN</td>\n",
       "      <td>NaN</td>\n",
       "      <td>NaN</td>\n",
       "      <td>NaN</td>\n",
       "    </tr>\n",
       "    <tr>\n",
       "      <th>3xWEI23MLJrD0dpDcDUTW6</th>\n",
       "      <td>reggaeton</td>\n",
       "      <td>latin</td>\n",
       "      <td>pop</td>\n",
       "      <td>NaN</td>\n",
       "      <td>NaN</td>\n",
       "      <td>NaN</td>\n",
       "      <td>NaN</td>\n",
       "    </tr>\n",
       "  </tbody>\n",
       "</table>\n",
       "</div>"
      ],
      "text/plain": [
       "                                0      1    2    3    4    5    6\n",
       "6m2LNopVJKsvBB9l7Z1rwn       funk    pop  NaN  NaN  NaN  NaN  NaN\n",
       "7Ckhk1XW5NV2k4jpqtQNlz  reggaeton  latin  NaN  NaN  NaN  NaN  NaN\n",
       "7MHN1aCFtLXjownGhvEQlF  reggaeton  latin  NaN  NaN  NaN  NaN  NaN\n",
       "1xndOD8CreR5ctkOv5G1LN   hardcore    NaN  NaN  NaN  NaN  NaN  NaN\n",
       "3xWEI23MLJrD0dpDcDUTW6  reggaeton  latin  pop  NaN  NaN  NaN  NaN"
      ]
     },
     "execution_count": 184,
     "metadata": {},
     "output_type": "execute_result"
    }
   ],
   "source": [
    "song_genres_df = pd.read_csv(os.path.join('data', 'songs_genres_2017_2022.csv'), index_col=0)\n",
    "song_genres_df.head()"
   ]
  },
  {
   "cell_type": "code",
   "execution_count": 185,
   "metadata": {
    "scrolled": true
   },
   "outputs": [
    {
     "data": {
      "text/plain": [
       "{'pop rock': 'pop',\n",
       " 'pop': 'pop',\n",
       " 'british': 'pop',\n",
       " 'j-pop': 'pop',\n",
       " 'k-pop': 'pop',\n",
       " 'mandopop': 'pop',\n",
       " 'cantopop': 'pop',\n",
       " 'hip-hop': 'hip-hop',\n",
       " 'funk': 'hip-hop',\n",
       " 'trap': 'hip-hop',\n",
       " 'rap': 'hip-hop',\n",
       " 'rock': 'rock',\n",
       " 'rockabilly': 'rock',\n",
       " 'metal': 'rock',\n",
       " 'punk': 'rock',\n",
       " 'metalcore': 'rock',\n",
       " 'hardcore': 'rock',\n",
       " 'j-rock': 'rock',\n",
       " 'grunge': 'rock',\n",
       " 'trance': 'electronic',\n",
       " 'chill': 'electronic',\n",
       " 'dance': 'electronic',\n",
       " 'edm': 'electronic',\n",
       " 'house': 'electronic',\n",
       " 'dubstep': 'electronic',\n",
       " 'dancehall': 'electronic',\n",
       " 'electro': 'electronic',\n",
       " 'techno': 'electronic',\n",
       " 'electronic': 'electronic',\n",
       " 'club': 'electronic',\n",
       " 'latin': 'latin',\n",
       " 'reggaeton': 'latin',\n",
       " 'spanish': 'latin',\n",
       " 'pagode': 'latin',\n",
       " 'cumbia': 'latin',\n",
       " 'salsa': 'latin',\n",
       " 'latino': 'latin',\n",
       " 'sertanejo': 'latin',\n",
       " 'mpb': 'latin',\n",
       " 'anime': 'indie',\n",
       " 'indie': 'indie',\n",
       " 'alternative': 'indie',\n",
       " 'emo': 'indie',\n",
       " 'soundtracks': 'classical and ost',\n",
       " 'classical': 'classical and ost',\n",
       " 'piano': 'classical and ost',\n",
       " 'ambient': 'classical and ost',\n",
       " 'folk': 'folk/traditional',\n",
       " 'country': 'folk/traditional',\n",
       " 'singer-songwriter': 'folk/traditional',\n",
       " 'german': 'folk/traditional',\n",
       " 'corrido': 'folk/traditional',\n",
       " 'forro': 'folk/traditional',\n",
       " 'swedish': 'folk/traditional',\n",
       " 'turkish': 'folk/traditional',\n",
       " 'french': 'folk/traditional',\n",
       " 'malay': 'folk/traditional',\n",
       " 'ranchera': 'folk/traditional',\n",
       " 'blues': 'rythm and blues',\n",
       " 'disco': 'rythm and blues',\n",
       " 'gospel': 'rythm and blues',\n",
       " 'ska': 'rythm and blues',\n",
       " 'groove': 'rythm and blues',\n",
       " 'r-n-b': 'rythm and blues',\n",
       " 'jazz': 'rythm and blues',\n",
       " 'soul': 'rythm and blues',\n",
       " 'reggae': 'rythm and blues',\n",
       " 'acoustic': 'miscellaneous',\n",
       " 'happy': 'miscellaneous',\n",
       " 'comedy': 'miscellaneous',\n",
       " 'sad': 'miscellaneous'}"
      ]
     },
     "execution_count": 185,
     "metadata": {},
     "output_type": "execute_result"
    }
   ],
   "source": [
    "### Read songs genre groups\n",
    "\n",
    "import json\n",
    "\n",
    "# Opening JSON file\n",
    "f = open(os.path.join('data','music_styles_unique.json'))\n",
    " \n",
    "# returns JSON object as a dictionary\n",
    "music_styles = json.load(f)\n",
    "\n",
    "sub_gender_to_gender = {}\n",
    "for gender, sub_genders in music_styles.items():\n",
    "    for sb in sub_genders:\n",
    "        sub_gender_to_gender[sb]=gender\n",
    "sub_gender_to_gender"
   ]
  },
  {
   "cell_type": "code",
   "execution_count": 186,
   "metadata": {},
   "outputs": [
    {
     "data": {
      "text/plain": [
       "dict_keys(['pop', 'hip-hop', 'rock', 'electronic', 'latin', 'indie', 'classical and ost', 'folk/traditional', 'rythm and blues', 'miscellaneous'])"
      ]
     },
     "execution_count": 186,
     "metadata": {},
     "output_type": "execute_result"
    }
   ],
   "source": [
    "music_styles.keys()"
   ]
  },
  {
   "cell_type": "markdown",
   "metadata": {},
   "source": [
    "### Auxiliary functions"
   ]
  },
  {
   "cell_type": "code",
   "execution_count": 187,
   "metadata": {},
   "outputs": [],
   "source": [
    "from datetime import date, timedelta\n",
    "\n",
    "def daterange(start_date, end_date):\n",
    "    for n in range(int((end_date - start_date).days)):\n",
    "        yield start_date + timedelta(n)"
   ]
  },
  {
   "cell_type": "code",
   "execution_count": 188,
   "metadata": {},
   "outputs": [],
   "source": [
    "def get_paths_from_graph(df, cutoff_=5):\n",
    "    \n",
    "    G = nx.from_pandas_edgelist(df, 'source', 'target', ['weight'], create_using=nx.DiGraph())\n",
    "\n",
    "    roots = []\n",
    "    leaves = []\n",
    "    for node in G.nodes:\n",
    "        if G.in_degree(node) == 0 : # it's a root\n",
    "            roots.append(node)\n",
    "        elif G.out_degree(node) == 0 : # it's a leaf\n",
    "                leaves.append(node)\n",
    "    \n",
    "    paths = []\n",
    "    for root in roots :\n",
    "        for leaf in leaves :\n",
    "            for path in nx.all_simple_paths(G, root, leaf, cutoff= cutoff_):\n",
    "                paths.append(path)\n",
    "\n",
    "    return paths"
   ]
  },
  {
   "cell_type": "markdown",
   "metadata": {},
   "source": [
    "### Generate sequences from graph"
   ]
  },
  {
   "cell_type": "code",
   "execution_count": 189,
   "metadata": {},
   "outputs": [],
   "source": [
    "def compute_weight_fn(target_country, song_ranking_, init_day, d_curr, week_diff, weight_coeff_):\n",
    "    \n",
    "    country_values = []\n",
    "    #weights = []  \n",
    "    for d_target in daterange(init_day, d_curr+timedelta(1)):\n",
    "        rank =song_ranking_[(song_ranking_['Region_code']==target_country) & \n",
    "                                    (song_ranking_['Date']==d_target)]['Position']\n",
    "        if not rank.empty:\n",
    "            rank_value = rank.values[0]\n",
    "\n",
    "            diff_ = (d_target-d_curr).days\n",
    "            weight = math.exp((diff_/weight_coeff_))\n",
    "\n",
    "            value_ = weight * (float(rank_value)**-1)\n",
    "            country_values.append(value_)\n",
    "                \n",
    "    link_value = ((float(week_diff)**-1) * sum(country_values))\n",
    "        \n",
    "    return link_value\n",
    "\n",
    "def compute_ranking_weight_fn(target_country, song_ranking_, init_day, d_curr):\n",
    "    country_values = []\n",
    "    rank_lst = []  \n",
    "    for d_target in daterange(init_day, d_curr+timedelta(1)):\n",
    "        rank =song_ranking_[(song_ranking_['Region_code']==target_country) & \n",
    "                                    (song_ranking_['Date']==d_target)]['Position']\n",
    "        if not rank.empty:\n",
    "            rank_value = rank.values[0]\n",
    "            rank_lst.append(rank_value)\n",
    "            \n",
    "    rank_series = pd.Series(rank_lst)\n",
    "    return rank_series.ewm(alpha=0.1, adjust=False).mean().mean()"
   ]
  },
  {
   "cell_type": "code",
   "execution_count": 190,
   "metadata": {},
   "outputs": [],
   "source": [
    "def generate_sequences_fn(min_link_val, n_day_lags_):\n",
    "    \n",
    "    all_paths= []\n",
    "    all_paths_dates_= {}\n",
    "    weight_coeff_= int(n_day_lags_/2)\n",
    "\n",
    "    for s in tqdm(ranking_df['song_id'].unique()):\n",
    "         #print('-------------',s)\n",
    "\n",
    "        country_songs = set()\n",
    "        all_countries = set()\n",
    "        prev_origins = set()\n",
    "\n",
    "        song_ranking= ranking_df[ranking_df['song_id']==s]\n",
    "        dates=song_ranking.groupby('Region_code')['Date'].min().to_frame()\n",
    "        dates_sort=dates.sort_values('Date')\n",
    "        dates_sort= dates_sort.reset_index().set_index('Date')\n",
    "\n",
    "        dates_lst=dates_sort.index.unique()\n",
    "\n",
    "        src_lst = []\n",
    "        target_lst = []\n",
    "        weight_lst = []\n",
    "\n",
    "        num_countries_at_d = -1\n",
    "\n",
    "        for d in dates_lst:\n",
    "\n",
    "            countries_at_d = set(song_ranking[song_ranking['Date']==d]['Region_code'].unique())\n",
    "\n",
    "            num_countries_at_d = len(countries_at_d)\n",
    "\n",
    "            # We only use as origins countries that have not act as origin so far.\n",
    "            o_countries = list((country_songs.intersection(countries_at_d))-prev_origins)\n",
    "            d_countries = countries_at_d-country_songs\n",
    "\n",
    "            #print(f'date: {d.strftime(\"%d-%m-%Y\")}')\n",
    "\n",
    "            link_values =[]\n",
    "            for oc in o_countries:\n",
    "                init_week = song_ranking[song_ranking['Region_code']==oc]['week_of_study'].min()\n",
    "                init_date = song_ranking[song_ranking['Region_code']==oc]['Date'].min()\n",
    "\n",
    "                curr_week = song_ranking[(song_ranking['Region_code']==oc) & \n",
    "                                         (song_ranking['Date']==d)]['week_of_study'].values[0]\n",
    "\n",
    "                week_diff = (curr_week-init_week)+1\n",
    "\n",
    "                init_day = d - timedelta(n_day_lags_)\n",
    "\n",
    "                days_diff = (d-init_date).days\n",
    "                if  days_diff < n_day_lags_:\n",
    "                    init_day = d - timedelta(days_diff)\n",
    "\n",
    "                #link_value = compute_ranking_weight_fn(oc, song_ranking, init_day, d)\n",
    "                \n",
    "                link_value= compute_weight_fn(oc, \n",
    "                                               song_ranking, \n",
    "                                               init_day, \n",
    "                                               d, \n",
    "                                               week_diff, \n",
    "                                               weight_coeff_)\n",
    "                \n",
    "                if link_value >= min_link_val:\n",
    "                    for dc in d_countries:\n",
    "                        if dc not in all_countries:\n",
    "                            src_lst.append(oc)\n",
    "                            target_lst.append(dc)\n",
    "                            weight_lst.append(link_value)\n",
    "\n",
    "\n",
    "            country_songs = countries_at_d\n",
    "            all_countries = all_countries.union(countries_at_d)\n",
    "            prev_origins = prev_origins.union(o_countries)\n",
    "\n",
    "            graph_df= pd.DataFrame({\"source\": src_lst, \"target\": target_lst, 'weight': weight_lst}) \n",
    "            #if not graph_df.empty:\n",
    "            #    print(graph_df)\n",
    "            song_paths =  get_paths_from_graph(graph_df, cutoff_=5)\n",
    "            \n",
    " \n",
    "            if len(song_paths)>0:\n",
    "                song_path_lst = []\n",
    "                for p in song_paths:\n",
    "                    song_path_lst.append(p)\n",
    "\n",
    "                date_paths = all_paths_dates_.get(d,{})\n",
    "                date_paths[s] = song_path_lst\n",
    "                all_paths_dates_[d] = date_paths\n",
    "\n",
    "        graph_df= pd.DataFrame({\"source\": src_lst, \"target\": target_lst, 'weight': weight_lst})\n",
    "\n",
    "        song_paths =  get_paths_from_graph(graph_df, cutoff_=5)\n",
    "        for p in song_paths:\n",
    "            all_paths.append(p)\n",
    "        #print(all_paths)\n",
    "    return all_paths_dates_, all_paths"
   ]
  },
  {
   "cell_type": "code",
   "execution_count": 191,
   "metadata": {
    "scrolled": true
   },
   "outputs": [
    {
     "name": "stdout",
     "output_type": "stream",
     "text": [
      "------------\n",
      "Weight threshold: 0.16\n"
     ]
    },
    {
     "data": {
      "application/vnd.jupyter.widget-view+json": {
       "model_id": "dc07e733fe81414896019de11c5bdcab",
       "version_major": 2,
       "version_minor": 0
      },
      "text/plain": [
       "  0%|          | 0/8467 [00:00<?, ?it/s]"
      ]
     },
     "metadata": {},
     "output_type": "display_data"
    },
    {
     "name": "stdout",
     "output_type": "stream",
     "text": [
      "The total number of extracted sequences is : 1818\n",
      "The total number of songs is : 697 (0.082)\n",
      "The total number of dates is : 652\n",
      "The cutoff date for training is 2021-05-22 00:00:00\n",
      "The number of training sequences is 1457\n"
     ]
    },
    {
     "data": {
      "application/vnd.jupyter.widget-view+json": {
       "model_id": "",
       "version_major": 2,
       "version_minor": 0
      },
      "text/plain": [
       "Test dates: 0it [00:00, ?it/s]"
      ]
     },
     "metadata": {},
     "output_type": "display_data"
    },
    {
     "data": {
      "application/vnd.jupyter.widget-view+json": {
       "model_id": "",
       "version_major": 2,
       "version_minor": 0
      },
      "text/plain": [
       "Songs for date 2021-05-22 00:00:00:   0%|          | 0/3 [00:00<?, ?it/s]"
      ]
     },
     "metadata": {},
     "output_type": "display_data"
    },
    {
     "name": "stderr",
     "output_type": "stream",
     "text": [
      "/home/fterroso/.local/lib/python3.8/site-packages/numpy/core/fromnumeric.py:3372: RuntimeWarning: Mean of empty slice.\n",
      "  return _methods._mean(a, axis=axis, dtype=dtype,\n",
      "/home/fterroso/.local/lib/python3.8/site-packages/numpy/core/_methods.py:170: RuntimeWarning: invalid value encountered in double_scalars\n",
      "  ret = ret.dtype.type(ret / rcount)\n"
     ]
    },
    {
     "data": {
      "application/vnd.jupyter.widget-view+json": {
       "model_id": "",
       "version_major": 2,
       "version_minor": 0
      },
      "text/plain": [
       "Songs for date 2021-05-23 00:00:00:   0%|          | 0/4 [00:00<?, ?it/s]"
      ]
     },
     "metadata": {},
     "output_type": "display_data"
    },
    {
     "data": {
      "application/vnd.jupyter.widget-view+json": {
       "model_id": "",
       "version_major": 2,
       "version_minor": 0
      },
      "text/plain": [
       "Songs for date 2021-05-28 00:00:00:   0%|          | 0/3 [00:00<?, ?it/s]"
      ]
     },
     "metadata": {},
     "output_type": "display_data"
    },
    {
     "data": {
      "application/vnd.jupyter.widget-view+json": {
       "model_id": "",
       "version_major": 2,
       "version_minor": 0
      },
      "text/plain": [
       "Songs for date 2021-06-02 00:00:00:   0%|          | 0/1 [00:00<?, ?it/s]"
      ]
     },
     "metadata": {},
     "output_type": "display_data"
    },
    {
     "data": {
      "application/vnd.jupyter.widget-view+json": {
       "model_id": "",
       "version_major": 2,
       "version_minor": 0
      },
      "text/plain": [
       "Songs for date 2021-06-04 00:00:00:   0%|          | 0/2 [00:00<?, ?it/s]"
      ]
     },
     "metadata": {},
     "output_type": "display_data"
    },
    {
     "data": {
      "application/vnd.jupyter.widget-view+json": {
       "model_id": "",
       "version_major": 2,
       "version_minor": 0
      },
      "text/plain": [
       "Songs for date 2021-06-07 00:00:00:   0%|          | 0/5 [00:00<?, ?it/s]"
      ]
     },
     "metadata": {},
     "output_type": "display_data"
    },
    {
     "data": {
      "application/vnd.jupyter.widget-view+json": {
       "model_id": "",
       "version_major": 2,
       "version_minor": 0
      },
      "text/plain": [
       "Songs for date 2021-06-10 00:00:00:   0%|          | 0/1 [00:00<?, ?it/s]"
      ]
     },
     "metadata": {},
     "output_type": "display_data"
    },
    {
     "data": {
      "application/vnd.jupyter.widget-view+json": {
       "model_id": "",
       "version_major": 2,
       "version_minor": 0
      },
      "text/plain": [
       "Songs for date 2021-06-11 00:00:00:   0%|          | 0/1 [00:00<?, ?it/s]"
      ]
     },
     "metadata": {},
     "output_type": "display_data"
    },
    {
     "data": {
      "application/vnd.jupyter.widget-view+json": {
       "model_id": "",
       "version_major": 2,
       "version_minor": 0
      },
      "text/plain": [
       "Songs for date 2021-06-17 00:00:00:   0%|          | 0/1 [00:00<?, ?it/s]"
      ]
     },
     "metadata": {},
     "output_type": "display_data"
    },
    {
     "data": {
      "application/vnd.jupyter.widget-view+json": {
       "model_id": "",
       "version_major": 2,
       "version_minor": 0
      },
      "text/plain": [
       "Songs for date 2021-06-18 00:00:00:   0%|          | 0/2 [00:00<?, ?it/s]"
      ]
     },
     "metadata": {},
     "output_type": "display_data"
    },
    {
     "data": {
      "application/vnd.jupyter.widget-view+json": {
       "model_id": "",
       "version_major": 2,
       "version_minor": 0
      },
      "text/plain": [
       "Songs for date 2021-06-23 00:00:00:   0%|          | 0/1 [00:00<?, ?it/s]"
      ]
     },
     "metadata": {},
     "output_type": "display_data"
    },
    {
     "data": {
      "application/vnd.jupyter.widget-view+json": {
       "model_id": "",
       "version_major": 2,
       "version_minor": 0
      },
      "text/plain": [
       "Songs for date 2021-06-25 00:00:00:   0%|          | 0/2 [00:00<?, ?it/s]"
      ]
     },
     "metadata": {},
     "output_type": "display_data"
    },
    {
     "data": {
      "application/vnd.jupyter.widget-view+json": {
       "model_id": "",
       "version_major": 2,
       "version_minor": 0
      },
      "text/plain": [
       "Songs for date 2021-07-01 00:00:00:   0%|          | 0/1 [00:00<?, ?it/s]"
      ]
     },
     "metadata": {},
     "output_type": "display_data"
    },
    {
     "data": {
      "application/vnd.jupyter.widget-view+json": {
       "model_id": "",
       "version_major": 2,
       "version_minor": 0
      },
      "text/plain": [
       "Songs for date 2021-07-04 00:00:00:   0%|          | 0/1 [00:00<?, ?it/s]"
      ]
     },
     "metadata": {},
     "output_type": "display_data"
    },
    {
     "data": {
      "application/vnd.jupyter.widget-view+json": {
       "model_id": "",
       "version_major": 2,
       "version_minor": 0
      },
      "text/plain": [
       "Songs for date 2021-07-05 00:00:00:   0%|          | 0/2 [00:00<?, ?it/s]"
      ]
     },
     "metadata": {},
     "output_type": "display_data"
    },
    {
     "data": {
      "application/vnd.jupyter.widget-view+json": {
       "model_id": "",
       "version_major": 2,
       "version_minor": 0
      },
      "text/plain": [
       "Songs for date 2021-07-06 00:00:00:   0%|          | 0/2 [00:00<?, ?it/s]"
      ]
     },
     "metadata": {},
     "output_type": "display_data"
    },
    {
     "data": {
      "application/vnd.jupyter.widget-view+json": {
       "model_id": "",
       "version_major": 2,
       "version_minor": 0
      },
      "text/plain": [
       "Songs for date 2021-07-07 00:00:00:   0%|          | 0/1 [00:00<?, ?it/s]"
      ]
     },
     "metadata": {},
     "output_type": "display_data"
    },
    {
     "data": {
      "application/vnd.jupyter.widget-view+json": {
       "model_id": "",
       "version_major": 2,
       "version_minor": 0
      },
      "text/plain": [
       "Songs for date 2021-07-09 00:00:00:   0%|          | 0/1 [00:00<?, ?it/s]"
      ]
     },
     "metadata": {},
     "output_type": "display_data"
    },
    {
     "data": {
      "application/vnd.jupyter.widget-view+json": {
       "model_id": "",
       "version_major": 2,
       "version_minor": 0
      },
      "text/plain": [
       "Songs for date 2021-07-11 00:00:00:   0%|          | 0/1 [00:00<?, ?it/s]"
      ]
     },
     "metadata": {},
     "output_type": "display_data"
    },
    {
     "data": {
      "application/vnd.jupyter.widget-view+json": {
       "model_id": "",
       "version_major": 2,
       "version_minor": 0
      },
      "text/plain": [
       "Songs for date 2021-07-12 00:00:00:   0%|          | 0/1 [00:00<?, ?it/s]"
      ]
     },
     "metadata": {},
     "output_type": "display_data"
    },
    {
     "data": {
      "application/vnd.jupyter.widget-view+json": {
       "model_id": "",
       "version_major": 2,
       "version_minor": 0
      },
      "text/plain": [
       "Songs for date 2021-07-13 00:00:00:   0%|          | 0/1 [00:00<?, ?it/s]"
      ]
     },
     "metadata": {},
     "output_type": "display_data"
    },
    {
     "data": {
      "application/vnd.jupyter.widget-view+json": {
       "model_id": "",
       "version_major": 2,
       "version_minor": 0
      },
      "text/plain": [
       "Songs for date 2021-07-14 00:00:00:   0%|          | 0/1 [00:00<?, ?it/s]"
      ]
     },
     "metadata": {},
     "output_type": "display_data"
    },
    {
     "data": {
      "application/vnd.jupyter.widget-view+json": {
       "model_id": "",
       "version_major": 2,
       "version_minor": 0
      },
      "text/plain": [
       "Songs for date 2021-07-16 00:00:00:   0%|          | 0/4 [00:00<?, ?it/s]"
      ]
     },
     "metadata": {},
     "output_type": "display_data"
    },
    {
     "data": {
      "application/vnd.jupyter.widget-view+json": {
       "model_id": "",
       "version_major": 2,
       "version_minor": 0
      },
      "text/plain": [
       "Songs for date 2021-07-17 00:00:00:   0%|          | 0/1 [00:00<?, ?it/s]"
      ]
     },
     "metadata": {},
     "output_type": "display_data"
    },
    {
     "data": {
      "application/vnd.jupyter.widget-view+json": {
       "model_id": "",
       "version_major": 2,
       "version_minor": 0
      },
      "text/plain": [
       "Songs for date 2021-07-19 00:00:00:   0%|          | 0/1 [00:00<?, ?it/s]"
      ]
     },
     "metadata": {},
     "output_type": "display_data"
    },
    {
     "data": {
      "application/vnd.jupyter.widget-view+json": {
       "model_id": "",
       "version_major": 2,
       "version_minor": 0
      },
      "text/plain": [
       "Songs for date 2021-07-20 00:00:00:   0%|          | 0/1 [00:00<?, ?it/s]"
      ]
     },
     "metadata": {},
     "output_type": "display_data"
    },
    {
     "data": {
      "application/vnd.jupyter.widget-view+json": {
       "model_id": "",
       "version_major": 2,
       "version_minor": 0
      },
      "text/plain": [
       "Songs for date 2021-07-23 00:00:00:   0%|          | 0/2 [00:00<?, ?it/s]"
      ]
     },
     "metadata": {},
     "output_type": "display_data"
    },
    {
     "data": {
      "application/vnd.jupyter.widget-view+json": {
       "model_id": "",
       "version_major": 2,
       "version_minor": 0
      },
      "text/plain": [
       "Songs for date 2021-07-25 00:00:00:   0%|          | 0/1 [00:00<?, ?it/s]"
      ]
     },
     "metadata": {},
     "output_type": "display_data"
    },
    {
     "data": {
      "application/vnd.jupyter.widget-view+json": {
       "model_id": "",
       "version_major": 2,
       "version_minor": 0
      },
      "text/plain": [
       "Songs for date 2021-07-26 00:00:00:   0%|          | 0/1 [00:00<?, ?it/s]"
      ]
     },
     "metadata": {},
     "output_type": "display_data"
    },
    {
     "data": {
      "application/vnd.jupyter.widget-view+json": {
       "model_id": "",
       "version_major": 2,
       "version_minor": 0
      },
      "text/plain": [
       "Songs for date 2021-07-29 00:00:00:   0%|          | 0/2 [00:00<?, ?it/s]"
      ]
     },
     "metadata": {},
     "output_type": "display_data"
    },
    {
     "data": {
      "application/vnd.jupyter.widget-view+json": {
       "model_id": "",
       "version_major": 2,
       "version_minor": 0
      },
      "text/plain": [
       "Songs for date 2021-07-30 00:00:00:   0%|          | 0/3 [00:00<?, ?it/s]"
      ]
     },
     "metadata": {},
     "output_type": "display_data"
    },
    {
     "data": {
      "application/vnd.jupyter.widget-view+json": {
       "model_id": "",
       "version_major": 2,
       "version_minor": 0
      },
      "text/plain": [
       "Songs for date 2021-08-02 00:00:00:   0%|          | 0/1 [00:00<?, ?it/s]"
      ]
     },
     "metadata": {},
     "output_type": "display_data"
    },
    {
     "data": {
      "application/vnd.jupyter.widget-view+json": {
       "model_id": "",
       "version_major": 2,
       "version_minor": 0
      },
      "text/plain": [
       "Songs for date 2021-08-04 00:00:00:   0%|          | 0/1 [00:00<?, ?it/s]"
      ]
     },
     "metadata": {},
     "output_type": "display_data"
    },
    {
     "data": {
      "application/vnd.jupyter.widget-view+json": {
       "model_id": "",
       "version_major": 2,
       "version_minor": 0
      },
      "text/plain": [
       "Songs for date 2021-08-07 00:00:00:   0%|          | 0/1 [00:00<?, ?it/s]"
      ]
     },
     "metadata": {},
     "output_type": "display_data"
    },
    {
     "data": {
      "application/vnd.jupyter.widget-view+json": {
       "model_id": "",
       "version_major": 2,
       "version_minor": 0
      },
      "text/plain": [
       "Songs for date 2021-08-08 00:00:00:   0%|          | 0/1 [00:00<?, ?it/s]"
      ]
     },
     "metadata": {},
     "output_type": "display_data"
    },
    {
     "data": {
      "application/vnd.jupyter.widget-view+json": {
       "model_id": "",
       "version_major": 2,
       "version_minor": 0
      },
      "text/plain": [
       "Songs for date 2021-08-11 00:00:00:   0%|          | 0/1 [00:00<?, ?it/s]"
      ]
     },
     "metadata": {},
     "output_type": "display_data"
    },
    {
     "data": {
      "application/vnd.jupyter.widget-view+json": {
       "model_id": "",
       "version_major": 2,
       "version_minor": 0
      },
      "text/plain": [
       "Songs for date 2021-08-13 00:00:00:   0%|          | 0/2 [00:00<?, ?it/s]"
      ]
     },
     "metadata": {},
     "output_type": "display_data"
    },
    {
     "data": {
      "application/vnd.jupyter.widget-view+json": {
       "model_id": "",
       "version_major": 2,
       "version_minor": 0
      },
      "text/plain": [
       "Songs for date 2021-08-15 00:00:00:   0%|          | 0/1 [00:00<?, ?it/s]"
      ]
     },
     "metadata": {},
     "output_type": "display_data"
    },
    {
     "data": {
      "application/vnd.jupyter.widget-view+json": {
       "model_id": "",
       "version_major": 2,
       "version_minor": 0
      },
      "text/plain": [
       "Songs for date 2021-08-16 00:00:00:   0%|          | 0/1 [00:00<?, ?it/s]"
      ]
     },
     "metadata": {},
     "output_type": "display_data"
    },
    {
     "data": {
      "application/vnd.jupyter.widget-view+json": {
       "model_id": "",
       "version_major": 2,
       "version_minor": 0
      },
      "text/plain": [
       "Songs for date 2021-08-17 00:00:00:   0%|          | 0/2 [00:00<?, ?it/s]"
      ]
     },
     "metadata": {},
     "output_type": "display_data"
    },
    {
     "data": {
      "application/vnd.jupyter.widget-view+json": {
       "model_id": "",
       "version_major": 2,
       "version_minor": 0
      },
      "text/plain": [
       "Songs for date 2021-08-19 00:00:00:   0%|          | 0/1 [00:00<?, ?it/s]"
      ]
     },
     "metadata": {},
     "output_type": "display_data"
    },
    {
     "data": {
      "application/vnd.jupyter.widget-view+json": {
       "model_id": "",
       "version_major": 2,
       "version_minor": 0
      },
      "text/plain": [
       "Songs for date 2021-08-22 00:00:00:   0%|          | 0/1 [00:00<?, ?it/s]"
      ]
     },
     "metadata": {},
     "output_type": "display_data"
    },
    {
     "data": {
      "application/vnd.jupyter.widget-view+json": {
       "model_id": "",
       "version_major": 2,
       "version_minor": 0
      },
      "text/plain": [
       "Songs for date 2021-08-27 00:00:00:   0%|          | 0/1 [00:00<?, ?it/s]"
      ]
     },
     "metadata": {},
     "output_type": "display_data"
    },
    {
     "data": {
      "application/vnd.jupyter.widget-view+json": {
       "model_id": "",
       "version_major": 2,
       "version_minor": 0
      },
      "text/plain": [
       "Songs for date 2021-08-28 00:00:00:   0%|          | 0/1 [00:00<?, ?it/s]"
      ]
     },
     "metadata": {},
     "output_type": "display_data"
    },
    {
     "data": {
      "application/vnd.jupyter.widget-view+json": {
       "model_id": "",
       "version_major": 2,
       "version_minor": 0
      },
      "text/plain": [
       "Songs for date 2021-09-01 00:00:00:   0%|          | 0/5 [00:00<?, ?it/s]"
      ]
     },
     "metadata": {},
     "output_type": "display_data"
    },
    {
     "data": {
      "application/vnd.jupyter.widget-view+json": {
       "model_id": "",
       "version_major": 2,
       "version_minor": 0
      },
      "text/plain": [
       "Songs for date 2021-09-03 00:00:00:   0%|          | 0/1 [00:00<?, ?it/s]"
      ]
     },
     "metadata": {},
     "output_type": "display_data"
    },
    {
     "data": {
      "application/vnd.jupyter.widget-view+json": {
       "model_id": "",
       "version_major": 2,
       "version_minor": 0
      },
      "text/plain": [
       "Songs for date 2021-09-10 00:00:00:   0%|          | 0/2 [00:00<?, ?it/s]"
      ]
     },
     "metadata": {},
     "output_type": "display_data"
    },
    {
     "data": {
      "application/vnd.jupyter.widget-view+json": {
       "model_id": "",
       "version_major": 2,
       "version_minor": 0
      },
      "text/plain": [
       "Songs for date 2021-09-17 00:00:00:   0%|          | 0/1 [00:00<?, ?it/s]"
      ]
     },
     "metadata": {},
     "output_type": "display_data"
    },
    {
     "data": {
      "application/vnd.jupyter.widget-view+json": {
       "model_id": "",
       "version_major": 2,
       "version_minor": 0
      },
      "text/plain": [
       "Songs for date 2021-09-19 00:00:00:   0%|          | 0/1 [00:00<?, ?it/s]"
      ]
     },
     "metadata": {},
     "output_type": "display_data"
    },
    {
     "data": {
      "application/vnd.jupyter.widget-view+json": {
       "model_id": "",
       "version_major": 2,
       "version_minor": 0
      },
      "text/plain": [
       "Songs for date 2021-09-23 00:00:00:   0%|          | 0/1 [00:00<?, ?it/s]"
      ]
     },
     "metadata": {},
     "output_type": "display_data"
    },
    {
     "data": {
      "application/vnd.jupyter.widget-view+json": {
       "model_id": "",
       "version_major": 2,
       "version_minor": 0
      },
      "text/plain": [
       "Songs for date 2021-09-24 00:00:00:   0%|          | 0/1 [00:00<?, ?it/s]"
      ]
     },
     "metadata": {},
     "output_type": "display_data"
    },
    {
     "data": {
      "application/vnd.jupyter.widget-view+json": {
       "model_id": "",
       "version_major": 2,
       "version_minor": 0
      },
      "text/plain": [
       "Songs for date 2021-09-26 00:00:00:   0%|          | 0/1 [00:00<?, ?it/s]"
      ]
     },
     "metadata": {},
     "output_type": "display_data"
    },
    {
     "data": {
      "application/vnd.jupyter.widget-view+json": {
       "model_id": "",
       "version_major": 2,
       "version_minor": 0
      },
      "text/plain": [
       "Songs for date 2021-10-01 00:00:00:   0%|          | 0/1 [00:00<?, ?it/s]"
      ]
     },
     "metadata": {},
     "output_type": "display_data"
    },
    {
     "data": {
      "application/vnd.jupyter.widget-view+json": {
       "model_id": "",
       "version_major": 2,
       "version_minor": 0
      },
      "text/plain": [
       "Songs for date 2021-10-03 00:00:00:   0%|          | 0/1 [00:00<?, ?it/s]"
      ]
     },
     "metadata": {},
     "output_type": "display_data"
    },
    {
     "data": {
      "application/vnd.jupyter.widget-view+json": {
       "model_id": "",
       "version_major": 2,
       "version_minor": 0
      },
      "text/plain": [
       "Songs for date 2021-10-06 00:00:00:   0%|          | 0/1 [00:00<?, ?it/s]"
      ]
     },
     "metadata": {},
     "output_type": "display_data"
    },
    {
     "data": {
      "application/vnd.jupyter.widget-view+json": {
       "model_id": "",
       "version_major": 2,
       "version_minor": 0
      },
      "text/plain": [
       "Songs for date 2021-10-07 00:00:00:   0%|          | 0/1 [00:00<?, ?it/s]"
      ]
     },
     "metadata": {},
     "output_type": "display_data"
    },
    {
     "data": {
      "application/vnd.jupyter.widget-view+json": {
       "model_id": "",
       "version_major": 2,
       "version_minor": 0
      },
      "text/plain": [
       "Songs for date 2021-10-08 00:00:00:   0%|          | 0/1 [00:00<?, ?it/s]"
      ]
     },
     "metadata": {},
     "output_type": "display_data"
    },
    {
     "data": {
      "application/vnd.jupyter.widget-view+json": {
       "model_id": "",
       "version_major": 2,
       "version_minor": 0
      },
      "text/plain": [
       "Songs for date 2021-10-09 00:00:00:   0%|          | 0/1 [00:00<?, ?it/s]"
      ]
     },
     "metadata": {},
     "output_type": "display_data"
    },
    {
     "data": {
      "application/vnd.jupyter.widget-view+json": {
       "model_id": "",
       "version_major": 2,
       "version_minor": 0
      },
      "text/plain": [
       "Songs for date 2021-10-11 00:00:00:   0%|          | 0/1 [00:00<?, ?it/s]"
      ]
     },
     "metadata": {},
     "output_type": "display_data"
    },
    {
     "data": {
      "application/vnd.jupyter.widget-view+json": {
       "model_id": "",
       "version_major": 2,
       "version_minor": 0
      },
      "text/plain": [
       "Songs for date 2021-10-13 00:00:00:   0%|          | 0/1 [00:00<?, ?it/s]"
      ]
     },
     "metadata": {},
     "output_type": "display_data"
    },
    {
     "data": {
      "application/vnd.jupyter.widget-view+json": {
       "model_id": "",
       "version_major": 2,
       "version_minor": 0
      },
      "text/plain": [
       "Songs for date 2021-10-15 00:00:00:   0%|          | 0/2 [00:00<?, ?it/s]"
      ]
     },
     "metadata": {},
     "output_type": "display_data"
    },
    {
     "data": {
      "application/vnd.jupyter.widget-view+json": {
       "model_id": "",
       "version_major": 2,
       "version_minor": 0
      },
      "text/plain": [
       "Songs for date 2021-10-21 00:00:00:   0%|          | 0/1 [00:00<?, ?it/s]"
      ]
     },
     "metadata": {},
     "output_type": "display_data"
    },
    {
     "data": {
      "application/vnd.jupyter.widget-view+json": {
       "model_id": "",
       "version_major": 2,
       "version_minor": 0
      },
      "text/plain": [
       "Songs for date 2021-10-22 00:00:00:   0%|          | 0/2 [00:00<?, ?it/s]"
      ]
     },
     "metadata": {},
     "output_type": "display_data"
    },
    {
     "data": {
      "application/vnd.jupyter.widget-view+json": {
       "model_id": "",
       "version_major": 2,
       "version_minor": 0
      },
      "text/plain": [
       "Songs for date 2021-10-31 00:00:00:   0%|          | 0/1 [00:00<?, ?it/s]"
      ]
     },
     "metadata": {},
     "output_type": "display_data"
    },
    {
     "data": {
      "application/vnd.jupyter.widget-view+json": {
       "model_id": "",
       "version_major": 2,
       "version_minor": 0
      },
      "text/plain": [
       "Songs for date 2021-11-01 00:00:00:   0%|          | 0/1 [00:00<?, ?it/s]"
      ]
     },
     "metadata": {},
     "output_type": "display_data"
    },
    {
     "data": {
      "application/vnd.jupyter.widget-view+json": {
       "model_id": "",
       "version_major": 2,
       "version_minor": 0
      },
      "text/plain": [
       "Songs for date 2021-11-02 00:00:00:   0%|          | 0/1 [00:00<?, ?it/s]"
      ]
     },
     "metadata": {},
     "output_type": "display_data"
    },
    {
     "data": {
      "application/vnd.jupyter.widget-view+json": {
       "model_id": "",
       "version_major": 2,
       "version_minor": 0
      },
      "text/plain": [
       "Songs for date 2021-11-04 00:00:00:   0%|          | 0/1 [00:00<?, ?it/s]"
      ]
     },
     "metadata": {},
     "output_type": "display_data"
    },
    {
     "data": {
      "application/vnd.jupyter.widget-view+json": {
       "model_id": "",
       "version_major": 2,
       "version_minor": 0
      },
      "text/plain": [
       "Songs for date 2021-11-05 00:00:00:   0%|          | 0/3 [00:00<?, ?it/s]"
      ]
     },
     "metadata": {},
     "output_type": "display_data"
    },
    {
     "data": {
      "application/vnd.jupyter.widget-view+json": {
       "model_id": "",
       "version_major": 2,
       "version_minor": 0
      },
      "text/plain": [
       "Songs for date 2021-11-06 00:00:00:   0%|          | 0/3 [00:00<?, ?it/s]"
      ]
     },
     "metadata": {},
     "output_type": "display_data"
    },
    {
     "data": {
      "application/vnd.jupyter.widget-view+json": {
       "model_id": "",
       "version_major": 2,
       "version_minor": 0
      },
      "text/plain": [
       "Songs for date 2021-11-08 00:00:00:   0%|          | 0/1 [00:00<?, ?it/s]"
      ]
     },
     "metadata": {},
     "output_type": "display_data"
    },
    {
     "data": {
      "application/vnd.jupyter.widget-view+json": {
       "model_id": "",
       "version_major": 2,
       "version_minor": 0
      },
      "text/plain": [
       "Songs for date 2021-11-09 00:00:00:   0%|          | 0/1 [00:00<?, ?it/s]"
      ]
     },
     "metadata": {},
     "output_type": "display_data"
    },
    {
     "data": {
      "application/vnd.jupyter.widget-view+json": {
       "model_id": "",
       "version_major": 2,
       "version_minor": 0
      },
      "text/plain": [
       "Songs for date 2021-11-10 00:00:00:   0%|          | 0/1 [00:00<?, ?it/s]"
      ]
     },
     "metadata": {},
     "output_type": "display_data"
    },
    {
     "data": {
      "application/vnd.jupyter.widget-view+json": {
       "model_id": "",
       "version_major": 2,
       "version_minor": 0
      },
      "text/plain": [
       "Songs for date 2021-11-13 00:00:00:   0%|          | 0/1 [00:00<?, ?it/s]"
      ]
     },
     "metadata": {},
     "output_type": "display_data"
    },
    {
     "data": {
      "application/vnd.jupyter.widget-view+json": {
       "model_id": "",
       "version_major": 2,
       "version_minor": 0
      },
      "text/plain": [
       "Songs for date 2021-11-15 00:00:00:   0%|          | 0/1 [00:00<?, ?it/s]"
      ]
     },
     "metadata": {},
     "output_type": "display_data"
    },
    {
     "data": {
      "application/vnd.jupyter.widget-view+json": {
       "model_id": "",
       "version_major": 2,
       "version_minor": 0
      },
      "text/plain": [
       "Songs for date 2021-11-16 00:00:00:   0%|          | 0/2 [00:00<?, ?it/s]"
      ]
     },
     "metadata": {},
     "output_type": "display_data"
    },
    {
     "data": {
      "application/vnd.jupyter.widget-view+json": {
       "model_id": "",
       "version_major": 2,
       "version_minor": 0
      },
      "text/plain": [
       "Songs for date 2021-11-18 00:00:00:   0%|          | 0/4 [00:00<?, ?it/s]"
      ]
     },
     "metadata": {},
     "output_type": "display_data"
    },
    {
     "data": {
      "application/vnd.jupyter.widget-view+json": {
       "model_id": "",
       "version_major": 2,
       "version_minor": 0
      },
      "text/plain": [
       "Songs for date 2021-11-19 00:00:00:   0%|          | 0/1 [00:00<?, ?it/s]"
      ]
     },
     "metadata": {},
     "output_type": "display_data"
    },
    {
     "data": {
      "application/vnd.jupyter.widget-view+json": {
       "model_id": "",
       "version_major": 2,
       "version_minor": 0
      },
      "text/plain": [
       "Songs for date 2021-11-22 00:00:00:   0%|          | 0/1 [00:00<?, ?it/s]"
      ]
     },
     "metadata": {},
     "output_type": "display_data"
    },
    {
     "data": {
      "application/vnd.jupyter.widget-view+json": {
       "model_id": "",
       "version_major": 2,
       "version_minor": 0
      },
      "text/plain": [
       "Songs for date 2021-11-26 00:00:00:   0%|          | 0/3 [00:00<?, ?it/s]"
      ]
     },
     "metadata": {},
     "output_type": "display_data"
    },
    {
     "data": {
      "application/vnd.jupyter.widget-view+json": {
       "model_id": "",
       "version_major": 2,
       "version_minor": 0
      },
      "text/plain": [
       "Songs for date 2021-11-30 00:00:00:   0%|          | 0/1 [00:00<?, ?it/s]"
      ]
     },
     "metadata": {},
     "output_type": "display_data"
    },
    {
     "data": {
      "application/vnd.jupyter.widget-view+json": {
       "model_id": "",
       "version_major": 2,
       "version_minor": 0
      },
      "text/plain": [
       "Songs for date 2021-12-03 00:00:00:   0%|          | 0/6 [00:00<?, ?it/s]"
      ]
     },
     "metadata": {},
     "output_type": "display_data"
    },
    {
     "data": {
      "application/vnd.jupyter.widget-view+json": {
       "model_id": "",
       "version_major": 2,
       "version_minor": 0
      },
      "text/plain": [
       "Songs for date 2021-12-06 00:00:00:   0%|          | 0/1 [00:00<?, ?it/s]"
      ]
     },
     "metadata": {},
     "output_type": "display_data"
    },
    {
     "data": {
      "application/vnd.jupyter.widget-view+json": {
       "model_id": "",
       "version_major": 2,
       "version_minor": 0
      },
      "text/plain": [
       "Songs for date 2021-12-09 00:00:00:   0%|          | 0/2 [00:00<?, ?it/s]"
      ]
     },
     "metadata": {},
     "output_type": "display_data"
    },
    {
     "data": {
      "application/vnd.jupyter.widget-view+json": {
       "model_id": "",
       "version_major": 2,
       "version_minor": 0
      },
      "text/plain": [
       "Songs for date 2021-12-13 00:00:00:   0%|          | 0/2 [00:00<?, ?it/s]"
      ]
     },
     "metadata": {},
     "output_type": "display_data"
    },
    {
     "data": {
      "application/vnd.jupyter.widget-view+json": {
       "model_id": "",
       "version_major": 2,
       "version_minor": 0
      },
      "text/plain": [
       "Songs for date 2021-12-14 00:00:00:   0%|          | 0/3 [00:00<?, ?it/s]"
      ]
     },
     "metadata": {},
     "output_type": "display_data"
    },
    {
     "data": {
      "application/vnd.jupyter.widget-view+json": {
       "model_id": "",
       "version_major": 2,
       "version_minor": 0
      },
      "text/plain": [
       "Songs for date 2021-12-17 00:00:00:   0%|          | 0/3 [00:00<?, ?it/s]"
      ]
     },
     "metadata": {},
     "output_type": "display_data"
    },
    {
     "data": {
      "application/vnd.jupyter.widget-view+json": {
       "model_id": "",
       "version_major": 2,
       "version_minor": 0
      },
      "text/plain": [
       "Songs for date 2021-12-20 00:00:00:   0%|          | 0/2 [00:00<?, ?it/s]"
      ]
     },
     "metadata": {},
     "output_type": "display_data"
    },
    {
     "data": {
      "application/vnd.jupyter.widget-view+json": {
       "model_id": "",
       "version_major": 2,
       "version_minor": 0
      },
      "text/plain": [
       "Songs for date 2021-12-21 00:00:00:   0%|          | 0/1 [00:00<?, ?it/s]"
      ]
     },
     "metadata": {},
     "output_type": "display_data"
    },
    {
     "data": {
      "application/vnd.jupyter.widget-view+json": {
       "model_id": "",
       "version_major": 2,
       "version_minor": 0
      },
      "text/plain": [
       "Songs for date 2021-12-22 00:00:00:   0%|          | 0/1 [00:00<?, ?it/s]"
      ]
     },
     "metadata": {},
     "output_type": "display_data"
    },
    {
     "data": {
      "application/vnd.jupyter.widget-view+json": {
       "model_id": "",
       "version_major": 2,
       "version_minor": 0
      },
      "text/plain": [
       "Songs for date 2021-12-26 00:00:00:   0%|          | 0/1 [00:00<?, ?it/s]"
      ]
     },
     "metadata": {},
     "output_type": "display_data"
    },
    {
     "data": {
      "application/vnd.jupyter.widget-view+json": {
       "model_id": "",
       "version_major": 2,
       "version_minor": 0
      },
      "text/plain": [
       "Songs for date 2021-12-27 00:00:00:   0%|          | 0/2 [00:00<?, ?it/s]"
      ]
     },
     "metadata": {},
     "output_type": "display_data"
    },
    {
     "data": {
      "application/vnd.jupyter.widget-view+json": {
       "model_id": "",
       "version_major": 2,
       "version_minor": 0
      },
      "text/plain": [
       "Songs for date 2021-12-30 00:00:00:   0%|          | 0/1 [00:00<?, ?it/s]"
      ]
     },
     "metadata": {},
     "output_type": "display_data"
    },
    {
     "data": {
      "application/vnd.jupyter.widget-view+json": {
       "model_id": "",
       "version_major": 2,
       "version_minor": 0
      },
      "text/plain": [
       "Songs for date 2021-12-31 00:00:00:   0%|          | 0/1 [00:00<?, ?it/s]"
      ]
     },
     "metadata": {},
     "output_type": "display_data"
    },
    {
     "data": {
      "application/vnd.jupyter.widget-view+json": {
       "model_id": "",
       "version_major": 2,
       "version_minor": 0
      },
      "text/plain": [
       "Songs for date 2022-01-01 00:00:00:   0%|          | 0/2 [00:00<?, ?it/s]"
      ]
     },
     "metadata": {},
     "output_type": "display_data"
    },
    {
     "data": {
      "application/vnd.jupyter.widget-view+json": {
       "model_id": "",
       "version_major": 2,
       "version_minor": 0
      },
      "text/plain": [
       "Songs for date 2022-01-02 00:00:00:   0%|          | 0/2 [00:00<?, ?it/s]"
      ]
     },
     "metadata": {},
     "output_type": "display_data"
    },
    {
     "data": {
      "application/vnd.jupyter.widget-view+json": {
       "model_id": "",
       "version_major": 2,
       "version_minor": 0
      },
      "text/plain": [
       "Songs for date 2022-01-05 00:00:00:   0%|          | 0/1 [00:00<?, ?it/s]"
      ]
     },
     "metadata": {},
     "output_type": "display_data"
    },
    {
     "data": {
      "application/vnd.jupyter.widget-view+json": {
       "model_id": "",
       "version_major": 2,
       "version_minor": 0
      },
      "text/plain": [
       "Songs for date 2022-01-06 00:00:00:   0%|          | 0/1 [00:00<?, ?it/s]"
      ]
     },
     "metadata": {},
     "output_type": "display_data"
    },
    {
     "data": {
      "application/vnd.jupyter.widget-view+json": {
       "model_id": "",
       "version_major": 2,
       "version_minor": 0
      },
      "text/plain": [
       "Songs for date 2022-01-10 00:00:00:   0%|          | 0/2 [00:00<?, ?it/s]"
      ]
     },
     "metadata": {},
     "output_type": "display_data"
    },
    {
     "data": {
      "application/vnd.jupyter.widget-view+json": {
       "model_id": "",
       "version_major": 2,
       "version_minor": 0
      },
      "text/plain": [
       "Songs for date 2022-01-11 00:00:00:   0%|          | 0/2 [00:00<?, ?it/s]"
      ]
     },
     "metadata": {},
     "output_type": "display_data"
    },
    {
     "data": {
      "application/vnd.jupyter.widget-view+json": {
       "model_id": "",
       "version_major": 2,
       "version_minor": 0
      },
      "text/plain": [
       "Songs for date 2022-01-12 00:00:00:   0%|          | 0/1 [00:00<?, ?it/s]"
      ]
     },
     "metadata": {},
     "output_type": "display_data"
    },
    {
     "data": {
      "application/vnd.jupyter.widget-view+json": {
       "model_id": "",
       "version_major": 2,
       "version_minor": 0
      },
      "text/plain": [
       "Songs for date 2022-01-13 00:00:00:   0%|          | 0/1 [00:00<?, ?it/s]"
      ]
     },
     "metadata": {},
     "output_type": "display_data"
    },
    {
     "data": {
      "application/vnd.jupyter.widget-view+json": {
       "model_id": "",
       "version_major": 2,
       "version_minor": 0
      },
      "text/plain": [
       "Songs for date 2022-01-14 00:00:00:   0%|          | 0/1 [00:00<?, ?it/s]"
      ]
     },
     "metadata": {},
     "output_type": "display_data"
    },
    {
     "data": {
      "application/vnd.jupyter.widget-view+json": {
       "model_id": "",
       "version_major": 2,
       "version_minor": 0
      },
      "text/plain": [
       "Songs for date 2022-01-15 00:00:00:   0%|          | 0/2 [00:00<?, ?it/s]"
      ]
     },
     "metadata": {},
     "output_type": "display_data"
    },
    {
     "data": {
      "application/vnd.jupyter.widget-view+json": {
       "model_id": "",
       "version_major": 2,
       "version_minor": 0
      },
      "text/plain": [
       "Songs for date 2022-01-16 00:00:00:   0%|          | 0/2 [00:00<?, ?it/s]"
      ]
     },
     "metadata": {},
     "output_type": "display_data"
    },
    {
     "data": {
      "application/vnd.jupyter.widget-view+json": {
       "model_id": "",
       "version_major": 2,
       "version_minor": 0
      },
      "text/plain": [
       "Songs for date 2022-01-17 00:00:00:   0%|          | 0/1 [00:00<?, ?it/s]"
      ]
     },
     "metadata": {},
     "output_type": "display_data"
    },
    {
     "data": {
      "application/vnd.jupyter.widget-view+json": {
       "model_id": "",
       "version_major": 2,
       "version_minor": 0
      },
      "text/plain": [
       "Songs for date 2022-01-24 00:00:00:   0%|          | 0/1 [00:00<?, ?it/s]"
      ]
     },
     "metadata": {},
     "output_type": "display_data"
    },
    {
     "data": {
      "application/vnd.jupyter.widget-view+json": {
       "model_id": "",
       "version_major": 2,
       "version_minor": 0
      },
      "text/plain": [
       "Songs for date 2022-01-28 00:00:00:   0%|          | 0/1 [00:00<?, ?it/s]"
      ]
     },
     "metadata": {},
     "output_type": "display_data"
    },
    {
     "data": {
      "application/vnd.jupyter.widget-view+json": {
       "model_id": "",
       "version_major": 2,
       "version_minor": 0
      },
      "text/plain": [
       "Songs for date 2022-02-03 00:00:00:   0%|          | 0/1 [00:00<?, ?it/s]"
      ]
     },
     "metadata": {},
     "output_type": "display_data"
    },
    {
     "data": {
      "application/vnd.jupyter.widget-view+json": {
       "model_id": "",
       "version_major": 2,
       "version_minor": 0
      },
      "text/plain": [
       "Songs for date 2022-02-04 00:00:00:   0%|          | 0/1 [00:00<?, ?it/s]"
      ]
     },
     "metadata": {},
     "output_type": "display_data"
    },
    {
     "data": {
      "application/vnd.jupyter.widget-view+json": {
       "model_id": "",
       "version_major": 2,
       "version_minor": 0
      },
      "text/plain": [
       "Songs for date 2022-02-06 00:00:00:   0%|          | 0/3 [00:00<?, ?it/s]"
      ]
     },
     "metadata": {},
     "output_type": "display_data"
    },
    {
     "data": {
      "application/vnd.jupyter.widget-view+json": {
       "model_id": "",
       "version_major": 2,
       "version_minor": 0
      },
      "text/plain": [
       "Songs for date 2022-02-07 00:00:00:   0%|          | 0/1 [00:00<?, ?it/s]"
      ]
     },
     "metadata": {},
     "output_type": "display_data"
    },
    {
     "data": {
      "application/vnd.jupyter.widget-view+json": {
       "model_id": "",
       "version_major": 2,
       "version_minor": 0
      },
      "text/plain": [
       "Songs for date 2022-02-08 00:00:00:   0%|          | 0/1 [00:00<?, ?it/s]"
      ]
     },
     "metadata": {},
     "output_type": "display_data"
    },
    {
     "data": {
      "application/vnd.jupyter.widget-view+json": {
       "model_id": "",
       "version_major": 2,
       "version_minor": 0
      },
      "text/plain": [
       "Songs for date 2022-02-11 00:00:00:   0%|          | 0/2 [00:00<?, ?it/s]"
      ]
     },
     "metadata": {},
     "output_type": "display_data"
    },
    {
     "data": {
      "application/vnd.jupyter.widget-view+json": {
       "model_id": "",
       "version_major": 2,
       "version_minor": 0
      },
      "text/plain": [
       "Songs for date 2022-02-15 00:00:00:   0%|          | 0/3 [00:00<?, ?it/s]"
      ]
     },
     "metadata": {},
     "output_type": "display_data"
    },
    {
     "data": {
      "application/vnd.jupyter.widget-view+json": {
       "model_id": "",
       "version_major": 2,
       "version_minor": 0
      },
      "text/plain": [
       "Songs for date 2022-02-16 00:00:00:   0%|          | 0/1 [00:00<?, ?it/s]"
      ]
     },
     "metadata": {},
     "output_type": "display_data"
    },
    {
     "data": {
      "application/vnd.jupyter.widget-view+json": {
       "model_id": "",
       "version_major": 2,
       "version_minor": 0
      },
      "text/plain": [
       "Songs for date 2022-02-18 00:00:00:   0%|          | 0/1 [00:00<?, ?it/s]"
      ]
     },
     "metadata": {},
     "output_type": "display_data"
    },
    {
     "data": {
      "application/vnd.jupyter.widget-view+json": {
       "model_id": "",
       "version_major": 2,
       "version_minor": 0
      },
      "text/plain": [
       "Songs for date 2022-02-20 00:00:00:   0%|          | 0/15 [00:00<?, ?it/s]"
      ]
     },
     "metadata": {},
     "output_type": "display_data"
    },
    {
     "data": {
      "application/vnd.jupyter.widget-view+json": {
       "model_id": "",
       "version_major": 2,
       "version_minor": 0
      },
      "text/plain": [
       "Songs for date 2022-02-21 00:00:00:   0%|          | 0/1 [00:00<?, ?it/s]"
      ]
     },
     "metadata": {},
     "output_type": "display_data"
    },
    {
     "data": {
      "application/vnd.jupyter.widget-view+json": {
       "model_id": "",
       "version_major": 2,
       "version_minor": 0
      },
      "text/plain": [
       "Songs for date 2022-02-22 00:00:00:   0%|          | 0/1 [00:00<?, ?it/s]"
      ]
     },
     "metadata": {},
     "output_type": "display_data"
    },
    {
     "data": {
      "application/vnd.jupyter.widget-view+json": {
       "model_id": "",
       "version_major": 2,
       "version_minor": 0
      },
      "text/plain": [
       "Songs for date 2022-02-28 00:00:00:   0%|          | 0/3 [00:00<?, ?it/s]"
      ]
     },
     "metadata": {},
     "output_type": "display_data"
    },
    {
     "data": {
      "application/vnd.jupyter.widget-view+json": {
       "model_id": "",
       "version_major": 2,
       "version_minor": 0
      },
      "text/plain": [
       "Songs for date 2022-03-02 00:00:00:   0%|          | 0/1 [00:00<?, ?it/s]"
      ]
     },
     "metadata": {},
     "output_type": "display_data"
    },
    {
     "data": {
      "application/vnd.jupyter.widget-view+json": {
       "model_id": "",
       "version_major": 2,
       "version_minor": 0
      },
      "text/plain": [
       "Songs for date 2022-03-03 00:00:00:   0%|          | 0/1 [00:00<?, ?it/s]"
      ]
     },
     "metadata": {},
     "output_type": "display_data"
    },
    {
     "data": {
      "application/vnd.jupyter.widget-view+json": {
       "model_id": "",
       "version_major": 2,
       "version_minor": 0
      },
      "text/plain": [
       "Songs for date 2022-03-04 00:00:00:   0%|          | 0/1 [00:00<?, ?it/s]"
      ]
     },
     "metadata": {},
     "output_type": "display_data"
    },
    {
     "name": "stdout",
     "output_type": "stream",
     "text": [
      "RESULTS OVERLAP: \n",
      "Countries to predict 1. Accuracy 0.619\n",
      "Countries to predict 2. Accuracy 0.395\n",
      "Countries to predict 3. Accuracy 0.275\n",
      "Countries to predict 4. Accuracy 0.25\n",
      "Countries to predict 5. Accuracy 0.1\n",
      "avg.: 0.328\n",
      "RESULTS Top-k accuracy:\n",
      "Top k2-1:0.75\n",
      "Top k2-2:0.25\n",
      "Top k1-1:0.6923076923076923\n"
     ]
    }
   ],
   "source": [
    "n_day_lags = 14\n",
    "\n",
    "# Variables to store the results\n",
    "acc_results = {}\n",
    "top_acc_results = {}\n",
    "all_dates_acc_results = {}\n",
    "database_size_evol = {}\n",
    "genres_acc_results = {}\n",
    "\n",
    "for threshold_ in [0.16]:#tqdm(np.arange(0.01, 0.16, 0.01)):\n",
    "#for threshold_ in tqdm([10, 50, 100, 150]):\n",
    "\n",
    "    #1. Generate the sequences\n",
    "    print('------------')\n",
    "    print(f'Weight threshold: {threshold_}')\n",
    "    all_paths_dates, all_paths = generate_sequences_fn(threshold_, n_day_lags)\n",
    "\n",
    "    target_days = list(all_paths_dates.keys())\n",
    "    target_days.sort()\n",
    "\n",
    "    total_seqs = 0\n",
    "    considered_songs = []\n",
    "    for d in target_days:\n",
    "        d_paths = all_paths_dates[d]\n",
    "        for s in d_paths.keys():\n",
    "            total_seqs += len(d_paths[s])\n",
    "            considered_songs.append(s)\n",
    "    print(f'The total number of extracted sequences is : {total_seqs}')\n",
    "    print(f'The total number of songs is : {len(set(considered_songs))} '\\\n",
    "          f'({round(len(set(considered_songs))/total_songs,3)})')\n",
    "    print(f'The total number of dates is : {len(target_days)}')\n",
    "\n",
    "    # 2. Split in train-test datasets\n",
    "    training_rate = 0.8\n",
    "    num_train_seqs = int(total_seqs*training_rate)\n",
    "\n",
    "    accumulated_count = 0\n",
    "    training_date = None\n",
    "    for d in target_days:\n",
    "        d_paths = all_paths_dates[d]\n",
    "        for s in d_paths.keys():\n",
    "            accumulated_count += len(d_paths[s])\n",
    "\n",
    "        #print(d, accumulated_count)\n",
    "        if accumulated_count >= num_train_seqs:\n",
    "            training_date = d\n",
    "            break\n",
    "\n",
    "    print(f'The cutoff date for training is {training_date}')\n",
    "   \n",
    "    training_seqs= []\n",
    "    for d in target_days:\n",
    "        #print(d)\n",
    "        d_paths = all_paths_dates[d]\n",
    "        for s in d_paths.keys():\n",
    "            if d <= training_date:\n",
    "                training_seqs += d_paths[s]\n",
    "\n",
    "    ### 3. Train the model\n",
    "\n",
    "    print(f'The number of training sequences is {len(training_seqs)}')\n",
    "    #print(f'The number of test sequences is {len(test_seqs)}')\n",
    "\n",
    "    model = Subseq(0)\n",
    "    model.fit(training_seqs)\n",
    "\n",
    "    ### 4. Test the model\n",
    "\n",
    "    forecast_horizon = 1\n",
    "    acc ={}\n",
    "    top_acc = {}\n",
    "    for date in tqdm(daterange(training_date, target_days[-1]), leave=False, desc='Test dates'):\n",
    "        if date in all_paths_dates:\n",
    "            date_seqs = []\n",
    "            date_acc_results = []\n",
    "            for song_id, songs_seq in tqdm(all_paths_dates[date].items(), \n",
    "                                           leave=False, desc=f'Songs for date {date}'):\n",
    "                y= []\n",
    "                y_hat=[]\n",
    "                #print(date, song_id, len(songs_seq))\n",
    "                for p in songs_seq:\n",
    "                    #print('-->', p)\n",
    "                    lag_seq= p[:-forecast_horizon]\n",
    "                    true_y= p[-forecast_horizon:]\n",
    "\n",
    "                    pred_y = model.predict_k(lag_seq, k=forecast_horizon)\n",
    "                    y += true_y\n",
    "                    y_hat +=pred_y\n",
    "                \n",
    "                #print(y)\n",
    "                y=set(y)\n",
    "                y_hat= set(y_hat)\n",
    "                #print(y)\n",
    "                \n",
    "                pred_overlap = y.intersection(y_hat)\n",
    "                pred_rate = len(pred_overlap)/len(y)\n",
    "                \n",
    "                acc_k = acc.get(len(y),[])\n",
    "                acc_k.append(pred_rate)\n",
    "                acc[len(y)]=acc_k\n",
    "                \n",
    "                #if the target sequence only comprises one country as ouput...\n",
    "                if len(y)== 1:\n",
    "                    #...update the time-based accuracy results and...\n",
    "                    date_acc_results.append(pred_rate)\n",
    "                    #...the genre-based accuracy results (if the song has a list of genres)\n",
    "                    if song_id in song_genres_df.index:\n",
    "                        genres_ = song_genres_df.loc[song_id].values\n",
    "                        for g in genres_:\n",
    "                            if (g is not np.nan) and (g in sub_gender_to_gender):\n",
    "                                acc_t = genres_acc_results.get(threshold_,{})\n",
    "                                acc_g = acc_t.get(sub_gender_to_gender[g],[])\n",
    "                                acc_g.append(pred_rate)                                \n",
    "                                acc_t[sub_gender_to_gender[g]]=acc_g\n",
    "                                genres_acc_results[threshold_]= acc_t\n",
    "                \n",
    "                l1_top_acc_dict= top_acc.get(len(y_hat),{})\n",
    "                \n",
    "                for i in range(1,len(y_hat)+1):\n",
    "                    l2_top_acc = l1_top_acc_dict.get(i,[])\n",
    "                    if i <= len(pred_overlap):\n",
    "                        l2_top_acc.append(1)\n",
    "                    else:\n",
    "                        l2_top_acc.append(0)\n",
    "                        \n",
    "                    l1_top_acc_dict[i]= l2_top_acc\n",
    "                top_acc[len(y_hat)]= l1_top_acc_dict\n",
    "            \n",
    "                date_seqs += songs_seq\n",
    "                \n",
    "            #5. Retraining model every day\n",
    "            training_seqs += date_seqs\n",
    "            model = Subseq(0)\n",
    "            model.fit(training_seqs)   \n",
    "            \n",
    "            dates_acc_values = all_dates_acc_results.get(threshold_,{})\n",
    "            dates_acc_values[date] = np.mean(date_acc_results)\n",
    "            all_dates_acc_results[threshold_] =dates_acc_values\n",
    "            \n",
    "            dates_db_size = database_size_evol.get(threshold_,{})\n",
    "            dates_db_size[date] = len(training_seqs)\n",
    "            database_size_evol[threshold_]= dates_db_size\n",
    "            \n",
    "    print(f'RESULTS OVERLAP: ')\n",
    "    ks = list(acc.keys())\n",
    "    ks.sort()\n",
    "    mean_accs = []\n",
    "    #for k in ks:\n",
    "    threshold_results = acc_results.get(threshold_,{})\n",
    "    for k in range(1,6):\n",
    "        if k in acc:\n",
    "            mean_acc = np.mean(acc[k])\n",
    "            mean_accs.append(mean_acc)\n",
    "            print(f'Countries to predict {k}. Accuracy {round(mean_acc,3)}')\n",
    "            threshold_results[k] = mean_acc\n",
    "        else:\n",
    "            threshold_results[k] = 0\n",
    "    acc_results[threshold_] = threshold_results\n",
    "  \n",
    "    print(f'avg.: {round(np.mean(mean_accs),3)}')\n",
    "    \n",
    "    print('RESULTS Top-k accuracy:')\n",
    "    threshold_results = top_acc_results.get(threshold_,{})\n",
    "    for i, l1_results in top_acc.items():\n",
    "        for j, l2_results in l1_results.items():\n",
    "            print(f'Top k{i}-{j}:{np.mean(l2_results)}')  \n",
    "            threshold_results[f'{i}-{j}']= np.mean(l2_results)\n",
    "    top_acc_results[threshold_]= threshold_results"
   ]
  },
  {
   "cell_type": "markdown",
   "metadata": {},
   "source": [
    "Global acc results"
   ]
  },
  {
   "cell_type": "code",
   "execution_count": 192,
   "metadata": {},
   "outputs": [],
   "source": [
    "acc_results_df=pd.DataFrame(acc_results).T"
   ]
  },
  {
   "cell_type": "code",
   "execution_count": 193,
   "metadata": {},
   "outputs": [
    {
     "data": {
      "text/html": [
       "<div>\n",
       "<style scoped>\n",
       "    .dataframe tbody tr th:only-of-type {\n",
       "        vertical-align: middle;\n",
       "    }\n",
       "\n",
       "    .dataframe tbody tr th {\n",
       "        vertical-align: top;\n",
       "    }\n",
       "\n",
       "    .dataframe thead th {\n",
       "        text-align: right;\n",
       "    }\n",
       "</style>\n",
       "<table border=\"1\" class=\"dataframe\">\n",
       "  <thead>\n",
       "    <tr style=\"text-align: right;\">\n",
       "      <th></th>\n",
       "      <th>1</th>\n",
       "      <th>2</th>\n",
       "      <th>3</th>\n",
       "      <th>4</th>\n",
       "      <th>5</th>\n",
       "    </tr>\n",
       "  </thead>\n",
       "  <tbody>\n",
       "    <tr>\n",
       "      <th>0.16</th>\n",
       "      <td>0.618705</td>\n",
       "      <td>0.394737</td>\n",
       "      <td>0.275362</td>\n",
       "      <td>0.25</td>\n",
       "      <td>0.1</td>\n",
       "    </tr>\n",
       "  </tbody>\n",
       "</table>\n",
       "</div>"
      ],
      "text/plain": [
       "             1         2         3     4    5\n",
       "0.16  0.618705  0.394737  0.275362  0.25  0.1"
      ]
     },
     "execution_count": 193,
     "metadata": {},
     "output_type": "execute_result"
    }
   ],
   "source": [
    "acc_results_df"
   ]
  },
  {
   "cell_type": "code",
   "execution_count": 194,
   "metadata": {},
   "outputs": [
    {
     "data": {
      "image/png": "[encoded data removed]",
      "text/plain": [
       "<Figure size 432x288 with 1 Axes>"
      ]
     },
     "metadata": {
      "needs_background": "light"
     },
     "output_type": "display_data"
    }
   ],
   "source": [
    "acc_results_df.plot(kind='bar',grid=True)\n",
    "plt.tight_layout()\n",
    "plt.show()"
   ]
  },
  {
   "cell_type": "code",
   "execution_count": 195,
   "metadata": {},
   "outputs": [],
   "source": [
    "acc_results_df.to_csv(os.path.join('results',f'accuracy_10d_2017_2022_{source}.csv'))"
   ]
  },
  {
   "cell_type": "markdown",
   "metadata": {},
   "source": [
    "Top-acc@k results"
   ]
  },
  {
   "cell_type": "code",
   "execution_count": 196,
   "metadata": {},
   "outputs": [
    {
     "data": {
      "text/html": [
       "<div>\n",
       "<style scoped>\n",
       "    .dataframe tbody tr th:only-of-type {\n",
       "        vertical-align: middle;\n",
       "    }\n",
       "\n",
       "    .dataframe tbody tr th {\n",
       "        vertical-align: top;\n",
       "    }\n",
       "\n",
       "    .dataframe thead th {\n",
       "        text-align: right;\n",
       "    }\n",
       "</style>\n",
       "<table border=\"1\" class=\"dataframe\">\n",
       "  <thead>\n",
       "    <tr style=\"text-align: right;\">\n",
       "      <th></th>\n",
       "      <th>1-1</th>\n",
       "      <th>2-1</th>\n",
       "      <th>2-2</th>\n",
       "    </tr>\n",
       "  </thead>\n",
       "  <tbody>\n",
       "    <tr>\n",
       "      <th>0.16</th>\n",
       "      <td>0.692308</td>\n",
       "      <td>0.75</td>\n",
       "      <td>0.25</td>\n",
       "    </tr>\n",
       "  </tbody>\n",
       "</table>\n",
       "</div>"
      ],
      "text/plain": [
       "           1-1   2-1   2-2\n",
       "0.16  0.692308  0.75  0.25"
      ]
     },
     "execution_count": 196,
     "metadata": {},
     "output_type": "execute_result"
    }
   ],
   "source": [
    "top_acc_results_df=pd.DataFrame(top_acc_results).T\n",
    "top_acc_results_df = top_acc_results_df.fillna(0)\n",
    "top_acc_results_df.head()"
   ]
  },
  {
   "cell_type": "code",
   "execution_count": null,
   "metadata": {},
   "outputs": [],
   "source": []
  },
  {
   "cell_type": "code",
   "execution_count": 197,
   "metadata": {
    "scrolled": false
   },
   "outputs": [
    {
     "ename": "KeyError",
     "evalue": "\"['3-3', '3-2', '3-1'] not in index\"",
     "output_type": "error",
     "traceback": [
      "\u001b[0;31m---------------------------------------------------------------------------\u001b[0m",
      "\u001b[0;31mKeyError\u001b[0m                                  Traceback (most recent call last)",
      "\u001b[0;32m/tmp/ipykernel_3879171/1885732814.py\u001b[0m in \u001b[0;36m<module>\u001b[0;34m\u001b[0m\n\u001b[1;32m      1\u001b[0m \u001b[0mtarget_cols\u001b[0m \u001b[0;34m=\u001b[0m \u001b[0;34m'1-1 2-1 2-2 3-1 3-2 3-3'\u001b[0m\u001b[0;34m.\u001b[0m\u001b[0msplit\u001b[0m\u001b[0;34m(\u001b[0m\u001b[0;34m)\u001b[0m\u001b[0;34m\u001b[0m\u001b[0;34m\u001b[0m\u001b[0m\n\u001b[0;32m----> 2\u001b[0;31m \u001b[0mtop_acc_results_df\u001b[0m\u001b[0;34m[\u001b[0m\u001b[0mtarget_cols\u001b[0m\u001b[0;34m]\u001b[0m\u001b[0;34m.\u001b[0m\u001b[0mplot\u001b[0m\u001b[0;34m(\u001b[0m\u001b[0mkind\u001b[0m\u001b[0;34m=\u001b[0m\u001b[0;34m'bar'\u001b[0m\u001b[0;34m,\u001b[0m\u001b[0mgrid\u001b[0m\u001b[0;34m=\u001b[0m\u001b[0;32mTrue\u001b[0m\u001b[0;34m)\u001b[0m\u001b[0;34m\u001b[0m\u001b[0;34m\u001b[0m\u001b[0m\n\u001b[0m\u001b[1;32m      3\u001b[0m \u001b[0mplt\u001b[0m\u001b[0;34m.\u001b[0m\u001b[0mtight_layout\u001b[0m\u001b[0;34m(\u001b[0m\u001b[0;34m)\u001b[0m\u001b[0;34m\u001b[0m\u001b[0;34m\u001b[0m\u001b[0m\n\u001b[1;32m      4\u001b[0m \u001b[0mplt\u001b[0m\u001b[0;34m.\u001b[0m\u001b[0mshow\u001b[0m\u001b[0;34m(\u001b[0m\u001b[0;34m)\u001b[0m\u001b[0;34m\u001b[0m\u001b[0;34m\u001b[0m\u001b[0m\n",
      "\u001b[0;32m~/.local/lib/python3.8/site-packages/pandas/core/frame.py\u001b[0m in \u001b[0;36m__getitem__\u001b[0;34m(self, key)\u001b[0m\n\u001b[1;32m   3028\u001b[0m             \u001b[0;32mif\u001b[0m \u001b[0mis_iterator\u001b[0m\u001b[0;34m(\u001b[0m\u001b[0mkey\u001b[0m\u001b[0;34m)\u001b[0m\u001b[0;34m:\u001b[0m\u001b[0;34m\u001b[0m\u001b[0;34m\u001b[0m\u001b[0m\n\u001b[1;32m   3029\u001b[0m                 \u001b[0mkey\u001b[0m \u001b[0;34m=\u001b[0m \u001b[0mlist\u001b[0m\u001b[0;34m(\u001b[0m\u001b[0mkey\u001b[0m\u001b[0;34m)\u001b[0m\u001b[0;34m\u001b[0m\u001b[0;34m\u001b[0m\u001b[0m\n\u001b[0;32m-> 3030\u001b[0;31m             \u001b[0mindexer\u001b[0m \u001b[0;34m=\u001b[0m \u001b[0mself\u001b[0m\u001b[0;34m.\u001b[0m\u001b[0mloc\u001b[0m\u001b[0;34m.\u001b[0m\u001b[0m_get_listlike_indexer\u001b[0m\u001b[0;34m(\u001b[0m\u001b[0mkey\u001b[0m\u001b[0;34m,\u001b[0m \u001b[0maxis\u001b[0m\u001b[0;34m=\u001b[0m\u001b[0;36m1\u001b[0m\u001b[0;34m,\u001b[0m \u001b[0mraise_missing\u001b[0m\u001b[0;34m=\u001b[0m\u001b[0;32mTrue\u001b[0m\u001b[0;34m)\u001b[0m\u001b[0;34m[\u001b[0m\u001b[0;36m1\u001b[0m\u001b[0;34m]\u001b[0m\u001b[0;34m\u001b[0m\u001b[0;34m\u001b[0m\u001b[0m\n\u001b[0m\u001b[1;32m   3031\u001b[0m \u001b[0;34m\u001b[0m\u001b[0m\n\u001b[1;32m   3032\u001b[0m         \u001b[0;31m# take() does not accept boolean indexers\u001b[0m\u001b[0;34m\u001b[0m\u001b[0;34m\u001b[0m\u001b[0;34m\u001b[0m\u001b[0m\n",
      "\u001b[0;32m~/.local/lib/python3.8/site-packages/pandas/core/indexing.py\u001b[0m in \u001b[0;36m_get_listlike_indexer\u001b[0;34m(self, key, axis, raise_missing)\u001b[0m\n\u001b[1;32m   1264\u001b[0m             \u001b[0mkeyarr\u001b[0m\u001b[0;34m,\u001b[0m \u001b[0mindexer\u001b[0m\u001b[0;34m,\u001b[0m \u001b[0mnew_indexer\u001b[0m \u001b[0;34m=\u001b[0m \u001b[0max\u001b[0m\u001b[0;34m.\u001b[0m\u001b[0m_reindex_non_unique\u001b[0m\u001b[0;34m(\u001b[0m\u001b[0mkeyarr\u001b[0m\u001b[0;34m)\u001b[0m\u001b[0;34m\u001b[0m\u001b[0;34m\u001b[0m\u001b[0m\n\u001b[1;32m   1265\u001b[0m \u001b[0;34m\u001b[0m\u001b[0m\n\u001b[0;32m-> 1266\u001b[0;31m         \u001b[0mself\u001b[0m\u001b[0;34m.\u001b[0m\u001b[0m_validate_read_indexer\u001b[0m\u001b[0;34m(\u001b[0m\u001b[0mkeyarr\u001b[0m\u001b[0;34m,\u001b[0m \u001b[0mindexer\u001b[0m\u001b[0;34m,\u001b[0m \u001b[0maxis\u001b[0m\u001b[0;34m,\u001b[0m \u001b[0mraise_missing\u001b[0m\u001b[0;34m=\u001b[0m\u001b[0mraise_missing\u001b[0m\u001b[0;34m)\u001b[0m\u001b[0;34m\u001b[0m\u001b[0;34m\u001b[0m\u001b[0m\n\u001b[0m\u001b[1;32m   1267\u001b[0m         \u001b[0;32mreturn\u001b[0m \u001b[0mkeyarr\u001b[0m\u001b[0;34m,\u001b[0m \u001b[0mindexer\u001b[0m\u001b[0;34m\u001b[0m\u001b[0;34m\u001b[0m\u001b[0m\n\u001b[1;32m   1268\u001b[0m \u001b[0;34m\u001b[0m\u001b[0m\n",
      "\u001b[0;32m~/.local/lib/python3.8/site-packages/pandas/core/indexing.py\u001b[0m in \u001b[0;36m_validate_read_indexer\u001b[0;34m(self, key, indexer, axis, raise_missing)\u001b[0m\n\u001b[1;32m   1314\u001b[0m             \u001b[0;32mif\u001b[0m \u001b[0mraise_missing\u001b[0m\u001b[0;34m:\u001b[0m\u001b[0;34m\u001b[0m\u001b[0;34m\u001b[0m\u001b[0m\n\u001b[1;32m   1315\u001b[0m                 \u001b[0mnot_found\u001b[0m \u001b[0;34m=\u001b[0m \u001b[0mlist\u001b[0m\u001b[0;34m(\u001b[0m\u001b[0mset\u001b[0m\u001b[0;34m(\u001b[0m\u001b[0mkey\u001b[0m\u001b[0;34m)\u001b[0m \u001b[0;34m-\u001b[0m \u001b[0mset\u001b[0m\u001b[0;34m(\u001b[0m\u001b[0max\u001b[0m\u001b[0;34m)\u001b[0m\u001b[0;34m)\u001b[0m\u001b[0;34m\u001b[0m\u001b[0;34m\u001b[0m\u001b[0m\n\u001b[0;32m-> 1316\u001b[0;31m                 \u001b[0;32mraise\u001b[0m \u001b[0mKeyError\u001b[0m\u001b[0;34m(\u001b[0m\u001b[0;34mf\"{not_found} not in index\"\u001b[0m\u001b[0;34m)\u001b[0m\u001b[0;34m\u001b[0m\u001b[0;34m\u001b[0m\u001b[0m\n\u001b[0m\u001b[1;32m   1317\u001b[0m \u001b[0;34m\u001b[0m\u001b[0m\n\u001b[1;32m   1318\u001b[0m             \u001b[0mnot_found\u001b[0m \u001b[0;34m=\u001b[0m \u001b[0mkey\u001b[0m\u001b[0;34m[\u001b[0m\u001b[0mmissing_mask\u001b[0m\u001b[0;34m]\u001b[0m\u001b[0;34m\u001b[0m\u001b[0;34m\u001b[0m\u001b[0m\n",
      "\u001b[0;31mKeyError\u001b[0m: \"['3-3', '3-2', '3-1'] not in index\""
     ]
    }
   ],
   "source": [
    "target_cols = '1-1 2-1 2-2 3-1 3-2 3-3'.split()\n",
    "top_acc_results_df[target_cols].plot(kind='bar',grid=True)\n",
    "plt.tight_layout()\n",
    "plt.show()"
   ]
  },
  {
   "cell_type": "code",
   "execution_count": null,
   "metadata": {},
   "outputs": [],
   "source": [
    "top_acc_results_df.to_csv(os.path.join('results',f'top_accuracy_10d_2017_2022_{source}.csv'))"
   ]
  },
  {
   "cell_type": "markdown",
   "metadata": {},
   "source": [
    "Database size results"
   ]
  },
  {
   "cell_type": "code",
   "execution_count": null,
   "metadata": {},
   "outputs": [],
   "source": [
    "database_size_df=pd.DataFrame(database_size_evol).T\n",
    "database_size_df.head()"
   ]
  },
  {
   "cell_type": "code",
   "execution_count": null,
   "metadata": {},
   "outputs": [],
   "source": [
    "database_size_df.to_csv(os.path.join('results',f'database_size_evol_10d_2017_2022_{source}.csv'))"
   ]
  },
  {
   "cell_type": "markdown",
   "metadata": {},
   "source": [
    "Time-based accuracy results"
   ]
  },
  {
   "cell_type": "code",
   "execution_count": null,
   "metadata": {},
   "outputs": [],
   "source": [
    "date_acc_size_df=pd.DataFrame(all_dates_acc_results).T\n",
    "date_acc_size_df.head()"
   ]
  },
  {
   "cell_type": "code",
   "execution_count": null,
   "metadata": {},
   "outputs": [],
   "source": [
    "date_acc_size_df.to_csv(os.path.join('results',f'date_acc_size_evol_10d_2017_2022_{source}.csv'))"
   ]
  },
  {
   "cell_type": "markdown",
   "metadata": {},
   "source": [
    "Genre-based results"
   ]
  },
  {
   "cell_type": "code",
   "execution_count": null,
   "metadata": {},
   "outputs": [],
   "source": [
    "avg_genres_acc = {}\n",
    "for t, genres_values in genres_acc_results.items():\n",
    "    avg_t_val = {}\n",
    "    \n",
    "    for g, acc_values in genres_values.items():\n",
    "        avg_t_val[g] = np.mean(acc_values)\n",
    "    avg_genres_acc[t]= avg_t_val"
   ]
  },
  {
   "cell_type": "code",
   "execution_count": null,
   "metadata": {},
   "outputs": [],
   "source": [
    "genre_acc_df=pd.DataFrame(avg_genres_acc).T\n",
    "genre_acc_df"
   ]
  },
  {
   "cell_type": "code",
   "execution_count": null,
   "metadata": {},
   "outputs": [],
   "source": [
    "genre_acc_df.to_csv(os.path.join('results',f'genre_acc_10d_2017_2022_{source}.csv'))"
   ]
  },
  {
   "cell_type": "code",
   "execution_count": null,
   "metadata": {
    "scrolled": true
   },
   "outputs": [],
   "source": [
    "print(\"That's all folks!\")"
   ]
  }
 ],
 "metadata": {
  "kernelspec": {
   "display_name": "Python 3 (ipykernel)",
   "language": "python",
   "name": "python3"
  },
  "language_info": {
   "codemirror_mode": {
    "name": "ipython",
    "version": 3
   },
   "file_extension": ".py",
   "mimetype": "text/x-python",
   "name": "python",
   "nbconvert_exporter": "python",
   "pygments_lexer": "ipython3",
   "version": "3.8.10"
  }
 },
 "nbformat": 4,
 "nbformat_minor": 4
}
