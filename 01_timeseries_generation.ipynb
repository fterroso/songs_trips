{
 "cells": [
  {
   "cell_type": "code",
   "execution_count": 3,
   "metadata": {},
   "outputs": [],
   "source": [
    "import pandas as pd\n",
    "import numpy as np\n",
    "import os\n",
    "\n",
    "from tqdm.notebook import tqdm\n",
    "\n",
    "%matplotlib inline\n",
    "import matplotlib.pyplot as plt\n",
    "\n",
    "import seaborn as sns\n",
    "\n",
    "import json"
   ]
  },
  {
   "cell_type": "code",
   "execution_count": 28,
   "metadata": {
    "scrolled": true
   },
   "outputs": [],
   "source": [
    "ranking_df = pd.read_csv(os.path.join('data','ranking_all_2017_2021.csv'), parse_dates=['Date','release_date'], index_col=0)"
   ]
  },
  {
   "cell_type": "code",
   "execution_count": 26,
   "metadata": {},
   "outputs": [],
   "source": [
    "def print_song_info(song_id_):\n",
    "    info_= ranking_df[ranking_df['song_id']==song_id_][['Track Name', 'Artist']].values[0]\n",
    "    print(f'Track name: {info_[0]}. Artist: {info_[1]}')"
   ]
  },
  {
   "cell_type": "code",
   "execution_count": 6,
   "metadata": {},
   "outputs": [
    {
     "data": {
      "text/html": [
       "<div>\n",
       "<style scoped>\n",
       "    .dataframe tbody tr th:only-of-type {\n",
       "        vertical-align: middle;\n",
       "    }\n",
       "\n",
       "    .dataframe tbody tr th {\n",
       "        vertical-align: top;\n",
       "    }\n",
       "\n",
       "    .dataframe thead th {\n",
       "        text-align: right;\n",
       "    }\n",
       "</style>\n",
       "<table border=\"1\" class=\"dataframe\">\n",
       "  <thead>\n",
       "    <tr style=\"text-align: right;\">\n",
       "      <th></th>\n",
       "      <th>Position</th>\n",
       "      <th>Track Name</th>\n",
       "      <th>Artist</th>\n",
       "      <th>Streams</th>\n",
       "      <th>URL</th>\n",
       "      <th>Date</th>\n",
       "      <th>Region</th>\n",
       "      <th>song_id</th>\n",
       "      <th>release_date</th>\n",
       "    </tr>\n",
       "  </thead>\n",
       "  <tbody>\n",
       "    <tr>\n",
       "      <th>0</th>\n",
       "      <td>1</td>\n",
       "      <td>Reggaetón Lento (Bailemos)</td>\n",
       "      <td>CNCO</td>\n",
       "      <td>19272</td>\n",
       "      <td>https://open.spotify.com/track/3AEZUABDXNtecAO...</td>\n",
       "      <td>2017-01-01</td>\n",
       "      <td>Ecuador</td>\n",
       "      <td>3AEZUABDXNtecAOSC1qTfo</td>\n",
       "      <td>2017-01-01</td>\n",
       "    </tr>\n",
       "    <tr>\n",
       "      <th>1</th>\n",
       "      <td>2</td>\n",
       "      <td>Chantaje</td>\n",
       "      <td>Shakira</td>\n",
       "      <td>19270</td>\n",
       "      <td>https://open.spotify.com/track/6mICuAdrwEjh6Y6...</td>\n",
       "      <td>2017-01-01</td>\n",
       "      <td>Ecuador</td>\n",
       "      <td>6mICuAdrwEjh6Y6lroV2Kg</td>\n",
       "      <td>2017-01-01</td>\n",
       "    </tr>\n",
       "    <tr>\n",
       "      <th>2</th>\n",
       "      <td>3</td>\n",
       "      <td>Otra Vez (feat. J Balvin)</td>\n",
       "      <td>Zion &amp; Lennox</td>\n",
       "      <td>15761</td>\n",
       "      <td>https://open.spotify.com/track/3QwBODjSEzelZyV...</td>\n",
       "      <td>2017-01-01</td>\n",
       "      <td>Ecuador</td>\n",
       "      <td>3QwBODjSEzelZyVjxPOHdq</td>\n",
       "      <td>2017-01-01</td>\n",
       "    </tr>\n",
       "    <tr>\n",
       "      <th>3</th>\n",
       "      <td>4</td>\n",
       "      <td>Vente Pa' Ca</td>\n",
       "      <td>Ricky Martin</td>\n",
       "      <td>14954</td>\n",
       "      <td>https://open.spotify.com/track/7DM4BPaS7uofFul...</td>\n",
       "      <td>2017-01-01</td>\n",
       "      <td>Ecuador</td>\n",
       "      <td>7DM4BPaS7uofFul3ywMe46</td>\n",
       "      <td>2017-01-01</td>\n",
       "    </tr>\n",
       "    <tr>\n",
       "      <th>4</th>\n",
       "      <td>5</td>\n",
       "      <td>Safari</td>\n",
       "      <td>J Balvin</td>\n",
       "      <td>14269</td>\n",
       "      <td>https://open.spotify.com/track/6rQSrBHf7HlZjtc...</td>\n",
       "      <td>2017-01-01</td>\n",
       "      <td>Ecuador</td>\n",
       "      <td>6rQSrBHf7HlZjtcMZ4S4bO</td>\n",
       "      <td>2017-01-01</td>\n",
       "    </tr>\n",
       "  </tbody>\n",
       "</table>\n",
       "</div>"
      ],
      "text/plain": [
       "   Position                  Track Name         Artist  Streams  \\\n",
       "0         1  Reggaetón Lento (Bailemos)           CNCO    19272   \n",
       "1         2                    Chantaje        Shakira    19270   \n",
       "2         3   Otra Vez (feat. J Balvin)  Zion & Lennox    15761   \n",
       "3         4                Vente Pa' Ca   Ricky Martin    14954   \n",
       "4         5                      Safari       J Balvin    14269   \n",
       "\n",
       "                                                 URL       Date   Region  \\\n",
       "0  https://open.spotify.com/track/3AEZUABDXNtecAO... 2017-01-01  Ecuador   \n",
       "1  https://open.spotify.com/track/6mICuAdrwEjh6Y6... 2017-01-01  Ecuador   \n",
       "2  https://open.spotify.com/track/3QwBODjSEzelZyV... 2017-01-01  Ecuador   \n",
       "3  https://open.spotify.com/track/7DM4BPaS7uofFul... 2017-01-01  Ecuador   \n",
       "4  https://open.spotify.com/track/6rQSrBHf7HlZjtc... 2017-01-01  Ecuador   \n",
       "\n",
       "                  song_id release_date  \n",
       "0  3AEZUABDXNtecAOSC1qTfo   2017-01-01  \n",
       "1  6mICuAdrwEjh6Y6lroV2Kg   2017-01-01  \n",
       "2  3QwBODjSEzelZyVjxPOHdq   2017-01-01  \n",
       "3  7DM4BPaS7uofFul3ywMe46   2017-01-01  \n",
       "4  6rQSrBHf7HlZjtcMZ4S4bO   2017-01-01  "
      ]
     },
     "execution_count": 6,
     "metadata": {},
     "output_type": "execute_result"
    }
   ],
   "source": [
    "ranking_df.head()"
   ]
  },
  {
   "cell_type": "markdown",
   "metadata": {},
   "source": [
    "Time period covered by the dataset"
   ]
  },
  {
   "cell_type": "code",
   "execution_count": 7,
   "metadata": {},
   "outputs": [
    {
     "name": "stdout",
     "output_type": "stream",
     "text": [
      "<class 'pandas.core.frame.DataFrame'>\n",
      "Int64Index: 19724913 entries, 0 to 34399\n",
      "Data columns (total 9 columns):\n",
      " #   Column        Dtype         \n",
      "---  ------        -----         \n",
      " 0   Position      int64         \n",
      " 1   Track Name    object        \n",
      " 2   Artist        object        \n",
      " 3   Streams       int64         \n",
      " 4   URL           object        \n",
      " 5   Date          datetime64[ns]\n",
      " 6   Region        object        \n",
      " 7   song_id       object        \n",
      " 8   release_date  datetime64[ns]\n",
      "dtypes: datetime64[ns](2), int64(2), object(5)\n",
      "memory usage: 1.5+ GB\n"
     ]
    }
   ],
   "source": [
    "ranking_df.info()"
   ]
  },
  {
   "cell_type": "markdown",
   "metadata": {},
   "source": [
    "Number of total entries in the dataset"
   ]
  },
  {
   "cell_type": "code",
   "execution_count": 8,
   "metadata": {},
   "outputs": [
    {
     "data": {
      "text/plain": [
       "(19724913, 9)"
      ]
     },
     "execution_count": 8,
     "metadata": {},
     "output_type": "execute_result"
    }
   ],
   "source": [
    "ranking_df.shape"
   ]
  },
  {
   "cell_type": "markdown",
   "metadata": {},
   "source": [
    "Number of songs"
   ]
  },
  {
   "cell_type": "code",
   "execution_count": 9,
   "metadata": {},
   "outputs": [],
   "source": [
    "n_total_songs = ranking_df['song_id'].nunique()"
   ]
  },
  {
   "cell_type": "code",
   "execution_count": 10,
   "metadata": {},
   "outputs": [
    {
     "name": "stdout",
     "output_type": "stream",
     "text": [
      "The total number of songs is: 99651\n",
      "The total number of countries is: 54\n"
     ]
    }
   ],
   "source": [
    "print(f'The total number of songs is: {n_total_songs}')\n",
    "print(f'The total number of countries is: {ranking_df.Region.nunique()}')"
   ]
  },
  {
   "cell_type": "code",
   "execution_count": 11,
   "metadata": {},
   "outputs": [],
   "source": [
    "s=ranking_df.groupby(['song_id','Region'])['Date'].min().to_frame()"
   ]
  },
  {
   "cell_type": "code",
   "execution_count": 12,
   "metadata": {},
   "outputs": [
    {
     "data": {
      "text/html": [
       "<div>\n",
       "<style scoped>\n",
       "    .dataframe tbody tr th:only-of-type {\n",
       "        vertical-align: middle;\n",
       "    }\n",
       "\n",
       "    .dataframe tbody tr th {\n",
       "        vertical-align: top;\n",
       "    }\n",
       "\n",
       "    .dataframe thead th {\n",
       "        text-align: right;\n",
       "    }\n",
       "</style>\n",
       "<table border=\"1\" class=\"dataframe\">\n",
       "  <thead>\n",
       "    <tr style=\"text-align: right;\">\n",
       "      <th></th>\n",
       "      <th></th>\n",
       "      <th>Date</th>\n",
       "    </tr>\n",
       "    <tr>\n",
       "      <th>song_id</th>\n",
       "      <th>Region</th>\n",
       "      <th></th>\n",
       "    </tr>\n",
       "  </thead>\n",
       "  <tbody>\n",
       "    <tr>\n",
       "      <th>000RW47rhEkSqjgTrZx7YX</th>\n",
       "      <th>Brazil</th>\n",
       "      <td>2021-06-06</td>\n",
       "    </tr>\n",
       "    <tr>\n",
       "      <th rowspan=\"4\" valign=\"top\">000xQL6tZNLJzIrtIgxqSl</th>\n",
       "      <th>Argentina</th>\n",
       "      <td>2017-04-08</td>\n",
       "    </tr>\n",
       "    <tr>\n",
       "      <th>Australia</th>\n",
       "      <td>2017-03-24</td>\n",
       "    </tr>\n",
       "    <tr>\n",
       "      <th>Austria</th>\n",
       "      <td>2017-03-24</td>\n",
       "    </tr>\n",
       "    <tr>\n",
       "      <th>Belgium</th>\n",
       "      <td>2017-03-24</td>\n",
       "    </tr>\n",
       "    <tr>\n",
       "      <th>...</th>\n",
       "      <th>...</th>\n",
       "      <td>...</td>\n",
       "    </tr>\n",
       "    <tr>\n",
       "      <th>7zz2EAAis1zHGVBvtLJ8ZT</th>\n",
       "      <th>Indonesia</th>\n",
       "      <td>2018-04-20</td>\n",
       "    </tr>\n",
       "    <tr>\n",
       "      <th>7zzI3SbctTJN6wDerZNZCD</th>\n",
       "      <th>Turkey</th>\n",
       "      <td>2019-07-26</td>\n",
       "    </tr>\n",
       "    <tr>\n",
       "      <th>7zzU5vd1GrHpNjwq3HpIe3</th>\n",
       "      <th>France</th>\n",
       "      <td>2020-10-16</td>\n",
       "    </tr>\n",
       "    <tr>\n",
       "      <th>7zzbnhCpuuHOCrhBGvgwpp</th>\n",
       "      <th>Lithuania</th>\n",
       "      <td>2021-05-21</td>\n",
       "    </tr>\n",
       "    <tr>\n",
       "      <th>7zzhknA0A39TH81meuX7WA</th>\n",
       "      <th>France</th>\n",
       "      <td>2019-10-04</td>\n",
       "    </tr>\n",
       "  </tbody>\n",
       "</table>\n",
       "<p>297142 rows × 1 columns</p>\n",
       "</div>"
      ],
      "text/plain": [
       "                                       Date\n",
       "song_id                Region              \n",
       "000RW47rhEkSqjgTrZx7YX Brazil    2021-06-06\n",
       "000xQL6tZNLJzIrtIgxqSl Argentina 2017-04-08\n",
       "                       Australia 2017-03-24\n",
       "                       Austria   2017-03-24\n",
       "                       Belgium   2017-03-24\n",
       "...                                     ...\n",
       "7zz2EAAis1zHGVBvtLJ8ZT Indonesia 2018-04-20\n",
       "7zzI3SbctTJN6wDerZNZCD Turkey    2019-07-26\n",
       "7zzU5vd1GrHpNjwq3HpIe3 France    2020-10-16\n",
       "7zzbnhCpuuHOCrhBGvgwpp Lithuania 2021-05-21\n",
       "7zzhknA0A39TH81meuX7WA France    2019-10-04\n",
       "\n",
       "[297142 rows x 1 columns]"
      ]
     },
     "execution_count": 12,
     "metadata": {},
     "output_type": "execute_result"
    }
   ],
   "source": [
    "s"
   ]
  },
  {
   "cell_type": "markdown",
   "metadata": {},
   "source": [
    "## Visualization of the dataset"
   ]
  },
  {
   "cell_type": "code",
   "execution_count": 13,
   "metadata": {},
   "outputs": [
    {
     "data": {
      "image/png": "[encoded data removed]",
      "text/plain": [
       "<Figure size 432x288 with 1 Axes>"
      ]
     },
     "metadata": {
      "needs_background": "light"
     },
     "output_type": "display_data"
    }
   ],
   "source": [
    "days_per_song= s.groupby(['song_id'])['Date'].nunique()\n",
    "days_per_song.plot(grid=True, rot=45);"
   ]
  },
  {
   "cell_type": "code",
   "execution_count": 14,
   "metadata": {},
   "outputs": [
    {
     "data": {
      "image/png": "[encoded data removed]",
      "text/plain": [
       "<Figure size 360x360 with 1 Axes>"
      ]
     },
     "metadata": {
      "needs_background": "light"
     },
     "output_type": "display_data"
    }
   ],
   "source": [
    "sns.displot(days_per_song);"
   ]
  },
  {
   "cell_type": "code",
   "execution_count": 35,
   "metadata": {},
   "outputs": [
    {
     "data": {
      "text/html": [
       "<div>\n",
       "<style scoped>\n",
       "    .dataframe tbody tr th:only-of-type {\n",
       "        vertical-align: middle;\n",
       "    }\n",
       "\n",
       "    .dataframe tbody tr th {\n",
       "        vertical-align: top;\n",
       "    }\n",
       "\n",
       "    .dataframe thead th {\n",
       "        text-align: right;\n",
       "    }\n",
       "</style>\n",
       "<table border=\"1\" class=\"dataframe\">\n",
       "  <thead>\n",
       "    <tr style=\"text-align: right;\">\n",
       "      <th></th>\n",
       "      <th>0</th>\n",
       "    </tr>\n",
       "    <tr>\n",
       "      <th>song_id</th>\n",
       "      <th></th>\n",
       "    </tr>\n",
       "  </thead>\n",
       "  <tbody>\n",
       "    <tr>\n",
       "      <th>000RW47rhEkSqjgTrZx7YX</th>\n",
       "      <td>1</td>\n",
       "    </tr>\n",
       "    <tr>\n",
       "      <th>000xQL6tZNLJzIrtIgxqSl</th>\n",
       "      <td>39</td>\n",
       "    </tr>\n",
       "    <tr>\n",
       "      <th>000xYdQfIZ4pDmBGzQalKU</th>\n",
       "      <td>1</td>\n",
       "    </tr>\n",
       "    <tr>\n",
       "      <th>001b8t3bYPfnabpjpfG1Y4</th>\n",
       "      <td>1</td>\n",
       "    </tr>\n",
       "    <tr>\n",
       "      <th>001cKCt7jEOzXjqgkn9DQf</th>\n",
       "      <td>1</td>\n",
       "    </tr>\n",
       "  </tbody>\n",
       "</table>\n",
       "</div>"
      ],
      "text/plain": [
       "                         0\n",
       "song_id                   \n",
       "000RW47rhEkSqjgTrZx7YX   1\n",
       "000xQL6tZNLJzIrtIgxqSl  39\n",
       "000xYdQfIZ4pDmBGzQalKU   1\n",
       "001b8t3bYPfnabpjpfG1Y4   1\n",
       "001cKCt7jEOzXjqgkn9DQf   1"
      ]
     },
     "execution_count": 35,
     "metadata": {},
     "output_type": "execute_result"
    }
   ],
   "source": [
    "release_ranking_df = ranking_df[ranking_df['Date']== ranking_df['release_date']]\n",
    "release_ranking_df=release_ranking_df.drop_duplicates('song_id release_date Region'.split())\n",
    "num_initial_lists_df = release_ranking_df.groupby('song_id').size().to_frame()\n",
    "num_initial_lists_df.head()"
   ]
  },
  {
   "cell_type": "code",
   "execution_count": null,
   "metadata": {},
   "outputs": [],
   "source": []
  },
  {
   "cell_type": "code",
   "execution_count": 36,
   "metadata": {
    "scrolled": true
   },
   "outputs": [
    {
     "data": {
      "text/html": [
       "<div>\n",
       "<style scoped>\n",
       "    .dataframe tbody tr th:only-of-type {\n",
       "        vertical-align: middle;\n",
       "    }\n",
       "\n",
       "    .dataframe tbody tr th {\n",
       "        vertical-align: top;\n",
       "    }\n",
       "\n",
       "    .dataframe thead th {\n",
       "        text-align: right;\n",
       "    }\n",
       "</style>\n",
       "<table border=\"1\" class=\"dataframe\">\n",
       "  <thead>\n",
       "    <tr style=\"text-align: right;\">\n",
       "      <th></th>\n",
       "      <th>Position</th>\n",
       "      <th>Track Name</th>\n",
       "      <th>Artist</th>\n",
       "      <th>Streams</th>\n",
       "      <th>URL</th>\n",
       "      <th>Date</th>\n",
       "      <th>Region</th>\n",
       "      <th>song_id</th>\n",
       "      <th>release_date</th>\n",
       "    </tr>\n",
       "  </thead>\n",
       "  <tbody>\n",
       "    <tr>\n",
       "      <th>16562</th>\n",
       "      <td>163</td>\n",
       "      <td>Still Got Time</td>\n",
       "      <td>ZAYN</td>\n",
       "      <td>1629</td>\n",
       "      <td>https://open.spotify.com/track/000xQL6tZNLJzIr...</td>\n",
       "      <td>2017-03-24</td>\n",
       "      <td>Ecuador</td>\n",
       "      <td>000xQL6tZNLJzIrtIgxqSl</td>\n",
       "      <td>2017-03-24</td>\n",
       "    </tr>\n",
       "    <tr>\n",
       "      <th>90738</th>\n",
       "      <td>139</td>\n",
       "      <td>Still Got Time</td>\n",
       "      <td>ZAYN</td>\n",
       "      <td>26050</td>\n",
       "      <td>https://open.spotify.com/track/000xQL6tZNLJzIr...</td>\n",
       "      <td>2017-03-24</td>\n",
       "      <td>France</td>\n",
       "      <td>000xQL6tZNLJzIrtIgxqSl</td>\n",
       "      <td>2017-03-24</td>\n",
       "    </tr>\n",
       "    <tr>\n",
       "      <th>239068</th>\n",
       "      <td>69</td>\n",
       "      <td>Still Got Time</td>\n",
       "      <td>ZAYN</td>\n",
       "      <td>15219</td>\n",
       "      <td>https://open.spotify.com/track/000xQL6tZNLJzIr...</td>\n",
       "      <td>2017-03-24</td>\n",
       "      <td>Finland</td>\n",
       "      <td>000xQL6tZNLJzIrtIgxqSl</td>\n",
       "      <td>2017-03-24</td>\n",
       "    </tr>\n",
       "    <tr>\n",
       "      <th>313253</th>\n",
       "      <td>54</td>\n",
       "      <td>Still Got Time</td>\n",
       "      <td>ZAYN</td>\n",
       "      <td>37752</td>\n",
       "      <td>https://open.spotify.com/track/000xQL6tZNLJzIr...</td>\n",
       "      <td>2017-03-24</td>\n",
       "      <td>Norway</td>\n",
       "      <td>000xQL6tZNLJzIrtIgxqSl</td>\n",
       "      <td>2017-03-24</td>\n",
       "    </tr>\n",
       "    <tr>\n",
       "      <th>387460</th>\n",
       "      <td>61</td>\n",
       "      <td>Still Got Time</td>\n",
       "      <td>ZAYN</td>\n",
       "      <td>26475</td>\n",
       "      <td>https://open.spotify.com/track/000xQL6tZNLJzIr...</td>\n",
       "      <td>2017-03-24</td>\n",
       "      <td>Italy</td>\n",
       "      <td>000xQL6tZNLJzIrtIgxqSl</td>\n",
       "      <td>2017-03-24</td>\n",
       "    </tr>\n",
       "    <tr>\n",
       "      <th>449503</th>\n",
       "      <td>45</td>\n",
       "      <td>Still Got Time</td>\n",
       "      <td>ZAYN</td>\n",
       "      <td>1207</td>\n",
       "      <td>https://open.spotify.com/track/000xQL6tZNLJzIr...</td>\n",
       "      <td>2017-03-24</td>\n",
       "      <td>Lithuania</td>\n",
       "      <td>000xQL6tZNLJzIrtIgxqSl</td>\n",
       "      <td>2017-03-24</td>\n",
       "    </tr>\n",
       "    <tr>\n",
       "      <th>478507</th>\n",
       "      <td>109</td>\n",
       "      <td>Still Got Time</td>\n",
       "      <td>ZAYN</td>\n",
       "      <td>28595</td>\n",
       "      <td>https://open.spotify.com/track/000xQL6tZNLJzIr...</td>\n",
       "      <td>2017-03-24</td>\n",
       "      <td>Philippines</td>\n",
       "      <td>000xQL6tZNLJzIrtIgxqSl</td>\n",
       "      <td>2017-03-24</td>\n",
       "    </tr>\n",
       "    <tr>\n",
       "      <th>552654</th>\n",
       "      <td>56</td>\n",
       "      <td>Still Got Time</td>\n",
       "      <td>ZAYN</td>\n",
       "      <td>6103</td>\n",
       "      <td>https://open.spotify.com/track/000xQL6tZNLJzIr...</td>\n",
       "      <td>2017-03-24</td>\n",
       "      <td>Taiwan</td>\n",
       "      <td>000xQL6tZNLJzIrtIgxqSl</td>\n",
       "      <td>2017-03-24</td>\n",
       "    </tr>\n",
       "    <tr>\n",
       "      <th>626873</th>\n",
       "      <td>75</td>\n",
       "      <td>Still Got Time</td>\n",
       "      <td>ZAYN</td>\n",
       "      <td>10837</td>\n",
       "      <td>https://open.spotify.com/track/000xQL6tZNLJzIr...</td>\n",
       "      <td>2017-03-24</td>\n",
       "      <td>NewZealand</td>\n",
       "      <td>000xQL6tZNLJzIrtIgxqSl</td>\n",
       "      <td>2017-03-24</td>\n",
       "    </tr>\n",
       "    <tr>\n",
       "      <th>713911</th>\n",
       "      <td>90</td>\n",
       "      <td>Still Got Time</td>\n",
       "      <td>ZAYN</td>\n",
       "      <td>7227</td>\n",
       "      <td>https://open.spotify.com/track/000xQL6tZNLJzIr...</td>\n",
       "      <td>2017-03-24</td>\n",
       "      <td>Turkey</td>\n",
       "      <td>000xQL6tZNLJzIrtIgxqSl</td>\n",
       "      <td>2017-03-24</td>\n",
       "    </tr>\n",
       "    <tr>\n",
       "      <th>788074</th>\n",
       "      <td>53</td>\n",
       "      <td>Still Got Time</td>\n",
       "      <td>ZAYN</td>\n",
       "      <td>492315</td>\n",
       "      <td>https://open.spotify.com/track/000xQL6tZNLJzIr...</td>\n",
       "      <td>2017-03-24</td>\n",
       "      <td>USA</td>\n",
       "      <td>000xQL6tZNLJzIrtIgxqSl</td>\n",
       "      <td>2017-03-24</td>\n",
       "    </tr>\n",
       "    <tr>\n",
       "      <th>975411</th>\n",
       "      <td>97</td>\n",
       "      <td>Still Got Time</td>\n",
       "      <td>ZAYN</td>\n",
       "      <td>65252</td>\n",
       "      <td>https://open.spotify.com/track/000xQL6tZNLJzIr...</td>\n",
       "      <td>2017-03-24</td>\n",
       "      <td>Germany</td>\n",
       "      <td>000xQL6tZNLJzIrtIgxqSl</td>\n",
       "      <td>2017-03-24</td>\n",
       "    </tr>\n",
       "    <tr>\n",
       "      <th>1122185</th>\n",
       "      <td>72</td>\n",
       "      <td>Still Got Time</td>\n",
       "      <td>ZAYN</td>\n",
       "      <td>2242</td>\n",
       "      <td>https://open.spotify.com/track/000xQL6tZNLJzIr...</td>\n",
       "      <td>2017-03-24</td>\n",
       "      <td>Japan</td>\n",
       "      <td>000xQL6tZNLJzIrtIgxqSl</td>\n",
       "      <td>2017-03-24</td>\n",
       "    </tr>\n",
       "    <tr>\n",
       "      <th>1196366</th>\n",
       "      <td>53</td>\n",
       "      <td>Still Got Time</td>\n",
       "      <td>ZAYN</td>\n",
       "      <td>95760</td>\n",
       "      <td>https://open.spotify.com/track/000xQL6tZNLJzIr...</td>\n",
       "      <td>2017-03-24</td>\n",
       "      <td>Brazil</td>\n",
       "      <td>000xQL6tZNLJzIrtIgxqSl</td>\n",
       "      <td>2017-03-24</td>\n",
       "    </tr>\n",
       "    <tr>\n",
       "      <th>1309513</th>\n",
       "      <td>183</td>\n",
       "      <td>Still Got Time</td>\n",
       "      <td>ZAYN</td>\n",
       "      <td>1006</td>\n",
       "      <td>https://open.spotify.com/track/000xQL6tZNLJzIr...</td>\n",
       "      <td>2017-03-24</td>\n",
       "      <td>Guatemala</td>\n",
       "      <td>000xQL6tZNLJzIrtIgxqSl</td>\n",
       "      <td>2017-03-24</td>\n",
       "    </tr>\n",
       "    <tr>\n",
       "      <th>1381029</th>\n",
       "      <td>80</td>\n",
       "      <td>Still Got Time</td>\n",
       "      <td>ZAYN</td>\n",
       "      <td>6017</td>\n",
       "      <td>https://open.spotify.com/track/000xQL6tZNLJzIr...</td>\n",
       "      <td>2017-03-24</td>\n",
       "      <td>Switzerland</td>\n",
       "      <td>000xQL6tZNLJzIrtIgxqSl</td>\n",
       "      <td>2017-03-24</td>\n",
       "    </tr>\n",
       "    <tr>\n",
       "      <th>1450166</th>\n",
       "      <td>55</td>\n",
       "      <td>Still Got Time</td>\n",
       "      <td>ZAYN</td>\n",
       "      <td>2257</td>\n",
       "      <td>https://open.spotify.com/track/000xQL6tZNLJzIr...</td>\n",
       "      <td>2017-03-24</td>\n",
       "      <td>Hungary</td>\n",
       "      <td>000xQL6tZNLJzIrtIgxqSl</td>\n",
       "      <td>2017-03-24</td>\n",
       "    </tr>\n",
       "    <tr>\n",
       "      <th>1515371</th>\n",
       "      <td>50</td>\n",
       "      <td>Still Got Time</td>\n",
       "      <td>ZAYN</td>\n",
       "      <td>73310</td>\n",
       "      <td>https://open.spotify.com/track/000xQL6tZNLJzIr...</td>\n",
       "      <td>2017-03-24</td>\n",
       "      <td>Canada</td>\n",
       "      <td>000xQL6tZNLJzIrtIgxqSl</td>\n",
       "      <td>2017-03-24</td>\n",
       "    </tr>\n",
       "    <tr>\n",
       "      <th>1663840</th>\n",
       "      <td>119</td>\n",
       "      <td>Still Got Time</td>\n",
       "      <td>ZAYN</td>\n",
       "      <td>4876</td>\n",
       "      <td>https://open.spotify.com/track/000xQL6tZNLJzIr...</td>\n",
       "      <td>2017-03-24</td>\n",
       "      <td>Belgium</td>\n",
       "      <td>000xQL6tZNLJzIrtIgxqSl</td>\n",
       "      <td>2017-03-24</td>\n",
       "    </tr>\n",
       "    <tr>\n",
       "      <th>1737973</th>\n",
       "      <td>52</td>\n",
       "      <td>Still Got Time</td>\n",
       "      <td>ZAYN</td>\n",
       "      <td>10926</td>\n",
       "      <td>https://open.spotify.com/track/000xQL6tZNLJzIr...</td>\n",
       "      <td>2017-03-24</td>\n",
       "      <td>Malaysia</td>\n",
       "      <td>000xQL6tZNLJzIrtIgxqSl</td>\n",
       "      <td>2017-03-24</td>\n",
       "    </tr>\n",
       "    <tr>\n",
       "      <th>1811976</th>\n",
       "      <td>55</td>\n",
       "      <td>Still Got Time</td>\n",
       "      <td>ZAYN</td>\n",
       "      <td>27401</td>\n",
       "      <td>https://open.spotify.com/track/000xQL6tZNLJzIr...</td>\n",
       "      <td>2017-03-24</td>\n",
       "      <td>Denmark</td>\n",
       "      <td>000xQL6tZNLJzIrtIgxqSl</td>\n",
       "      <td>2017-03-24</td>\n",
       "    </tr>\n",
       "    <tr>\n",
       "      <th>1925987</th>\n",
       "      <td>28</td>\n",
       "      <td>Still Got Time</td>\n",
       "      <td>ZAYN</td>\n",
       "      <td>15480</td>\n",
       "      <td>https://open.spotify.com/track/000xQL6tZNLJzIr...</td>\n",
       "      <td>2017-03-24</td>\n",
       "      <td>Poland</td>\n",
       "      <td>000xQL6tZNLJzIrtIgxqSl</td>\n",
       "      <td>2017-03-24</td>\n",
       "    </tr>\n",
       "    <tr>\n",
       "      <th>2000224</th>\n",
       "      <td>65</td>\n",
       "      <td>Still Got Time</td>\n",
       "      <td>ZAYN</td>\n",
       "      <td>4066</td>\n",
       "      <td>https://open.spotify.com/track/000xQL6tZNLJzIr...</td>\n",
       "      <td>2017-03-24</td>\n",
       "      <td>Austria</td>\n",
       "      <td>000xQL6tZNLJzIrtIgxqSl</td>\n",
       "      <td>2017-03-24</td>\n",
       "    </tr>\n",
       "    <tr>\n",
       "      <th>2074409</th>\n",
       "      <td>50</td>\n",
       "      <td>Still Got Time</td>\n",
       "      <td>ZAYN</td>\n",
       "      <td>8228</td>\n",
       "      <td>https://open.spotify.com/track/000xQL6tZNLJzIr...</td>\n",
       "      <td>2017-03-24</td>\n",
       "      <td>Portugal</td>\n",
       "      <td>000xQL6tZNLJzIrtIgxqSl</td>\n",
       "      <td>2017-03-24</td>\n",
       "    </tr>\n",
       "    <tr>\n",
       "      <th>2148605</th>\n",
       "      <td>46</td>\n",
       "      <td>Still Got Time</td>\n",
       "      <td>ZAYN</td>\n",
       "      <td>74682</td>\n",
       "      <td>https://open.spotify.com/track/000xQL6tZNLJzIr...</td>\n",
       "      <td>2017-03-24</td>\n",
       "      <td>Sweden</td>\n",
       "      <td>000xQL6tZNLJzIrtIgxqSl</td>\n",
       "      <td>2017-03-24</td>\n",
       "    </tr>\n",
       "    <tr>\n",
       "      <th>2222882</th>\n",
       "      <td>123</td>\n",
       "      <td>Still Got Time</td>\n",
       "      <td>ZAYN</td>\n",
       "      <td>49235</td>\n",
       "      <td>https://open.spotify.com/track/000xQL6tZNLJzIr...</td>\n",
       "      <td>2017-03-24</td>\n",
       "      <td>Mexico</td>\n",
       "      <td>000xQL6tZNLJzIrtIgxqSl</td>\n",
       "      <td>2017-03-24</td>\n",
       "    </tr>\n",
       "    <tr>\n",
       "      <th>2453261</th>\n",
       "      <td>153</td>\n",
       "      <td>Still Got Time</td>\n",
       "      <td>ZAYN</td>\n",
       "      <td>21327</td>\n",
       "      <td>https://open.spotify.com/track/000xQL6tZNLJzIr...</td>\n",
       "      <td>2017-03-24</td>\n",
       "      <td>Spain</td>\n",
       "      <td>000xQL6tZNLJzIrtIgxqSl</td>\n",
       "      <td>2017-03-24</td>\n",
       "    </tr>\n",
       "    <tr>\n",
       "      <th>2526313</th>\n",
       "      <td>73</td>\n",
       "      <td>Still Got Time</td>\n",
       "      <td>ZAYN</td>\n",
       "      <td>2475</td>\n",
       "      <td>https://open.spotify.com/track/000xQL6tZNLJzIr...</td>\n",
       "      <td>2017-03-24</td>\n",
       "      <td>CzechRepublic</td>\n",
       "      <td>000xQL6tZNLJzIrtIgxqSl</td>\n",
       "      <td>2017-03-24</td>\n",
       "    </tr>\n",
       "    <tr>\n",
       "      <th>2600445</th>\n",
       "      <td>46</td>\n",
       "      <td>Still Got Time</td>\n",
       "      <td>ZAYN</td>\n",
       "      <td>13248</td>\n",
       "      <td>https://open.spotify.com/track/000xQL6tZNLJzIr...</td>\n",
       "      <td>2017-03-24</td>\n",
       "      <td>Ireland</td>\n",
       "      <td>000xQL6tZNLJzIrtIgxqSl</td>\n",
       "      <td>2017-03-24</td>\n",
       "    </tr>\n",
       "    <tr>\n",
       "      <th>2674674</th>\n",
       "      <td>75</td>\n",
       "      <td>Still Got Time</td>\n",
       "      <td>ZAYN</td>\n",
       "      <td>51046</td>\n",
       "      <td>https://open.spotify.com/track/000xQL6tZNLJzIr...</td>\n",
       "      <td>2017-03-24</td>\n",
       "      <td>Netherlands</td>\n",
       "      <td>000xQL6tZNLJzIrtIgxqSl</td>\n",
       "      <td>2017-03-24</td>\n",
       "    </tr>\n",
       "    <tr>\n",
       "      <th>2736566</th>\n",
       "      <td>45</td>\n",
       "      <td>Still Got Time</td>\n",
       "      <td>ZAYN</td>\n",
       "      <td>1186</td>\n",
       "      <td>https://open.spotify.com/track/000xQL6tZNLJzIr...</td>\n",
       "      <td>2017-03-24</td>\n",
       "      <td>Slovakia</td>\n",
       "      <td>000xQL6tZNLJzIrtIgxqSl</td>\n",
       "      <td>2017-03-24</td>\n",
       "    </tr>\n",
       "    <tr>\n",
       "      <th>2771523</th>\n",
       "      <td>127</td>\n",
       "      <td>Still Got Time</td>\n",
       "      <td>ZAYN</td>\n",
       "      <td>5620</td>\n",
       "      <td>https://open.spotify.com/track/000xQL6tZNLJzIr...</td>\n",
       "      <td>2017-03-24</td>\n",
       "      <td>Columbia</td>\n",
       "      <td>000xQL6tZNLJzIrtIgxqSl</td>\n",
       "      <td>2017-03-24</td>\n",
       "    </tr>\n",
       "    <tr>\n",
       "      <th>2845712</th>\n",
       "      <td>116</td>\n",
       "      <td>Still Got Time</td>\n",
       "      <td>ZAYN</td>\n",
       "      <td>5639</td>\n",
       "      <td>https://open.spotify.com/track/000xQL6tZNLJzIr...</td>\n",
       "      <td>2017-03-24</td>\n",
       "      <td>Singapore</td>\n",
       "      <td>000xQL6tZNLJzIrtIgxqSl</td>\n",
       "      <td>2017-03-24</td>\n",
       "    </tr>\n",
       "    <tr>\n",
       "      <th>2919857</th>\n",
       "      <td>61</td>\n",
       "      <td>Still Got Time</td>\n",
       "      <td>ZAYN</td>\n",
       "      <td>12609</td>\n",
       "      <td>https://open.spotify.com/track/000xQL6tZNLJzIr...</td>\n",
       "      <td>2017-03-24</td>\n",
       "      <td>Indonesia</td>\n",
       "      <td>000xQL6tZNLJzIrtIgxqSl</td>\n",
       "      <td>2017-03-24</td>\n",
       "    </tr>\n",
       "    <tr>\n",
       "      <th>3058884</th>\n",
       "      <td>42</td>\n",
       "      <td>Still Got Time</td>\n",
       "      <td>ZAYN</td>\n",
       "      <td>203303</td>\n",
       "      <td>https://open.spotify.com/track/000xQL6tZNLJzIr...</td>\n",
       "      <td>2017-03-24</td>\n",
       "      <td>UnitedKingdom</td>\n",
       "      <td>000xQL6tZNLJzIrtIgxqSl</td>\n",
       "      <td>2017-03-24</td>\n",
       "    </tr>\n",
       "    <tr>\n",
       "      <th>3132692</th>\n",
       "      <td>50</td>\n",
       "      <td>Still Got Time</td>\n",
       "      <td>ZAYN</td>\n",
       "      <td>1496783</td>\n",
       "      <td>https://open.spotify.com/track/000xQL6tZNLJzIr...</td>\n",
       "      <td>2017-03-24</td>\n",
       "      <td>World</td>\n",
       "      <td>000xQL6tZNLJzIrtIgxqSl</td>\n",
       "      <td>2017-03-24</td>\n",
       "    </tr>\n",
       "    <tr>\n",
       "      <th>3262702</th>\n",
       "      <td>63</td>\n",
       "      <td>Still Got Time</td>\n",
       "      <td>ZAYN</td>\n",
       "      <td>47125</td>\n",
       "      <td>https://open.spotify.com/track/000xQL6tZNLJzIr...</td>\n",
       "      <td>2017-03-24</td>\n",
       "      <td>Australia</td>\n",
       "      <td>000xQL6tZNLJzIrtIgxqSl</td>\n",
       "      <td>2017-03-24</td>\n",
       "    </tr>\n",
       "    <tr>\n",
       "      <th>3345051</th>\n",
       "      <td>46</td>\n",
       "      <td>Still Got Time</td>\n",
       "      <td>ZAYN</td>\n",
       "      <td>1619</td>\n",
       "      <td>https://open.spotify.com/track/000xQL6tZNLJzIr...</td>\n",
       "      <td>2017-03-24</td>\n",
       "      <td>Greece</td>\n",
       "      <td>000xQL6tZNLJzIrtIgxqSl</td>\n",
       "      <td>2017-03-24</td>\n",
       "    </tr>\n",
       "    <tr>\n",
       "      <th>3383521</th>\n",
       "      <td>125</td>\n",
       "      <td>Still Got Time</td>\n",
       "      <td>ZAYN</td>\n",
       "      <td>2633</td>\n",
       "      <td>https://open.spotify.com/track/000xQL6tZNLJzIr...</td>\n",
       "      <td>2017-03-24</td>\n",
       "      <td>HongKong</td>\n",
       "      <td>000xQL6tZNLJzIrtIgxqSl</td>\n",
       "      <td>2017-03-24</td>\n",
       "    </tr>\n",
       "  </tbody>\n",
       "</table>\n",
       "</div>"
      ],
      "text/plain": [
       "         Position      Track Name Artist  Streams  \\\n",
       "16562         163  Still Got Time   ZAYN     1629   \n",
       "90738         139  Still Got Time   ZAYN    26050   \n",
       "239068         69  Still Got Time   ZAYN    15219   \n",
       "313253         54  Still Got Time   ZAYN    37752   \n",
       "387460         61  Still Got Time   ZAYN    26475   \n",
       "449503         45  Still Got Time   ZAYN     1207   \n",
       "478507        109  Still Got Time   ZAYN    28595   \n",
       "552654         56  Still Got Time   ZAYN     6103   \n",
       "626873         75  Still Got Time   ZAYN    10837   \n",
       "713911         90  Still Got Time   ZAYN     7227   \n",
       "788074         53  Still Got Time   ZAYN   492315   \n",
       "975411         97  Still Got Time   ZAYN    65252   \n",
       "1122185        72  Still Got Time   ZAYN     2242   \n",
       "1196366        53  Still Got Time   ZAYN    95760   \n",
       "1309513       183  Still Got Time   ZAYN     1006   \n",
       "1381029        80  Still Got Time   ZAYN     6017   \n",
       "1450166        55  Still Got Time   ZAYN     2257   \n",
       "1515371        50  Still Got Time   ZAYN    73310   \n",
       "1663840       119  Still Got Time   ZAYN     4876   \n",
       "1737973        52  Still Got Time   ZAYN    10926   \n",
       "1811976        55  Still Got Time   ZAYN    27401   \n",
       "1925987        28  Still Got Time   ZAYN    15480   \n",
       "2000224        65  Still Got Time   ZAYN     4066   \n",
       "2074409        50  Still Got Time   ZAYN     8228   \n",
       "2148605        46  Still Got Time   ZAYN    74682   \n",
       "2222882       123  Still Got Time   ZAYN    49235   \n",
       "2453261       153  Still Got Time   ZAYN    21327   \n",
       "2526313        73  Still Got Time   ZAYN     2475   \n",
       "2600445        46  Still Got Time   ZAYN    13248   \n",
       "2674674        75  Still Got Time   ZAYN    51046   \n",
       "2736566        45  Still Got Time   ZAYN     1186   \n",
       "2771523       127  Still Got Time   ZAYN     5620   \n",
       "2845712       116  Still Got Time   ZAYN     5639   \n",
       "2919857        61  Still Got Time   ZAYN    12609   \n",
       "3058884        42  Still Got Time   ZAYN   203303   \n",
       "3132692        50  Still Got Time   ZAYN  1496783   \n",
       "3262702        63  Still Got Time   ZAYN    47125   \n",
       "3345051        46  Still Got Time   ZAYN     1619   \n",
       "3383521       125  Still Got Time   ZAYN     2633   \n",
       "\n",
       "                                                       URL       Date  \\\n",
       "16562    https://open.spotify.com/track/000xQL6tZNLJzIr... 2017-03-24   \n",
       "90738    https://open.spotify.com/track/000xQL6tZNLJzIr... 2017-03-24   \n",
       "239068   https://open.spotify.com/track/000xQL6tZNLJzIr... 2017-03-24   \n",
       "313253   https://open.spotify.com/track/000xQL6tZNLJzIr... 2017-03-24   \n",
       "387460   https://open.spotify.com/track/000xQL6tZNLJzIr... 2017-03-24   \n",
       "449503   https://open.spotify.com/track/000xQL6tZNLJzIr... 2017-03-24   \n",
       "478507   https://open.spotify.com/track/000xQL6tZNLJzIr... 2017-03-24   \n",
       "552654   https://open.spotify.com/track/000xQL6tZNLJzIr... 2017-03-24   \n",
       "626873   https://open.spotify.com/track/000xQL6tZNLJzIr... 2017-03-24   \n",
       "713911   https://open.spotify.com/track/000xQL6tZNLJzIr... 2017-03-24   \n",
       "788074   https://open.spotify.com/track/000xQL6tZNLJzIr... 2017-03-24   \n",
       "975411   https://open.spotify.com/track/000xQL6tZNLJzIr... 2017-03-24   \n",
       "1122185  https://open.spotify.com/track/000xQL6tZNLJzIr... 2017-03-24   \n",
       "1196366  https://open.spotify.com/track/000xQL6tZNLJzIr... 2017-03-24   \n",
       "1309513  https://open.spotify.com/track/000xQL6tZNLJzIr... 2017-03-24   \n",
       "1381029  https://open.spotify.com/track/000xQL6tZNLJzIr... 2017-03-24   \n",
       "1450166  https://open.spotify.com/track/000xQL6tZNLJzIr... 2017-03-24   \n",
       "1515371  https://open.spotify.com/track/000xQL6tZNLJzIr... 2017-03-24   \n",
       "1663840  https://open.spotify.com/track/000xQL6tZNLJzIr... 2017-03-24   \n",
       "1737973  https://open.spotify.com/track/000xQL6tZNLJzIr... 2017-03-24   \n",
       "1811976  https://open.spotify.com/track/000xQL6tZNLJzIr... 2017-03-24   \n",
       "1925987  https://open.spotify.com/track/000xQL6tZNLJzIr... 2017-03-24   \n",
       "2000224  https://open.spotify.com/track/000xQL6tZNLJzIr... 2017-03-24   \n",
       "2074409  https://open.spotify.com/track/000xQL6tZNLJzIr... 2017-03-24   \n",
       "2148605  https://open.spotify.com/track/000xQL6tZNLJzIr... 2017-03-24   \n",
       "2222882  https://open.spotify.com/track/000xQL6tZNLJzIr... 2017-03-24   \n",
       "2453261  https://open.spotify.com/track/000xQL6tZNLJzIr... 2017-03-24   \n",
       "2526313  https://open.spotify.com/track/000xQL6tZNLJzIr... 2017-03-24   \n",
       "2600445  https://open.spotify.com/track/000xQL6tZNLJzIr... 2017-03-24   \n",
       "2674674  https://open.spotify.com/track/000xQL6tZNLJzIr... 2017-03-24   \n",
       "2736566  https://open.spotify.com/track/000xQL6tZNLJzIr... 2017-03-24   \n",
       "2771523  https://open.spotify.com/track/000xQL6tZNLJzIr... 2017-03-24   \n",
       "2845712  https://open.spotify.com/track/000xQL6tZNLJzIr... 2017-03-24   \n",
       "2919857  https://open.spotify.com/track/000xQL6tZNLJzIr... 2017-03-24   \n",
       "3058884  https://open.spotify.com/track/000xQL6tZNLJzIr... 2017-03-24   \n",
       "3132692  https://open.spotify.com/track/000xQL6tZNLJzIr... 2017-03-24   \n",
       "3262702  https://open.spotify.com/track/000xQL6tZNLJzIr... 2017-03-24   \n",
       "3345051  https://open.spotify.com/track/000xQL6tZNLJzIr... 2017-03-24   \n",
       "3383521  https://open.spotify.com/track/000xQL6tZNLJzIr... 2017-03-24   \n",
       "\n",
       "                Region                 song_id release_date  \n",
       "16562          Ecuador  000xQL6tZNLJzIrtIgxqSl   2017-03-24  \n",
       "90738           France  000xQL6tZNLJzIrtIgxqSl   2017-03-24  \n",
       "239068         Finland  000xQL6tZNLJzIrtIgxqSl   2017-03-24  \n",
       "313253          Norway  000xQL6tZNLJzIrtIgxqSl   2017-03-24  \n",
       "387460           Italy  000xQL6tZNLJzIrtIgxqSl   2017-03-24  \n",
       "449503       Lithuania  000xQL6tZNLJzIrtIgxqSl   2017-03-24  \n",
       "478507     Philippines  000xQL6tZNLJzIrtIgxqSl   2017-03-24  \n",
       "552654          Taiwan  000xQL6tZNLJzIrtIgxqSl   2017-03-24  \n",
       "626873      NewZealand  000xQL6tZNLJzIrtIgxqSl   2017-03-24  \n",
       "713911          Turkey  000xQL6tZNLJzIrtIgxqSl   2017-03-24  \n",
       "788074             USA  000xQL6tZNLJzIrtIgxqSl   2017-03-24  \n",
       "975411         Germany  000xQL6tZNLJzIrtIgxqSl   2017-03-24  \n",
       "1122185          Japan  000xQL6tZNLJzIrtIgxqSl   2017-03-24  \n",
       "1196366         Brazil  000xQL6tZNLJzIrtIgxqSl   2017-03-24  \n",
       "1309513      Guatemala  000xQL6tZNLJzIrtIgxqSl   2017-03-24  \n",
       "1381029    Switzerland  000xQL6tZNLJzIrtIgxqSl   2017-03-24  \n",
       "1450166        Hungary  000xQL6tZNLJzIrtIgxqSl   2017-03-24  \n",
       "1515371         Canada  000xQL6tZNLJzIrtIgxqSl   2017-03-24  \n",
       "1663840        Belgium  000xQL6tZNLJzIrtIgxqSl   2017-03-24  \n",
       "1737973       Malaysia  000xQL6tZNLJzIrtIgxqSl   2017-03-24  \n",
       "1811976        Denmark  000xQL6tZNLJzIrtIgxqSl   2017-03-24  \n",
       "1925987         Poland  000xQL6tZNLJzIrtIgxqSl   2017-03-24  \n",
       "2000224        Austria  000xQL6tZNLJzIrtIgxqSl   2017-03-24  \n",
       "2074409       Portugal  000xQL6tZNLJzIrtIgxqSl   2017-03-24  \n",
       "2148605         Sweden  000xQL6tZNLJzIrtIgxqSl   2017-03-24  \n",
       "2222882         Mexico  000xQL6tZNLJzIrtIgxqSl   2017-03-24  \n",
       "2453261          Spain  000xQL6tZNLJzIrtIgxqSl   2017-03-24  \n",
       "2526313  CzechRepublic  000xQL6tZNLJzIrtIgxqSl   2017-03-24  \n",
       "2600445        Ireland  000xQL6tZNLJzIrtIgxqSl   2017-03-24  \n",
       "2674674    Netherlands  000xQL6tZNLJzIrtIgxqSl   2017-03-24  \n",
       "2736566       Slovakia  000xQL6tZNLJzIrtIgxqSl   2017-03-24  \n",
       "2771523       Columbia  000xQL6tZNLJzIrtIgxqSl   2017-03-24  \n",
       "2845712      Singapore  000xQL6tZNLJzIrtIgxqSl   2017-03-24  \n",
       "2919857      Indonesia  000xQL6tZNLJzIrtIgxqSl   2017-03-24  \n",
       "3058884  UnitedKingdom  000xQL6tZNLJzIrtIgxqSl   2017-03-24  \n",
       "3132692          World  000xQL6tZNLJzIrtIgxqSl   2017-03-24  \n",
       "3262702      Australia  000xQL6tZNLJzIrtIgxqSl   2017-03-24  \n",
       "3345051         Greece  000xQL6tZNLJzIrtIgxqSl   2017-03-24  \n",
       "3383521       HongKong  000xQL6tZNLJzIrtIgxqSl   2017-03-24  "
      ]
     },
     "execution_count": 36,
     "metadata": {},
     "output_type": "execute_result"
    }
   ],
   "source": [
    "release_ranking_df[release_ranking_df['song_id']=='000xQL6tZNLJzIrtIgxqSl']"
   ]
  },
  {
   "cell_type": "code",
   "execution_count": 37,
   "metadata": {},
   "outputs": [
    {
     "data": {
      "text/plain": [
       "39"
      ]
     },
     "execution_count": 37,
     "metadata": {},
     "output_type": "execute_result"
    }
   ],
   "source": [
    "len(release_ranking_df[release_ranking_df['song_id']=='000xQL6tZNLJzIrtIgxqSl']['Region'].to_list())"
   ]
  },
  {
   "cell_type": "code",
   "execution_count": 46,
   "metadata": {},
   "outputs": [
    {
     "data": {
      "text/plain": [
       "(0.946, 6.3]    94287\n",
       "(6.3, 11.6]      1678\n",
       "(11.6, 16.9]     1276\n",
       "(16.9, 22.2]      743\n",
       "(22.2, 27.5]      502\n",
       "(27.5, 32.8]      379\n",
       "(32.8, 38.1]      274\n",
       "(43.4, 48.7]      250\n",
       "(38.1, 43.4]      172\n",
       "(48.7, 54.0]       90\n",
       "Name: 0, dtype: int64"
      ]
     },
     "execution_count": 46,
     "metadata": {},
     "output_type": "execute_result"
    }
   ],
   "source": [
    "num_initial_lists_df[0].value_counts(bins=10)"
   ]
  },
  {
   "cell_type": "code",
   "execution_count": 43,
   "metadata": {},
   "outputs": [
    {
     "data": {
      "text/plain": [
       "<matplotlib.axes._subplots.AxesSubplot at 0x171e98f70>"
      ]
     },
     "execution_count": 43,
     "metadata": {},
     "output_type": "execute_result"
    },
    {
     "data": {
      "image/png": "[encoded data removed]",
      "text/plain": [
       "<Figure size 432x288 with 1 Axes>"
      ]
     },
     "metadata": {
      "needs_background": "light"
     },
     "output_type": "display_data"
    }
   ],
   "source": [
    "num_initial_lists_df[0].value_counts(bins=10).plot(kind='bar', grid=True)"
   ]
  },
  {
   "cell_type": "markdown",
   "metadata": {},
   "source": [
    "### Remove songs appearing in duplicate countries initially"
   ]
  },
  {
   "cell_type": "code",
   "execution_count": null,
   "metadata": {},
   "outputs": [],
   "source": [
    "def remove_duplicate_songs_fn(ranking_df_):\n",
    "    release_ranking_df = ranking_df_[ranking_df_['Date']== ranking_df_['release_date']]\n",
    "    num_initial_lists_df = release_ranking_df.groupby('song_id').size().to_frame()\n",
    "    #print(num_initial_lists_df)\n",
    "    num_initial_lists_df.columns =['num_lists']\n",
    "    songs_with_one_initial_list = num_initial_lists_df[num_initial_lists_df['num_lists']==1].index.to_list()\n",
    "    #print(songs_with_one_initial_list)\n",
    "    return ranking_df_[ranking_df_['song_id'].isin(songs_with_one_initial_list)]   "
   ]
  },
  {
   "cell_type": "code",
   "execution_count": null,
   "metadata": {},
   "outputs": [],
   "source": [
    "clean_ranking_df = remove_duplicate_songs_fn(ranking_df)"
   ]
  },
  {
   "cell_type": "code",
   "execution_count": null,
   "metadata": {},
   "outputs": [],
   "source": [
    "clean_ranking_df.head()"
   ]
  },
  {
   "cell_type": "code",
   "execution_count": null,
   "metadata": {},
   "outputs": [],
   "source": [
    "clean_ranking_df.info()"
   ]
  },
  {
   "cell_type": "code",
   "execution_count": null,
   "metadata": {},
   "outputs": [],
   "source": [
    "clean_ranking_df.to_csv(os.path.join('data', 'clean_ranking_2017_2021.csv'))"
   ]
  },
  {
   "cell_type": "markdown",
   "metadata": {},
   "source": [
    "### Generate songs' timeseries"
   ]
  },
  {
   "cell_type": "code",
   "execution_count": null,
   "metadata": {},
   "outputs": [],
   "source": [
    "def generate_songs_timeseries_fin(clean_ranking_df_):\n",
    "    num_countries_lst = []\n",
    "    total_countries_per_song = {}\n",
    "    songs_ids = clean_ranking_df_['song_id'].unique()\n",
    "    \n",
    "    \n",
    "    for song_id in tqdm(clean_ranking_df_['song_id'].unique()):\n",
    "        song_df =clean_ranking_df_[clean_ranking_df_['song_id']==song_id]\n",
    "        song_dates = song_df['Date'].unique()\n",
    "        song_dates.sort()\n",
    "        num_day = 1\n",
    "        for d in song_dates:\n",
    "            song_date_df = song_df[song_df['Date']==d]\n",
    "            \n",
    "            current_countries = set(song_date_df['Region'].unique())\n",
    "            total_countries =total_countries_per_song.get(song_id,set())\n",
    "            \n",
    "            in_countries = current_countries - total_countries\n",
    "            out_countries = total_countries- current_countries\n",
    "\n",
    "\n",
    "            total_countries=total_countries.union(current_countries)\n",
    "            total_countries_per_song[song_id]= total_countries\n",
    "\n",
    "\n",
    "            num_countries_lst.append((song_id,num_day,len(total_countries), len(current_countries), len(in_countries), len(out_countries)))\n",
    "            \n",
    "            #print(d, num_countries)\n",
    "            #num_countries_lst.append((song_id,num_day,num_countries))\n",
    "            num_day +=1\n",
    "    num_countries_df_ = pd.DataFrame.from_records(num_countries_lst, columns='song_id num_day total_countries current_countries inc dec'.split())\n",
    "    num_countries_df_.to_csv(os.path.join('data', 'raw_songs_timeseries.csv'))\n",
    "    return num_countries_df_"
   ]
  },
  {
   "cell_type": "code",
   "execution_count": null,
   "metadata": {
    "scrolled": true
   },
   "outputs": [],
   "source": [
    "songs_ts = generate_songs_timeseries_fin(clean_ranking_df)\n",
    "\n",
    "\"\"\"\n",
    "num_countries_lst = []\n",
    "songs_ids = clean_ranking_df['song_id'].unique()\n",
    "for song_id in tqdm(clean_ranking_df['song_id'].unique()):\n",
    "    song_df =clean_ranking_df[clean_ranking_df['song_id']==song_id]\n",
    "    song_dates = song_df['Date'].unique()\n",
    "    song_dates.sort()\n",
    "    num_day = 1\n",
    "    for d in song_dates:\n",
    "        song_date_df = song_df[song_df['Date']==d]\n",
    "        num_countries = song_date_df['Region'].nunique()\n",
    "        #print(d, num_countries)\n",
    "        num_countries_lst.append((song_id,num_day,num_countries))\n",
    "        num_day +=1\n",
    "num_countries_df = pd.DataFrame.from_records(num_countries_lst, columns='song_id num_day num_countries'.split())\n",
    "num_countries_df.to_csv(os.path.join('data', 'num_countries.csv'))\n",
    "\"\"\""
   ]
  },
  {
   "cell_type": "code",
   "execution_count": null,
   "metadata": {
    "scrolled": true
   },
   "outputs": [],
   "source": [
    "songs_ts['dec'].value_counts(bins=10)"
   ]
  },
  {
   "cell_type": "code",
   "execution_count": null,
   "metadata": {},
   "outputs": [],
   "source": [
    "songs_ts.info()"
   ]
  },
  {
   "cell_type": "markdown",
   "metadata": {},
   "source": [
    "### Remove abnormal increments"
   ]
  },
  {
   "cell_type": "code",
   "execution_count": null,
   "metadata": {
    "scrolled": true
   },
   "outputs": [],
   "source": [
    "songs_ts['inc'].value_counts(bins=5)"
   ]
  },
  {
   "cell_type": "code",
   "execution_count": null,
   "metadata": {},
   "outputs": [],
   "source": [
    "songs_to_remove= songs_ts[songs_ts['inc']>10]['song_id'].unique()"
   ]
  },
  {
   "cell_type": "code",
   "execution_count": null,
   "metadata": {},
   "outputs": [],
   "source": [
    "songs_to_remove"
   ]
  },
  {
   "cell_type": "code",
   "execution_count": null,
   "metadata": {},
   "outputs": [],
   "source": [
    "songs_clean_ts= songs_ts[~songs_ts['song_id'].isin(songs_to_remove)]"
   ]
  },
  {
   "cell_type": "markdown",
   "metadata": {},
   "source": [
    "### Remove songs in only one country"
   ]
  },
  {
   "cell_type": "code",
   "execution_count": null,
   "metadata": {},
   "outputs": [],
   "source": [
    "total_countries_per_song_df = songs_clean_ts.groupby('song_id')['total_countries'].max().to_frame()\n",
    "total_countries_per_song_df.head()"
   ]
  },
  {
   "cell_type": "code",
   "execution_count": null,
   "metadata": {},
   "outputs": [],
   "source": [
    "total_countries_per_song_df['total_countries'].value_counts()"
   ]
  },
  {
   "cell_type": "code",
   "execution_count": null,
   "metadata": {},
   "outputs": [],
   "source": [
    "songs_to_keep= total_countries_per_song_df[total_countries_per_song_df['total_countries']>1].index.to_list()"
   ]
  },
  {
   "cell_type": "code",
   "execution_count": null,
   "metadata": {},
   "outputs": [],
   "source": [
    "songs_clean_ts= songs_clean_ts[songs_clean_ts['song_id'].isin(songs_to_keep)]"
   ]
  },
  {
   "cell_type": "code",
   "execution_count": null,
   "metadata": {},
   "outputs": [],
   "source": [
    "songs_clean_ts.head()"
   ]
  },
  {
   "cell_type": "code",
   "execution_count": null,
   "metadata": {},
   "outputs": [],
   "source": [
    "songs_clean_ts.info()"
   ]
  },
  {
   "cell_type": "code",
   "execution_count": null,
   "metadata": {},
   "outputs": [],
   "source": [
    "print(f'Num of songs: {songs_clean_ts.song_id.nunique()}, ({round(songs_clean_ts.song_id.nunique()/n_total_songs,3)} %)')\n",
    "print(f'Max. total number of countries for a song: {songs_clean_ts.total_countries.max()}')\n",
    "print(f'Min. total number of countries for a song: {songs_clean_ts.total_countries.min()}')\n",
    "print(f'Max. current number of countries for a song: {songs_clean_ts.current_countries.max()}')\n",
    "print(f'Max. increment for a song: {songs_clean_ts.inc.max()}')\n",
    "print(f'Max. decrement for a song: {songs_clean_ts.dec.max()}')"
   ]
  },
  {
   "cell_type": "code",
   "execution_count": null,
   "metadata": {},
   "outputs": [],
   "source": [
    "sns.distplot(songs_clean_ts['inc']);"
   ]
  },
  {
   "cell_type": "code",
   "execution_count": null,
   "metadata": {},
   "outputs": [],
   "source": [
    "songs_clean_ts[songs_clean_ts['inc']>=10]"
   ]
  },
  {
   "cell_type": "code",
   "execution_count": null,
   "metadata": {},
   "outputs": [],
   "source": [
    "print_song_info('152lZdxL1OR0ZMW6KquMif')"
   ]
  },
  {
   "cell_type": "code",
   "execution_count": null,
   "metadata": {},
   "outputs": [],
   "source": [
    "print_song_info('5yuShbu70mtHXY0yLzCQLQ')"
   ]
  },
  {
   "cell_type": "markdown",
   "metadata": {},
   "source": [
    "### Plot songs' timeseries"
   ]
  },
  {
   "cell_type": "code",
   "execution_count": 5,
   "metadata": {},
   "outputs": [],
   "source": [
    "def plot_all_songs_evol_fn(songs_ts_, col_name):\n",
    "    ax= None\n",
    "    song_ids=songs_ts_['song_id'].sample(50)\n",
    "    for song_id in song_ids:\n",
    "        if ax is None:\n",
    "            ax=songs_ts_[songs_ts_['song_id']==song_id].plot(x='num_day',y=col_name, legend=False)\n",
    "        else:\n",
    "            songs_ts_[songs_ts_['song_id']==song_id].plot(ax=ax,x='num_day',y=col_name, legend=False)\n"
   ]
  },
  {
   "cell_type": "code",
   "execution_count": 6,
   "metadata": {},
   "outputs": [
    {
     "data": {
      "image/png": "[encoded data removed]",
      "text/plain": [
       "<Figure size 432x288 with 1 Axes>"
      ]
     },
     "metadata": {
      "needs_background": "light"
     },
     "output_type": "display_data"
    }
   ],
   "source": [
    "plot_all_songs_evol_fn(songs_clean_ts, 'current_countries')"
   ]
  },
  {
   "cell_type": "code",
   "execution_count": 21,
   "metadata": {},
   "outputs": [],
   "source": [
    "def plot_song_evol_fn(ts, song_id_):\n",
    "    ax=ts[ts['song_id']==song_id_].plot(x='num_day',y='total_countries', grid=True, legend=False);\n",
    "    #ts[ts['song_id']==song_id_].plot(ax=ax,x='num_day',y='current_countries', label='current',grid=True);\n",
    "    ax.set_ylabel('Number of total countries', fontsize=14)\n",
    "    ax.set_xlabel('Number of days', fontsize=14)\n",
    "    plt.tight_layout()\n",
    "    plt.savefig(os.path.join('figs', f'{song_id_}_timeline.png'))\n",
    "    #ts[ts['song_id']==song_id_].plot(ax=ax,x='num_day',y='inc', label='increment',grid=True);\n",
    "    #ts[ts['song_id']==song_id_].plot(ax=ax,x='num_day',y='dec', label='decrement',grid=True);"
   ]
  },
  {
   "cell_type": "code",
   "execution_count": 17,
   "metadata": {},
   "outputs": [
    {
     "data": {
      "image/png": "[encoded data removed]",
      "text/plain": [
       "<Figure size 432x288 with 1 Axes>"
      ]
     },
     "metadata": {
      "needs_background": "light"
     },
     "output_type": "display_data"
    }
   ],
   "source": [
    "plot_song_evol_fn(songs_clean_ts, '1VuAamHM7P3VQQEXYGG3Uu')"
   ]
  },
  {
   "cell_type": "code",
   "execution_count": 18,
   "metadata": {
    "scrolled": true
   },
   "outputs": [
    {
     "data": {
      "image/png": "[encoded data removed]",
      "text/plain": [
       "<Figure size 432x288 with 1 Axes>"
      ]
     },
     "metadata": {
      "needs_background": "light"
     },
     "output_type": "display_data"
    }
   ],
   "source": [
    "plot_song_evol_fn(songs_clean_ts, '1moEucbMhmAK6KVPoNw6ms')"
   ]
  },
  {
   "cell_type": "code",
   "execution_count": null,
   "metadata": {},
   "outputs": [],
   "source": [
    "songs_clean_ts.to_csv(os.path.join('data', 'songs_timeseries_2017_2021.csv'))"
   ]
  },
  {
   "cell_type": "code",
   "execution_count": null,
   "metadata": {},
   "outputs": [],
   "source": [
    "max_days = 40"
   ]
  },
  {
   "cell_type": "code",
   "execution_count": null,
   "metadata": {},
   "outputs": [],
   "source": [
    "num_countries_growing_lite_df = num_countries_growing_df[num_countries_growing_df['num_day']<max_days]"
   ]
  },
  {
   "cell_type": "code",
   "execution_count": null,
   "metadata": {},
   "outputs": [],
   "source": [
    "sns.set_style('whitegrid')\n",
    "plt.figure(figsize=(16, 6))\n",
    "ax=sns.boxplot(x='num_day', y='num_countries', data=num_countries_growing_lite_df, showfliers=False);\n",
    "ax.set_xticklabels(ax.get_xticklabels(),rotation=90);\n",
    "#ax.fig.set_size_inches(15,15)\n"
   ]
  },
  {
   "cell_type": "code",
   "execution_count": null,
   "metadata": {},
   "outputs": [],
   "source": [
    "num_countries_growing_df"
   ]
  },
  {
   "cell_type": "code",
   "execution_count": null,
   "metadata": {},
   "outputs": [],
   "source": [
    "n_countries_diff_df = num_countries_growing_df.groupby('song_id').diff()\n",
    "n_countries_diff_df['num_day']= num_countries_growing_df['num_day']\n",
    "n_countries_diff_df"
   ]
  },
  {
   "cell_type": "code",
   "execution_count": null,
   "metadata": {},
   "outputs": [],
   "source": [
    "n_countries_diff_lite_df = n_countries_diff_df[n_countries_diff_df['num_day']<max_days]\n",
    "sns.set_style('whitegrid')\n",
    "plt.figure(figsize=(16, 6))\n",
    "ax=sns.boxplot(x='num_day', y='num_countries', data=n_countries_diff_lite_df);\n",
    "ax.set_xticklabels(ax.get_xticklabels(),rotation=90);"
   ]
  },
  {
   "cell_type": "markdown",
   "metadata": {},
   "source": [
    "### Study distritubion of new countries per date"
   ]
  },
  {
   "cell_type": "code",
   "execution_count": 4,
   "metadata": {},
   "outputs": [],
   "source": [
    "songs_clean_ts = pd.read_csv(os.path.join('data', 'songs_timeseries_2017_2021.csv'), index_col=0)"
   ]
  },
  {
   "cell_type": "code",
   "execution_count": 5,
   "metadata": {},
   "outputs": [
    {
     "data": {
      "text/html": [
       "<div>\n",
       "<style scoped>\n",
       "    .dataframe tbody tr th:only-of-type {\n",
       "        vertical-align: middle;\n",
       "    }\n",
       "\n",
       "    .dataframe tbody tr th {\n",
       "        vertical-align: top;\n",
       "    }\n",
       "\n",
       "    .dataframe thead th {\n",
       "        text-align: right;\n",
       "    }\n",
       "</style>\n",
       "<table border=\"1\" class=\"dataframe\">\n",
       "  <thead>\n",
       "    <tr style=\"text-align: right;\">\n",
       "      <th></th>\n",
       "      <th>song_id</th>\n",
       "      <th>num_day</th>\n",
       "      <th>total_countries</th>\n",
       "      <th>current_countries</th>\n",
       "      <th>inc</th>\n",
       "      <th>dec</th>\n",
       "    </tr>\n",
       "  </thead>\n",
       "  <tbody>\n",
       "    <tr>\n",
       "      <th>0</th>\n",
       "      <td>4O4Z8VFczL8MxIOmqVWc1b</td>\n",
       "      <td>1</td>\n",
       "      <td>1</td>\n",
       "      <td>1</td>\n",
       "      <td>1</td>\n",
       "      <td>0</td>\n",
       "    </tr>\n",
       "    <tr>\n",
       "      <th>1</th>\n",
       "      <td>4O4Z8VFczL8MxIOmqVWc1b</td>\n",
       "      <td>2</td>\n",
       "      <td>2</td>\n",
       "      <td>1</td>\n",
       "      <td>1</td>\n",
       "      <td>1</td>\n",
       "    </tr>\n",
       "    <tr>\n",
       "      <th>2</th>\n",
       "      <td>4O4Z8VFczL8MxIOmqVWc1b</td>\n",
       "      <td>3</td>\n",
       "      <td>2</td>\n",
       "      <td>1</td>\n",
       "      <td>0</td>\n",
       "      <td>1</td>\n",
       "    </tr>\n",
       "    <tr>\n",
       "      <th>3</th>\n",
       "      <td>4O4Z8VFczL8MxIOmqVWc1b</td>\n",
       "      <td>4</td>\n",
       "      <td>2</td>\n",
       "      <td>1</td>\n",
       "      <td>0</td>\n",
       "      <td>1</td>\n",
       "    </tr>\n",
       "    <tr>\n",
       "      <th>4</th>\n",
       "      <td>4O4Z8VFczL8MxIOmqVWc1b</td>\n",
       "      <td>5</td>\n",
       "      <td>2</td>\n",
       "      <td>1</td>\n",
       "      <td>0</td>\n",
       "      <td>1</td>\n",
       "    </tr>\n",
       "  </tbody>\n",
       "</table>\n",
       "</div>"
      ],
      "text/plain": [
       "                  song_id  num_day  total_countries  current_countries  inc  \\\n",
       "0  4O4Z8VFczL8MxIOmqVWc1b        1                1                  1    1   \n",
       "1  4O4Z8VFczL8MxIOmqVWc1b        2                2                  1    1   \n",
       "2  4O4Z8VFczL8MxIOmqVWc1b        3                2                  1    0   \n",
       "3  4O4Z8VFczL8MxIOmqVWc1b        4                2                  1    0   \n",
       "4  4O4Z8VFczL8MxIOmqVWc1b        5                2                  1    0   \n",
       "\n",
       "   dec  \n",
       "0    0  \n",
       "1    1  \n",
       "2    1  \n",
       "3    1  \n",
       "4    1  "
      ]
     },
     "execution_count": 5,
     "metadata": {},
     "output_type": "execute_result"
    }
   ],
   "source": [
    "songs_clean_ts.head()"
   ]
  },
  {
   "cell_type": "code",
   "execution_count": 34,
   "metadata": {},
   "outputs": [
    {
     "data": {
      "text/html": [
       "<div>\n",
       "<style scoped>\n",
       "    .dataframe tbody tr th:only-of-type {\n",
       "        vertical-align: middle;\n",
       "    }\n",
       "\n",
       "    .dataframe tbody tr th {\n",
       "        vertical-align: top;\n",
       "    }\n",
       "\n",
       "    .dataframe thead th {\n",
       "        text-align: right;\n",
       "    }\n",
       "</style>\n",
       "<table border=\"1\" class=\"dataframe\">\n",
       "  <thead>\n",
       "    <tr style=\"text-align: right;\">\n",
       "      <th></th>\n",
       "      <th>song_id</th>\n",
       "      <th>num_day</th>\n",
       "      <th>total_countries</th>\n",
       "      <th>current_countries</th>\n",
       "      <th>inc</th>\n",
       "      <th>dec</th>\n",
       "    </tr>\n",
       "  </thead>\n",
       "  <tbody>\n",
       "    <tr>\n",
       "      <th>9313</th>\n",
       "      <td>0E9ZjEAyAwOXZ7wJC0PD33</td>\n",
       "      <td>963</td>\n",
       "      <td>49</td>\n",
       "      <td>3</td>\n",
       "      <td>1</td>\n",
       "      <td>46</td>\n",
       "    </tr>\n",
       "    <tr>\n",
       "      <th>9314</th>\n",
       "      <td>0E9ZjEAyAwOXZ7wJC0PD33</td>\n",
       "      <td>964</td>\n",
       "      <td>49</td>\n",
       "      <td>1</td>\n",
       "      <td>0</td>\n",
       "      <td>48</td>\n",
       "    </tr>\n",
       "    <tr>\n",
       "      <th>9315</th>\n",
       "      <td>0E9ZjEAyAwOXZ7wJC0PD33</td>\n",
       "      <td>965</td>\n",
       "      <td>49</td>\n",
       "      <td>1</td>\n",
       "      <td>0</td>\n",
       "      <td>48</td>\n",
       "    </tr>\n",
       "    <tr>\n",
       "      <th>9316</th>\n",
       "      <td>0E9ZjEAyAwOXZ7wJC0PD33</td>\n",
       "      <td>966</td>\n",
       "      <td>49</td>\n",
       "      <td>1</td>\n",
       "      <td>0</td>\n",
       "      <td>48</td>\n",
       "    </tr>\n",
       "    <tr>\n",
       "      <th>9317</th>\n",
       "      <td>0E9ZjEAyAwOXZ7wJC0PD33</td>\n",
       "      <td>967</td>\n",
       "      <td>49</td>\n",
       "      <td>3</td>\n",
       "      <td>0</td>\n",
       "      <td>46</td>\n",
       "    </tr>\n",
       "    <tr>\n",
       "      <th>...</th>\n",
       "      <td>...</td>\n",
       "      <td>...</td>\n",
       "      <td>...</td>\n",
       "      <td>...</td>\n",
       "      <td>...</td>\n",
       "      <td>...</td>\n",
       "    </tr>\n",
       "    <tr>\n",
       "      <th>2654896</th>\n",
       "      <td>4gvrJnKCKIPiacNsWVQwEU</td>\n",
       "      <td>71</td>\n",
       "      <td>49</td>\n",
       "      <td>43</td>\n",
       "      <td>0</td>\n",
       "      <td>6</td>\n",
       "    </tr>\n",
       "    <tr>\n",
       "      <th>2654897</th>\n",
       "      <td>4gvrJnKCKIPiacNsWVQwEU</td>\n",
       "      <td>72</td>\n",
       "      <td>49</td>\n",
       "      <td>41</td>\n",
       "      <td>0</td>\n",
       "      <td>8</td>\n",
       "    </tr>\n",
       "    <tr>\n",
       "      <th>2654898</th>\n",
       "      <td>4gvrJnKCKIPiacNsWVQwEU</td>\n",
       "      <td>73</td>\n",
       "      <td>49</td>\n",
       "      <td>41</td>\n",
       "      <td>0</td>\n",
       "      <td>8</td>\n",
       "    </tr>\n",
       "    <tr>\n",
       "      <th>2654899</th>\n",
       "      <td>4gvrJnKCKIPiacNsWVQwEU</td>\n",
       "      <td>74</td>\n",
       "      <td>49</td>\n",
       "      <td>41</td>\n",
       "      <td>0</td>\n",
       "      <td>8</td>\n",
       "    </tr>\n",
       "    <tr>\n",
       "      <th>2654900</th>\n",
       "      <td>4gvrJnKCKIPiacNsWVQwEU</td>\n",
       "      <td>75</td>\n",
       "      <td>49</td>\n",
       "      <td>40</td>\n",
       "      <td>0</td>\n",
       "      <td>9</td>\n",
       "    </tr>\n",
       "  </tbody>\n",
       "</table>\n",
       "<p>256 rows × 6 columns</p>\n",
       "</div>"
      ],
      "text/plain": [
       "                        song_id  num_day  total_countries  current_countries  \\\n",
       "9313     0E9ZjEAyAwOXZ7wJC0PD33      963               49                  3   \n",
       "9314     0E9ZjEAyAwOXZ7wJC0PD33      964               49                  1   \n",
       "9315     0E9ZjEAyAwOXZ7wJC0PD33      965               49                  1   \n",
       "9316     0E9ZjEAyAwOXZ7wJC0PD33      966               49                  1   \n",
       "9317     0E9ZjEAyAwOXZ7wJC0PD33      967               49                  3   \n",
       "...                         ...      ...              ...                ...   \n",
       "2654896  4gvrJnKCKIPiacNsWVQwEU       71               49                 43   \n",
       "2654897  4gvrJnKCKIPiacNsWVQwEU       72               49                 41   \n",
       "2654898  4gvrJnKCKIPiacNsWVQwEU       73               49                 41   \n",
       "2654899  4gvrJnKCKIPiacNsWVQwEU       74               49                 41   \n",
       "2654900  4gvrJnKCKIPiacNsWVQwEU       75               49                 40   \n",
       "\n",
       "         inc  dec  \n",
       "9313       1   46  \n",
       "9314       0   48  \n",
       "9315       0   48  \n",
       "9316       0   48  \n",
       "9317       0   46  \n",
       "...      ...  ...  \n",
       "2654896    0    6  \n",
       "2654897    0    8  \n",
       "2654898    0    8  \n",
       "2654899    0    8  \n",
       "2654900    0    9  \n",
       "\n",
       "[256 rows x 6 columns]"
      ]
     },
     "execution_count": 34,
     "metadata": {},
     "output_type": "execute_result"
    }
   ],
   "source": [
    "songs_clean_ts[songs_clean_ts['total_countries']==49]"
   ]
  },
  {
   "cell_type": "code",
   "execution_count": 13,
   "metadata": {},
   "outputs": [
    {
     "data": {
      "text/html": [
       "<div>\n",
       "<style scoped>\n",
       "    .dataframe tbody tr th:only-of-type {\n",
       "        vertical-align: middle;\n",
       "    }\n",
       "\n",
       "    .dataframe tbody tr th {\n",
       "        vertical-align: top;\n",
       "    }\n",
       "\n",
       "    .dataframe thead th {\n",
       "        text-align: right;\n",
       "    }\n",
       "</style>\n",
       "<table border=\"1\" class=\"dataframe\">\n",
       "  <thead>\n",
       "    <tr style=\"text-align: right;\">\n",
       "      <th></th>\n",
       "      <th>song_id</th>\n",
       "      <th>num_day</th>\n",
       "      <th>total_countries</th>\n",
       "      <th>current_countries</th>\n",
       "      <th>inc</th>\n",
       "      <th>dec</th>\n",
       "    </tr>\n",
       "  </thead>\n",
       "  <tbody>\n",
       "    <tr>\n",
       "      <th>0</th>\n",
       "      <td>4O4Z8VFczL8MxIOmqVWc1b</td>\n",
       "      <td>1</td>\n",
       "      <td>1</td>\n",
       "      <td>1</td>\n",
       "      <td>1</td>\n",
       "      <td>0</td>\n",
       "    </tr>\n",
       "    <tr>\n",
       "      <th>1068068</th>\n",
       "      <td>2GggG2lQVYuus2aeAybe8M</td>\n",
       "      <td>84</td>\n",
       "      <td>1</td>\n",
       "      <td>1</td>\n",
       "      <td>0</td>\n",
       "      <td>0</td>\n",
       "    </tr>\n",
       "    <tr>\n",
       "      <th>1068069</th>\n",
       "      <td>2GggG2lQVYuus2aeAybe8M</td>\n",
       "      <td>85</td>\n",
       "      <td>1</td>\n",
       "      <td>1</td>\n",
       "      <td>0</td>\n",
       "      <td>0</td>\n",
       "    </tr>\n",
       "    <tr>\n",
       "      <th>1068070</th>\n",
       "      <td>2GggG2lQVYuus2aeAybe8M</td>\n",
       "      <td>86</td>\n",
       "      <td>1</td>\n",
       "      <td>1</td>\n",
       "      <td>0</td>\n",
       "      <td>0</td>\n",
       "    </tr>\n",
       "    <tr>\n",
       "      <th>1068071</th>\n",
       "      <td>2GggG2lQVYuus2aeAybe8M</td>\n",
       "      <td>87</td>\n",
       "      <td>1</td>\n",
       "      <td>1</td>\n",
       "      <td>0</td>\n",
       "      <td>0</td>\n",
       "    </tr>\n",
       "    <tr>\n",
       "      <th>...</th>\n",
       "      <td>...</td>\n",
       "      <td>...</td>\n",
       "      <td>...</td>\n",
       "      <td>...</td>\n",
       "      <td>...</td>\n",
       "      <td>...</td>\n",
       "    </tr>\n",
       "    <tr>\n",
       "      <th>2654056</th>\n",
       "      <td>0eu4C55hL6x29mmeAjytzC</td>\n",
       "      <td>68</td>\n",
       "      <td>53</td>\n",
       "      <td>51</td>\n",
       "      <td>0</td>\n",
       "      <td>2</td>\n",
       "    </tr>\n",
       "    <tr>\n",
       "      <th>2654057</th>\n",
       "      <td>0eu4C55hL6x29mmeAjytzC</td>\n",
       "      <td>69</td>\n",
       "      <td>53</td>\n",
       "      <td>48</td>\n",
       "      <td>0</td>\n",
       "      <td>5</td>\n",
       "    </tr>\n",
       "    <tr>\n",
       "      <th>2654058</th>\n",
       "      <td>0eu4C55hL6x29mmeAjytzC</td>\n",
       "      <td>70</td>\n",
       "      <td>53</td>\n",
       "      <td>47</td>\n",
       "      <td>0</td>\n",
       "      <td>6</td>\n",
       "    </tr>\n",
       "    <tr>\n",
       "      <th>2654048</th>\n",
       "      <td>0eu4C55hL6x29mmeAjytzC</td>\n",
       "      <td>60</td>\n",
       "      <td>53</td>\n",
       "      <td>50</td>\n",
       "      <td>0</td>\n",
       "      <td>3</td>\n",
       "    </tr>\n",
       "    <tr>\n",
       "      <th>38473</th>\n",
       "      <td>1rgnBhdG2JDFTbYkYRZAku</td>\n",
       "      <td>738</td>\n",
       "      <td>53</td>\n",
       "      <td>31</td>\n",
       "      <td>1</td>\n",
       "      <td>22</td>\n",
       "    </tr>\n",
       "  </tbody>\n",
       "</table>\n",
       "<p>525752 rows × 6 columns</p>\n",
       "</div>"
      ],
      "text/plain": [
       "                        song_id  num_day  total_countries  current_countries  \\\n",
       "0        4O4Z8VFczL8MxIOmqVWc1b        1                1                  1   \n",
       "1068068  2GggG2lQVYuus2aeAybe8M       84                1                  1   \n",
       "1068069  2GggG2lQVYuus2aeAybe8M       85                1                  1   \n",
       "1068070  2GggG2lQVYuus2aeAybe8M       86                1                  1   \n",
       "1068071  2GggG2lQVYuus2aeAybe8M       87                1                  1   \n",
       "...                         ...      ...              ...                ...   \n",
       "2654056  0eu4C55hL6x29mmeAjytzC       68               53                 51   \n",
       "2654057  0eu4C55hL6x29mmeAjytzC       69               53                 48   \n",
       "2654058  0eu4C55hL6x29mmeAjytzC       70               53                 47   \n",
       "2654048  0eu4C55hL6x29mmeAjytzC       60               53                 50   \n",
       "38473    1rgnBhdG2JDFTbYkYRZAku      738               53                 31   \n",
       "\n",
       "         inc  dec  \n",
       "0          1    0  \n",
       "1068068    0    0  \n",
       "1068069    0    0  \n",
       "1068070    0    0  \n",
       "1068071    0    0  \n",
       "...      ...  ...  \n",
       "2654056    0    2  \n",
       "2654057    0    5  \n",
       "2654058    0    6  \n",
       "2654048    0    3  \n",
       "38473      1   22  \n",
       "\n",
       "[525752 rows x 6 columns]"
      ]
     },
     "execution_count": 13,
     "metadata": {},
     "output_type": "execute_result"
    }
   ],
   "source": [
    "songs_clean_ts.sort_values('total_countries')"
   ]
  },
  {
   "cell_type": "code",
   "execution_count": 6,
   "metadata": {
    "scrolled": true
   },
   "outputs": [
    {
     "data": {
      "text/plain": [
       "song_id              1rgnBhdG2JDFTbYkYRZAku\n",
       "num_day                                 738\n",
       "total_countries                          53\n",
       "current_countries                        31\n",
       "inc                                       1\n",
       "dec                                      22\n",
       "Name: 38473, dtype: object"
      ]
     },
     "execution_count": 6,
     "metadata": {},
     "output_type": "execute_result"
    }
   ],
   "source": [
    "songs_clean_ts.loc[songs_clean_ts['total_countries'].idxmax()]"
   ]
  },
  {
   "cell_type": "code",
   "execution_count": 22,
   "metadata": {},
   "outputs": [
    {
     "data": {
      "image/png": "[encoded data removed]",
      "text/plain": [
       "<Figure size 432x288 with 1 Axes>"
      ]
     },
     "metadata": {
      "needs_background": "light"
     },
     "output_type": "display_data"
    }
   ],
   "source": [
    "plot_song_evol_fn(songs_clean_ts[songs_clean_ts['num_day']<120], '1rgnBhdG2JDFTbYkYRZAku')"
   ]
  },
  {
   "cell_type": "code",
   "execution_count": 23,
   "metadata": {},
   "outputs": [
    {
     "data": {
      "image/png": "[encoded data removed]",
      "text/plain": [
       "<Figure size 432x288 with 1 Axes>"
      ]
     },
     "metadata": {
      "needs_background": "light"
     },
     "output_type": "display_data"
    }
   ],
   "source": [
    "plot_song_evol_fn(songs_clean_ts[songs_clean_ts['num_day']<46], '0eu4C55hL6x29mmeAjytzC')"
   ]
  },
  {
   "cell_type": "code",
   "execution_count": 24,
   "metadata": {},
   "outputs": [
    {
     "data": {
      "image/png": "[encoded data removed]",
      "text/plain": [
       "<Figure size 432x288 with 1 Axes>"
      ]
     },
     "metadata": {
      "needs_background": "light"
     },
     "output_type": "display_data"
    }
   ],
   "source": [
    "plot_song_evol_fn(songs_clean_ts[songs_clean_ts['num_day']<105], '1v1oIWf2Xgh54kIWuKsDf6')"
   ]
  },
  {
   "cell_type": "code",
   "execution_count": 38,
   "metadata": {},
   "outputs": [
    {
     "data": {
      "image/png": "[encoded data removed]",
      "text/plain": [
       "<Figure size 432x288 with 1 Axes>"
      ]
     },
     "metadata": {
      "needs_background": "light"
     },
     "output_type": "display_data"
    }
   ],
   "source": [
    "plot_song_evol_fn(songs_clean_ts[songs_clean_ts['num_day']<20], '4gvrJnKCKIPiacNsWVQwEU')"
   ]
  },
  {
   "cell_type": "code",
   "execution_count": 36,
   "metadata": {},
   "outputs": [
    {
     "name": "stdout",
     "output_type": "stream",
     "text": [
      "Track name: Dance Monkey. Artist: Tones And I\n",
      "Track name: Life Goes On. Artist: Oliver Tree\n",
      "Track name: Runaway. Artist: AURORA\n",
      "Track name: love nwantiti (feat. Dj Yo! & AX'EL) - Remix. Artist: CKay\n"
     ]
    }
   ],
   "source": [
    "print_song_info('1rgnBhdG2JDFTbYkYRZAku')\n",
    "print_song_info('0eu4C55hL6x29mmeAjytzC')\n",
    "print_song_info('1v1oIWf2Xgh54kIWuKsDf6')\n",
    "print_song_info('4gvrJnKCKIPiacNsWVQwEU')"
   ]
  },
  {
   "cell_type": "code",
   "execution_count": 5,
   "metadata": {},
   "outputs": [
    {
     "data": {
      "text/html": [
       "<div>\n",
       "<style scoped>\n",
       "    .dataframe tbody tr th:only-of-type {\n",
       "        vertical-align: middle;\n",
       "    }\n",
       "\n",
       "    .dataframe tbody tr th {\n",
       "        vertical-align: top;\n",
       "    }\n",
       "\n",
       "    .dataframe thead th {\n",
       "        text-align: right;\n",
       "    }\n",
       "</style>\n",
       "<table border=\"1\" class=\"dataframe\">\n",
       "  <thead>\n",
       "    <tr style=\"text-align: right;\">\n",
       "      <th></th>\n",
       "      <th>song_id</th>\n",
       "      <th>total_countries</th>\n",
       "      <th>num_day</th>\n",
       "    </tr>\n",
       "  </thead>\n",
       "  <tbody>\n",
       "    <tr>\n",
       "      <th>0</th>\n",
       "      <td>007ogFejDqJKzEXDUDF8Nf</td>\n",
       "      <td>1</td>\n",
       "      <td>1</td>\n",
       "    </tr>\n",
       "    <tr>\n",
       "      <th>1</th>\n",
       "      <td>007ogFejDqJKzEXDUDF8Nf</td>\n",
       "      <td>2</td>\n",
       "      <td>6</td>\n",
       "    </tr>\n",
       "    <tr>\n",
       "      <th>2</th>\n",
       "      <td>00NpdPvXFERf1USRAcHkT3</td>\n",
       "      <td>1</td>\n",
       "      <td>1</td>\n",
       "    </tr>\n",
       "    <tr>\n",
       "      <th>3</th>\n",
       "      <td>00NpdPvXFERf1USRAcHkT3</td>\n",
       "      <td>2</td>\n",
       "      <td>2</td>\n",
       "    </tr>\n",
       "    <tr>\n",
       "      <th>4</th>\n",
       "      <td>00WvmRXTkPBZNhhRK3xfdy</td>\n",
       "      <td>1</td>\n",
       "      <td>1</td>\n",
       "    </tr>\n",
       "  </tbody>\n",
       "</table>\n",
       "</div>"
      ],
      "text/plain": [
       "                  song_id  total_countries  num_day\n",
       "0  007ogFejDqJKzEXDUDF8Nf                1        1\n",
       "1  007ogFejDqJKzEXDUDF8Nf                2        6\n",
       "2  00NpdPvXFERf1USRAcHkT3                1        1\n",
       "3  00NpdPvXFERf1USRAcHkT3                2        2\n",
       "4  00WvmRXTkPBZNhhRK3xfdy                1        1"
      ]
     },
     "execution_count": 5,
     "metadata": {},
     "output_type": "execute_result"
    }
   ],
   "source": [
    "min_day_df = songs_clean_ts.groupby('song_id total_countries'.split()).agg({'num_day':min})\n",
    "min_day_df = min_day_df.reset_index()\n",
    "min_day_df.head()"
   ]
  },
  {
   "cell_type": "code",
   "execution_count": 6,
   "metadata": {},
   "outputs": [
    {
     "data": {
      "text/plain": [
       "array([ 1,  2,  3,  4,  5,  6,  7,  9, 11, 15, 18, 26, 27, 28, 29, 30, 32,\n",
       "       35, 39, 40,  8, 21, 22, 23, 13, 14, 16, 24, 25, 12, 10, 17, 19, 20,\n",
       "       31, 41, 42, 44, 45, 46, 47, 48, 49, 34, 36, 51, 52, 53, 37, 38, 50,\n",
       "       33, 43], dtype=int64)"
      ]
     },
     "execution_count": 6,
     "metadata": {},
     "output_type": "execute_result"
    }
   ],
   "source": [
    "total_countries_range = min_day_df['total_countries'].unique()\n",
    "total_countries_range"
   ]
  },
  {
   "cell_type": "code",
   "execution_count": 7,
   "metadata": {},
   "outputs": [],
   "source": [
    "dict_={}\n",
    "for c in total_countries_range:\n",
    "    days_= min_day_df[min_day_df['total_countries']==c]['num_day'].values\n",
    "    dict_[c]= days_"
   ]
  },
  {
   "cell_type": "code",
   "execution_count": 13,
   "metadata": {
    "scrolled": true
   },
   "outputs": [
    {
     "data": {
      "text/plain": [
       "{1: array([1, 1, 1, ..., 1, 1, 1], dtype=int64),\n",
       " 2: array([6, 2, 6, ..., 2, 3, 4], dtype=int64),\n",
       " 3: array([ 7, 34,  9, ..., 19, 23,  5], dtype=int64),\n",
       " 4: array([ 4,  2, 16, ...,  2, 32, 26], dtype=int64),\n",
       " 5: array([  18,   15,   49,    5,   34,    2,  129,   13,   87,    5,  102,\n",
       "          18,    8,   17,   44,   17,   19,    7,   20,    7,   12,    6,\n",
       "          44,    2,    3,   13,    2,   49,  124,  591,   16,    4,    4,\n",
       "           8,   82,  118,   62,   11,   26,    5,   45,   10,   12,  253,\n",
       "          27,   63,  127,   52,   11,    6,   20,   28,  116,  197,   16,\n",
       "          18,   32,   32,    3,   40,   38,   13,    2,    4,    2,    7,\n",
       "          20,  199,    8,   25,   26,  285,    8,   32,   53,   75,    2,\n",
       "          94,   18,  104,   18,    2,   42,    8,    8,   18,    2,    7,\n",
       "          16,    7,    5,    4,    3,    8,    4,   16,   73,   13,    4,\n",
       "          89,    2,   11,  151,   29,   14,   46,  169,   11,   24,   27,\n",
       "          20,   49,   99,    8,  154,    8,   14,    7,   18,   10,   11,\n",
       "           4,   10,   20,   66,    6,    5,  171,   24,    2,    2,    2,\n",
       "          47,  119,   22,    7,    2,   22,    2,   61,   14,   43,   82,\n",
       "          19,  200,  446,  479,    9,   15,   24,  112,   14,   15,  201,\n",
       "          10,   13,   22,   18,   41,   45,    4,   76,   19,    5,   17,\n",
       "           4,   24,   52,    6,    2,   71,  227,   13,    9,   44,   24,\n",
       "           3,    2,   74,    2,   93,   82,   12,   50,  131,   35,    9,\n",
       "          15,  208,  134,  283,    2,   10,   21,   16,   29,   50,   13,\n",
       "          18,  116,   72,   21,    8,   39,   41,    2,   75,    4,   57,\n",
       "          33,  120,   87,   57,   26,   41,    6,    6,  208,    8,    9,\n",
       "          10,   38,   15,   13,   38,   37,  122,   56,   41,  144,    5,\n",
       "          12,    2,    9,    2,    2,   10,   15,   51,  139,    8,    9,\n",
       "         454,    3,  190,    5,    5,    3,    5,   13,   13,  112,   54,\n",
       "           6,   14,   14,   18,    2,  317,    9,   11,  314,    3,   11,\n",
       "          32,  230,    6,   41,  323,    2,   35,  141,   21,  102,   24,\n",
       "          15,    8,  119,    9,   44,    2,  109,   65,  149,   14,    4,\n",
       "           2,    2,   28,    4,  266,    2,  282,    3,   78,   62,   11,\n",
       "          12,   11,    2,   24,   94,   22,   11,   15,   69,    6,   12,\n",
       "          12,    5,  112,    7,   10,    8,  122,    2,   35,   19,    6,\n",
       "         133,   25,   12,  375,    9,   84,    8,   18,   17,    8,    2,\n",
       "         227,    7,   69,   15,    9,   21,   85,    3,   76,   69,   20,\n",
       "          83,   15,    2,  171,   33,   96,    4,   51,    3,   22,   19,\n",
       "          32,   51,    4,    3,    4,    9,    9,   14,    8,    3,   68,\n",
       "           9,    2, 1030,   10,   93,   29,    2,    6,   19,   13,   34,\n",
       "          19,    2,    2,  202,   14,   35,   22,   36,   30,    3,  241,\n",
       "          24,   12,   25,   29,   21,    5,    7,  103,   24,  102,   30,\n",
       "          39,   30,   22,   29,    2,    2,   11,   65,   23,  206,   34,\n",
       "           3,   12,   18,  181,    5,  105,   44,   50,   14,   60,   43,\n",
       "          20,    7,   19,    5,   11,   88,   13,   35,    2,  221,    7,\n",
       "          58,    6,   29,   82,    5,   16,   20,    8,    2,  211,    2,\n",
       "          58,   13,    2,    5,    2,   72,    6,    2,  558,    6,   17,\n",
       "          81,   11,   40,  135,   27,   74,   54,    9,   33,  212,   21,\n",
       "          53,   14,   12,   23,   43,   23,  183,  218,   24,   10,    4,\n",
       "          16,    7,   49,   19,   81,    2,   37,  133,   17,  320,   87,\n",
       "          18,   12,   40,  204,  120,   23,   12,    3,   86,   60,    4,\n",
       "          15,    6,    5,    3,   49,    2,   11,   11,   72,   50,    2,\n",
       "          10,    4,   16,   37,  289,    5,   33,    8,   20,   36,    2,\n",
       "          19,   14,  105,   90,   15,   28,   32,   27,  253,   39,   12,\n",
       "         110,    3,   39,   95,   11,    2,   71,   15,   17,   76,    6,\n",
       "          97,   17,    6,   41,    3,    2,   16,    5,   10,   18,    8,\n",
       "          14,  130,    4,   11,  227,   15,    8,   96,    6,   46,  126,\n",
       "          31,   11,   16,    4,   21,   16,   98,   10,    5,  120,   84,\n",
       "           7,   16,   11,   77,    2,   36,    2,   13,   13,    4,   79,\n",
       "           5,   22,   20,   17,    9,  138,   21,  250,  114,   11,   13,\n",
       "          16,   35,  120,  142,    3,   22,    2,   16,   15,    4,    4,\n",
       "          29,    4,    8,    9,   49,    8,    7,  121,   68,  145,    3,\n",
       "           5,  231,   24,   12,   10,   10,   21,   22,   19,    3,    6,\n",
       "          64,    2,   38,   58], dtype=int64),\n",
       " 6: array([  22,   18,   97,   47,    2,  132,   16,  103,   21,   22,   24,\n",
       "          60,    4,   91,    2,   24,  140,   13,   46,   46,   15,  420,\n",
       "          29,    3,   17,   20,   63,   10,   88,  121,   69,   12,   28,\n",
       "          14,   47,  347,   12,    7,    3,   32,  118,  595,    2,   36,\n",
       "           2,   25,   14,    7,   39,    4,    6,    6,    3,   17,   29,\n",
       "          34,   68,    3,    2,   99,   26,  121,  203,   14,   43,  113,\n",
       "          15,   28,    8,   21,    8,    5,   31,   81,    5,   14,   20,\n",
       "          65,  214,   30,    2,   32,   23,   26,   48,  170,   16,   30,\n",
       "           2,   11,   32,  127,    4,   17,  172,   18,   71,    8,    4,\n",
       "           3,   20,    4,   24,   78,    8,    2,  106,  229,  177,   26,\n",
       "          48,  189,   64,   23,    6,   77,    8,  354,   14,   16,    2,\n",
       "           6,   21,  202,    3,   18,   57,    6,   24,   19,   31,    2,\n",
       "          57,   16,    9,    2,    2,   10,   73,   11,    2,   31,    3,\n",
       "           6,  113,    7,   23,   75,  132,    6,   10,   21,    8,  227,\n",
       "         427,   13,   22,  123,   30,    3,   14,   37,  117,   28,   73,\n",
       "          35,   12,   18,   47,    5,   78,   22,  141,   45,   62,   54,\n",
       "           7,  220,   11,   24,  146,   40,   38,  125,   26,    5,   12,\n",
       "           4,  151,    6,   14,    3,   19,   10,   12,    2,   76,   39,\n",
       "          28,  147,    4,   12,   17,   36,  464,  191,    6,   17,   26,\n",
       "         117,    7,   15,   15,   33,   54,  318,   33,   12,   16,    5,\n",
       "          43,   39,  103,  212,  110,   15,   22,    8,   51,   17,   10,\n",
       "           2,   11,    7,   67,   33,  287,   86,   66,   31,   15,   15,\n",
       "           4,   25,   54,   11,   12,   85,   20,  186,   19,    2,    4,\n",
       "           6,    6,    9,  133,   97,   60,   23,   22,   20,    2,    7,\n",
       "         138,   40,   16,    3,  391,   11,   17,   26,   10,   15,   21,\n",
       "          13,   28,   78,    9,    2,    3,   85,   40,    4,  172,   62,\n",
       "           5,   21,   33,    6,   11,    9,   12,  106,    9,    8,   17,\n",
       "          12,   25,    3, 1085,    2,   25,   14,   56,   59,    8,    5,\n",
       "           2,   12,  469,    2,   37,   26,   37,   43,   39,   13,    2,\n",
       "          22,    8,    2,   25,  106,   28,   43,   31,   32,   32,   17,\n",
       "          24,   32,  209,   35,   22,   14,   10,   82,   53,   22,    5,\n",
       "          22,    2,   25,    7,   89,    6,    6,   13,   65,   55,   92,\n",
       "           7,   17,   28,   21,   59,   29,    2,   18,    9,  566,   12,\n",
       "          11,   91,   56,   17,  145,   30,   76,    5,   38,  243,   62,\n",
       "          18,   27,   31,   60,  192,   34,   58,   11,   18,   14,    8,\n",
       "          72,    3,   20,   49,   23,    3,   19,  446,    6,    3,    5,\n",
       "          22,  211,  143,   62,   40,   17,   38,    7,    2,    3,    7,\n",
       "          82,   29,   62,    3,    5,   13,    6,   24,   38,  291,    9,\n",
       "           3,   15,  111,  114,   65,   42,   35,   38,  387,   31,   13,\n",
       "         150,   70,  103,   12,    8,    2,    3,  190,   17,   98,   10,\n",
       "          23,   54,    2,  171,    2,    6,   17,   19,    2,    6,   63,\n",
       "         160,   12,   20,  231,   99,   12,   51,  132,   45,    5,    6,\n",
       "          24,   18,  107,    4,   16,   38,  140,   85,   15,   63,   24,\n",
       "           4,    5,   80,   99,   18,   25,   20,   20,   23,  147,    2,\n",
       "          17,   56,  302,   18,    5,    5,   35,   11,   10,   53,    2,\n",
       "          14,    2,  122,    4,    2,   15,   30,    4,   25,   13],\n",
       "       dtype=int64),\n",
       " 7: array([ 19, 113,  49,  42, 109,  24,  19,   6,   5,  93,  31,   8, 142,\n",
       "         52,  20,  29, 425, 138,  18,   2,  89,  13,  40,  34, 101,  23,\n",
       "         13,  24,   4, 119,   5,  22,   3,  19,   9,   8,  46,   9,   9,\n",
       "          8,  42,   8,   9,  21,  10,  31,  38,  70,  76,   4,   6, 159,\n",
       "         19, 206,   6,  55, 258,  85,  30,   9,  22,  18,  37,  14,  35,\n",
       "         33,  58,  49, 433,  18,   2,  42,  12,  37, 113,   7,  21, 177,\n",
       "         27,  19,  17,  23,   5,   2,   5,   2,  49,  13,  31,   3,   6,\n",
       "         30,   3,  54, 231,   2,  99,  67,  15,  78,   6,   9,   3,  30,\n",
       "        448,   3,   2,  20,  19,   3,  41,  14,  15,  59,  26,  26,  39,\n",
       "         61,  14,   7, 115,   4, 147,  21,  37,  52, 284,  24, 130,  32,\n",
       "          4,  40, 118, 138,   5,  46,   6,   5,  28,  17, 201,  64,   9,\n",
       "        269,  12,  23,  15,  33, 150,  53,  27,   3,  57,   9,  15,  11,\n",
       "         31,  23,  81,  31, 259,  40,  13,  10,   7,  14,  29, 118,  86,\n",
       "         17,  27,  35,  63, 328,  22,  43,  11,  34,   3,   3,   4,  57,\n",
       "          4,  76,   8, 144, 276,  23,   2, 147,  16,   2,  18,  14, 288,\n",
       "          9,  91,  74,  17,   5,  62,  12,  95,   2,   7,  39,  55,   7,\n",
       "         14,  29,   5, 134,  35,  24,  23,  33, 158,  44,   4, 423,   2,\n",
       "         12,  30,  32,  27,  16, 230,  37, 116,  12,   3,  86,  16,  41,\n",
       "        140,   6,   4,  34,   4,  17,  18,  10,  28,  30,  95,  15,  13,\n",
       "          3,  95,  45,  96,   3,  27, 113,  31,   2,  50,  32,  34,  35,\n",
       "         21,  68,  37,   4,  15,  26,  17,   4, 182, 113,  19,   2,  11,\n",
       "         96,  54,  36,  32,   9,  18,  15,  17,  66, 104,  10,  28, 329,\n",
       "          3,  38,  11, 805,  15,  92,  17,  62, 149,  88,   6,  81, 316,\n",
       "          2,  64,  30,  61,  14,  11,  17,  43,  51,   4, 137, 529,   2,\n",
       "         10,   6,   7,  23, 217,  13, 177,  64,  53,   9,   6,   3,   9,\n",
       "         85,   6,  20,  41, 292,   4,  22, 234,  98,  43, 398,   5,  59,\n",
       "         82,  25, 207,  18, 123,  15,  29, 230,  10,  21,   9, 201,   5,\n",
       "         24,   9, 236,   9,  30,  17,  22,  12, 127,   2,  61,   5,   9,\n",
       "         17,  88,  89,   6,  52,  21,  26,  21,  24, 251, 201,  25,   2,\n",
       "         18,  18,  57, 318,  24,   2,  63,  11,   3,   9,   5,  17,   3,\n",
       "         98,   5,  11,  41,  14], dtype=int64),\n",
       " 9: array([  20,   51,  134,   67,    6,   40,   32,   97,  144,   11,   22,\n",
       "          34,   30,    5,  439,  140,   82,   16,   66,  167,   22,   21,\n",
       "           2,  123,  753,   19,   32,    2,   53,   11,   21,   56,   10,\n",
       "          22,  235,    3,   34,   45,   25,  215,  184,   23,   50,   58,\n",
       "           9,  114,   11,   12,   28,   10,   20,   22,   83,   17,   19,\n",
       "           6,    2,   92,   19,   13,   38,  536,   30,   27,   17,   76,\n",
       "         102,  181,   32,  234,   84,   86,  478,    7,   22,    4,   17,\n",
       "          52,   28,    3,    7,   28,    2,   43,   95,   18,   39,  305,\n",
       "          14,   13,    7,  159,  101,   14,    9,   31,  441,    2,  283,\n",
       "          28,  244,    6,   14,   37,   16,   63,    2,    3,   13,   41,\n",
       "          34,  276,   18,   43,  127,    9,   47,   44,  332,   61,   16,\n",
       "          58,    7,   16,  289,   44,  199,   37,  192,  290,  163,    8,\n",
       "          18,   80,   14,   18,  218,   57,    4,    9,  140,   67,   53,\n",
       "         220,   67,  226,    5,   16,   59,   25,  380,   13,   10,   70,\n",
       "          18,   45,  176,    6,   18,   40,   10,   37,   53,   11,   16,\n",
       "         108,   32,   34,    4,   30,   18,    4,  135,   75,    6,  124,\n",
       "          32,   39,  106,   49,   70,   20,   41,    5,   35,  212,  132,\n",
       "          65,   38,   22,  112,   36,  399,    5,   68,    4,   15,   21,\n",
       "          69,  224,   16,  117,   69,   39,   34,   65,   25,   47, 1039,\n",
       "          14,   28,   17,  382,  256,   73,   28,   14,   83,   32,  138,\n",
       "           2,    6,   11,    2,   49,   20,   67,   76,   28,  654,   16,\n",
       "          99,   14,  101,    9,  309,   17,  162,   64,   23,    9,  421,\n",
       "           7,   13,  308,   19,   71,    3,   69,    2,    7,   25,   19,\n",
       "         117,   30,   27,   33,   49,  269,  207,    6,    3,   24,  601,\n",
       "         144,   24,   22,   10,   11,   22,    2,    9,   30,   24,    4],\n",
       "       dtype=int64),\n",
       " 11: array([  22,    8,  137,   90,   11,   28,    8,   46,  100,   16,   55,\n",
       "          14,    5,   42,   74,   21,  144,   11,   20,  238,   26,  939,\n",
       "          30,   12,   59,   23,    6,  240,   19,    8,   44,   59,   26,\n",
       "          57,   81,   13,  120,   14,   24,   22,   38,   14,   26,   10,\n",
       "          11,   11,    7,  224,   18,  104,  184,  254,  115,  485,   15,\n",
       "          37,    7,   69,  205,   75,  130,   52,  109,   23,   41,    7,\n",
       "          19,   41,   10,   31,   49,  172,  115,   66,   23,    3,   14,\n",
       "         311,   66,   21,  152,   25,  245,   29,    7,   39,    2,   21,\n",
       "           2,   30,   16,   42,  284,   26,   58,   31,   11,   19,   46,\n",
       "          78,   73,    7,    6,  150,  103,   54,  149,  616,  112,    3,\n",
       "          11, 1024,   10,  206,   84,   84,   10,   11,    3,   75,   27,\n",
       "          64,  237,   88,   26,  365,   23,    5,   10,   33,   85,    6,\n",
       "          71,   46,  184,    2,   59,   24,   10,   18,   23,   14,   13,\n",
       "           7,   21,   18,   23,    3,  276,   28,   23,    3,  149,   35,\n",
       "           3,    4,    3,   75,   58,   17,   83,   41,   49,   38,   15,\n",
       "         219,   54,   43,   17,  344,  126,   43,    9,   74,   32,   16,\n",
       "          23,   33,   15,   20,  119,   71,   10,   10,   37,   64,    9,\n",
       "          15,  617,  101,  100,    7,  174,   46,   25,   12,  298,   72,\n",
       "          84,  774,    9,    2,   56,   12,   27,  517,   84,    7,   25,\n",
       "         462,   31,   25,   20,   22,   50,  184,   22,    6,   52,  417,\n",
       "         536,   26,   25,  145,   25,   44,    8,   35,   15,    2,   14,\n",
       "          29,   18], dtype=int64),\n",
       " 15: array([ 23,  60, 231,  12, 199, 109,  23, 148,   7,  30,  59,  27,  11,\n",
       "        139,  37,  35,  55,  12, 131,  27, 100, 488,  97,  29,   4, 113,\n",
       "         19,  36,  10,  33,  24,  67,  13,   9,  18,  41,  18,  12,  24,\n",
       "        235, 192, 380,  13,   9, 495,   6,  24,   4,   3,  73, 133,  21,\n",
       "         24,  12, 151,  18,  57,  21,  13, 157,  42,  50,  26, 261, 339,\n",
       "         11,  49,  86, 115,  43, 232,  35, 154,  56, 119,  37, 112,  11,\n",
       "         28,  24,  24, 101, 290,  36,  71,  41,  20,  65, 403,  68, 251,\n",
       "        115,  22,  18,  18,  48,  94,  13,  46,  45, 188,  87,  46,   6,\n",
       "         69,  64,  13,  73,  14, 127,  23,  26,  47, 132,  39,  27,  26,\n",
       "         10,   7,  38,  10,  36, 309,  89,  17,  19,  50,  28,  12,  39,\n",
       "         11,  83, 140,  98,  62, 433, 147,  28,  19,  24,  71, 126,  81,\n",
       "         24], dtype=int64),\n",
       " 18: array([ 28,  68,  12,  11, 171,  27,  62,  29,   9,  15,  21,  28,  23,\n",
       "         27,  78,  11,  58,  38,  31,  27,  16,   9,  37,  35,  18,  25,\n",
       "         17, 243, 208,   7,   9,  86,  50, 143,  56, 140,  59, 167,  48,\n",
       "          6,  39,  56, 554,  46,  25,  56, 156, 159, 300,   5,  22,  13,\n",
       "         15, 106,  35,  67,  18, 431,  51, 285,   9,  44,  24, 256,  29,\n",
       "         52,  51,  53,  50, 302,  15, 124,  30,  48,  82,   9,  15,  26,\n",
       "         13,  14, 331, 188,  25,  28,  38, 101, 155,  30,  33], dtype=int64),\n",
       " 26: array([ 29,  79,  45,  42,  41,  22,  29,  37,  37,  46,  59,  41,  11,\n",
       "        165,  33,  46,  82,  30, 194,  47,  32,  57,  25,  68, 121,  51,\n",
       "         39,  17,  27, 127,  87,  10,  82, 135,   7,  39,  17,  28,  54,\n",
       "         91,  51,  12,  32,  13,  35,  22, 366,  18,  15,  16,  80,  24,\n",
       "         42,   8,  37], dtype=int64),\n",
       " 27: array([ 36,  82,  44,  19,  42,  55,  51,  80,  30,  26,  60, 161, 167,\n",
       "         37,  87,   9,  54,  62,  26,  31,  69, 129,  13, 432,  31,  24,\n",
       "         21,  28, 129, 100,  21, 137,   8,  19,  29, 280,  92,  13,  36,\n",
       "        102,  37,  51,  23, 367,  17,  84,  41,  63,  31,  43,  14,  38],\n",
       "       dtype=int64),\n",
       " 28: array([ 39,  38,  97,  46,  21,  45,  74,  35, 141,  40,  35,  52,  81,\n",
       "         31,  61, 162, 168,  38,  47,  88,  17,  57,  29,  34, 132,  14,\n",
       "        447,   8,  37,  34,  44, 110,  23,  14, 142,  20,  14,  38,  26,\n",
       "        374,  32,  16,  96,  44,  65,  15], dtype=int64),\n",
       " 29: array([ 49,  45,  33,  47,  91,  51,  53,  89,  28,  35,  83,  65, 165,\n",
       "        169,  40,  52, 103,  18,  60,  63,  40,  70, 146,  42, 111,  15,\n",
       "        143,  21,  52,  82,  11,  51,  16,  30,  72,  17,  18,  17, 102,\n",
       "         47,  49,  16], dtype=int64),\n",
       " 30: array([ 50,  49,  34,  46,  48,  94,  26,  32,  60,  90,  81, 302,   8,\n",
       "        172,  44, 137,  19,  64,  30,  71, 149,  15,  43,  40,  22, 113,\n",
       "         16, 190,  40,  55, 150,  52,  95,  39,  34,  79,  22,  39],\n",
       "       dtype=int64),\n",
       " 32: array([ 51,  51,  47,  33,  69,  84,   9,  49, 160,  15,  69,  37,  51,\n",
       "         73, 169,  19,  10,  44,  24, 127,  19, 236,  24,  12,  21,  24],\n",
       "       dtype=int64),\n",
       " 35: array([ 52,  37,  79,  91,  45, 102,  91,  48,  54,  77,  27,  53,  14,\n",
       "         27, 132,  21, 436,  25,  17,  58, 108,  47,  20,  42], dtype=int64),\n",
       " 39: array([ 53,  48,  88, 117, 148,  57,  80, 231,  21, 395,  29,  43,  31,\n",
       "         23,  61,  50,  66,  22,  54,  44], dtype=int64),\n",
       " 40: array([167,  49,  89, 124,  47, 149,  81, 237,  38,  62,  25,  53,  86,\n",
       "         23,  22,  29], dtype=int64),\n",
       " 8: array([  6,  50,  10,  58, 115,   5,  10,  39,  29,   6,  94,  71,  11,\n",
       "         58,  54,   4,  30,   4,  64, 130,  76,  15,  65,  36, 155,  16,\n",
       "        120, 749,   4,   7,  26,  10,  51,  10,  14, 211,  11,   2,  32,\n",
       "          6,  12, 138, 180,  36,  15,  57,   2,  86,   4,  10,   9,  24,\n",
       "         13,   9,  17,  21,  25,  55,   2,  59,   3,   3,  89,  13,  28,\n",
       "         18,   5,  24,  10,   6,  58,  17,  96, 178,  82,  22,  31, 454,\n",
       "          5,  57,  21,  15,  49,  16,  38,  64,  27,   2,  66,  21,  17,\n",
       "         34,  12, 116,   6,   5, 186,  24,   4, 304,   3,  27,  12, 249,\n",
       "         56, 774,   6, 151,  65,  13,   6,  58,  18, 340,  13, 276,  26,\n",
       "         16, 243,  36,  12,  19,  13,  39,   5,  88,  40,  32,   2,  13,\n",
       "          2,  11,   2,  19,  31, 126,   2,   8,  87,  24,  28,  37, 331,\n",
       "         56,  35,   6,  13,  86,  46, 147,  22, 281,  32,   7, 183,   6,\n",
       "         36,  18,  26,  23, 289,  92,  26,   2,  78,  13, 125,   5,   8,\n",
       "         56,   8,  76,  65,  44,  25,  52, 197,  61,  24,   5, 443,   3,\n",
       "         13,  55,  19,  29, 350,  41,   2,   9,   4,  87,  44, 173,   5,\n",
       "         29,   5,  35,  52,   9,   5,  18,  15, 107,  12,  29,   4,  17,\n",
       "         12,   4,   5, 126,  39,  52, 124,   5, 232, 115,  78,  33,  40,\n",
       "         55,   3,  69,  16,  41,  17,  39,   3,  32, 126,  59, 109,  61,\n",
       "         62,  37,  14,  21,  28, 117, 111,  14,   3,  29,   5, 364,   3,\n",
       "         62,  30,  13,   2,  19,  63,  31, 192,   3,  94,   7, 115,  31,\n",
       "         62,  35,  16,   5,   6,  44,  82, 138,  22, 554,  12,   2,   8,\n",
       "         13, 369,   2, 194,  78,  21,  69,  13,   2,  30, 116,   7,   7,\n",
       "         42,   5,   5,   2,  66,   2,  70, 624,  61,  99,  28, 216,  18,\n",
       "        119,  63,  13, 411, 242,   2,  18,  41,  51,  27,   4,   6,  21,\n",
       "         86,  78,  91,  25, 168,   8,   2,  23,  44,  30,  29, 252,   3,\n",
       "         58, 143,   4,  22,  35,  13,   5,  20, 123,   9,  18,   6,  28,\n",
       "         22,  15,   2], dtype=int64),\n",
       " 21: array([  9,  69,  16,  30,  13,  39,  66,  49,  18,  36,  51,  34,  10,\n",
       "         41,  32,  56, 436,  57,  15, 500,  36, 147,  28,  22,  53,  45,\n",
       "         73,  52,  14,  62,  16,  21,  49,  26,  63, 490, 136,  64, 187,\n",
       "        311,  36, 349,  16,  30, 155, 113,  80,  86,  31, 121, 149,  49,\n",
       "         53,  80,  58, 338,  17, 144,  39,  37,  50,  88,  43,  28,  31,\n",
       "         19, 137,  28,  42,  20,  19, 346,   9,  56, 137,  13, 164],\n",
       "       dtype=int64),\n",
       " 22: array([ 10,  33,  14,  40,  70,  10,  29, 120,  54,  19,  14,  43,  70,\n",
       "         10,  29, 502,  67,  20, 503,  52, 147,  39, 149,  31,  25,  56,\n",
       "        178,  53,  16,  69,  28,  20,  64,  97, 139,  43, 358,  14, 157,\n",
       "         32,  47, 127, 174,  19,  16,  53,  62, 352, 149,  44,  44,  10,\n",
       "         12,  10,  29,  43,  39,  20, 349,  18,  37,  13,  57, 160,  14,\n",
       "         35,   8], dtype=int64),\n",
       " 23: array([ 26,  70,  43,  34,  15,  31,  34,  22,  73,  36,  16, 144,  53,\n",
       "        148,  44, 179,  58,   7,  76,  43,   4,  30,  52,  21,  66, 103,\n",
       "         68,  11, 370,  24,  32,  15, 161, 114,  81,  34, 133,   6,  14,\n",
       "         45,  89,  45,  11,  32,  22,  33,  11,  43,  21, 351,  24,  38,\n",
       "         14,  35, 184,  15,  39], dtype=int64),\n",
       " 13: array([ 58, 152,  11,  13,   7,   9, 140,  20,  56,  23,  51,  41,  22,\n",
       "         23,   7, 131,  39,   6,  32,  69,  22,  72, 223,  24, 562,  86,\n",
       "         11,  15,  15,  30,  27,  15,   7,  55,   3,  41, 121,  20,  23,\n",
       "         54,  19,  93,  40,  59,  11,  31,  15,   8,  23,  26, 231, 326,\n",
       "         65,   3, 106,  10,   7,   4,  16,  84, 206, 206,  14,  67, 130,\n",
       "         46,  10,   9,  10,  46,  64,  20,  51, 130,  12,  54,  72,  33,\n",
       "         17,  29,  36,   9,  41,  47, 285,  15,  13,  83,  82,  21, 160,\n",
       "         36,  23,  23, 293, 231, 109,  10,  55,  25,  40,  90,  27,  17,\n",
       "         14,  81,  66, 155,  28, 507,  58,  34,  45,  54, 187,  34, 396,\n",
       "         64,  42,  40,  16,  45, 114,  11,   6, 310,  44,  88,  12,  24,\n",
       "          4, 154,  41, 104,  83,  64,  74,   6,  25,  12, 148, 115,  23,\n",
       "         38,  35,  25,  98,  37, 108,  26,   7,  25,   8, 678, 271,  10,\n",
       "          5,  19,  37,   8,  15, 306,   5,  80,   8,  10,  99,  25, 124,\n",
       "         16,  30, 549,  10,  14,  37,  78,  11,  51,   6,  31,  24, 125,\n",
       "        200,   9,  53, 419,  28, 146,  26,  16,  37, 124,  24,  20,  20],\n",
       "       dtype=int64),\n",
       " 14: array([  59,  159,   39,  155,   21,   59,    6,   24,   72,   24,   10,\n",
       "          29,  134,   19,   44,   11,   39,   22,  473,   23,   73,  284,\n",
       "          25,  111,   12,   16,   18,   31,   48,  122,   30,   31,   59,\n",
       "          26,   12,   35,   33,   10,  233,    7,  188,  368,   11,    8,\n",
       "          23,  123,  136,   24,    5,    5,   24,   11,    4,   47,   54,\n",
       "           6,   74,  133,   56,   91,   94,    7,   79,  156,   40,   42,\n",
       "          25,    3,   49,  289,    3,   18,   10,   42,   18,   86,   12,\n",
       "          26,  215,   59,   37,  116,   11,   25,   43,   16,  110,    5,\n",
       "          10,   23,   22,  100,   28,   13,  161,   65,   39,   88,   19,\n",
       "         399,   69,   55,   17,  249,   15,   14,   40,   17,   13,  402,\n",
       "          46,   92,  158,   43,  136,   66,  133,   42,   68,   75,   50,\n",
       "          56,   10,   28,  126,   24,   24,   44,   36,  110,   38,   11,\n",
       "          10, 1156,    6,   20,    9,   23,   10,  308,   84,   31,   16,\n",
       "          37,  575,   38,  539,   79,  122,   96,   25,  128,   13,   55,\n",
       "         421,   30,   23,   60,   49,    7,   23], dtype=int64),\n",
       " 16: array([ 61,  26,  18,  41, 200,   8, 119, 149,   8,  28,  37,  28,  41,\n",
       "          8,  68,   9, 106,  98, 371,  26,   9, 148,  28,  18,  12,   5,\n",
       "         89,  34,  25,  25,  68,  27,  19,  46,  14, 236, 198, 389,  10,\n",
       "         65,   7, 138,  27, 113,   6, 134,  17,  24,  15,  21,  55, 156,\n",
       "         25,  57,  14, 159,  43,  90,  27,  32, 345,  12,  32,  21,  51,\n",
       "         90,  54, 322, 155,  57, 152,  39, 299,   4,  17, 263, 119,  12,\n",
       "         41,  28,   6, 147, 104,  29,  14, 306,  17, 101, 416,   7, 253,\n",
       "        117,  23,  19,  61,   5,  19,  14, 117,  48,  51, 219,  91,  76,\n",
       "        119,   4,  91,  51, 132,  25,  27,  45,  54,  68,  40,  86,  27,\n",
       "         12,  85,  11,  38, 323,  91,   9,   7, 309,  24, 101,  65,  33,\n",
       "         79, 130,  33,  79,   8,  32, 154], dtype=int64),\n",
       " 24: array([ 72,  44,  35,  46,  11,  51,  21,  35,  27,  44,  74,  37, 147,\n",
       "         54, 150,  40,   9, 161,  60,  80, 187,  59,   8,  45,   5,  31,\n",
       "         56,  23,  27, 117,  12, 374,  26,  17,  33, 121,  49, 179,  20,\n",
       "         81,  70,  47,  46,  29,  33,  23,  40,  24,  31,  44, 358,  31,\n",
       "         12,  39,  66,  37,  58, 491,  16,   7,  36], dtype=int64),\n",
       " 25: array([ 77,  38,  16,  59,  36,  27,  29,  45,  79,  35,  73,  30,  56,\n",
       "        154,   7, 164,  81, 191,  18,  15,  35,  24,  28,  67,  50, 390,\n",
       "          7,  30,  20,  34,  16,  85,  20,  56,  33, 126,  10,  50,  90,\n",
       "         50,  35,  25,  26,  32,  45, 360,  15,  41,  15,  19,  41],\n",
       "       dtype=int64),\n",
       " 12: array([146,  12,  31,  58, 102, 106, 146,  26,  27,  49,  75,  39, 149,\n",
       "         22,  29,   9,  28,   6, 125,  31,  13,   3,  60,  15,  24, 462,\n",
       "         20,  16,  27,  10, 214,   3,  61,  16,  85,  10,  14,  19,  13,\n",
       "          6,  24,  39,  17,  25,  25,  45,  18,  17,  52,  25,  33,  12,\n",
       "         12, 291,  22, 125, 186, 257, 144,  98, 494,   3,  40, 121,  43,\n",
       "        128,  13,  60, 126,  23,  20,  43,  23,   8,   6,  33,  50, 235,\n",
       "        116,  11,  38,  68,  25,   6,  15,  23, 153,  31,   8,   4,  23,\n",
       "         31,  46,   8,  27,  35,  12,  20,  48,  82,  80,  14,  19, 136,\n",
       "         34,  58, 152, 839, 113,   8,   4,  12, 285,   3, 225,   9,  31,\n",
       "         27,  91,  19,  13, 144,  76,  65,  95,  27, 482,  12,  38,  44,\n",
       "          9,  15,  47, 186,   7, 392,  61,  35,  39,  11,  21, 113,  35,\n",
       "         35,  36,  39,  13,  10,   4,   5, 299,  42,  86,  11, 152,  42,\n",
       "         76,  73, 364,  42,  61,  16,  61,  69,  55,  45,  18, 135,  49,\n",
       "         27,  75,  33,  18,  34,  18,  23,  84,  35,  55, 647, 101,   8,\n",
       "          8,   4,  16,  35, 693,   7,  14,   9, 305,  37,  75,  98,  17,\n",
       "         14, 110,   8, 465,  35, 491,   6,  72,  10,  21,  28,  95,   3,\n",
       "        185,  95,   7,  32, 418,  26,  11,  17,  36,  18,   6,  32,  19],\n",
       "       dtype=int64),\n",
       " 10: array([ 88,  25,  53,   7,  39,  84,  98,  13,  13,  37,  39,  12, 445,\n",
       "        141, 100,  18, 223,  22,   3,   6, 818,  24,  20,   9,  56,   2,\n",
       "          3,  66,   9, 237,  18,   5,   2,  39,  52,  77,   7, 191,  53,\n",
       "         71,  29,  23,  25,  37,   3,  20,  22,  12,   8,  24,  14,  51,\n",
       "         32,   8,  28,   6,  18,  90, 107, 183, 235,  86,   2,  88,   6,\n",
       "        481,  12,  34,   5,  67, 204,  42,  29,  66,   8,  30,   3,  18,\n",
       "         40,   4,  40,   9, 313,  30,  14,  48, 167, 109,  10,  36,  64,\n",
       "         20,  33,  17,  42,  17,  28,  38,   5,  13,  20,  29,  15,  17,\n",
       "         41, 279,  14,  24,   6,  50,  13,  25,  45, 351,  77,  65,  18,\n",
       "         59,  94,  50, 148, 449,  54, 111,  45,  20,   2,  10,  32, 277,\n",
       "        962, 164,   4,  19,  83, 255,   9,  69,  10, 143, 231,  74, 249,\n",
       "         22,   2,   2,   6,  20,  63,  31,  23,   5,   2, 183,  22,  88,\n",
       "         48,  12,  54,  13,  17,   3,  33,  19,  20,   6,   6,  13, 142,\n",
       "         41,  81,  10, 127,  33, 141,  50,  77,  29,  43,  36,   5,   8,\n",
       "        214,  60,  68, 271, 125,  38,   6,   8,  72,   6,  31,  22,  83,\n",
       "         32,  10,  18,  70,  58,  49,   7,  40,   6,  36,   6,  25,  54,\n",
       "          5,  23,   3,   2,  35,   9, 544, 121, 270,  98,  29,  79,   7,\n",
       "         15,  84,  34,   8, 297,   4,  21,  71,   7,  78, 662,   8,  17,\n",
       "        170,   4,   5, 486,  20,  71,   6,  24,  15, 460,  28,  10,  55,\n",
       "         62,  17,  93,   2,  28,  31,  50, 390, 222,   7,  19, 957,   5,\n",
       "         41,   6,  14,   5,  30,  14,  13,  26,   7,  17], dtype=int64),\n",
       " 17: array([ 19,  42, 242,   9, 131,  26, 162,  60,   9,  61,  45,  39,  13,\n",
       "         15, 199,  24,  30,   5,  48,  37,  20,  15,   8,  35,  27,  37,\n",
       "         69,  34,  17,  24,  24,  16,  25, 237, 200,  14, 496,   4,  84,\n",
       "         49,   9, 142,  41, 137,  26,  49,  22, 179,  62, 160,  45,  10,\n",
       "        196,  31,  17,  33,  54, 408,  19,  33,  43,  22,  54,  88,  92,\n",
       "         36, 156,   9,   6,  12,  29,  26,  32, 354,  41, 282,  89,  21,\n",
       "        812,  43,  23, 254,  25,  49,  49, 376,  49,  77, 120,   8,  98,\n",
       "        133,  27,  29,  46,  76,  42, 100,  13,  11,   8,  39,  12,  13,\n",
       "        325, 145,   8, 310,  30,  13,  15,  12, 113,  26, 131,  36,  87,\n",
       "        130,  50], dtype=int64),\n",
       " 19: array([ 13,  12,  62,  10,  38,  44,  23,  28,  30, 277,  40,  32,  18,\n",
       "         38,  20,  18, 244, 238, 392,  13, 497, 144,  33,   4,   7, 141,\n",
       "         50,  27,  60,  29,  79, 174,  49,  34,  40,  57,  14,  34,  19,\n",
       "         60,  90,  94,   8,  60, 179, 254,  29, 303,   6,  13, 154, 107,\n",
       "         38,  69,  19, 434,  22,  45,  55,   4,  65,  48,  52,   9,  55,\n",
       "          7,  79, 304,  16, 136,  29,  49,  85,  11,  28,  16,  21,  40,\n",
       "         14, 338,  15,  26,  16,  34,  43, 132, 171,   9,  33, 163,  51,\n",
       "        131], dtype=int64),\n",
       " 20: array([ 28,  12,  47,  16,  25,  33,  33,  49,  33,  39,  31,  27,  53,\n",
       "        428,  15,  14, 499,   8,  51, 145,  34,   6,   8, 142,  51,  34,\n",
       "         11,  35,  41,  61,  15,  62, 139,  95,  22,  63, 180,  10,  30,\n",
       "        317,  23,  14,  42,  72,  30,  46, 120,  86,  66,  15,  54,  23,\n",
       "         57,   8, 323, 137,  30,  31,  86,  29,  18,  12, 123,   9,  22,\n",
       "         41,  49,  17,  15, 341,  22,  16,  31,  31,  14,   7,  55, 133,\n",
       "         39,  11,  37,   6,  34], dtype=int64),\n",
       " 31: array([ 50,  66,  61,  94,  65,  82,  42, 178,  48,  48, 147,  11,  68,\n",
       "         91,  50,  72, 165,  18,   9,  47,  23, 123,  18, 197,  23,  54,\n",
       "         98,  17,  40,  18,  19,  49,  23,  40], dtype=int64),\n",
       " 41: array([ 53,  25,  90, 128,  94,  56,  75, 246,  30,  33,  61,  26,  54,\n",
       "         32], dtype=int64),\n",
       " 42: array([ 54,  96,  95, 151,  61, 173,  84,  41, 135,  32,  10,  44,  63,\n",
       "         29,  66,  26,  23,  45], dtype=int64),\n",
       " 44: array([ 55, 132,  49,  15, 180,  71,  88, 522,  55, 144,  33,  69,  72,\n",
       "         33,  70,  25,  58,  36,  47], dtype=int64),\n",
       " 45: array([ 56, 110, 144,  98,  59, 235,  72,  93,  47,  56,  35,  12,  34,\n",
       "         74,  87,  55,  73,  25,  26,  59,  53], dtype=int64),\n",
       " 46: array([ 69, 155, 100,  54,  62,  36,  14,  61, 347,  57,  77,  27,  28,\n",
       "         71,  37,  66], dtype=int64),\n",
       " 47: array([ 97,  26,  59, 119,  19, 668,  73,  69,  40,  15,  78, 150,  85,\n",
       "         31,  29,  73,  39,  72], dtype=int64),\n",
       " 48: array([195,  32, 202, 128,  62,  76,  48,  17,  99, 151,  89,  43, 110,\n",
       "        286], dtype=int64),\n",
       " 49: array([963,  35, 215, 192, 103, 153,  18, 394, 483, 296], dtype=int64),\n",
       " 34: array([ 23,  27,  36,  74,  99,  88,  13, 184,  31,  89,  45,  76, 130,\n",
       "        131, 393,  56, 105,  19,  46,  52,  19,  19,  25], dtype=int64),\n",
       " 36: array([ 24,  51, 114,  46,  14, 114, 110,  55,  78, 215, 164,  15,  45,\n",
       "         29, 134, 175,  22, 453,  26,  57,  20, 182,  20,  53,  21,  20,\n",
       "         45,  53,  26], dtype=int64),\n",
       " 51: array([ 36, 193, 361], dtype=int64),\n",
       " 52: array([ 42, 727, 120], dtype=int64),\n",
       " 53: array([ 44, 738], dtype=int64),\n",
       " 37: array([ 55, 115,  34, 112,  79, 217,  16,  30,  28,  60,  21,  59, 198,\n",
       "         21,  49,  60,  27,  43], dtype=int64),\n",
       " 38: array([ 58,  81,  93, 142,  50,  56, 222,  17,  34,  28,  22, 244,  65,\n",
       "         21,  28], dtype=int64),\n",
       " 50: array([216, 104, 154, 403], dtype=int64),\n",
       " 33: array([ 62,  95,  36,  85,  44,  11, 321, 101, 183,  18,  78,  42,  74,\n",
       "        180,  21,  52,  12,  25, 129,  20, 297,   9,  14,  57, 101,  18,\n",
       "         43,  42,  23,  41], dtype=int64),\n",
       " 43: array([106, 130,  48, 152,  87,  43, 141,  11, 109,  68,  30,  71,  28,\n",
       "         64,  24,  24,  56,  35,  46], dtype=int64)}"
      ]
     },
     "execution_count": 13,
     "metadata": {},
     "output_type": "execute_result"
    }
   ],
   "source": [
    "dict_"
   ]
  },
  {
   "cell_type": "code",
   "execution_count": 26,
   "metadata": {},
   "outputs": [],
   "source": [
    "days_df= pd.DataFrame.from_dict(dict_,orient='index').sort_index().T"
   ]
  },
  {
   "cell_type": "code",
   "execution_count": 27,
   "metadata": {
    "scrolled": true
   },
   "outputs": [
    {
     "data": {
      "text/plain": [
       "Int64Index([ 1,  2,  3,  4,  5,  6,  7,  8,  9, 10, 11, 12, 13, 14, 15, 16, 17,\n",
       "            18, 19, 20, 21, 22, 23, 24, 25, 26, 27, 28, 29, 30, 31, 32, 33, 34,\n",
       "            35, 36, 37, 38, 39, 40, 41, 42, 43, 44, 45, 46, 47, 48, 49, 50, 51,\n",
       "            52, 53],\n",
       "           dtype='int64')"
      ]
     },
     "execution_count": 27,
     "metadata": {},
     "output_type": "execute_result"
    }
   ],
   "source": [
    "days_df.columns"
   ]
  },
  {
   "cell_type": "code",
   "execution_count": 35,
   "metadata": {},
   "outputs": [
    {
     "data": {
      "text/plain": [
       "array([ 1,  2,  3,  4,  5,  6,  7,  8,  9, 10, 11, 12, 13, 14, 15, 16, 17,\n",
       "       18, 19, 20, 21, 22, 23, 24, 25, 26, 27, 28, 29, 30, 31, 32, 33, 34,\n",
       "       35, 36, 37, 38, 39, 40, 41, 42, 43, 44, 45, 46, 47, 48])"
      ]
     },
     "execution_count": 35,
     "metadata": {},
     "output_type": "execute_result"
    }
   ],
   "source": [
    "np.arange(1,49)"
   ]
  },
  {
   "cell_type": "code",
   "execution_count": 38,
   "metadata": {},
   "outputs": [
    {
     "data": {
      "image/png": "[encoded data removed]",
      "text/plain": [
       "<Figure size 1080x360 with 1 Axes>"
      ]
     },
     "metadata": {
      "needs_background": "light"
     },
     "output_type": "display_data"
    }
   ],
   "source": [
    "ax=days_df[np.arange(1,49)].boxplot(figsize=(15,5), grid=True, showfliers=False);\n",
    "days_df[np.arange(1,49)].median(axis=0).plot(ax=ax, color='red', grid=True);\n",
    "ax.set_xlabel('Number of total countries', fontsize=14)\n",
    "ax.set_ylabel('Number of days', fontsize=14)\n",
    "ax.set_yticks(np.arange(0,250,10))\n",
    "plt.tight_layout()"
   ]
  },
  {
   "cell_type": "code",
   "execution_count": 12,
   "metadata": {},
   "outputs": [
    {
     "name": "stdout",
     "output_type": "stream",
     "text": [
      "That's all folks\n"
     ]
    }
   ],
   "source": [
    " print(\"That's all folks\")"
   ]
  },
  {
   "cell_type": "markdown",
   "metadata": {},
   "source": [
    "----------------------------------------------------------------------------"
   ]
  }
 ],
 "metadata": {
  "kernelspec": {
   "display_name": "Python 3",
   "language": "python",
   "name": "python3"
  },
  "language_info": {
   "codemirror_mode": {
    "name": "ipython",
    "version": 3
   },
   "file_extension": ".py",
   "mimetype": "text/x-python",
   "name": "python",
   "nbconvert_exporter": "python",
   "pygments_lexer": "ipython3",
   "version": "3.8.10"
  }
 },
 "nbformat": 4,
 "nbformat_minor": 4
}
