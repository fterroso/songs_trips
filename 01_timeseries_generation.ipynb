{
 "cells": [
  {
   "cell_type": "code",
   "execution_count": 11,
   "metadata": {},
   "outputs": [],
   "source": [
    "import pandas as pd\n",
    "import numpy as np\n",
    "import os\n",
    "\n",
    "from tqdm.notebook import tqdm\n",
    "\n",
    "%matplotlib inline\n",
    "import matplotlib.pyplot as plt\n",
    "\n",
    "import seaborn as sns\n",
    "\n",
    "import json"
   ]
  },
  {
   "cell_type": "code",
   "execution_count": 12,
   "metadata": {},
   "outputs": [
    {
     "name": "stderr",
     "output_type": "stream",
     "text": [
      "/home/fterroso/.local/lib/python3.8/site-packages/numpy/lib/arraysetops.py:580: FutureWarning: elementwise comparison failed; returning scalar instead, but in the future will perform elementwise comparison\n",
      "  mask |= (ar1 == a)\n"
     ]
    }
   ],
   "source": [
    "ranking_df = pd.read_csv(os.path.join('data','ranking_all_201701_202206.csv'), parse_dates=['Date','release_date'], index_col=0)"
   ]
  },
  {
   "cell_type": "code",
   "execution_count": 13,
   "metadata": {},
   "outputs": [],
   "source": [
    "def print_song_info(song_id_):\n",
    "    info_= ranking_df[ranking_df['song_id']==song_id_][['Track Name', 'Artist']].values[0]\n",
    "    print(f'Track name: {info_[0]}. Artist: {info_[1]}')"
   ]
  },
  {
   "cell_type": "code",
   "execution_count": 14,
   "metadata": {},
   "outputs": [
    {
     "data": {
      "text/html": [
       "<div>\n",
       "<style scoped>\n",
       "    .dataframe tbody tr th:only-of-type {\n",
       "        vertical-align: middle;\n",
       "    }\n",
       "\n",
       "    .dataframe tbody tr th {\n",
       "        vertical-align: top;\n",
       "    }\n",
       "\n",
       "    .dataframe thead th {\n",
       "        text-align: right;\n",
       "    }\n",
       "</style>\n",
       "<table border=\"1\" class=\"dataframe\">\n",
       "  <thead>\n",
       "    <tr style=\"text-align: right;\">\n",
       "      <th></th>\n",
       "      <th>Position</th>\n",
       "      <th>Track Name</th>\n",
       "      <th>Artist</th>\n",
       "      <th>Streams</th>\n",
       "      <th>Date</th>\n",
       "      <th>Region</th>\n",
       "      <th>song_id</th>\n",
       "      <th>release_date</th>\n",
       "    </tr>\n",
       "  </thead>\n",
       "  <tbody>\n",
       "    <tr>\n",
       "      <th>0</th>\n",
       "      <td>1</td>\n",
       "      <td>Échame La Culpa</td>\n",
       "      <td>Luis Fonsi, Demi Lovato</td>\n",
       "      <td>26459</td>\n",
       "      <td>2018-01-01</td>\n",
       "      <td>Ecuador</td>\n",
       "      <td>1zsG4eaZmkA1dvjDDsAGLK</td>\n",
       "      <td>2017-11-17</td>\n",
       "    </tr>\n",
       "    <tr>\n",
       "      <th>1</th>\n",
       "      <td>2</td>\n",
       "      <td>Corazón</td>\n",
       "      <td>Maluma, Nego do Borel</td>\n",
       "      <td>25743</td>\n",
       "      <td>2018-01-01</td>\n",
       "      <td>Ecuador</td>\n",
       "      <td>4lESS6vuruP6a79KWRaQou</td>\n",
       "      <td>2017-11-03</td>\n",
       "    </tr>\n",
       "    <tr>\n",
       "      <th>2</th>\n",
       "      <td>3</td>\n",
       "      <td>Déjala Que Vuelva (feat. Manuel Turizo)</td>\n",
       "      <td>Piso 21</td>\n",
       "      <td>24315</td>\n",
       "      <td>2018-01-01</td>\n",
       "      <td>Ecuador</td>\n",
       "      <td>33bnxcjePIkcmNjEFTJX0l</td>\n",
       "      <td>2017-10-20</td>\n",
       "    </tr>\n",
       "    <tr>\n",
       "      <th>3</th>\n",
       "      <td>4</td>\n",
       "      <td>Criminal</td>\n",
       "      <td>Natti Natasha, Ozuna</td>\n",
       "      <td>22060</td>\n",
       "      <td>2018-01-01</td>\n",
       "      <td>Ecuador</td>\n",
       "      <td>6Za3190Sbw39BBC77WSS1C</td>\n",
       "      <td>2017-11-10</td>\n",
       "    </tr>\n",
       "    <tr>\n",
       "      <th>4</th>\n",
       "      <td>5</td>\n",
       "      <td>Mayores</td>\n",
       "      <td>Becky G, Bad Bunny</td>\n",
       "      <td>18587</td>\n",
       "      <td>2018-01-01</td>\n",
       "      <td>Ecuador</td>\n",
       "      <td>7JNh1cfm0eXjqFVOzKLyau</td>\n",
       "      <td>2017-07-14</td>\n",
       "    </tr>\n",
       "  </tbody>\n",
       "</table>\n",
       "</div>"
      ],
      "text/plain": [
       "   Position                               Track Name                   Artist  \\\n",
       "0         1                          Échame La Culpa  Luis Fonsi, Demi Lovato   \n",
       "1         2                                  Corazón    Maluma, Nego do Borel   \n",
       "2         3  Déjala Que Vuelva (feat. Manuel Turizo)                  Piso 21   \n",
       "3         4                                 Criminal     Natti Natasha, Ozuna   \n",
       "4         5                                  Mayores       Becky G, Bad Bunny   \n",
       "\n",
       "   Streams       Date   Region                 song_id release_date  \n",
       "0    26459 2018-01-01  Ecuador  1zsG4eaZmkA1dvjDDsAGLK   2017-11-17  \n",
       "1    25743 2018-01-01  Ecuador  4lESS6vuruP6a79KWRaQou   2017-11-03  \n",
       "2    24315 2018-01-01  Ecuador  33bnxcjePIkcmNjEFTJX0l   2017-10-20  \n",
       "3    22060 2018-01-01  Ecuador  6Za3190Sbw39BBC77WSS1C   2017-11-10  \n",
       "4    18587 2018-01-01  Ecuador  7JNh1cfm0eXjqFVOzKLyau   2017-07-14  "
      ]
     },
     "execution_count": 14,
     "metadata": {},
     "output_type": "execute_result"
    }
   ],
   "source": [
    "ranking_df.head()"
   ]
  },
  {
   "cell_type": "markdown",
   "metadata": {},
   "source": [
    "Time period covered by the dataset"
   ]
  },
  {
   "cell_type": "code",
   "execution_count": 15,
   "metadata": {},
   "outputs": [
    {
     "name": "stdout",
     "output_type": "stream",
     "text": [
      "<class 'pandas.core.frame.DataFrame'>\n",
      "Int64Index: 22719346 entries, 0 to 22869873\n",
      "Data columns (total 8 columns):\n",
      " #   Column        Dtype         \n",
      "---  ------        -----         \n",
      " 0   Position      int64         \n",
      " 1   Track Name    object        \n",
      " 2   Artist        object        \n",
      " 3   Streams       int64         \n",
      " 4   Date          datetime64[ns]\n",
      " 5   Region        object        \n",
      " 6   song_id       object        \n",
      " 7   release_date  datetime64[ns]\n",
      "dtypes: datetime64[ns](2), int64(2), object(4)\n",
      "memory usage: 1.5+ GB\n"
     ]
    }
   ],
   "source": [
    "ranking_df.info()"
   ]
  },
  {
   "cell_type": "markdown",
   "metadata": {},
   "source": [
    "Number of total entries in the dataset"
   ]
  },
  {
   "cell_type": "code",
   "execution_count": 16,
   "metadata": {},
   "outputs": [
    {
     "data": {
      "text/plain": [
       "(22719346, 8)"
      ]
     },
     "execution_count": 16,
     "metadata": {},
     "output_type": "execute_result"
    }
   ],
   "source": [
    "ranking_df.shape"
   ]
  },
  {
   "cell_type": "markdown",
   "metadata": {},
   "source": [
    "Number of songs"
   ]
  },
  {
   "cell_type": "code",
   "execution_count": 17,
   "metadata": {},
   "outputs": [],
   "source": [
    "n_total_songs = ranking_df['song_id'].nunique()"
   ]
  },
  {
   "cell_type": "code",
   "execution_count": 18,
   "metadata": {},
   "outputs": [
    {
     "name": "stdout",
     "output_type": "stream",
     "text": [
      "The total number of songs is: 125935\n",
      "The total number of countries is: 71\n"
     ]
    }
   ],
   "source": [
    "print(f'The total number of songs is: {n_total_songs}')\n",
    "print(f'The total number of countries is: {ranking_df.Region.nunique()}')"
   ]
  },
  {
   "cell_type": "code",
   "execution_count": 19,
   "metadata": {},
   "outputs": [
    {
     "data": {
      "text/plain": [
       "array(['Ecuador', 'Portugal', 'Panama', 'Italy', 'Germany', 'Finland',\n",
       "       'Estonia', 'Hungary', 'Spain', 'Peru', 'Slovakia', 'Ireland',\n",
       "       'Indonesia', 'Iceland', 'Brazil', 'Canada', 'Belgium', 'Uruguay',\n",
       "       'CostaRica', 'Malaysia', 'Mexico', 'France', 'Argentina', 'Norway',\n",
       "       'Lithuania', 'Philippines', 'Taiwan', 'NewZealand', 'Turkey',\n",
       "       'USA', 'ElSalvador', 'Chile', 'Japan', 'Honduras', 'Guatemala',\n",
       "       'Switzerland', 'Denmark', 'Bolivia', 'Poland', 'Austria', 'Sweden',\n",
       "       'CzechRepublic', 'Netherlands', 'Columbia', 'Singapore',\n",
       "       'DominicanRepublic', 'Luxemborg', 'UnitedKingdom', 'World',\n",
       "       'Paraguay', 'Australia', 'Latvia', 'Greece', 'HongKong', 'Russia',\n",
       "       'UnitedArabEmirates', 'Belarus', 'India', 'SouthAfrica', 'Romania',\n",
       "       'Ukraine', 'Egypt', 'Nigeria', 'Korea', 'Kazakhstan',\n",
       "       'SaudiArabia', 'Nicaragua', 'Marocco', 'Israel', 'Bulgaria',\n",
       "       'Vietnam'], dtype=object)"
      ]
     },
     "execution_count": 19,
     "metadata": {},
     "output_type": "execute_result"
    }
   ],
   "source": [
    "ranking_df['Region'].unique()"
   ]
  },
  {
   "cell_type": "markdown",
   "metadata": {},
   "source": [
    "Covered dates"
   ]
  },
  {
   "cell_type": "code",
   "execution_count": 20,
   "metadata": {},
   "outputs": [
    {
     "data": {
      "text/plain": [
       "(Timestamp('2017-01-01 00:00:00'), Timestamp('2022-06-06 00:00:00'))"
      ]
     },
     "execution_count": 20,
     "metadata": {},
     "output_type": "execute_result"
    }
   ],
   "source": [
    "ranking_df['Date'].min(), ranking_df['Date'].max()"
   ]
  },
  {
   "cell_type": "code",
   "execution_count": 21,
   "metadata": {},
   "outputs": [],
   "source": [
    "s=ranking_df.groupby(['song_id','Region'])['Date'].min().to_frame()"
   ]
  },
  {
   "cell_type": "code",
   "execution_count": 22,
   "metadata": {},
   "outputs": [
    {
     "data": {
      "text/html": [
       "<div>\n",
       "<style scoped>\n",
       "    .dataframe tbody tr th:only-of-type {\n",
       "        vertical-align: middle;\n",
       "    }\n",
       "\n",
       "    .dataframe tbody tr th {\n",
       "        vertical-align: top;\n",
       "    }\n",
       "\n",
       "    .dataframe thead th {\n",
       "        text-align: right;\n",
       "    }\n",
       "</style>\n",
       "<table border=\"1\" class=\"dataframe\">\n",
       "  <thead>\n",
       "    <tr style=\"text-align: right;\">\n",
       "      <th></th>\n",
       "      <th></th>\n",
       "      <th>Date</th>\n",
       "    </tr>\n",
       "    <tr>\n",
       "      <th>song_id</th>\n",
       "      <th>Region</th>\n",
       "      <th></th>\n",
       "    </tr>\n",
       "  </thead>\n",
       "  <tbody>\n",
       "    <tr>\n",
       "      <th>000RW47rhEkSqjgTrZx7YX</th>\n",
       "      <th>Brazil</th>\n",
       "      <td>2021-04-23</td>\n",
       "    </tr>\n",
       "    <tr>\n",
       "      <th rowspan=\"4\" valign=\"top\">000xQL6tZNLJzIrtIgxqSl</th>\n",
       "      <th>Argentina</th>\n",
       "      <td>2017-04-08</td>\n",
       "    </tr>\n",
       "    <tr>\n",
       "      <th>Australia</th>\n",
       "      <td>2017-03-24</td>\n",
       "    </tr>\n",
       "    <tr>\n",
       "      <th>Austria</th>\n",
       "      <td>2017-03-24</td>\n",
       "    </tr>\n",
       "    <tr>\n",
       "      <th>Belgium</th>\n",
       "      <td>2017-03-24</td>\n",
       "    </tr>\n",
       "    <tr>\n",
       "      <th>...</th>\n",
       "      <th>...</th>\n",
       "      <td>...</td>\n",
       "    </tr>\n",
       "    <tr>\n",
       "      <th rowspan=\"2\" valign=\"top\">7zzU5vd1GrHpNjwq3HpIe3</th>\n",
       "      <th>France</th>\n",
       "      <td>2020-10-16</td>\n",
       "    </tr>\n",
       "    <tr>\n",
       "      <th>Marocco</th>\n",
       "      <td>2020-10-16</td>\n",
       "    </tr>\n",
       "    <tr>\n",
       "      <th>7zzbnhCpuuHOCrhBGvgwpp</th>\n",
       "      <th>Lithuania</th>\n",
       "      <td>2021-05-21</td>\n",
       "    </tr>\n",
       "    <tr>\n",
       "      <th>7zzhRAobAnNjarw2FAWt65</th>\n",
       "      <th>Israel</th>\n",
       "      <td>2020-04-08</td>\n",
       "    </tr>\n",
       "    <tr>\n",
       "      <th>7zzhknA0A39TH81meuX7WA</th>\n",
       "      <th>France</th>\n",
       "      <td>2019-10-04</td>\n",
       "    </tr>\n",
       "  </tbody>\n",
       "</table>\n",
       "<p>387196 rows × 1 columns</p>\n",
       "</div>"
      ],
      "text/plain": [
       "                                       Date\n",
       "song_id                Region              \n",
       "000RW47rhEkSqjgTrZx7YX Brazil    2021-04-23\n",
       "000xQL6tZNLJzIrtIgxqSl Argentina 2017-04-08\n",
       "                       Australia 2017-03-24\n",
       "                       Austria   2017-03-24\n",
       "                       Belgium   2017-03-24\n",
       "...                                     ...\n",
       "7zzU5vd1GrHpNjwq3HpIe3 France    2020-10-16\n",
       "                       Marocco   2020-10-16\n",
       "7zzbnhCpuuHOCrhBGvgwpp Lithuania 2021-05-21\n",
       "7zzhRAobAnNjarw2FAWt65 Israel    2020-04-08\n",
       "7zzhknA0A39TH81meuX7WA France    2019-10-04\n",
       "\n",
       "[387196 rows x 1 columns]"
      ]
     },
     "execution_count": 22,
     "metadata": {},
     "output_type": "execute_result"
    }
   ],
   "source": [
    "s"
   ]
  },
  {
   "cell_type": "markdown",
   "metadata": {},
   "source": [
    "### Target countries"
   ]
  },
  {
   "cell_type": "code",
   "execution_count": 46,
   "metadata": {},
   "outputs": [
    {
     "name": "stderr",
     "output_type": "stream",
     "text": [
      "/home/fterroso/.local/lib/python3.8/site-packages/geopandas/_compat.py:111: UserWarning: The Shapely GEOS version (3.10.2-CAPI-1.16.0) is incompatible with the GEOS version PyGEOS was compiled with (3.10.1-CAPI-1.16.0). Conversions between both will be slow.\n",
      "  warnings.warn(\n"
     ]
    },
    {
     "data": {
      "text/html": [
       "<div>\n",
       "<style scoped>\n",
       "    .dataframe tbody tr th:only-of-type {\n",
       "        vertical-align: middle;\n",
       "    }\n",
       "\n",
       "    .dataframe tbody tr th {\n",
       "        vertical-align: top;\n",
       "    }\n",
       "\n",
       "    .dataframe thead th {\n",
       "        text-align: right;\n",
       "    }\n",
       "</style>\n",
       "<table border=\"1\" class=\"dataframe\">\n",
       "  <thead>\n",
       "    <tr style=\"text-align: right;\">\n",
       "      <th></th>\n",
       "      <th>pop_est</th>\n",
       "      <th>continent</th>\n",
       "      <th>name</th>\n",
       "      <th>iso_a3</th>\n",
       "      <th>gdp_md_est</th>\n",
       "      <th>geometry</th>\n",
       "    </tr>\n",
       "  </thead>\n",
       "  <tbody>\n",
       "    <tr>\n",
       "      <th>0</th>\n",
       "      <td>920938</td>\n",
       "      <td>Oceania</td>\n",
       "      <td>Fiji</td>\n",
       "      <td>FJI</td>\n",
       "      <td>8374.0</td>\n",
       "      <td>MULTIPOLYGON (((180.00000 -16.06713, 180.00000...</td>\n",
       "    </tr>\n",
       "    <tr>\n",
       "      <th>1</th>\n",
       "      <td>53950935</td>\n",
       "      <td>Africa</td>\n",
       "      <td>Tanzania</td>\n",
       "      <td>TZA</td>\n",
       "      <td>150600.0</td>\n",
       "      <td>POLYGON ((33.90371 -0.95000, 34.07262 -1.05982...</td>\n",
       "    </tr>\n",
       "    <tr>\n",
       "      <th>2</th>\n",
       "      <td>603253</td>\n",
       "      <td>Africa</td>\n",
       "      <td>W. Sahara</td>\n",
       "      <td>ESH</td>\n",
       "      <td>906.5</td>\n",
       "      <td>POLYGON ((-8.66559 27.65643, -8.66512 27.58948...</td>\n",
       "    </tr>\n",
       "    <tr>\n",
       "      <th>3</th>\n",
       "      <td>35623680</td>\n",
       "      <td>North America</td>\n",
       "      <td>Canada</td>\n",
       "      <td>CAN</td>\n",
       "      <td>1674000.0</td>\n",
       "      <td>MULTIPOLYGON (((-122.84000 49.00000, -122.9742...</td>\n",
       "    </tr>\n",
       "    <tr>\n",
       "      <th>4</th>\n",
       "      <td>326625791</td>\n",
       "      <td>North America</td>\n",
       "      <td>United States of America</td>\n",
       "      <td>USA</td>\n",
       "      <td>18560000.0</td>\n",
       "      <td>MULTIPOLYGON (((-122.84000 49.00000, -120.0000...</td>\n",
       "    </tr>\n",
       "    <tr>\n",
       "      <th>...</th>\n",
       "      <td>...</td>\n",
       "      <td>...</td>\n",
       "      <td>...</td>\n",
       "      <td>...</td>\n",
       "      <td>...</td>\n",
       "      <td>...</td>\n",
       "    </tr>\n",
       "    <tr>\n",
       "      <th>172</th>\n",
       "      <td>7111024</td>\n",
       "      <td>Europe</td>\n",
       "      <td>Serbia</td>\n",
       "      <td>SRB</td>\n",
       "      <td>101800.0</td>\n",
       "      <td>POLYGON ((18.82982 45.90887, 18.82984 45.90888...</td>\n",
       "    </tr>\n",
       "    <tr>\n",
       "      <th>173</th>\n",
       "      <td>642550</td>\n",
       "      <td>Europe</td>\n",
       "      <td>Montenegro</td>\n",
       "      <td>MNE</td>\n",
       "      <td>10610.0</td>\n",
       "      <td>POLYGON ((20.07070 42.58863, 19.80161 42.50009...</td>\n",
       "    </tr>\n",
       "    <tr>\n",
       "      <th>174</th>\n",
       "      <td>1895250</td>\n",
       "      <td>Europe</td>\n",
       "      <td>Kosovo</td>\n",
       "      <td>-99</td>\n",
       "      <td>18490.0</td>\n",
       "      <td>POLYGON ((20.59025 41.85541, 20.52295 42.21787...</td>\n",
       "    </tr>\n",
       "    <tr>\n",
       "      <th>175</th>\n",
       "      <td>1218208</td>\n",
       "      <td>North America</td>\n",
       "      <td>Trinidad and Tobago</td>\n",
       "      <td>TTO</td>\n",
       "      <td>43570.0</td>\n",
       "      <td>POLYGON ((-61.68000 10.76000, -61.10500 10.890...</td>\n",
       "    </tr>\n",
       "    <tr>\n",
       "      <th>176</th>\n",
       "      <td>13026129</td>\n",
       "      <td>Africa</td>\n",
       "      <td>S. Sudan</td>\n",
       "      <td>SSD</td>\n",
       "      <td>20880.0</td>\n",
       "      <td>POLYGON ((30.83385 3.50917, 29.95350 4.17370, ...</td>\n",
       "    </tr>\n",
       "  </tbody>\n",
       "</table>\n",
       "<p>177 rows × 6 columns</p>\n",
       "</div>"
      ],
      "text/plain": [
       "       pop_est      continent                      name iso_a3  gdp_md_est  \\\n",
       "0       920938        Oceania                      Fiji    FJI      8374.0   \n",
       "1     53950935         Africa                  Tanzania    TZA    150600.0   \n",
       "2       603253         Africa                 W. Sahara    ESH       906.5   \n",
       "3     35623680  North America                    Canada    CAN   1674000.0   \n",
       "4    326625791  North America  United States of America    USA  18560000.0   \n",
       "..         ...            ...                       ...    ...         ...   \n",
       "172    7111024         Europe                    Serbia    SRB    101800.0   \n",
       "173     642550         Europe                Montenegro    MNE     10610.0   \n",
       "174    1895250         Europe                    Kosovo    -99     18490.0   \n",
       "175    1218208  North America       Trinidad and Tobago    TTO     43570.0   \n",
       "176   13026129         Africa                  S. Sudan    SSD     20880.0   \n",
       "\n",
       "                                              geometry  \n",
       "0    MULTIPOLYGON (((180.00000 -16.06713, 180.00000...  \n",
       "1    POLYGON ((33.90371 -0.95000, 34.07262 -1.05982...  \n",
       "2    POLYGON ((-8.66559 27.65643, -8.66512 27.58948...  \n",
       "3    MULTIPOLYGON (((-122.84000 49.00000, -122.9742...  \n",
       "4    MULTIPOLYGON (((-122.84000 49.00000, -120.0000...  \n",
       "..                                                 ...  \n",
       "172  POLYGON ((18.82982 45.90887, 18.82984 45.90888...  \n",
       "173  POLYGON ((20.07070 42.58863, 19.80161 42.50009...  \n",
       "174  POLYGON ((20.59025 41.85541, 20.52295 42.21787...  \n",
       "175  POLYGON ((-61.68000 10.76000, -61.10500 10.890...  \n",
       "176  POLYGON ((30.83385 3.50917, 29.95350 4.17370, ...  \n",
       "\n",
       "[177 rows x 6 columns]"
      ]
     },
     "execution_count": 46,
     "metadata": {},
     "output_type": "execute_result"
    }
   ],
   "source": [
    "import geopandas as gpd\n",
    "world = gpd.read_file(gpd.datasets.get_path('naturalearth_lowres'))\n",
    "world"
   ]
  },
  {
   "cell_type": "code",
   "execution_count": 47,
   "metadata": {},
   "outputs": [],
   "source": [
    "target_countries= [\"Argentina\" ,\"Australia\", \"Austria\",\"Belarus\", \n",
    "                      \"Belgium\" ,\"Brazil\" , \"Bulgaria\",\"Canada\", \n",
    "                      \"Denmark\" , \"Estonia\", \"Finland\" ,\"France\"  , \n",
    "                      \"Germany\" ,\"Greece\"  , \"Hungary\" ,\"Iceland\", \n",
    "                      \"Indonesia\" ,\"Ireland\" , \"Italy\",\"Kazakhstan\", \n",
    "                      \"Latvia\",\"Lithuania\", \"Luxembourg\",\"Malaysia\", \n",
    "                      \"Morocco\" ,\"Netherlands\",\"New Zealand\" ,\"Norway\" , \n",
    "                      \"Paraguay\"  ,\"Philippines\" , \"Poland\" ,\"Portugal\" ,\n",
    "                      \"Romania\",\"Saudi Arabia\", \"Singapore\",\"Slovakia\",\n",
    "                      \"South Africa\" ,\"Sweden\"  , \"Switzerland\" , \"United Arab Emirates\"  , \n",
    "                      \"United Kingdom\" ,\"United States of America\",\"Uruguay\",\n",
    "                       'Ecuador', 'Panama', 'Spain', 'Peru','Uruguay',\n",
    "                       'Costa Rica',  'Mexico',  'Norway','Taiwan', \n",
    "                       'El Salvador', 'Chile', 'Japan', 'Honduras', 'Guatemala',\n",
    "                       'Bolivia',  'CzechRepublic','Dominican Republic', \n",
    "                        'Hong Kong', 'Russia',\n",
    "                        'India','Ukraine', 'Egypt', 'Nigeria', 'South Korea',\n",
    "                        'Nicaragua',  'Israel','Vietnam']"
   ]
  },
  {
   "cell_type": "code",
   "execution_count": 48,
   "metadata": {},
   "outputs": [],
   "source": [
    "target_countries_gdf=world[world['name'].isin(target_countries)]"
   ]
  },
  {
   "cell_type": "code",
   "execution_count": 51,
   "metadata": {},
   "outputs": [
    {
     "data": {
      "image/png": "[encoded data removed]",
      "text/plain": [
       "<Figure size 1440x1080 with 1 Axes>"
      ]
     },
     "metadata": {
      "needs_background": "light"
     },
     "output_type": "display_data"
    }
   ],
   "source": [
    "ax= target_countries_gdf.plot(color='blue', figsize=(20,15))\n",
    "\n",
    "world.boundary.plot(ax=ax, color='black');\n",
    "ax.set_axis_off()\n",
    "plt.tight_layout()\n",
    "plt.savefig(os.path.join('figs',f'01_target_countries.png'),bbox_inches='tight')"
   ]
  },
  {
   "cell_type": "markdown",
   "metadata": {},
   "source": [
    "## Visualization of the dataset"
   ]
  },
  {
   "cell_type": "code",
   "execution_count": 23,
   "metadata": {},
   "outputs": [
    {
     "data": {
      "image/png": "[encoded data removed]",
      "text/plain": [
       "<Figure size 432x288 with 1 Axes>"
      ]
     },
     "metadata": {
      "needs_background": "light"
     },
     "output_type": "display_data"
    }
   ],
   "source": [
    "days_per_song= s.groupby(['song_id'])['Date'].nunique()\n",
    "days_per_song.plot(grid=True, rot=45);"
   ]
  },
  {
   "cell_type": "code",
   "execution_count": 24,
   "metadata": {},
   "outputs": [
    {
     "data": {
      "image/png": "[encoded data removed]",
      "text/plain": [
       "<Figure size 360x360 with 1 Axes>"
      ]
     },
     "metadata": {
      "needs_background": "light"
     },
     "output_type": "display_data"
    }
   ],
   "source": [
    "sns.displot(days_per_song);"
   ]
  },
  {
   "cell_type": "markdown",
   "metadata": {},
   "source": [
    "### Remove songs appearing in duplicate countries initially"
   ]
  },
  {
   "cell_type": "code",
   "execution_count": 25,
   "metadata": {},
   "outputs": [],
   "source": [
    "def remove_duplicate_songs_fn(ranking_df_):\n",
    "    release_ranking_df = ranking_df_[ranking_df_['Date']== ranking_df_['release_date']]\n",
    "    num_initial_lists_df = release_ranking_df.groupby('song_id').size().to_frame()\n",
    "    #print(num_initial_lists_df)\n",
    "    num_initial_lists_df.columns =['num_lists']\n",
    "    songs_with_one_initial_list = num_initial_lists_df[num_initial_lists_df['num_lists']==1].index.to_list()\n",
    "    #print(songs_with_one_initial_list)\n",
    "    return ranking_df_[ranking_df_['song_id'].isin(songs_with_one_initial_list)]   "
   ]
  },
  {
   "cell_type": "code",
   "execution_count": 26,
   "metadata": {},
   "outputs": [],
   "source": [
    "clean_ranking_df = remove_duplicate_songs_fn(ranking_df)"
   ]
  },
  {
   "cell_type": "code",
   "execution_count": 27,
   "metadata": {},
   "outputs": [
    {
     "data": {
      "text/html": [
       "<div>\n",
       "<style scoped>\n",
       "    .dataframe tbody tr th:only-of-type {\n",
       "        vertical-align: middle;\n",
       "    }\n",
       "\n",
       "    .dataframe tbody tr th {\n",
       "        vertical-align: top;\n",
       "    }\n",
       "\n",
       "    .dataframe thead th {\n",
       "        text-align: right;\n",
       "    }\n",
       "</style>\n",
       "<table border=\"1\" class=\"dataframe\">\n",
       "  <thead>\n",
       "    <tr style=\"text-align: right;\">\n",
       "      <th></th>\n",
       "      <th>Position</th>\n",
       "      <th>Track Name</th>\n",
       "      <th>Artist</th>\n",
       "      <th>Streams</th>\n",
       "      <th>Date</th>\n",
       "      <th>Region</th>\n",
       "      <th>song_id</th>\n",
       "      <th>release_date</th>\n",
       "    </tr>\n",
       "  </thead>\n",
       "  <tbody>\n",
       "    <tr>\n",
       "      <th>16</th>\n",
       "      <td>17</td>\n",
       "      <td>Olha a Explosão</td>\n",
       "      <td>MC Kevinho</td>\n",
       "      <td>12388</td>\n",
       "      <td>2018-01-01</td>\n",
       "      <td>Ecuador</td>\n",
       "      <td>6m2LNopVJKsvBB9l7Z1rwn</td>\n",
       "      <td>2017-01-01</td>\n",
       "    </tr>\n",
       "    <tr>\n",
       "      <th>19</th>\n",
       "      <td>20</td>\n",
       "      <td>Besame</td>\n",
       "      <td>Valentino, Manuel Turizo</td>\n",
       "      <td>11127</td>\n",
       "      <td>2018-01-01</td>\n",
       "      <td>Ecuador</td>\n",
       "      <td>7Ckhk1XW5NV2k4jpqtQNlz</td>\n",
       "      <td>2017-06-03</td>\n",
       "    </tr>\n",
       "    <tr>\n",
       "      <th>22</th>\n",
       "      <td>23</td>\n",
       "      <td>Una Lady Como Tú</td>\n",
       "      <td>Manuel Turizo</td>\n",
       "      <td>10766</td>\n",
       "      <td>2018-01-01</td>\n",
       "      <td>Ecuador</td>\n",
       "      <td>7MHN1aCFtLXjownGhvEQlF</td>\n",
       "      <td>2017-04-12</td>\n",
       "    </tr>\n",
       "    <tr>\n",
       "      <th>25</th>\n",
       "      <td>26</td>\n",
       "      <td>Scooby Doo Pa Pa</td>\n",
       "      <td>Dj Kass</td>\n",
       "      <td>9879</td>\n",
       "      <td>2018-01-01</td>\n",
       "      <td>Ecuador</td>\n",
       "      <td>1xndOD8CreR5ctkOv5G1LN</td>\n",
       "      <td>2017-12-08</td>\n",
       "    </tr>\n",
       "    <tr>\n",
       "      <th>28</th>\n",
       "      <td>29</td>\n",
       "      <td>Déjate Llevar</td>\n",
       "      <td>Juan Magán, Belinda, Manuel Turizo, Snova, B-Case</td>\n",
       "      <td>8995</td>\n",
       "      <td>2018-01-01</td>\n",
       "      <td>Ecuador</td>\n",
       "      <td>3xWEI23MLJrD0dpDcDUTW6</td>\n",
       "      <td>2017-11-28</td>\n",
       "    </tr>\n",
       "  </tbody>\n",
       "</table>\n",
       "</div>"
      ],
      "text/plain": [
       "    Position        Track Name  \\\n",
       "16        17   Olha a Explosão   \n",
       "19        20            Besame   \n",
       "22        23  Una Lady Como Tú   \n",
       "25        26  Scooby Doo Pa Pa   \n",
       "28        29     Déjate Llevar   \n",
       "\n",
       "                                               Artist  Streams       Date  \\\n",
       "16                                         MC Kevinho    12388 2018-01-01   \n",
       "19                           Valentino, Manuel Turizo    11127 2018-01-01   \n",
       "22                                      Manuel Turizo    10766 2018-01-01   \n",
       "25                                            Dj Kass     9879 2018-01-01   \n",
       "28  Juan Magán, Belinda, Manuel Turizo, Snova, B-Case     8995 2018-01-01   \n",
       "\n",
       "     Region                 song_id release_date  \n",
       "16  Ecuador  6m2LNopVJKsvBB9l7Z1rwn   2017-01-01  \n",
       "19  Ecuador  7Ckhk1XW5NV2k4jpqtQNlz   2017-06-03  \n",
       "22  Ecuador  7MHN1aCFtLXjownGhvEQlF   2017-04-12  \n",
       "25  Ecuador  1xndOD8CreR5ctkOv5G1LN   2017-12-08  \n",
       "28  Ecuador  3xWEI23MLJrD0dpDcDUTW6   2017-11-28  "
      ]
     },
     "execution_count": 27,
     "metadata": {},
     "output_type": "execute_result"
    }
   ],
   "source": [
    "clean_ranking_df.head()"
   ]
  },
  {
   "cell_type": "code",
   "execution_count": 28,
   "metadata": {},
   "outputs": [
    {
     "name": "stdout",
     "output_type": "stream",
     "text": [
      "<class 'pandas.core.frame.DataFrame'>\n",
      "Int64Index: 8111692 entries, 16 to 22869868\n",
      "Data columns (total 8 columns):\n",
      " #   Column        Dtype         \n",
      "---  ------        -----         \n",
      " 0   Position      int64         \n",
      " 1   Track Name    object        \n",
      " 2   Artist        object        \n",
      " 3   Streams       int64         \n",
      " 4   Date          datetime64[ns]\n",
      " 5   Region        object        \n",
      " 6   song_id       object        \n",
      " 7   release_date  datetime64[ns]\n",
      "dtypes: datetime64[ns](2), int64(2), object(4)\n",
      "memory usage: 557.0+ MB\n"
     ]
    }
   ],
   "source": [
    "clean_ranking_df.info()"
   ]
  },
  {
   "cell_type": "markdown",
   "metadata": {},
   "source": [
    "### Remove songs in only one country"
   ]
  },
  {
   "cell_type": "code",
   "execution_count": 29,
   "metadata": {},
   "outputs": [
    {
     "data": {
      "text/plain": [
       "100941"
      ]
     },
     "execution_count": 29,
     "metadata": {},
     "output_type": "execute_result"
    }
   ],
   "source": [
    "clean_ranking_df['song_id'].nunique()"
   ]
  },
  {
   "cell_type": "code",
   "execution_count": 30,
   "metadata": {},
   "outputs": [
    {
     "data": {
      "text/plain": [
       "song_id\n",
       "007d7JT41sSc1HqWTs4uw7     7\n",
       "007ogFejDqJKzEXDUDF8Nf     2\n",
       "00LX4aUgpDFG4zZO1H3Lx8     2\n",
       "00NpdPvXFERf1USRAcHkT3     2\n",
       "00Wbi90nyiEUUfpGxddi2x     3\n",
       "                          ..\n",
       "7zsgBOY20sX0Z8L4RTdU3Y     2\n",
       "7zuM6FYdo5XhiocMPDkc0Q     2\n",
       "7zwn1eykZtZ5LODrf7c0tS     8\n",
       "7zxRMhXxJMQCeDDg0rKAVo    12\n",
       "7zxd3J5hMPeLN71VS8vnE4    11\n",
       "Name: Region, Length: 8856, dtype: int64"
      ]
     },
     "execution_count": 30,
     "metadata": {},
     "output_type": "execute_result"
    }
   ],
   "source": [
    "n_countries_per_song = clean_ranking_df.groupby('song_id')['Region'].nunique()\n",
    "n_countries_per_song[n_countries_per_song>1]"
   ]
  },
  {
   "cell_type": "code",
   "execution_count": 31,
   "metadata": {},
   "outputs": [],
   "source": [
    "songs_to_keep=n_countries_per_song[n_countries_per_song>1].index.to_list()"
   ]
  },
  {
   "cell_type": "code",
   "execution_count": 32,
   "metadata": {},
   "outputs": [],
   "source": [
    "clean_ranking_df = clean_ranking_df[clean_ranking_df['song_id'].isin(songs_to_keep)]"
   ]
  },
  {
   "cell_type": "code",
   "execution_count": 33,
   "metadata": {},
   "outputs": [
    {
     "name": "stdout",
     "output_type": "stream",
     "text": [
      "<class 'pandas.core.frame.DataFrame'>\n",
      "Int64Index: 3600361 entries, 16 to 22869868\n",
      "Data columns (total 8 columns):\n",
      " #   Column        Dtype         \n",
      "---  ------        -----         \n",
      " 0   Position      int64         \n",
      " 1   Track Name    object        \n",
      " 2   Artist        object        \n",
      " 3   Streams       int64         \n",
      " 4   Date          datetime64[ns]\n",
      " 5   Region        object        \n",
      " 6   song_id       object        \n",
      " 7   release_date  datetime64[ns]\n",
      "dtypes: datetime64[ns](2), int64(2), object(4)\n",
      "memory usage: 247.2+ MB\n"
     ]
    }
   ],
   "source": [
    "clean_ranking_df.info()"
   ]
  },
  {
   "cell_type": "code",
   "execution_count": 34,
   "metadata": {},
   "outputs": [
    {
     "data": {
      "text/plain": [
       "8856"
      ]
     },
     "execution_count": 34,
     "metadata": {},
     "output_type": "execute_result"
    }
   ],
   "source": [
    "clean_ranking_df['song_id'].nunique()"
   ]
  },
  {
   "cell_type": "code",
   "execution_count": 35,
   "metadata": {},
   "outputs": [],
   "source": [
    "clean_ranking_df.to_csv(os.path.join('data', 'clean_ranking_2017_2022.csv'))"
   ]
  },
  {
   "cell_type": "markdown",
   "metadata": {},
   "source": [
    "### Generate songs' timeseries"
   ]
  },
  {
   "cell_type": "code",
   "execution_count": 36,
   "metadata": {},
   "outputs": [],
   "source": [
    "def generate_songs_timeseries_fin(clean_ranking_df_):\n",
    "    num_countries_lst = []\n",
    "    total_countries_per_song = {}\n",
    "    songs_ids = clean_ranking_df_['song_id'].unique()\n",
    "    \n",
    "    \n",
    "    for song_id in tqdm(clean_ranking_df_['song_id'].unique()):\n",
    "        song_df =clean_ranking_df_[clean_ranking_df_['song_id']==song_id]\n",
    "        song_dates = song_df['Date'].unique()\n",
    "        song_dates.sort()\n",
    "        num_day = 1\n",
    "        for d in song_dates:\n",
    "            song_date_df = song_df[song_df['Date']==d]\n",
    "            \n",
    "            current_countries = set(song_date_df['Region'].unique())\n",
    "            total_countries =total_countries_per_song.get(song_id,set())\n",
    "            \n",
    "            in_countries = current_countries - total_countries\n",
    "            out_countries = total_countries- current_countries\n",
    "\n",
    "\n",
    "            total_countries=total_countries.union(current_countries)\n",
    "            total_countries_per_song[song_id]= total_countries\n",
    "\n",
    "\n",
    "            num_countries_lst.append((song_id,num_day,len(total_countries), len(current_countries), len(in_countries), len(out_countries)))\n",
    "            \n",
    "            #print(d, num_countries)\n",
    "            #num_countries_lst.append((song_id,num_day,num_countries))\n",
    "            num_day +=1\n",
    "    num_countries_df_ = pd.DataFrame.from_records(num_countries_lst, columns='song_id num_day total_countries current_countries inc dec'.split())\n",
    "    num_countries_df_.to_csv(os.path.join('data', 'raw_songs_timeseries.csv'))\n",
    "    return num_countries_df_"
   ]
  },
  {
   "cell_type": "code",
   "execution_count": 37,
   "metadata": {
    "scrolled": true
   },
   "outputs": [
    {
     "data": {
      "application/vnd.jupyter.widget-view+json": {
       "model_id": "905e75325f534fcf91de0f8f0c69448e",
       "version_major": 2,
       "version_minor": 0
      },
      "text/plain": [
       "  0%|          | 0/8856 [00:00<?, ?it/s]"
      ]
     },
     "metadata": {},
     "output_type": "display_data"
    },
    {
     "ename": "KeyboardInterrupt",
     "evalue": "",
     "output_type": "error",
     "traceback": [
      "\u001b[0;31m---------------------------------------------------------------------------\u001b[0m",
      "\u001b[0;31mKeyboardInterrupt\u001b[0m                         Traceback (most recent call last)",
      "\u001b[0;32m/tmp/ipykernel_3809777/3463953668.py\u001b[0m in \u001b[0;36m<module>\u001b[0;34m\u001b[0m\n\u001b[0;32m----> 1\u001b[0;31m \u001b[0msongs_ts\u001b[0m \u001b[0;34m=\u001b[0m \u001b[0mgenerate_songs_timeseries_fin\u001b[0m\u001b[0;34m(\u001b[0m\u001b[0mclean_ranking_df\u001b[0m\u001b[0;34m)\u001b[0m\u001b[0;34m\u001b[0m\u001b[0;34m\u001b[0m\u001b[0m\n\u001b[0m",
      "\u001b[0;32m/tmp/ipykernel_3809777/2688672221.py\u001b[0m in \u001b[0;36mgenerate_songs_timeseries_fin\u001b[0;34m(clean_ranking_df_)\u001b[0m\n\u001b[1;32m      6\u001b[0m \u001b[0;34m\u001b[0m\u001b[0m\n\u001b[1;32m      7\u001b[0m     \u001b[0;32mfor\u001b[0m \u001b[0msong_id\u001b[0m \u001b[0;32min\u001b[0m \u001b[0mtqdm\u001b[0m\u001b[0;34m(\u001b[0m\u001b[0mclean_ranking_df_\u001b[0m\u001b[0;34m[\u001b[0m\u001b[0;34m'song_id'\u001b[0m\u001b[0;34m]\u001b[0m\u001b[0;34m.\u001b[0m\u001b[0munique\u001b[0m\u001b[0;34m(\u001b[0m\u001b[0;34m)\u001b[0m\u001b[0;34m)\u001b[0m\u001b[0;34m:\u001b[0m\u001b[0;34m\u001b[0m\u001b[0;34m\u001b[0m\u001b[0m\n\u001b[0;32m----> 8\u001b[0;31m         \u001b[0msong_df\u001b[0m \u001b[0;34m=\u001b[0m\u001b[0mclean_ranking_df_\u001b[0m\u001b[0;34m[\u001b[0m\u001b[0mclean_ranking_df_\u001b[0m\u001b[0;34m[\u001b[0m\u001b[0;34m'song_id'\u001b[0m\u001b[0;34m]\u001b[0m\u001b[0;34m==\u001b[0m\u001b[0msong_id\u001b[0m\u001b[0;34m]\u001b[0m\u001b[0;34m\u001b[0m\u001b[0;34m\u001b[0m\u001b[0m\n\u001b[0m\u001b[1;32m      9\u001b[0m         \u001b[0msong_dates\u001b[0m \u001b[0;34m=\u001b[0m \u001b[0msong_df\u001b[0m\u001b[0;34m[\u001b[0m\u001b[0;34m'Date'\u001b[0m\u001b[0;34m]\u001b[0m\u001b[0;34m.\u001b[0m\u001b[0munique\u001b[0m\u001b[0;34m(\u001b[0m\u001b[0;34m)\u001b[0m\u001b[0;34m\u001b[0m\u001b[0;34m\u001b[0m\u001b[0m\n\u001b[1;32m     10\u001b[0m         \u001b[0msong_dates\u001b[0m\u001b[0;34m.\u001b[0m\u001b[0msort\u001b[0m\u001b[0;34m(\u001b[0m\u001b[0;34m)\u001b[0m\u001b[0;34m\u001b[0m\u001b[0;34m\u001b[0m\u001b[0m\n",
      "\u001b[0;32m~/.local/lib/python3.8/site-packages/pandas/core/ops/common.py\u001b[0m in \u001b[0;36mnew_method\u001b[0;34m(self, other)\u001b[0m\n\u001b[1;32m     63\u001b[0m         \u001b[0mother\u001b[0m \u001b[0;34m=\u001b[0m \u001b[0mitem_from_zerodim\u001b[0m\u001b[0;34m(\u001b[0m\u001b[0mother\u001b[0m\u001b[0;34m)\u001b[0m\u001b[0;34m\u001b[0m\u001b[0;34m\u001b[0m\u001b[0m\n\u001b[1;32m     64\u001b[0m \u001b[0;34m\u001b[0m\u001b[0m\n\u001b[0;32m---> 65\u001b[0;31m         \u001b[0;32mreturn\u001b[0m \u001b[0mmethod\u001b[0m\u001b[0;34m(\u001b[0m\u001b[0mself\u001b[0m\u001b[0;34m,\u001b[0m \u001b[0mother\u001b[0m\u001b[0;34m)\u001b[0m\u001b[0;34m\u001b[0m\u001b[0;34m\u001b[0m\u001b[0m\n\u001b[0m\u001b[1;32m     66\u001b[0m \u001b[0;34m\u001b[0m\u001b[0m\n\u001b[1;32m     67\u001b[0m     \u001b[0;32mreturn\u001b[0m \u001b[0mnew_method\u001b[0m\u001b[0;34m\u001b[0m\u001b[0;34m\u001b[0m\u001b[0m\n",
      "\u001b[0;32m~/.local/lib/python3.8/site-packages/pandas/core/arraylike.py\u001b[0m in \u001b[0;36m__eq__\u001b[0;34m(self, other)\u001b[0m\n\u001b[1;32m     27\u001b[0m     \u001b[0;34m@\u001b[0m\u001b[0munpack_zerodim_and_defer\u001b[0m\u001b[0;34m(\u001b[0m\u001b[0;34m\"__eq__\"\u001b[0m\u001b[0;34m)\u001b[0m\u001b[0;34m\u001b[0m\u001b[0;34m\u001b[0m\u001b[0m\n\u001b[1;32m     28\u001b[0m     \u001b[0;32mdef\u001b[0m \u001b[0m__eq__\u001b[0m\u001b[0;34m(\u001b[0m\u001b[0mself\u001b[0m\u001b[0;34m,\u001b[0m \u001b[0mother\u001b[0m\u001b[0;34m)\u001b[0m\u001b[0;34m:\u001b[0m\u001b[0;34m\u001b[0m\u001b[0;34m\u001b[0m\u001b[0m\n\u001b[0;32m---> 29\u001b[0;31m         \u001b[0;32mreturn\u001b[0m \u001b[0mself\u001b[0m\u001b[0;34m.\u001b[0m\u001b[0m_cmp_method\u001b[0m\u001b[0;34m(\u001b[0m\u001b[0mother\u001b[0m\u001b[0;34m,\u001b[0m \u001b[0moperator\u001b[0m\u001b[0;34m.\u001b[0m\u001b[0meq\u001b[0m\u001b[0;34m)\u001b[0m\u001b[0;34m\u001b[0m\u001b[0;34m\u001b[0m\u001b[0m\n\u001b[0m\u001b[1;32m     30\u001b[0m \u001b[0;34m\u001b[0m\u001b[0m\n\u001b[1;32m     31\u001b[0m     \u001b[0;34m@\u001b[0m\u001b[0munpack_zerodim_and_defer\u001b[0m\u001b[0;34m(\u001b[0m\u001b[0;34m\"__ne__\"\u001b[0m\u001b[0;34m)\u001b[0m\u001b[0;34m\u001b[0m\u001b[0;34m\u001b[0m\u001b[0m\n",
      "\u001b[0;32m~/.local/lib/python3.8/site-packages/pandas/core/series.py\u001b[0m in \u001b[0;36m_cmp_method\u001b[0;34m(self, other, op)\u001b[0m\n\u001b[1;32m   4976\u001b[0m         \u001b[0mrvalues\u001b[0m \u001b[0;34m=\u001b[0m \u001b[0mextract_array\u001b[0m\u001b[0;34m(\u001b[0m\u001b[0mother\u001b[0m\u001b[0;34m,\u001b[0m \u001b[0mextract_numpy\u001b[0m\u001b[0;34m=\u001b[0m\u001b[0;32mTrue\u001b[0m\u001b[0;34m)\u001b[0m\u001b[0;34m\u001b[0m\u001b[0;34m\u001b[0m\u001b[0m\n\u001b[1;32m   4977\u001b[0m \u001b[0;34m\u001b[0m\u001b[0m\n\u001b[0;32m-> 4978\u001b[0;31m         \u001b[0mres_values\u001b[0m \u001b[0;34m=\u001b[0m \u001b[0mops\u001b[0m\u001b[0;34m.\u001b[0m\u001b[0mcomparison_op\u001b[0m\u001b[0;34m(\u001b[0m\u001b[0mlvalues\u001b[0m\u001b[0;34m,\u001b[0m \u001b[0mrvalues\u001b[0m\u001b[0;34m,\u001b[0m \u001b[0mop\u001b[0m\u001b[0;34m)\u001b[0m\u001b[0;34m\u001b[0m\u001b[0;34m\u001b[0m\u001b[0m\n\u001b[0m\u001b[1;32m   4979\u001b[0m \u001b[0;34m\u001b[0m\u001b[0m\n\u001b[1;32m   4980\u001b[0m         \u001b[0;32mreturn\u001b[0m \u001b[0mself\u001b[0m\u001b[0;34m.\u001b[0m\u001b[0m_construct_result\u001b[0m\u001b[0;34m(\u001b[0m\u001b[0mres_values\u001b[0m\u001b[0;34m,\u001b[0m \u001b[0mname\u001b[0m\u001b[0;34m=\u001b[0m\u001b[0mres_name\u001b[0m\u001b[0;34m)\u001b[0m\u001b[0;34m\u001b[0m\u001b[0;34m\u001b[0m\u001b[0m\n",
      "\u001b[0;32m~/.local/lib/python3.8/site-packages/pandas/core/ops/array_ops.py\u001b[0m in \u001b[0;36mcomparison_op\u001b[0;34m(left, right, op)\u001b[0m\n\u001b[1;32m    241\u001b[0m \u001b[0;34m\u001b[0m\u001b[0m\n\u001b[1;32m    242\u001b[0m     \u001b[0;32melif\u001b[0m \u001b[0mis_object_dtype\u001b[0m\u001b[0;34m(\u001b[0m\u001b[0mlvalues\u001b[0m\u001b[0;34m.\u001b[0m\u001b[0mdtype\u001b[0m\u001b[0;34m)\u001b[0m\u001b[0;34m:\u001b[0m\u001b[0;34m\u001b[0m\u001b[0;34m\u001b[0m\u001b[0m\n\u001b[0;32m--> 243\u001b[0;31m         \u001b[0mres_values\u001b[0m \u001b[0;34m=\u001b[0m \u001b[0mcomp_method_OBJECT_ARRAY\u001b[0m\u001b[0;34m(\u001b[0m\u001b[0mop\u001b[0m\u001b[0;34m,\u001b[0m \u001b[0mlvalues\u001b[0m\u001b[0;34m,\u001b[0m \u001b[0mrvalues\u001b[0m\u001b[0;34m)\u001b[0m\u001b[0;34m\u001b[0m\u001b[0;34m\u001b[0m\u001b[0m\n\u001b[0m\u001b[1;32m    244\u001b[0m \u001b[0;34m\u001b[0m\u001b[0m\n\u001b[1;32m    245\u001b[0m     \u001b[0;32melse\u001b[0m\u001b[0;34m:\u001b[0m\u001b[0;34m\u001b[0m\u001b[0;34m\u001b[0m\u001b[0m\n",
      "\u001b[0;32m~/.local/lib/python3.8/site-packages/pandas/core/ops/array_ops.py\u001b[0m in \u001b[0;36mcomp_method_OBJECT_ARRAY\u001b[0;34m(op, x, y)\u001b[0m\n\u001b[1;32m     53\u001b[0m         \u001b[0mresult\u001b[0m \u001b[0;34m=\u001b[0m \u001b[0mlibops\u001b[0m\u001b[0;34m.\u001b[0m\u001b[0mvec_compare\u001b[0m\u001b[0;34m(\u001b[0m\u001b[0mx\u001b[0m\u001b[0;34m.\u001b[0m\u001b[0mravel\u001b[0m\u001b[0;34m(\u001b[0m\u001b[0;34m)\u001b[0m\u001b[0;34m,\u001b[0m \u001b[0my\u001b[0m\u001b[0;34m.\u001b[0m\u001b[0mravel\u001b[0m\u001b[0;34m(\u001b[0m\u001b[0;34m)\u001b[0m\u001b[0;34m,\u001b[0m \u001b[0mop\u001b[0m\u001b[0;34m)\u001b[0m\u001b[0;34m\u001b[0m\u001b[0;34m\u001b[0m\u001b[0m\n\u001b[1;32m     54\u001b[0m     \u001b[0;32melse\u001b[0m\u001b[0;34m:\u001b[0m\u001b[0;34m\u001b[0m\u001b[0;34m\u001b[0m\u001b[0m\n\u001b[0;32m---> 55\u001b[0;31m         \u001b[0mresult\u001b[0m \u001b[0;34m=\u001b[0m \u001b[0mlibops\u001b[0m\u001b[0;34m.\u001b[0m\u001b[0mscalar_compare\u001b[0m\u001b[0;34m(\u001b[0m\u001b[0mx\u001b[0m\u001b[0;34m.\u001b[0m\u001b[0mravel\u001b[0m\u001b[0;34m(\u001b[0m\u001b[0;34m)\u001b[0m\u001b[0;34m,\u001b[0m \u001b[0my\u001b[0m\u001b[0;34m,\u001b[0m \u001b[0mop\u001b[0m\u001b[0;34m)\u001b[0m\u001b[0;34m\u001b[0m\u001b[0;34m\u001b[0m\u001b[0m\n\u001b[0m\u001b[1;32m     56\u001b[0m     \u001b[0;32mreturn\u001b[0m \u001b[0mresult\u001b[0m\u001b[0;34m.\u001b[0m\u001b[0mreshape\u001b[0m\u001b[0;34m(\u001b[0m\u001b[0mx\u001b[0m\u001b[0;34m.\u001b[0m\u001b[0mshape\u001b[0m\u001b[0;34m)\u001b[0m\u001b[0;34m\u001b[0m\u001b[0;34m\u001b[0m\u001b[0m\n\u001b[1;32m     57\u001b[0m \u001b[0;34m\u001b[0m\u001b[0m\n",
      "\u001b[0;31mKeyboardInterrupt\u001b[0m: "
     ]
    }
   ],
   "source": [
    "songs_ts = generate_songs_timeseries_fin(clean_ranking_df)"
   ]
  },
  {
   "cell_type": "code",
   "execution_count": null,
   "metadata": {
    "scrolled": true
   },
   "outputs": [],
   "source": [
    "songs_ts['dec'].value_counts(bins=10)"
   ]
  },
  {
   "cell_type": "code",
   "execution_count": null,
   "metadata": {},
   "outputs": [],
   "source": [
    "songs_ts.info()"
   ]
  },
  {
   "cell_type": "markdown",
   "metadata": {},
   "source": [
    "### Remove abnormal increments"
   ]
  },
  {
   "cell_type": "code",
   "execution_count": null,
   "metadata": {
    "scrolled": true
   },
   "outputs": [],
   "source": [
    "songs_ts['inc'].value_counts(bins=5)"
   ]
  },
  {
   "cell_type": "code",
   "execution_count": null,
   "metadata": {},
   "outputs": [],
   "source": [
    "songs_to_remove= songs_ts[songs_ts['inc']>10]['song_id'].unique()"
   ]
  },
  {
   "cell_type": "code",
   "execution_count": null,
   "metadata": {},
   "outputs": [],
   "source": [
    "songs_to_remove"
   ]
  },
  {
   "cell_type": "code",
   "execution_count": null,
   "metadata": {},
   "outputs": [],
   "source": [
    "songs_clean_ts= songs_ts[~songs_ts['song_id'].isin(songs_to_remove)]"
   ]
  },
  {
   "cell_type": "code",
   "execution_count": null,
   "metadata": {},
   "outputs": [],
   "source": [
    "songs_clean_ts.head()"
   ]
  },
  {
   "cell_type": "code",
   "execution_count": null,
   "metadata": {},
   "outputs": [],
   "source": [
    "songs_clean_ts.info()"
   ]
  },
  {
   "cell_type": "code",
   "execution_count": null,
   "metadata": {},
   "outputs": [],
   "source": [
    "print(f'Num of songs: {songs_clean_ts.song_id.nunique()}, ({round(songs_clean_ts.song_id.nunique()/n_total_songs,3)} %)')\n",
    "print(f'Max. total number of countries for a song: {songs_clean_ts.total_countries.max()}')\n",
    "print(f'Min. total number of countries for a song: {songs_clean_ts.total_countries.min()}')\n",
    "print(f'Max. current number of countries for a song: {songs_clean_ts.current_countries.max()}')\n",
    "print(f'Max. increment for a song: {songs_clean_ts.inc.max()}')\n",
    "print(f'Max. decrement for a song: {songs_clean_ts.dec.max()}')"
   ]
  },
  {
   "cell_type": "code",
   "execution_count": null,
   "metadata": {},
   "outputs": [],
   "source": [
    "sns.distplot(songs_clean_ts['inc']);"
   ]
  },
  {
   "cell_type": "code",
   "execution_count": null,
   "metadata": {},
   "outputs": [],
   "source": [
    "songs_clean_ts[songs_clean_ts['inc']>=10]"
   ]
  },
  {
   "cell_type": "code",
   "execution_count": null,
   "metadata": {},
   "outputs": [],
   "source": [
    "#print_song_info('5yuShbu70mtHXY0yLzCQLQ')"
   ]
  },
  {
   "cell_type": "markdown",
   "metadata": {},
   "source": [
    "### Plot songs' timeseries"
   ]
  },
  {
   "cell_type": "code",
   "execution_count": null,
   "metadata": {},
   "outputs": [],
   "source": [
    "def plot_all_songs_evol_fn(songs_ts_, col_name):\n",
    "    ax= None\n",
    "    song_ids=songs_ts_['song_id'].sample(50)\n",
    "    for song_id in song_ids:\n",
    "        if ax is None:\n",
    "            ax=songs_ts_[songs_ts_['song_id']==song_id].plot(x='num_day',y=col_name, legend=False)\n",
    "        else:\n",
    "            songs_ts_[songs_ts_['song_id']==song_id].plot(ax=ax,x='num_day',y=col_name, legend=False)\n"
   ]
  },
  {
   "cell_type": "code",
   "execution_count": null,
   "metadata": {},
   "outputs": [],
   "source": [
    "plot_all_songs_evol_fn(songs_clean_ts, 'current_countries')"
   ]
  },
  {
   "cell_type": "code",
   "execution_count": null,
   "metadata": {},
   "outputs": [],
   "source": [
    "def plot_song_evol_fn(ts, song_id_):\n",
    "    ax=ts[ts['song_id']==song_id_].plot(x='num_day',y='total_countries', label='total');\n",
    "    ts[ts['song_id']==song_id_].plot(ax=ax,x='num_day',y='current_countries', label='current',grid=True);\n",
    "    #ts[ts['song_id']==song_id_].plot(ax=ax,x='num_day',y='inc', label='increment',grid=True);\n",
    "    #ts[ts['song_id']==song_id_].plot(ax=ax,x='num_day',y='dec', label='decrement',grid=True);"
   ]
  },
  {
   "cell_type": "code",
   "execution_count": null,
   "metadata": {},
   "outputs": [],
   "source": [
    "#plot_song_evol_fn(songs_clean_ts, '1VuAamHM7P3VQQEXYGG3Uu')"
   ]
  },
  {
   "cell_type": "code",
   "execution_count": null,
   "metadata": {},
   "outputs": [],
   "source": [
    "songs_clean_ts.to_csv(os.path.join('data', 'songs_timeseries_2017_2022.csv'))"
   ]
  },
  {
   "cell_type": "markdown",
   "metadata": {},
   "source": [
    "### Study distritubion of new countries per date"
   ]
  },
  {
   "cell_type": "code",
   "execution_count": 38,
   "metadata": {},
   "outputs": [
    {
     "name": "stderr",
     "output_type": "stream",
     "text": [
      "/home/fterroso/.local/lib/python3.8/site-packages/numpy/lib/arraysetops.py:580: FutureWarning: elementwise comparison failed; returning scalar instead, but in the future will perform elementwise comparison\n",
      "  mask |= (ar1 == a)\n"
     ]
    }
   ],
   "source": [
    "songs_clean_ts = pd.read_csv(os.path.join('data', 'songs_timeseries_2017_2022.csv'), index_col=0)"
   ]
  },
  {
   "cell_type": "code",
   "execution_count": 39,
   "metadata": {},
   "outputs": [
    {
     "data": {
      "text/html": [
       "<div>\n",
       "<style scoped>\n",
       "    .dataframe tbody tr th:only-of-type {\n",
       "        vertical-align: middle;\n",
       "    }\n",
       "\n",
       "    .dataframe tbody tr th {\n",
       "        vertical-align: top;\n",
       "    }\n",
       "\n",
       "    .dataframe thead th {\n",
       "        text-align: right;\n",
       "    }\n",
       "</style>\n",
       "<table border=\"1\" class=\"dataframe\">\n",
       "  <thead>\n",
       "    <tr style=\"text-align: right;\">\n",
       "      <th></th>\n",
       "      <th>song_id</th>\n",
       "      <th>num_day</th>\n",
       "      <th>total_countries</th>\n",
       "      <th>current_countries</th>\n",
       "      <th>inc</th>\n",
       "      <th>dec</th>\n",
       "    </tr>\n",
       "  </thead>\n",
       "  <tbody>\n",
       "    <tr>\n",
       "      <th>0</th>\n",
       "      <td>6m2LNopVJKsvBB9l7Z1rwn</td>\n",
       "      <td>1</td>\n",
       "      <td>1</td>\n",
       "      <td>1</td>\n",
       "      <td>1</td>\n",
       "      <td>0</td>\n",
       "    </tr>\n",
       "    <tr>\n",
       "      <th>1</th>\n",
       "      <td>6m2LNopVJKsvBB9l7Z1rwn</td>\n",
       "      <td>2</td>\n",
       "      <td>1</td>\n",
       "      <td>1</td>\n",
       "      <td>0</td>\n",
       "      <td>0</td>\n",
       "    </tr>\n",
       "    <tr>\n",
       "      <th>2</th>\n",
       "      <td>6m2LNopVJKsvBB9l7Z1rwn</td>\n",
       "      <td>3</td>\n",
       "      <td>1</td>\n",
       "      <td>1</td>\n",
       "      <td>0</td>\n",
       "      <td>0</td>\n",
       "    </tr>\n",
       "    <tr>\n",
       "      <th>3</th>\n",
       "      <td>6m2LNopVJKsvBB9l7Z1rwn</td>\n",
       "      <td>4</td>\n",
       "      <td>1</td>\n",
       "      <td>1</td>\n",
       "      <td>0</td>\n",
       "      <td>0</td>\n",
       "    </tr>\n",
       "    <tr>\n",
       "      <th>4</th>\n",
       "      <td>6m2LNopVJKsvBB9l7Z1rwn</td>\n",
       "      <td>5</td>\n",
       "      <td>1</td>\n",
       "      <td>1</td>\n",
       "      <td>0</td>\n",
       "      <td>0</td>\n",
       "    </tr>\n",
       "  </tbody>\n",
       "</table>\n",
       "</div>"
      ],
      "text/plain": [
       "                  song_id  num_day  total_countries  current_countries  inc  \\\n",
       "0  6m2LNopVJKsvBB9l7Z1rwn        1                1                  1    1   \n",
       "1  6m2LNopVJKsvBB9l7Z1rwn        2                1                  1    0   \n",
       "2  6m2LNopVJKsvBB9l7Z1rwn        3                1                  1    0   \n",
       "3  6m2LNopVJKsvBB9l7Z1rwn        4                1                  1    0   \n",
       "4  6m2LNopVJKsvBB9l7Z1rwn        5                1                  1    0   \n",
       "\n",
       "   dec  \n",
       "0    0  \n",
       "1    0  \n",
       "2    0  \n",
       "3    0  \n",
       "4    0  "
      ]
     },
     "execution_count": 39,
     "metadata": {},
     "output_type": "execute_result"
    }
   ],
   "source": [
    "songs_clean_ts.head()"
   ]
  },
  {
   "cell_type": "code",
   "execution_count": 40,
   "metadata": {},
   "outputs": [
    {
     "data": {
      "text/html": [
       "<div>\n",
       "<style scoped>\n",
       "    .dataframe tbody tr th:only-of-type {\n",
       "        vertical-align: middle;\n",
       "    }\n",
       "\n",
       "    .dataframe tbody tr th {\n",
       "        vertical-align: top;\n",
       "    }\n",
       "\n",
       "    .dataframe thead th {\n",
       "        text-align: right;\n",
       "    }\n",
       "</style>\n",
       "<table border=\"1\" class=\"dataframe\">\n",
       "  <thead>\n",
       "    <tr style=\"text-align: right;\">\n",
       "      <th></th>\n",
       "      <th>song_id</th>\n",
       "      <th>total_countries</th>\n",
       "      <th>num_day</th>\n",
       "    </tr>\n",
       "  </thead>\n",
       "  <tbody>\n",
       "    <tr>\n",
       "      <th>0</th>\n",
       "      <td>007d7JT41sSc1HqWTs4uw7</td>\n",
       "      <td>1</td>\n",
       "      <td>1</td>\n",
       "    </tr>\n",
       "    <tr>\n",
       "      <th>1</th>\n",
       "      <td>007d7JT41sSc1HqWTs4uw7</td>\n",
       "      <td>3</td>\n",
       "      <td>2</td>\n",
       "    </tr>\n",
       "    <tr>\n",
       "      <th>2</th>\n",
       "      <td>007d7JT41sSc1HqWTs4uw7</td>\n",
       "      <td>7</td>\n",
       "      <td>3</td>\n",
       "    </tr>\n",
       "    <tr>\n",
       "      <th>3</th>\n",
       "      <td>007ogFejDqJKzEXDUDF8Nf</td>\n",
       "      <td>1</td>\n",
       "      <td>1</td>\n",
       "    </tr>\n",
       "    <tr>\n",
       "      <th>4</th>\n",
       "      <td>007ogFejDqJKzEXDUDF8Nf</td>\n",
       "      <td>2</td>\n",
       "      <td>6</td>\n",
       "    </tr>\n",
       "  </tbody>\n",
       "</table>\n",
       "</div>"
      ],
      "text/plain": [
       "                  song_id  total_countries  num_day\n",
       "0  007d7JT41sSc1HqWTs4uw7                1        1\n",
       "1  007d7JT41sSc1HqWTs4uw7                3        2\n",
       "2  007d7JT41sSc1HqWTs4uw7                7        3\n",
       "3  007ogFejDqJKzEXDUDF8Nf                1        1\n",
       "4  007ogFejDqJKzEXDUDF8Nf                2        6"
      ]
     },
     "execution_count": 40,
     "metadata": {},
     "output_type": "execute_result"
    }
   ],
   "source": [
    "min_day_df = songs_clean_ts.groupby('song_id total_countries'.split()).agg({'num_day':min})\n",
    "min_day_df = min_day_df.reset_index()\n",
    "min_day_df.head()"
   ]
  },
  {
   "cell_type": "code",
   "execution_count": 41,
   "metadata": {
    "scrolled": true
   },
   "outputs": [
    {
     "data": {
      "text/plain": [
       "array([   1,    2,    3,    6,   32,    7,   41,   42,   35,    9,  184,\n",
       "       1363,    4,   89,   93,   94,   95,   38,   70,    8,   31,   34,\n",
       "         37,    5,   16,   18,   22,   10,   14,   15,   17,   19,   20,\n",
       "         23,   28,   29,   30,   36,   39,   48,   49,   50,   51,   52,\n",
       "         53,  104,  153,  164,  207,   97,  113,  106,   25,   45,   58,\n",
       "         60,   66,  115,  143,  157,  256,   12,   11,   68,  140,   67,\n",
       "        149,   54,  584,   26,   13,  217,  242,   43,   88,   90,   73,\n",
       "         75,   87,   65,  102,  103,  109,   21,   55,   59,  263,  228,\n",
       "        274,  435,  455,  923,   24,   44,   46,   47,   27,   33,   40,\n",
       "         61,   64,   77,  147,  392,  155,  199,  200,  223,  224,  280,\n",
       "        284,  285,  122,   56,   96,   63,   91,   98,  100,  101,  110,\n",
       "        119,  131,  171,   69,   81,  154,  159,  135,  138,  141,  144,\n",
       "        146,  148,  150,  152,  156,  170,  181,   62,   71,  145,  261,\n",
       "        267,  281,  291,  326,  401,  422,  452,  470,  556,  566,  739,\n",
       "        105,   92,  168,  190,  231,  358,  132,   72,  364,  414,  416,\n",
       "        417,  420,  427,  750,  382,   76,   78,   79,   80,   85,   99,\n",
       "         57,  185,  124,  444,  353,  202,  591,  225,  107,   83,  127,\n",
       "        111,  117,  121,   74,  272,  123,   82,   86,  133,  174,  179,\n",
       "        429,  520,   84,  108,  161,  151,  114,  137,  253,  347,  187,\n",
       "       1192,  130,  129,  290,  389,  128,  116,  118,  120,  125,  134,\n",
       "        139,  234,  244,  271,  273,  296,  346,  311,  350,  306,  209,\n",
       "        659,  264,  391,  399,  177,  240,  212,  112,  172,  227,  232,\n",
       "        260,  245,  413, 1252, 1281,  211,  235,  237,  462,  473,  488,\n",
       "        442,  657,  453,  500,  502,  206,  214,  329,  396,  469,  479,\n",
       "        494,  309,  215,  180,  191,  213,  321,  461,  464,  338,  204,\n",
       "        183,  247,  203,  300,  355,  440,  577,  610,  955,  186,  194,\n",
       "        737,  126,  142,  136,  222,  333,  169,  433,  365,  367,  370,\n",
       "        372,  376,  381,  384,  385,  388,  390,  393,  315,  339,  373,\n",
       "        201,  276,  293,  188,  197,  216,  219,  182,  379,  407, 1216,\n",
       "       1217, 1219,  411,  167,  419,  236,  335,  642,  688,  990,  434,\n",
       "        476,  386,  395,  397,  402,  403,  541,  709,  302,  163,  178,\n",
       "        192,  198,  208,  238,  275,  220,  292,  295,  318,  320,  387,\n",
       "        441,  450,  465,  489,  497,  555,  563,  162,  160,  806, 1591,\n",
       "        195,  354,  423,  342,  478,  503,  561,  193,  360,  270,  165,\n",
       "        305,  498,  510,  513,  535,  545,  562,  809, 1379,  248,  251,\n",
       "        301,  319,  328,  176,  322,  323,  324, 1021,  424,  249,  531,\n",
       "        226,  210,  472,  474,  221,  415,  616,  175,  542,  586,  250,\n",
       "        617,  412,  299,  283,  447,  316,  173,  246,  517,  518, 1190,\n",
       "        277,  313,  912,  443,  268,  525,  559,  560,  252,  359,  340,\n",
       "        282,  506,  166,  243,  254,  278,  279,  298,  189,  196,  233,\n",
       "        303,  317,  325,  330,  380,  449,  856,  708,  454,  361,  362,\n",
       "        436,  643,  259,  337,  331,  332,  538,  375,  287,  158,  294,\n",
       "        438,  257,  343,  714,  787,  882,  640,  229,  480,  514,  516,\n",
       "        580,  297,  965,  966,  255,  681,  707,  736,  757,  205,  508,\n",
       "        952,  288,  377,  521,  873,  218,  780,  467,  689,  430,  348,\n",
       "        349,  286,  634,  635,  241,  491,  627,  811,  653,  547,  548,\n",
       "        934, 1004, 1327, 1724,  515, 1097, 1206,  551,  406,  509,  336,\n",
       "        400,  269,  505,  398,  421,  239,  612,  760,  761,  770,  798,\n",
       "       1157, 1368,  810,  310, 1062,  383,  265,  490,  495,  304,  314,\n",
       "        483,  410, 1027,  675,  676,  536,  341,  431,  585,  289,  404,\n",
       "        405,  466, 1024, 1025,  458,  457,  258,  638,  446,  529,  543,\n",
       "        554, 1005, 1008,  352,  859,  471,  475,  477,  482,  437,  959,\n",
       "        408,  772, 1742, 1069,  652,  623,  766,  230,  374,  357,  575,\n",
       "        460,  549,  308,  637,  571,  363,  371,  835, 1125,  378,  593,\n",
       "        262,  394,  425,  604,  579,  581,  782,  530,  540,  569,  572,\n",
       "        576,  687,  691,  692,  695,  701,  334,  578])"
      ]
     },
     "execution_count": 41,
     "metadata": {},
     "output_type": "execute_result"
    }
   ],
   "source": [
    "total_days_range = min_day_df['num_day'].unique()\n",
    "total_days_range"
   ]
  },
  {
   "cell_type": "code",
   "execution_count": 42,
   "metadata": {},
   "outputs": [],
   "source": [
    "dict_={}\n",
    "for d in total_days_range:\n",
    "    days_= min_day_df[min_day_df['num_day']==d]['total_countries'].values\n",
    "    dict_[d]= days_\n",
    "    \n",
    "days_df= pd.DataFrame.from_dict(dict_,orient='index').sort_index().T"
   ]
  },
  {
   "cell_type": "code",
   "execution_count": 43,
   "metadata": {},
   "outputs": [
    {
     "data": {
      "image/png": "[encoded data removed]",
      "text/plain": [
       "<Figure size 1080x360 with 1 Axes>"
      ]
     },
     "metadata": {
      "needs_background": "light"
     },
     "output_type": "display_data"
    }
   ],
   "source": [
    "days_to_show= 31\n",
    "countries_to_show=40\n",
    "ax=days_df[np.arange(1,days_to_show)].boxplot(figsize=(15,5), grid=True, showfliers=False);\n",
    "days_df[np.arange(1,days_to_show)].median(axis=0).plot(ax=ax, color='red', grid=True);\n",
    "ax.set_xlabel('Number of days', fontsize=14)\n",
    "ax.set_ylabel('Number of total countries', fontsize=14)\n",
    "ax.set_yticks(np.arange(0,countries_to_show+1,5))\n",
    "plt.tight_layout()\n",
    "plt.savefig(os.path.join('figs', 'songs_evolution_spotify.png'))"
   ]
  },
  {
   "cell_type": "code",
   "execution_count": 44,
   "metadata": {},
   "outputs": [
    {
     "name": "stdout",
     "output_type": "stream",
     "text": [
      "That's all folks\n"
     ]
    }
   ],
   "source": [
    " print(\"That's all folks\")"
   ]
  },
  {
   "cell_type": "markdown",
   "metadata": {},
   "source": [
    "----------------------------------------------------------------------------"
   ]
  }
 ],
 "metadata": {
  "kernelspec": {
   "display_name": "Python 3 (ipykernel)",
   "language": "python",
   "name": "python3"
  },
  "language_info": {
   "codemirror_mode": {
    "name": "ipython",
    "version": 3
   },
   "file_extension": ".py",
   "mimetype": "text/x-python",
   "name": "python",
   "nbconvert_exporter": "python",
   "pygments_lexer": "ipython3",
   "version": "3.8.10"
  }
 },
 "nbformat": 4,
 "nbformat_minor": 4
}
