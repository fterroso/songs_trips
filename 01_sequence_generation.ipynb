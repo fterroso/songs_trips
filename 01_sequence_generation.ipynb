{
 "cells": [
  {
   "cell_type": "code",
   "execution_count": 78,
   "metadata": {},
   "outputs": [],
   "source": [
    "import pandas as pd\n",
    "import numpy as np\n",
    "import os\n",
    "\n",
    "from tqdm.notebook import tqdm\n",
    "\n",
    "import seaborn as sns\n",
    "\n",
    "import json"
   ]
  },
  {
   "cell_type": "code",
   "execution_count": 79,
   "metadata": {},
   "outputs": [],
   "source": [
    "country_dict = {'ar':'Argentina', 'at':'Austria', 'au':'Australia', 'be':'Belgium',\n",
    "       'bo':'Bolivia', 'br':'Brazil', 'ca':'Canada', 'ch':'Switzerland', \n",
    "       'cl':'Chile', 'co':'Columbia', 'cr':'CostaRica', 'cz':'CzechRepublic',\n",
    "       'de':'Germany', 'dk':'Denmark', 'do':'DominicanRepublic', 'ec':'Ecuador', \n",
    "       'ee':'Estonia', 'es':'Spain', 'fi':'Finland', 'fr':'France', \n",
    "       'gb':'UnitedKingdom', 'global':'World', 'gr':'Greece', 'gt':'Guatemala',\n",
    "       'hk':'HongKong', 'hn':'Honduras', 'hu':'Hungary', 'id':'Indonesia', \n",
    "       'ie':'Ireland', 'is':'Iceland', 'it':'Italy', 'jp':'Japan', \n",
    "       'lt':'Lithuania', 'lu':'Luxemborg', 'lv':'Latvia', 'mx':'Mexico', \n",
    "       'my':'Malaysia', 'nl':'Netherlands', 'no':'Norway', 'nz':'NewZealand', \n",
    "       'pa':'Panama', 'pe':'Peru', 'ph':'Philippines', 'pl':'Poland', \n",
    "       'pt':'Portugal', 'py':'Paraguay', 'se':'Sweden', 'sg':'Singapore', \n",
    "       'sk':'Slovakia', 'sv':'ElSalvador', 'tr':'Turkey', 'tw':'Taiwan', 'us':'USA', 'uy':'Uruguay',} "
   ]
  },
  {
   "cell_type": "code",
   "execution_count": 80,
   "metadata": {},
   "outputs": [],
   "source": [
    "ranking_df = pd.read_csv(os.path.join('data','data.csv'), parse_dates=['Date'])"
   ]
  },
  {
   "cell_type": "code",
   "execution_count": 81,
   "metadata": {},
   "outputs": [],
   "source": [
    "def get_song_id(url):\n",
    "    \n",
    "    if type(url)== float:\n",
    "        return \"no id\"\n",
    "    else:\n",
    "        return url.split('/')[-1]"
   ]
  },
  {
   "cell_type": "code",
   "execution_count": 82,
   "metadata": {},
   "outputs": [],
   "source": [
    "ranking_df['song_id']= ranking_df['URL'].apply(get_song_id)"
   ]
  },
  {
   "cell_type": "code",
   "execution_count": 83,
   "metadata": {},
   "outputs": [],
   "source": [
    "ranking_df['Region']= ranking_df['Region'].apply(lambda x: country_dict[x])"
   ]
  },
  {
   "cell_type": "code",
   "execution_count": 84,
   "metadata": {},
   "outputs": [
    {
     "data": {
      "text/html": [
       "<div>\n",
       "<style scoped>\n",
       "    .dataframe tbody tr th:only-of-type {\n",
       "        vertical-align: middle;\n",
       "    }\n",
       "\n",
       "    .dataframe tbody tr th {\n",
       "        vertical-align: top;\n",
       "    }\n",
       "\n",
       "    .dataframe thead th {\n",
       "        text-align: right;\n",
       "    }\n",
       "</style>\n",
       "<table border=\"1\" class=\"dataframe\">\n",
       "  <thead>\n",
       "    <tr style=\"text-align: right;\">\n",
       "      <th></th>\n",
       "      <th>Position</th>\n",
       "      <th>Track Name</th>\n",
       "      <th>Artist</th>\n",
       "      <th>Streams</th>\n",
       "      <th>URL</th>\n",
       "      <th>Date</th>\n",
       "      <th>Region</th>\n",
       "      <th>song_id</th>\n",
       "    </tr>\n",
       "  </thead>\n",
       "  <tbody>\n",
       "    <tr>\n",
       "      <th>0</th>\n",
       "      <td>1</td>\n",
       "      <td>Reggaetón Lento (Bailemos)</td>\n",
       "      <td>CNCO</td>\n",
       "      <td>19272</td>\n",
       "      <td>https://open.spotify.com/track/3AEZUABDXNtecAO...</td>\n",
       "      <td>2017-01-01</td>\n",
       "      <td>Ecuador</td>\n",
       "      <td>3AEZUABDXNtecAOSC1qTfo</td>\n",
       "    </tr>\n",
       "    <tr>\n",
       "      <th>1</th>\n",
       "      <td>2</td>\n",
       "      <td>Chantaje</td>\n",
       "      <td>Shakira</td>\n",
       "      <td>19270</td>\n",
       "      <td>https://open.spotify.com/track/6mICuAdrwEjh6Y6...</td>\n",
       "      <td>2017-01-01</td>\n",
       "      <td>Ecuador</td>\n",
       "      <td>6mICuAdrwEjh6Y6lroV2Kg</td>\n",
       "    </tr>\n",
       "    <tr>\n",
       "      <th>2</th>\n",
       "      <td>3</td>\n",
       "      <td>Otra Vez (feat. J Balvin)</td>\n",
       "      <td>Zion &amp; Lennox</td>\n",
       "      <td>15761</td>\n",
       "      <td>https://open.spotify.com/track/3QwBODjSEzelZyV...</td>\n",
       "      <td>2017-01-01</td>\n",
       "      <td>Ecuador</td>\n",
       "      <td>3QwBODjSEzelZyVjxPOHdq</td>\n",
       "    </tr>\n",
       "    <tr>\n",
       "      <th>3</th>\n",
       "      <td>4</td>\n",
       "      <td>Vente Pa' Ca</td>\n",
       "      <td>Ricky Martin</td>\n",
       "      <td>14954</td>\n",
       "      <td>https://open.spotify.com/track/7DM4BPaS7uofFul...</td>\n",
       "      <td>2017-01-01</td>\n",
       "      <td>Ecuador</td>\n",
       "      <td>7DM4BPaS7uofFul3ywMe46</td>\n",
       "    </tr>\n",
       "    <tr>\n",
       "      <th>4</th>\n",
       "      <td>5</td>\n",
       "      <td>Safari</td>\n",
       "      <td>J Balvin</td>\n",
       "      <td>14269</td>\n",
       "      <td>https://open.spotify.com/track/6rQSrBHf7HlZjtc...</td>\n",
       "      <td>2017-01-01</td>\n",
       "      <td>Ecuador</td>\n",
       "      <td>6rQSrBHf7HlZjtcMZ4S4bO</td>\n",
       "    </tr>\n",
       "  </tbody>\n",
       "</table>\n",
       "</div>"
      ],
      "text/plain": [
       "   Position                  Track Name         Artist  Streams  \\\n",
       "0         1  Reggaetón Lento (Bailemos)           CNCO    19272   \n",
       "1         2                    Chantaje        Shakira    19270   \n",
       "2         3   Otra Vez (feat. J Balvin)  Zion & Lennox    15761   \n",
       "3         4                Vente Pa' Ca   Ricky Martin    14954   \n",
       "4         5                      Safari       J Balvin    14269   \n",
       "\n",
       "                                                 URL       Date   Region  \\\n",
       "0  https://open.spotify.com/track/3AEZUABDXNtecAO... 2017-01-01  Ecuador   \n",
       "1  https://open.spotify.com/track/6mICuAdrwEjh6Y6... 2017-01-01  Ecuador   \n",
       "2  https://open.spotify.com/track/3QwBODjSEzelZyV... 2017-01-01  Ecuador   \n",
       "3  https://open.spotify.com/track/7DM4BPaS7uofFul... 2017-01-01  Ecuador   \n",
       "4  https://open.spotify.com/track/6rQSrBHf7HlZjtc... 2017-01-01  Ecuador   \n",
       "\n",
       "                  song_id  \n",
       "0  3AEZUABDXNtecAOSC1qTfo  \n",
       "1  6mICuAdrwEjh6Y6lroV2Kg  \n",
       "2  3QwBODjSEzelZyVjxPOHdq  \n",
       "3  7DM4BPaS7uofFul3ywMe46  \n",
       "4  6rQSrBHf7HlZjtcMZ4S4bO  "
      ]
     },
     "execution_count": 84,
     "metadata": {},
     "output_type": "execute_result"
    }
   ],
   "source": [
    "ranking_df.head()"
   ]
  },
  {
   "cell_type": "markdown",
   "metadata": {},
   "source": [
    "Time period covered by the dataset"
   ]
  },
  {
   "cell_type": "code",
   "execution_count": 85,
   "metadata": {},
   "outputs": [
    {
     "data": {
      "text/plain": [
       "(Timestamp('2017-01-01 00:00:00'), Timestamp('2018-01-09 00:00:00'))"
      ]
     },
     "execution_count": 85,
     "metadata": {},
     "output_type": "execute_result"
    }
   ],
   "source": [
    "ranking_df['Date'].min(), ranking_df['Date'].max()"
   ]
  },
  {
   "cell_type": "code",
   "execution_count": 86,
   "metadata": {},
   "outputs": [
    {
     "name": "stdout",
     "output_type": "stream",
     "text": [
      "<class 'pandas.core.frame.DataFrame'>\n",
      "RangeIndex: 3441197 entries, 0 to 3441196\n",
      "Data columns (total 8 columns):\n",
      " #   Column      Dtype         \n",
      "---  ------      -----         \n",
      " 0   Position    int64         \n",
      " 1   Track Name  object        \n",
      " 2   Artist      object        \n",
      " 3   Streams     int64         \n",
      " 4   URL         object        \n",
      " 5   Date        datetime64[ns]\n",
      " 6   Region      object        \n",
      " 7   song_id     object        \n",
      "dtypes: datetime64[ns](1), int64(2), object(5)\n",
      "memory usage: 210.0+ MB\n"
     ]
    }
   ],
   "source": [
    "ranking_df.info()"
   ]
  },
  {
   "cell_type": "markdown",
   "metadata": {},
   "source": [
    "Number of total entries in the dataset"
   ]
  },
  {
   "cell_type": "code",
   "execution_count": 87,
   "metadata": {},
   "outputs": [
    {
     "data": {
      "text/plain": [
       "(3441197, 8)"
      ]
     },
     "execution_count": 87,
     "metadata": {},
     "output_type": "execute_result"
    }
   ],
   "source": [
    "ranking_df.shape"
   ]
  },
  {
   "cell_type": "markdown",
   "metadata": {},
   "source": [
    "Number of songs"
   ]
  },
  {
   "cell_type": "code",
   "execution_count": 88,
   "metadata": {},
   "outputs": [
    {
     "data": {
      "text/plain": [
       "21747"
      ]
     },
     "execution_count": 88,
     "metadata": {},
     "output_type": "execute_result"
    }
   ],
   "source": [
    "ranking_df['song_id'].nunique()"
   ]
  },
  {
   "cell_type": "code",
   "execution_count": 89,
   "metadata": {},
   "outputs": [],
   "source": [
    "ranking_df = ranking_df[(ranking_df['song_id']!= 'no id') & (ranking_df['Region']!= 'global') ]"
   ]
  },
  {
   "cell_type": "code",
   "execution_count": 90,
   "metadata": {},
   "outputs": [
    {
     "data": {
      "text/plain": [
       "(3441189, 8)"
      ]
     },
     "execution_count": 90,
     "metadata": {},
     "output_type": "execute_result"
    }
   ],
   "source": [
    "ranking_df.shape"
   ]
  },
  {
   "cell_type": "code",
   "execution_count": 91,
   "metadata": {},
   "outputs": [
    {
     "data": {
      "text/plain": [
       "54"
      ]
     },
     "execution_count": 91,
     "metadata": {},
     "output_type": "execute_result"
    }
   ],
   "source": [
    "ranking_df['Region'].nunique()"
   ]
  },
  {
   "cell_type": "code",
   "execution_count": 92,
   "metadata": {},
   "outputs": [],
   "source": [
    "s=ranking_df.groupby(['song_id','Region'])['Date'].min().to_frame()"
   ]
  },
  {
   "cell_type": "code",
   "execution_count": 93,
   "metadata": {},
   "outputs": [
    {
     "data": {
      "text/html": [
       "<div>\n",
       "<style scoped>\n",
       "    .dataframe tbody tr th:only-of-type {\n",
       "        vertical-align: middle;\n",
       "    }\n",
       "\n",
       "    .dataframe tbody tr th {\n",
       "        vertical-align: top;\n",
       "    }\n",
       "\n",
       "    .dataframe thead th {\n",
       "        text-align: right;\n",
       "    }\n",
       "</style>\n",
       "<table border=\"1\" class=\"dataframe\">\n",
       "  <thead>\n",
       "    <tr style=\"text-align: right;\">\n",
       "      <th></th>\n",
       "      <th></th>\n",
       "      <th>Date</th>\n",
       "    </tr>\n",
       "    <tr>\n",
       "      <th>song_id</th>\n",
       "      <th>Region</th>\n",
       "      <th></th>\n",
       "    </tr>\n",
       "  </thead>\n",
       "  <tbody>\n",
       "    <tr>\n",
       "      <th rowspan=\"5\" valign=\"top\">000xQL6tZNLJzIrtIgxqSl</th>\n",
       "      <th>Argentina</th>\n",
       "      <td>2017-04-08</td>\n",
       "    </tr>\n",
       "    <tr>\n",
       "      <th>Australia</th>\n",
       "      <td>2017-03-24</td>\n",
       "    </tr>\n",
       "    <tr>\n",
       "      <th>Austria</th>\n",
       "      <td>2017-03-24</td>\n",
       "    </tr>\n",
       "    <tr>\n",
       "      <th>Belgium</th>\n",
       "      <td>2017-03-24</td>\n",
       "    </tr>\n",
       "    <tr>\n",
       "      <th>Bolivia</th>\n",
       "      <td>2017-04-25</td>\n",
       "    </tr>\n",
       "    <tr>\n",
       "      <th>...</th>\n",
       "      <th>...</th>\n",
       "      <td>...</td>\n",
       "    </tr>\n",
       "    <tr>\n",
       "      <th>7zxd3J5hMPeLN71VS8vnE4</th>\n",
       "      <th>UnitedKingdom</th>\n",
       "      <td>2017-12-02</td>\n",
       "    </tr>\n",
       "    <tr>\n",
       "      <th rowspan=\"4\" valign=\"top\">7zyYmIdjqqiX6kLryb7QBx</th>\n",
       "      <th>HongKong</th>\n",
       "      <td>2017-01-01</td>\n",
       "    </tr>\n",
       "    <tr>\n",
       "      <th>Malaysia</th>\n",
       "      <td>2017-01-03</td>\n",
       "    </tr>\n",
       "    <tr>\n",
       "      <th>Singapore</th>\n",
       "      <td>2017-01-01</td>\n",
       "    </tr>\n",
       "    <tr>\n",
       "      <th>Taiwan</th>\n",
       "      <td>2017-01-01</td>\n",
       "    </tr>\n",
       "  </tbody>\n",
       "</table>\n",
       "<p>74948 rows × 1 columns</p>\n",
       "</div>"
      ],
      "text/plain": [
       "                                           Date\n",
       "song_id                Region                  \n",
       "000xQL6tZNLJzIrtIgxqSl Argentina     2017-04-08\n",
       "                       Australia     2017-03-24\n",
       "                       Austria       2017-03-24\n",
       "                       Belgium       2017-03-24\n",
       "                       Bolivia       2017-04-25\n",
       "...                                         ...\n",
       "7zxd3J5hMPeLN71VS8vnE4 UnitedKingdom 2017-12-02\n",
       "7zyYmIdjqqiX6kLryb7QBx HongKong      2017-01-01\n",
       "                       Malaysia      2017-01-03\n",
       "                       Singapore     2017-01-01\n",
       "                       Taiwan        2017-01-01\n",
       "\n",
       "[74948 rows x 1 columns]"
      ]
     },
     "execution_count": 93,
     "metadata": {},
     "output_type": "execute_result"
    }
   ],
   "source": [
    "s"
   ]
  },
  {
   "cell_type": "markdown",
   "metadata": {},
   "source": [
    "## Visualization of the dataset"
   ]
  },
  {
   "cell_type": "code",
   "execution_count": 94,
   "metadata": {},
   "outputs": [
    {
     "data": {
      "image/png": "[encoded data removed]",
      "text/plain": [
       "<Figure size 432x288 with 1 Axes>"
      ]
     },
     "metadata": {
      "needs_background": "light"
     },
     "output_type": "display_data"
    }
   ],
   "source": [
    "days_per_song= s.groupby(['song_id'])['Date'].nunique()\n",
    "days_per_song.plot(grid=True, rot=45);"
   ]
  },
  {
   "cell_type": "code",
   "execution_count": 95,
   "metadata": {},
   "outputs": [
    {
     "data": {
      "image/png": "[encoded data removed]",
      "text/plain": [
       "<Figure size 360x360 with 1 Axes>"
      ]
     },
     "metadata": {
      "needs_background": "light"
     },
     "output_type": "display_data"
    }
   ],
   "source": [
    "sns.displot(days_per_song);"
   ]
  },
  {
   "cell_type": "markdown",
   "metadata": {},
   "source": [
    "## Remove songs appearing in duplicate countries initially"
   ]
  },
  {
   "cell_type": "code",
   "execution_count": 96,
   "metadata": {},
   "outputs": [],
   "source": [
    "ranking_df['release_date']=ranking_df.groupby('song_id')['Date'].transform('min')"
   ]
  },
  {
   "cell_type": "code",
   "execution_count": 97,
   "metadata": {},
   "outputs": [],
   "source": [
    "def remove_duplicate_songs_fn(ranking_df_):\n",
    "    release_ranking_df = ranking_df_[ranking_df_['Date']== ranking_df['release_date']]\n",
    "    num_initial_lists_df = release_ranking_df.groupby('song_id').size().to_frame()\n",
    "    num_initial_lists_df.columns =['num_lists']\n",
    "    songs_with_one_initial_list = num_initial_lists_df[num_initial_lists_df['num_lists']==1].index.to_list()\n",
    "    return ranking_df_[ranking_df_['song_id'].isin(songs_with_one_initial_list)]   "
   ]
  },
  {
   "cell_type": "code",
   "execution_count": 98,
   "metadata": {},
   "outputs": [],
   "source": [
    "clean_ranking_df = remove_duplicate_songs_fn(ranking_df)"
   ]
  },
  {
   "cell_type": "code",
   "execution_count": 99,
   "metadata": {},
   "outputs": [
    {
     "data": {
      "text/html": [
       "<div>\n",
       "<style scoped>\n",
       "    .dataframe tbody tr th:only-of-type {\n",
       "        vertical-align: middle;\n",
       "    }\n",
       "\n",
       "    .dataframe tbody tr th {\n",
       "        vertical-align: top;\n",
       "    }\n",
       "\n",
       "    .dataframe thead th {\n",
       "        text-align: right;\n",
       "    }\n",
       "</style>\n",
       "<table border=\"1\" class=\"dataframe\">\n",
       "  <thead>\n",
       "    <tr style=\"text-align: right;\">\n",
       "      <th></th>\n",
       "      <th>Position</th>\n",
       "      <th>Track Name</th>\n",
       "      <th>Artist</th>\n",
       "      <th>Streams</th>\n",
       "      <th>URL</th>\n",
       "      <th>Date</th>\n",
       "      <th>Region</th>\n",
       "      <th>song_id</th>\n",
       "      <th>release_date</th>\n",
       "    </tr>\n",
       "  </thead>\n",
       "  <tbody>\n",
       "    <tr>\n",
       "      <th>45</th>\n",
       "      <td>46</td>\n",
       "      <td>Enamorándonos</td>\n",
       "      <td>Cabas</td>\n",
       "      <td>3734</td>\n",
       "      <td>https://open.spotify.com/track/0aywfeIr0tmhLZJ...</td>\n",
       "      <td>2017-01-01</td>\n",
       "      <td>Ecuador</td>\n",
       "      <td>0aywfeIr0tmhLZJxzqOhzP</td>\n",
       "      <td>2017-01-01</td>\n",
       "    </tr>\n",
       "    <tr>\n",
       "      <th>118</th>\n",
       "      <td>119</td>\n",
       "      <td>Para Enamorarte</td>\n",
       "      <td>CNCO</td>\n",
       "      <td>1791</td>\n",
       "      <td>https://open.spotify.com/track/3B21fRFqPLmTd9z...</td>\n",
       "      <td>2017-01-01</td>\n",
       "      <td>Ecuador</td>\n",
       "      <td>3B21fRFqPLmTd9zAlK0I8A</td>\n",
       "      <td>2017-01-01</td>\n",
       "    </tr>\n",
       "    <tr>\n",
       "      <th>129</th>\n",
       "      <td>130</td>\n",
       "      <td>Si No Te Quisiera</td>\n",
       "      <td>Juan Magán</td>\n",
       "      <td>1665</td>\n",
       "      <td>https://open.spotify.com/track/0wLqXnCLseMice1...</td>\n",
       "      <td>2017-01-01</td>\n",
       "      <td>Ecuador</td>\n",
       "      <td>0wLqXnCLseMice1Hwq6yLz</td>\n",
       "      <td>2017-01-01</td>\n",
       "    </tr>\n",
       "    <tr>\n",
       "      <th>146</th>\n",
       "      <td>147</td>\n",
       "      <td>Te Viví</td>\n",
       "      <td>Villamizar</td>\n",
       "      <td>1484</td>\n",
       "      <td>https://open.spotify.com/track/3SBjPXmpFIIKOvc...</td>\n",
       "      <td>2017-01-01</td>\n",
       "      <td>Ecuador</td>\n",
       "      <td>3SBjPXmpFIIKOvce7e6OXY</td>\n",
       "      <td>2017-01-01</td>\n",
       "    </tr>\n",
       "    <tr>\n",
       "      <th>167</th>\n",
       "      <td>168</td>\n",
       "      <td>Love Me</td>\n",
       "      <td>Juan Magán</td>\n",
       "      <td>1372</td>\n",
       "      <td>https://open.spotify.com/track/54MeG5FCVXStJTy...</td>\n",
       "      <td>2017-01-01</td>\n",
       "      <td>Ecuador</td>\n",
       "      <td>54MeG5FCVXStJTyNvRu9zN</td>\n",
       "      <td>2017-01-01</td>\n",
       "    </tr>\n",
       "  </tbody>\n",
       "</table>\n",
       "</div>"
      ],
      "text/plain": [
       "     Position         Track Name      Artist  Streams  \\\n",
       "45         46      Enamorándonos       Cabas     3734   \n",
       "118       119    Para Enamorarte        CNCO     1791   \n",
       "129       130  Si No Te Quisiera  Juan Magán     1665   \n",
       "146       147            Te Viví  Villamizar     1484   \n",
       "167       168            Love Me  Juan Magán     1372   \n",
       "\n",
       "                                                   URL       Date   Region  \\\n",
       "45   https://open.spotify.com/track/0aywfeIr0tmhLZJ... 2017-01-01  Ecuador   \n",
       "118  https://open.spotify.com/track/3B21fRFqPLmTd9z... 2017-01-01  Ecuador   \n",
       "129  https://open.spotify.com/track/0wLqXnCLseMice1... 2017-01-01  Ecuador   \n",
       "146  https://open.spotify.com/track/3SBjPXmpFIIKOvc... 2017-01-01  Ecuador   \n",
       "167  https://open.spotify.com/track/54MeG5FCVXStJTy... 2017-01-01  Ecuador   \n",
       "\n",
       "                    song_id release_date  \n",
       "45   0aywfeIr0tmhLZJxzqOhzP   2017-01-01  \n",
       "118  3B21fRFqPLmTd9zAlK0I8A   2017-01-01  \n",
       "129  0wLqXnCLseMice1Hwq6yLz   2017-01-01  \n",
       "146  3SBjPXmpFIIKOvce7e6OXY   2017-01-01  \n",
       "167  54MeG5FCVXStJTyNvRu9zN   2017-01-01  "
      ]
     },
     "execution_count": 99,
     "metadata": {},
     "output_type": "execute_result"
    }
   ],
   "source": [
    "clean_ranking_df.head()"
   ]
  },
  {
   "cell_type": "code",
   "execution_count": 100,
   "metadata": {},
   "outputs": [
    {
     "name": "stdout",
     "output_type": "stream",
     "text": [
      "<class 'pandas.core.frame.DataFrame'>\n",
      "Int64Index: 896335 entries, 45 to 3441195\n",
      "Data columns (total 9 columns):\n",
      " #   Column        Non-Null Count   Dtype         \n",
      "---  ------        --------------   -----         \n",
      " 0   Position      896335 non-null  int64         \n",
      " 1   Track Name    896331 non-null  object        \n",
      " 2   Artist        896331 non-null  object        \n",
      " 3   Streams       896335 non-null  int64         \n",
      " 4   URL           896335 non-null  object        \n",
      " 5   Date          896335 non-null  datetime64[ns]\n",
      " 6   Region        896335 non-null  object        \n",
      " 7   song_id       896335 non-null  object        \n",
      " 8   release_date  896335 non-null  datetime64[ns]\n",
      "dtypes: datetime64[ns](2), int64(2), object(5)\n",
      "memory usage: 68.4+ MB\n"
     ]
    }
   ],
   "source": [
    "clean_ranking_df.info()"
   ]
  },
  {
   "cell_type": "markdown",
   "metadata": {},
   "source": [
    "## Song sequences generation"
   ]
  },
  {
   "cell_type": "code",
   "execution_count": 101,
   "metadata": {},
   "outputs": [],
   "source": [
    "def generate_song_sequences_fn(song_ranking):\n",
    "    dates=song_ranking.groupby('Region')['Date'].min().to_frame()\n",
    "    dates_sort=dates.sort_values('Date')\n",
    "    dates_sort= dates_sort.reset_index().set_index('Date')\n",
    "    \n",
    "    dates_lst=dates_sort.index.unique().values\n",
    "    l=None\n",
    "    if len(dates_lst)>= 2:\n",
    "        l=dates_sort.loc[dates_lst[0]].values\n",
    "        l=np.array(l).flatten()\n",
    "\n",
    "        len_=1\n",
    "        for d in range(1,len(dates_lst)):\n",
    "            l2=dates_sort.loc[dates_lst[d]].values\n",
    "            l2=np.array(l2).flatten()\n",
    "            \n",
    "            if len_ < 2:\n",
    "                l=[[a,b] for a in l for b in l2]\n",
    "            else:\n",
    "                l=[a+[b] for a in l for b in l2]            \n",
    "            len_+=1\n",
    "    \n",
    "            \"\"\"\n",
    "            if len_ < 2:\n",
    "                l=[(a,)+(b,) for a in l for b in l2]\n",
    "            else:\n",
    "                l=[a+(b,) for a in l for b in l2]\n",
    "            len_+=1\n",
    "            \"\"\"\n",
    "    return l"
   ]
  },
  {
   "cell_type": "code",
   "execution_count": 102,
   "metadata": {},
   "outputs": [],
   "source": [
    "def generate_song_direct_sequences_fn(song_ranking, influence_threshold = 3, min_threshold=1):\n",
    "    \n",
    "    dates=song_ranking.groupby('Region')['Date'].min().to_frame()\n",
    "    dates_sort=dates.sort_values('Date')\n",
    "    dates_sort= dates_sort.reset_index().set_index('Date')\n",
    "    \n",
    "    dates_lst=dates_sort.index.unique().values\n",
    "    \n",
    "    i_start = 0\n",
    "    list_ = []\n",
    "    if len(dates_lst)>= 2:\n",
    "        for i_start in range(0,len(dates_lst)):\n",
    "            do =dates_lst[i_start]\n",
    "            lo=dates_sort.loc[do].values\n",
    "            lo=np.array(lo).flatten()\n",
    "\n",
    "            for i_end in range(i_start+1,len(dates_lst)):\n",
    "                de =dates_lst[i_end]\n",
    "                dif = int((de-do)/86400000000000)\n",
    "\n",
    "                if (dif <= influence_threshold) and (dif> min_threshold):\n",
    "                    if dif>0:\n",
    "                        #print(\"comparamos\", dif, dates_lst[i_start], dates_lst[i_end])\n",
    "\n",
    "                        le=dates_sort.loc[de].values\n",
    "                        le=np.array(le).flatten()\n",
    "\n",
    "                        l =[[a,b] for a in lo for b in le]\n",
    "                        #print(l)\n",
    "                        list_ = list_+l\n",
    "    return list_"
   ]
  },
  {
   "cell_type": "code",
   "execution_count": 103,
   "metadata": {
    "scrolled": true
   },
   "outputs": [
    {
     "data": {
      "application/vnd.jupyter.widget-view+json": {
       "model_id": "6d54090be6e94cc58ae566ae3dd0ca14",
       "version_major": 2,
       "version_minor": 0
      },
      "text/plain": [
       "HBox(children=(HTML(value=''), FloatProgress(value=0.0, max=17089.0), HTML(value='')))"
      ]
     },
     "metadata": {},
     "output_type": "display_data"
    },
    {
     "name": "stdout",
     "output_type": "stream",
     "text": [
      "\n"
     ]
    }
   ],
   "source": [
    "seq={}\n",
    "influence_threshold = 3 #days\n",
    "min_threshold=1 #days\n",
    "for s in tqdm(clean_ranking_df['song_id'].unique()):\n",
    "    song_ranking= clean_ranking_df[clean_ranking_df['song_id']==s]\n",
    "    #song_seq= generate_song_sequences_fn(song_ranking)\n",
    "    song_seq = generate_song_direct_sequences_fn(song_ranking, influence_threshold, min_threshold)\n",
    "    if (song_seq is not None) and len(song_seq)>1:\n",
    "        #print(s,song_seq)\n",
    "        seq[s]=song_seq\n",
    "\n",
    "with open(os.path.join('data',f'clean_song_sequence_direct_{min_threshold}_{influence_threshold}.json'), 'w') as json_file:\n",
    "    json.dump(seq, json_file)"
   ]
  },
  {
   "cell_type": "markdown",
   "metadata": {},
   "source": [
    "Generate ranking with consequtive secuences"
   ]
  },
  {
   "cell_type": "code",
   "execution_count": 104,
   "metadata": {},
   "outputs": [
    {
     "data": {
      "application/vnd.jupyter.widget-view+json": {
       "model_id": "965106e5ad6d488fb96470baadaa5e0a",
       "version_major": 2,
       "version_minor": 0
      },
      "text/plain": [
       "HBox(children=(HTML(value=''), FloatProgress(value=0.0, max=393.0), HTML(value='')))"
      ]
     },
     "metadata": {},
     "output_type": "display_data"
    },
    {
     "name": "stdout",
     "output_type": "stream",
     "text": [
      "\n"
     ]
    }
   ],
   "source": [
    "seq={}\n",
    "influence_threshold = 5 #days\n",
    "min_threshold=0 #days\n",
    "max_pos=4\n",
    "ranking_lite_df = clean_ranking_df[clean_ranking_df['Position']<=max_pos]\n",
    "for s in tqdm(ranking_lite_df['song_id'].unique()):\n",
    "    song_ranking= ranking_lite_df[ranking_lite_df['song_id']==s]\n",
    "    song_seq = generate_song_direct_sequences_fn(song_ranking, influence_threshold, min_threshold)\n",
    "    if (song_seq is not None) and len(song_seq)>1:\n",
    "        seq[s]=song_seq\n",
    "        \n",
    "with open(os.path.join('data',f'clean_song_sequence_direct_{min_threshold}_{influence_threshold}_{max_pos}.json'), 'w') as json_file:\n",
    "    json.dump(seq, json_file)    "
   ]
  },
  {
   "cell_type": "code",
   "execution_count": 105,
   "metadata": {},
   "outputs": [
    {
     "name": "stdout",
     "output_type": "stream",
     "text": [
      "That's all folks\n"
     ]
    }
   ],
   "source": [
    " print(\"That's all folks\")"
   ]
  },
  {
   "cell_type": "markdown",
   "metadata": {},
   "source": [
    "----------------------------------------------------------------------------"
   ]
  },
  {
   "cell_type": "markdown",
   "metadata": {},
   "source": [
    "Test code"
   ]
  },
  {
   "cell_type": "code",
   "execution_count": 22,
   "metadata": {},
   "outputs": [
    {
     "data": {
      "text/html": [
       "<div>\n",
       "<style scoped>\n",
       "    .dataframe tbody tr th:only-of-type {\n",
       "        vertical-align: middle;\n",
       "    }\n",
       "\n",
       "    .dataframe tbody tr th {\n",
       "        vertical-align: top;\n",
       "    }\n",
       "\n",
       "    .dataframe thead th {\n",
       "        text-align: right;\n",
       "    }\n",
       "</style>\n",
       "<table border=\"1\" class=\"dataframe\">\n",
       "  <thead>\n",
       "    <tr style=\"text-align: right;\">\n",
       "      <th></th>\n",
       "      <th>Position</th>\n",
       "      <th>Track Name</th>\n",
       "      <th>Artist</th>\n",
       "      <th>Streams</th>\n",
       "      <th>URL</th>\n",
       "      <th>Date</th>\n",
       "      <th>Region</th>\n",
       "      <th>song_id</th>\n",
       "    </tr>\n",
       "  </thead>\n",
       "  <tbody>\n",
       "    <tr>\n",
       "      <th>0</th>\n",
       "      <td>1</td>\n",
       "      <td>Reggaetón Lento (Bailemos)</td>\n",
       "      <td>CNCO</td>\n",
       "      <td>19272</td>\n",
       "      <td>https://open.spotify.com/track/3AEZUABDXNtecAO...</td>\n",
       "      <td>2017-01-01</td>\n",
       "      <td>Ecuador</td>\n",
       "      <td>3AEZUABDXNtecAOSC1qTfo</td>\n",
       "    </tr>\n",
       "    <tr>\n",
       "      <th>1</th>\n",
       "      <td>2</td>\n",
       "      <td>Chantaje</td>\n",
       "      <td>Shakira</td>\n",
       "      <td>19270</td>\n",
       "      <td>https://open.spotify.com/track/6mICuAdrwEjh6Y6...</td>\n",
       "      <td>2017-01-01</td>\n",
       "      <td>Ecuador</td>\n",
       "      <td>6mICuAdrwEjh6Y6lroV2Kg</td>\n",
       "    </tr>\n",
       "    <tr>\n",
       "      <th>2</th>\n",
       "      <td>3</td>\n",
       "      <td>Otra Vez (feat. J Balvin)</td>\n",
       "      <td>Zion &amp; Lennox</td>\n",
       "      <td>15761</td>\n",
       "      <td>https://open.spotify.com/track/3QwBODjSEzelZyV...</td>\n",
       "      <td>2017-01-01</td>\n",
       "      <td>Ecuador</td>\n",
       "      <td>3QwBODjSEzelZyVjxPOHdq</td>\n",
       "    </tr>\n",
       "    <tr>\n",
       "      <th>3</th>\n",
       "      <td>4</td>\n",
       "      <td>Vente Pa' Ca</td>\n",
       "      <td>Ricky Martin</td>\n",
       "      <td>14954</td>\n",
       "      <td>https://open.spotify.com/track/7DM4BPaS7uofFul...</td>\n",
       "      <td>2017-01-01</td>\n",
       "      <td>Ecuador</td>\n",
       "      <td>7DM4BPaS7uofFul3ywMe46</td>\n",
       "    </tr>\n",
       "    <tr>\n",
       "      <th>4</th>\n",
       "      <td>5</td>\n",
       "      <td>Safari</td>\n",
       "      <td>J Balvin</td>\n",
       "      <td>14269</td>\n",
       "      <td>https://open.spotify.com/track/6rQSrBHf7HlZjtc...</td>\n",
       "      <td>2017-01-01</td>\n",
       "      <td>Ecuador</td>\n",
       "      <td>6rQSrBHf7HlZjtcMZ4S4bO</td>\n",
       "    </tr>\n",
       "  </tbody>\n",
       "</table>\n",
       "</div>"
      ],
      "text/plain": [
       "   Position                  Track Name         Artist  Streams  \\\n",
       "0         1  Reggaetón Lento (Bailemos)           CNCO    19272   \n",
       "1         2                    Chantaje        Shakira    19270   \n",
       "2         3   Otra Vez (feat. J Balvin)  Zion & Lennox    15761   \n",
       "3         4                Vente Pa' Ca   Ricky Martin    14954   \n",
       "4         5                      Safari       J Balvin    14269   \n",
       "\n",
       "                                                 URL       Date   Region  \\\n",
       "0  https://open.spotify.com/track/3AEZUABDXNtecAO... 2017-01-01  Ecuador   \n",
       "1  https://open.spotify.com/track/6mICuAdrwEjh6Y6... 2017-01-01  Ecuador   \n",
       "2  https://open.spotify.com/track/3QwBODjSEzelZyV... 2017-01-01  Ecuador   \n",
       "3  https://open.spotify.com/track/7DM4BPaS7uofFul... 2017-01-01  Ecuador   \n",
       "4  https://open.spotify.com/track/6rQSrBHf7HlZjtc... 2017-01-01  Ecuador   \n",
       "\n",
       "                  song_id  \n",
       "0  3AEZUABDXNtecAOSC1qTfo  \n",
       "1  6mICuAdrwEjh6Y6lroV2Kg  \n",
       "2  3QwBODjSEzelZyVjxPOHdq  \n",
       "3  7DM4BPaS7uofFul3ywMe46  \n",
       "4  6rQSrBHf7HlZjtcMZ4S4bO  "
      ]
     },
     "execution_count": 22,
     "metadata": {},
     "output_type": "execute_result"
    }
   ],
   "source": [
    "ranking_df.head()"
   ]
  },
  {
   "cell_type": "code",
   "execution_count": 23,
   "metadata": {},
   "outputs": [
    {
     "data": {
      "text/html": [
       "<div>\n",
       "<style scoped>\n",
       "    .dataframe tbody tr th:only-of-type {\n",
       "        vertical-align: middle;\n",
       "    }\n",
       "\n",
       "    .dataframe tbody tr th {\n",
       "        vertical-align: top;\n",
       "    }\n",
       "\n",
       "    .dataframe thead th {\n",
       "        text-align: right;\n",
       "    }\n",
       "</style>\n",
       "<table border=\"1\" class=\"dataframe\">\n",
       "  <thead>\n",
       "    <tr style=\"text-align: right;\">\n",
       "      <th></th>\n",
       "      <th>Position</th>\n",
       "      <th>Track Name</th>\n",
       "      <th>Artist</th>\n",
       "      <th>Streams</th>\n",
       "      <th>URL</th>\n",
       "      <th>Date</th>\n",
       "      <th>Region</th>\n",
       "      <th>song_id</th>\n",
       "    </tr>\n",
       "  </thead>\n",
       "  <tbody>\n",
       "    <tr>\n",
       "      <th>3441192</th>\n",
       "      <td>196</td>\n",
       "      <td>More Than You Know</td>\n",
       "      <td>Axwell /\\ Ingrosso</td>\n",
       "      <td>2126</td>\n",
       "      <td>https://open.spotify.com/track/71bBFbfn2OBK5Qw...</td>\n",
       "      <td>2018-01-09</td>\n",
       "      <td>HongKong</td>\n",
       "      <td>71bBFbfn2OBK5QwUJSLS44</td>\n",
       "    </tr>\n",
       "    <tr>\n",
       "      <th>3441193</th>\n",
       "      <td>197</td>\n",
       "      <td>Issues</td>\n",
       "      <td>Julia Michaels</td>\n",
       "      <td>2117</td>\n",
       "      <td>https://open.spotify.com/track/7vu0JkJh0ldukEY...</td>\n",
       "      <td>2018-01-09</td>\n",
       "      <td>HongKong</td>\n",
       "      <td>7vu0JkJh0ldukEYbTVcqd0</td>\n",
       "    </tr>\n",
       "    <tr>\n",
       "      <th>3441194</th>\n",
       "      <td>198</td>\n",
       "      <td>Tuo Fei Lun</td>\n",
       "      <td>Eason Chan</td>\n",
       "      <td>2112</td>\n",
       "      <td>https://open.spotify.com/track/0pmGleExiQyd0Hx...</td>\n",
       "      <td>2018-01-09</td>\n",
       "      <td>HongKong</td>\n",
       "      <td>0pmGleExiQyd0HxV5kAOwK</td>\n",
       "    </tr>\n",
       "    <tr>\n",
       "      <th>3441195</th>\n",
       "      <td>199</td>\n",
       "      <td>面具</td>\n",
       "      <td>Alfred Hui</td>\n",
       "      <td>2102</td>\n",
       "      <td>https://open.spotify.com/track/58SUsgamkW6vFFq...</td>\n",
       "      <td>2018-01-09</td>\n",
       "      <td>HongKong</td>\n",
       "      <td>58SUsgamkW6vFFq0YNKGrf</td>\n",
       "    </tr>\n",
       "    <tr>\n",
       "      <th>3441196</th>\n",
       "      <td>200</td>\n",
       "      <td>Let Her Go</td>\n",
       "      <td>Passenger</td>\n",
       "      <td>2088</td>\n",
       "      <td>https://open.spotify.com/track/2jyjhRf6DVbMPU5...</td>\n",
       "      <td>2018-01-09</td>\n",
       "      <td>HongKong</td>\n",
       "      <td>2jyjhRf6DVbMPU5zxagN2h</td>\n",
       "    </tr>\n",
       "  </tbody>\n",
       "</table>\n",
       "</div>"
      ],
      "text/plain": [
       "         Position          Track Name              Artist  Streams  \\\n",
       "3441192       196  More Than You Know  Axwell /\\ Ingrosso     2126   \n",
       "3441193       197              Issues      Julia Michaels     2117   \n",
       "3441194       198         Tuo Fei Lun          Eason Chan     2112   \n",
       "3441195       199                  面具          Alfred Hui     2102   \n",
       "3441196       200          Let Her Go           Passenger     2088   \n",
       "\n",
       "                                                       URL       Date  \\\n",
       "3441192  https://open.spotify.com/track/71bBFbfn2OBK5Qw... 2018-01-09   \n",
       "3441193  https://open.spotify.com/track/7vu0JkJh0ldukEY... 2018-01-09   \n",
       "3441194  https://open.spotify.com/track/0pmGleExiQyd0Hx... 2018-01-09   \n",
       "3441195  https://open.spotify.com/track/58SUsgamkW6vFFq... 2018-01-09   \n",
       "3441196  https://open.spotify.com/track/2jyjhRf6DVbMPU5... 2018-01-09   \n",
       "\n",
       "           Region                 song_id  \n",
       "3441192  HongKong  71bBFbfn2OBK5QwUJSLS44  \n",
       "3441193  HongKong  7vu0JkJh0ldukEYbTVcqd0  \n",
       "3441194  HongKong  0pmGleExiQyd0HxV5kAOwK  \n",
       "3441195  HongKong  58SUsgamkW6vFFq0YNKGrf  \n",
       "3441196  HongKong  2jyjhRf6DVbMPU5zxagN2h  "
      ]
     },
     "execution_count": 23,
     "metadata": {},
     "output_type": "execute_result"
    }
   ],
   "source": [
    "ranking_df.tail()"
   ]
  },
  {
   "cell_type": "code",
   "execution_count": 24,
   "metadata": {},
   "outputs": [
    {
     "name": "stdout",
     "output_type": "stream",
     "text": [
      "<class 'pandas.core.frame.DataFrame'>\n",
      "Int64Index: 3441189 entries, 0 to 3441196\n",
      "Data columns (total 8 columns):\n",
      " #   Column      Dtype         \n",
      "---  ------      -----         \n",
      " 0   Position    int64         \n",
      " 1   Track Name  object        \n",
      " 2   Artist      object        \n",
      " 3   Streams     int64         \n",
      " 4   URL         object        \n",
      " 5   Date        datetime64[ns]\n",
      " 6   Region      object        \n",
      " 7   song_id     object        \n",
      "dtypes: datetime64[ns](1), int64(2), object(5)\n",
      "memory usage: 236.3+ MB\n"
     ]
    }
   ],
   "source": [
    "ranking_df.info()"
   ]
  },
  {
   "cell_type": "code",
   "execution_count": 25,
   "metadata": {},
   "outputs": [],
   "source": [
    "ranking_df['release_date']=ranking_df.groupby('song_id')['Date'].transform('min')"
   ]
  },
  {
   "cell_type": "code",
   "execution_count": 26,
   "metadata": {},
   "outputs": [],
   "source": [
    "release_ranking_df = ranking_df[ranking_df['Date']== ranking_df['release_date']]"
   ]
  },
  {
   "cell_type": "code",
   "execution_count": 27,
   "metadata": {},
   "outputs": [
    {
     "data": {
      "text/html": [
       "<div>\n",
       "<style scoped>\n",
       "    .dataframe tbody tr th:only-of-type {\n",
       "        vertical-align: middle;\n",
       "    }\n",
       "\n",
       "    .dataframe tbody tr th {\n",
       "        vertical-align: top;\n",
       "    }\n",
       "\n",
       "    .dataframe thead th {\n",
       "        text-align: right;\n",
       "    }\n",
       "</style>\n",
       "<table border=\"1\" class=\"dataframe\">\n",
       "  <thead>\n",
       "    <tr style=\"text-align: right;\">\n",
       "      <th></th>\n",
       "      <th>Position</th>\n",
       "      <th>Track Name</th>\n",
       "      <th>Artist</th>\n",
       "      <th>Streams</th>\n",
       "      <th>URL</th>\n",
       "      <th>Date</th>\n",
       "      <th>Region</th>\n",
       "      <th>song_id</th>\n",
       "      <th>release_date</th>\n",
       "    </tr>\n",
       "  </thead>\n",
       "  <tbody>\n",
       "    <tr>\n",
       "      <th>0</th>\n",
       "      <td>1</td>\n",
       "      <td>Reggaetón Lento (Bailemos)</td>\n",
       "      <td>CNCO</td>\n",
       "      <td>19272</td>\n",
       "      <td>https://open.spotify.com/track/3AEZUABDXNtecAO...</td>\n",
       "      <td>2017-01-01</td>\n",
       "      <td>Ecuador</td>\n",
       "      <td>3AEZUABDXNtecAOSC1qTfo</td>\n",
       "      <td>2017-01-01</td>\n",
       "    </tr>\n",
       "    <tr>\n",
       "      <th>1</th>\n",
       "      <td>2</td>\n",
       "      <td>Chantaje</td>\n",
       "      <td>Shakira</td>\n",
       "      <td>19270</td>\n",
       "      <td>https://open.spotify.com/track/6mICuAdrwEjh6Y6...</td>\n",
       "      <td>2017-01-01</td>\n",
       "      <td>Ecuador</td>\n",
       "      <td>6mICuAdrwEjh6Y6lroV2Kg</td>\n",
       "      <td>2017-01-01</td>\n",
       "    </tr>\n",
       "    <tr>\n",
       "      <th>2</th>\n",
       "      <td>3</td>\n",
       "      <td>Otra Vez (feat. J Balvin)</td>\n",
       "      <td>Zion &amp; Lennox</td>\n",
       "      <td>15761</td>\n",
       "      <td>https://open.spotify.com/track/3QwBODjSEzelZyV...</td>\n",
       "      <td>2017-01-01</td>\n",
       "      <td>Ecuador</td>\n",
       "      <td>3QwBODjSEzelZyVjxPOHdq</td>\n",
       "      <td>2017-01-01</td>\n",
       "    </tr>\n",
       "    <tr>\n",
       "      <th>3</th>\n",
       "      <td>4</td>\n",
       "      <td>Vente Pa' Ca</td>\n",
       "      <td>Ricky Martin</td>\n",
       "      <td>14954</td>\n",
       "      <td>https://open.spotify.com/track/7DM4BPaS7uofFul...</td>\n",
       "      <td>2017-01-01</td>\n",
       "      <td>Ecuador</td>\n",
       "      <td>7DM4BPaS7uofFul3ywMe46</td>\n",
       "      <td>2017-01-01</td>\n",
       "    </tr>\n",
       "    <tr>\n",
       "      <th>4</th>\n",
       "      <td>5</td>\n",
       "      <td>Safari</td>\n",
       "      <td>J Balvin</td>\n",
       "      <td>14269</td>\n",
       "      <td>https://open.spotify.com/track/6rQSrBHf7HlZjtc...</td>\n",
       "      <td>2017-01-01</td>\n",
       "      <td>Ecuador</td>\n",
       "      <td>6rQSrBHf7HlZjtcMZ4S4bO</td>\n",
       "      <td>2017-01-01</td>\n",
       "    </tr>\n",
       "  </tbody>\n",
       "</table>\n",
       "</div>"
      ],
      "text/plain": [
       "   Position                  Track Name         Artist  Streams  \\\n",
       "0         1  Reggaetón Lento (Bailemos)           CNCO    19272   \n",
       "1         2                    Chantaje        Shakira    19270   \n",
       "2         3   Otra Vez (feat. J Balvin)  Zion & Lennox    15761   \n",
       "3         4                Vente Pa' Ca   Ricky Martin    14954   \n",
       "4         5                      Safari       J Balvin    14269   \n",
       "\n",
       "                                                 URL       Date   Region  \\\n",
       "0  https://open.spotify.com/track/3AEZUABDXNtecAO... 2017-01-01  Ecuador   \n",
       "1  https://open.spotify.com/track/6mICuAdrwEjh6Y6... 2017-01-01  Ecuador   \n",
       "2  https://open.spotify.com/track/3QwBODjSEzelZyV... 2017-01-01  Ecuador   \n",
       "3  https://open.spotify.com/track/7DM4BPaS7uofFul... 2017-01-01  Ecuador   \n",
       "4  https://open.spotify.com/track/6rQSrBHf7HlZjtc... 2017-01-01  Ecuador   \n",
       "\n",
       "                  song_id release_date  \n",
       "0  3AEZUABDXNtecAOSC1qTfo   2017-01-01  \n",
       "1  6mICuAdrwEjh6Y6lroV2Kg   2017-01-01  \n",
       "2  3QwBODjSEzelZyVjxPOHdq   2017-01-01  \n",
       "3  7DM4BPaS7uofFul3ywMe46   2017-01-01  \n",
       "4  6rQSrBHf7HlZjtcMZ4S4bO   2017-01-01  "
      ]
     },
     "execution_count": 27,
     "metadata": {},
     "output_type": "execute_result"
    }
   ],
   "source": [
    "release_ranking_df.head()"
   ]
  },
  {
   "cell_type": "code",
   "execution_count": 28,
   "metadata": {},
   "outputs": [
    {
     "data": {
      "text/html": [
       "<div>\n",
       "<style scoped>\n",
       "    .dataframe tbody tr th:only-of-type {\n",
       "        vertical-align: middle;\n",
       "    }\n",
       "\n",
       "    .dataframe tbody tr th {\n",
       "        vertical-align: top;\n",
       "    }\n",
       "\n",
       "    .dataframe thead th {\n",
       "        text-align: right;\n",
       "    }\n",
       "</style>\n",
       "<table border=\"1\" class=\"dataframe\">\n",
       "  <thead>\n",
       "    <tr style=\"text-align: right;\">\n",
       "      <th></th>\n",
       "      <th>Position</th>\n",
       "      <th>Track Name</th>\n",
       "      <th>Artist</th>\n",
       "      <th>Streams</th>\n",
       "      <th>URL</th>\n",
       "      <th>Date</th>\n",
       "      <th>Region</th>\n",
       "      <th>song_id</th>\n",
       "      <th>release_date</th>\n",
       "    </tr>\n",
       "  </thead>\n",
       "  <tbody>\n",
       "  </tbody>\n",
       "</table>\n",
       "</div>"
      ],
      "text/plain": [
       "Empty DataFrame\n",
       "Columns: [Position, Track Name, Artist, Streams, URL, Date, Region, song_id, release_date]\n",
       "Index: []"
      ]
     },
     "execution_count": 28,
     "metadata": {},
     "output_type": "execute_result"
    }
   ],
   "source": [
    "release_ranking_df[release_ranking_df['release_date']=='20017']"
   ]
  },
  {
   "cell_type": "code",
   "execution_count": 29,
   "metadata": {
    "scrolled": true
   },
   "outputs": [
    {
     "data": {
      "text/html": [
       "<div>\n",
       "<style scoped>\n",
       "    .dataframe tbody tr th:only-of-type {\n",
       "        vertical-align: middle;\n",
       "    }\n",
       "\n",
       "    .dataframe tbody tr th {\n",
       "        vertical-align: top;\n",
       "    }\n",
       "\n",
       "    .dataframe thead th {\n",
       "        text-align: right;\n",
       "    }\n",
       "</style>\n",
       "<table border=\"1\" class=\"dataframe\">\n",
       "  <thead>\n",
       "    <tr style=\"text-align: right;\">\n",
       "      <th></th>\n",
       "      <th>Position</th>\n",
       "      <th>Track Name</th>\n",
       "      <th>Artist</th>\n",
       "      <th>Streams</th>\n",
       "      <th>URL</th>\n",
       "      <th>Date</th>\n",
       "      <th>Region</th>\n",
       "      <th>song_id</th>\n",
       "      <th>release_date</th>\n",
       "    </tr>\n",
       "  </thead>\n",
       "  <tbody>\n",
       "    <tr>\n",
       "      <th>1227113</th>\n",
       "      <td>200</td>\n",
       "      <td>Laranjinha - Ao Vivo</td>\n",
       "      <td>Wesley Safadão</td>\n",
       "      <td>37782</td>\n",
       "      <td>https://open.spotify.com/track/007QSAaELpVxtX5...</td>\n",
       "      <td>2017-08-27</td>\n",
       "      <td>Brazil</td>\n",
       "      <td>007QSAaELpVxtX5Z6dMn0U</td>\n",
       "      <td>2017-08-27</td>\n",
       "    </tr>\n",
       "  </tbody>\n",
       "</table>\n",
       "</div>"
      ],
      "text/plain": [
       "         Position            Track Name          Artist  Streams  \\\n",
       "1227113       200  Laranjinha - Ao Vivo  Wesley Safadão    37782   \n",
       "\n",
       "                                                       URL       Date  Region  \\\n",
       "1227113  https://open.spotify.com/track/007QSAaELpVxtX5... 2017-08-27  Brazil   \n",
       "\n",
       "                        song_id release_date  \n",
       "1227113  007QSAaELpVxtX5Z6dMn0U   2017-08-27  "
      ]
     },
     "execution_count": 29,
     "metadata": {},
     "output_type": "execute_result"
    }
   ],
   "source": [
    "release_ranking_df[release_ranking_df['song_id']=='007QSAaELpVxtX5Z6dMn0U']"
   ]
  },
  {
   "cell_type": "code",
   "execution_count": 43,
   "metadata": {},
   "outputs": [
    {
     "data": {
      "text/html": [
       "<div>\n",
       "<style scoped>\n",
       "    .dataframe tbody tr th:only-of-type {\n",
       "        vertical-align: middle;\n",
       "    }\n",
       "\n",
       "    .dataframe tbody tr th {\n",
       "        vertical-align: top;\n",
       "    }\n",
       "\n",
       "    .dataframe thead th {\n",
       "        text-align: right;\n",
       "    }\n",
       "</style>\n",
       "<table border=\"1\" class=\"dataframe\">\n",
       "  <thead>\n",
       "    <tr style=\"text-align: right;\">\n",
       "      <th></th>\n",
       "      <th>num_lists</th>\n",
       "    </tr>\n",
       "    <tr>\n",
       "      <th>song_id</th>\n",
       "      <th></th>\n",
       "    </tr>\n",
       "  </thead>\n",
       "  <tbody>\n",
       "    <tr>\n",
       "      <th>000xQL6tZNLJzIrtIgxqSl</th>\n",
       "      <td>39</td>\n",
       "    </tr>\n",
       "    <tr>\n",
       "      <th>000xYdQfIZ4pDmBGzQalKU</th>\n",
       "      <td>1</td>\n",
       "    </tr>\n",
       "    <tr>\n",
       "      <th>004q4eDxR33ci4f8m4flwl</th>\n",
       "      <td>1</td>\n",
       "    </tr>\n",
       "    <tr>\n",
       "      <th>006pMMCuRo2TFjh8sNGSov</th>\n",
       "      <td>1</td>\n",
       "    </tr>\n",
       "    <tr>\n",
       "      <th>007QSAaELpVxtX5Z6dMn0U</th>\n",
       "      <td>1</td>\n",
       "    </tr>\n",
       "  </tbody>\n",
       "</table>\n",
       "</div>"
      ],
      "text/plain": [
       "                        num_lists\n",
       "song_id                          \n",
       "000xQL6tZNLJzIrtIgxqSl         39\n",
       "000xYdQfIZ4pDmBGzQalKU          1\n",
       "004q4eDxR33ci4f8m4flwl          1\n",
       "006pMMCuRo2TFjh8sNGSov          1\n",
       "007QSAaELpVxtX5Z6dMn0U          1"
      ]
     },
     "execution_count": 43,
     "metadata": {},
     "output_type": "execute_result"
    }
   ],
   "source": [
    "num_initial_lists_df = release_ranking_df.groupby('song_id').size().to_frame()\n",
    "num_initial_lists_df.columns =['num_lists']\n",
    "num_initial_lists_df.head()"
   ]
  },
  {
   "cell_type": "code",
   "execution_count": 47,
   "metadata": {},
   "outputs": [
    {
     "data": {
      "text/html": [
       "<div>\n",
       "<style scoped>\n",
       "    .dataframe tbody tr th:only-of-type {\n",
       "        vertical-align: middle;\n",
       "    }\n",
       "\n",
       "    .dataframe tbody tr th {\n",
       "        vertical-align: top;\n",
       "    }\n",
       "\n",
       "    .dataframe thead th {\n",
       "        text-align: right;\n",
       "    }\n",
       "</style>\n",
       "<table border=\"1\" class=\"dataframe\">\n",
       "  <thead>\n",
       "    <tr style=\"text-align: right;\">\n",
       "      <th></th>\n",
       "      <th>num_lists</th>\n",
       "    </tr>\n",
       "    <tr>\n",
       "      <th>song_id</th>\n",
       "      <th></th>\n",
       "    </tr>\n",
       "  </thead>\n",
       "  <tbody>\n",
       "    <tr>\n",
       "      <th>000xQL6tZNLJzIrtIgxqSl</th>\n",
       "      <td>39</td>\n",
       "    </tr>\n",
       "    <tr>\n",
       "      <th>00DcwM45CMDjGChnoFRQ6y</th>\n",
       "      <td>2</td>\n",
       "    </tr>\n",
       "    <tr>\n",
       "      <th>00Ro1lnV3V6i87aY4t8Q43</th>\n",
       "      <td>2</td>\n",
       "    </tr>\n",
       "    <tr>\n",
       "      <th>00cGr3oLNjjESBJ3OQyyCE</th>\n",
       "      <td>2</td>\n",
       "    </tr>\n",
       "    <tr>\n",
       "      <th>00cbRAOr6wTPE9WBMejhiM</th>\n",
       "      <td>3</td>\n",
       "    </tr>\n",
       "    <tr>\n",
       "      <th>...</th>\n",
       "      <td>...</td>\n",
       "    </tr>\n",
       "    <tr>\n",
       "      <th>7zLGHiDWd9T1Rxw4PQCb13</th>\n",
       "      <td>40</td>\n",
       "    </tr>\n",
       "    <tr>\n",
       "      <th>7zTx8ePYAmPFQuxP3xlXZn</th>\n",
       "      <td>15</td>\n",
       "    </tr>\n",
       "    <tr>\n",
       "      <th>7zgqtptZvhf8GEmdsM2vp2</th>\n",
       "      <td>50</td>\n",
       "    </tr>\n",
       "    <tr>\n",
       "      <th>7zja6rwquGA6vzLolzKrda</th>\n",
       "      <td>3</td>\n",
       "    </tr>\n",
       "    <tr>\n",
       "      <th>7zyYmIdjqqiX6kLryb7QBx</th>\n",
       "      <td>3</td>\n",
       "    </tr>\n",
       "  </tbody>\n",
       "</table>\n",
       "<p>4657 rows × 1 columns</p>\n",
       "</div>"
      ],
      "text/plain": [
       "                        num_lists\n",
       "song_id                          \n",
       "000xQL6tZNLJzIrtIgxqSl         39\n",
       "00DcwM45CMDjGChnoFRQ6y          2\n",
       "00Ro1lnV3V6i87aY4t8Q43          2\n",
       "00cGr3oLNjjESBJ3OQyyCE          2\n",
       "00cbRAOr6wTPE9WBMejhiM          3\n",
       "...                           ...\n",
       "7zLGHiDWd9T1Rxw4PQCb13         40\n",
       "7zTx8ePYAmPFQuxP3xlXZn         15\n",
       "7zgqtptZvhf8GEmdsM2vp2         50\n",
       "7zja6rwquGA6vzLolzKrda          3\n",
       "7zyYmIdjqqiX6kLryb7QBx          3\n",
       "\n",
       "[4657 rows x 1 columns]"
      ]
     },
     "execution_count": 47,
     "metadata": {},
     "output_type": "execute_result"
    }
   ],
   "source": [
    "num_initial_lists_df[num_initial_lists_df['num_lists']>1]"
   ]
  },
  {
   "cell_type": "code",
   "execution_count": 52,
   "metadata": {},
   "outputs": [
    {
     "data": {
      "image/png": "[encoded data removed]",
      "text/plain": [
       "<Figure size 432x288 with 1 Axes>"
      ]
     },
     "metadata": {
      "needs_background": "light"
     },
     "output_type": "display_data"
    }
   ],
   "source": [
    "num_initial_lists_df.hist(bins=40);"
   ]
  },
  {
   "cell_type": "code",
   "execution_count": 56,
   "metadata": {},
   "outputs": [
    {
     "data": {
      "text/plain": [
       "17089"
      ]
     },
     "execution_count": 56,
     "metadata": {},
     "output_type": "execute_result"
    }
   ],
   "source": [
    "songs_with_one_initial_list = num_initial_lists_df[num_initial_lists_df['num_lists']==1].index.to_list()\n",
    "len(songs_with_one_initial_list)"
   ]
  },
  {
   "cell_type": "code",
   "execution_count": 57,
   "metadata": {},
   "outputs": [
    {
     "data": {
      "text/html": [
       "<div>\n",
       "<style scoped>\n",
       "    .dataframe tbody tr th:only-of-type {\n",
       "        vertical-align: middle;\n",
       "    }\n",
       "\n",
       "    .dataframe tbody tr th {\n",
       "        vertical-align: top;\n",
       "    }\n",
       "\n",
       "    .dataframe thead th {\n",
       "        text-align: right;\n",
       "    }\n",
       "</style>\n",
       "<table border=\"1\" class=\"dataframe\">\n",
       "  <thead>\n",
       "    <tr style=\"text-align: right;\">\n",
       "      <th></th>\n",
       "      <th>Position</th>\n",
       "      <th>Track Name</th>\n",
       "      <th>Artist</th>\n",
       "      <th>Streams</th>\n",
       "      <th>URL</th>\n",
       "      <th>Date</th>\n",
       "      <th>Region</th>\n",
       "      <th>song_id</th>\n",
       "      <th>release_date</th>\n",
       "    </tr>\n",
       "  </thead>\n",
       "  <tbody>\n",
       "    <tr>\n",
       "      <th>45</th>\n",
       "      <td>46</td>\n",
       "      <td>Enamorándonos</td>\n",
       "      <td>Cabas</td>\n",
       "      <td>3734</td>\n",
       "      <td>https://open.spotify.com/track/0aywfeIr0tmhLZJ...</td>\n",
       "      <td>2017-01-01</td>\n",
       "      <td>Ecuador</td>\n",
       "      <td>0aywfeIr0tmhLZJxzqOhzP</td>\n",
       "      <td>2017-01-01</td>\n",
       "    </tr>\n",
       "    <tr>\n",
       "      <th>118</th>\n",
       "      <td>119</td>\n",
       "      <td>Para Enamorarte</td>\n",
       "      <td>CNCO</td>\n",
       "      <td>1791</td>\n",
       "      <td>https://open.spotify.com/track/3B21fRFqPLmTd9z...</td>\n",
       "      <td>2017-01-01</td>\n",
       "      <td>Ecuador</td>\n",
       "      <td>3B21fRFqPLmTd9zAlK0I8A</td>\n",
       "      <td>2017-01-01</td>\n",
       "    </tr>\n",
       "    <tr>\n",
       "      <th>129</th>\n",
       "      <td>130</td>\n",
       "      <td>Si No Te Quisiera</td>\n",
       "      <td>Juan Magán</td>\n",
       "      <td>1665</td>\n",
       "      <td>https://open.spotify.com/track/0wLqXnCLseMice1...</td>\n",
       "      <td>2017-01-01</td>\n",
       "      <td>Ecuador</td>\n",
       "      <td>0wLqXnCLseMice1Hwq6yLz</td>\n",
       "      <td>2017-01-01</td>\n",
       "    </tr>\n",
       "    <tr>\n",
       "      <th>146</th>\n",
       "      <td>147</td>\n",
       "      <td>Te Viví</td>\n",
       "      <td>Villamizar</td>\n",
       "      <td>1484</td>\n",
       "      <td>https://open.spotify.com/track/3SBjPXmpFIIKOvc...</td>\n",
       "      <td>2017-01-01</td>\n",
       "      <td>Ecuador</td>\n",
       "      <td>3SBjPXmpFIIKOvce7e6OXY</td>\n",
       "      <td>2017-01-01</td>\n",
       "    </tr>\n",
       "    <tr>\n",
       "      <th>167</th>\n",
       "      <td>168</td>\n",
       "      <td>Love Me</td>\n",
       "      <td>Juan Magán</td>\n",
       "      <td>1372</td>\n",
       "      <td>https://open.spotify.com/track/54MeG5FCVXStJTy...</td>\n",
       "      <td>2017-01-01</td>\n",
       "      <td>Ecuador</td>\n",
       "      <td>54MeG5FCVXStJTyNvRu9zN</td>\n",
       "      <td>2017-01-01</td>\n",
       "    </tr>\n",
       "    <tr>\n",
       "      <th>...</th>\n",
       "      <td>...</td>\n",
       "      <td>...</td>\n",
       "      <td>...</td>\n",
       "      <td>...</td>\n",
       "      <td>...</td>\n",
       "      <td>...</td>\n",
       "      <td>...</td>\n",
       "      <td>...</td>\n",
       "      <td>...</td>\n",
       "    </tr>\n",
       "    <tr>\n",
       "      <th>3441186</th>\n",
       "      <td>190</td>\n",
       "      <td>那一年零一個月</td>\n",
       "      <td>Feanna Wong</td>\n",
       "      <td>2165</td>\n",
       "      <td>https://open.spotify.com/track/6vZxE6aYqsq73SY...</td>\n",
       "      <td>2018-01-09</td>\n",
       "      <td>HongKong</td>\n",
       "      <td>6vZxE6aYqsq73SYiNAcHAt</td>\n",
       "      <td>2017-12-08</td>\n",
       "    </tr>\n",
       "    <tr>\n",
       "      <th>3441187</th>\n",
       "      <td>191</td>\n",
       "      <td>我多喜歡你,你會知道 - 網劇《致我們單純的小美好》推廣曲</td>\n",
       "      <td>王俊琪</td>\n",
       "      <td>2148</td>\n",
       "      <td>https://open.spotify.com/track/221FBKC22DTc7Xk...</td>\n",
       "      <td>2018-01-09</td>\n",
       "      <td>HongKong</td>\n",
       "      <td>221FBKC22DTc7XkPIaZYOl</td>\n",
       "      <td>2017-11-23</td>\n",
       "    </tr>\n",
       "    <tr>\n",
       "      <th>3441188</th>\n",
       "      <td>192</td>\n",
       "      <td>富士山下</td>\n",
       "      <td>Eason Chan</td>\n",
       "      <td>2144</td>\n",
       "      <td>https://open.spotify.com/track/3cthRwQ2X0SNTaa...</td>\n",
       "      <td>2018-01-09</td>\n",
       "      <td>HongKong</td>\n",
       "      <td>3cthRwQ2X0SNTaauD7tjn5</td>\n",
       "      <td>2017-08-04</td>\n",
       "    </tr>\n",
       "    <tr>\n",
       "      <th>3441194</th>\n",
       "      <td>198</td>\n",
       "      <td>Tuo Fei Lun</td>\n",
       "      <td>Eason Chan</td>\n",
       "      <td>2112</td>\n",
       "      <td>https://open.spotify.com/track/0pmGleExiQyd0Hx...</td>\n",
       "      <td>2018-01-09</td>\n",
       "      <td>HongKong</td>\n",
       "      <td>0pmGleExiQyd0HxV5kAOwK</td>\n",
       "      <td>2017-11-11</td>\n",
       "    </tr>\n",
       "    <tr>\n",
       "      <th>3441195</th>\n",
       "      <td>199</td>\n",
       "      <td>面具</td>\n",
       "      <td>Alfred Hui</td>\n",
       "      <td>2102</td>\n",
       "      <td>https://open.spotify.com/track/58SUsgamkW6vFFq...</td>\n",
       "      <td>2018-01-09</td>\n",
       "      <td>HongKong</td>\n",
       "      <td>58SUsgamkW6vFFq0YNKGrf</td>\n",
       "      <td>2017-01-02</td>\n",
       "    </tr>\n",
       "  </tbody>\n",
       "</table>\n",
       "<p>896335 rows × 9 columns</p>\n",
       "</div>"
      ],
      "text/plain": [
       "         Position                     Track Name       Artist  Streams  \\\n",
       "45             46                  Enamorándonos        Cabas     3734   \n",
       "118           119                Para Enamorarte         CNCO     1791   \n",
       "129           130              Si No Te Quisiera   Juan Magán     1665   \n",
       "146           147                        Te Viví   Villamizar     1484   \n",
       "167           168                        Love Me   Juan Magán     1372   \n",
       "...           ...                            ...          ...      ...   \n",
       "3441186       190                        那一年零一個月  Feanna Wong     2165   \n",
       "3441187       191  我多喜歡你,你會知道 - 網劇《致我們單純的小美好》推廣曲          王俊琪     2148   \n",
       "3441188       192                           富士山下   Eason Chan     2144   \n",
       "3441194       198                    Tuo Fei Lun   Eason Chan     2112   \n",
       "3441195       199                             面具   Alfred Hui     2102   \n",
       "\n",
       "                                                       URL       Date  \\\n",
       "45       https://open.spotify.com/track/0aywfeIr0tmhLZJ... 2017-01-01   \n",
       "118      https://open.spotify.com/track/3B21fRFqPLmTd9z... 2017-01-01   \n",
       "129      https://open.spotify.com/track/0wLqXnCLseMice1... 2017-01-01   \n",
       "146      https://open.spotify.com/track/3SBjPXmpFIIKOvc... 2017-01-01   \n",
       "167      https://open.spotify.com/track/54MeG5FCVXStJTy... 2017-01-01   \n",
       "...                                                    ...        ...   \n",
       "3441186  https://open.spotify.com/track/6vZxE6aYqsq73SY... 2018-01-09   \n",
       "3441187  https://open.spotify.com/track/221FBKC22DTc7Xk... 2018-01-09   \n",
       "3441188  https://open.spotify.com/track/3cthRwQ2X0SNTaa... 2018-01-09   \n",
       "3441194  https://open.spotify.com/track/0pmGleExiQyd0Hx... 2018-01-09   \n",
       "3441195  https://open.spotify.com/track/58SUsgamkW6vFFq... 2018-01-09   \n",
       "\n",
       "           Region                 song_id release_date  \n",
       "45        Ecuador  0aywfeIr0tmhLZJxzqOhzP   2017-01-01  \n",
       "118       Ecuador  3B21fRFqPLmTd9zAlK0I8A   2017-01-01  \n",
       "129       Ecuador  0wLqXnCLseMice1Hwq6yLz   2017-01-01  \n",
       "146       Ecuador  3SBjPXmpFIIKOvce7e6OXY   2017-01-01  \n",
       "167       Ecuador  54MeG5FCVXStJTyNvRu9zN   2017-01-01  \n",
       "...           ...                     ...          ...  \n",
       "3441186  HongKong  6vZxE6aYqsq73SYiNAcHAt   2017-12-08  \n",
       "3441187  HongKong  221FBKC22DTc7XkPIaZYOl   2017-11-23  \n",
       "3441188  HongKong  3cthRwQ2X0SNTaauD7tjn5   2017-08-04  \n",
       "3441194  HongKong  0pmGleExiQyd0HxV5kAOwK   2017-11-11  \n",
       "3441195  HongKong  58SUsgamkW6vFFq0YNKGrf   2017-01-02  \n",
       "\n",
       "[896335 rows x 9 columns]"
      ]
     },
     "execution_count": 57,
     "metadata": {},
     "output_type": "execute_result"
    }
   ],
   "source": [
    "ranking_df[ranking_df['song_id'].isin(songs_with_one_initial_list)]"
   ]
  },
  {
   "cell_type": "code",
   "execution_count": null,
   "metadata": {},
   "outputs": [],
   "source": []
  },
  {
   "cell_type": "code",
   "execution_count": null,
   "metadata": {},
   "outputs": [],
   "source": []
  },
  {
   "cell_type": "code",
   "execution_count": null,
   "metadata": {},
   "outputs": [],
   "source": []
  },
  {
   "cell_type": "code",
   "execution_count": 31,
   "metadata": {},
   "outputs": [
    {
     "name": "stdout",
     "output_type": "stream",
     "text": [
      "<class 'pandas.core.frame.DataFrame'>\n",
      "Int64Index: 51811 entries, 0 to 3441158\n",
      "Data columns (total 9 columns):\n",
      " #   Column        Non-Null Count  Dtype         \n",
      "---  ------        --------------  -----         \n",
      " 0   Position      51811 non-null  int64         \n",
      " 1   Track Name    51533 non-null  object        \n",
      " 2   Artist        51533 non-null  object        \n",
      " 3   Streams       51811 non-null  int64         \n",
      " 4   URL           51811 non-null  object        \n",
      " 5   Date          51811 non-null  datetime64[ns]\n",
      " 6   Region        51811 non-null  object        \n",
      " 7   song_id       51811 non-null  object        \n",
      " 8   release_date  51811 non-null  datetime64[ns]\n",
      "dtypes: datetime64[ns](2), int64(2), object(5)\n",
      "memory usage: 4.0+ MB\n"
     ]
    }
   ],
   "source": [
    "release_ranking_df.info()"
   ]
  },
  {
   "cell_type": "code",
   "execution_count": 32,
   "metadata": {},
   "outputs": [],
   "source": [
    "song_ranking= ranking_df[ranking_df['song_id']=='3AEZUABDXNtecAOSC1qTfo']"
   ]
  },
  {
   "cell_type": "code",
   "execution_count": 33,
   "metadata": {
    "scrolled": true
   },
   "outputs": [],
   "source": [
    "dates=song_ranking.groupby('Region')['Date'].min().to_frame()"
   ]
  },
  {
   "cell_type": "code",
   "execution_count": 34,
   "metadata": {
    "scrolled": true
   },
   "outputs": [],
   "source": [
    "dates_sort=dates.sort_values('Date')"
   ]
  },
  {
   "cell_type": "code",
   "execution_count": 35,
   "metadata": {},
   "outputs": [],
   "source": [
    "dates_sort= dates_sort.reset_index().set_index('Date')"
   ]
  },
  {
   "cell_type": "code",
   "execution_count": 36,
   "metadata": {},
   "outputs": [
    {
     "data": {
      "text/html": [
       "<div>\n",
       "<style scoped>\n",
       "    .dataframe tbody tr th:only-of-type {\n",
       "        vertical-align: middle;\n",
       "    }\n",
       "\n",
       "    .dataframe tbody tr th {\n",
       "        vertical-align: top;\n",
       "    }\n",
       "\n",
       "    .dataframe thead th {\n",
       "        text-align: right;\n",
       "    }\n",
       "</style>\n",
       "<table border=\"1\" class=\"dataframe\">\n",
       "  <thead>\n",
       "    <tr style=\"text-align: right;\">\n",
       "      <th></th>\n",
       "      <th>Region</th>\n",
       "    </tr>\n",
       "    <tr>\n",
       "      <th>Date</th>\n",
       "      <th></th>\n",
       "    </tr>\n",
       "  </thead>\n",
       "  <tbody>\n",
       "    <tr>\n",
       "      <th>2017-01-01</th>\n",
       "      <td>Argentina</td>\n",
       "    </tr>\n",
       "    <tr>\n",
       "      <th>2017-01-01</th>\n",
       "      <td>Switzerland</td>\n",
       "    </tr>\n",
       "    <tr>\n",
       "      <th>2017-01-01</th>\n",
       "      <td>Spain</td>\n",
       "    </tr>\n",
       "    <tr>\n",
       "      <th>2017-01-01</th>\n",
       "      <td>Portugal</td>\n",
       "    </tr>\n",
       "    <tr>\n",
       "      <th>2017-01-01</th>\n",
       "      <td>Peru</td>\n",
       "    </tr>\n",
       "  </tbody>\n",
       "</table>\n",
       "</div>"
      ],
      "text/plain": [
       "                 Region\n",
       "Date                   \n",
       "2017-01-01    Argentina\n",
       "2017-01-01  Switzerland\n",
       "2017-01-01        Spain\n",
       "2017-01-01     Portugal\n",
       "2017-01-01         Peru"
      ]
     },
     "execution_count": 36,
     "metadata": {},
     "output_type": "execute_result"
    }
   ],
   "source": [
    "dates_sort.head()"
   ]
  },
  {
   "cell_type": "code",
   "execution_count": 37,
   "metadata": {},
   "outputs": [
    {
     "data": {
      "text/plain": [
       "array(['2017-01-01T00:00:00.000000000', '2017-01-02T00:00:00.000000000',\n",
       "       '2017-01-06T00:00:00.000000000', '2017-01-18T00:00:00.000000000',\n",
       "       '2017-01-22T00:00:00.000000000', '2017-01-23T00:00:00.000000000',\n",
       "       '2017-01-24T00:00:00.000000000', '2017-01-27T00:00:00.000000000'],\n",
       "      dtype='datetime64[ns]')"
      ]
     },
     "execution_count": 37,
     "metadata": {},
     "output_type": "execute_result"
    }
   ],
   "source": [
    "dates_lst=dates_sort.index.unique().values\n",
    "dates_lst"
   ]
  },
  {
   "cell_type": "code",
   "execution_count": 38,
   "metadata": {},
   "outputs": [
    {
     "data": {
      "text/plain": [
       "array(['2017-01-01T00:00:00.000000000', '2017-01-02T00:00:00.000000000',\n",
       "       '2017-01-06T00:00:00.000000000', '2017-01-18T00:00:00.000000000',\n",
       "       '2017-01-22T00:00:00.000000000', '2017-01-23T00:00:00.000000000',\n",
       "       '2017-01-24T00:00:00.000000000', '2017-01-27T00:00:00.000000000'],\n",
       "      dtype='datetime64[ns]')"
      ]
     },
     "execution_count": 38,
     "metadata": {},
     "output_type": "execute_result"
    }
   ],
   "source": [
    "dates_lst"
   ]
  },
  {
   "cell_type": "code",
   "execution_count": 39,
   "metadata": {},
   "outputs": [
    {
     "data": {
      "text/plain": [
       "[['Argentina', 'Poland'],\n",
       " ['Switzerland', 'Poland'],\n",
       " ['Spain', 'Poland'],\n",
       " ['Portugal', 'Poland'],\n",
       " ['Peru', 'Poland'],\n",
       " ['Paraguay', 'Poland'],\n",
       " ['Panama', 'Poland'],\n",
       " ['Mexico', 'Poland'],\n",
       " ['Japan', 'Poland'],\n",
       " ['Italy', 'Poland'],\n",
       " ['Uruguay', 'Poland'],\n",
       " ['Honduras', 'Poland'],\n",
       " ['World', 'Poland'],\n",
       " ['ElSalvador', 'Poland'],\n",
       " ['Ecuador', 'Poland'],\n",
       " ['DominicanRepublic', 'Poland'],\n",
       " ['CostaRica', 'Poland'],\n",
       " ['Columbia', 'Poland'],\n",
       " ['Chile', 'Poland'],\n",
       " ['Bolivia', 'Poland'],\n",
       " ['Guatemala', 'Poland'],\n",
       " ['Belgium', 'Austria'],\n",
       " ['Belgium', 'Netherlands'],\n",
       " ['Austria', 'Netherlands'],\n",
       " ['Netherlands', 'Singapore']]"
      ]
     },
     "execution_count": 39,
     "metadata": {},
     "output_type": "execute_result"
    }
   ],
   "source": [
    "influence_threshold = 3\n",
    "i_start = 0\n",
    "list_ = []\n",
    "if len(dates_lst)>= 2:\n",
    "    for i_start in range(0,len(dates_lst)):\n",
    "        do =dates_lst[i_start]\n",
    "        lo=dates_sort.loc[do].values\n",
    "        lo=np.array(lo).flatten()\n",
    "        \n",
    "        for i_end in range(i_start+1,len(dates_lst)):\n",
    "            de =dates_lst[i_end]\n",
    "            dif = int((de-do)/86400000000000)\n",
    "\n",
    "            if dif <= influence_threshold:\n",
    "                if dif>0:\n",
    "                    #print(\"comparamos\", dif, dates_lst[i_start], dates_lst[i_end])\n",
    "\n",
    "                    le=dates_sort.loc[de].values\n",
    "                    le=np.array(le).flatten()\n",
    "                    \n",
    "                    l =[[a,b] for a in lo for b in le]\n",
    "                    #print(l)\n",
    "                    list_ = list_+l\n",
    "list_"
   ]
  },
  {
   "cell_type": "code",
   "execution_count": 40,
   "metadata": {
    "scrolled": true
   },
   "outputs": [
    {
     "ename": "NameError",
     "evalue": "name 'd_o' is not defined",
     "output_type": "error",
     "traceback": [
      "\u001b[1;31m---------------------------------------------------------------------------\u001b[0m",
      "\u001b[1;31mNameError\u001b[0m                                 Traceback (most recent call last)",
      "\u001b[1;32m<ipython-input-40-bb26b06076c9>\u001b[0m in \u001b[0;36m<module>\u001b[1;34m\u001b[0m\n\u001b[0;32m      4\u001b[0m \u001b[1;32mif\u001b[0m \u001b[0mlen\u001b[0m\u001b[1;33m(\u001b[0m\u001b[0mdates_lst\u001b[0m\u001b[1;33m)\u001b[0m\u001b[1;33m>=\u001b[0m \u001b[1;36m2\u001b[0m\u001b[1;33m:\u001b[0m\u001b[1;33m\u001b[0m\u001b[1;33m\u001b[0m\u001b[0m\n\u001b[0;32m      5\u001b[0m     \u001b[1;31m#do =dates_lst[i_start]\u001b[0m\u001b[1;33m\u001b[0m\u001b[1;33m\u001b[0m\u001b[1;33m\u001b[0m\u001b[0m\n\u001b[1;32m----> 6\u001b[1;33m     \u001b[0ml\u001b[0m\u001b[1;33m=\u001b[0m\u001b[0mdates_sort\u001b[0m\u001b[1;33m.\u001b[0m\u001b[0mloc\u001b[0m\u001b[1;33m[\u001b[0m\u001b[0md_o\u001b[0m\u001b[1;33m]\u001b[0m\u001b[1;33m.\u001b[0m\u001b[0mvalues\u001b[0m\u001b[1;33m\u001b[0m\u001b[1;33m\u001b[0m\u001b[0m\n\u001b[0m\u001b[0;32m      7\u001b[0m     \u001b[0ml\u001b[0m\u001b[1;33m=\u001b[0m\u001b[0mnp\u001b[0m\u001b[1;33m.\u001b[0m\u001b[0marray\u001b[0m\u001b[1;33m(\u001b[0m\u001b[0ml\u001b[0m\u001b[1;33m)\u001b[0m\u001b[1;33m.\u001b[0m\u001b[0mflatten\u001b[0m\u001b[1;33m(\u001b[0m\u001b[1;33m)\u001b[0m\u001b[1;33m\u001b[0m\u001b[1;33m\u001b[0m\u001b[0m\n\u001b[0;32m      8\u001b[0m \u001b[1;33m\u001b[0m\u001b[0m\n",
      "\u001b[1;31mNameError\u001b[0m: name 'd_o' is not defined"
     ]
    }
   ],
   "source": [
    "influence_threshold = 2\n",
    "i_start = 0\n",
    "list_ = []\n",
    "if len(dates_lst)>= 2:\n",
    "    #do =dates_lst[i_start]\n",
    "    l=dates_sort.loc[d_o].values\n",
    "    l=np.array(l).flatten()\n",
    "    \n",
    "    i_end = i_start+1\n",
    "    while i_end < len(dates_lst):\n",
    "        do =dates_lst[i_start]\n",
    "        de =dates_lst[i_end]\n",
    "        dif = int((de-do)/86400000000000)\n",
    "        if dif <= influence_threshold:\n",
    "            if dif>0:\n",
    "                print(\"comparamos\", dif, dates_lst[i_start], dates_lst[i_end])\n",
    "                lo=dates_sort.loc[do].values\n",
    "                lo=np.array(lo).flatten()\n",
    "                \n",
    "                le=dates_sort.loc[de].values\n",
    "                le=np.array(le).flatten()\n",
    "                \n",
    "                l =[[a,b] for a in lo for b in le]\n",
    "                #print(l)\n",
    "                list_.append(l)\n",
    "                #print(list_)\n",
    "                    \n",
    "            i_end += 1\n",
    "        else:\n",
    "            print(\"fallo\", dif, dates_lst[i_start], dates_lst[i_end])\n",
    "\n",
    "            i_start +=1\n",
    "            print(\"avanzamos\", dif, dates_lst[i_start], dates_lst[i_end])\n",
    "list_"
   ]
  },
  {
   "cell_type": "code",
   "execution_count": null,
   "metadata": {
    "scrolled": false
   },
   "outputs": [],
   "source": [
    "if len(dates_lst)>= 2:\n",
    "    l=dates_sort.loc[dates_lst[0]].values\n",
    "    l=np.array(l).flatten()\n",
    "\n",
    "    len_=1\n",
    "    for d in tqdm(range(1,len(dates_lst))):\n",
    "        l2=dates_sort.loc[dates_lst[d]].values\n",
    "        l2=np.array(l2).flatten()\n",
    "        \n",
    "        if len_ < 2:\n",
    "            l=[[a,b] for a in l for b in l2]\n",
    "        else:\n",
    "            l=[a+[b] for a in l for b in l2]\n",
    "        len_+=1\n",
    "        \n",
    "l    "
   ]
  },
  {
   "cell_type": "code",
   "execution_count": null,
   "metadata": {
    "scrolled": true
   },
   "outputs": [],
   "source": [
    "l1=dates_sort.loc['2017-02-16'].values\n",
    "l1=np.array(l1).flatten()\n",
    "l1"
   ]
  },
  {
   "cell_type": "code",
   "execution_count": null,
   "metadata": {},
   "outputs": [],
   "source": [
    "l2=dates_sort.loc['2017-02-17'].values\n",
    "l2=np.array(l2).flatten()\n",
    "l2"
   ]
  },
  {
   "cell_type": "code",
   "execution_count": null,
   "metadata": {},
   "outputs": [],
   "source": [
    "l3=[(a,)+(b,) for a in l1 for b in l2]"
   ]
  },
  {
   "cell_type": "code",
   "execution_count": null,
   "metadata": {
    "scrolled": true
   },
   "outputs": [],
   "source": [
    "l3"
   ]
  },
  {
   "cell_type": "code",
   "execution_count": null,
   "metadata": {},
   "outputs": [],
   "source": [
    "l4=dates_sort.loc['2017-02-18'].values\n",
    "l4=np.array(l4).flatten()\n",
    "l4"
   ]
  },
  {
   "cell_type": "code",
   "execution_count": null,
   "metadata": {},
   "outputs": [],
   "source": [
    "l5=[a+(b,) for a in l3 for b in l4]"
   ]
  },
  {
   "cell_type": "code",
   "execution_count": null,
   "metadata": {},
   "outputs": [],
   "source": [
    "l5"
   ]
  },
  {
   "cell_type": "code",
   "execution_count": null,
   "metadata": {},
   "outputs": [],
   "source": [
    "len(dates)"
   ]
  },
  {
   "cell_type": "code",
   "execution_count": null,
   "metadata": {},
   "outputs": [],
   "source": [
    "dates.iloc[0]"
   ]
  },
  {
   "cell_type": "code",
   "execution_count": null,
   "metadata": {},
   "outputs": [],
   "source": [
    "for i in range(len(dates)):\n",
    "    c2,d1 = dates.iloc[i]\n",
    "    for j in range(i,len(dates)):\n",
    "        c2,d2= dates.iloc[]"
   ]
  },
  {
   "cell_type": "code",
   "execution_count": null,
   "metadata": {},
   "outputs": [],
   "source": [
    "song_ranking"
   ]
  },
  {
   "cell_type": "code",
   "execution_count": null,
   "metadata": {},
   "outputs": [],
   "source": [
    "from tqdm.notebook import tqdm"
   ]
  },
  {
   "cell_type": "code",
   "execution_count": null,
   "metadata": {
    "scrolled": true
   },
   "outputs": [],
   "source": [
    "white_list= []\n",
    "for song in tqdm(ranking_df['song_id'].unique()):\n",
    "    song_ranking= ranking_df[ranking_df['song_id']==song]\n",
    "    num_dates = song_ranking.groupby('Region')['Date'].min().nunique()\n",
    "    if num_dates >= 3:\n",
    "        white_list.append(song)\n",
    "    #print(song,song_ranking.groupby('Region')['Date'].min().nunique())"
   ]
  },
  {
   "cell_type": "code",
   "execution_count": null,
   "metadata": {},
   "outputs": [],
   "source": [
    "clean_ranking_df = ranking_df[ranking_df['song_id'].isin(white_list)]"
   ]
  },
  {
   "cell_type": "code",
   "execution_count": null,
   "metadata": {},
   "outputs": [],
   "source": [
    "clean_ranking_df.shape"
   ]
  },
  {
   "cell_type": "code",
   "execution_count": null,
   "metadata": {},
   "outputs": [],
   "source": [
    "clean_ranking_df.head()"
   ]
  }
 ],
 "metadata": {
  "kernelspec": {
   "display_name": "Python 3",
   "language": "python",
   "name": "python3"
  },
  "language_info": {
   "codemirror_mode": {
    "name": "ipython",
    "version": 3
   },
   "file_extension": ".py",
   "mimetype": "text/x-python",
   "name": "python",
   "nbconvert_exporter": "python",
   "pygments_lexer": "ipython3",
   "version": "3.8.5"
  }
 },
 "nbformat": 4,
 "nbformat_minor": 4
}
